{
 "cells": [
  {
   "cell_type": "code",
   "execution_count": 1,
   "metadata": {},
   "outputs": [],
   "source": [
    "import pandas as pd\n",
    "import matplotlib.pyplot as plt \n",
    "\n",
    "from scipy import stats as st\n",
    "import numpy as np"
   ]
  },
  {
   "cell_type": "code",
   "execution_count": 2,
   "metadata": {},
   "outputs": [],
   "source": [
    "calls=pd.read_csv('/datasets/calls.csv')\n",
    "internet=pd.read_csv('/datasets/internet.csv')\n",
    "messages=pd.read_csv('/datasets/messages.csv')\n",
    "tariffs=pd.read_csv('/datasets/tariffs.csv')\n",
    "users=pd.read_csv('/datasets/users.csv')"
   ]
  },
  {
   "cell_type": "markdown",
   "metadata": {},
   "source": [
    "### Подготовка данных"
   ]
  },
  {
   "cell_type": "code",
   "execution_count": 3,
   "metadata": {},
   "outputs": [
    {
     "data": {
      "text/html": [
       "<div>\n",
       "<style scoped>\n",
       "    .dataframe tbody tr th:only-of-type {\n",
       "        vertical-align: middle;\n",
       "    }\n",
       "\n",
       "    .dataframe tbody tr th {\n",
       "        vertical-align: top;\n",
       "    }\n",
       "\n",
       "    .dataframe thead th {\n",
       "        text-align: right;\n",
       "    }\n",
       "</style>\n",
       "<table border=\"1\" class=\"dataframe\">\n",
       "  <thead>\n",
       "    <tr style=\"text-align: right;\">\n",
       "      <th></th>\n",
       "      <th>id</th>\n",
       "      <th>call_date</th>\n",
       "      <th>duration</th>\n",
       "      <th>user_id</th>\n",
       "    </tr>\n",
       "  </thead>\n",
       "  <tbody>\n",
       "    <tr>\n",
       "      <td>0</td>\n",
       "      <td>1000_0</td>\n",
       "      <td>2018-07-25</td>\n",
       "      <td>0.00</td>\n",
       "      <td>1000</td>\n",
       "    </tr>\n",
       "    <tr>\n",
       "      <td>1</td>\n",
       "      <td>1000_1</td>\n",
       "      <td>2018-08-17</td>\n",
       "      <td>0.00</td>\n",
       "      <td>1000</td>\n",
       "    </tr>\n",
       "    <tr>\n",
       "      <td>2</td>\n",
       "      <td>1000_2</td>\n",
       "      <td>2018-06-11</td>\n",
       "      <td>2.85</td>\n",
       "      <td>1000</td>\n",
       "    </tr>\n",
       "    <tr>\n",
       "      <td>3</td>\n",
       "      <td>1000_3</td>\n",
       "      <td>2018-09-21</td>\n",
       "      <td>13.80</td>\n",
       "      <td>1000</td>\n",
       "    </tr>\n",
       "    <tr>\n",
       "      <td>4</td>\n",
       "      <td>1000_4</td>\n",
       "      <td>2018-12-15</td>\n",
       "      <td>5.18</td>\n",
       "      <td>1000</td>\n",
       "    </tr>\n",
       "  </tbody>\n",
       "</table>\n",
       "</div>"
      ],
      "text/plain": [
       "       id   call_date  duration  user_id\n",
       "0  1000_0  2018-07-25      0.00     1000\n",
       "1  1000_1  2018-08-17      0.00     1000\n",
       "2  1000_2  2018-06-11      2.85     1000\n",
       "3  1000_3  2018-09-21     13.80     1000\n",
       "4  1000_4  2018-12-15      5.18     1000"
      ]
     },
     "execution_count": 3,
     "metadata": {},
     "output_type": "execute_result"
    }
   ],
   "source": [
    "calls.head()"
   ]
  },
  {
   "cell_type": "code",
   "execution_count": 4,
   "metadata": {},
   "outputs": [
    {
     "name": "stdout",
     "output_type": "stream",
     "text": [
      "<class 'pandas.core.frame.DataFrame'>\n",
      "RangeIndex: 202607 entries, 0 to 202606\n",
      "Data columns (total 4 columns):\n",
      "id           202607 non-null object\n",
      "call_date    202607 non-null object\n",
      "duration     202607 non-null float64\n",
      "user_id      202607 non-null int64\n",
      "dtypes: float64(1), int64(1), object(2)\n",
      "memory usage: 6.2+ MB\n"
     ]
    }
   ],
   "source": [
    "calls.info()"
   ]
  },
  {
   "cell_type": "markdown",
   "metadata": {},
   "source": [
    "В таблице \"Звонки\" у нас есть нулевые звонки - по условию задачи это не ошибка: нулями обозначены пропущенные звонки, поэтому их не нужно удалять.\n",
    "переведем столбец \"call_date\" к типу дата\n",
    "\n",
    "нам нужно округлить данные по звонкам до целых значений в соответствии с тарифными  условиями"
   ]
  },
  {
   "cell_type": "code",
   "execution_count": 5,
   "metadata": {},
   "outputs": [
    {
     "data": {
      "text/html": [
       "<div>\n",
       "<style scoped>\n",
       "    .dataframe tbody tr th:only-of-type {\n",
       "        vertical-align: middle;\n",
       "    }\n",
       "\n",
       "    .dataframe tbody tr th {\n",
       "        vertical-align: top;\n",
       "    }\n",
       "\n",
       "    .dataframe thead th {\n",
       "        text-align: right;\n",
       "    }\n",
       "</style>\n",
       "<table border=\"1\" class=\"dataframe\">\n",
       "  <thead>\n",
       "    <tr style=\"text-align: right;\">\n",
       "      <th></th>\n",
       "      <th>id</th>\n",
       "      <th>call_date</th>\n",
       "      <th>duration</th>\n",
       "      <th>user_id</th>\n",
       "    </tr>\n",
       "  </thead>\n",
       "  <tbody>\n",
       "    <tr>\n",
       "      <td>0</td>\n",
       "      <td>1000_0</td>\n",
       "      <td>2018-07-25</td>\n",
       "      <td>0.0</td>\n",
       "      <td>1000</td>\n",
       "    </tr>\n",
       "    <tr>\n",
       "      <td>1</td>\n",
       "      <td>1000_1</td>\n",
       "      <td>2018-08-17</td>\n",
       "      <td>0.0</td>\n",
       "      <td>1000</td>\n",
       "    </tr>\n",
       "    <tr>\n",
       "      <td>2</td>\n",
       "      <td>1000_2</td>\n",
       "      <td>2018-06-11</td>\n",
       "      <td>3.0</td>\n",
       "      <td>1000</td>\n",
       "    </tr>\n",
       "    <tr>\n",
       "      <td>3</td>\n",
       "      <td>1000_3</td>\n",
       "      <td>2018-09-21</td>\n",
       "      <td>14.0</td>\n",
       "      <td>1000</td>\n",
       "    </tr>\n",
       "    <tr>\n",
       "      <td>4</td>\n",
       "      <td>1000_4</td>\n",
       "      <td>2018-12-15</td>\n",
       "      <td>6.0</td>\n",
       "      <td>1000</td>\n",
       "    </tr>\n",
       "  </tbody>\n",
       "</table>\n",
       "</div>"
      ],
      "text/plain": [
       "       id  call_date  duration  user_id\n",
       "0  1000_0 2018-07-25       0.0     1000\n",
       "1  1000_1 2018-08-17       0.0     1000\n",
       "2  1000_2 2018-06-11       3.0     1000\n",
       "3  1000_3 2018-09-21      14.0     1000\n",
       "4  1000_4 2018-12-15       6.0     1000"
      ]
     },
     "execution_count": 5,
     "metadata": {},
     "output_type": "execute_result"
    }
   ],
   "source": [
    "calls['call_date']=pd.to_datetime(calls['call_date'])\n",
    "calls['duration'] = np.ceil(calls['duration'])\n",
    "calls.head()"
   ]
  },
  {
   "cell_type": "code",
   "execution_count": 6,
   "metadata": {},
   "outputs": [
    {
     "name": "stdout",
     "output_type": "stream",
     "text": [
      "<class 'pandas.core.frame.DataFrame'>\n",
      "RangeIndex: 202607 entries, 0 to 202606\n",
      "Data columns (total 4 columns):\n",
      "id           202607 non-null object\n",
      "call_date    202607 non-null datetime64[ns]\n",
      "duration     202607 non-null float64\n",
      "user_id      202607 non-null int64\n",
      "dtypes: datetime64[ns](1), float64(1), int64(1), object(1)\n",
      "memory usage: 6.2+ MB\n"
     ]
    }
   ],
   "source": [
    "calls.info()"
   ]
  },
  {
   "cell_type": "code",
   "execution_count": 7,
   "metadata": {},
   "outputs": [
    {
     "name": "stdout",
     "output_type": "stream",
     "text": [
      "<class 'pandas.core.frame.DataFrame'>\n",
      "RangeIndex: 149396 entries, 0 to 149395\n",
      "Data columns (total 5 columns):\n",
      "Unnamed: 0      149396 non-null int64\n",
      "id              149396 non-null object\n",
      "mb_used         149396 non-null float64\n",
      "session_date    149396 non-null object\n",
      "user_id         149396 non-null int64\n",
      "dtypes: float64(1), int64(2), object(2)\n",
      "memory usage: 5.7+ MB\n"
     ]
    }
   ],
   "source": [
    "internet.info()"
   ]
  },
  {
   "cell_type": "code",
   "execution_count": 8,
   "metadata": {},
   "outputs": [],
   "source": [
    "internet['session_date']=pd.to_datetime(internet['session_date'])"
   ]
  },
  {
   "cell_type": "code",
   "execution_count": 9,
   "metadata": {},
   "outputs": [
    {
     "name": "stdout",
     "output_type": "stream",
     "text": [
      "<class 'pandas.core.frame.DataFrame'>\n",
      "RangeIndex: 123036 entries, 0 to 123035\n",
      "Data columns (total 3 columns):\n",
      "id              123036 non-null object\n",
      "message_date    123036 non-null object\n",
      "user_id         123036 non-null int64\n",
      "dtypes: int64(1), object(2)\n",
      "memory usage: 2.8+ MB\n"
     ]
    }
   ],
   "source": [
    "messages.info()"
   ]
  },
  {
   "cell_type": "code",
   "execution_count": 10,
   "metadata": {},
   "outputs": [],
   "source": [
    "messages['message_date']=pd.to_datetime(messages['message_date'])"
   ]
  },
  {
   "cell_type": "code",
   "execution_count": 11,
   "metadata": {},
   "outputs": [
    {
     "name": "stdout",
     "output_type": "stream",
     "text": [
      "<class 'pandas.core.frame.DataFrame'>\n",
      "RangeIndex: 2 entries, 0 to 1\n",
      "Data columns (total 8 columns):\n",
      "messages_included        2 non-null int64\n",
      "mb_per_month_included    2 non-null int64\n",
      "minutes_included         2 non-null int64\n",
      "rub_monthly_fee          2 non-null int64\n",
      "rub_per_gb               2 non-null int64\n",
      "rub_per_message          2 non-null int64\n",
      "rub_per_minute           2 non-null int64\n",
      "tariff_name              2 non-null object\n",
      "dtypes: int64(7), object(1)\n",
      "memory usage: 256.0+ bytes\n"
     ]
    }
   ],
   "source": [
    "tariffs.info()"
   ]
  },
  {
   "cell_type": "code",
   "execution_count": 12,
   "metadata": {},
   "outputs": [
    {
     "data": {
      "text/html": [
       "<div>\n",
       "<style scoped>\n",
       "    .dataframe tbody tr th:only-of-type {\n",
       "        vertical-align: middle;\n",
       "    }\n",
       "\n",
       "    .dataframe tbody tr th {\n",
       "        vertical-align: top;\n",
       "    }\n",
       "\n",
       "    .dataframe thead th {\n",
       "        text-align: right;\n",
       "    }\n",
       "</style>\n",
       "<table border=\"1\" class=\"dataframe\">\n",
       "  <thead>\n",
       "    <tr style=\"text-align: right;\">\n",
       "      <th></th>\n",
       "      <th>messages_included</th>\n",
       "      <th>mb_per_month_included</th>\n",
       "      <th>minutes_included</th>\n",
       "      <th>rub_monthly_fee</th>\n",
       "      <th>rub_per_gb</th>\n",
       "      <th>rub_per_message</th>\n",
       "      <th>rub_per_minute</th>\n",
       "      <th>tariff_name</th>\n",
       "    </tr>\n",
       "  </thead>\n",
       "  <tbody>\n",
       "    <tr>\n",
       "      <td>0</td>\n",
       "      <td>50</td>\n",
       "      <td>15360</td>\n",
       "      <td>500</td>\n",
       "      <td>550</td>\n",
       "      <td>200</td>\n",
       "      <td>3</td>\n",
       "      <td>3</td>\n",
       "      <td>smart</td>\n",
       "    </tr>\n",
       "    <tr>\n",
       "      <td>1</td>\n",
       "      <td>1000</td>\n",
       "      <td>30720</td>\n",
       "      <td>3000</td>\n",
       "      <td>1950</td>\n",
       "      <td>150</td>\n",
       "      <td>1</td>\n",
       "      <td>1</td>\n",
       "      <td>ultra</td>\n",
       "    </tr>\n",
       "  </tbody>\n",
       "</table>\n",
       "</div>"
      ],
      "text/plain": [
       "   messages_included  mb_per_month_included  minutes_included  \\\n",
       "0                 50                  15360               500   \n",
       "1               1000                  30720              3000   \n",
       "\n",
       "   rub_monthly_fee  rub_per_gb  rub_per_message  rub_per_minute tariff_name  \n",
       "0              550         200                3               3       smart  \n",
       "1             1950         150                1               1       ultra  "
      ]
     },
     "execution_count": 12,
     "metadata": {},
     "output_type": "execute_result"
    }
   ],
   "source": [
    "tariffs.head()"
   ]
  },
  {
   "cell_type": "code",
   "execution_count": 13,
   "metadata": {},
   "outputs": [
    {
     "name": "stdout",
     "output_type": "stream",
     "text": [
      "<class 'pandas.core.frame.DataFrame'>\n",
      "RangeIndex: 500 entries, 0 to 499\n",
      "Data columns (total 8 columns):\n",
      "user_id       500 non-null int64\n",
      "age           500 non-null int64\n",
      "churn_date    38 non-null object\n",
      "city          500 non-null object\n",
      "first_name    500 non-null object\n",
      "last_name     500 non-null object\n",
      "reg_date      500 non-null object\n",
      "tariff        500 non-null object\n",
      "dtypes: int64(2), object(6)\n",
      "memory usage: 31.4+ KB\n"
     ]
    }
   ],
   "source": [
    "users.info()"
   ]
  },
  {
   "cell_type": "code",
   "execution_count": 14,
   "metadata": {},
   "outputs": [
    {
     "data": {
      "text/plain": [
       "116616       0.00\n",
       "53410        0.00\n",
       "104303       0.00\n",
       "19438        0.00\n",
       "19437        0.00\n",
       "           ...   \n",
       "140299    1623.92\n",
       "103480    1651.25\n",
       "7063      1651.55\n",
       "119156    1702.75\n",
       "137493    1724.83\n",
       "Name: mb_used, Length: 149396, dtype: float64"
      ]
     },
     "execution_count": 14,
     "metadata": {},
     "output_type": "execute_result"
    }
   ],
   "source": [
    "internet['mb_used'].sort_values()\n",
    "\n",
    "\n"
   ]
  },
  {
   "cell_type": "code",
   "execution_count": 15,
   "metadata": {},
   "outputs": [
    {
     "data": {
      "text/plain": [
       "<matplotlib.axes._subplots.AxesSubplot at 0x7fd5eb5d3fd0>"
      ]
     },
     "execution_count": 15,
     "metadata": {},
     "output_type": "execute_result"
    },
    {
     "data": {
      "image/png": "[encoded data removed]",
      "text/plain": [
       "<Figure size 432x288 with 1 Axes>"
      ]
     },
     "metadata": {
      "needs_background": "light"
     },
     "output_type": "display_data"
    }
   ],
   "source": [
    "internet['mb_used'].hist(bins=10)"
   ]
  },
  {
   "cell_type": "markdown",
   "metadata": {},
   "source": [
    "мы видим аномилию по 0 трафику интернета. Распределение не похоже на нормальное. Возможно эта аномилия, а возмонжо что это пользователи, которые не смогли войти в сеть (неудачные попытки)  Такое тоже возможно. \n",
    "\n",
    "Далее необъодимо сформировать общий датасет. Смерджить все( \n",
    "Попробуем такую логику: \n",
    "сгруппируем таблицы calls, internet и messages по id пользователя и месяцу \n",
    "\n",
    "потом объединим их между собой и таблицами users и tariffs"
   ]
  },
  {
   "cell_type": "code",
   "execution_count": 16,
   "metadata": {},
   "outputs": [],
   "source": [
    "calls['month']=pd.DatetimeIndex(calls['call_date']).month"
   ]
  },
  {
   "cell_type": "code",
   "execution_count": 17,
   "metadata": {},
   "outputs": [
    {
     "data": {
      "text/html": [
       "<div>\n",
       "<style scoped>\n",
       "    .dataframe tbody tr th:only-of-type {\n",
       "        vertical-align: middle;\n",
       "    }\n",
       "\n",
       "    .dataframe tbody tr th {\n",
       "        vertical-align: top;\n",
       "    }\n",
       "\n",
       "    .dataframe thead th {\n",
       "        text-align: right;\n",
       "    }\n",
       "</style>\n",
       "<table border=\"1\" class=\"dataframe\">\n",
       "  <thead>\n",
       "    <tr style=\"text-align: right;\">\n",
       "      <th></th>\n",
       "      <th>user_id</th>\n",
       "      <th>month</th>\n",
       "      <th>duration</th>\n",
       "    </tr>\n",
       "  </thead>\n",
       "  <tbody>\n",
       "    <tr>\n",
       "      <td>0</td>\n",
       "      <td>1000</td>\n",
       "      <td>5</td>\n",
       "      <td>159.0</td>\n",
       "    </tr>\n",
       "    <tr>\n",
       "      <td>1</td>\n",
       "      <td>1000</td>\n",
       "      <td>6</td>\n",
       "      <td>172.0</td>\n",
       "    </tr>\n",
       "    <tr>\n",
       "      <td>2</td>\n",
       "      <td>1000</td>\n",
       "      <td>7</td>\n",
       "      <td>340.0</td>\n",
       "    </tr>\n",
       "    <tr>\n",
       "      <td>3</td>\n",
       "      <td>1000</td>\n",
       "      <td>8</td>\n",
       "      <td>408.0</td>\n",
       "    </tr>\n",
       "    <tr>\n",
       "      <td>4</td>\n",
       "      <td>1000</td>\n",
       "      <td>9</td>\n",
       "      <td>466.0</td>\n",
       "    </tr>\n",
       "  </tbody>\n",
       "</table>\n",
       "</div>"
      ],
      "text/plain": [
       "   user_id  month  duration\n",
       "0     1000      5     159.0\n",
       "1     1000      6     172.0\n",
       "2     1000      7     340.0\n",
       "3     1000      8     408.0\n",
       "4     1000      9     466.0"
      ]
     },
     "execution_count": 17,
     "metadata": {},
     "output_type": "execute_result"
    }
   ],
   "source": [
    "calls=calls.groupby(['user_id', 'month']).agg({'duration': 'sum'}).reset_index()\n",
    "calls.head()"
   ]
  },
  {
   "cell_type": "code",
   "execution_count": 18,
   "metadata": {},
   "outputs": [],
   "source": [
    "internet['month']=pd.DatetimeIndex(internet['session_date']).month\n",
    "\n",
    "\n",
    "internet=internet.groupby(['user_id', 'month']).agg({'mb_used': 'sum'}).reset_index()\n"
   ]
  },
  {
   "cell_type": "code",
   "execution_count": 19,
   "metadata": {},
   "outputs": [
    {
     "data": {
      "text/html": [
       "<div>\n",
       "<style scoped>\n",
       "    .dataframe tbody tr th:only-of-type {\n",
       "        vertical-align: middle;\n",
       "    }\n",
       "\n",
       "    .dataframe tbody tr th {\n",
       "        vertical-align: top;\n",
       "    }\n",
       "\n",
       "    .dataframe thead th {\n",
       "        text-align: right;\n",
       "    }\n",
       "</style>\n",
       "<table border=\"1\" class=\"dataframe\">\n",
       "  <thead>\n",
       "    <tr style=\"text-align: right;\">\n",
       "      <th></th>\n",
       "      <th>user_id</th>\n",
       "      <th>month</th>\n",
       "      <th>mb_used</th>\n",
       "    </tr>\n",
       "  </thead>\n",
       "  <tbody>\n",
       "    <tr>\n",
       "      <td>0</td>\n",
       "      <td>1000</td>\n",
       "      <td>5</td>\n",
       "      <td>2253.49</td>\n",
       "    </tr>\n",
       "    <tr>\n",
       "      <td>1</td>\n",
       "      <td>1000</td>\n",
       "      <td>6</td>\n",
       "      <td>23233.77</td>\n",
       "    </tr>\n",
       "    <tr>\n",
       "      <td>2</td>\n",
       "      <td>1000</td>\n",
       "      <td>7</td>\n",
       "      <td>14003.64</td>\n",
       "    </tr>\n",
       "    <tr>\n",
       "      <td>3</td>\n",
       "      <td>1000</td>\n",
       "      <td>8</td>\n",
       "      <td>14055.93</td>\n",
       "    </tr>\n",
       "    <tr>\n",
       "      <td>4</td>\n",
       "      <td>1000</td>\n",
       "      <td>9</td>\n",
       "      <td>14568.91</td>\n",
       "    </tr>\n",
       "    <tr>\n",
       "      <td>5</td>\n",
       "      <td>1000</td>\n",
       "      <td>10</td>\n",
       "      <td>14702.49</td>\n",
       "    </tr>\n",
       "    <tr>\n",
       "      <td>6</td>\n",
       "      <td>1000</td>\n",
       "      <td>11</td>\n",
       "      <td>14756.47</td>\n",
       "    </tr>\n",
       "    <tr>\n",
       "      <td>7</td>\n",
       "      <td>1000</td>\n",
       "      <td>12</td>\n",
       "      <td>9817.61</td>\n",
       "    </tr>\n",
       "    <tr>\n",
       "      <td>8</td>\n",
       "      <td>1001</td>\n",
       "      <td>11</td>\n",
       "      <td>18429.34</td>\n",
       "    </tr>\n",
       "    <tr>\n",
       "      <td>9</td>\n",
       "      <td>1001</td>\n",
       "      <td>12</td>\n",
       "      <td>14036.66</td>\n",
       "    </tr>\n",
       "  </tbody>\n",
       "</table>\n",
       "</div>"
      ],
      "text/plain": [
       "   user_id  month   mb_used\n",
       "0     1000      5   2253.49\n",
       "1     1000      6  23233.77\n",
       "2     1000      7  14003.64\n",
       "3     1000      8  14055.93\n",
       "4     1000      9  14568.91\n",
       "5     1000     10  14702.49\n",
       "6     1000     11  14756.47\n",
       "7     1000     12   9817.61\n",
       "8     1001     11  18429.34\n",
       "9     1001     12  14036.66"
      ]
     },
     "execution_count": 19,
     "metadata": {},
     "output_type": "execute_result"
    }
   ],
   "source": [
    "internet.head(10)"
   ]
  },
  {
   "cell_type": "code",
   "execution_count": 20,
   "metadata": {},
   "outputs": [],
   "source": [
    "messages['month']=pd.DatetimeIndex(messages['message_date']).month"
   ]
  },
  {
   "cell_type": "code",
   "execution_count": 21,
   "metadata": {},
   "outputs": [],
   "source": [
    "\n",
    "messages=messages.groupby(['user_id', 'month']).agg({'id': 'count'}).reset_index()\n"
   ]
  },
  {
   "cell_type": "code",
   "execution_count": 22,
   "metadata": {},
   "outputs": [
    {
     "data": {
      "text/html": [
       "<div>\n",
       "<style scoped>\n",
       "    .dataframe tbody tr th:only-of-type {\n",
       "        vertical-align: middle;\n",
       "    }\n",
       "\n",
       "    .dataframe tbody tr th {\n",
       "        vertical-align: top;\n",
       "    }\n",
       "\n",
       "    .dataframe thead th {\n",
       "        text-align: right;\n",
       "    }\n",
       "</style>\n",
       "<table border=\"1\" class=\"dataframe\">\n",
       "  <thead>\n",
       "    <tr style=\"text-align: right;\">\n",
       "      <th></th>\n",
       "      <th>user_id</th>\n",
       "      <th>month</th>\n",
       "      <th>id</th>\n",
       "    </tr>\n",
       "  </thead>\n",
       "  <tbody>\n",
       "    <tr>\n",
       "      <td>0</td>\n",
       "      <td>1000</td>\n",
       "      <td>5</td>\n",
       "      <td>22</td>\n",
       "    </tr>\n",
       "    <tr>\n",
       "      <td>1</td>\n",
       "      <td>1000</td>\n",
       "      <td>6</td>\n",
       "      <td>60</td>\n",
       "    </tr>\n",
       "    <tr>\n",
       "      <td>2</td>\n",
       "      <td>1000</td>\n",
       "      <td>7</td>\n",
       "      <td>75</td>\n",
       "    </tr>\n",
       "    <tr>\n",
       "      <td>3</td>\n",
       "      <td>1000</td>\n",
       "      <td>8</td>\n",
       "      <td>81</td>\n",
       "    </tr>\n",
       "    <tr>\n",
       "      <td>4</td>\n",
       "      <td>1000</td>\n",
       "      <td>9</td>\n",
       "      <td>57</td>\n",
       "    </tr>\n",
       "  </tbody>\n",
       "</table>\n",
       "</div>"
      ],
      "text/plain": [
       "   user_id  month  id\n",
       "0     1000      5  22\n",
       "1     1000      6  60\n",
       "2     1000      7  75\n",
       "3     1000      8  81\n",
       "4     1000      9  57"
      ]
     },
     "execution_count": 22,
     "metadata": {},
     "output_type": "execute_result"
    }
   ],
   "source": [
    "messages.head()"
   ]
  },
  {
   "cell_type": "code",
   "execution_count": 23,
   "metadata": {},
   "outputs": [
    {
     "data": {
      "text/html": [
       "<div>\n",
       "<style scoped>\n",
       "    .dataframe tbody tr th:only-of-type {\n",
       "        vertical-align: middle;\n",
       "    }\n",
       "\n",
       "    .dataframe tbody tr th {\n",
       "        vertical-align: top;\n",
       "    }\n",
       "\n",
       "    .dataframe thead th {\n",
       "        text-align: right;\n",
       "    }\n",
       "</style>\n",
       "<table border=\"1\" class=\"dataframe\">\n",
       "  <thead>\n",
       "    <tr style=\"text-align: right;\">\n",
       "      <th></th>\n",
       "      <th>user_id</th>\n",
       "      <th>month</th>\n",
       "      <th>duration</th>\n",
       "    </tr>\n",
       "  </thead>\n",
       "  <tbody>\n",
       "    <tr>\n",
       "      <td>0</td>\n",
       "      <td>1000</td>\n",
       "      <td>5</td>\n",
       "      <td>159.0</td>\n",
       "    </tr>\n",
       "    <tr>\n",
       "      <td>1</td>\n",
       "      <td>1000</td>\n",
       "      <td>6</td>\n",
       "      <td>172.0</td>\n",
       "    </tr>\n",
       "    <tr>\n",
       "      <td>2</td>\n",
       "      <td>1000</td>\n",
       "      <td>7</td>\n",
       "      <td>340.0</td>\n",
       "    </tr>\n",
       "    <tr>\n",
       "      <td>3</td>\n",
       "      <td>1000</td>\n",
       "      <td>8</td>\n",
       "      <td>408.0</td>\n",
       "    </tr>\n",
       "    <tr>\n",
       "      <td>4</td>\n",
       "      <td>1000</td>\n",
       "      <td>9</td>\n",
       "      <td>466.0</td>\n",
       "    </tr>\n",
       "    <tr>\n",
       "      <td>5</td>\n",
       "      <td>1000</td>\n",
       "      <td>10</td>\n",
       "      <td>350.0</td>\n",
       "    </tr>\n",
       "    <tr>\n",
       "      <td>6</td>\n",
       "      <td>1000</td>\n",
       "      <td>11</td>\n",
       "      <td>338.0</td>\n",
       "    </tr>\n",
       "    <tr>\n",
       "      <td>7</td>\n",
       "      <td>1000</td>\n",
       "      <td>12</td>\n",
       "      <td>333.0</td>\n",
       "    </tr>\n",
       "    <tr>\n",
       "      <td>8</td>\n",
       "      <td>1001</td>\n",
       "      <td>11</td>\n",
       "      <td>430.0</td>\n",
       "    </tr>\n",
       "    <tr>\n",
       "      <td>9</td>\n",
       "      <td>1001</td>\n",
       "      <td>12</td>\n",
       "      <td>414.0</td>\n",
       "    </tr>\n",
       "  </tbody>\n",
       "</table>\n",
       "</div>"
      ],
      "text/plain": [
       "   user_id  month  duration\n",
       "0     1000      5     159.0\n",
       "1     1000      6     172.0\n",
       "2     1000      7     340.0\n",
       "3     1000      8     408.0\n",
       "4     1000      9     466.0\n",
       "5     1000     10     350.0\n",
       "6     1000     11     338.0\n",
       "7     1000     12     333.0\n",
       "8     1001     11     430.0\n",
       "9     1001     12     414.0"
      ]
     },
     "execution_count": 23,
     "metadata": {},
     "output_type": "execute_result"
    }
   ],
   "source": [
    "calls.head(10)"
   ]
  },
  {
   "cell_type": "code",
   "execution_count": 24,
   "metadata": {},
   "outputs": [],
   "source": [
    "data= calls.merge(messages, on =['user_id','month'], how = 'outer')\n",
    "data=data.merge(internet, on =['user_id','month'], how = 'outer')\n",
    "\n",
    "data=data.merge(calls, on =['user_id','month'], how = 'outer')\n",
    "data=data.rename(columns={'user_id': 'user_id','month':'month', 'duration_x':'duration_call', 'id': 'messages', 'mb_used':'mb_used', 'duration_y':'duration_y'})"
   ]
  },
  {
   "cell_type": "code",
   "execution_count": 25,
   "metadata": {},
   "outputs": [
    {
     "data": {
      "text/plain": [
       "1450301.0"
      ]
     },
     "execution_count": 25,
     "metadata": {},
     "output_type": "execute_result"
    }
   ],
   "source": [
    "data['duration_call'].sum()"
   ]
  },
  {
   "cell_type": "code",
   "execution_count": 26,
   "metadata": {},
   "outputs": [
    {
     "data": {
      "text/plain": [
       "1450301.0"
      ]
     },
     "execution_count": 26,
     "metadata": {},
     "output_type": "execute_result"
    }
   ],
   "source": [
    "calls['duration'].sum()"
   ]
  },
  {
   "cell_type": "markdown",
   "metadata": {},
   "source": [
    "Вывод: данные после объединения не потерляись) "
   ]
  },
  {
   "cell_type": "code",
   "execution_count": 27,
   "metadata": {},
   "outputs": [
    {
     "data": {
      "text/html": [
       "<div>\n",
       "<style scoped>\n",
       "    .dataframe tbody tr th:only-of-type {\n",
       "        vertical-align: middle;\n",
       "    }\n",
       "\n",
       "    .dataframe tbody tr th {\n",
       "        vertical-align: top;\n",
       "    }\n",
       "\n",
       "    .dataframe thead th {\n",
       "        text-align: right;\n",
       "    }\n",
       "</style>\n",
       "<table border=\"1\" class=\"dataframe\">\n",
       "  <thead>\n",
       "    <tr style=\"text-align: right;\">\n",
       "      <th></th>\n",
       "      <th>index</th>\n",
       "      <th>user_id</th>\n",
       "      <th>month</th>\n",
       "      <th>duration_call</th>\n",
       "      <th>messages</th>\n",
       "      <th>mb_used</th>\n",
       "      <th>duration_y</th>\n",
       "      <th>age</th>\n",
       "      <th>churn_date</th>\n",
       "      <th>city</th>\n",
       "      <th>...</th>\n",
       "      <th>last_name</th>\n",
       "      <th>reg_date</th>\n",
       "      <th>tariff_name</th>\n",
       "      <th>messages_included</th>\n",
       "      <th>mb_per_month_included</th>\n",
       "      <th>minutes_included</th>\n",
       "      <th>rub_monthly_fee</th>\n",
       "      <th>rub_per_gb</th>\n",
       "      <th>rub_per_message</th>\n",
       "      <th>rub_per_minute</th>\n",
       "    </tr>\n",
       "  </thead>\n",
       "  <tbody>\n",
       "    <tr>\n",
       "      <td>0</td>\n",
       "      <td>0</td>\n",
       "      <td>1000</td>\n",
       "      <td>5.0</td>\n",
       "      <td>159.0</td>\n",
       "      <td>22.0</td>\n",
       "      <td>2253.49</td>\n",
       "      <td>159.0</td>\n",
       "      <td>52</td>\n",
       "      <td>NaN</td>\n",
       "      <td>Краснодар</td>\n",
       "      <td>...</td>\n",
       "      <td>Верещагин</td>\n",
       "      <td>2018-05-25</td>\n",
       "      <td>ultra</td>\n",
       "      <td>1000</td>\n",
       "      <td>30720</td>\n",
       "      <td>3000</td>\n",
       "      <td>1950</td>\n",
       "      <td>150</td>\n",
       "      <td>1</td>\n",
       "      <td>1</td>\n",
       "    </tr>\n",
       "    <tr>\n",
       "      <td>1</td>\n",
       "      <td>1</td>\n",
       "      <td>1000</td>\n",
       "      <td>6.0</td>\n",
       "      <td>172.0</td>\n",
       "      <td>60.0</td>\n",
       "      <td>23233.77</td>\n",
       "      <td>172.0</td>\n",
       "      <td>52</td>\n",
       "      <td>NaN</td>\n",
       "      <td>Краснодар</td>\n",
       "      <td>...</td>\n",
       "      <td>Верещагин</td>\n",
       "      <td>2018-05-25</td>\n",
       "      <td>ultra</td>\n",
       "      <td>1000</td>\n",
       "      <td>30720</td>\n",
       "      <td>3000</td>\n",
       "      <td>1950</td>\n",
       "      <td>150</td>\n",
       "      <td>1</td>\n",
       "      <td>1</td>\n",
       "    </tr>\n",
       "    <tr>\n",
       "      <td>2</td>\n",
       "      <td>2</td>\n",
       "      <td>1000</td>\n",
       "      <td>7.0</td>\n",
       "      <td>340.0</td>\n",
       "      <td>75.0</td>\n",
       "      <td>14003.64</td>\n",
       "      <td>340.0</td>\n",
       "      <td>52</td>\n",
       "      <td>NaN</td>\n",
       "      <td>Краснодар</td>\n",
       "      <td>...</td>\n",
       "      <td>Верещагин</td>\n",
       "      <td>2018-05-25</td>\n",
       "      <td>ultra</td>\n",
       "      <td>1000</td>\n",
       "      <td>30720</td>\n",
       "      <td>3000</td>\n",
       "      <td>1950</td>\n",
       "      <td>150</td>\n",
       "      <td>1</td>\n",
       "      <td>1</td>\n",
       "    </tr>\n",
       "    <tr>\n",
       "      <td>3</td>\n",
       "      <td>3</td>\n",
       "      <td>1000</td>\n",
       "      <td>8.0</td>\n",
       "      <td>408.0</td>\n",
       "      <td>81.0</td>\n",
       "      <td>14055.93</td>\n",
       "      <td>408.0</td>\n",
       "      <td>52</td>\n",
       "      <td>NaN</td>\n",
       "      <td>Краснодар</td>\n",
       "      <td>...</td>\n",
       "      <td>Верещагин</td>\n",
       "      <td>2018-05-25</td>\n",
       "      <td>ultra</td>\n",
       "      <td>1000</td>\n",
       "      <td>30720</td>\n",
       "      <td>3000</td>\n",
       "      <td>1950</td>\n",
       "      <td>150</td>\n",
       "      <td>1</td>\n",
       "      <td>1</td>\n",
       "    </tr>\n",
       "    <tr>\n",
       "      <td>4</td>\n",
       "      <td>4</td>\n",
       "      <td>1000</td>\n",
       "      <td>9.0</td>\n",
       "      <td>466.0</td>\n",
       "      <td>57.0</td>\n",
       "      <td>14568.91</td>\n",
       "      <td>466.0</td>\n",
       "      <td>52</td>\n",
       "      <td>NaN</td>\n",
       "      <td>Краснодар</td>\n",
       "      <td>...</td>\n",
       "      <td>Верещагин</td>\n",
       "      <td>2018-05-25</td>\n",
       "      <td>ultra</td>\n",
       "      <td>1000</td>\n",
       "      <td>30720</td>\n",
       "      <td>3000</td>\n",
       "      <td>1950</td>\n",
       "      <td>150</td>\n",
       "      <td>1</td>\n",
       "      <td>1</td>\n",
       "    </tr>\n",
       "    <tr>\n",
       "      <td>...</td>\n",
       "      <td>...</td>\n",
       "      <td>...</td>\n",
       "      <td>...</td>\n",
       "      <td>...</td>\n",
       "      <td>...</td>\n",
       "      <td>...</td>\n",
       "      <td>...</td>\n",
       "      <td>...</td>\n",
       "      <td>...</td>\n",
       "      <td>...</td>\n",
       "      <td>...</td>\n",
       "      <td>...</td>\n",
       "      <td>...</td>\n",
       "      <td>...</td>\n",
       "      <td>...</td>\n",
       "      <td>...</td>\n",
       "      <td>...</td>\n",
       "      <td>...</td>\n",
       "      <td>...</td>\n",
       "      <td>...</td>\n",
       "      <td>...</td>\n",
       "    </tr>\n",
       "    <tr>\n",
       "      <td>3211</td>\n",
       "      <td>3211</td>\n",
       "      <td>1489</td>\n",
       "      <td>9.0</td>\n",
       "      <td>NaN</td>\n",
       "      <td>32.0</td>\n",
       "      <td>17206.30</td>\n",
       "      <td>NaN</td>\n",
       "      <td>35</td>\n",
       "      <td>NaN</td>\n",
       "      <td>Санкт-Петербург</td>\n",
       "      <td>...</td>\n",
       "      <td>Гончаров</td>\n",
       "      <td>2018-08-15</td>\n",
       "      <td>smart</td>\n",
       "      <td>50</td>\n",
       "      <td>15360</td>\n",
       "      <td>500</td>\n",
       "      <td>550</td>\n",
       "      <td>200</td>\n",
       "      <td>3</td>\n",
       "      <td>3</td>\n",
       "    </tr>\n",
       "    <tr>\n",
       "      <td>3212</td>\n",
       "      <td>3212</td>\n",
       "      <td>1489</td>\n",
       "      <td>10.0</td>\n",
       "      <td>NaN</td>\n",
       "      <td>21.0</td>\n",
       "      <td>19559.44</td>\n",
       "      <td>NaN</td>\n",
       "      <td>35</td>\n",
       "      <td>NaN</td>\n",
       "      <td>Санкт-Петербург</td>\n",
       "      <td>...</td>\n",
       "      <td>Гончаров</td>\n",
       "      <td>2018-08-15</td>\n",
       "      <td>smart</td>\n",
       "      <td>50</td>\n",
       "      <td>15360</td>\n",
       "      <td>500</td>\n",
       "      <td>550</td>\n",
       "      <td>200</td>\n",
       "      <td>3</td>\n",
       "      <td>3</td>\n",
       "    </tr>\n",
       "    <tr>\n",
       "      <td>3213</td>\n",
       "      <td>3213</td>\n",
       "      <td>1489</td>\n",
       "      <td>11.0</td>\n",
       "      <td>NaN</td>\n",
       "      <td>20.0</td>\n",
       "      <td>17491.56</td>\n",
       "      <td>NaN</td>\n",
       "      <td>35</td>\n",
       "      <td>NaN</td>\n",
       "      <td>Санкт-Петербург</td>\n",
       "      <td>...</td>\n",
       "      <td>Гончаров</td>\n",
       "      <td>2018-08-15</td>\n",
       "      <td>smart</td>\n",
       "      <td>50</td>\n",
       "      <td>15360</td>\n",
       "      <td>500</td>\n",
       "      <td>550</td>\n",
       "      <td>200</td>\n",
       "      <td>3</td>\n",
       "      <td>3</td>\n",
       "    </tr>\n",
       "    <tr>\n",
       "      <td>3214</td>\n",
       "      <td>3214</td>\n",
       "      <td>1489</td>\n",
       "      <td>12.0</td>\n",
       "      <td>NaN</td>\n",
       "      <td>35.0</td>\n",
       "      <td>17322.51</td>\n",
       "      <td>NaN</td>\n",
       "      <td>35</td>\n",
       "      <td>NaN</td>\n",
       "      <td>Санкт-Петербург</td>\n",
       "      <td>...</td>\n",
       "      <td>Гончаров</td>\n",
       "      <td>2018-08-15</td>\n",
       "      <td>smart</td>\n",
       "      <td>50</td>\n",
       "      <td>15360</td>\n",
       "      <td>500</td>\n",
       "      <td>550</td>\n",
       "      <td>200</td>\n",
       "      <td>3</td>\n",
       "      <td>3</td>\n",
       "    </tr>\n",
       "    <tr>\n",
       "      <td>3215</td>\n",
       "      <td>3215</td>\n",
       "      <td>1371</td>\n",
       "      <td>NaN</td>\n",
       "      <td>NaN</td>\n",
       "      <td>NaN</td>\n",
       "      <td>NaN</td>\n",
       "      <td>NaN</td>\n",
       "      <td>50</td>\n",
       "      <td>2018-12-30</td>\n",
       "      <td>Омск</td>\n",
       "      <td>...</td>\n",
       "      <td>Трофимов</td>\n",
       "      <td>2018-12-25</td>\n",
       "      <td>smart</td>\n",
       "      <td>50</td>\n",
       "      <td>15360</td>\n",
       "      <td>500</td>\n",
       "      <td>550</td>\n",
       "      <td>200</td>\n",
       "      <td>3</td>\n",
       "      <td>3</td>\n",
       "    </tr>\n",
       "  </tbody>\n",
       "</table>\n",
       "<p>3216 rows × 21 columns</p>\n",
       "</div>"
      ],
      "text/plain": [
       "      index  user_id  month  duration_call  messages   mb_used  duration_y  \\\n",
       "0         0     1000    5.0          159.0      22.0   2253.49       159.0   \n",
       "1         1     1000    6.0          172.0      60.0  23233.77       172.0   \n",
       "2         2     1000    7.0          340.0      75.0  14003.64       340.0   \n",
       "3         3     1000    8.0          408.0      81.0  14055.93       408.0   \n",
       "4         4     1000    9.0          466.0      57.0  14568.91       466.0   \n",
       "...     ...      ...    ...            ...       ...       ...         ...   \n",
       "3211   3211     1489    9.0            NaN      32.0  17206.30         NaN   \n",
       "3212   3212     1489   10.0            NaN      21.0  19559.44         NaN   \n",
       "3213   3213     1489   11.0            NaN      20.0  17491.56         NaN   \n",
       "3214   3214     1489   12.0            NaN      35.0  17322.51         NaN   \n",
       "3215   3215     1371    NaN            NaN       NaN       NaN         NaN   \n",
       "\n",
       "      age  churn_date             city  ...  last_name    reg_date  \\\n",
       "0      52         NaN        Краснодар  ...  Верещагин  2018-05-25   \n",
       "1      52         NaN        Краснодар  ...  Верещагин  2018-05-25   \n",
       "2      52         NaN        Краснодар  ...  Верещагин  2018-05-25   \n",
       "3      52         NaN        Краснодар  ...  Верещагин  2018-05-25   \n",
       "4      52         NaN        Краснодар  ...  Верещагин  2018-05-25   \n",
       "...   ...         ...              ...  ...        ...         ...   \n",
       "3211   35         NaN  Санкт-Петербург  ...   Гончаров  2018-08-15   \n",
       "3212   35         NaN  Санкт-Петербург  ...   Гончаров  2018-08-15   \n",
       "3213   35         NaN  Санкт-Петербург  ...   Гончаров  2018-08-15   \n",
       "3214   35         NaN  Санкт-Петербург  ...   Гончаров  2018-08-15   \n",
       "3215   50  2018-12-30             Омск  ...   Трофимов  2018-12-25   \n",
       "\n",
       "     tariff_name messages_included  mb_per_month_included  minutes_included  \\\n",
       "0          ultra              1000                  30720              3000   \n",
       "1          ultra              1000                  30720              3000   \n",
       "2          ultra              1000                  30720              3000   \n",
       "3          ultra              1000                  30720              3000   \n",
       "4          ultra              1000                  30720              3000   \n",
       "...          ...               ...                    ...               ...   \n",
       "3211       smart                50                  15360               500   \n",
       "3212       smart                50                  15360               500   \n",
       "3213       smart                50                  15360               500   \n",
       "3214       smart                50                  15360               500   \n",
       "3215       smart                50                  15360               500   \n",
       "\n",
       "      rub_monthly_fee  rub_per_gb  rub_per_message  rub_per_minute  \n",
       "0                1950         150                1               1  \n",
       "1                1950         150                1               1  \n",
       "2                1950         150                1               1  \n",
       "3                1950         150                1               1  \n",
       "4                1950         150                1               1  \n",
       "...               ...         ...              ...             ...  \n",
       "3211              550         200                3               3  \n",
       "3212              550         200                3               3  \n",
       "3213              550         200                3               3  \n",
       "3214              550         200                3               3  \n",
       "3215              550         200                3               3  \n",
       "\n",
       "[3216 rows x 21 columns]"
      ]
     },
     "execution_count": 27,
     "metadata": {},
     "output_type": "execute_result"
    }
   ],
   "source": [
    "data=data.merge(users, on =['user_id'], how = 'outer')\n",
    "data=data.rename(columns={'tariff': 'tariff_name'})\n",
    "data=data.merge(tariffs, on =['tariff_name'], how = 'outer')\n",
    "data.reset_index()"
   ]
  },
  {
   "cell_type": "code",
   "execution_count": 28,
   "metadata": {
    "scrolled": true
   },
   "outputs": [
    {
     "name": "stdout",
     "output_type": "stream",
     "text": [
      "<class 'pandas.core.frame.DataFrame'>\n",
      "Int64Index: 3216 entries, 0 to 3215\n",
      "Data columns (total 20 columns):\n",
      "user_id                  3216 non-null int64\n",
      "month                    3214 non-null float64\n",
      "duration_call            3174 non-null float64\n",
      "messages                 2717 non-null float64\n",
      "mb_used                  3203 non-null float64\n",
      "duration_y               3174 non-null float64\n",
      "age                      3216 non-null int64\n",
      "churn_date               189 non-null object\n",
      "city                     3216 non-null object\n",
      "first_name               3216 non-null object\n",
      "last_name                3216 non-null object\n",
      "reg_date                 3216 non-null object\n",
      "tariff_name              3216 non-null object\n",
      "messages_included        3216 non-null int64\n",
      "mb_per_month_included    3216 non-null int64\n",
      "minutes_included         3216 non-null int64\n",
      "rub_monthly_fee          3216 non-null int64\n",
      "rub_per_gb               3216 non-null int64\n",
      "rub_per_message          3216 non-null int64\n",
      "rub_per_minute           3216 non-null int64\n",
      "dtypes: float64(5), int64(9), object(6)\n",
      "memory usage: 527.6+ KB\n"
     ]
    }
   ],
   "source": [
    "#код ревьюера\n",
    "data.info()"
   ]
  },
  {
   "cell_type": "markdown",
   "metadata": {},
   "source": [
    " ### Предварительные расчеты"
   ]
  },
  {
   "cell_type": "markdown",
   "metadata": {},
   "source": [
    "Посчитайте для каждого пользователя:\n",
    "количество сделанных звонков и израсходованных минут разговора по месяцам;\n",
    "количество отправленных сообщений по месяцам;\n",
    "объем израсходованного интернет-трафика по месяцам; - похоже я уже это посчитала через группировку. \n",
    "\n",
    "\n",
    "помесячную выручку с каждого пользователя (вычтите бесплатный лимит из суммарного количества звонков, сообщений и интернет-трафика; остаток умножьте на значение из тарифного плана; прибавьте абонентскую плату, соответствующую тарифному плану).\n",
    "\n",
    "почитаем дельту между данными. обнулим с помощью loc отрицательные значения на нули и затем почитаем выручку\n",
    "\n"
   ]
  },
  {
   "cell_type": "code",
   "execution_count": 29,
   "metadata": {},
   "outputs": [],
   "source": [
    "data=data.fillna(0)\n",
    "\n",
    "data['delta_duration'] = data['duration_call']-data['minutes_included']\n",
    "data['delta_mb'] = data['mb_used']-data['mb_per_month_included']\n",
    "data['delta_messages'] = data['messages']-data['messages_included']\n"
   ]
  },
  {
   "cell_type": "code",
   "execution_count": 30,
   "metadata": {},
   "outputs": [],
   "source": [
    "\n",
    "\n",
    "data.loc[data['delta_duration']<0,'delta_duration'] =0\n",
    "data.loc[data['delta_mb']<0,'delta_mb'] =0\n",
    "data.loc[data['delta_messages']<0,'delta_messages'] =0\n",
    "data['delta_gb'] = np.ceil(data['delta_mb']/1024)\n",
    "data['delta_duration'].fillna(0)\n",
    "data['delta_mb'].fillna(0)\n",
    "data['delta_messages'].fillna(0)\n",
    "\n",
    "data['duration_call']=data['duration_call'].fillna(0)\n",
    "data['mb_used']=data['mb_used'].fillna(0)\n",
    "data['messages'] = data['messages'].fillna(0)\n",
    "\n",
    "\n",
    "\n",
    "data['revenue'] = data['rub_monthly_fee'] + data['delta_duration']* data['rub_per_minute']+ data['delta_gb']* data['rub_per_gb']"
   ]
  },
  {
   "cell_type": "code",
   "execution_count": 31,
   "metadata": {},
   "outputs": [
    {
     "data": {
      "text/html": [
       "<div>\n",
       "<style scoped>\n",
       "    .dataframe tbody tr th:only-of-type {\n",
       "        vertical-align: middle;\n",
       "    }\n",
       "\n",
       "    .dataframe tbody tr th {\n",
       "        vertical-align: top;\n",
       "    }\n",
       "\n",
       "    .dataframe thead th {\n",
       "        text-align: right;\n",
       "    }\n",
       "</style>\n",
       "<table border=\"1\" class=\"dataframe\">\n",
       "  <thead>\n",
       "    <tr style=\"text-align: right;\">\n",
       "      <th></th>\n",
       "      <th>user_id</th>\n",
       "      <th>month</th>\n",
       "      <th>duration_call</th>\n",
       "      <th>messages</th>\n",
       "      <th>mb_used</th>\n",
       "      <th>duration_y</th>\n",
       "      <th>age</th>\n",
       "      <th>churn_date</th>\n",
       "      <th>city</th>\n",
       "      <th>first_name</th>\n",
       "      <th>...</th>\n",
       "      <th>minutes_included</th>\n",
       "      <th>rub_monthly_fee</th>\n",
       "      <th>rub_per_gb</th>\n",
       "      <th>rub_per_message</th>\n",
       "      <th>rub_per_minute</th>\n",
       "      <th>delta_duration</th>\n",
       "      <th>delta_mb</th>\n",
       "      <th>delta_messages</th>\n",
       "      <th>delta_gb</th>\n",
       "      <th>revenue</th>\n",
       "    </tr>\n",
       "  </thead>\n",
       "  <tbody>\n",
       "    <tr>\n",
       "      <td>0</td>\n",
       "      <td>1000</td>\n",
       "      <td>5.0</td>\n",
       "      <td>159.0</td>\n",
       "      <td>22.0</td>\n",
       "      <td>2253.49</td>\n",
       "      <td>159.0</td>\n",
       "      <td>52</td>\n",
       "      <td>0</td>\n",
       "      <td>Краснодар</td>\n",
       "      <td>Рафаил</td>\n",
       "      <td>...</td>\n",
       "      <td>3000</td>\n",
       "      <td>1950</td>\n",
       "      <td>150</td>\n",
       "      <td>1</td>\n",
       "      <td>1</td>\n",
       "      <td>0.0</td>\n",
       "      <td>0.0</td>\n",
       "      <td>0.0</td>\n",
       "      <td>0.0</td>\n",
       "      <td>1950.0</td>\n",
       "    </tr>\n",
       "    <tr>\n",
       "      <td>1</td>\n",
       "      <td>1000</td>\n",
       "      <td>6.0</td>\n",
       "      <td>172.0</td>\n",
       "      <td>60.0</td>\n",
       "      <td>23233.77</td>\n",
       "      <td>172.0</td>\n",
       "      <td>52</td>\n",
       "      <td>0</td>\n",
       "      <td>Краснодар</td>\n",
       "      <td>Рафаил</td>\n",
       "      <td>...</td>\n",
       "      <td>3000</td>\n",
       "      <td>1950</td>\n",
       "      <td>150</td>\n",
       "      <td>1</td>\n",
       "      <td>1</td>\n",
       "      <td>0.0</td>\n",
       "      <td>0.0</td>\n",
       "      <td>0.0</td>\n",
       "      <td>0.0</td>\n",
       "      <td>1950.0</td>\n",
       "    </tr>\n",
       "    <tr>\n",
       "      <td>2</td>\n",
       "      <td>1000</td>\n",
       "      <td>7.0</td>\n",
       "      <td>340.0</td>\n",
       "      <td>75.0</td>\n",
       "      <td>14003.64</td>\n",
       "      <td>340.0</td>\n",
       "      <td>52</td>\n",
       "      <td>0</td>\n",
       "      <td>Краснодар</td>\n",
       "      <td>Рафаил</td>\n",
       "      <td>...</td>\n",
       "      <td>3000</td>\n",
       "      <td>1950</td>\n",
       "      <td>150</td>\n",
       "      <td>1</td>\n",
       "      <td>1</td>\n",
       "      <td>0.0</td>\n",
       "      <td>0.0</td>\n",
       "      <td>0.0</td>\n",
       "      <td>0.0</td>\n",
       "      <td>1950.0</td>\n",
       "    </tr>\n",
       "    <tr>\n",
       "      <td>3</td>\n",
       "      <td>1000</td>\n",
       "      <td>8.0</td>\n",
       "      <td>408.0</td>\n",
       "      <td>81.0</td>\n",
       "      <td>14055.93</td>\n",
       "      <td>408.0</td>\n",
       "      <td>52</td>\n",
       "      <td>0</td>\n",
       "      <td>Краснодар</td>\n",
       "      <td>Рафаил</td>\n",
       "      <td>...</td>\n",
       "      <td>3000</td>\n",
       "      <td>1950</td>\n",
       "      <td>150</td>\n",
       "      <td>1</td>\n",
       "      <td>1</td>\n",
       "      <td>0.0</td>\n",
       "      <td>0.0</td>\n",
       "      <td>0.0</td>\n",
       "      <td>0.0</td>\n",
       "      <td>1950.0</td>\n",
       "    </tr>\n",
       "    <tr>\n",
       "      <td>4</td>\n",
       "      <td>1000</td>\n",
       "      <td>9.0</td>\n",
       "      <td>466.0</td>\n",
       "      <td>57.0</td>\n",
       "      <td>14568.91</td>\n",
       "      <td>466.0</td>\n",
       "      <td>52</td>\n",
       "      <td>0</td>\n",
       "      <td>Краснодар</td>\n",
       "      <td>Рафаил</td>\n",
       "      <td>...</td>\n",
       "      <td>3000</td>\n",
       "      <td>1950</td>\n",
       "      <td>150</td>\n",
       "      <td>1</td>\n",
       "      <td>1</td>\n",
       "      <td>0.0</td>\n",
       "      <td>0.0</td>\n",
       "      <td>0.0</td>\n",
       "      <td>0.0</td>\n",
       "      <td>1950.0</td>\n",
       "    </tr>\n",
       "    <tr>\n",
       "      <td>5</td>\n",
       "      <td>1000</td>\n",
       "      <td>10.0</td>\n",
       "      <td>350.0</td>\n",
       "      <td>73.0</td>\n",
       "      <td>14702.49</td>\n",
       "      <td>350.0</td>\n",
       "      <td>52</td>\n",
       "      <td>0</td>\n",
       "      <td>Краснодар</td>\n",
       "      <td>Рафаил</td>\n",
       "      <td>...</td>\n",
       "      <td>3000</td>\n",
       "      <td>1950</td>\n",
       "      <td>150</td>\n",
       "      <td>1</td>\n",
       "      <td>1</td>\n",
       "      <td>0.0</td>\n",
       "      <td>0.0</td>\n",
       "      <td>0.0</td>\n",
       "      <td>0.0</td>\n",
       "      <td>1950.0</td>\n",
       "    </tr>\n",
       "    <tr>\n",
       "      <td>6</td>\n",
       "      <td>1000</td>\n",
       "      <td>11.0</td>\n",
       "      <td>338.0</td>\n",
       "      <td>58.0</td>\n",
       "      <td>14756.47</td>\n",
       "      <td>338.0</td>\n",
       "      <td>52</td>\n",
       "      <td>0</td>\n",
       "      <td>Краснодар</td>\n",
       "      <td>Рафаил</td>\n",
       "      <td>...</td>\n",
       "      <td>3000</td>\n",
       "      <td>1950</td>\n",
       "      <td>150</td>\n",
       "      <td>1</td>\n",
       "      <td>1</td>\n",
       "      <td>0.0</td>\n",
       "      <td>0.0</td>\n",
       "      <td>0.0</td>\n",
       "      <td>0.0</td>\n",
       "      <td>1950.0</td>\n",
       "    </tr>\n",
       "    <tr>\n",
       "      <td>7</td>\n",
       "      <td>1000</td>\n",
       "      <td>12.0</td>\n",
       "      <td>333.0</td>\n",
       "      <td>70.0</td>\n",
       "      <td>9817.61</td>\n",
       "      <td>333.0</td>\n",
       "      <td>52</td>\n",
       "      <td>0</td>\n",
       "      <td>Краснодар</td>\n",
       "      <td>Рафаил</td>\n",
       "      <td>...</td>\n",
       "      <td>3000</td>\n",
       "      <td>1950</td>\n",
       "      <td>150</td>\n",
       "      <td>1</td>\n",
       "      <td>1</td>\n",
       "      <td>0.0</td>\n",
       "      <td>0.0</td>\n",
       "      <td>0.0</td>\n",
       "      <td>0.0</td>\n",
       "      <td>1950.0</td>\n",
       "    </tr>\n",
       "    <tr>\n",
       "      <td>8</td>\n",
       "      <td>1003</td>\n",
       "      <td>8.0</td>\n",
       "      <td>380.0</td>\n",
       "      <td>37.0</td>\n",
       "      <td>8565.21</td>\n",
       "      <td>380.0</td>\n",
       "      <td>23</td>\n",
       "      <td>0</td>\n",
       "      <td>Москва</td>\n",
       "      <td>Белла</td>\n",
       "      <td>...</td>\n",
       "      <td>3000</td>\n",
       "      <td>1950</td>\n",
       "      <td>150</td>\n",
       "      <td>1</td>\n",
       "      <td>1</td>\n",
       "      <td>0.0</td>\n",
       "      <td>0.0</td>\n",
       "      <td>0.0</td>\n",
       "      <td>0.0</td>\n",
       "      <td>1950.0</td>\n",
       "    </tr>\n",
       "    <tr>\n",
       "      <td>9</td>\n",
       "      <td>1003</td>\n",
       "      <td>9.0</td>\n",
       "      <td>961.0</td>\n",
       "      <td>91.0</td>\n",
       "      <td>12468.87</td>\n",
       "      <td>961.0</td>\n",
       "      <td>23</td>\n",
       "      <td>0</td>\n",
       "      <td>Москва</td>\n",
       "      <td>Белла</td>\n",
       "      <td>...</td>\n",
       "      <td>3000</td>\n",
       "      <td>1950</td>\n",
       "      <td>150</td>\n",
       "      <td>1</td>\n",
       "      <td>1</td>\n",
       "      <td>0.0</td>\n",
       "      <td>0.0</td>\n",
       "      <td>0.0</td>\n",
       "      <td>0.0</td>\n",
       "      <td>1950.0</td>\n",
       "    </tr>\n",
       "  </tbody>\n",
       "</table>\n",
       "<p>10 rows × 25 columns</p>\n",
       "</div>"
      ],
      "text/plain": [
       "   user_id  month  duration_call  messages   mb_used  duration_y  age  \\\n",
       "0     1000    5.0          159.0      22.0   2253.49       159.0   52   \n",
       "1     1000    6.0          172.0      60.0  23233.77       172.0   52   \n",
       "2     1000    7.0          340.0      75.0  14003.64       340.0   52   \n",
       "3     1000    8.0          408.0      81.0  14055.93       408.0   52   \n",
       "4     1000    9.0          466.0      57.0  14568.91       466.0   52   \n",
       "5     1000   10.0          350.0      73.0  14702.49       350.0   52   \n",
       "6     1000   11.0          338.0      58.0  14756.47       338.0   52   \n",
       "7     1000   12.0          333.0      70.0   9817.61       333.0   52   \n",
       "8     1003    8.0          380.0      37.0   8565.21       380.0   23   \n",
       "9     1003    9.0          961.0      91.0  12468.87       961.0   23   \n",
       "\n",
       "  churn_date       city first_name  ... minutes_included rub_monthly_fee  \\\n",
       "0          0  Краснодар     Рафаил  ...             3000            1950   \n",
       "1          0  Краснодар     Рафаил  ...             3000            1950   \n",
       "2          0  Краснодар     Рафаил  ...             3000            1950   \n",
       "3          0  Краснодар     Рафаил  ...             3000            1950   \n",
       "4          0  Краснодар     Рафаил  ...             3000            1950   \n",
       "5          0  Краснодар     Рафаил  ...             3000            1950   \n",
       "6          0  Краснодар     Рафаил  ...             3000            1950   \n",
       "7          0  Краснодар     Рафаил  ...             3000            1950   \n",
       "8          0     Москва      Белла  ...             3000            1950   \n",
       "9          0     Москва      Белла  ...             3000            1950   \n",
       "\n",
       "  rub_per_gb  rub_per_message  rub_per_minute  delta_duration  delta_mb  \\\n",
       "0        150                1               1             0.0       0.0   \n",
       "1        150                1               1             0.0       0.0   \n",
       "2        150                1               1             0.0       0.0   \n",
       "3        150                1               1             0.0       0.0   \n",
       "4        150                1               1             0.0       0.0   \n",
       "5        150                1               1             0.0       0.0   \n",
       "6        150                1               1             0.0       0.0   \n",
       "7        150                1               1             0.0       0.0   \n",
       "8        150                1               1             0.0       0.0   \n",
       "9        150                1               1             0.0       0.0   \n",
       "\n",
       "   delta_messages  delta_gb  revenue  \n",
       "0             0.0       0.0   1950.0  \n",
       "1             0.0       0.0   1950.0  \n",
       "2             0.0       0.0   1950.0  \n",
       "3             0.0       0.0   1950.0  \n",
       "4             0.0       0.0   1950.0  \n",
       "5             0.0       0.0   1950.0  \n",
       "6             0.0       0.0   1950.0  \n",
       "7             0.0       0.0   1950.0  \n",
       "8             0.0       0.0   1950.0  \n",
       "9             0.0       0.0   1950.0  \n",
       "\n",
       "[10 rows x 25 columns]"
      ]
     },
     "execution_count": 31,
     "metadata": {},
     "output_type": "execute_result"
    }
   ],
   "source": [
    "data.head(10)"
   ]
  },
  {
   "cell_type": "code",
   "execution_count": 32,
   "metadata": {},
   "outputs": [
    {
     "data": {
      "text/plain": [
       "0"
      ]
     },
     "execution_count": 32,
     "metadata": {},
     "output_type": "execute_result"
    }
   ],
   "source": [
    "data['revenue'].isnull().sum()"
   ]
  },
  {
   "cell_type": "markdown",
   "metadata": {},
   "source": [
    "# Шаг 3. Проанализируйте данные\n",
    "\n",
    "\n",
    "Опишите поведение клиентов оператора, исходя из выборки. Сколько минут разговора, сколько сообщений и какой объём интернет-трафика требуется пользователям каждого тарифа в месяц? Посчитайте среднее количество, дисперсию и стандартное отклонение. Постройте гистограммы. Опишите распределения.\n"
   ]
  },
  {
   "cell_type": "markdown",
   "metadata": {},
   "source": [
    "## Тариф Смарт"
   ]
  },
  {
   "cell_type": "code",
   "execution_count": 33,
   "metadata": {},
   "outputs": [
    {
     "data": {
      "text/html": [
       "<div>\n",
       "<style scoped>\n",
       "    .dataframe tbody tr th:only-of-type {\n",
       "        vertical-align: middle;\n",
       "    }\n",
       "\n",
       "    .dataframe tbody tr th {\n",
       "        vertical-align: top;\n",
       "    }\n",
       "\n",
       "    .dataframe thead th {\n",
       "        text-align: right;\n",
       "    }\n",
       "</style>\n",
       "<table border=\"1\" class=\"dataframe\">\n",
       "  <thead>\n",
       "    <tr style=\"text-align: right;\">\n",
       "      <th></th>\n",
       "      <th>duration_call</th>\n",
       "      <th>mb_used</th>\n",
       "      <th>messages</th>\n",
       "    </tr>\n",
       "    <tr>\n",
       "      <th>user_id</th>\n",
       "      <th></th>\n",
       "      <th></th>\n",
       "      <th></th>\n",
       "    </tr>\n",
       "  </thead>\n",
       "  <tbody>\n",
       "    <tr>\n",
       "      <td>1001</td>\n",
       "      <td>422.000000</td>\n",
       "      <td>16233.000000</td>\n",
       "      <td>0.0</td>\n",
       "    </tr>\n",
       "    <tr>\n",
       "      <td>1002</td>\n",
       "      <td>216.714286</td>\n",
       "      <td>16576.645714</td>\n",
       "      <td>10.0</td>\n",
       "    </tr>\n",
       "    <tr>\n",
       "      <td>1005</td>\n",
       "      <td>550.416667</td>\n",
       "      <td>8307.275833</td>\n",
       "      <td>46.0</td>\n",
       "    </tr>\n",
       "    <tr>\n",
       "      <td>1006</td>\n",
       "      <td>318.272727</td>\n",
       "      <td>14926.255455</td>\n",
       "      <td>0.0</td>\n",
       "    </tr>\n",
       "    <tr>\n",
       "      <td>1007</td>\n",
       "      <td>486.555556</td>\n",
       "      <td>14625.074444</td>\n",
       "      <td>25.0</td>\n",
       "    </tr>\n",
       "    <tr>\n",
       "      <td>...</td>\n",
       "      <td>...</td>\n",
       "      <td>...</td>\n",
       "      <td>...</td>\n",
       "    </tr>\n",
       "    <tr>\n",
       "      <td>1494</td>\n",
       "      <td>389.200000</td>\n",
       "      <td>15398.832000</td>\n",
       "      <td>0.0</td>\n",
       "    </tr>\n",
       "    <tr>\n",
       "      <td>1496</td>\n",
       "      <td>498.666667</td>\n",
       "      <td>22578.524167</td>\n",
       "      <td>39.0</td>\n",
       "    </tr>\n",
       "    <tr>\n",
       "      <td>1497</td>\n",
       "      <td>468.666667</td>\n",
       "      <td>15191.656667</td>\n",
       "      <td>17.0</td>\n",
       "    </tr>\n",
       "    <tr>\n",
       "      <td>1498</td>\n",
       "      <td>323.250000</td>\n",
       "      <td>18606.305000</td>\n",
       "      <td>42.0</td>\n",
       "    </tr>\n",
       "    <tr>\n",
       "      <td>1499</td>\n",
       "      <td>405.750000</td>\n",
       "      <td>12663.287500</td>\n",
       "      <td>46.0</td>\n",
       "    </tr>\n",
       "  </tbody>\n",
       "</table>\n",
       "<p>351 rows × 3 columns</p>\n",
       "</div>"
      ],
      "text/plain": [
       "         duration_call       mb_used  messages\n",
       "user_id                                       \n",
       "1001        422.000000  16233.000000       0.0\n",
       "1002        216.714286  16576.645714      10.0\n",
       "1005        550.416667   8307.275833      46.0\n",
       "1006        318.272727  14926.255455       0.0\n",
       "1007        486.555556  14625.074444      25.0\n",
       "...                ...           ...       ...\n",
       "1494        389.200000  15398.832000       0.0\n",
       "1496        498.666667  22578.524167      39.0\n",
       "1497        468.666667  15191.656667      17.0\n",
       "1498        323.250000  18606.305000      42.0\n",
       "1499        405.750000  12663.287500      46.0\n",
       "\n",
       "[351 rows x 3 columns]"
      ]
     },
     "execution_count": 33,
     "metadata": {},
     "output_type": "execute_result"
    }
   ],
   "source": [
    "data_smart = data.query('tariff_name == \"smart\"')\n",
    "data_smart_pivot = data_smart.pivot_table(\n",
    "index=['user_id'],\n",
    "values=['duration_call','messages','mb_used'],\n",
    "aggfunc='mean')\n",
    "\n",
    "data_smart_pivot\n"
   ]
  },
  {
   "cell_type": "markdown",
   "metadata": {},
   "source": [
    "<div class=\"alert alert-block alert-info\">\n",
    "<b>Комментарий студента: получили базовую таблицу с распределением длительности звонков, МБ и сообщений. Далее будем исследовать распределение этих данных</b> "
   ]
  },
  {
   "cell_type": "markdown",
   "metadata": {},
   "source": [
    "### Исследуем длительность  звонка"
   ]
  },
  {
   "cell_type": "code",
   "execution_count": 34,
   "metadata": {},
   "outputs": [
    {
     "data": {
      "text/plain": [
       "21475.741546069516"
      ]
     },
     "execution_count": 34,
     "metadata": {},
     "output_type": "execute_result"
    }
   ],
   "source": [
    "\n",
    "variance_estimate = np.var(data_smart_pivot['duration_call'], ddof=1)\n",
    "variance_estimate"
   ]
  },
  {
   "cell_type": "code",
   "execution_count": 35,
   "metadata": {},
   "outputs": [
    {
     "data": {
      "text/plain": [
       "418.43926217815107"
      ]
     },
     "execution_count": 35,
     "metadata": {},
     "output_type": "execute_result"
    }
   ],
   "source": [
    "mean_value = data_smart_pivot['duration_call'].mean()\n",
    "mean_value"
   ]
  },
  {
   "cell_type": "code",
   "execution_count": 36,
   "metadata": {},
   "outputs": [
    {
     "data": {
      "text/plain": [
       "146.3371350588097"
      ]
     },
     "execution_count": 36,
     "metadata": {},
     "output_type": "execute_result"
    }
   ],
   "source": [
    "standard_deviation = np.std(data_smart_pivot['duration_call'])\n",
    "standard_deviation"
   ]
  },
  {
   "cell_type": "code",
   "execution_count": 37,
   "metadata": {},
   "outputs": [
    {
     "data": {
      "image/png": "[encoded data removed]",
      "text/plain": [
       "<Figure size 432x288 with 1 Axes>"
      ]
     },
     "metadata": {
      "needs_background": "light"
     },
     "output_type": "display_data"
    }
   ],
   "source": [
    "data_smart_pivot['duration_call'].hist(bins=10)\n",
    "\n",
    "plt.xlabel('Средняя длителность звонка')\n",
    "plt.ylabel('Частота распределение')\n",
    "plt.title('Распределение средней длительности звонка \\n для тарифа смарт')\n",
    "plt.show()\n"
   ]
  },
  {
   "cell_type": "markdown",
   "metadata": {},
   "source": [
    "Вывод: распределение средней длителности звонка для тарифа смарт имеет нормальное распредление\n",
    "Выборка распределена нормально вокруг среднего в 420 минут с разбросом значений 143 минуты "
   ]
  },
  {
   "cell_type": "markdown",
   "metadata": {},
   "source": [
    "### Исследуем количество сообщений"
   ]
  },
  {
   "cell_type": "code",
   "execution_count": 38,
   "metadata": {},
   "outputs": [
    {
     "data": {
      "image/png": "[encoded data removed]",
      "text/plain": [
       "<Figure size 432x288 with 1 Axes>"
      ]
     },
     "metadata": {
      "needs_background": "light"
     },
     "output_type": "display_data"
    }
   ],
   "source": [
    "data_smart_pivot['messages'].hist(bins=20)\n",
    "\n",
    "plt.xlabel('Средняя количество сообщений')\n",
    "plt.ylabel('Частота распределение')\n",
    "plt.title('Распределение количества сообщений \\n для тарифа смарт')\n",
    "plt.show()"
   ]
  },
  {
   "cell_type": "code",
   "execution_count": 39,
   "metadata": {},
   "outputs": [
    {
     "data": {
      "text/plain": [
       "703.8835242898488"
      ]
     },
     "execution_count": 39,
     "metadata": {},
     "output_type": "execute_result"
    }
   ],
   "source": [
    "\n",
    "\n",
    "variance_estimate = np.var(data_smart_pivot['messages'], ddof=1)\n",
    "variance_estimate"
   ]
  },
  {
   "cell_type": "code",
   "execution_count": 40,
   "metadata": {},
   "outputs": [
    {
     "data": {
      "text/plain": [
       "32.2599070682404"
      ]
     },
     "execution_count": 40,
     "metadata": {},
     "output_type": "execute_result"
    }
   ],
   "source": [
    "mean_value = data_smart_pivot['messages'].mean()\n",
    "mean_value"
   ]
  },
  {
   "cell_type": "code",
   "execution_count": 41,
   "metadata": {},
   "outputs": [
    {
     "data": {
      "text/plain": [
       "26.492983186568114"
      ]
     },
     "execution_count": 41,
     "metadata": {},
     "output_type": "execute_result"
    }
   ],
   "source": [
    "standard_deviation = np.std(data_smart_pivot['messages'])\n",
    "standard_deviation"
   ]
  },
  {
   "cell_type": "markdown",
   "metadata": {},
   "source": [
    "Вывод: Количество сообщений имюет среднее занчение 37 со станартным отклонением в 24 сообщения и имеют сконегглсть вправо. \n",
    "Значнеие разброса близко в среднему , распределение не однородное по значениям"
   ]
  },
  {
   "cell_type": "markdown",
   "metadata": {},
   "source": [
    "### Исследуем интернет трафик"
   ]
  },
  {
   "cell_type": "code",
   "execution_count": 42,
   "metadata": {},
   "outputs": [
    {
     "data": {
      "image/png": "[encoded data removed]",
      "text/plain": [
       "<Figure size 432x288 with 1 Axes>"
      ]
     },
     "metadata": {
      "needs_background": "light"
     },
     "output_type": "display_data"
    }
   ],
   "source": [
    "data_smart_pivot['mb_used'].hist(bins=10)\n",
    "\n",
    "plt.xlabel('Среднее количество МБ интернета')\n",
    "plt.ylabel('Частота распределение')\n",
    "plt.title('Распределение МБ интернета \\n для тарифа смарт')\n",
    "plt.show()"
   ]
  },
  {
   "cell_type": "code",
   "execution_count": 43,
   "metadata": {},
   "outputs": [
    {
     "data": {
      "text/plain": [
       "13520127.156128755"
      ]
     },
     "execution_count": 43,
     "metadata": {},
     "output_type": "execute_result"
    }
   ],
   "source": [
    "variance_estimate = np.var(data_smart_pivot['mb_used'], ddof=1)\n",
    "variance_estimate"
   ]
  },
  {
   "cell_type": "code",
   "execution_count": 44,
   "metadata": {},
   "outputs": [
    {
     "data": {
      "text/plain": [
       "16134.51535294438"
      ]
     },
     "execution_count": 44,
     "metadata": {},
     "output_type": "execute_result"
    }
   ],
   "source": [
    "mean_value = data_smart_pivot['mb_used'].mean()\n",
    "mean_value"
   ]
  },
  {
   "cell_type": "code",
   "execution_count": 45,
   "metadata": {},
   "outputs": [
    {
     "data": {
      "text/plain": [
       "3671.7309644556017"
      ]
     },
     "execution_count": 45,
     "metadata": {},
     "output_type": "execute_result"
    }
   ],
   "source": [
    "standard_deviation = np.std(data_smart_pivot['mb_used'])\n",
    "standard_deviation"
   ]
  },
  {
   "cell_type": "markdown",
   "metadata": {},
   "source": [
    "Вывод: \n",
    "выборка распрделения использованных ГБ интернета имеет норсальное распределение, со средним в 16 ГБ и разбросом даннвх в 3,57 ГБ "
   ]
  },
  {
   "cell_type": "markdown",
   "metadata": {},
   "source": [
    "## Тариф Ультра"
   ]
  },
  {
   "cell_type": "code",
   "execution_count": 46,
   "metadata": {},
   "outputs": [
    {
     "data": {
      "text/html": [
       "<div>\n",
       "<style scoped>\n",
       "    .dataframe tbody tr th:only-of-type {\n",
       "        vertical-align: middle;\n",
       "    }\n",
       "\n",
       "    .dataframe tbody tr th {\n",
       "        vertical-align: top;\n",
       "    }\n",
       "\n",
       "    .dataframe thead th {\n",
       "        text-align: right;\n",
       "    }\n",
       "</style>\n",
       "<table border=\"1\" class=\"dataframe\">\n",
       "  <thead>\n",
       "    <tr style=\"text-align: right;\">\n",
       "      <th></th>\n",
       "      <th>duration_call</th>\n",
       "      <th>mb_used</th>\n",
       "      <th>messages</th>\n",
       "    </tr>\n",
       "    <tr>\n",
       "      <th>user_id</th>\n",
       "      <th></th>\n",
       "      <th></th>\n",
       "      <th></th>\n",
       "    </tr>\n",
       "  </thead>\n",
       "  <tbody>\n",
       "    <tr>\n",
       "      <td>1000</td>\n",
       "      <td>320.750000</td>\n",
       "      <td>13424.038750</td>\n",
       "      <td>62.0</td>\n",
       "    </tr>\n",
       "    <tr>\n",
       "      <td>1003</td>\n",
       "      <td>764.400000</td>\n",
       "      <td>11456.128000</td>\n",
       "      <td>76.0</td>\n",
       "    </tr>\n",
       "    <tr>\n",
       "      <td>1004</td>\n",
       "      <td>123.375000</td>\n",
       "      <td>18629.935000</td>\n",
       "      <td>149.0</td>\n",
       "    </tr>\n",
       "    <tr>\n",
       "      <td>1013</td>\n",
       "      <td>468.000000</td>\n",
       "      <td>15258.580000</td>\n",
       "      <td>21.0</td>\n",
       "    </tr>\n",
       "    <tr>\n",
       "      <td>1016</td>\n",
       "      <td>61.000000</td>\n",
       "      <td>13405.220000</td>\n",
       "      <td>71.0</td>\n",
       "    </tr>\n",
       "    <tr>\n",
       "      <td>...</td>\n",
       "      <td>...</td>\n",
       "      <td>...</td>\n",
       "      <td>...</td>\n",
       "    </tr>\n",
       "    <tr>\n",
       "      <td>1476</td>\n",
       "      <td>467.111111</td>\n",
       "      <td>16698.434444</td>\n",
       "      <td>5.0</td>\n",
       "    </tr>\n",
       "    <tr>\n",
       "      <td>1485</td>\n",
       "      <td>584.000000</td>\n",
       "      <td>23422.760000</td>\n",
       "      <td>155.0</td>\n",
       "    </tr>\n",
       "    <tr>\n",
       "      <td>1491</td>\n",
       "      <td>513.333333</td>\n",
       "      <td>17940.248889</td>\n",
       "      <td>48.0</td>\n",
       "    </tr>\n",
       "    <tr>\n",
       "      <td>1493</td>\n",
       "      <td>372.000000</td>\n",
       "      <td>27209.685000</td>\n",
       "      <td>47.0</td>\n",
       "    </tr>\n",
       "    <tr>\n",
       "      <td>1495</td>\n",
       "      <td>784.000000</td>\n",
       "      <td>25482.112000</td>\n",
       "      <td>68.0</td>\n",
       "    </tr>\n",
       "  </tbody>\n",
       "</table>\n",
       "<p>149 rows × 3 columns</p>\n",
       "</div>"
      ],
      "text/plain": [
       "         duration_call       mb_used  messages\n",
       "user_id                                       \n",
       "1000        320.750000  13424.038750      62.0\n",
       "1003        764.400000  11456.128000      76.0\n",
       "1004        123.375000  18629.935000     149.0\n",
       "1013        468.000000  15258.580000      21.0\n",
       "1016         61.000000  13405.220000      71.0\n",
       "...                ...           ...       ...\n",
       "1476        467.111111  16698.434444       5.0\n",
       "1485        584.000000  23422.760000     155.0\n",
       "1491        513.333333  17940.248889      48.0\n",
       "1493        372.000000  27209.685000      47.0\n",
       "1495        784.000000  25482.112000      68.0\n",
       "\n",
       "[149 rows x 3 columns]"
      ]
     },
     "execution_count": 46,
     "metadata": {},
     "output_type": "execute_result"
    }
   ],
   "source": [
    "data_ultra = data.query('tariff_name == \"ultra\"')\n",
    "data_ultra_pivot = data_ultra.pivot_table(\n",
    "index=['user_id'],\n",
    "values=['duration_call','messages','mb_used'],\n",
    "aggfunc='mean')\n",
    "\n",
    "data_ultra_pivot"
   ]
  },
  {
   "cell_type": "markdown",
   "metadata": {},
   "source": [
    "### Исследуем длительность звонка\n"
   ]
  },
  {
   "cell_type": "code",
   "execution_count": 47,
   "metadata": {},
   "outputs": [
    {
     "data": {
      "image/png": "[encoded data removed]",
      "text/plain": [
       "<Figure size 432x288 with 1 Axes>"
      ]
     },
     "metadata": {
      "needs_background": "light"
     },
     "output_type": "display_data"
    }
   ],
   "source": [
    "data_ultra_pivot['duration_call'].hist(bins=20)\n",
    "\n",
    "plt.xlabel('Средняя  длительность звонка')\n",
    "plt.ylabel('Частота распределение')\n",
    "plt.title('Распределение звонков \\n для тарифа ультра')\n",
    "plt.show()"
   ]
  },
  {
   "cell_type": "code",
   "execution_count": 48,
   "metadata": {},
   "outputs": [
    {
     "data": {
      "text/plain": [
       "80736.81232424302"
      ]
     },
     "execution_count": 48,
     "metadata": {},
     "output_type": "execute_result"
    }
   ],
   "source": [
    "variance_estimate = np.var(data_ultra_pivot['duration_call'], ddof=1)\n",
    "variance_estimate"
   ]
  },
  {
   "cell_type": "code",
   "execution_count": 49,
   "metadata": {},
   "outputs": [
    {
     "data": {
      "text/plain": [
       "524.279390985599"
      ]
     },
     "execution_count": 49,
     "metadata": {},
     "output_type": "execute_result"
    }
   ],
   "source": [
    "mean_value = data_ultra_pivot['duration_call'].mean()\n",
    "mean_value"
   ]
  },
  {
   "cell_type": "code",
   "execution_count": 50,
   "metadata": {},
   "outputs": [
    {
     "data": {
      "text/plain": [
       "283.18713693141"
      ]
     },
     "execution_count": 50,
     "metadata": {},
     "output_type": "execute_result"
    }
   ],
   "source": [
    "standard_deviation = np.std(data_ultra_pivot['duration_call'])\n",
    "standard_deviation"
   ]
  },
  {
   "cell_type": "markdown",
   "metadata": {},
   "source": [
    "Вывод: распределение средней длительности звонка не походе на нормальное. Явно видны выброса данных \n",
    "\n",
    "Среднее значение по выборке 546 минут с разбросом в 267 минут\n",
    "\n",
    "Это оченб большо разброс данных. "
   ]
  },
  {
   "cell_type": "code",
   "execution_count": 51,
   "metadata": {},
   "outputs": [],
   "source": [
    "### Исследуем количество сообщений\n"
   ]
  },
  {
   "cell_type": "code",
   "execution_count": 52,
   "metadata": {},
   "outputs": [
    {
     "data": {
      "image/png": "[encoded data removed]",
      "text/plain": [
       "<Figure size 432x288 with 1 Axes>"
      ]
     },
     "metadata": {
      "needs_background": "light"
     },
     "output_type": "display_data"
    }
   ],
   "source": [
    "data_ultra_pivot['messages'].hist(bins=20)\n",
    "\n",
    "plt.xlabel('Среднее количество сообщений')\n",
    "plt.ylabel('Частота распределение')\n",
    "plt.title('Распределение сообщений \\n для тарифа ультра')\n",
    "plt.show()"
   ]
  },
  {
   "cell_type": "code",
   "execution_count": 53,
   "metadata": {},
   "outputs": [
    {
     "data": {
      "text/plain": [
       "2154.8956829312533"
      ]
     },
     "execution_count": 53,
     "metadata": {},
     "output_type": "execute_result"
    }
   ],
   "source": [
    "variance_estimate = np.var(data_ultra_pivot['messages'], ddof=1)\n",
    "variance_estimate"
   ]
  },
  {
   "cell_type": "code",
   "execution_count": 54,
   "metadata": {},
   "outputs": [
    {
     "data": {
      "text/plain": [
       "53.66812080536913"
      ]
     },
     "execution_count": 54,
     "metadata": {},
     "output_type": "execute_result"
    }
   ],
   "source": [
    "mean_value = data_ultra_pivot['messages'].mean()\n",
    "mean_value"
   ]
  },
  {
   "cell_type": "code",
   "execution_count": 55,
   "metadata": {},
   "outputs": [
    {
     "data": {
      "text/plain": [
       "46.26481704057076"
      ]
     },
     "execution_count": 55,
     "metadata": {},
     "output_type": "execute_result"
    }
   ],
   "source": [
    "standard_deviation = np.std(data_ultra_pivot['messages'])\n",
    "standard_deviation"
   ]
  },
  {
   "cell_type": "markdown",
   "metadata": {},
   "source": [
    "Вывод: данные имеют много выбросов \n",
    "\n",
    "среднее 64 и разбром 43. \n",
    "Это не нормальное распределение; "
   ]
  },
  {
   "cell_type": "code",
   "execution_count": 56,
   "metadata": {},
   "outputs": [
    {
     "data": {
      "image/png": "[encoded data removed]",
      "text/plain": [
       "<Figure size 432x288 with 1 Axes>"
      ]
     },
     "metadata": {
      "needs_background": "light"
     },
     "output_type": "display_data"
    }
   ],
   "source": [
    "data_ultra_pivot['mb_used'].hist(bins=20)\n",
    "\n",
    "plt.xlabel('Среднее количество МБ интернета')\n",
    "plt.ylabel('Частота распределение')\n",
    "plt.title('Распределение МБ интернета \\n для тарифа ультра')\n",
    "plt.show()"
   ]
  },
  {
   "cell_type": "code",
   "execution_count": 57,
   "metadata": {},
   "outputs": [
    {
     "data": {
      "text/plain": [
       "71180608.84282224"
      ]
     },
     "execution_count": 57,
     "metadata": {},
     "output_type": "execute_result"
    }
   ],
   "source": [
    "variance_estimate = np.var(data_ultra_pivot['mb_used'], ddof=1)\n",
    "variance_estimate"
   ]
  },
  {
   "cell_type": "code",
   "execution_count": 58,
   "metadata": {},
   "outputs": [
    {
     "data": {
      "text/plain": [
       "19443.27113495695"
      ]
     },
     "execution_count": 58,
     "metadata": {},
     "output_type": "execute_result"
    }
   ],
   "source": [
    "mean_value = data_ultra_pivot['mb_used'].mean()\n",
    "mean_value"
   ]
  },
  {
   "cell_type": "code",
   "execution_count": 59,
   "metadata": {},
   "outputs": [
    {
     "data": {
      "text/plain": [
       "8408.500855433353"
      ]
     },
     "execution_count": 59,
     "metadata": {},
     "output_type": "execute_result"
    }
   ],
   "source": [
    "standard_deviation = np.std(data_ultra_pivot['mb_used'])\n",
    "standard_deviation"
   ]
  },
  {
   "cell_type": "code",
   "execution_count": 60,
   "metadata": {
    "scrolled": true
   },
   "outputs": [
    {
     "data": {
      "text/html": [
       "<div>\n",
       "<style scoped>\n",
       "    .dataframe tbody tr th:only-of-type {\n",
       "        vertical-align: middle;\n",
       "    }\n",
       "\n",
       "    .dataframe tbody tr th {\n",
       "        vertical-align: top;\n",
       "    }\n",
       "\n",
       "    .dataframe thead th {\n",
       "        text-align: right;\n",
       "    }\n",
       "</style>\n",
       "<table border=\"1\" class=\"dataframe\">\n",
       "  <thead>\n",
       "    <tr style=\"text-align: right;\">\n",
       "      <th></th>\n",
       "      <th>user_id</th>\n",
       "      <th>month</th>\n",
       "      <th>duration_call</th>\n",
       "      <th>messages</th>\n",
       "      <th>mb_used</th>\n",
       "      <th>duration_y</th>\n",
       "      <th>age</th>\n",
       "      <th>churn_date</th>\n",
       "      <th>city</th>\n",
       "      <th>first_name</th>\n",
       "      <th>...</th>\n",
       "      <th>minutes_included</th>\n",
       "      <th>rub_monthly_fee</th>\n",
       "      <th>rub_per_gb</th>\n",
       "      <th>rub_per_message</th>\n",
       "      <th>rub_per_minute</th>\n",
       "      <th>delta_duration</th>\n",
       "      <th>delta_mb</th>\n",
       "      <th>delta_messages</th>\n",
       "      <th>delta_gb</th>\n",
       "      <th>revenue</th>\n",
       "    </tr>\n",
       "  </thead>\n",
       "  <tbody>\n",
       "    <tr>\n",
       "      <td>0</td>\n",
       "      <td>1000</td>\n",
       "      <td>5.0</td>\n",
       "      <td>159.0</td>\n",
       "      <td>22.0</td>\n",
       "      <td>2253.49</td>\n",
       "      <td>159.0</td>\n",
       "      <td>52</td>\n",
       "      <td>0</td>\n",
       "      <td>Краснодар</td>\n",
       "      <td>Рафаил</td>\n",
       "      <td>...</td>\n",
       "      <td>3000</td>\n",
       "      <td>1950</td>\n",
       "      <td>150</td>\n",
       "      <td>1</td>\n",
       "      <td>1</td>\n",
       "      <td>0.0</td>\n",
       "      <td>0.0</td>\n",
       "      <td>0.0</td>\n",
       "      <td>0.0</td>\n",
       "      <td>1950.0</td>\n",
       "    </tr>\n",
       "  </tbody>\n",
       "</table>\n",
       "<p>1 rows × 25 columns</p>\n",
       "</div>"
      ],
      "text/plain": [
       "   user_id  month  duration_call  messages  mb_used  duration_y  age  \\\n",
       "0     1000    5.0          159.0      22.0  2253.49       159.0   52   \n",
       "\n",
       "  churn_date       city first_name  ... minutes_included rub_monthly_fee  \\\n",
       "0          0  Краснодар     Рафаил  ...             3000            1950   \n",
       "\n",
       "  rub_per_gb  rub_per_message  rub_per_minute  delta_duration  delta_mb  \\\n",
       "0        150                1               1             0.0       0.0   \n",
       "\n",
       "   delta_messages  delta_gb  revenue  \n",
       "0             0.0       0.0   1950.0  \n",
       "\n",
       "[1 rows x 25 columns]"
      ]
     },
     "execution_count": 60,
     "metadata": {},
     "output_type": "execute_result"
    }
   ],
   "source": [
    "data.head(1)"
   ]
  },
  {
   "cell_type": "code",
   "execution_count": 61,
   "metadata": {},
   "outputs": [
    {
     "data": {
      "image/png": "[encoded data removed]",
      "text/plain": [
       "<Figure size 720x432 with 1 Axes>"
      ]
     },
     "metadata": {
      "needs_background": "light"
     },
     "output_type": "display_data"
    }
   ],
   "source": [
    "from matplotlib import pyplot as plt\n",
    "\n",
    "\n",
    "\n",
    "plt.figure(figsize=(10, 6))\n",
    "data['duration_call'][data['tariff_name'] == 'smart'].plot(kind='hist', alpha=0.5, bins=30)\n",
    "data['duration_call'][data['tariff_name'] == 'ultra'].plot(kind='hist', alpha=0.5, bins=30)\n",
    "plt.title('Гистограмма распределения продолжительности звонков по 2-м тарифам'+ \"\\n\")\n",
    "plt.xlabel('Минуты')\n",
    "plt.ylabel('Частотность')\n",
    "plt.legend(['smart', 'ultra'])\n",
    "\n",
    "plt.show()"
   ]
  },
  {
   "cell_type": "code",
   "execution_count": 62,
   "metadata": {},
   "outputs": [
    {
     "data": {
      "image/png": "[encoded data removed]",
      "text/plain": [
       "<Figure size 720x432 with 1 Axes>"
      ]
     },
     "metadata": {
      "needs_background": "light"
     },
     "output_type": "display_data"
    }
   ],
   "source": [
    "plt.figure(figsize=(10, 6))\n",
    "data['mb_used'][data['tariff_name'] == 'smart'].plot(kind='hist', alpha=0.5, bins=30)\n",
    "data['mb_used'][data['tariff_name'] == 'ultra'].plot(kind='hist', alpha=0.5, bins=30)\n",
    "plt.title('Гистограмма распределения использованных МБ  по 2-м тарифам'+ \"\\n\")\n",
    "plt.xlabel('МБ')\n",
    "plt.ylabel('Частотность')\n",
    "plt.legend(['smart', 'ultra'])\n",
    "\n",
    "plt.show()"
   ]
  },
  {
   "cell_type": "markdown",
   "metadata": {},
   "source": [
    "<div class=\"alert alert-block alert-info\">\n",
    "<b>Комментарий студента:\n",
    "    \n",
    "    вывод такой: распределение используемых МБ интернета по тарифу ультра имеет больше размах данных. В Тарифк Смарт распределение потребления болльше похоже на нормальное и однородное\n",
    "        \n",
    "        то же касается и звонков </b> "
   ]
  },
  {
   "cell_type": "markdown",
   "metadata": {},
   "source": [
    "## Шаг 4. Проверьте гипотезы\n",
    "средняя выручка пользователей тарифов «Ультра» и «Смарт» различаются;\n",
    "средняя выручка пользователей из Москвы отличается от выручки пользователей из других регионов.\n",
    "Пороговое значение alpha задайте самостоятельно.\n",
    "Поясните:\n",
    "как вы формулировали нулевую и альтернативную гипотезы;\n",
    "какой критерий использовали для проверки гипотез и почему."
   ]
  },
  {
   "cell_type": "markdown",
   "metadata": {},
   "source": [
    "### Гипотеза средняя выручка пользователей тарифов «Ультра» и «Смарт» различаются;"
   ]
  },
  {
   "cell_type": "markdown",
   "metadata": {},
   "source": [
    "Нулевая гипотеза: средняя выручка пользователей по тарифам равна\"\n",
    "\n",
    "    \n",
    "Альтернативная гипотеза: средняя выручка пользователей  тарифа смарт меньше средней выручки по тарифу ультра\n",
    "    \n",
    "Выбрала односторонюю гипотезу, так как нам важно понять, какой тариф больше или меньше приносит денег \n",
    "\n"
   ]
  },
  {
   "cell_type": "code",
   "execution_count": 63,
   "metadata": {},
   "outputs": [
    {
     "data": {
      "text/plain": [
       "2070.030425963489"
      ]
     },
     "execution_count": 63,
     "metadata": {},
     "output_type": "execute_result"
    }
   ],
   "source": [
    "\n",
    "\n",
    "sample_1 = data_smart['revenue']\n",
    "sample_2 = data_ultra['revenue']\n",
    "\n",
    "alpha = .05\n",
    "\n",
    "mean_ultra  = data_ultra['revenue'].mean()\n",
    "mean_ultra"
   ]
  },
  {
   "cell_type": "code",
   "execution_count": 69,
   "metadata": {},
   "outputs": [
    {
     "name": "stdout",
     "output_type": "stream",
     "text": [
      "p-значение:  8.502007597493774e-56\n",
      "Отвергаем нулевую гипотезу\n"
     ]
    }
   ],
   "source": [
    "\n",
    "results = st.ttest_1samp(\n",
    "    sample_1, \n",
    "    mean_ultra)\n",
    "\n",
    "alpha = .05\n",
    "\n",
    "print('p-значение: ', results.pvalue/2)\n",
    "\n",
    "if (results.pvalue / 2 < alpha) and (sample_1.mean() < mean_ultra):\n",
    "    print(\"Отвергаем нулевую гипотезу\")\n",
    "else:\n",
    "    print(\"Не отвергаем нулевую гипотезу\") \n"
   ]
  },
  {
   "cell_type": "markdown",
   "metadata": {},
   "source": [
    "Вывод: средняя выручка пользователей  тарифа смарт меньше средней выручки по тарифу ультра.  Проверено тестом"
   ]
  },
  {
   "cell_type": "markdown",
   "metadata": {},
   "source": [
    "Проверка гипотезы: средняя выручка пользователей из Москвы отличается от выручки пользователей из других регионов. \n",
    "\n",
    "Нулевая гипотеза: выручка пользователей из Москвы равна выручке из других городов\n",
    "\n",
    "Альтернативная гипотеза: выручка пользователей из Москвы  отличается от выручки по другим городам"
   ]
  },
  {
   "cell_type": "code",
   "execution_count": 70,
   "metadata": {},
   "outputs": [
    {
     "name": "stdout",
     "output_type": "stream",
     "text": [
      "p-значение:  0.44244349299632846\n",
      "Не получилось отвергнуть нулевую гипотезу\n"
     ]
    }
   ],
   "source": [
    "test1=data.query('city == \"Москва\"')\n",
    "test2 = data.query('city != \"Москва\"')\n",
    "\n",
    "sample_1 = test1['revenue']\n",
    "sample_2 = test2['revenue']\n",
    "\n",
    "alpha = .05\n",
    "\n",
    "results = st.ttest_ind(\n",
    "    sample_1, \n",
    "    sample_2)\n",
    "\n",
    "print('p-значение: ', results.pvalue)\n",
    "\n",
    "if results.pvalue < alpha:\n",
    "    print(\"Отвергаем нулевую гипотезу\")\n",
    "else:\n",
    "    print(\"Не получилось отвергнуть нулевую гипотезу\") \n",
    "    \n"
   ]
  },
  {
   "cell_type": "markdown",
   "metadata": {},
   "source": [
    "<div class=\"alert alert-block alert-info\">\n",
    "<b>Комментарий студента: Выручка пользователей из Москвы все же равна выручке пользвоателей из других гороов. </b> "
   ]
  },
  {
   "cell_type": "markdown",
   "metadata": {},
   "source": [
    "\n",
    "\n",
    "<div class=\"alert alert-block alert-info\">\n",
    "<b>Комментарий студента:</b> \n",
    "\n",
    "\n",
    "\n",
    "# Общий вывод:\n",
    "    \n",
    "Мы изучали данные о пользователях и тарифах на небольших выборках.\n",
    "    \n",
    "----\n",
    "    \n",
    "В рамках работы были произведены подготовительные этапы:\n",
    "Приведение столбцов к формату дат\n",
    "Округление в соответствии с условиями задачи\n",
    "Расчет показателей выручки по пользователям\n",
    "\n",
    "## Проанализировали отдельно распределение данных по тарифам\n",
    "\n",
    "----\n",
    "    \n",
    "### СМАРТ:\n",
    "\n",
    "* Среднее по длительности звонков в месяц 420 минут с разбросом значений в 143 минуты (в обе стороны).\n",
    "По тарифу включено 550 минут. \n",
    "Таким образом, можно говорить о том, что в среднем пользователи не успевают потратить все минуты тарифа за месяц. \n",
    "\n",
    "*  По количеству сообщений среднее значение 37 шт с отклонением в 24 сообщения. Распределение не нормальное. Большая доля пользователей с количество сообщений менее 10.\n",
    "По тарифу включено 50 бесплатных сообщений.\n",
    "*  Не большая часть пользователей выходит за эти пределы. Можно посчитать долю через перцентили (но это в след уроках)))\n",
    "\n",
    "\n",
    "*  Интернет \n",
    "Можно говорить о том, что в среднем пользователи выходят за бесплатный лимит в 15 ГБ (среднее 16 134 МБ - рано 15, 7 ГБ) , и достаточно большой разброс данных вокруг среднего в 3,5 ГБ \n",
    "    \n",
    "**Таким образом, можно говорить о том, что по тарифу СМАРТ пользователи в основном докупают  интернет  в размере 1-4 ГБ (по цене 150 р за ГБ)**\n",
    "    \n",
    "    \n",
    "----\n",
    "    \n",
    "\n",
    "### УЛЬТРА \n",
    "\n",
    "* Длительность звонка: \n",
    "\n",
    "Среднее значение по выборке 546 минут с разбросом в 267 минут\n",
    "Распределение не нормальное, много выбросов\n",
    "По тарифу включено 3000 минут разговора, и можно говорить о том, что пользователи не «выговаривают» этот тариф. То же и про сообщения\n",
    "\n",
    "* С интернет трафиком ситуация отличается,\n",
    "Можно говорить о среднем потреблении примерно 19 ГБ интернета со средним разбросом в  8 ГБ \n",
    "Однако выше 30 ГБ  - выше тарифа достаточно мало значений.\n",
    "\n",
    "----\n",
    "\n",
    "**По проверенным гипотезам можно сделать вывод о том, что средняя выручка по тарифам различается. Средняя выручка по тарифу Смарт меньше чем по тарифу Ультра.** \n",
    "И мы знаем, что выручка по Москве примерно равна сумме выручки по другим городам \n",
    "\n",
    "**Итого, мы можем  рекомендовать коммерческому департаменту корректировать рекламный бюджет в пользу тарифа ультра.**\n",
    "\n",
    "\n",
    "</div>\n",
    "\n",
    "<font color='blue'>\n",
    "\n",
    "\n",
    "\n",
    "\n"
   ]
  }
 ],
 "metadata": {
  "ExecuteTimeLog": [
   {
    "duration": 287,
    "start_time": "2022-02-23T07:35:55.896Z"
   },
   {
    "duration": 634,
    "start_time": "2022-02-23T07:36:00.792Z"
   },
   {
    "duration": 156,
    "start_time": "2022-02-23T07:36:02.556Z"
   },
   {
    "duration": 19,
    "start_time": "2022-02-23T07:36:06.301Z"
   },
   {
    "duration": 2074,
    "start_time": "2022-02-23T07:37:30.715Z"
   },
   {
    "duration": 395,
    "start_time": "2022-02-23T07:38:03.382Z"
   },
   {
    "duration": 9,
    "start_time": "2022-02-23T07:39:11.276Z"
   },
   {
    "duration": 22,
    "start_time": "2022-02-23T07:39:17.476Z"
   },
   {
    "duration": 32,
    "start_time": "2022-02-23T07:43:05.006Z"
   },
   {
    "duration": 16,
    "start_time": "2022-02-23T07:43:10.596Z"
   },
   {
    "duration": 9,
    "start_time": "2022-02-23T07:44:34.236Z"
   },
   {
    "duration": 19,
    "start_time": "2022-02-23T07:44:51.089Z"
   },
   {
    "duration": 22,
    "start_time": "2022-02-23T07:45:17.313Z"
   },
   {
    "duration": 17,
    "start_time": "2022-02-23T07:45:50.383Z"
   },
   {
    "duration": 23,
    "start_time": "2022-02-23T07:46:17.390Z"
   },
   {
    "duration": 7,
    "start_time": "2022-02-23T07:46:33.711Z"
   },
   {
    "duration": 8,
    "start_time": "2022-02-23T07:46:56.219Z"
   },
   {
    "duration": 7,
    "start_time": "2022-02-23T07:47:34.830Z"
   },
   {
    "duration": 9,
    "start_time": "2022-02-23T07:48:46.038Z"
   },
   {
    "duration": 97,
    "start_time": "2022-02-23T07:49:48.509Z"
   },
   {
    "duration": 28,
    "start_time": "2022-02-23T07:49:56.681Z"
   },
   {
    "duration": 25,
    "start_time": "2022-02-23T07:51:38.102Z"
   },
   {
    "duration": 26,
    "start_time": "2022-02-23T07:52:02.271Z"
   },
   {
    "duration": 25,
    "start_time": "2022-02-23T07:52:10.150Z"
   },
   {
    "duration": 25,
    "start_time": "2022-02-23T07:52:51.719Z"
   },
   {
    "duration": 36,
    "start_time": "2022-02-23T07:52:57.360Z"
   },
   {
    "duration": 75,
    "start_time": "2022-02-23T07:56:18.745Z"
   },
   {
    "duration": 210,
    "start_time": "2022-02-23T07:57:14.830Z"
   },
   {
    "duration": 29,
    "start_time": "2022-02-23T08:06:05.062Z"
   },
   {
    "duration": 15,
    "start_time": "2022-02-23T08:06:09.317Z"
   },
   {
    "duration": 269,
    "start_time": "2022-02-23T08:06:39.252Z"
   },
   {
    "duration": 11,
    "start_time": "2022-02-23T08:07:43.635Z"
   },
   {
    "duration": 275,
    "start_time": "2022-02-23T08:07:48.198Z"
   },
   {
    "duration": 374,
    "start_time": "2022-02-23T08:08:11.752Z"
   },
   {
    "duration": 325,
    "start_time": "2022-02-23T08:09:49.522Z"
   },
   {
    "duration": 333,
    "start_time": "2022-02-23T08:10:03.213Z"
   },
   {
    "duration": 81,
    "start_time": "2022-02-23T08:11:54.612Z"
   },
   {
    "duration": 244,
    "start_time": "2022-02-23T08:12:13.011Z"
   },
   {
    "duration": 704,
    "start_time": "2022-02-23T11:09:04.455Z"
   },
   {
    "duration": 410,
    "start_time": "2022-02-23T11:09:05.161Z"
   },
   {
    "duration": 13,
    "start_time": "2022-02-23T11:09:05.574Z"
   },
   {
    "duration": 27,
    "start_time": "2022-02-23T11:09:05.590Z"
   },
   {
    "duration": 35,
    "start_time": "2022-02-23T11:09:05.619Z"
   },
   {
    "duration": 17,
    "start_time": "2022-02-23T11:09:05.656Z"
   },
   {
    "duration": 43,
    "start_time": "2022-02-23T11:09:05.675Z"
   },
   {
    "duration": 27,
    "start_time": "2022-02-23T11:09:05.720Z"
   },
   {
    "duration": 16,
    "start_time": "2022-02-23T11:09:05.750Z"
   },
   {
    "duration": 52,
    "start_time": "2022-02-23T11:09:05.768Z"
   },
   {
    "duration": 7,
    "start_time": "2022-02-23T11:09:05.822Z"
   },
   {
    "duration": 20,
    "start_time": "2022-02-23T11:09:05.831Z"
   },
   {
    "duration": 23,
    "start_time": "2022-02-23T11:09:05.852Z"
   },
   {
    "duration": 32,
    "start_time": "2022-02-23T11:09:05.877Z"
   },
   {
    "duration": 245,
    "start_time": "2022-02-23T11:09:05.911Z"
   },
   {
    "duration": 6307,
    "start_time": "2022-02-23T11:09:06.157Z"
   },
   {
    "duration": -211,
    "start_time": "2022-02-23T11:09:12.677Z"
   },
   {
    "duration": 26,
    "start_time": "2022-02-23T11:09:18.184Z"
   },
   {
    "duration": 77,
    "start_time": "2022-02-23T11:12:43.041Z"
   },
   {
    "duration": 45,
    "start_time": "2022-02-23T11:12:51.351Z"
   },
   {
    "duration": 12,
    "start_time": "2022-02-23T11:14:06.947Z"
   },
   {
    "duration": 280,
    "start_time": "2022-02-23T11:14:25.835Z"
   },
   {
    "duration": 108,
    "start_time": "2022-02-23T11:21:17.865Z"
   },
   {
    "duration": 29,
    "start_time": "2022-02-23T11:21:32.951Z"
   },
   {
    "duration": 24,
    "start_time": "2022-02-23T11:22:03.643Z"
   },
   {
    "duration": 15,
    "start_time": "2022-02-23T11:22:12.693Z"
   },
   {
    "duration": 10,
    "start_time": "2022-02-23T11:24:26.476Z"
   },
   {
    "duration": 48,
    "start_time": "2022-02-23T11:25:12.536Z"
   },
   {
    "duration": -239,
    "start_time": "2022-02-23T11:25:32.790Z"
   },
   {
    "duration": 9486,
    "start_time": "2022-02-23T11:25:50.058Z"
   },
   {
    "duration": 8,
    "start_time": "2022-02-23T11:31:38.838Z"
   },
   {
    "duration": 6382,
    "start_time": "2022-02-23T11:32:10.856Z"
   },
   {
    "duration": 747,
    "start_time": "2022-02-23T11:32:31.036Z"
   },
   {
    "duration": 433,
    "start_time": "2022-02-23T11:32:31.786Z"
   },
   {
    "duration": 13,
    "start_time": "2022-02-23T11:32:32.221Z"
   },
   {
    "duration": 24,
    "start_time": "2022-02-23T11:32:32.236Z"
   },
   {
    "duration": 46,
    "start_time": "2022-02-23T11:32:32.262Z"
   },
   {
    "duration": 16,
    "start_time": "2022-02-23T11:32:32.310Z"
   },
   {
    "duration": 24,
    "start_time": "2022-02-23T11:32:32.329Z"
   },
   {
    "duration": 29,
    "start_time": "2022-02-23T11:32:32.354Z"
   },
   {
    "duration": 19,
    "start_time": "2022-02-23T11:32:32.408Z"
   },
   {
    "duration": 25,
    "start_time": "2022-02-23T11:32:32.429Z"
   },
   {
    "duration": 7,
    "start_time": "2022-02-23T11:32:32.456Z"
   },
   {
    "duration": 16,
    "start_time": "2022-02-23T11:32:32.465Z"
   },
   {
    "duration": 8,
    "start_time": "2022-02-23T11:32:32.507Z"
   },
   {
    "duration": 36,
    "start_time": "2022-02-23T11:32:32.517Z"
   },
   {
    "duration": 254,
    "start_time": "2022-02-23T11:32:32.555Z"
   },
   {
    "duration": 27,
    "start_time": "2022-02-23T11:32:32.811Z"
   },
   {
    "duration": 46,
    "start_time": "2022-02-23T11:32:32.840Z"
   },
   {
    "duration": 28,
    "start_time": "2022-02-23T11:32:32.888Z"
   },
   {
    "duration": 50,
    "start_time": "2022-02-23T11:32:32.918Z"
   },
   {
    "duration": 10,
    "start_time": "2022-02-23T11:32:46.166Z"
   },
   {
    "duration": 8,
    "start_time": "2022-02-23T11:32:54.115Z"
   },
   {
    "duration": 9,
    "start_time": "2022-02-23T11:33:31.286Z"
   },
   {
    "duration": 333,
    "start_time": "2022-02-23T11:34:36.165Z"
   },
   {
    "duration": 6861,
    "start_time": "2022-02-23T11:34:47.327Z"
   },
   {
    "duration": 6583,
    "start_time": "2022-02-23T11:35:02.705Z"
   },
   {
    "duration": 1956,
    "start_time": "2022-02-23T11:35:07.334Z"
   },
   {
    "duration": 6468,
    "start_time": "2022-02-23T11:35:14.743Z"
   },
   {
    "duration": 6166,
    "start_time": "2022-02-23T11:35:23.432Z"
   },
   {
    "duration": 1980,
    "start_time": "2022-02-23T11:35:27.620Z"
   },
   {
    "duration": 708,
    "start_time": "2022-02-23T11:35:38.562Z"
   },
   {
    "duration": 442,
    "start_time": "2022-02-23T11:35:39.272Z"
   },
   {
    "duration": 13,
    "start_time": "2022-02-23T11:35:39.717Z"
   },
   {
    "duration": 51,
    "start_time": "2022-02-23T11:35:39.732Z"
   },
   {
    "duration": 35,
    "start_time": "2022-02-23T11:35:39.786Z"
   },
   {
    "duration": 17,
    "start_time": "2022-02-23T11:35:39.824Z"
   },
   {
    "duration": 20,
    "start_time": "2022-02-23T11:35:39.843Z"
   },
   {
    "duration": 50,
    "start_time": "2022-02-23T11:35:39.866Z"
   },
   {
    "duration": 16,
    "start_time": "2022-02-23T11:35:39.919Z"
   },
   {
    "duration": 22,
    "start_time": "2022-02-23T11:35:39.937Z"
   },
   {
    "duration": 7,
    "start_time": "2022-02-23T11:35:39.961Z"
   },
   {
    "duration": 19,
    "start_time": "2022-02-23T11:35:39.969Z"
   },
   {
    "duration": 9,
    "start_time": "2022-02-23T11:35:40.008Z"
   },
   {
    "duration": 32,
    "start_time": "2022-02-23T11:35:40.019Z"
   },
   {
    "duration": 256,
    "start_time": "2022-02-23T11:35:40.053Z"
   },
   {
    "duration": 27,
    "start_time": "2022-02-23T11:35:40.311Z"
   },
   {
    "duration": 33,
    "start_time": "2022-02-23T11:35:40.340Z"
   },
   {
    "duration": 60,
    "start_time": "2022-02-23T11:35:40.375Z"
   },
   {
    "duration": 9,
    "start_time": "2022-02-23T11:35:40.437Z"
   },
   {
    "duration": 20,
    "start_time": "2022-02-23T11:35:40.448Z"
   },
   {
    "duration": 330,
    "start_time": "2022-02-23T11:35:40.470Z"
   },
   {
    "duration": 9,
    "start_time": "2022-02-23T11:35:52.308Z"
   },
   {
    "duration": 10,
    "start_time": "2022-02-23T11:36:05.872Z"
   },
   {
    "duration": 9,
    "start_time": "2022-02-23T11:36:10.558Z"
   },
   {
    "duration": 8,
    "start_time": "2022-02-23T11:36:52.826Z"
   },
   {
    "duration": 102,
    "start_time": "2022-02-23T11:37:19.555Z"
   },
   {
    "duration": 19,
    "start_time": "2022-02-23T11:38:42.272Z"
   },
   {
    "duration": 8,
    "start_time": "2022-02-23T11:39:47.246Z"
   },
   {
    "duration": 653,
    "start_time": "2022-02-23T11:40:10.237Z"
   },
   {
    "duration": 212,
    "start_time": "2022-02-23T11:40:43.328Z"
   },
   {
    "duration": 18,
    "start_time": "2022-02-23T11:41:13.772Z"
   },
   {
    "duration": 18,
    "start_time": "2022-02-23T11:47:36.551Z"
   },
   {
    "duration": 18,
    "start_time": "2022-02-23T11:49:00.931Z"
   },
   {
    "duration": 16,
    "start_time": "2022-02-23T11:51:12.282Z"
   },
   {
    "duration": 9,
    "start_time": "2022-02-23T11:51:24.790Z"
   },
   {
    "duration": 17,
    "start_time": "2022-02-23T11:51:30.192Z"
   },
   {
    "duration": 26,
    "start_time": "2022-02-23T11:52:01.921Z"
   },
   {
    "duration": 30,
    "start_time": "2022-02-23T11:52:22.830Z"
   },
   {
    "duration": 304,
    "start_time": "2022-02-23T11:53:09.241Z"
   },
   {
    "duration": 243,
    "start_time": "2022-02-23T11:53:20.413Z"
   },
   {
    "duration": 28,
    "start_time": "2022-02-23T11:53:37.309Z"
   },
   {
    "duration": 16,
    "start_time": "2022-02-23T11:54:16.364Z"
   },
   {
    "duration": 28,
    "start_time": "2022-02-23T11:54:21.086Z"
   },
   {
    "duration": 29,
    "start_time": "2022-02-23T11:57:04.096Z"
   },
   {
    "duration": 259,
    "start_time": "2022-02-23T12:00:18.194Z"
   },
   {
    "duration": 10,
    "start_time": "2022-02-23T12:00:28.253Z"
   },
   {
    "duration": 36,
    "start_time": "2022-02-23T12:00:34.514Z"
   },
   {
    "duration": 749,
    "start_time": "2022-02-23T12:01:01.200Z"
   },
   {
    "duration": 469,
    "start_time": "2022-02-23T12:01:01.951Z"
   },
   {
    "duration": 13,
    "start_time": "2022-02-23T12:01:02.423Z"
   },
   {
    "duration": 31,
    "start_time": "2022-02-23T12:01:02.438Z"
   },
   {
    "duration": 49,
    "start_time": "2022-02-23T12:01:02.471Z"
   },
   {
    "duration": 26,
    "start_time": "2022-02-23T12:01:02.523Z"
   },
   {
    "duration": 24,
    "start_time": "2022-02-23T12:01:02.551Z"
   },
   {
    "duration": 50,
    "start_time": "2022-02-23T12:01:02.577Z"
   },
   {
    "duration": 26,
    "start_time": "2022-02-23T12:01:02.632Z"
   },
   {
    "duration": 58,
    "start_time": "2022-02-23T12:01:02.661Z"
   },
   {
    "duration": 8,
    "start_time": "2022-02-23T12:01:02.722Z"
   },
   {
    "duration": 21,
    "start_time": "2022-02-23T12:01:02.732Z"
   },
   {
    "duration": 24,
    "start_time": "2022-02-23T12:01:02.755Z"
   },
   {
    "duration": 39,
    "start_time": "2022-02-23T12:01:02.781Z"
   },
   {
    "duration": 252,
    "start_time": "2022-02-23T12:01:02.822Z"
   },
   {
    "duration": 35,
    "start_time": "2022-02-23T12:01:03.076Z"
   },
   {
    "duration": 37,
    "start_time": "2022-02-23T12:01:03.113Z"
   },
   {
    "duration": 71,
    "start_time": "2022-02-23T12:01:03.152Z"
   },
   {
    "duration": 12,
    "start_time": "2022-02-23T12:01:03.226Z"
   },
   {
    "duration": 28,
    "start_time": "2022-02-23T12:01:03.241Z"
   },
   {
    "duration": 36,
    "start_time": "2022-02-23T12:01:03.271Z"
   },
   {
    "duration": 8,
    "start_time": "2022-02-23T12:01:03.309Z"
   },
   {
    "duration": 23,
    "start_time": "2022-02-23T12:01:03.319Z"
   },
   {
    "duration": 40,
    "start_time": "2022-02-23T12:01:03.344Z"
   },
   {
    "duration": 41,
    "start_time": "2022-02-23T12:01:03.386Z"
   },
   {
    "duration": 13,
    "start_time": "2022-02-23T12:01:40.613Z"
   },
   {
    "duration": 36,
    "start_time": "2022-02-23T12:03:58.429Z"
   },
   {
    "duration": 721,
    "start_time": "2022-02-23T12:04:20.215Z"
   },
   {
    "duration": 426,
    "start_time": "2022-02-23T12:04:20.939Z"
   },
   {
    "duration": 13,
    "start_time": "2022-02-23T12:04:21.367Z"
   },
   {
    "duration": 25,
    "start_time": "2022-02-23T12:04:21.382Z"
   },
   {
    "duration": 38,
    "start_time": "2022-02-23T12:04:21.409Z"
   },
   {
    "duration": 20,
    "start_time": "2022-02-23T12:04:21.449Z"
   },
   {
    "duration": 45,
    "start_time": "2022-02-23T12:04:21.471Z"
   },
   {
    "duration": 29,
    "start_time": "2022-02-23T12:04:21.519Z"
   },
   {
    "duration": 17,
    "start_time": "2022-02-23T12:04:21.551Z"
   },
   {
    "duration": 48,
    "start_time": "2022-02-23T12:04:21.571Z"
   },
   {
    "duration": 8,
    "start_time": "2022-02-23T12:04:21.621Z"
   },
   {
    "duration": 17,
    "start_time": "2022-02-23T12:04:21.630Z"
   },
   {
    "duration": 10,
    "start_time": "2022-02-23T12:04:21.649Z"
   },
   {
    "duration": 50,
    "start_time": "2022-02-23T12:04:21.661Z"
   },
   {
    "duration": 349,
    "start_time": "2022-02-23T12:04:21.713Z"
   },
   {
    "duration": 42,
    "start_time": "2022-02-23T12:04:22.065Z"
   },
   {
    "duration": 44,
    "start_time": "2022-02-23T12:04:22.110Z"
   },
   {
    "duration": 65,
    "start_time": "2022-02-23T12:04:22.157Z"
   },
   {
    "duration": 12,
    "start_time": "2022-02-23T12:04:22.224Z"
   },
   {
    "duration": 23,
    "start_time": "2022-02-23T12:04:22.239Z"
   },
   {
    "duration": 22,
    "start_time": "2022-02-23T12:04:22.264Z"
   },
   {
    "duration": 25,
    "start_time": "2022-02-23T12:04:22.288Z"
   },
   {
    "duration": 17,
    "start_time": "2022-02-23T12:04:22.317Z"
   },
   {
    "duration": 36,
    "start_time": "2022-02-23T12:04:22.336Z"
   },
   {
    "duration": 54,
    "start_time": "2022-02-23T12:04:22.374Z"
   },
   {
    "duration": 9,
    "start_time": "2022-02-23T12:04:22.430Z"
   },
   {
    "duration": 35,
    "start_time": "2022-02-23T12:04:34.078Z"
   },
   {
    "duration": 752,
    "start_time": "2022-02-23T12:04:43.474Z"
   },
   {
    "duration": 415,
    "start_time": "2022-02-23T12:04:44.229Z"
   },
   {
    "duration": 16,
    "start_time": "2022-02-23T12:04:44.646Z"
   },
   {
    "duration": 35,
    "start_time": "2022-02-23T12:04:44.665Z"
   },
   {
    "duration": 36,
    "start_time": "2022-02-23T12:04:44.702Z"
   },
   {
    "duration": 17,
    "start_time": "2022-02-23T12:04:44.740Z"
   },
   {
    "duration": 22,
    "start_time": "2022-02-23T12:04:44.759Z"
   },
   {
    "duration": 49,
    "start_time": "2022-02-23T12:04:44.783Z"
   },
   {
    "duration": 17,
    "start_time": "2022-02-23T12:04:44.835Z"
   },
   {
    "duration": 22,
    "start_time": "2022-02-23T12:04:44.855Z"
   },
   {
    "duration": 33,
    "start_time": "2022-02-23T12:04:44.879Z"
   },
   {
    "duration": 13,
    "start_time": "2022-02-23T12:04:44.914Z"
   },
   {
    "duration": 12,
    "start_time": "2022-02-23T12:04:44.929Z"
   },
   {
    "duration": 31,
    "start_time": "2022-02-23T12:04:44.942Z"
   },
   {
    "duration": 269,
    "start_time": "2022-02-23T12:04:44.975Z"
   },
   {
    "duration": 27,
    "start_time": "2022-02-23T12:04:45.247Z"
   },
   {
    "duration": 48,
    "start_time": "2022-02-23T12:04:45.276Z"
   },
   {
    "duration": 42,
    "start_time": "2022-02-23T12:04:45.326Z"
   },
   {
    "duration": 10,
    "start_time": "2022-02-23T12:04:45.369Z"
   },
   {
    "duration": 42,
    "start_time": "2022-02-23T12:04:45.381Z"
   },
   {
    "duration": 22,
    "start_time": "2022-02-23T12:04:45.426Z"
   },
   {
    "duration": 10,
    "start_time": "2022-02-23T12:04:45.450Z"
   },
   {
    "duration": 10,
    "start_time": "2022-02-23T12:04:45.462Z"
   },
   {
    "duration": 60,
    "start_time": "2022-02-23T12:04:45.475Z"
   },
   {
    "duration": 27,
    "start_time": "2022-02-23T12:04:45.537Z"
   },
   {
    "duration": 9,
    "start_time": "2022-02-23T12:04:45.565Z"
   },
   {
    "duration": 29,
    "start_time": "2022-02-23T12:07:01.641Z"
   },
   {
    "duration": 34,
    "start_time": "2022-02-23T12:09:22.930Z"
   },
   {
    "duration": 30,
    "start_time": "2022-02-23T12:09:34.213Z"
   },
   {
    "duration": 21,
    "start_time": "2022-02-23T12:09:39.783Z"
   },
   {
    "duration": 624,
    "start_time": "2022-02-26T06:30:50.449Z"
   },
   {
    "duration": 1033,
    "start_time": "2022-02-26T06:30:58.456Z"
   },
   {
    "duration": 541,
    "start_time": "2022-02-26T06:30:59.492Z"
   },
   {
    "duration": 17,
    "start_time": "2022-02-26T06:31:00.036Z"
   },
   {
    "duration": 41,
    "start_time": "2022-02-26T06:31:00.056Z"
   },
   {
    "duration": 46,
    "start_time": "2022-02-26T06:31:00.101Z"
   },
   {
    "duration": 21,
    "start_time": "2022-02-26T06:31:00.162Z"
   },
   {
    "duration": 28,
    "start_time": "2022-02-26T06:31:00.185Z"
   },
   {
    "duration": 71,
    "start_time": "2022-02-26T06:31:00.217Z"
   },
   {
    "duration": 21,
    "start_time": "2022-02-26T06:31:00.291Z"
   },
   {
    "duration": 60,
    "start_time": "2022-02-26T06:31:00.315Z"
   },
   {
    "duration": 12,
    "start_time": "2022-02-26T06:31:00.378Z"
   },
   {
    "duration": 20,
    "start_time": "2022-02-26T06:31:00.393Z"
   },
   {
    "duration": 14,
    "start_time": "2022-02-26T06:31:00.416Z"
   },
   {
    "duration": 73,
    "start_time": "2022-02-26T06:31:00.432Z"
   },
   {
    "duration": 363,
    "start_time": "2022-02-26T06:31:00.508Z"
   },
   {
    "duration": 35,
    "start_time": "2022-02-26T06:31:00.875Z"
   },
   {
    "duration": 80,
    "start_time": "2022-02-26T06:31:00.913Z"
   },
   {
    "duration": 72,
    "start_time": "2022-02-26T06:31:00.996Z"
   },
   {
    "duration": 11,
    "start_time": "2022-02-26T06:31:01.072Z"
   },
   {
    "duration": 26,
    "start_time": "2022-02-26T06:31:01.085Z"
   },
   {
    "duration": 54,
    "start_time": "2022-02-26T06:31:01.114Z"
   },
   {
    "duration": 11,
    "start_time": "2022-02-26T06:31:01.170Z"
   },
   {
    "duration": 17,
    "start_time": "2022-02-26T06:31:01.186Z"
   },
   {
    "duration": 80,
    "start_time": "2022-02-26T06:31:01.206Z"
   },
   {
    "duration": 17,
    "start_time": "2022-02-26T06:31:01.289Z"
   },
   {
    "duration": 65,
    "start_time": "2022-02-26T06:31:01.308Z"
   },
   {
    "duration": 96,
    "start_time": "2022-02-26T06:35:26.613Z"
   },
   {
    "duration": 43,
    "start_time": "2022-02-26T06:38:20.538Z"
   },
   {
    "duration": 39,
    "start_time": "2022-02-26T06:38:39.192Z"
   },
   {
    "duration": 18,
    "start_time": "2022-02-26T06:38:40.112Z"
   },
   {
    "duration": 7769,
    "start_time": "2022-02-26T06:38:44.672Z"
   },
   {
    "duration": 40,
    "start_time": "2022-02-26T06:38:55.951Z"
   },
   {
    "duration": 32,
    "start_time": "2022-02-26T06:39:26.542Z"
   },
   {
    "duration": 18,
    "start_time": "2022-02-26T06:40:10.712Z"
   },
   {
    "duration": 32,
    "start_time": "2022-02-26T06:40:22.252Z"
   },
   {
    "duration": 33,
    "start_time": "2022-02-26T06:42:21.682Z"
   },
   {
    "duration": 32,
    "start_time": "2022-02-26T06:42:33.292Z"
   },
   {
    "duration": 876,
    "start_time": "2022-02-26T06:42:43.871Z"
   },
   {
    "duration": 552,
    "start_time": "2022-02-26T06:42:44.753Z"
   },
   {
    "duration": 16,
    "start_time": "2022-02-26T06:42:45.308Z"
   },
   {
    "duration": 29,
    "start_time": "2022-02-26T06:42:45.327Z"
   },
   {
    "duration": 51,
    "start_time": "2022-02-26T06:42:45.364Z"
   },
   {
    "duration": 44,
    "start_time": "2022-02-26T06:42:45.417Z"
   },
   {
    "duration": 23,
    "start_time": "2022-02-26T06:42:45.465Z"
   },
   {
    "duration": 34,
    "start_time": "2022-02-26T06:42:45.491Z"
   },
   {
    "duration": 51,
    "start_time": "2022-02-26T06:42:45.528Z"
   },
   {
    "duration": 26,
    "start_time": "2022-02-26T06:42:45.582Z"
   },
   {
    "duration": 10,
    "start_time": "2022-02-26T06:42:45.610Z"
   },
   {
    "duration": 46,
    "start_time": "2022-02-26T06:42:45.622Z"
   },
   {
    "duration": 18,
    "start_time": "2022-02-26T06:42:45.671Z"
   },
   {
    "duration": 31,
    "start_time": "2022-02-26T06:42:45.692Z"
   },
   {
    "duration": 373,
    "start_time": "2022-02-26T06:42:45.726Z"
   },
   {
    "duration": 35,
    "start_time": "2022-02-26T06:42:46.102Z"
   },
   {
    "duration": 63,
    "start_time": "2022-02-26T06:42:46.139Z"
   },
   {
    "duration": 84,
    "start_time": "2022-02-26T06:42:46.205Z"
   },
   {
    "duration": 14,
    "start_time": "2022-02-26T06:42:46.292Z"
   },
   {
    "duration": 55,
    "start_time": "2022-02-26T06:42:46.309Z"
   },
   {
    "duration": 27,
    "start_time": "2022-02-26T06:42:46.367Z"
   },
   {
    "duration": 13,
    "start_time": "2022-02-26T06:42:46.397Z"
   },
   {
    "duration": 50,
    "start_time": "2022-02-26T06:42:46.413Z"
   },
   {
    "duration": 34,
    "start_time": "2022-02-26T06:42:46.466Z"
   },
   {
    "duration": 56,
    "start_time": "2022-02-26T06:42:46.507Z"
   },
   {
    "duration": 41,
    "start_time": "2022-02-26T06:42:46.565Z"
   },
   {
    "duration": 50,
    "start_time": "2022-02-26T06:43:58.397Z"
   },
   {
    "duration": 392,
    "start_time": "2022-02-26T06:52:05.149Z"
   },
   {
    "duration": 101,
    "start_time": "2022-02-26T06:52:26.129Z"
   },
   {
    "duration": 98,
    "start_time": "2022-02-26T06:52:37.056Z"
   },
   {
    "duration": 96,
    "start_time": "2022-02-26T06:52:43.746Z"
   },
   {
    "duration": 94,
    "start_time": "2022-02-26T06:53:51.686Z"
   },
   {
    "duration": 98,
    "start_time": "2022-02-26T06:58:05.448Z"
   },
   {
    "duration": 293,
    "start_time": "2022-02-26T06:58:10.908Z"
   },
   {
    "duration": 277,
    "start_time": "2022-02-26T06:59:27.408Z"
   },
   {
    "duration": 309,
    "start_time": "2022-02-26T07:06:41.830Z"
   },
   {
    "duration": 831,
    "start_time": "2022-02-26T07:06:51.196Z"
   },
   {
    "duration": 512,
    "start_time": "2022-02-26T07:06:52.030Z"
   },
   {
    "duration": 19,
    "start_time": "2022-02-26T07:06:52.545Z"
   },
   {
    "duration": 46,
    "start_time": "2022-02-26T07:06:52.566Z"
   },
   {
    "duration": 61,
    "start_time": "2022-02-26T07:06:52.615Z"
   },
   {
    "duration": 19,
    "start_time": "2022-02-26T07:06:52.678Z"
   },
   {
    "duration": 44,
    "start_time": "2022-02-26T07:06:52.701Z"
   },
   {
    "duration": 45,
    "start_time": "2022-02-26T07:06:52.748Z"
   },
   {
    "duration": 19,
    "start_time": "2022-02-26T07:06:52.795Z"
   },
   {
    "duration": 57,
    "start_time": "2022-02-26T07:06:52.817Z"
   },
   {
    "duration": 10,
    "start_time": "2022-02-26T07:06:52.877Z"
   },
   {
    "duration": 25,
    "start_time": "2022-02-26T07:06:52.889Z"
   },
   {
    "duration": 22,
    "start_time": "2022-02-26T07:06:52.916Z"
   },
   {
    "duration": 77,
    "start_time": "2022-02-26T07:06:52.941Z"
   },
   {
    "duration": 320,
    "start_time": "2022-02-26T07:06:53.021Z"
   },
   {
    "duration": 46,
    "start_time": "2022-02-26T07:06:53.344Z"
   },
   {
    "duration": 43,
    "start_time": "2022-02-26T07:06:53.393Z"
   },
   {
    "duration": 73,
    "start_time": "2022-02-26T07:06:53.438Z"
   },
   {
    "duration": 11,
    "start_time": "2022-02-26T07:06:53.513Z"
   },
   {
    "duration": 51,
    "start_time": "2022-02-26T07:06:53.526Z"
   },
   {
    "duration": 24,
    "start_time": "2022-02-26T07:06:53.580Z"
   },
   {
    "duration": 10,
    "start_time": "2022-02-26T07:06:53.608Z"
   },
   {
    "duration": 48,
    "start_time": "2022-02-26T07:06:53.620Z"
   },
   {
    "duration": 38,
    "start_time": "2022-02-26T07:06:53.671Z"
   },
   {
    "duration": 83,
    "start_time": "2022-02-26T07:06:53.712Z"
   },
   {
    "duration": 40,
    "start_time": "2022-02-26T07:06:53.798Z"
   },
   {
    "duration": 53,
    "start_time": "2022-02-26T07:06:53.841Z"
   },
   {
    "duration": 43,
    "start_time": "2022-02-26T07:07:51.718Z"
   },
   {
    "duration": 869,
    "start_time": "2022-02-26T07:17:01.522Z"
   },
   {
    "duration": 497,
    "start_time": "2022-02-26T07:17:02.393Z"
   },
   {
    "duration": 16,
    "start_time": "2022-02-26T07:17:02.893Z"
   },
   {
    "duration": 34,
    "start_time": "2022-02-26T07:17:02.912Z"
   },
   {
    "duration": 46,
    "start_time": "2022-02-26T07:17:02.949Z"
   },
   {
    "duration": 20,
    "start_time": "2022-02-26T07:17:02.998Z"
   },
   {
    "duration": 55,
    "start_time": "2022-02-26T07:17:03.020Z"
   },
   {
    "duration": 34,
    "start_time": "2022-02-26T07:17:03.079Z"
   },
   {
    "duration": 47,
    "start_time": "2022-02-26T07:17:03.116Z"
   },
   {
    "duration": 26,
    "start_time": "2022-02-26T07:17:03.166Z"
   },
   {
    "duration": 11,
    "start_time": "2022-02-26T07:17:03.194Z"
   },
   {
    "duration": 59,
    "start_time": "2022-02-26T07:17:03.208Z"
   },
   {
    "duration": 12,
    "start_time": "2022-02-26T07:17:03.269Z"
   },
   {
    "duration": 38,
    "start_time": "2022-02-26T07:17:03.283Z"
   },
   {
    "duration": 356,
    "start_time": "2022-02-26T07:17:03.323Z"
   },
   {
    "duration": 32,
    "start_time": "2022-02-26T07:17:03.681Z"
   },
   {
    "duration": 71,
    "start_time": "2022-02-26T07:17:03.716Z"
   },
   {
    "duration": 50,
    "start_time": "2022-02-26T07:17:03.790Z"
   },
   {
    "duration": 25,
    "start_time": "2022-02-26T07:17:03.843Z"
   },
   {
    "duration": 26,
    "start_time": "2022-02-26T07:17:03.870Z"
   },
   {
    "duration": 23,
    "start_time": "2022-02-26T07:17:03.899Z"
   },
   {
    "duration": 50,
    "start_time": "2022-02-26T07:17:03.924Z"
   },
   {
    "duration": 11,
    "start_time": "2022-02-26T07:17:03.979Z"
   },
   {
    "duration": 70,
    "start_time": "2022-02-26T07:17:03.993Z"
   },
   {
    "duration": 57,
    "start_time": "2022-02-26T07:17:04.065Z"
   },
   {
    "duration": 61,
    "start_time": "2022-02-26T07:17:04.124Z"
   },
   {
    "duration": 18,
    "start_time": "2022-02-26T07:17:04.188Z"
   },
   {
    "duration": 8114,
    "start_time": "2022-02-26T07:18:30.308Z"
   },
   {
    "duration": 934,
    "start_time": "2022-02-26T07:19:10.239Z"
   },
   {
    "duration": 510,
    "start_time": "2022-02-26T07:19:11.175Z"
   },
   {
    "duration": 16,
    "start_time": "2022-02-26T07:19:11.688Z"
   },
   {
    "duration": 31,
    "start_time": "2022-02-26T07:19:11.707Z"
   },
   {
    "duration": 65,
    "start_time": "2022-02-26T07:19:11.740Z"
   },
   {
    "duration": 23,
    "start_time": "2022-02-26T07:19:11.808Z"
   },
   {
    "duration": 49,
    "start_time": "2022-02-26T07:19:11.834Z"
   },
   {
    "duration": 38,
    "start_time": "2022-02-26T07:19:11.887Z"
   },
   {
    "duration": 51,
    "start_time": "2022-02-26T07:19:11.929Z"
   },
   {
    "duration": 28,
    "start_time": "2022-02-26T07:19:11.983Z"
   },
   {
    "duration": 9,
    "start_time": "2022-02-26T07:19:12.014Z"
   },
   {
    "duration": 47,
    "start_time": "2022-02-26T07:19:12.026Z"
   },
   {
    "duration": 12,
    "start_time": "2022-02-26T07:19:12.076Z"
   },
   {
    "duration": 73,
    "start_time": "2022-02-26T07:19:12.091Z"
   },
   {
    "duration": 347,
    "start_time": "2022-02-26T07:19:12.167Z"
   },
   {
    "duration": 52,
    "start_time": "2022-02-26T07:19:12.517Z"
   },
   {
    "duration": 43,
    "start_time": "2022-02-26T07:19:12.571Z"
   },
   {
    "duration": 77,
    "start_time": "2022-02-26T07:19:12.616Z"
   },
   {
    "duration": 11,
    "start_time": "2022-02-26T07:19:12.695Z"
   },
   {
    "duration": 31,
    "start_time": "2022-02-26T07:19:12.708Z"
   },
   {
    "duration": 43,
    "start_time": "2022-02-26T07:19:12.742Z"
   },
   {
    "duration": 16,
    "start_time": "2022-02-26T07:19:12.788Z"
   },
   {
    "duration": 18,
    "start_time": "2022-02-26T07:19:12.809Z"
   },
   {
    "duration": 58,
    "start_time": "2022-02-26T07:19:12.830Z"
   },
   {
    "duration": 74,
    "start_time": "2022-02-26T07:19:12.890Z"
   },
   {
    "duration": 40,
    "start_time": "2022-02-26T07:19:12.966Z"
   },
   {
    "duration": 15,
    "start_time": "2022-02-26T07:19:13.009Z"
   },
   {
    "duration": 7897,
    "start_time": "2022-02-26T07:19:22.694Z"
   },
   {
    "duration": 7926,
    "start_time": "2022-02-26T07:19:31.218Z"
   },
   {
    "duration": 4,
    "start_time": "2022-02-26T07:19:58.279Z"
   },
   {
    "duration": 487,
    "start_time": "2022-02-26T07:19:59.053Z"
   },
   {
    "duration": 4,
    "start_time": "2022-02-26T07:20:00.999Z"
   },
   {
    "duration": 487,
    "start_time": "2022-02-26T07:20:01.830Z"
   },
   {
    "duration": 13,
    "start_time": "2022-02-26T07:20:04.310Z"
   },
   {
    "duration": 29,
    "start_time": "2022-02-26T07:20:05.609Z"
   },
   {
    "duration": 49,
    "start_time": "2022-02-26T07:20:07.640Z"
   },
   {
    "duration": 22,
    "start_time": "2022-02-26T07:20:10.179Z"
   },
   {
    "duration": 1005,
    "start_time": "2022-02-26T07:20:28.368Z"
   },
   {
    "duration": 530,
    "start_time": "2022-02-26T07:20:29.377Z"
   },
   {
    "duration": 16,
    "start_time": "2022-02-26T07:20:29.910Z"
   },
   {
    "duration": 39,
    "start_time": "2022-02-26T07:20:29.929Z"
   },
   {
    "duration": 57,
    "start_time": "2022-02-26T07:20:29.971Z"
   },
   {
    "duration": 49,
    "start_time": "2022-02-26T07:20:30.031Z"
   },
   {
    "duration": 26,
    "start_time": "2022-02-26T07:20:30.083Z"
   },
   {
    "duration": 73,
    "start_time": "2022-02-26T07:20:30.112Z"
   },
   {
    "duration": 20,
    "start_time": "2022-02-26T07:20:30.189Z"
   },
   {
    "duration": 57,
    "start_time": "2022-02-26T07:20:30.212Z"
   },
   {
    "duration": 11,
    "start_time": "2022-02-26T07:20:30.271Z"
   },
   {
    "duration": 24,
    "start_time": "2022-02-26T07:20:30.285Z"
   },
   {
    "duration": 13,
    "start_time": "2022-02-26T07:20:30.312Z"
   },
   {
    "duration": 62,
    "start_time": "2022-02-26T07:20:30.327Z"
   },
   {
    "duration": 379,
    "start_time": "2022-02-26T07:20:30.391Z"
   },
   {
    "duration": 33,
    "start_time": "2022-02-26T07:20:30.773Z"
   },
   {
    "duration": 66,
    "start_time": "2022-02-26T07:20:30.809Z"
   },
   {
    "duration": 51,
    "start_time": "2022-02-26T07:20:30.877Z"
   },
   {
    "duration": 33,
    "start_time": "2022-02-26T07:20:30.931Z"
   },
   {
    "duration": 40,
    "start_time": "2022-02-26T07:20:30.967Z"
   },
   {
    "duration": 24,
    "start_time": "2022-02-26T07:20:31.009Z"
   },
   {
    "duration": 27,
    "start_time": "2022-02-26T07:20:31.036Z"
   },
   {
    "duration": 11,
    "start_time": "2022-02-26T07:20:31.065Z"
   },
   {
    "duration": 38,
    "start_time": "2022-02-26T07:20:31.078Z"
   },
   {
    "duration": 78,
    "start_time": "2022-02-26T07:20:31.119Z"
   },
   {
    "duration": 38,
    "start_time": "2022-02-26T07:20:31.200Z"
   },
   {
    "duration": 32,
    "start_time": "2022-02-26T07:20:31.243Z"
   },
   {
    "duration": 44,
    "start_time": "2022-02-26T07:22:17.705Z"
   },
   {
    "duration": 19,
    "start_time": "2022-02-26T07:22:50.686Z"
   },
   {
    "duration": 33,
    "start_time": "2022-02-26T07:23:08.685Z"
   },
   {
    "duration": 22,
    "start_time": "2022-02-26T07:23:19.204Z"
   },
   {
    "duration": 31,
    "start_time": "2022-02-26T07:23:24.775Z"
   },
   {
    "duration": 857,
    "start_time": "2022-02-26T07:23:45.641Z"
   },
   {
    "duration": 483,
    "start_time": "2022-02-26T07:23:46.501Z"
   },
   {
    "duration": 16,
    "start_time": "2022-02-26T07:23:46.987Z"
   },
   {
    "duration": 42,
    "start_time": "2022-02-26T07:23:47.006Z"
   },
   {
    "duration": 62,
    "start_time": "2022-02-26T07:23:47.051Z"
   },
   {
    "duration": 20,
    "start_time": "2022-02-26T07:23:47.115Z"
   },
   {
    "duration": 44,
    "start_time": "2022-02-26T07:23:47.138Z"
   },
   {
    "duration": 33,
    "start_time": "2022-02-26T07:23:47.186Z"
   },
   {
    "duration": 52,
    "start_time": "2022-02-26T07:23:47.222Z"
   },
   {
    "duration": 26,
    "start_time": "2022-02-26T07:23:47.276Z"
   },
   {
    "duration": 9,
    "start_time": "2022-02-26T07:23:47.304Z"
   },
   {
    "duration": 55,
    "start_time": "2022-02-26T07:23:47.316Z"
   },
   {
    "duration": 10,
    "start_time": "2022-02-26T07:23:47.374Z"
   },
   {
    "duration": 74,
    "start_time": "2022-02-26T07:23:47.388Z"
   },
   {
    "duration": 346,
    "start_time": "2022-02-26T07:23:47.465Z"
   },
   {
    "duration": 54,
    "start_time": "2022-02-26T07:23:47.815Z"
   },
   {
    "duration": 41,
    "start_time": "2022-02-26T07:23:47.872Z"
   },
   {
    "duration": 86,
    "start_time": "2022-02-26T07:23:47.916Z"
   },
   {
    "duration": 13,
    "start_time": "2022-02-26T07:23:48.005Z"
   },
   {
    "duration": 49,
    "start_time": "2022-02-26T07:23:48.020Z"
   },
   {
    "duration": 24,
    "start_time": "2022-02-26T07:23:48.072Z"
   },
   {
    "duration": 12,
    "start_time": "2022-02-26T07:23:48.099Z"
   },
   {
    "duration": 51,
    "start_time": "2022-02-26T07:23:48.115Z"
   },
   {
    "duration": 52,
    "start_time": "2022-02-26T07:23:48.169Z"
   },
   {
    "duration": 58,
    "start_time": "2022-02-26T07:23:48.223Z"
   },
   {
    "duration": 39,
    "start_time": "2022-02-26T07:23:48.284Z"
   },
   {
    "duration": 42,
    "start_time": "2022-02-26T07:23:48.325Z"
   },
   {
    "duration": 30,
    "start_time": "2022-02-26T07:23:48.369Z"
   },
   {
    "duration": 22,
    "start_time": "2022-02-26T07:28:33.410Z"
   },
   {
    "duration": 47,
    "start_time": "2022-02-26T07:28:38.300Z"
   },
   {
    "duration": 19,
    "start_time": "2022-02-26T07:35:16.989Z"
   },
   {
    "duration": 27,
    "start_time": "2022-02-26T07:35:25.010Z"
   },
   {
    "duration": 19,
    "start_time": "2022-02-26T07:36:46.639Z"
   },
   {
    "duration": 22,
    "start_time": "2022-02-26T07:36:51.810Z"
   },
   {
    "duration": 35,
    "start_time": "2022-02-26T07:37:10.989Z"
   },
   {
    "duration": 5,
    "start_time": "2022-02-26T07:38:17.347Z"
   },
   {
    "duration": 6,
    "start_time": "2022-02-26T07:38:21.813Z"
   },
   {
    "duration": 7,
    "start_time": "2022-02-26T07:40:11.669Z"
   },
   {
    "duration": 3,
    "start_time": "2022-02-26T07:41:50.399Z"
   },
   {
    "duration": 297,
    "start_time": "2022-02-26T07:42:38.368Z"
   },
   {
    "duration": 322,
    "start_time": "2022-02-26T07:46:02.665Z"
   },
   {
    "duration": 6,
    "start_time": "2022-02-26T07:49:03.485Z"
   },
   {
    "duration": 357,
    "start_time": "2022-02-26T07:54:17.945Z"
   },
   {
    "duration": 6,
    "start_time": "2022-02-26T07:54:21.149Z"
   },
   {
    "duration": 6,
    "start_time": "2022-02-26T07:54:22.876Z"
   },
   {
    "duration": 7,
    "start_time": "2022-02-26T07:54:24.284Z"
   },
   {
    "duration": 322,
    "start_time": "2022-02-26T07:57:19.324Z"
   },
   {
    "duration": 7,
    "start_time": "2022-02-26T07:58:26.994Z"
   },
   {
    "duration": 10,
    "start_time": "2022-02-26T07:58:30.665Z"
   },
   {
    "duration": 6,
    "start_time": "2022-02-26T07:58:32.154Z"
   },
   {
    "duration": 4,
    "start_time": "2022-02-26T07:59:46.292Z"
   },
   {
    "duration": 7,
    "start_time": "2022-02-26T08:00:12.099Z"
   },
   {
    "duration": 3,
    "start_time": "2022-02-26T08:00:14.974Z"
   },
   {
    "duration": 4,
    "start_time": "2022-02-26T08:01:31.947Z"
   },
   {
    "duration": 28,
    "start_time": "2022-02-26T08:02:18.654Z"
   },
   {
    "duration": 306,
    "start_time": "2022-02-26T08:03:30.284Z"
   },
   {
    "duration": 8,
    "start_time": "2022-02-26T08:04:27.792Z"
   },
   {
    "duration": 7,
    "start_time": "2022-02-26T08:04:29.065Z"
   },
   {
    "duration": 7,
    "start_time": "2022-02-26T08:04:30.473Z"
   },
   {
    "duration": 364,
    "start_time": "2022-02-26T08:06:25.108Z"
   },
   {
    "duration": 412,
    "start_time": "2022-02-26T08:08:58.834Z"
   },
   {
    "duration": 358,
    "start_time": "2022-02-26T08:09:05.596Z"
   },
   {
    "duration": 371,
    "start_time": "2022-02-26T08:09:22.812Z"
   },
   {
    "duration": 8,
    "start_time": "2022-02-26T08:10:00.185Z"
   },
   {
    "duration": 6,
    "start_time": "2022-02-26T08:10:01.214Z"
   },
   {
    "duration": 5,
    "start_time": "2022-02-26T08:10:02.454Z"
   },
   {
    "duration": 104,
    "start_time": "2022-02-26T08:25:34.044Z"
   },
   {
    "duration": 424,
    "start_time": "2022-02-26T08:25:50.244Z"
   },
   {
    "duration": 602,
    "start_time": "2022-02-26T08:26:55.179Z"
   },
   {
    "duration": 1421,
    "start_time": "2022-02-26T08:27:05.710Z"
   },
   {
    "duration": 546,
    "start_time": "2022-02-26T08:27:07.134Z"
   },
   {
    "duration": 17,
    "start_time": "2022-02-26T08:27:07.684Z"
   },
   {
    "duration": 29,
    "start_time": "2022-02-26T08:27:07.704Z"
   },
   {
    "duration": 66,
    "start_time": "2022-02-26T08:27:07.736Z"
   },
   {
    "duration": 19,
    "start_time": "2022-02-26T08:27:07.805Z"
   },
   {
    "duration": 42,
    "start_time": "2022-02-26T08:27:07.827Z"
   },
   {
    "duration": 30,
    "start_time": "2022-02-26T08:27:07.873Z"
   },
   {
    "duration": 20,
    "start_time": "2022-02-26T08:27:07.906Z"
   },
   {
    "duration": 53,
    "start_time": "2022-02-26T08:27:07.929Z"
   },
   {
    "duration": 9,
    "start_time": "2022-02-26T08:27:07.985Z"
   },
   {
    "duration": 20,
    "start_time": "2022-02-26T08:27:07.997Z"
   },
   {
    "duration": 45,
    "start_time": "2022-02-26T08:27:08.020Z"
   },
   {
    "duration": 32,
    "start_time": "2022-02-26T08:27:08.068Z"
   },
   {
    "duration": 361,
    "start_time": "2022-02-26T08:27:08.103Z"
   },
   {
    "duration": 32,
    "start_time": "2022-02-26T08:27:08.468Z"
   },
   {
    "duration": 65,
    "start_time": "2022-02-26T08:27:08.503Z"
   },
   {
    "duration": 53,
    "start_time": "2022-02-26T08:27:08.570Z"
   },
   {
    "duration": 13,
    "start_time": "2022-02-26T08:27:08.626Z"
   },
   {
    "duration": 24,
    "start_time": "2022-02-26T08:27:08.662Z"
   },
   {
    "duration": 26,
    "start_time": "2022-02-26T08:27:08.689Z"
   },
   {
    "duration": 10,
    "start_time": "2022-02-26T08:27:08.717Z"
   },
   {
    "duration": 45,
    "start_time": "2022-02-26T08:27:08.733Z"
   },
   {
    "duration": 31,
    "start_time": "2022-02-26T08:27:08.782Z"
   },
   {
    "duration": 91,
    "start_time": "2022-02-26T08:27:08.816Z"
   },
   {
    "duration": 56,
    "start_time": "2022-02-26T08:27:08.911Z"
   },
   {
    "duration": 24,
    "start_time": "2022-02-26T08:27:08.969Z"
   },
   {
    "duration": 75,
    "start_time": "2022-02-26T08:27:08.996Z"
   },
   {
    "duration": 32,
    "start_time": "2022-02-26T08:27:09.074Z"
   },
   {
    "duration": 7,
    "start_time": "2022-02-26T08:27:09.108Z"
   },
   {
    "duration": 46,
    "start_time": "2022-02-26T08:27:09.117Z"
   },
   {
    "duration": 10,
    "start_time": "2022-02-26T08:27:09.166Z"
   },
   {
    "duration": 398,
    "start_time": "2022-02-26T08:27:09.180Z"
   },
   {
    "duration": 372,
    "start_time": "2022-02-26T08:27:09.581Z"
   },
   {
    "duration": 6,
    "start_time": "2022-02-26T08:27:09.963Z"
   },
   {
    "duration": 9,
    "start_time": "2022-02-26T08:27:09.972Z"
   },
   {
    "duration": 15,
    "start_time": "2022-02-26T08:27:09.983Z"
   },
   {
    "duration": 370,
    "start_time": "2022-02-26T08:27:10.000Z"
   },
   {
    "duration": 8,
    "start_time": "2022-02-26T08:27:10.373Z"
   },
   {
    "duration": 9,
    "start_time": "2022-02-26T08:27:10.384Z"
   },
   {
    "duration": 10,
    "start_time": "2022-02-26T08:27:10.396Z"
   },
   {
    "duration": 71,
    "start_time": "2022-02-26T08:27:10.408Z"
   },
   {
    "duration": 386,
    "start_time": "2022-02-26T08:27:10.481Z"
   },
   {
    "duration": 7,
    "start_time": "2022-02-26T08:27:10.869Z"
   },
   {
    "duration": 11,
    "start_time": "2022-02-26T08:27:10.878Z"
   },
   {
    "duration": 10,
    "start_time": "2022-02-26T08:27:10.892Z"
   },
   {
    "duration": 7,
    "start_time": "2022-02-26T08:27:10.905Z"
   },
   {
    "duration": 492,
    "start_time": "2022-02-26T08:27:10.915Z"
   },
   {
    "duration": 6,
    "start_time": "2022-02-26T08:27:11.410Z"
   },
   {
    "duration": 10,
    "start_time": "2022-02-26T08:27:11.420Z"
   },
   {
    "duration": 33,
    "start_time": "2022-02-26T08:27:11.433Z"
   },
   {
    "duration": 92,
    "start_time": "2022-02-26T08:27:11.469Z"
   },
   {
    "duration": -265,
    "start_time": "2022-02-26T08:27:11.830Z"
   },
   {
    "duration": 415,
    "start_time": "2022-02-26T08:28:13.781Z"
   },
   {
    "duration": 1305,
    "start_time": "2022-02-26T08:28:26.515Z"
   },
   {
    "duration": 488,
    "start_time": "2022-02-26T08:28:27.823Z"
   },
   {
    "duration": 16,
    "start_time": "2022-02-26T08:28:28.315Z"
   },
   {
    "duration": 29,
    "start_time": "2022-02-26T08:28:28.334Z"
   },
   {
    "duration": 53,
    "start_time": "2022-02-26T08:28:28.366Z"
   },
   {
    "duration": 45,
    "start_time": "2022-02-26T08:28:28.422Z"
   },
   {
    "duration": 24,
    "start_time": "2022-02-26T08:28:28.470Z"
   },
   {
    "duration": 31,
    "start_time": "2022-02-26T08:28:28.498Z"
   },
   {
    "duration": 20,
    "start_time": "2022-02-26T08:28:28.564Z"
   },
   {
    "duration": 26,
    "start_time": "2022-02-26T08:28:28.588Z"
   },
   {
    "duration": 9,
    "start_time": "2022-02-26T08:28:28.617Z"
   },
   {
    "duration": 12,
    "start_time": "2022-02-26T08:28:28.663Z"
   },
   {
    "duration": 10,
    "start_time": "2022-02-26T08:28:28.677Z"
   },
   {
    "duration": 40,
    "start_time": "2022-02-26T08:28:28.690Z"
   },
   {
    "duration": 371,
    "start_time": "2022-02-26T08:28:28.733Z"
   },
   {
    "duration": 34,
    "start_time": "2022-02-26T08:28:29.107Z"
   },
   {
    "duration": 59,
    "start_time": "2022-02-26T08:28:29.144Z"
   },
   {
    "duration": 77,
    "start_time": "2022-02-26T08:28:29.206Z"
   },
   {
    "duration": 12,
    "start_time": "2022-02-26T08:28:29.285Z"
   },
   {
    "duration": 23,
    "start_time": "2022-02-26T08:28:29.299Z"
   },
   {
    "duration": 49,
    "start_time": "2022-02-26T08:28:29.324Z"
   },
   {
    "duration": 11,
    "start_time": "2022-02-26T08:28:29.376Z"
   },
   {
    "duration": 19,
    "start_time": "2022-02-26T08:28:29.389Z"
   },
   {
    "duration": 55,
    "start_time": "2022-02-26T08:28:29.410Z"
   },
   {
    "duration": 56,
    "start_time": "2022-02-26T08:28:29.468Z"
   },
   {
    "duration": 60,
    "start_time": "2022-02-26T08:28:29.527Z"
   },
   {
    "duration": 19,
    "start_time": "2022-02-26T08:28:29.593Z"
   },
   {
    "duration": 53,
    "start_time": "2022-02-26T08:28:29.615Z"
   },
   {
    "duration": 31,
    "start_time": "2022-02-26T08:28:29.671Z"
   },
   {
    "duration": 6,
    "start_time": "2022-02-26T08:28:29.704Z"
   },
   {
    "duration": 13,
    "start_time": "2022-02-26T08:28:29.713Z"
   },
   {
    "duration": 36,
    "start_time": "2022-02-26T08:28:29.729Z"
   },
   {
    "duration": 333,
    "start_time": "2022-02-26T08:28:29.767Z"
   },
   {
    "duration": 333,
    "start_time": "2022-02-26T08:28:30.102Z"
   },
   {
    "duration": 23,
    "start_time": "2022-02-26T08:28:30.439Z"
   },
   {
    "duration": 9,
    "start_time": "2022-02-26T08:28:30.465Z"
   },
   {
    "duration": 16,
    "start_time": "2022-02-26T08:28:30.477Z"
   },
   {
    "duration": 334,
    "start_time": "2022-02-26T08:28:30.496Z"
   },
   {
    "duration": 8,
    "start_time": "2022-02-26T08:28:30.833Z"
   },
   {
    "duration": 8,
    "start_time": "2022-02-26T08:28:30.863Z"
   },
   {
    "duration": 14,
    "start_time": "2022-02-26T08:28:30.874Z"
   },
   {
    "duration": 31,
    "start_time": "2022-02-26T08:28:30.891Z"
   },
   {
    "duration": 379,
    "start_time": "2022-02-26T08:28:30.924Z"
   },
   {
    "duration": 5,
    "start_time": "2022-02-26T08:28:31.306Z"
   },
   {
    "duration": 17,
    "start_time": "2022-02-26T08:28:31.313Z"
   },
   {
    "duration": 30,
    "start_time": "2022-02-26T08:28:31.333Z"
   },
   {
    "duration": 24,
    "start_time": "2022-02-26T08:28:31.366Z"
   },
   {
    "duration": 373,
    "start_time": "2022-02-26T08:28:31.393Z"
   },
   {
    "duration": 6,
    "start_time": "2022-02-26T08:28:31.769Z"
   },
   {
    "duration": 12,
    "start_time": "2022-02-26T08:28:31.777Z"
   },
   {
    "duration": 13,
    "start_time": "2022-02-26T08:28:31.791Z"
   },
   {
    "duration": 420,
    "start_time": "2022-02-26T08:28:31.806Z"
   },
   {
    "duration": 4,
    "start_time": "2022-02-26T08:29:11.541Z"
   },
   {
    "duration": 1419,
    "start_time": "2022-02-26T08:29:18.135Z"
   },
   {
    "duration": 518,
    "start_time": "2022-02-26T08:29:19.561Z"
   },
   {
    "duration": 18,
    "start_time": "2022-02-26T08:29:20.082Z"
   },
   {
    "duration": 30,
    "start_time": "2022-02-26T08:29:20.104Z"
   },
   {
    "duration": 70,
    "start_time": "2022-02-26T08:29:20.137Z"
   },
   {
    "duration": 20,
    "start_time": "2022-02-26T08:29:20.209Z"
   },
   {
    "duration": 47,
    "start_time": "2022-02-26T08:29:20.232Z"
   },
   {
    "duration": 30,
    "start_time": "2022-02-26T08:29:20.283Z"
   },
   {
    "duration": 49,
    "start_time": "2022-02-26T08:29:20.316Z"
   },
   {
    "duration": 26,
    "start_time": "2022-02-26T08:29:20.368Z"
   },
   {
    "duration": 9,
    "start_time": "2022-02-26T08:29:20.397Z"
   },
   {
    "duration": 15,
    "start_time": "2022-02-26T08:29:20.408Z"
   },
   {
    "duration": 43,
    "start_time": "2022-02-26T08:29:20.426Z"
   },
   {
    "duration": 38,
    "start_time": "2022-02-26T08:29:20.472Z"
   },
   {
    "duration": 365,
    "start_time": "2022-02-26T08:29:20.513Z"
   },
   {
    "duration": 38,
    "start_time": "2022-02-26T08:29:20.881Z"
   },
   {
    "duration": 67,
    "start_time": "2022-02-26T08:29:20.923Z"
   },
   {
    "duration": 69,
    "start_time": "2022-02-26T08:29:20.993Z"
   },
   {
    "duration": 13,
    "start_time": "2022-02-26T08:29:21.065Z"
   },
   {
    "duration": 29,
    "start_time": "2022-02-26T08:29:21.081Z"
   },
   {
    "duration": 25,
    "start_time": "2022-02-26T08:29:21.113Z"
   },
   {
    "duration": 10,
    "start_time": "2022-02-26T08:29:21.166Z"
   },
   {
    "duration": 15,
    "start_time": "2022-02-26T08:29:21.179Z"
   },
   {
    "duration": 29,
    "start_time": "2022-02-26T08:29:21.197Z"
   },
   {
    "duration": 88,
    "start_time": "2022-02-26T08:29:21.228Z"
   },
   {
    "duration": 54,
    "start_time": "2022-02-26T08:29:21.319Z"
   },
   {
    "duration": 18,
    "start_time": "2022-02-26T08:29:21.375Z"
   },
   {
    "duration": 32,
    "start_time": "2022-02-26T08:29:21.396Z"
   },
   {
    "duration": 57,
    "start_time": "2022-02-26T08:29:21.431Z"
   },
   {
    "duration": 7,
    "start_time": "2022-02-26T08:29:21.490Z"
   },
   {
    "duration": 7,
    "start_time": "2022-02-26T08:29:21.499Z"
   },
   {
    "duration": 8,
    "start_time": "2022-02-26T08:29:21.509Z"
   },
   {
    "duration": 320,
    "start_time": "2022-02-26T08:29:21.564Z"
   },
   {
    "duration": 347,
    "start_time": "2022-02-26T08:29:21.887Z"
   },
   {
    "duration": 7,
    "start_time": "2022-02-26T08:29:22.237Z"
   },
   {
    "duration": 21,
    "start_time": "2022-02-26T08:29:22.246Z"
   },
   {
    "duration": 9,
    "start_time": "2022-02-26T08:29:22.270Z"
   },
   {
    "duration": 343,
    "start_time": "2022-02-26T08:29:22.282Z"
   },
   {
    "duration": 6,
    "start_time": "2022-02-26T08:29:22.627Z"
   },
   {
    "duration": 14,
    "start_time": "2022-02-26T08:29:22.635Z"
   },
   {
    "duration": 6,
    "start_time": "2022-02-26T08:29:22.663Z"
   },
   {
    "duration": 32,
    "start_time": "2022-02-26T08:29:22.671Z"
   },
   {
    "duration": 385,
    "start_time": "2022-02-26T08:29:22.706Z"
   },
   {
    "duration": 6,
    "start_time": "2022-02-26T08:29:23.094Z"
   },
   {
    "duration": 7,
    "start_time": "2022-02-26T08:29:23.102Z"
   },
   {
    "duration": 7,
    "start_time": "2022-02-26T08:29:23.112Z"
   },
   {
    "duration": 6,
    "start_time": "2022-02-26T08:29:23.121Z"
   },
   {
    "duration": 390,
    "start_time": "2022-02-26T08:29:23.129Z"
   },
   {
    "duration": 6,
    "start_time": "2022-02-26T08:29:23.522Z"
   },
   {
    "duration": 8,
    "start_time": "2022-02-26T08:29:23.531Z"
   },
   {
    "duration": 6,
    "start_time": "2022-02-26T08:29:23.563Z"
   },
   {
    "duration": 447,
    "start_time": "2022-02-26T08:29:23.571Z"
   },
   {
    "duration": 303,
    "start_time": "2022-02-26T08:29:40.344Z"
   },
   {
    "duration": 7,
    "start_time": "2022-02-26T08:32:03.014Z"
   },
   {
    "duration": 12,
    "start_time": "2022-02-26T08:33:38.635Z"
   },
   {
    "duration": 295,
    "start_time": "2022-02-26T08:34:08.064Z"
   },
   {
    "duration": 13,
    "start_time": "2022-02-26T08:34:31.767Z"
   },
   {
    "duration": 44,
    "start_time": "2022-02-26T08:34:55.845Z"
   },
   {
    "duration": 18,
    "start_time": "2022-02-26T08:37:13.451Z"
   },
   {
    "duration": 19,
    "start_time": "2022-02-26T08:37:24.715Z"
   },
   {
    "duration": 19,
    "start_time": "2022-02-26T08:37:28.684Z"
   },
   {
    "duration": 1477,
    "start_time": "2022-02-26T08:37:37.353Z"
   },
   {
    "duration": 548,
    "start_time": "2022-02-26T08:37:38.834Z"
   },
   {
    "duration": 16,
    "start_time": "2022-02-26T08:37:39.387Z"
   },
   {
    "duration": 38,
    "start_time": "2022-02-26T08:37:39.406Z"
   },
   {
    "duration": 62,
    "start_time": "2022-02-26T08:37:39.447Z"
   },
   {
    "duration": 21,
    "start_time": "2022-02-26T08:37:39.512Z"
   },
   {
    "duration": 48,
    "start_time": "2022-02-26T08:37:39.536Z"
   },
   {
    "duration": 32,
    "start_time": "2022-02-26T08:37:39.587Z"
   },
   {
    "duration": 48,
    "start_time": "2022-02-26T08:37:39.624Z"
   },
   {
    "duration": 29,
    "start_time": "2022-02-26T08:37:39.675Z"
   },
   {
    "duration": 9,
    "start_time": "2022-02-26T08:37:39.707Z"
   },
   {
    "duration": 44,
    "start_time": "2022-02-26T08:37:39.720Z"
   },
   {
    "duration": 9,
    "start_time": "2022-02-26T08:37:39.766Z"
   },
   {
    "duration": 47,
    "start_time": "2022-02-26T08:37:39.778Z"
   },
   {
    "duration": 356,
    "start_time": "2022-02-26T08:37:39.828Z"
   },
   {
    "duration": 32,
    "start_time": "2022-02-26T08:37:40.187Z"
   },
   {
    "duration": 62,
    "start_time": "2022-02-26T08:37:40.221Z"
   },
   {
    "duration": 50,
    "start_time": "2022-02-26T08:37:40.285Z"
   },
   {
    "duration": 27,
    "start_time": "2022-02-26T08:37:40.338Z"
   },
   {
    "duration": 38,
    "start_time": "2022-02-26T08:37:40.367Z"
   },
   {
    "duration": 29,
    "start_time": "2022-02-26T08:37:40.408Z"
   },
   {
    "duration": 22,
    "start_time": "2022-02-26T08:37:40.440Z"
   },
   {
    "duration": 11,
    "start_time": "2022-02-26T08:37:40.465Z"
   },
   {
    "duration": 35,
    "start_time": "2022-02-26T08:37:40.479Z"
   },
   {
    "duration": 78,
    "start_time": "2022-02-26T08:37:40.517Z"
   },
   {
    "duration": 40,
    "start_time": "2022-02-26T08:37:40.597Z"
   },
   {
    "duration": 34,
    "start_time": "2022-02-26T08:37:40.642Z"
   },
   {
    "duration": 59,
    "start_time": "2022-02-26T08:37:40.679Z"
   },
   {
    "duration": 34,
    "start_time": "2022-02-26T08:37:40.740Z"
   },
   {
    "duration": 7,
    "start_time": "2022-02-26T08:37:40.776Z"
   },
   {
    "duration": 22,
    "start_time": "2022-02-26T08:37:40.785Z"
   },
   {
    "duration": 14,
    "start_time": "2022-02-26T08:37:40.809Z"
   },
   {
    "duration": 376,
    "start_time": "2022-02-26T08:37:40.825Z"
   },
   {
    "duration": 349,
    "start_time": "2022-02-26T08:37:41.204Z"
   },
   {
    "duration": 6,
    "start_time": "2022-02-26T08:37:41.562Z"
   },
   {
    "duration": 12,
    "start_time": "2022-02-26T08:37:41.570Z"
   },
   {
    "duration": 8,
    "start_time": "2022-02-26T08:37:41.585Z"
   },
   {
    "duration": 343,
    "start_time": "2022-02-26T08:37:41.596Z"
   },
   {
    "duration": 6,
    "start_time": "2022-02-26T08:37:41.942Z"
   },
   {
    "duration": 7,
    "start_time": "2022-02-26T08:37:41.963Z"
   },
   {
    "duration": 7,
    "start_time": "2022-02-26T08:37:41.972Z"
   },
   {
    "duration": 33,
    "start_time": "2022-02-26T08:37:41.981Z"
   },
   {
    "duration": 371,
    "start_time": "2022-02-26T08:37:42.016Z"
   },
   {
    "duration": 6,
    "start_time": "2022-02-26T08:37:42.389Z"
   },
   {
    "duration": 16,
    "start_time": "2022-02-26T08:37:42.397Z"
   },
   {
    "duration": 6,
    "start_time": "2022-02-26T08:37:42.415Z"
   },
   {
    "duration": 4,
    "start_time": "2022-02-26T08:37:42.424Z"
   },
   {
    "duration": 377,
    "start_time": "2022-02-26T08:37:42.430Z"
   },
   {
    "duration": 6,
    "start_time": "2022-02-26T08:37:42.809Z"
   },
   {
    "duration": 9,
    "start_time": "2022-02-26T08:37:42.817Z"
   },
   {
    "duration": 35,
    "start_time": "2022-02-26T08:37:42.828Z"
   },
   {
    "duration": 11,
    "start_time": "2022-02-26T08:37:42.865Z"
   },
   {
    "duration": 23,
    "start_time": "2022-02-26T08:39:04.569Z"
   },
   {
    "duration": 44,
    "start_time": "2022-02-26T08:39:07.006Z"
   },
   {
    "duration": 1386,
    "start_time": "2022-02-26T08:39:20.235Z"
   },
   {
    "duration": 486,
    "start_time": "2022-02-26T08:39:21.624Z"
   },
   {
    "duration": 16,
    "start_time": "2022-02-26T08:39:22.114Z"
   },
   {
    "duration": 37,
    "start_time": "2022-02-26T08:39:22.133Z"
   },
   {
    "duration": 54,
    "start_time": "2022-02-26T08:39:22.172Z"
   },
   {
    "duration": 41,
    "start_time": "2022-02-26T08:39:22.229Z"
   },
   {
    "duration": 23,
    "start_time": "2022-02-26T08:39:22.272Z"
   },
   {
    "duration": 35,
    "start_time": "2022-02-26T08:39:22.299Z"
   },
   {
    "duration": 40,
    "start_time": "2022-02-26T08:39:22.337Z"
   },
   {
    "duration": 30,
    "start_time": "2022-02-26T08:39:22.380Z"
   },
   {
    "duration": 12,
    "start_time": "2022-02-26T08:39:22.412Z"
   },
   {
    "duration": 47,
    "start_time": "2022-02-26T08:39:22.427Z"
   },
   {
    "duration": 10,
    "start_time": "2022-02-26T08:39:22.476Z"
   },
   {
    "duration": 33,
    "start_time": "2022-02-26T08:39:22.489Z"
   },
   {
    "duration": 372,
    "start_time": "2022-02-26T08:39:22.525Z"
   },
   {
    "duration": 31,
    "start_time": "2022-02-26T08:39:22.900Z"
   },
   {
    "duration": 59,
    "start_time": "2022-02-26T08:39:22.934Z"
   },
   {
    "duration": 49,
    "start_time": "2022-02-26T08:39:22.996Z"
   },
   {
    "duration": 24,
    "start_time": "2022-02-26T08:39:23.048Z"
   },
   {
    "duration": 24,
    "start_time": "2022-02-26T08:39:23.074Z"
   },
   {
    "duration": 24,
    "start_time": "2022-02-26T08:39:23.100Z"
   },
   {
    "duration": 37,
    "start_time": "2022-02-26T08:39:23.126Z"
   },
   {
    "duration": 10,
    "start_time": "2022-02-26T08:39:23.168Z"
   },
   {
    "duration": 31,
    "start_time": "2022-02-26T08:39:23.181Z"
   },
   {
    "duration": 85,
    "start_time": "2022-02-26T08:39:23.215Z"
   },
   {
    "duration": 39,
    "start_time": "2022-02-26T08:39:23.302Z"
   },
   {
    "duration": 35,
    "start_time": "2022-02-26T08:39:23.344Z"
   },
   {
    "duration": 45,
    "start_time": "2022-02-26T08:39:23.381Z"
   },
   {
    "duration": 59,
    "start_time": "2022-02-26T08:39:23.429Z"
   },
   {
    "duration": 7,
    "start_time": "2022-02-26T08:39:23.490Z"
   },
   {
    "duration": 15,
    "start_time": "2022-02-26T08:39:23.500Z"
   },
   {
    "duration": 9,
    "start_time": "2022-02-26T08:39:23.517Z"
   },
   {
    "duration": 327,
    "start_time": "2022-02-26T08:39:23.561Z"
   },
   {
    "duration": 364,
    "start_time": "2022-02-26T08:39:23.890Z"
   },
   {
    "duration": 10,
    "start_time": "2022-02-26T08:39:24.256Z"
   },
   {
    "duration": 12,
    "start_time": "2022-02-26T08:39:24.269Z"
   },
   {
    "duration": 7,
    "start_time": "2022-02-26T08:39:24.284Z"
   },
   {
    "duration": 345,
    "start_time": "2022-02-26T08:39:24.293Z"
   },
   {
    "duration": 6,
    "start_time": "2022-02-26T08:39:24.641Z"
   },
   {
    "duration": 17,
    "start_time": "2022-02-26T08:39:24.649Z"
   },
   {
    "duration": 8,
    "start_time": "2022-02-26T08:39:24.669Z"
   },
   {
    "duration": 30,
    "start_time": "2022-02-26T08:39:24.679Z"
   },
   {
    "duration": 400,
    "start_time": "2022-02-26T08:39:24.712Z"
   },
   {
    "duration": 7,
    "start_time": "2022-02-26T08:39:25.115Z"
   },
   {
    "duration": 9,
    "start_time": "2022-02-26T08:39:25.125Z"
   },
   {
    "duration": 27,
    "start_time": "2022-02-26T08:39:25.137Z"
   },
   {
    "duration": 13,
    "start_time": "2022-02-26T08:39:25.166Z"
   },
   {
    "duration": 374,
    "start_time": "2022-02-26T08:39:25.182Z"
   },
   {
    "duration": 7,
    "start_time": "2022-02-26T08:39:25.559Z"
   },
   {
    "duration": 17,
    "start_time": "2022-02-26T08:39:25.568Z"
   },
   {
    "duration": 7,
    "start_time": "2022-02-26T08:39:25.587Z"
   },
   {
    "duration": 13,
    "start_time": "2022-02-26T08:39:25.596Z"
   },
   {
    "duration": 1355,
    "start_time": "2022-02-26T08:39:40.579Z"
   },
   {
    "duration": 494,
    "start_time": "2022-02-26T08:39:41.936Z"
   },
   {
    "duration": 20,
    "start_time": "2022-02-26T08:39:42.434Z"
   },
   {
    "duration": 41,
    "start_time": "2022-02-26T08:39:42.457Z"
   },
   {
    "duration": 66,
    "start_time": "2022-02-26T08:39:42.501Z"
   },
   {
    "duration": 20,
    "start_time": "2022-02-26T08:39:42.569Z"
   },
   {
    "duration": 22,
    "start_time": "2022-02-26T08:39:42.592Z"
   },
   {
    "duration": 63,
    "start_time": "2022-02-26T08:39:42.616Z"
   },
   {
    "duration": 21,
    "start_time": "2022-02-26T08:39:42.683Z"
   },
   {
    "duration": 27,
    "start_time": "2022-02-26T08:39:42.707Z"
   },
   {
    "duration": 26,
    "start_time": "2022-02-26T08:39:42.736Z"
   },
   {
    "duration": 17,
    "start_time": "2022-02-26T08:39:42.766Z"
   },
   {
    "duration": 14,
    "start_time": "2022-02-26T08:39:42.785Z"
   },
   {
    "duration": 68,
    "start_time": "2022-02-26T08:39:42.802Z"
   },
   {
    "duration": 351,
    "start_time": "2022-02-26T08:39:42.873Z"
   },
   {
    "duration": 46,
    "start_time": "2022-02-26T08:39:43.227Z"
   },
   {
    "duration": 44,
    "start_time": "2022-02-26T08:39:43.275Z"
   },
   {
    "duration": 73,
    "start_time": "2022-02-26T08:39:43.321Z"
   },
   {
    "duration": 12,
    "start_time": "2022-02-26T08:39:43.397Z"
   },
   {
    "duration": 29,
    "start_time": "2022-02-26T08:39:43.411Z"
   },
   {
    "duration": 41,
    "start_time": "2022-02-26T08:39:43.442Z"
   },
   {
    "duration": 9,
    "start_time": "2022-02-26T08:39:43.486Z"
   },
   {
    "duration": 18,
    "start_time": "2022-02-26T08:39:43.498Z"
   },
   {
    "duration": 53,
    "start_time": "2022-02-26T08:39:43.518Z"
   },
   {
    "duration": 56,
    "start_time": "2022-02-26T08:39:43.574Z"
   },
   {
    "duration": 57,
    "start_time": "2022-02-26T08:39:43.632Z"
   },
   {
    "duration": 20,
    "start_time": "2022-02-26T08:39:43.695Z"
   },
   {
    "duration": 57,
    "start_time": "2022-02-26T08:39:43.718Z"
   },
   {
    "duration": 29,
    "start_time": "2022-02-26T08:39:43.777Z"
   },
   {
    "duration": 5,
    "start_time": "2022-02-26T08:39:43.809Z"
   },
   {
    "duration": 16,
    "start_time": "2022-02-26T08:39:43.817Z"
   },
   {
    "duration": 28,
    "start_time": "2022-02-26T08:39:43.836Z"
   },
   {
    "duration": 333,
    "start_time": "2022-02-26T08:39:43.866Z"
   },
   {
    "duration": 348,
    "start_time": "2022-02-26T08:39:44.202Z"
   },
   {
    "duration": 11,
    "start_time": "2022-02-26T08:39:44.553Z"
   },
   {
    "duration": 8,
    "start_time": "2022-02-26T08:39:44.567Z"
   },
   {
    "duration": 8,
    "start_time": "2022-02-26T08:39:44.578Z"
   },
   {
    "duration": 349,
    "start_time": "2022-02-26T08:39:44.589Z"
   },
   {
    "duration": 6,
    "start_time": "2022-02-26T08:39:44.940Z"
   },
   {
    "duration": 5,
    "start_time": "2022-02-26T08:39:44.963Z"
   },
   {
    "duration": 9,
    "start_time": "2022-02-26T08:39:44.970Z"
   },
   {
    "duration": 29,
    "start_time": "2022-02-26T08:39:44.981Z"
   },
   {
    "duration": 387,
    "start_time": "2022-02-26T08:39:45.012Z"
   },
   {
    "duration": 6,
    "start_time": "2022-02-26T08:39:45.401Z"
   },
   {
    "duration": 11,
    "start_time": "2022-02-26T08:39:45.410Z"
   },
   {
    "duration": 8,
    "start_time": "2022-02-26T08:39:45.423Z"
   },
   {
    "duration": 29,
    "start_time": "2022-02-26T08:39:45.434Z"
   },
   {
    "duration": 379,
    "start_time": "2022-02-26T08:39:45.466Z"
   },
   {
    "duration": 6,
    "start_time": "2022-02-26T08:39:45.847Z"
   },
   {
    "duration": 6,
    "start_time": "2022-02-26T08:39:45.862Z"
   },
   {
    "duration": 8,
    "start_time": "2022-02-26T08:39:45.870Z"
   },
   {
    "duration": 17,
    "start_time": "2022-02-26T08:39:45.880Z"
   },
   {
    "duration": 22,
    "start_time": "2022-02-26T08:40:39.806Z"
   },
   {
    "duration": 22,
    "start_time": "2022-02-26T08:40:54.304Z"
   },
   {
    "duration": 436,
    "start_time": "2022-02-26T08:42:14.824Z"
   },
   {
    "duration": 27,
    "start_time": "2022-02-26T08:42:32.494Z"
   },
   {
    "duration": 25,
    "start_time": "2022-02-26T08:42:42.254Z"
   },
   {
    "duration": 48,
    "start_time": "2022-02-26T08:43:14.954Z"
   },
   {
    "duration": 985,
    "start_time": "2022-03-07T07:13:32.045Z"
   },
   {
    "duration": 370,
    "start_time": "2022-03-07T07:13:33.032Z"
   },
   {
    "duration": 11,
    "start_time": "2022-03-07T07:13:33.404Z"
   },
   {
    "duration": 23,
    "start_time": "2022-03-07T07:13:33.417Z"
   },
   {
    "duration": 38,
    "start_time": "2022-03-07T07:13:33.441Z"
   },
   {
    "duration": 14,
    "start_time": "2022-03-07T07:13:33.480Z"
   },
   {
    "duration": 16,
    "start_time": "2022-03-07T07:13:33.496Z"
   },
   {
    "duration": 38,
    "start_time": "2022-03-07T07:13:33.514Z"
   },
   {
    "duration": 14,
    "start_time": "2022-03-07T07:13:33.555Z"
   },
   {
    "duration": 20,
    "start_time": "2022-03-07T07:13:33.571Z"
   },
   {
    "duration": 6,
    "start_time": "2022-03-07T07:13:33.593Z"
   },
   {
    "duration": 39,
    "start_time": "2022-03-07T07:13:33.600Z"
   },
   {
    "duration": 11,
    "start_time": "2022-03-07T07:13:33.640Z"
   },
   {
    "duration": 27,
    "start_time": "2022-03-07T07:13:33.652Z"
   },
   {
    "duration": 229,
    "start_time": "2022-03-07T07:13:33.681Z"
   },
   {
    "duration": 32,
    "start_time": "2022-03-07T07:13:33.912Z"
   },
   {
    "duration": 32,
    "start_time": "2022-03-07T07:13:33.945Z"
   },
   {
    "duration": 39,
    "start_time": "2022-03-07T07:13:33.978Z"
   },
   {
    "duration": 25,
    "start_time": "2022-03-07T07:13:34.019Z"
   },
   {
    "duration": 16,
    "start_time": "2022-03-07T07:13:34.045Z"
   },
   {
    "duration": 19,
    "start_time": "2022-03-07T07:13:34.063Z"
   },
   {
    "duration": 6,
    "start_time": "2022-03-07T07:13:34.084Z"
   },
   {
    "duration": 10,
    "start_time": "2022-03-07T07:13:34.092Z"
   },
   {
    "duration": 48,
    "start_time": "2022-03-07T07:13:34.103Z"
   },
   {
    "duration": 35,
    "start_time": "2022-03-07T07:13:34.153Z"
   },
   {
    "duration": 6,
    "start_time": "2022-03-07T07:13:34.190Z"
   },
   {
    "duration": 15,
    "start_time": "2022-03-07T07:13:34.199Z"
   },
   {
    "duration": 8,
    "start_time": "2022-03-07T07:13:34.239Z"
   },
   {
    "duration": 18,
    "start_time": "2022-03-07T07:13:34.249Z"
   },
   {
    "duration": 5,
    "start_time": "2022-03-07T07:13:34.268Z"
   },
   {
    "duration": 13,
    "start_time": "2022-03-07T07:13:34.274Z"
   },
   {
    "duration": 11,
    "start_time": "2022-03-07T07:13:34.289Z"
   },
   {
    "duration": 222,
    "start_time": "2022-03-07T07:13:34.302Z"
   },
   {
    "duration": 204,
    "start_time": "2022-03-07T07:13:34.526Z"
   },
   {
    "duration": 9,
    "start_time": "2022-03-07T07:13:34.731Z"
   },
   {
    "duration": 6,
    "start_time": "2022-03-07T07:13:34.741Z"
   },
   {
    "duration": 6,
    "start_time": "2022-03-07T07:13:34.749Z"
   },
   {
    "duration": 204,
    "start_time": "2022-03-07T07:13:34.756Z"
   },
   {
    "duration": 5,
    "start_time": "2022-03-07T07:13:34.961Z"
   },
   {
    "duration": 7,
    "start_time": "2022-03-07T07:13:34.967Z"
   },
   {
    "duration": 7,
    "start_time": "2022-03-07T07:13:34.976Z"
   },
   {
    "duration": 22,
    "start_time": "2022-03-07T07:13:34.985Z"
   },
   {
    "duration": 252,
    "start_time": "2022-03-07T07:13:35.009Z"
   },
   {
    "duration": 4,
    "start_time": "2022-03-07T07:13:35.263Z"
   },
   {
    "duration": 10,
    "start_time": "2022-03-07T07:13:35.269Z"
   },
   {
    "duration": 9,
    "start_time": "2022-03-07T07:13:35.280Z"
   },
   {
    "duration": 5,
    "start_time": "2022-03-07T07:13:35.291Z"
   },
   {
    "duration": 231,
    "start_time": "2022-03-07T07:13:35.297Z"
   },
   {
    "duration": 9,
    "start_time": "2022-03-07T07:13:35.530Z"
   },
   {
    "duration": 9,
    "start_time": "2022-03-07T07:13:35.541Z"
   },
   {
    "duration": 7,
    "start_time": "2022-03-07T07:13:35.552Z"
   },
   {
    "duration": 9,
    "start_time": "2022-03-07T07:13:35.561Z"
   },
   {
    "duration": 4,
    "start_time": "2022-03-07T07:56:21.048Z"
   },
   {
    "duration": 8,
    "start_time": "2022-03-07T07:58:15.145Z"
   },
   {
    "duration": 41,
    "start_time": "2022-03-07T08:01:31.047Z"
   },
   {
    "duration": 64,
    "start_time": "2022-03-07T13:21:52.966Z"
   },
   {
    "duration": 202,
    "start_time": "2022-03-07T13:23:02.961Z"
   },
   {
    "duration": 942,
    "start_time": "2022-03-07T13:23:24.172Z"
   },
   {
    "duration": 329,
    "start_time": "2022-03-07T13:23:25.116Z"
   },
   {
    "duration": 10,
    "start_time": "2022-03-07T13:23:25.447Z"
   },
   {
    "duration": 21,
    "start_time": "2022-03-07T13:23:25.459Z"
   },
   {
    "duration": 35,
    "start_time": "2022-03-07T13:23:25.482Z"
   },
   {
    "duration": 21,
    "start_time": "2022-03-07T13:23:25.518Z"
   },
   {
    "duration": 16,
    "start_time": "2022-03-07T13:23:25.541Z"
   },
   {
    "duration": 21,
    "start_time": "2022-03-07T13:23:25.558Z"
   },
   {
    "duration": 13,
    "start_time": "2022-03-07T13:23:25.581Z"
   },
   {
    "duration": 43,
    "start_time": "2022-03-07T13:23:25.596Z"
   },
   {
    "duration": 5,
    "start_time": "2022-03-07T13:23:25.641Z"
   },
   {
    "duration": 9,
    "start_time": "2022-03-07T13:23:25.648Z"
   },
   {
    "duration": 9,
    "start_time": "2022-03-07T13:23:25.659Z"
   },
   {
    "duration": 28,
    "start_time": "2022-03-07T13:23:25.669Z"
   },
   {
    "duration": 207,
    "start_time": "2022-03-07T13:23:25.699Z"
   },
   {
    "duration": 30,
    "start_time": "2022-03-07T13:23:25.907Z"
   },
   {
    "duration": 27,
    "start_time": "2022-03-07T13:23:25.939Z"
   },
   {
    "duration": 31,
    "start_time": "2022-03-07T13:23:25.968Z"
   },
   {
    "duration": 7,
    "start_time": "2022-03-07T13:23:26.001Z"
   },
   {
    "duration": 31,
    "start_time": "2022-03-07T13:23:26.009Z"
   },
   {
    "duration": 17,
    "start_time": "2022-03-07T13:23:26.042Z"
   },
   {
    "duration": 6,
    "start_time": "2022-03-07T13:23:26.061Z"
   },
   {
    "duration": 8,
    "start_time": "2022-03-07T13:23:26.069Z"
   },
   {
    "duration": 17,
    "start_time": "2022-03-07T13:23:26.078Z"
   },
   {
    "duration": 4,
    "start_time": "2022-03-07T13:23:26.096Z"
   },
   {
    "duration": 31,
    "start_time": "2022-03-07T13:23:26.133Z"
   },
   {
    "duration": 7,
    "start_time": "2022-03-07T13:23:26.168Z"
   },
   {
    "duration": 6,
    "start_time": "2022-03-07T13:23:26.177Z"
   },
   {
    "duration": 13,
    "start_time": "2022-03-07T13:23:26.184Z"
   },
   {
    "duration": 46,
    "start_time": "2022-03-07T13:23:26.198Z"
   },
   {
    "duration": 4,
    "start_time": "2022-03-07T13:23:26.246Z"
   },
   {
    "duration": 5,
    "start_time": "2022-03-07T13:23:26.251Z"
   },
   {
    "duration": 4,
    "start_time": "2022-03-07T13:23:26.258Z"
   },
   {
    "duration": 197,
    "start_time": "2022-03-07T13:23:26.264Z"
   },
   {
    "duration": 178,
    "start_time": "2022-03-07T13:23:26.463Z"
   },
   {
    "duration": 5,
    "start_time": "2022-03-07T13:23:26.642Z"
   },
   {
    "duration": 7,
    "start_time": "2022-03-07T13:23:26.648Z"
   },
   {
    "duration": 5,
    "start_time": "2022-03-07T13:23:26.657Z"
   },
   {
    "duration": 188,
    "start_time": "2022-03-07T13:23:26.663Z"
   },
   {
    "duration": 5,
    "start_time": "2022-03-07T13:23:26.852Z"
   },
   {
    "duration": 7,
    "start_time": "2022-03-07T13:23:26.858Z"
   },
   {
    "duration": 4,
    "start_time": "2022-03-07T13:23:26.867Z"
   },
   {
    "duration": 18,
    "start_time": "2022-03-07T13:23:26.872Z"
   },
   {
    "duration": 218,
    "start_time": "2022-03-07T13:23:26.892Z"
   },
   {
    "duration": 4,
    "start_time": "2022-03-07T13:23:27.111Z"
   },
   {
    "duration": 19,
    "start_time": "2022-03-07T13:23:27.116Z"
   },
   {
    "duration": 9,
    "start_time": "2022-03-07T13:23:27.136Z"
   },
   {
    "duration": 3,
    "start_time": "2022-03-07T13:23:27.146Z"
   },
   {
    "duration": 206,
    "start_time": "2022-03-07T13:23:27.150Z"
   },
   {
    "duration": 4,
    "start_time": "2022-03-07T13:23:27.357Z"
   },
   {
    "duration": 11,
    "start_time": "2022-03-07T13:23:27.363Z"
   },
   {
    "duration": 5,
    "start_time": "2022-03-07T13:23:27.375Z"
   },
   {
    "duration": 8,
    "start_time": "2022-03-07T13:23:27.381Z"
   },
   {
    "duration": 4,
    "start_time": "2022-03-07T13:23:53.408Z"
   },
   {
    "duration": 19,
    "start_time": "2022-03-07T13:27:33.263Z"
   },
   {
    "duration": 20,
    "start_time": "2022-03-07T13:27:51.296Z"
   },
   {
    "duration": 254,
    "start_time": "2022-03-07T13:32:10.794Z"
   },
   {
    "duration": 4337,
    "start_time": "2022-03-07T13:33:04.890Z"
   },
   {
    "duration": 15,
    "start_time": "2022-03-07T13:33:33.314Z"
   },
   {
    "duration": 993,
    "start_time": "2022-03-07T13:35:10.728Z"
   },
   {
    "duration": 366,
    "start_time": "2022-03-07T13:35:11.723Z"
   },
   {
    "duration": 13,
    "start_time": "2022-03-07T13:35:12.091Z"
   },
   {
    "duration": 22,
    "start_time": "2022-03-07T13:35:12.106Z"
   },
   {
    "duration": 40,
    "start_time": "2022-03-07T13:35:12.130Z"
   },
   {
    "duration": 15,
    "start_time": "2022-03-07T13:35:12.172Z"
   },
   {
    "duration": 16,
    "start_time": "2022-03-07T13:35:12.189Z"
   },
   {
    "duration": 45,
    "start_time": "2022-03-07T13:35:12.207Z"
   },
   {
    "duration": 14,
    "start_time": "2022-03-07T13:35:12.254Z"
   },
   {
    "duration": 21,
    "start_time": "2022-03-07T13:35:12.269Z"
   },
   {
    "duration": 6,
    "start_time": "2022-03-07T13:35:12.292Z"
   },
   {
    "duration": 33,
    "start_time": "2022-03-07T13:35:12.300Z"
   },
   {
    "duration": 6,
    "start_time": "2022-03-07T13:35:12.334Z"
   },
   {
    "duration": 27,
    "start_time": "2022-03-07T13:35:12.341Z"
   },
   {
    "duration": 206,
    "start_time": "2022-03-07T13:35:12.369Z"
   },
   {
    "duration": 22,
    "start_time": "2022-03-07T13:35:12.577Z"
   },
   {
    "duration": 44,
    "start_time": "2022-03-07T13:35:12.600Z"
   },
   {
    "duration": 36,
    "start_time": "2022-03-07T13:35:12.646Z"
   },
   {
    "duration": 7,
    "start_time": "2022-03-07T13:35:12.684Z"
   },
   {
    "duration": 16,
    "start_time": "2022-03-07T13:35:12.692Z"
   },
   {
    "duration": 33,
    "start_time": "2022-03-07T13:35:12.710Z"
   },
   {
    "duration": 7,
    "start_time": "2022-03-07T13:35:12.745Z"
   },
   {
    "duration": 12,
    "start_time": "2022-03-07T13:35:12.756Z"
   },
   {
    "duration": 18,
    "start_time": "2022-03-07T13:35:12.770Z"
   },
   {
    "duration": 4,
    "start_time": "2022-03-07T13:35:12.790Z"
   },
   {
    "duration": 6,
    "start_time": "2022-03-07T13:35:12.795Z"
   },
   {
    "duration": 60,
    "start_time": "2022-03-07T13:35:12.802Z"
   },
   {
    "duration": 8,
    "start_time": "2022-03-07T13:35:12.863Z"
   },
   {
    "duration": 6,
    "start_time": "2022-03-07T13:35:12.873Z"
   },
   {
    "duration": 15,
    "start_time": "2022-03-07T13:35:12.880Z"
   },
   {
    "duration": 45,
    "start_time": "2022-03-07T13:35:12.897Z"
   },
   {
    "duration": 18,
    "start_time": "2022-03-07T13:35:12.944Z"
   },
   {
    "duration": 4,
    "start_time": "2022-03-07T13:35:12.963Z"
   },
   {
    "duration": 7,
    "start_time": "2022-03-07T13:35:12.968Z"
   },
   {
    "duration": 7,
    "start_time": "2022-03-07T13:35:12.977Z"
   },
   {
    "duration": 207,
    "start_time": "2022-03-07T13:35:12.986Z"
   },
   {
    "duration": 182,
    "start_time": "2022-03-07T13:35:13.195Z"
   },
   {
    "duration": 3,
    "start_time": "2022-03-07T13:35:13.379Z"
   },
   {
    "duration": 6,
    "start_time": "2022-03-07T13:35:13.384Z"
   },
   {
    "duration": 4,
    "start_time": "2022-03-07T13:35:13.392Z"
   },
   {
    "duration": 195,
    "start_time": "2022-03-07T13:35:13.397Z"
   },
   {
    "duration": 5,
    "start_time": "2022-03-07T13:35:13.593Z"
   },
   {
    "duration": 5,
    "start_time": "2022-03-07T13:35:13.599Z"
   },
   {
    "duration": 5,
    "start_time": "2022-03-07T13:35:13.605Z"
   },
   {
    "duration": 35,
    "start_time": "2022-03-07T13:35:13.611Z"
   },
   {
    "duration": 212,
    "start_time": "2022-03-07T13:35:13.647Z"
   },
   {
    "duration": 5,
    "start_time": "2022-03-07T13:35:13.861Z"
   },
   {
    "duration": 5,
    "start_time": "2022-03-07T13:35:13.868Z"
   },
   {
    "duration": 9,
    "start_time": "2022-03-07T13:35:13.875Z"
   },
   {
    "duration": 5,
    "start_time": "2022-03-07T13:35:13.886Z"
   },
   {
    "duration": 226,
    "start_time": "2022-03-07T13:35:13.892Z"
   },
   {
    "duration": 14,
    "start_time": "2022-03-07T13:35:14.120Z"
   },
   {
    "duration": 9,
    "start_time": "2022-03-07T13:35:14.135Z"
   },
   {
    "duration": 6,
    "start_time": "2022-03-07T13:35:14.146Z"
   },
   {
    "duration": 20,
    "start_time": "2022-03-07T13:35:14.154Z"
   },
   {
    "duration": 4614,
    "start_time": "2022-03-07T13:35:14.176Z"
   },
   {
    "duration": -86,
    "start_time": "2022-03-07T13:35:18.878Z"
   },
   {
    "duration": 330,
    "start_time": "2022-03-07T13:36:13.267Z"
   },
   {
    "duration": 412,
    "start_time": "2022-03-07T13:37:54.987Z"
   },
   {
    "duration": 59,
    "start_time": "2022-03-07T13:41:36.178Z"
   },
   {
    "duration": 8,
    "start_time": "2022-03-07T13:46:43.901Z"
   },
   {
    "duration": 8,
    "start_time": "2022-03-07T13:48:05.828Z"
   },
   {
    "duration": 15,
    "start_time": "2022-03-07T13:48:06.845Z"
   },
   {
    "duration": 224,
    "start_time": "2022-03-07T13:49:13.658Z"
   },
   {
    "duration": 5,
    "start_time": "2022-03-07T13:49:49.931Z"
   },
   {
    "duration": 960,
    "start_time": "2022-03-07T13:49:57.597Z"
   },
   {
    "duration": 353,
    "start_time": "2022-03-07T13:49:58.559Z"
   },
   {
    "duration": 11,
    "start_time": "2022-03-07T13:49:58.914Z"
   },
   {
    "duration": 21,
    "start_time": "2022-03-07T13:49:58.927Z"
   },
   {
    "duration": 37,
    "start_time": "2022-03-07T13:49:58.949Z"
   },
   {
    "duration": 13,
    "start_time": "2022-03-07T13:49:58.987Z"
   },
   {
    "duration": 35,
    "start_time": "2022-03-07T13:49:59.002Z"
   },
   {
    "duration": 20,
    "start_time": "2022-03-07T13:49:59.039Z"
   },
   {
    "duration": 14,
    "start_time": "2022-03-07T13:49:59.061Z"
   },
   {
    "duration": 18,
    "start_time": "2022-03-07T13:49:59.076Z"
   },
   {
    "duration": 6,
    "start_time": "2022-03-07T13:49:59.095Z"
   },
   {
    "duration": 32,
    "start_time": "2022-03-07T13:49:59.103Z"
   },
   {
    "duration": 8,
    "start_time": "2022-03-07T13:49:59.137Z"
   },
   {
    "duration": 27,
    "start_time": "2022-03-07T13:49:59.146Z"
   },
   {
    "duration": 216,
    "start_time": "2022-03-07T13:49:59.174Z"
   },
   {
    "duration": 21,
    "start_time": "2022-03-07T13:49:59.392Z"
   },
   {
    "duration": 34,
    "start_time": "2022-03-07T13:49:59.415Z"
   },
   {
    "duration": 35,
    "start_time": "2022-03-07T13:49:59.450Z"
   },
   {
    "duration": 7,
    "start_time": "2022-03-07T13:49:59.487Z"
   },
   {
    "duration": 16,
    "start_time": "2022-03-07T13:49:59.495Z"
   },
   {
    "duration": 19,
    "start_time": "2022-03-07T13:49:59.532Z"
   },
   {
    "duration": 6,
    "start_time": "2022-03-07T13:49:59.553Z"
   },
   {
    "duration": 9,
    "start_time": "2022-03-07T13:49:59.562Z"
   },
   {
    "duration": 25,
    "start_time": "2022-03-07T13:49:59.574Z"
   },
   {
    "duration": 4,
    "start_time": "2022-03-07T13:49:59.601Z"
   },
   {
    "duration": 30,
    "start_time": "2022-03-07T13:49:59.606Z"
   },
   {
    "duration": 33,
    "start_time": "2022-03-07T13:49:59.637Z"
   },
   {
    "duration": 7,
    "start_time": "2022-03-07T13:49:59.672Z"
   },
   {
    "duration": 8,
    "start_time": "2022-03-07T13:49:59.681Z"
   },
   {
    "duration": 46,
    "start_time": "2022-03-07T13:49:59.691Z"
   },
   {
    "duration": 20,
    "start_time": "2022-03-07T13:49:59.739Z"
   },
   {
    "duration": 3,
    "start_time": "2022-03-07T13:49:59.761Z"
   },
   {
    "duration": 19,
    "start_time": "2022-03-07T13:49:59.766Z"
   },
   {
    "duration": 4,
    "start_time": "2022-03-07T13:49:59.786Z"
   },
   {
    "duration": 6,
    "start_time": "2022-03-07T13:49:59.791Z"
   },
   {
    "duration": 35,
    "start_time": "2022-03-07T13:49:59.798Z"
   },
   {
    "duration": 183,
    "start_time": "2022-03-07T13:49:59.835Z"
   },
   {
    "duration": 191,
    "start_time": "2022-03-07T13:50:00.019Z"
   },
   {
    "duration": 4,
    "start_time": "2022-03-07T13:50:00.212Z"
   },
   {
    "duration": 16,
    "start_time": "2022-03-07T13:50:00.217Z"
   },
   {
    "duration": 4,
    "start_time": "2022-03-07T13:50:00.235Z"
   },
   {
    "duration": 185,
    "start_time": "2022-03-07T13:50:00.240Z"
   },
   {
    "duration": 8,
    "start_time": "2022-03-07T13:50:00.427Z"
   },
   {
    "duration": 7,
    "start_time": "2022-03-07T13:50:00.437Z"
   },
   {
    "duration": 7,
    "start_time": "2022-03-07T13:50:00.446Z"
   },
   {
    "duration": 26,
    "start_time": "2022-03-07T13:50:00.455Z"
   },
   {
    "duration": 252,
    "start_time": "2022-03-07T13:50:00.483Z"
   },
   {
    "duration": 4,
    "start_time": "2022-03-07T13:50:00.736Z"
   },
   {
    "duration": 8,
    "start_time": "2022-03-07T13:50:00.742Z"
   },
   {
    "duration": 13,
    "start_time": "2022-03-07T13:50:00.751Z"
   },
   {
    "duration": 14,
    "start_time": "2022-03-07T13:50:00.766Z"
   },
   {
    "duration": 209,
    "start_time": "2022-03-07T13:50:00.781Z"
   },
   {
    "duration": 4,
    "start_time": "2022-03-07T13:50:00.992Z"
   },
   {
    "duration": 10,
    "start_time": "2022-03-07T13:50:00.997Z"
   },
   {
    "duration": 7,
    "start_time": "2022-03-07T13:50:01.009Z"
   },
   {
    "duration": 28,
    "start_time": "2022-03-07T13:50:01.017Z"
   },
   {
    "duration": 345,
    "start_time": "2022-03-07T13:50:01.046Z"
   },
   {
    "duration": 411,
    "start_time": "2022-03-07T13:50:01.393Z"
   },
   {
    "duration": 9,
    "start_time": "2022-03-07T13:50:01.806Z"
   },
   {
    "duration": 4,
    "start_time": "2022-03-07T13:50:33.614Z"
   },
   {
    "duration": 66,
    "start_time": "2022-03-07T13:51:00.092Z"
   },
   {
    "duration": 106,
    "start_time": "2022-03-07T13:51:06.708Z"
   },
   {
    "duration": 6,
    "start_time": "2022-03-07T13:51:11.851Z"
   },
   {
    "duration": 962,
    "start_time": "2022-03-07T13:51:26.152Z"
   },
   {
    "duration": 365,
    "start_time": "2022-03-07T13:51:27.116Z"
   },
   {
    "duration": 11,
    "start_time": "2022-03-07T13:51:27.486Z"
   },
   {
    "duration": 20,
    "start_time": "2022-03-07T13:51:27.498Z"
   },
   {
    "duration": 37,
    "start_time": "2022-03-07T13:51:27.520Z"
   },
   {
    "duration": 12,
    "start_time": "2022-03-07T13:51:27.559Z"
   },
   {
    "duration": 16,
    "start_time": "2022-03-07T13:51:27.574Z"
   },
   {
    "duration": 45,
    "start_time": "2022-03-07T13:51:27.592Z"
   },
   {
    "duration": 15,
    "start_time": "2022-03-07T13:51:27.639Z"
   },
   {
    "duration": 18,
    "start_time": "2022-03-07T13:51:27.656Z"
   },
   {
    "duration": 6,
    "start_time": "2022-03-07T13:51:27.676Z"
   },
   {
    "duration": 8,
    "start_time": "2022-03-07T13:51:27.683Z"
   },
   {
    "duration": 6,
    "start_time": "2022-03-07T13:51:27.693Z"
   },
   {
    "duration": 50,
    "start_time": "2022-03-07T13:51:27.701Z"
   },
   {
    "duration": 211,
    "start_time": "2022-03-07T13:51:27.752Z"
   },
   {
    "duration": 23,
    "start_time": "2022-03-07T13:51:27.964Z"
   },
   {
    "duration": 27,
    "start_time": "2022-03-07T13:51:27.988Z"
   },
   {
    "duration": 49,
    "start_time": "2022-03-07T13:51:28.016Z"
   },
   {
    "duration": 9,
    "start_time": "2022-03-07T13:51:28.066Z"
   },
   {
    "duration": 16,
    "start_time": "2022-03-07T13:51:28.077Z"
   },
   {
    "duration": 49,
    "start_time": "2022-03-07T13:51:28.095Z"
   },
   {
    "duration": 6,
    "start_time": "2022-03-07T13:51:28.149Z"
   },
   {
    "duration": 9,
    "start_time": "2022-03-07T13:51:28.158Z"
   },
   {
    "duration": 20,
    "start_time": "2022-03-07T13:51:28.169Z"
   },
   {
    "duration": 4,
    "start_time": "2022-03-07T13:51:28.191Z"
   },
   {
    "duration": 37,
    "start_time": "2022-03-07T13:51:28.196Z"
   },
   {
    "duration": 34,
    "start_time": "2022-03-07T13:51:28.235Z"
   },
   {
    "duration": 7,
    "start_time": "2022-03-07T13:51:28.270Z"
   },
   {
    "duration": 8,
    "start_time": "2022-03-07T13:51:28.279Z"
   },
   {
    "duration": 17,
    "start_time": "2022-03-07T13:51:28.288Z"
   },
   {
    "duration": 44,
    "start_time": "2022-03-07T13:51:28.307Z"
   },
   {
    "duration": 4,
    "start_time": "2022-03-07T13:51:28.353Z"
   },
   {
    "duration": 22,
    "start_time": "2022-03-07T13:51:28.358Z"
   },
   {
    "duration": 4,
    "start_time": "2022-03-07T13:51:28.382Z"
   },
   {
    "duration": 6,
    "start_time": "2022-03-07T13:51:28.387Z"
   },
   {
    "duration": 6,
    "start_time": "2022-03-07T13:51:28.394Z"
   },
   {
    "duration": 212,
    "start_time": "2022-03-07T13:51:28.401Z"
   },
   {
    "duration": 179,
    "start_time": "2022-03-07T13:51:28.615Z"
   },
   {
    "duration": 4,
    "start_time": "2022-03-07T13:51:28.795Z"
   },
   {
    "duration": 5,
    "start_time": "2022-03-07T13:51:28.801Z"
   },
   {
    "duration": 6,
    "start_time": "2022-03-07T13:51:28.808Z"
   },
   {
    "duration": 182,
    "start_time": "2022-03-07T13:51:28.832Z"
   },
   {
    "duration": 5,
    "start_time": "2022-03-07T13:51:29.015Z"
   },
   {
    "duration": 14,
    "start_time": "2022-03-07T13:51:29.021Z"
   },
   {
    "duration": 6,
    "start_time": "2022-03-07T13:51:29.037Z"
   },
   {
    "duration": 20,
    "start_time": "2022-03-07T13:51:29.045Z"
   },
   {
    "duration": 221,
    "start_time": "2022-03-07T13:51:29.066Z"
   },
   {
    "duration": 4,
    "start_time": "2022-03-07T13:51:29.289Z"
   },
   {
    "duration": 5,
    "start_time": "2022-03-07T13:51:29.295Z"
   },
   {
    "duration": 5,
    "start_time": "2022-03-07T13:51:29.302Z"
   },
   {
    "duration": 6,
    "start_time": "2022-03-07T13:51:29.308Z"
   },
   {
    "duration": 215,
    "start_time": "2022-03-07T13:51:29.333Z"
   },
   {
    "duration": 5,
    "start_time": "2022-03-07T13:51:29.550Z"
   },
   {
    "duration": 5,
    "start_time": "2022-03-07T13:51:29.557Z"
   },
   {
    "duration": 6,
    "start_time": "2022-03-07T13:51:29.563Z"
   },
   {
    "duration": 19,
    "start_time": "2022-03-07T13:51:29.570Z"
   },
   {
    "duration": 363,
    "start_time": "2022-03-07T13:51:29.591Z"
   },
   {
    "duration": 398,
    "start_time": "2022-03-07T13:51:29.956Z"
   },
   {
    "duration": 5,
    "start_time": "2022-03-07T13:51:30.355Z"
   },
   {
    "duration": 17,
    "start_time": "2022-03-07T13:51:30.362Z"
   },
   {
    "duration": 8,
    "start_time": "2022-03-07T13:52:18.916Z"
   },
   {
    "duration": 13,
    "start_time": "2022-03-07T13:52:20.819Z"
   },
   {
    "duration": 21,
    "start_time": "2022-03-07T13:52:24.612Z"
   },
   {
    "duration": 4,
    "start_time": "2022-03-07T13:52:25.538Z"
   },
   {
    "duration": 964,
    "start_time": "2022-03-07T13:52:32.089Z"
   },
   {
    "duration": 360,
    "start_time": "2022-03-07T13:52:33.055Z"
   },
   {
    "duration": 11,
    "start_time": "2022-03-07T13:52:33.418Z"
   },
   {
    "duration": 25,
    "start_time": "2022-03-07T13:52:33.431Z"
   },
   {
    "duration": 36,
    "start_time": "2022-03-07T13:52:33.458Z"
   },
   {
    "duration": 15,
    "start_time": "2022-03-07T13:52:33.496Z"
   },
   {
    "duration": 35,
    "start_time": "2022-03-07T13:52:33.512Z"
   },
   {
    "duration": 20,
    "start_time": "2022-03-07T13:52:33.549Z"
   },
   {
    "duration": 14,
    "start_time": "2022-03-07T13:52:33.572Z"
   },
   {
    "duration": 45,
    "start_time": "2022-03-07T13:52:33.588Z"
   },
   {
    "duration": 8,
    "start_time": "2022-03-07T13:52:33.634Z"
   },
   {
    "duration": 12,
    "start_time": "2022-03-07T13:52:33.643Z"
   },
   {
    "duration": 11,
    "start_time": "2022-03-07T13:52:33.656Z"
   },
   {
    "duration": 26,
    "start_time": "2022-03-07T13:52:33.668Z"
   },
   {
    "duration": 203,
    "start_time": "2022-03-07T13:52:33.695Z"
   },
   {
    "duration": 33,
    "start_time": "2022-03-07T13:52:33.900Z"
   },
   {
    "duration": 27,
    "start_time": "2022-03-07T13:52:33.934Z"
   },
   {
    "duration": 35,
    "start_time": "2022-03-07T13:52:33.962Z"
   },
   {
    "duration": 6,
    "start_time": "2022-03-07T13:52:33.999Z"
   },
   {
    "duration": 35,
    "start_time": "2022-03-07T13:52:34.007Z"
   },
   {
    "duration": 19,
    "start_time": "2022-03-07T13:52:34.044Z"
   },
   {
    "duration": 6,
    "start_time": "2022-03-07T13:52:34.065Z"
   },
   {
    "duration": 15,
    "start_time": "2022-03-07T13:52:34.072Z"
   },
   {
    "duration": 26,
    "start_time": "2022-03-07T13:52:34.089Z"
   },
   {
    "duration": 4,
    "start_time": "2022-03-07T13:52:34.117Z"
   },
   {
    "duration": 17,
    "start_time": "2022-03-07T13:52:34.122Z"
   },
   {
    "duration": 37,
    "start_time": "2022-03-07T13:52:34.142Z"
   },
   {
    "duration": 7,
    "start_time": "2022-03-07T13:52:34.181Z"
   },
   {
    "duration": 11,
    "start_time": "2022-03-07T13:52:34.189Z"
   },
   {
    "duration": 13,
    "start_time": "2022-03-07T13:52:34.202Z"
   },
   {
    "duration": 21,
    "start_time": "2022-03-07T13:52:34.233Z"
   },
   {
    "duration": 4,
    "start_time": "2022-03-07T13:52:34.255Z"
   },
   {
    "duration": 19,
    "start_time": "2022-03-07T13:52:34.260Z"
   },
   {
    "duration": 3,
    "start_time": "2022-03-07T13:52:34.281Z"
   },
   {
    "duration": 5,
    "start_time": "2022-03-07T13:52:34.286Z"
   },
   {
    "duration": 8,
    "start_time": "2022-03-07T13:52:34.292Z"
   },
   {
    "duration": 212,
    "start_time": "2022-03-07T13:52:34.302Z"
   },
   {
    "duration": 192,
    "start_time": "2022-03-07T13:52:34.515Z"
   },
   {
    "duration": 4,
    "start_time": "2022-03-07T13:52:34.709Z"
   },
   {
    "duration": 19,
    "start_time": "2022-03-07T13:52:34.715Z"
   },
   {
    "duration": 8,
    "start_time": "2022-03-07T13:52:34.736Z"
   },
   {
    "duration": 179,
    "start_time": "2022-03-07T13:52:34.746Z"
   },
   {
    "duration": 5,
    "start_time": "2022-03-07T13:52:34.932Z"
   },
   {
    "duration": 13,
    "start_time": "2022-03-07T13:52:34.938Z"
   },
   {
    "duration": 6,
    "start_time": "2022-03-07T13:52:34.953Z"
   },
   {
    "duration": 19,
    "start_time": "2022-03-07T13:52:34.961Z"
   },
   {
    "duration": 213,
    "start_time": "2022-03-07T13:52:34.982Z"
   },
   {
    "duration": 5,
    "start_time": "2022-03-07T13:52:35.196Z"
   },
   {
    "duration": 10,
    "start_time": "2022-03-07T13:52:35.202Z"
   },
   {
    "duration": 6,
    "start_time": "2022-03-07T13:52:35.214Z"
   },
   {
    "duration": 2,
    "start_time": "2022-03-07T13:52:35.232Z"
   },
   {
    "duration": 207,
    "start_time": "2022-03-07T13:52:35.236Z"
   },
   {
    "duration": 4,
    "start_time": "2022-03-07T13:52:35.445Z"
   },
   {
    "duration": 7,
    "start_time": "2022-03-07T13:52:35.450Z"
   },
   {
    "duration": 6,
    "start_time": "2022-03-07T13:52:35.458Z"
   },
   {
    "duration": 18,
    "start_time": "2022-03-07T13:52:35.466Z"
   },
   {
    "duration": 342,
    "start_time": "2022-03-07T13:52:35.485Z"
   },
   {
    "duration": 409,
    "start_time": "2022-03-07T13:52:35.829Z"
   },
   {
    "duration": 6,
    "start_time": "2022-03-07T13:52:36.240Z"
   },
   {
    "duration": 10,
    "start_time": "2022-03-07T13:52:36.247Z"
   },
   {
    "duration": 1073,
    "start_time": "2022-03-08T11:14:10.155Z"
   },
   {
    "duration": 403,
    "start_time": "2022-03-08T11:14:11.230Z"
   },
   {
    "duration": 11,
    "start_time": "2022-03-08T11:14:11.635Z"
   },
   {
    "duration": 21,
    "start_time": "2022-03-08T11:14:11.648Z"
   },
   {
    "duration": 39,
    "start_time": "2022-03-08T11:14:11.671Z"
   },
   {
    "duration": 31,
    "start_time": "2022-03-08T11:14:11.712Z"
   },
   {
    "duration": 18,
    "start_time": "2022-03-08T11:14:11.744Z"
   },
   {
    "duration": 22,
    "start_time": "2022-03-08T11:14:11.765Z"
   },
   {
    "duration": 15,
    "start_time": "2022-03-08T11:14:11.789Z"
   },
   {
    "duration": 45,
    "start_time": "2022-03-08T11:14:11.805Z"
   },
   {
    "duration": 6,
    "start_time": "2022-03-08T11:14:11.852Z"
   },
   {
    "duration": 11,
    "start_time": "2022-03-08T11:14:11.859Z"
   },
   {
    "duration": 8,
    "start_time": "2022-03-08T11:14:11.871Z"
   },
   {
    "duration": 25,
    "start_time": "2022-03-08T11:14:11.881Z"
   },
   {
    "duration": 239,
    "start_time": "2022-03-08T11:14:11.908Z"
   },
   {
    "duration": 23,
    "start_time": "2022-03-08T11:14:12.149Z"
   },
   {
    "duration": 29,
    "start_time": "2022-03-08T11:14:12.174Z"
   },
   {
    "duration": 59,
    "start_time": "2022-03-08T11:14:12.204Z"
   },
   {
    "duration": 8,
    "start_time": "2022-03-08T11:14:12.265Z"
   },
   {
    "duration": 20,
    "start_time": "2022-03-08T11:14:12.274Z"
   },
   {
    "duration": 19,
    "start_time": "2022-03-08T11:14:12.295Z"
   },
   {
    "duration": 24,
    "start_time": "2022-03-08T11:14:12.315Z"
   },
   {
    "duration": 8,
    "start_time": "2022-03-08T11:14:12.343Z"
   },
   {
    "duration": 20,
    "start_time": "2022-03-08T11:14:12.354Z"
   },
   {
    "duration": 4,
    "start_time": "2022-03-08T11:14:12.376Z"
   },
   {
    "duration": 8,
    "start_time": "2022-03-08T11:14:12.382Z"
   },
   {
    "duration": 63,
    "start_time": "2022-03-08T11:14:12.391Z"
   },
   {
    "duration": 8,
    "start_time": "2022-03-08T11:14:12.456Z"
   },
   {
    "duration": 9,
    "start_time": "2022-03-08T11:14:12.465Z"
   },
   {
    "duration": 14,
    "start_time": "2022-03-08T11:14:12.476Z"
   },
   {
    "duration": 47,
    "start_time": "2022-03-08T11:14:12.492Z"
   },
   {
    "duration": 5,
    "start_time": "2022-03-08T11:14:12.540Z"
   },
   {
    "duration": 24,
    "start_time": "2022-03-08T11:14:12.547Z"
   },
   {
    "duration": 5,
    "start_time": "2022-03-08T11:14:12.572Z"
   },
   {
    "duration": 11,
    "start_time": "2022-03-08T11:14:12.578Z"
   },
   {
    "duration": 7,
    "start_time": "2022-03-08T11:14:12.591Z"
   },
   {
    "duration": 248,
    "start_time": "2022-03-08T11:14:12.600Z"
   },
   {
    "duration": 213,
    "start_time": "2022-03-08T11:14:12.850Z"
   },
   {
    "duration": 4,
    "start_time": "2022-03-08T11:14:13.065Z"
   },
   {
    "duration": 8,
    "start_time": "2022-03-08T11:14:13.071Z"
   },
   {
    "duration": 9,
    "start_time": "2022-03-08T11:14:13.080Z"
   },
   {
    "duration": 209,
    "start_time": "2022-03-08T11:14:13.091Z"
   },
   {
    "duration": 5,
    "start_time": "2022-03-08T11:14:13.301Z"
   },
   {
    "duration": 7,
    "start_time": "2022-03-08T11:14:13.307Z"
   },
   {
    "duration": 22,
    "start_time": "2022-03-08T11:14:13.316Z"
   },
   {
    "duration": 21,
    "start_time": "2022-03-08T11:14:13.339Z"
   },
   {
    "duration": 244,
    "start_time": "2022-03-08T11:14:13.362Z"
   },
   {
    "duration": 5,
    "start_time": "2022-03-08T11:14:13.608Z"
   },
   {
    "duration": 6,
    "start_time": "2022-03-08T11:14:13.615Z"
   },
   {
    "duration": 18,
    "start_time": "2022-03-08T11:14:13.623Z"
   },
   {
    "duration": 3,
    "start_time": "2022-03-08T11:14:13.643Z"
   },
   {
    "duration": 248,
    "start_time": "2022-03-08T11:14:13.648Z"
   },
   {
    "duration": 5,
    "start_time": "2022-03-08T11:14:13.898Z"
   },
   {
    "duration": 8,
    "start_time": "2022-03-08T11:14:13.905Z"
   },
   {
    "duration": 23,
    "start_time": "2022-03-08T11:14:13.915Z"
   },
   {
    "duration": 21,
    "start_time": "2022-03-08T11:14:13.940Z"
   },
   {
    "duration": 390,
    "start_time": "2022-03-08T11:14:13.963Z"
   },
   {
    "duration": 478,
    "start_time": "2022-03-08T11:14:14.355Z"
   },
   {
    "duration": 7,
    "start_time": "2022-03-08T11:14:14.835Z"
   },
   {
    "duration": 7,
    "start_time": "2022-03-08T11:14:14.844Z"
   },
   {
    "duration": 762,
    "start_time": "2022-03-08T11:16:42.861Z"
   },
   {
    "duration": 395,
    "start_time": "2022-03-08T11:21:21.479Z"
   },
   {
    "duration": 11,
    "start_time": "2022-03-08T11:23:20.358Z"
   },
   {
    "duration": 220,
    "start_time": "2022-03-08T11:29:07.366Z"
   },
   {
    "duration": 221,
    "start_time": "2022-03-08T11:45:23.780Z"
   },
   {
    "duration": 236,
    "start_time": "2022-03-08T11:45:32.997Z"
   },
   {
    "duration": 5,
    "start_time": "2022-03-08T11:45:50.954Z"
   },
   {
    "duration": 5,
    "start_time": "2022-03-08T11:46:10.786Z"
   },
   {
    "duration": 4,
    "start_time": "2022-03-08T11:46:22.067Z"
   },
   {
    "duration": 7,
    "start_time": "2022-03-08T11:55:59.658Z"
   },
   {
    "duration": 5,
    "start_time": "2022-03-08T11:56:14.295Z"
   },
   {
    "duration": 7,
    "start_time": "2022-03-08T11:56:23.306Z"
   },
   {
    "duration": 6,
    "start_time": "2022-03-08T11:56:58.677Z"
   },
   {
    "duration": 4,
    "start_time": "2022-03-08T11:57:16.187Z"
   },
   {
    "duration": 5,
    "start_time": "2022-03-08T11:57:56.734Z"
   },
   {
    "duration": 6,
    "start_time": "2022-03-08T11:58:23.056Z"
   },
   {
    "duration": 6,
    "start_time": "2022-03-08T11:58:27.981Z"
   },
   {
    "duration": 4,
    "start_time": "2022-03-08T11:58:51.084Z"
   },
   {
    "duration": 4,
    "start_time": "2022-03-08T11:59:04.069Z"
   },
   {
    "duration": 278,
    "start_time": "2022-03-08T12:00:43.774Z"
   },
   {
    "duration": 186,
    "start_time": "2022-03-08T12:00:49.813Z"
   },
   {
    "duration": 4,
    "start_time": "2022-03-08T12:01:08.929Z"
   },
   {
    "duration": 4,
    "start_time": "2022-03-08T12:01:56.734Z"
   },
   {
    "duration": 1034,
    "start_time": "2022-03-08T14:36:26.984Z"
   },
   {
    "duration": 380,
    "start_time": "2022-03-08T14:36:28.020Z"
   },
   {
    "duration": 9,
    "start_time": "2022-03-08T14:36:28.402Z"
   },
   {
    "duration": 20,
    "start_time": "2022-03-08T14:36:28.412Z"
   },
   {
    "duration": 32,
    "start_time": "2022-03-08T14:36:28.434Z"
   },
   {
    "duration": 12,
    "start_time": "2022-03-08T14:36:28.467Z"
   },
   {
    "duration": 36,
    "start_time": "2022-03-08T14:36:28.480Z"
   },
   {
    "duration": 19,
    "start_time": "2022-03-08T14:36:28.518Z"
   },
   {
    "duration": 13,
    "start_time": "2022-03-08T14:36:28.538Z"
   },
   {
    "duration": 15,
    "start_time": "2022-03-08T14:36:28.552Z"
   },
   {
    "duration": 5,
    "start_time": "2022-03-08T14:36:28.569Z"
   },
   {
    "duration": 32,
    "start_time": "2022-03-08T14:36:28.576Z"
   },
   {
    "duration": 6,
    "start_time": "2022-03-08T14:36:28.609Z"
   },
   {
    "duration": 22,
    "start_time": "2022-03-08T14:36:28.617Z"
   },
   {
    "duration": 195,
    "start_time": "2022-03-08T14:36:28.641Z"
   },
   {
    "duration": 20,
    "start_time": "2022-03-08T14:36:28.837Z"
   },
   {
    "duration": 27,
    "start_time": "2022-03-08T14:36:28.859Z"
   },
   {
    "duration": 49,
    "start_time": "2022-03-08T14:36:28.887Z"
   },
   {
    "duration": 7,
    "start_time": "2022-03-08T14:36:28.937Z"
   },
   {
    "duration": 16,
    "start_time": "2022-03-08T14:36:28.945Z"
   },
   {
    "duration": 16,
    "start_time": "2022-03-08T14:36:28.962Z"
   },
   {
    "duration": 6,
    "start_time": "2022-03-08T14:36:28.979Z"
   },
   {
    "duration": 6,
    "start_time": "2022-03-08T14:36:29.005Z"
   },
   {
    "duration": 27,
    "start_time": "2022-03-08T14:36:29.013Z"
   },
   {
    "duration": 4,
    "start_time": "2022-03-08T14:36:29.041Z"
   },
   {
    "duration": 4,
    "start_time": "2022-03-08T14:36:29.048Z"
   },
   {
    "duration": 29,
    "start_time": "2022-03-08T14:36:29.054Z"
   },
   {
    "duration": 24,
    "start_time": "2022-03-08T14:36:29.085Z"
   },
   {
    "duration": 9,
    "start_time": "2022-03-08T14:36:29.111Z"
   },
   {
    "duration": 12,
    "start_time": "2022-03-08T14:36:29.122Z"
   },
   {
    "duration": 17,
    "start_time": "2022-03-08T14:36:29.136Z"
   },
   {
    "duration": 6,
    "start_time": "2022-03-08T14:36:29.155Z"
   },
   {
    "duration": 17,
    "start_time": "2022-03-08T14:36:29.162Z"
   },
   {
    "duration": 26,
    "start_time": "2022-03-08T14:36:29.180Z"
   },
   {
    "duration": 6,
    "start_time": "2022-03-08T14:36:29.207Z"
   },
   {
    "duration": 4,
    "start_time": "2022-03-08T14:36:29.214Z"
   },
   {
    "duration": 182,
    "start_time": "2022-03-08T14:36:29.219Z"
   },
   {
    "duration": 242,
    "start_time": "2022-03-08T14:36:29.402Z"
   },
   {
    "duration": 4,
    "start_time": "2022-03-08T14:36:29.645Z"
   },
   {
    "duration": 6,
    "start_time": "2022-03-08T14:36:29.650Z"
   },
   {
    "duration": 6,
    "start_time": "2022-03-08T14:36:29.658Z"
   },
   {
    "duration": 178,
    "start_time": "2022-03-08T14:36:29.665Z"
   },
   {
    "duration": 3,
    "start_time": "2022-03-08T14:36:29.845Z"
   },
   {
    "duration": 5,
    "start_time": "2022-03-08T14:36:29.850Z"
   },
   {
    "duration": 7,
    "start_time": "2022-03-08T14:36:29.856Z"
   },
   {
    "duration": 16,
    "start_time": "2022-03-08T14:36:29.865Z"
   },
   {
    "duration": 200,
    "start_time": "2022-03-08T14:36:29.882Z"
   },
   {
    "duration": 4,
    "start_time": "2022-03-08T14:36:30.083Z"
   },
   {
    "duration": 10,
    "start_time": "2022-03-08T14:36:30.088Z"
   },
   {
    "duration": 8,
    "start_time": "2022-03-08T14:36:30.099Z"
   },
   {
    "duration": 4,
    "start_time": "2022-03-08T14:36:30.108Z"
   },
   {
    "duration": 193,
    "start_time": "2022-03-08T14:36:30.114Z"
   },
   {
    "duration": 4,
    "start_time": "2022-03-08T14:36:30.308Z"
   },
   {
    "duration": 8,
    "start_time": "2022-03-08T14:36:30.313Z"
   },
   {
    "duration": 10,
    "start_time": "2022-03-08T14:36:30.322Z"
   },
   {
    "duration": 202,
    "start_time": "2022-03-08T14:36:30.333Z"
   },
   {
    "duration": 4,
    "start_time": "2022-03-08T14:36:30.536Z"
   },
   {
    "duration": 17,
    "start_time": "2022-03-08T14:36:30.541Z"
   },
   {
    "duration": 9,
    "start_time": "2022-03-08T14:36:30.559Z"
   },
   {
    "duration": 16,
    "start_time": "2022-03-08T14:36:30.570Z"
   },
   {
    "duration": 317,
    "start_time": "2022-03-08T14:36:30.588Z"
   },
   {
    "duration": 368,
    "start_time": "2022-03-08T14:36:30.907Z"
   },
   {
    "duration": 4,
    "start_time": "2022-03-08T14:36:31.277Z"
   },
   {
    "duration": 10,
    "start_time": "2022-03-08T14:36:31.282Z"
   },
   {
    "duration": 12,
    "start_time": "2022-03-08T14:36:31.294Z"
   },
   {
    "duration": 12,
    "start_time": "2022-03-08T14:36:31.307Z"
   },
   {
    "duration": 4,
    "start_time": "2022-03-08T14:36:46.372Z"
   },
   {
    "duration": 4,
    "start_time": "2022-03-08T14:36:55.722Z"
   },
   {
    "duration": 5,
    "start_time": "2022-03-08T14:37:47.813Z"
   },
   {
    "duration": 10,
    "start_time": "2022-03-08T14:39:18.322Z"
   }
  ],
  "kernelspec": {
   "display_name": "Python 3 (ipykernel)",
   "language": "python",
   "name": "python3"
  },
  "language_info": {
   "codemirror_mode": {
    "name": "ipython",
    "version": 3
   },
   "file_extension": ".py",
   "mimetype": "text/x-python",
   "name": "python",
   "nbconvert_exporter": "python",
   "pygments_lexer": "ipython3",
   "version": "3.9.5"
  },
  "toc": {
   "base_numbering": 1,
   "nav_menu": {},
   "number_sections": true,
   "sideBar": true,
   "skip_h1_title": true,
   "title_cell": "Table of Contents",
   "title_sidebar": "Contents",
   "toc_cell": false,
   "toc_position": {},
   "toc_section_display": true,
   "toc_window_display": false
  }
 },
 "nbformat": 4,
 "nbformat_minor": 2
}
