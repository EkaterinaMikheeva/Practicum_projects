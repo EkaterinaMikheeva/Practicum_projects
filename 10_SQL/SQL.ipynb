{
 "cells": [
  {
   "cell_type": "code",
   "execution_count": 1,
   "metadata": {
    "id": "nlZBlglMDWKe"
   },
   "outputs": [],
   "source": [
    "import pandas as pd\n",
    "import matplotlib.pyplot as plt\n",
    "from sqlalchemy import create_engine \n",
    "\n",
    "import seaborn as sns\n"
   ]
  },
  {
   "cell_type": "markdown",
   "metadata": {
    "id": "XnOE3n28DWKg"
   },
   "source": [
    "### Конфигурация для подключения к базе данных `data-analyst-advanced-sql`\n",
    "Эта база данных содержит схему `stackoverflow`, с которой вы будете работать в проекте"
   ]
  },
  {
   "cell_type": "code",
   "execution_count": 2,
   "metadata": {
    "id": "6p-yGp7qDWKg"
   },
   "outputs": [],
   "source": [
    "db_config = {\n",
    "    'user': 'praktikum_student', # имя пользователя\n",
    "    'pwd': 'Sdf4$2;d-d30pp', # пароль\n",
    "    'host': 'rc1b-wcoijxj3yxfsf3fs.mdb.yandexcloud.net',\n",
    "    'port': 6432, # порт подключения\n",
    "    'db': 'data-analyst-advanced-sql' # название базы данных\n",
    "}  \n",
    "\n",
    "connection_string = 'postgresql://{}:{}@{}:{}/{}'.format(\n",
    "    db_config['user'],\n",
    "    db_config['pwd'],\n",
    "    db_config['host'],\n",
    "    db_config['port'],\n",
    "    db_config['db'],\n",
    ")"
   ]
  },
  {
   "cell_type": "markdown",
   "metadata": {
    "id": "2Rg8ZpS0DWKh"
   },
   "source": [
    "Создание подключения"
   ]
  },
  {
   "cell_type": "code",
   "execution_count": 3,
   "metadata": {
    "id": "DamCUTR6DWKi"
   },
   "outputs": [],
   "source": [
    "engine = create_engine(connection_string) "
   ]
  },
  {
   "cell_type": "markdown",
   "metadata": {
    "id": "bel8XeSlDWKj"
   },
   "source": [
    "Пример запроса к базе данных\n",
    "\n",
    "`sample_df` является pandas-датафреймом."
   ]
  },
  {
   "cell_type": "code",
   "execution_count": 4,
   "metadata": {
    "id": "6Z_fw0yLDWKk"
   },
   "outputs": [],
   "source": [
    "query = '''\n",
    "SELECT *\n",
    "FROM stackoverflow.users\n",
    "LIMIT 10;\n",
    "'''\n",
    "\n",
    "sample_df = pd.read_sql_query(query, con=engine) "
   ]
  },
  {
   "cell_type": "code",
   "execution_count": 5,
   "metadata": {
    "id": "ZpuZ290oDWKk",
    "outputId": "22785a0a-e2bc-4559-ec3c-4879c4b377eb"
   },
   "outputs": [
    {
     "data": {
      "text/html": [
       "<div>\n",
       "<style scoped>\n",
       "    .dataframe tbody tr th:only-of-type {\n",
       "        vertical-align: middle;\n",
       "    }\n",
       "\n",
       "    .dataframe tbody tr th {\n",
       "        vertical-align: top;\n",
       "    }\n",
       "\n",
       "    .dataframe thead th {\n",
       "        text-align: right;\n",
       "    }\n",
       "</style>\n",
       "<table border=\"1\" class=\"dataframe\">\n",
       "  <thead>\n",
       "    <tr style=\"text-align: right;\">\n",
       "      <th></th>\n",
       "      <th>id</th>\n",
       "      <th>creation_date</th>\n",
       "      <th>display_name</th>\n",
       "      <th>last_access_date</th>\n",
       "      <th>location</th>\n",
       "      <th>reputation</th>\n",
       "      <th>views</th>\n",
       "    </tr>\n",
       "  </thead>\n",
       "  <tbody>\n",
       "    <tr>\n",
       "      <td>0</td>\n",
       "      <td>1</td>\n",
       "      <td>2008-07-31 14:22:31</td>\n",
       "      <td>Jeff Atwood</td>\n",
       "      <td>2018-08-29 02:34:23</td>\n",
       "      <td>El Cerrito, CA</td>\n",
       "      <td>44300</td>\n",
       "      <td>408587</td>\n",
       "    </tr>\n",
       "    <tr>\n",
       "      <td>1</td>\n",
       "      <td>2</td>\n",
       "      <td>2008-07-31 14:22:31</td>\n",
       "      <td>Geoff Dalgas</td>\n",
       "      <td>2018-08-23 17:31:56</td>\n",
       "      <td>Corvallis, OR</td>\n",
       "      <td>3491</td>\n",
       "      <td>23966</td>\n",
       "    </tr>\n",
       "    <tr>\n",
       "      <td>2</td>\n",
       "      <td>3</td>\n",
       "      <td>2008-07-31 14:22:31</td>\n",
       "      <td>Jarrod Dixon</td>\n",
       "      <td>2018-08-30 20:56:24</td>\n",
       "      <td>Raleigh, NC, United States</td>\n",
       "      <td>13418</td>\n",
       "      <td>24396</td>\n",
       "    </tr>\n",
       "    <tr>\n",
       "      <td>3</td>\n",
       "      <td>4</td>\n",
       "      <td>2008-07-31 14:22:31</td>\n",
       "      <td>Joel Spolsky</td>\n",
       "      <td>2018-08-14 22:18:15</td>\n",
       "      <td>New York, NY</td>\n",
       "      <td>28768</td>\n",
       "      <td>73755</td>\n",
       "    </tr>\n",
       "    <tr>\n",
       "      <td>4</td>\n",
       "      <td>5</td>\n",
       "      <td>2008-07-31 14:22:31</td>\n",
       "      <td>Jon Galloway</td>\n",
       "      <td>2018-08-29 16:48:36</td>\n",
       "      <td>San Diego, CA</td>\n",
       "      <td>39172</td>\n",
       "      <td>11700</td>\n",
       "    </tr>\n",
       "    <tr>\n",
       "      <td>5</td>\n",
       "      <td>8</td>\n",
       "      <td>2008-07-31 21:33:24</td>\n",
       "      <td>Eggs McLaren</td>\n",
       "      <td>2018-04-09 02:04:56</td>\n",
       "      <td>None</td>\n",
       "      <td>942</td>\n",
       "      <td>6372</td>\n",
       "    </tr>\n",
       "    <tr>\n",
       "      <td>6</td>\n",
       "      <td>9</td>\n",
       "      <td>2008-07-31 21:35:27</td>\n",
       "      <td>Kevin Dente</td>\n",
       "      <td>2018-08-30 18:18:03</td>\n",
       "      <td>Oakland, CA</td>\n",
       "      <td>14337</td>\n",
       "      <td>4949</td>\n",
       "    </tr>\n",
       "    <tr>\n",
       "      <td>7</td>\n",
       "      <td>11</td>\n",
       "      <td>2008-08-01 00:59:11</td>\n",
       "      <td>Anonymous User</td>\n",
       "      <td>2008-08-01 00:59:11</td>\n",
       "      <td>None</td>\n",
       "      <td>1890</td>\n",
       "      <td>2123</td>\n",
       "    </tr>\n",
       "    <tr>\n",
       "      <td>8</td>\n",
       "      <td>13</td>\n",
       "      <td>2008-08-01 04:18:05</td>\n",
       "      <td>Chris Jester-Young</td>\n",
       "      <td>2018-08-30 02:47:23</td>\n",
       "      <td>Raleigh, NC, United States</td>\n",
       "      <td>177138</td>\n",
       "      <td>35414</td>\n",
       "    </tr>\n",
       "    <tr>\n",
       "      <td>9</td>\n",
       "      <td>17</td>\n",
       "      <td>2008-08-01 12:02:22</td>\n",
       "      <td>Nick Berardi</td>\n",
       "      <td>2018-01-22 01:35:38</td>\n",
       "      <td>Issaquah, WA</td>\n",
       "      <td>44443</td>\n",
       "      <td>4786</td>\n",
       "    </tr>\n",
       "  </tbody>\n",
       "</table>\n",
       "</div>"
      ],
      "text/plain": [
       "   id       creation_date        display_name    last_access_date  \\\n",
       "0   1 2008-07-31 14:22:31         Jeff Atwood 2018-08-29 02:34:23   \n",
       "1   2 2008-07-31 14:22:31        Geoff Dalgas 2018-08-23 17:31:56   \n",
       "2   3 2008-07-31 14:22:31        Jarrod Dixon 2018-08-30 20:56:24   \n",
       "3   4 2008-07-31 14:22:31        Joel Spolsky 2018-08-14 22:18:15   \n",
       "4   5 2008-07-31 14:22:31        Jon Galloway 2018-08-29 16:48:36   \n",
       "5   8 2008-07-31 21:33:24        Eggs McLaren 2018-04-09 02:04:56   \n",
       "6   9 2008-07-31 21:35:27         Kevin Dente 2018-08-30 18:18:03   \n",
       "7  11 2008-08-01 00:59:11      Anonymous User 2008-08-01 00:59:11   \n",
       "8  13 2008-08-01 04:18:05  Chris Jester-Young 2018-08-30 02:47:23   \n",
       "9  17 2008-08-01 12:02:22        Nick Berardi 2018-01-22 01:35:38   \n",
       "\n",
       "                     location  reputation   views  \n",
       "0              El Cerrito, CA       44300  408587  \n",
       "1               Corvallis, OR        3491   23966  \n",
       "2  Raleigh, NC, United States       13418   24396  \n",
       "3                New York, NY       28768   73755  \n",
       "4               San Diego, CA       39172   11700  \n",
       "5                        None         942    6372  \n",
       "6                 Oakland, CA       14337    4949  \n",
       "7                        None        1890    2123  \n",
       "8  Raleigh, NC, United States      177138   35414  \n",
       "9                Issaquah, WA       44443    4786  "
      ]
     },
     "execution_count": 5,
     "metadata": {},
     "output_type": "execute_result"
    }
   ],
   "source": [
    "sample_df"
   ]
  },
  {
   "cell_type": "markdown",
   "metadata": {
    "id": "gnBMXkDBDWKm"
   },
   "source": [
    "# Задание 1"
   ]
  },
  {
   "cell_type": "markdown",
   "metadata": {
    "id": "vHsfOrrNDWKn"
   },
   "source": [
    "Выведите общую сумму просмотров постов за каждый месяц 2008 года. Если данных за какой-либо месяц в базе нет, такой месяц можно пропустить. Результат отсортируйте по убыванию общего количества просмотров."
   ]
  },
  {
   "cell_type": "markdown",
   "metadata": {
    "id": "N5rTgGNmDWKn"
   },
   "source": [
    "| month_date  | total_views |\n",
    "| ------------- | ------------- |\n",
    "| 2008-09-01  | 452928568  |\n",
    "| 2008-10-01  | 365400138  |\n",
    "| ...         | ... |"
   ]
  },
  {
   "cell_type": "code",
   "execution_count": 6,
   "metadata": {
    "id": "eWvykcXTDWKo"
   },
   "outputs": [
    {
     "data": {
      "text/html": [
       "<div>\n",
       "<style scoped>\n",
       "    .dataframe tbody tr th:only-of-type {\n",
       "        vertical-align: middle;\n",
       "    }\n",
       "\n",
       "    .dataframe tbody tr th {\n",
       "        vertical-align: top;\n",
       "    }\n",
       "\n",
       "    .dataframe thead th {\n",
       "        text-align: right;\n",
       "    }\n",
       "</style>\n",
       "<table border=\"1\" class=\"dataframe\">\n",
       "  <thead>\n",
       "    <tr style=\"text-align: right;\">\n",
       "      <th></th>\n",
       "      <th>date</th>\n",
       "      <th>sum</th>\n",
       "    </tr>\n",
       "  </thead>\n",
       "  <tbody>\n",
       "    <tr>\n",
       "      <td>0</td>\n",
       "      <td>2008-09-01</td>\n",
       "      <td>452928568</td>\n",
       "    </tr>\n",
       "    <tr>\n",
       "      <td>1</td>\n",
       "      <td>2008-10-01</td>\n",
       "      <td>365400138</td>\n",
       "    </tr>\n",
       "    <tr>\n",
       "      <td>2</td>\n",
       "      <td>2008-11-01</td>\n",
       "      <td>221759651</td>\n",
       "    </tr>\n",
       "    <tr>\n",
       "      <td>3</td>\n",
       "      <td>2008-12-01</td>\n",
       "      <td>197792841</td>\n",
       "    </tr>\n",
       "    <tr>\n",
       "      <td>4</td>\n",
       "      <td>2008-08-01</td>\n",
       "      <td>131367083</td>\n",
       "    </tr>\n",
       "    <tr>\n",
       "      <td>5</td>\n",
       "      <td>2008-07-01</td>\n",
       "      <td>669895</td>\n",
       "    </tr>\n",
       "  </tbody>\n",
       "</table>\n",
       "</div>"
      ],
      "text/plain": [
       "        date        sum\n",
       "0 2008-09-01  452928568\n",
       "1 2008-10-01  365400138\n",
       "2 2008-11-01  221759651\n",
       "3 2008-12-01  197792841\n",
       "4 2008-08-01  131367083\n",
       "5 2008-07-01     669895"
      ]
     },
     "execution_count": 6,
     "metadata": {},
     "output_type": "execute_result"
    }
   ],
   "source": [
    "# напишите запрос\n",
    "query = '''\n",
    "SELECT\n",
    "DATE_TRUNC('month', creation_date) as Date,\n",
    "SUM (views_count)\n",
    "FROM stackoverflow.posts\n",
    "WHERE creation_date BETWEEN '2008-01-01' AND '2008-12-31'\n",
    "GROUP BY DATE_TRUNC ('month', creation_date)\n",
    "ORDER BY SUM (views_count)DESC\n",
    "\n",
    "'''\n",
    "\n",
    "first_df = pd.read_sql_query(query, con=engine) \n",
    "first_df\n",
    "# выполните запрос"
   ]
  },
  {
   "cell_type": "markdown",
   "metadata": {
    "id": "I_ZvhOxkDWKp"
   },
   "source": [
    "Проанализируйте итоговую таблицу. Отличаются ли данные за разные месяцы? С чем могут быть связаны отличия?"
   ]
  },
  {
   "cell_type": "markdown",
   "metadata": {
    "id": "luxSj17oDWKq"
   },
   "source": [
    "# напишите ваш ответ здесь\n",
    "Данные сильно отличаются по месяцам. Видим пик активности с сентября по ноябрь. Это может быть связано с циклом обучения (летом каникулы) январь - праздники"
   ]
  },
  {
   "cell_type": "markdown",
   "metadata": {
    "id": "FziIXkn5DWKr"
   },
   "source": [
    "# Задание 2"
   ]
  },
  {
   "cell_type": "markdown",
   "metadata": {
    "id": "fTGESZvYDWKr"
   },
   "source": [
    "Выведите имена самых активных пользователей, которые в первый месяц после регистрации (включая день регистрации) дали больше 100 ответов. Вопросы, которые задавали пользователи, не учитывайте. Для каждого имени пользователя выведите количество уникальных значений `user_id`. Отсортируйте результат по полю с именами в лексикографическом порядке."
   ]
  },
  {
   "cell_type": "markdown",
   "metadata": {
    "id": "W5-tv6Y3DWKs"
   },
   "source": [
    "| display_name | count |\n",
    "| ------------ | ----- |\n",
    "| 1800 INFORMATION | 1 |\n",
    "| Adam Bellaire | 1 |\n",
    "| Adam Davis | 1 |\n",
    "| ... | ... |"
   ]
  },
  {
   "cell_type": "code",
   "execution_count": 7,
   "metadata": {
    "id": "fIO-y-YjDWKt"
   },
   "outputs": [
    {
     "data": {
      "text/html": [
       "<div>\n",
       "<style scoped>\n",
       "    .dataframe tbody tr th:only-of-type {\n",
       "        vertical-align: middle;\n",
       "    }\n",
       "\n",
       "    .dataframe tbody tr th {\n",
       "        vertical-align: top;\n",
       "    }\n",
       "\n",
       "    .dataframe thead th {\n",
       "        text-align: right;\n",
       "    }\n",
       "</style>\n",
       "<table border=\"1\" class=\"dataframe\">\n",
       "  <thead>\n",
       "    <tr style=\"text-align: right;\">\n",
       "      <th></th>\n",
       "      <th>display_name</th>\n",
       "      <th>count</th>\n",
       "    </tr>\n",
       "  </thead>\n",
       "  <tbody>\n",
       "    <tr>\n",
       "      <td>0</td>\n",
       "      <td>1800 INFORMATION</td>\n",
       "      <td>1</td>\n",
       "    </tr>\n",
       "    <tr>\n",
       "      <td>1</td>\n",
       "      <td>Adam Bellaire</td>\n",
       "      <td>1</td>\n",
       "    </tr>\n",
       "    <tr>\n",
       "      <td>2</td>\n",
       "      <td>Adam Davis</td>\n",
       "      <td>1</td>\n",
       "    </tr>\n",
       "    <tr>\n",
       "      <td>3</td>\n",
       "      <td>Adam Liss</td>\n",
       "      <td>1</td>\n",
       "    </tr>\n",
       "    <tr>\n",
       "      <td>4</td>\n",
       "      <td>Alan</td>\n",
       "      <td>8</td>\n",
       "    </tr>\n",
       "    <tr>\n",
       "      <td>...</td>\n",
       "      <td>...</td>\n",
       "      <td>...</td>\n",
       "    </tr>\n",
       "    <tr>\n",
       "      <td>71</td>\n",
       "      <td>leppie</td>\n",
       "      <td>1</td>\n",
       "    </tr>\n",
       "    <tr>\n",
       "      <td>72</td>\n",
       "      <td>lomaxx</td>\n",
       "      <td>1</td>\n",
       "    </tr>\n",
       "    <tr>\n",
       "      <td>73</td>\n",
       "      <td>mattlant</td>\n",
       "      <td>1</td>\n",
       "    </tr>\n",
       "    <tr>\n",
       "      <td>74</td>\n",
       "      <td>paxdiablo</td>\n",
       "      <td>1</td>\n",
       "    </tr>\n",
       "    <tr>\n",
       "      <td>75</td>\n",
       "      <td>tzot</td>\n",
       "      <td>1</td>\n",
       "    </tr>\n",
       "  </tbody>\n",
       "</table>\n",
       "<p>76 rows × 2 columns</p>\n",
       "</div>"
      ],
      "text/plain": [
       "        display_name  count\n",
       "0   1800 INFORMATION      1\n",
       "1      Adam Bellaire      1\n",
       "2         Adam Davis      1\n",
       "3          Adam Liss      1\n",
       "4               Alan      8\n",
       "..               ...    ...\n",
       "71            leppie      1\n",
       "72            lomaxx      1\n",
       "73          mattlant      1\n",
       "74         paxdiablo      1\n",
       "75              tzot      1\n",
       "\n",
       "[76 rows x 2 columns]"
      ]
     },
     "execution_count": 7,
     "metadata": {},
     "output_type": "execute_result"
    }
   ],
   "source": [
    "# напишите запрос\n",
    "query = '''\n",
    "\n",
    "WITH temple AS \n",
    "(SELECT \n",
    "u.display_name,\n",
    "p.user_id,\n",
    "p.id,\n",
    "pt.type,\n",
    "COUNT (p.id) OVER (PARTITION BY u.display_name)\n",
    "FROM stackoverflow.users u\n",
    "JOIN stackoverflow.posts p ON u.id = p.user_id\n",
    "JOIN stackoverflow.post_types pt ON p.post_type_id=pt.id\n",
    "WHERE type='Answer'\n",
    "AND\n",
    "p.creation_date >= DATE_TRUNC('day', u.creation_date) \n",
    "AND p.creation_date <= DATE_TRUNC('day', u.creation_date) + INTERVAL '1 month')\n",
    "\n",
    "SELECT \n",
    "display_name,\n",
    "COUNT (Distinct user_id)\n",
    "FROM temple\n",
    "WHERE count>100\n",
    "GROUP BY display_name\n",
    "\n",
    "\n",
    "\n",
    "\n",
    "'''\n",
    " \n",
    "# выполните запрос\n",
    "two = pd.read_sql_query(query, con=engine)\n",
    "two"
   ]
  },
  {
   "cell_type": "markdown",
   "metadata": {
    "id": "CEIGGQ6ODWKy"
   },
   "source": [
    "# напишите ваш ответ здесь\n",
    "для одного id  есть несколько имен - значит на платформе допускается неуникальность имен"
   ]
  },
  {
   "cell_type": "markdown",
   "metadata": {
    "id": "JhM2xXj5DWKu"
   },
   "source": [
    "# Задание 3"
   ]
  },
  {
   "cell_type": "markdown",
   "metadata": {
    "id": "IS6xPqyyDWKu"
   },
   "source": [
    "Выведите количество постов за 2008 год по месяцам. Отберите посты от пользователей, которые зарегистрировались в сентябре 2008 года и сделали хотя бы один пост в декабре того же года. Отсортируйте таблицу по значению месяца по убыванию."
   ]
  },
  {
   "cell_type": "markdown",
   "metadata": {
    "id": "WmjhjV2xDWKv"
   },
   "source": [
    "| month | count |\n",
    "| ------|------ |\n",
    "| 2008-12-01 | 17641 |\n",
    "| 2008-11-01 | 18294 |\n",
    "| ... | ... |"
   ]
  },
  {
   "cell_type": "code",
   "execution_count": 8,
   "metadata": {
    "id": "kVu0FB8WDWKv"
   },
   "outputs": [
    {
     "data": {
      "text/html": [
       "<div>\n",
       "<style scoped>\n",
       "    .dataframe tbody tr th:only-of-type {\n",
       "        vertical-align: middle;\n",
       "    }\n",
       "\n",
       "    .dataframe tbody tr th {\n",
       "        vertical-align: top;\n",
       "    }\n",
       "\n",
       "    .dataframe thead th {\n",
       "        text-align: right;\n",
       "    }\n",
       "</style>\n",
       "<table border=\"1\" class=\"dataframe\">\n",
       "  <thead>\n",
       "    <tr style=\"text-align: right;\">\n",
       "      <th></th>\n",
       "      <th>month</th>\n",
       "      <th>count</th>\n",
       "    </tr>\n",
       "  </thead>\n",
       "  <tbody>\n",
       "    <tr>\n",
       "      <td>0</td>\n",
       "      <td>2008-12-01</td>\n",
       "      <td>17641</td>\n",
       "    </tr>\n",
       "    <tr>\n",
       "      <td>1</td>\n",
       "      <td>2008-11-01</td>\n",
       "      <td>18294</td>\n",
       "    </tr>\n",
       "    <tr>\n",
       "      <td>2</td>\n",
       "      <td>2008-10-01</td>\n",
       "      <td>27171</td>\n",
       "    </tr>\n",
       "    <tr>\n",
       "      <td>3</td>\n",
       "      <td>2008-09-01</td>\n",
       "      <td>24870</td>\n",
       "    </tr>\n",
       "    <tr>\n",
       "      <td>4</td>\n",
       "      <td>2008-08-01</td>\n",
       "      <td>32</td>\n",
       "    </tr>\n",
       "  </tbody>\n",
       "</table>\n",
       "</div>"
      ],
      "text/plain": [
       "       month  count\n",
       "0 2008-12-01  17641\n",
       "1 2008-11-01  18294\n",
       "2 2008-10-01  27171\n",
       "3 2008-09-01  24870\n",
       "4 2008-08-01     32"
      ]
     },
     "execution_count": 8,
     "metadata": {},
     "output_type": "execute_result"
    }
   ],
   "source": [
    "# напишите запрос\n",
    "query = '''\n",
    "\n",
    "SELECT \n",
    "DATE_TRUNC ('month',creation_date) as Month,\n",
    "COUNT (id)\n",
    "FROM stackoverflow.posts\n",
    "WHERE user_id IN\n",
    "\n",
    "(SELECT\n",
    "u.id\n",
    "FROM stackoverflow.users u\n",
    "LEFT JOIN stackoverflow.posts p ON u.id=p.user_id\n",
    "WHERE  u.creation_date::date >= '2008-09-01'\n",
    "          AND u.creation_date::date <= '2008-09-30' \n",
    "AND\n",
    "p.creation_date::date >= '2008-12-01' AND p.creation_date::date<= '2008-12-31')\n",
    "\n",
    "GROUP BY DATE_TRUNC ('month',creation_date)\n",
    "ORDER BY DATE_TRUNC ('month',creation_date) DESC\n",
    "\n",
    "'''\n",
    "\n",
    "# выполните запрос\n",
    "\n",
    "table = pd.read_sql_query(query, con=engine)\n",
    "table"
   ]
  },
  {
   "cell_type": "markdown",
   "metadata": {
    "id": "MMVIz4yMlKpN"
   },
   "source": [
    "# напишите ваш ответ здесь\n",
    "Аномальные посты в августе могут быть следствием того, что сервис позволяет оставлять сообщения без регистрации, но присваивает идентификатор пользователя"
   ]
  },
  {
   "cell_type": "markdown",
   "metadata": {
    "id": "5Pcizm0DDWKz"
   },
   "source": [
    "# Задание 4"
   ]
  },
  {
   "cell_type": "markdown",
   "metadata": {
    "id": "KUZPF6vHDWKz"
   },
   "source": [
    "Используя данные о постах, выведите несколько полей:\n",
    "\n",
    "- идентификатор пользователя, который написал пост;\n",
    "- дата создания поста;\n",
    "- количество просмотров у текущего поста;\n",
    "- сумму просмотров постов автора с накоплением.\n",
    "\n",
    "Данные в таблице должны быть отсортированы по возрастанию идентификаторов пользователей, а данные об одном и том же пользователе — по возрастанию даты создания поста."
   ]
  },
  {
   "cell_type": "markdown",
   "metadata": {
    "id": "ZpsTUVDYDWK0"
   },
   "source": [
    "| user_id | creation_date | views_count | cumulative_count |\n",
    "| ------ | -------------- | ----------- | ---------------- |\n",
    "| 1 | 2008-07-31 23:41:00  | 480476   | 480476  |\n",
    "| 1 | 2008-07-31 23:55:38  | 136033 | 616509  | \n",
    "| 1 | 2008-07-31 23:56:41  | 0 |  616509  |\n",
    "| ... | ... | ... | ... |\n",
    "| 2 | 2008-07-31 23:56:41 | 79087  | 79087 |\n",
    "| 2 | 2008-08-01 05:09:56 | 65443 | 144530 |\n",
    "| ... | ...  | ...  | ...  |"
   ]
  },
  {
   "cell_type": "code",
   "execution_count": 9,
   "metadata": {
    "id": "hDoJhMzfDWK0"
   },
   "outputs": [
    {
     "data": {
      "text/html": [
       "<div>\n",
       "<style scoped>\n",
       "    .dataframe tbody tr th:only-of-type {\n",
       "        vertical-align: middle;\n",
       "    }\n",
       "\n",
       "    .dataframe tbody tr th {\n",
       "        vertical-align: top;\n",
       "    }\n",
       "\n",
       "    .dataframe thead th {\n",
       "        text-align: right;\n",
       "    }\n",
       "</style>\n",
       "<table border=\"1\" class=\"dataframe\">\n",
       "  <thead>\n",
       "    <tr style=\"text-align: right;\">\n",
       "      <th></th>\n",
       "      <th>user_id</th>\n",
       "      <th>creation_date</th>\n",
       "      <th>views_count</th>\n",
       "      <th>sum</th>\n",
       "    </tr>\n",
       "  </thead>\n",
       "  <tbody>\n",
       "    <tr>\n",
       "      <td>0</td>\n",
       "      <td>1</td>\n",
       "      <td>2008-07-31 23:41:00</td>\n",
       "      <td>480476</td>\n",
       "      <td>480476</td>\n",
       "    </tr>\n",
       "    <tr>\n",
       "      <td>1</td>\n",
       "      <td>1</td>\n",
       "      <td>2008-07-31 23:55:38</td>\n",
       "      <td>136033</td>\n",
       "      <td>616509</td>\n",
       "    </tr>\n",
       "    <tr>\n",
       "      <td>2</td>\n",
       "      <td>1</td>\n",
       "      <td>2008-07-31 23:56:41</td>\n",
       "      <td>0</td>\n",
       "      <td>616509</td>\n",
       "    </tr>\n",
       "    <tr>\n",
       "      <td>3</td>\n",
       "      <td>1</td>\n",
       "      <td>2008-08-04 02:45:08</td>\n",
       "      <td>0</td>\n",
       "      <td>616509</td>\n",
       "    </tr>\n",
       "    <tr>\n",
       "      <td>4</td>\n",
       "      <td>1</td>\n",
       "      <td>2008-08-04 04:31:03</td>\n",
       "      <td>0</td>\n",
       "      <td>616509</td>\n",
       "    </tr>\n",
       "    <tr>\n",
       "      <td>...</td>\n",
       "      <td>...</td>\n",
       "      <td>...</td>\n",
       "      <td>...</td>\n",
       "      <td>...</td>\n",
       "    </tr>\n",
       "    <tr>\n",
       "      <td>243791</td>\n",
       "      <td>5696608</td>\n",
       "      <td>2008-12-23 16:00:37</td>\n",
       "      <td>0</td>\n",
       "      <td>2804</td>\n",
       "    </tr>\n",
       "    <tr>\n",
       "      <td>243792</td>\n",
       "      <td>5696608</td>\n",
       "      <td>2008-12-23 17:35:09</td>\n",
       "      <td>0</td>\n",
       "      <td>2804</td>\n",
       "    </tr>\n",
       "    <tr>\n",
       "      <td>243793</td>\n",
       "      <td>5696608</td>\n",
       "      <td>2008-12-24 01:02:48</td>\n",
       "      <td>0</td>\n",
       "      <td>2804</td>\n",
       "    </tr>\n",
       "    <tr>\n",
       "      <td>243794</td>\n",
       "      <td>5696608</td>\n",
       "      <td>2008-12-30 14:34:45</td>\n",
       "      <td>0</td>\n",
       "      <td>2804</td>\n",
       "    </tr>\n",
       "    <tr>\n",
       "      <td>243795</td>\n",
       "      <td>5696608</td>\n",
       "      <td>2008-12-30 16:32:12</td>\n",
       "      <td>0</td>\n",
       "      <td>2804</td>\n",
       "    </tr>\n",
       "  </tbody>\n",
       "</table>\n",
       "<p>243796 rows × 4 columns</p>\n",
       "</div>"
      ],
      "text/plain": [
       "        user_id       creation_date  views_count     sum\n",
       "0             1 2008-07-31 23:41:00       480476  480476\n",
       "1             1 2008-07-31 23:55:38       136033  616509\n",
       "2             1 2008-07-31 23:56:41            0  616509\n",
       "3             1 2008-08-04 02:45:08            0  616509\n",
       "4             1 2008-08-04 04:31:03            0  616509\n",
       "...         ...                 ...          ...     ...\n",
       "243791  5696608 2008-12-23 16:00:37            0    2804\n",
       "243792  5696608 2008-12-23 17:35:09            0    2804\n",
       "243793  5696608 2008-12-24 01:02:48            0    2804\n",
       "243794  5696608 2008-12-30 14:34:45            0    2804\n",
       "243795  5696608 2008-12-30 16:32:12            0    2804\n",
       "\n",
       "[243796 rows x 4 columns]"
      ]
     },
     "execution_count": 9,
     "metadata": {},
     "output_type": "execute_result"
    }
   ],
   "source": [
    "# напишите запрос\n",
    "query = '''\n",
    "SELECT\n",
    "\n",
    "user_id,\n",
    "creation_date,\n",
    "views_count,\n",
    "SUM(views_count) OVER (partition BY user_id ORDER BY creation_date )\n",
    "\n",
    "FROM StackOverflow.posts\n",
    "ORDER BY 1,\n",
    "2\n",
    "'''\n",
    "\n",
    "# выполните запрос\n",
    "\n",
    "four = pd.read_sql_query(query, con=engine)\n",
    "four"
   ]
  },
  {
   "cell_type": "markdown",
   "metadata": {
    "id": "N0kHRHvIDWK2"
   },
   "source": [
    "# Задание 5"
   ]
  },
  {
   "cell_type": "markdown",
   "metadata": {
    "id": "gBgvmPtODWK2"
   },
   "source": [
    "Найдите среднее количество постов пользователей в день за август 2008 года. Отберите данные о пользователях, которые опубликовали больше 120 постов за август. Дни без публикаций не учитывайте. \n",
    "\n",
    "Отсортируйте результат по возрастанию среднего количества постов. Значения можно не округлять."
   ]
  },
  {
   "cell_type": "markdown",
   "metadata": {
    "id": "nfzR08BODWK3"
   },
   "source": [
    "| user_id | avg_daily |\n",
    "| ------- | --------- |\n",
    "| 116     | 4.777778  |\n",
    "| 234     | 5.208333  |\n",
    "| ...     | ... |"
   ]
  },
  {
   "cell_type": "code",
   "execution_count": 10,
   "metadata": {
    "id": "YFyPNz5GDWK3"
   },
   "outputs": [
    {
     "data": {
      "text/html": [
       "<div>\n",
       "<style scoped>\n",
       "    .dataframe tbody tr th:only-of-type {\n",
       "        vertical-align: middle;\n",
       "    }\n",
       "\n",
       "    .dataframe tbody tr th {\n",
       "        vertical-align: top;\n",
       "    }\n",
       "\n",
       "    .dataframe thead th {\n",
       "        text-align: right;\n",
       "    }\n",
       "</style>\n",
       "<table border=\"1\" class=\"dataframe\">\n",
       "  <thead>\n",
       "    <tr style=\"text-align: right;\">\n",
       "      <th></th>\n",
       "      <th>user_id</th>\n",
       "      <th>avg_daily</th>\n",
       "    </tr>\n",
       "  </thead>\n",
       "  <tbody>\n",
       "    <tr>\n",
       "      <td>0</td>\n",
       "      <td>116</td>\n",
       "      <td>4.777778</td>\n",
       "    </tr>\n",
       "    <tr>\n",
       "      <td>1</td>\n",
       "      <td>234</td>\n",
       "      <td>5.208333</td>\n",
       "    </tr>\n",
       "    <tr>\n",
       "      <td>2</td>\n",
       "      <td>91</td>\n",
       "      <td>5.681818</td>\n",
       "    </tr>\n",
       "    <tr>\n",
       "      <td>3</td>\n",
       "      <td>905</td>\n",
       "      <td>7.000000</td>\n",
       "    </tr>\n",
       "    <tr>\n",
       "      <td>4</td>\n",
       "      <td>383</td>\n",
       "      <td>7.277778</td>\n",
       "    </tr>\n",
       "  </tbody>\n",
       "</table>\n",
       "</div>"
      ],
      "text/plain": [
       "   user_id  avg_daily\n",
       "0      116   4.777778\n",
       "1      234   5.208333\n",
       "2       91   5.681818\n",
       "3      905   7.000000\n",
       "4      383   7.277778"
      ]
     },
     "execution_count": 10,
     "metadata": {},
     "output_type": "execute_result"
    }
   ],
   "source": [
    "# напишите запрос\n",
    "query = '''\n",
    "WITH temp_table AS\n",
    "  (SELECT user_id,\n",
    "          DATE_TRUNC('day', creation_date) AS DAY,\n",
    "          COUNT(DATE_TRUNC('day', creation_date)) AS posts_count\n",
    "   FROM stackoverflow.posts\n",
    "   WHERE creation_date::date >= '2008-08-01'\n",
    "     AND creation_date::date <= '2008-08-31'\n",
    "     AND user_id IN\n",
    "       (SELECT user_id\n",
    "        FROM stackoverflow.posts\n",
    "        WHERE creation_date::date >= '2008-08-01'\n",
    "          AND creation_date::date <= '2008-08-31'\n",
    "        GROUP BY user_id\n",
    "        HAVING COUNT(user_id) > 120)\n",
    "   GROUP BY user_id,\n",
    "            DAY)\n",
    "SELECT user_id,\n",
    "       AVG(posts_count) AS avg_daily\n",
    "FROM temp_table\n",
    "GROUP BY user_id\n",
    "ORDER BY avg_daily; \n",
    "'''\n",
    "\n",
    "# выполните запрос\n",
    "\n",
    "five = pd.read_sql_query(query, con=engine)\n",
    "five"
   ]
  },
  {
   "cell_type": "markdown",
   "metadata": {
    "id": "EQ0dcFH4DWK5"
   },
   "source": [
    "# Задание 6"
   ]
  },
  {
   "cell_type": "markdown",
   "metadata": {
    "id": "c7flfg_hDWK5"
   },
   "source": [
    "Сколько в среднем дней в период с 1 по 7 декабря 2008 года пользователи взаимодействовали с платформой? Для каждого пользователя отберите дни, в которые он или она опубликовали хотя бы один пост. Нужно получить одно целое число — не забудьте округлить результат. "
   ]
  },
  {
   "cell_type": "markdown",
   "metadata": {
    "id": "RC1Ibzm9DWK6"
   },
   "source": [
    "| result |\n",
    "| -----  |\n",
    "| <целое число> |"
   ]
  },
  {
   "cell_type": "code",
   "execution_count": 11,
   "metadata": {
    "id": "kZ7LXTr6DWK6"
   },
   "outputs": [
    {
     "data": {
      "text/html": [
       "<div>\n",
       "<style scoped>\n",
       "    .dataframe tbody tr th:only-of-type {\n",
       "        vertical-align: middle;\n",
       "    }\n",
       "\n",
       "    .dataframe tbody tr th {\n",
       "        vertical-align: top;\n",
       "    }\n",
       "\n",
       "    .dataframe thead th {\n",
       "        text-align: right;\n",
       "    }\n",
       "</style>\n",
       "<table border=\"1\" class=\"dataframe\">\n",
       "  <thead>\n",
       "    <tr style=\"text-align: right;\">\n",
       "      <th></th>\n",
       "      <th>round</th>\n",
       "    </tr>\n",
       "  </thead>\n",
       "  <tbody>\n",
       "    <tr>\n",
       "      <td>0</td>\n",
       "      <td>2.0</td>\n",
       "    </tr>\n",
       "  </tbody>\n",
       "</table>\n",
       "</div>"
      ],
      "text/plain": [
       "   round\n",
       "0    2.0"
      ]
     },
     "execution_count": 11,
     "metadata": {},
     "output_type": "execute_result"
    }
   ],
   "source": [
    "# напишите запрос\n",
    "query = '''\n",
    "WITH temple AS\n",
    "(SELECT DISTINCT user_id,\n",
    "COUNT (DISTINCT EXTRACT (DAY FROM creation_date))\n",
    "\n",
    "FROM stackoverflow.posts\n",
    "\n",
    "\n",
    "WHERE creation_date::date >= '2008-12-01'\n",
    "     AND creation_date::date <= '2008-12-07'\n",
    "\n",
    "GROUP BY  user_id\n",
    "\n",
    ")\n",
    "\n",
    "\n",
    "SELECT \n",
    "ROUND (AVG (count),0)\n",
    "\n",
    "FROM temple\n",
    "'''\n",
    "\n",
    "# выполните запрос\n",
    "six=pd.read_sql_query(query, con=engine)\n",
    "six.head()"
   ]
  },
  {
   "cell_type": "markdown",
   "metadata": {
    "id": "LfUuYz-1DWK8"
   },
   "source": [
    "# напишите ваш ответ здесь\n",
    "Пользователи заходият на платформу 2 дня в неделю. "
   ]
  },
  {
   "cell_type": "markdown",
   "metadata": {
    "id": "wfOmqmfLDWK8"
   },
   "source": [
    "# Задание 7"
   ]
  },
  {
   "cell_type": "markdown",
   "metadata": {
    "id": "X4ARQimADWK9"
   },
   "source": [
    "Выведите историю активности каждого пользователя в таком виде: идентификатор пользователя, дата публикации поста. Отсортируйте вывод по возрастанию идентификаторов пользователей, а для каждого пользователя — по возрастанию даты публикации.\n",
    "\n",
    "Добавьте в таблицу новое поле: для каждого поста в нём будет указано название месяца предпоследней публикации пользователя относительно текущей. Если такой публикации нет, укажите `NULL`.  Python автоматически поменяет `NULL` на `None`, но дополнительно преобразовывать значения `None` вам не нужно.\n",
    "\n",
    "Посмотрите внимательно на образец таблицы: для первых двух постов предпоследней публикации нет, но, начиная с третьего поста, в новое поле входит нужный месяц. Для следующего пользователя в первые две записи поля `second_last_month` тоже войдёт `NULL`."
   ]
  },
  {
   "cell_type": "markdown",
   "metadata": {
    "id": "IGPjRP01DWK9"
   },
   "source": [
    "| user_id | creation_date | second_last_month |\n",
    "| ------- | ------------- | ----------------- |\n",
    "| 1       | 2008-07-31 23:41:00 | None |\n",
    "| 1       | 2008-07-31 23:55:38 | None |\n",
    "| 1       | 2008-07-31 23:56:41 | July |\n",
    "| 1       | 2008-08-04 02:45:08 | July |\n",
    "| 1       | 2008-08-04 04:31:03 | July |\n",
    "| 1       | 2008-08-04 08:04:42 | August |\n",
    "| ... | ... | ... |"
   ]
  },
  {
   "cell_type": "code",
   "execution_count": 12,
   "metadata": {
    "id": "HzI1vhaMDWK-"
   },
   "outputs": [
    {
     "data": {
      "text/html": [
       "<div>\n",
       "<style scoped>\n",
       "    .dataframe tbody tr th:only-of-type {\n",
       "        vertical-align: middle;\n",
       "    }\n",
       "\n",
       "    .dataframe tbody tr th {\n",
       "        vertical-align: top;\n",
       "    }\n",
       "\n",
       "    .dataframe thead th {\n",
       "        text-align: right;\n",
       "    }\n",
       "</style>\n",
       "<table border=\"1\" class=\"dataframe\">\n",
       "  <thead>\n",
       "    <tr style=\"text-align: right;\">\n",
       "      <th></th>\n",
       "      <th>user_id</th>\n",
       "      <th>creation_date</th>\n",
       "      <th>case</th>\n",
       "    </tr>\n",
       "  </thead>\n",
       "  <tbody>\n",
       "    <tr>\n",
       "      <td>0</td>\n",
       "      <td>1</td>\n",
       "      <td>2008-07-31 23:41:00</td>\n",
       "      <td>None</td>\n",
       "    </tr>\n",
       "    <tr>\n",
       "      <td>1</td>\n",
       "      <td>1</td>\n",
       "      <td>2008-07-31 23:55:38</td>\n",
       "      <td>None</td>\n",
       "    </tr>\n",
       "    <tr>\n",
       "      <td>2</td>\n",
       "      <td>1</td>\n",
       "      <td>2008-07-31 23:56:41</td>\n",
       "      <td>Июль</td>\n",
       "    </tr>\n",
       "    <tr>\n",
       "      <td>3</td>\n",
       "      <td>1</td>\n",
       "      <td>2008-08-04 02:45:08</td>\n",
       "      <td>Июль</td>\n",
       "    </tr>\n",
       "    <tr>\n",
       "      <td>4</td>\n",
       "      <td>1</td>\n",
       "      <td>2008-08-04 04:31:03</td>\n",
       "      <td>Июль</td>\n",
       "    </tr>\n",
       "  </tbody>\n",
       "</table>\n",
       "</div>"
      ],
      "text/plain": [
       "   user_id       creation_date  case\n",
       "0        1 2008-07-31 23:41:00  None\n",
       "1        1 2008-07-31 23:55:38  None\n",
       "2        1 2008-07-31 23:56:41  Июль\n",
       "3        1 2008-08-04 02:45:08  Июль\n",
       "4        1 2008-08-04 04:31:03  Июль"
      ]
     },
     "execution_count": 12,
     "metadata": {},
     "output_type": "execute_result"
    }
   ],
   "source": [
    "# напишите запрос\n",
    "query = '''\n",
    "WITH temple as\n",
    "(SELECT \n",
    "user_id,\n",
    "creation_date,\n",
    "LAG (creation_date,2) OVER (Partition by user_id ORDER BY creation_date) AS lag\n",
    "FROM StackOverflow.posts\n",
    "ORDER BY user_id,\n",
    "2)\n",
    "\n",
    "SELECT\n",
    "user_id,\n",
    "creation_date,\n",
    "\n",
    "CASE \n",
    "\n",
    "\n",
    "    WHEN EXTRACT (MONTH FROM lag ) =7 THEN 'Июль'\n",
    "    WHEN EXTRACT (MONTH FROM lag ) =8 THEN 'Август'\n",
    "         WHEN EXTRACT (MONTH FROM lag ) =9 THEN 'Сентябрь'\n",
    " WHEN EXTRACT (MONTH FROM lag ) =10 THEN 'Октябрь'\n",
    "      WHEN EXTRACT (MONTH FROM lag ) =11 THEN 'Ноябрь'\n",
    "       WHEN EXTRACT (MONTH FROM lag ) =9 THEN 'Декабрь'\n",
    "       END\n",
    "\n",
    "\n",
    "\n",
    "\n",
    "\n",
    "FROM temple\n",
    "\n",
    "'''\n",
    "\n",
    "# выполните запрос\n",
    "\n",
    "seven=pd.read_sql_query(query, con=engine)\n",
    "seven.head()"
   ]
  },
  {
   "cell_type": "markdown",
   "metadata": {
    "id": "tf9qq2yzDWK_"
   },
   "source": [
    "# Задание 8"
   ]
  },
  {
   "cell_type": "markdown",
   "metadata": {
    "id": "gfwLVXBYDWLA"
   },
   "source": [
    "Рассчитайте аналог Retention Rate по месяцам для пользователей StackOverflow. Объедините пользователей в когорты по месяцу их первого поста. Возвращение определяйте по наличию поста в текущем месяце. "
   ]
  },
  {
   "cell_type": "markdown",
   "metadata": {
    "id": "kN2ic39WlKpl"
   },
   "source": [
    "| cohort_dt | session_date | users_cnt | cohort_users_cnt | retention_rate |\n",
    "| --- | --- | --- | --- | --- |\n",
    "| 2008-07-01 00:00:00 | 2008-07-01 00:00:00 | 3 | 3 | 100 |\n",
    "| 2008-07-01 00:00:00 | 2008-08-01 00:00:00 | 2 | 3 | 66,67 |\n",
    "| 2008-07-01 00:00:00 | 2008-09-01 00:00:00 | 1 | 3 | 33,33 |\n",
    "| 2008-07-01 00:00:00 | 2008-10-01 00:00:00 | 2 | 3 | 66,67 |\n",
    "| 2008-07-01 00:00:00 | 2008-11-01 00:00:00 | 1 | 3 | 33,33 |\n",
    "| 2008-07-01 00:00:00 | 2008-12-01 00:00:00 | 2 | 3 | 66,67 |\n",
    "| 2008-08-01 00:00:00 | 2008-08-01 00:00:00 | 2151 | 2151 | 100 |\n",
    "| ... | ... | ... | ... | ... |"
   ]
  },
  {
   "cell_type": "code",
   "execution_count": 13,
   "metadata": {
    "id": "LUgFmwmTDWLB"
   },
   "outputs": [
    {
     "data": {
      "text/html": [
       "<div>\n",
       "<style scoped>\n",
       "    .dataframe tbody tr th:only-of-type {\n",
       "        vertical-align: middle;\n",
       "    }\n",
       "\n",
       "    .dataframe tbody tr th {\n",
       "        vertical-align: top;\n",
       "    }\n",
       "\n",
       "    .dataframe thead th {\n",
       "        text-align: right;\n",
       "    }\n",
       "</style>\n",
       "<table border=\"1\" class=\"dataframe\">\n",
       "  <thead>\n",
       "    <tr style=\"text-align: right;\">\n",
       "      <th></th>\n",
       "      <th>cohort_dt</th>\n",
       "      <th>month_post</th>\n",
       "      <th>users_cnt</th>\n",
       "      <th>cohort_users_cnt</th>\n",
       "      <th>retention_rate</th>\n",
       "    </tr>\n",
       "  </thead>\n",
       "  <tbody>\n",
       "    <tr>\n",
       "      <td>0</td>\n",
       "      <td>2008-07-01</td>\n",
       "      <td>2008-07-01</td>\n",
       "      <td>3</td>\n",
       "      <td>3</td>\n",
       "      <td>100.00</td>\n",
       "    </tr>\n",
       "    <tr>\n",
       "      <td>1</td>\n",
       "      <td>2008-07-01</td>\n",
       "      <td>2008-08-01</td>\n",
       "      <td>2</td>\n",
       "      <td>3</td>\n",
       "      <td>66.67</td>\n",
       "    </tr>\n",
       "    <tr>\n",
       "      <td>2</td>\n",
       "      <td>2008-07-01</td>\n",
       "      <td>2008-09-01</td>\n",
       "      <td>1</td>\n",
       "      <td>3</td>\n",
       "      <td>33.33</td>\n",
       "    </tr>\n",
       "    <tr>\n",
       "      <td>3</td>\n",
       "      <td>2008-07-01</td>\n",
       "      <td>2008-10-01</td>\n",
       "      <td>2</td>\n",
       "      <td>3</td>\n",
       "      <td>66.67</td>\n",
       "    </tr>\n",
       "    <tr>\n",
       "      <td>4</td>\n",
       "      <td>2008-07-01</td>\n",
       "      <td>2008-11-01</td>\n",
       "      <td>1</td>\n",
       "      <td>3</td>\n",
       "      <td>33.33</td>\n",
       "    </tr>\n",
       "    <tr>\n",
       "      <td>5</td>\n",
       "      <td>2008-07-01</td>\n",
       "      <td>2008-12-01</td>\n",
       "      <td>2</td>\n",
       "      <td>3</td>\n",
       "      <td>66.67</td>\n",
       "    </tr>\n",
       "    <tr>\n",
       "      <td>6</td>\n",
       "      <td>2008-08-01</td>\n",
       "      <td>2008-08-01</td>\n",
       "      <td>2151</td>\n",
       "      <td>2151</td>\n",
       "      <td>100.00</td>\n",
       "    </tr>\n",
       "    <tr>\n",
       "      <td>7</td>\n",
       "      <td>2008-08-01</td>\n",
       "      <td>2008-09-01</td>\n",
       "      <td>1571</td>\n",
       "      <td>2151</td>\n",
       "      <td>73.04</td>\n",
       "    </tr>\n",
       "    <tr>\n",
       "      <td>8</td>\n",
       "      <td>2008-08-01</td>\n",
       "      <td>2008-10-01</td>\n",
       "      <td>1275</td>\n",
       "      <td>2151</td>\n",
       "      <td>59.27</td>\n",
       "    </tr>\n",
       "    <tr>\n",
       "      <td>9</td>\n",
       "      <td>2008-08-01</td>\n",
       "      <td>2008-11-01</td>\n",
       "      <td>1050</td>\n",
       "      <td>2151</td>\n",
       "      <td>48.81</td>\n",
       "    </tr>\n",
       "    <tr>\n",
       "      <td>10</td>\n",
       "      <td>2008-08-01</td>\n",
       "      <td>2008-12-01</td>\n",
       "      <td>894</td>\n",
       "      <td>2151</td>\n",
       "      <td>41.56</td>\n",
       "    </tr>\n",
       "    <tr>\n",
       "      <td>11</td>\n",
       "      <td>2008-09-01</td>\n",
       "      <td>2008-09-01</td>\n",
       "      <td>7678</td>\n",
       "      <td>7678</td>\n",
       "      <td>100.00</td>\n",
       "    </tr>\n",
       "    <tr>\n",
       "      <td>12</td>\n",
       "      <td>2008-09-01</td>\n",
       "      <td>2008-10-01</td>\n",
       "      <td>4132</td>\n",
       "      <td>7678</td>\n",
       "      <td>53.82</td>\n",
       "    </tr>\n",
       "    <tr>\n",
       "      <td>13</td>\n",
       "      <td>2008-09-01</td>\n",
       "      <td>2008-11-01</td>\n",
       "      <td>2966</td>\n",
       "      <td>7678</td>\n",
       "      <td>38.63</td>\n",
       "    </tr>\n",
       "    <tr>\n",
       "      <td>14</td>\n",
       "      <td>2008-09-01</td>\n",
       "      <td>2008-12-01</td>\n",
       "      <td>2500</td>\n",
       "      <td>7678</td>\n",
       "      <td>32.56</td>\n",
       "    </tr>\n",
       "    <tr>\n",
       "      <td>15</td>\n",
       "      <td>2008-10-01</td>\n",
       "      <td>2008-10-01</td>\n",
       "      <td>3629</td>\n",
       "      <td>3629</td>\n",
       "      <td>100.00</td>\n",
       "    </tr>\n",
       "    <tr>\n",
       "      <td>16</td>\n",
       "      <td>2008-10-01</td>\n",
       "      <td>2008-11-01</td>\n",
       "      <td>1640</td>\n",
       "      <td>3629</td>\n",
       "      <td>45.19</td>\n",
       "    </tr>\n",
       "    <tr>\n",
       "      <td>17</td>\n",
       "      <td>2008-10-01</td>\n",
       "      <td>2008-12-01</td>\n",
       "      <td>1221</td>\n",
       "      <td>3629</td>\n",
       "      <td>33.65</td>\n",
       "    </tr>\n",
       "    <tr>\n",
       "      <td>18</td>\n",
       "      <td>2008-11-01</td>\n",
       "      <td>2008-11-01</td>\n",
       "      <td>2852</td>\n",
       "      <td>2852</td>\n",
       "      <td>100.00</td>\n",
       "    </tr>\n",
       "    <tr>\n",
       "      <td>19</td>\n",
       "      <td>2008-11-01</td>\n",
       "      <td>2008-12-01</td>\n",
       "      <td>1151</td>\n",
       "      <td>2852</td>\n",
       "      <td>40.36</td>\n",
       "    </tr>\n",
       "    <tr>\n",
       "      <td>20</td>\n",
       "      <td>2008-12-01</td>\n",
       "      <td>2008-12-01</td>\n",
       "      <td>2536</td>\n",
       "      <td>2536</td>\n",
       "      <td>100.00</td>\n",
       "    </tr>\n",
       "  </tbody>\n",
       "</table>\n",
       "</div>"
      ],
      "text/plain": [
       "    cohort_dt month_post  users_cnt  cohort_users_cnt  retention_rate\n",
       "0  2008-07-01 2008-07-01          3                 3          100.00\n",
       "1  2008-07-01 2008-08-01          2                 3           66.67\n",
       "2  2008-07-01 2008-09-01          1                 3           33.33\n",
       "3  2008-07-01 2008-10-01          2                 3           66.67\n",
       "4  2008-07-01 2008-11-01          1                 3           33.33\n",
       "5  2008-07-01 2008-12-01          2                 3           66.67\n",
       "6  2008-08-01 2008-08-01       2151              2151          100.00\n",
       "7  2008-08-01 2008-09-01       1571              2151           73.04\n",
       "8  2008-08-01 2008-10-01       1275              2151           59.27\n",
       "9  2008-08-01 2008-11-01       1050              2151           48.81\n",
       "10 2008-08-01 2008-12-01        894              2151           41.56\n",
       "11 2008-09-01 2008-09-01       7678              7678          100.00\n",
       "12 2008-09-01 2008-10-01       4132              7678           53.82\n",
       "13 2008-09-01 2008-11-01       2966              7678           38.63\n",
       "14 2008-09-01 2008-12-01       2500              7678           32.56\n",
       "15 2008-10-01 2008-10-01       3629              3629          100.00\n",
       "16 2008-10-01 2008-11-01       1640              3629           45.19\n",
       "17 2008-10-01 2008-12-01       1221              3629           33.65\n",
       "18 2008-11-01 2008-11-01       2852              2852          100.00\n",
       "19 2008-11-01 2008-12-01       1151              2852           40.36\n",
       "20 2008-12-01 2008-12-01       2536              2536          100.00"
      ]
     },
     "execution_count": 13,
     "metadata": {},
     "output_type": "execute_result"
    }
   ],
   "source": [
    "# напишите запрос\n",
    "query = '''\n",
    "\n",
    "WITH temple AS\n",
    "(SELECT \n",
    "user_id,\n",
    "DATE_TRUNC('month',creation_date) AS month,\n",
    "MIN (DATE_TRUNC('month',creation_date)) OVER (PARTITION BY user_id) AS cohort_dt,\n",
    "COUNT (user_id)\n",
    "FROM StackOverflow.posts\n",
    "GROUP BY 1,\n",
    "2),\n",
    "\n",
    "temple2 AS\n",
    "(SELECT \n",
    "DISTINCT user_id as user_id,\n",
    "cohort_dt\n",
    "FROM temple),\n",
    "\n",
    "profile AS\n",
    "(SELECT \n",
    "user_id,\n",
    "cohort_dt,\n",
    "COUNT(*) OVER (PARTITION BY cohort_dt) AS cohort_users_cnt\n",
    "FROM temple2),\n",
    "\n",
    "sessions AS\n",
    "(SELECT\n",
    "user_id,\n",
    "DATE_TRUNC('month',creation_date) AS month_post\n",
    "FROM StackOverflow.posts\n",
    "GROUP BY 1,\n",
    "2)\n",
    "\n",
    "SELECT \n",
    " \n",
    "p.cohort_dt,\n",
    "month_post,\n",
    "COUNT(p.user_id) AS users_cnt,\n",
    "cohort_users_cnt,\n",
    "ROUND (COUNT(p.user_id) * 100.0 / cohort_users_cnt, 2) AS retention_rate\n",
    "FROM profile p JOIN sessions s ON p.user_id=s.user_id\n",
    "GROUP BY 1,\n",
    "         2,\n",
    "         4\n",
    "\n",
    "\n",
    "\n",
    " \n",
    "\n",
    " \n",
    "\n",
    "\n",
    "'''\n",
    "\n",
    "# выполните запрос\n",
    "\n",
    "eight=pd.read_sql_query(query, con=engine)\n",
    "eight.head(30)"
   ]
  },
  {
   "cell_type": "markdown",
   "metadata": {
    "id": "_msBtnb2DWLC"
   },
   "source": [
    "Постройте тепловую карту Retention Rate. Какие аномалии или другие необычные явления удалось выявить? Сформулируйте гипотезы о возможных причинах."
   ]
  },
  {
   "cell_type": "code",
   "execution_count": 14,
   "metadata": {
    "id": "qAEJc8H1DWLC",
    "scrolled": false
   },
   "outputs": [
    {
     "data": {
      "image/png": "[encoded data removed]",
      "text/plain": [
       "<Figure size 1152x1152 with 2 Axes>"
      ]
     },
     "metadata": {
      "needs_background": "light"
     },
     "output_type": "display_data"
    }
   ],
   "source": [
    "# постройте тепловую карту Retention Rate\n",
    "\n",
    "\n",
    "pivot=eight.pivot_table(\n",
    "index='cohort_dt',\n",
    "columns='month_post',\n",
    "values='retention_rate',\n",
    "aggfunc='mean')\n",
    "\n",
    "\n",
    "plt.figure(figsize=(16, 16)) # задаём размер графика\n",
    "sns.heatmap(pivot, # датафрейм с данными\n",
    "            annot=True, # добавляем подписи\n",
    "            fmt='') # задаём исходный формат\n",
    "plt.title('Тепловая карта') # название графика\n",
    "\n",
    "plt.show() \n"
   ]
  },
  {
   "cell_type": "markdown",
   "metadata": {
    "id": "1k7oPWt5DWLK"
   },
   "source": [
    "# Задание 9\n"
   ]
  },
  {
   "cell_type": "markdown",
   "metadata": {
    "id": "ALsYVSyRDWLM"
   },
   "source": [
    "На сколько процентов менялось количество постов ежемесячно с 1 сентября по 31 декабря 2008 года? Отобразите таблицу со следующими полями:\n",
    "\n",
    "- номер месяца;\n",
    "- количество постов за месяц;\n",
    "- процент, который показывает, насколько изменилось количество постов в текущем месяце по сравнению с предыдущим.\n",
    "\n",
    "Если постов стало меньше, значение процента должно быть отрицательным, если больше — положительным. Округлите значение процента до двух знаков после запятой.\n",
    "\n",
    "Напомним, что при делении одного целого числа на другое в PostgreSQL в результате получится целое число, округлённое до ближайшего целого вниз. Чтобы этого избежать, переведите делимое в тип `numeric`."
   ]
  },
  {
   "cell_type": "markdown",
   "metadata": {
    "id": "u4E2zF8DDWLM"
   },
   "source": [
    "| creation_month | posts_count | percentage |\n",
    "| -------------- | ----------- | ---------- |\n",
    "| 9 | 70731 | Nan |\n",
    "| 10 | 63102 | -10.33 |\n",
    "| ... | ... | ... |"
   ]
  },
  {
   "cell_type": "code",
   "execution_count": 15,
   "metadata": {
    "id": "Mb5pShStDWLN"
   },
   "outputs": [
    {
     "data": {
      "text/html": [
       "<div>\n",
       "<style scoped>\n",
       "    .dataframe tbody tr th:only-of-type {\n",
       "        vertical-align: middle;\n",
       "    }\n",
       "\n",
       "    .dataframe tbody tr th {\n",
       "        vertical-align: top;\n",
       "    }\n",
       "\n",
       "    .dataframe thead th {\n",
       "        text-align: right;\n",
       "    }\n",
       "</style>\n",
       "<table border=\"1\" class=\"dataframe\">\n",
       "  <thead>\n",
       "    <tr style=\"text-align: right;\">\n",
       "      <th></th>\n",
       "      <th>creation_date</th>\n",
       "      <th>count</th>\n",
       "      <th>round</th>\n",
       "    </tr>\n",
       "  </thead>\n",
       "  <tbody>\n",
       "    <tr>\n",
       "      <td>0</td>\n",
       "      <td>9.0</td>\n",
       "      <td>70371</td>\n",
       "      <td>NaN</td>\n",
       "    </tr>\n",
       "    <tr>\n",
       "      <td>1</td>\n",
       "      <td>10.0</td>\n",
       "      <td>63102</td>\n",
       "      <td>-10.33</td>\n",
       "    </tr>\n",
       "    <tr>\n",
       "      <td>2</td>\n",
       "      <td>11.0</td>\n",
       "      <td>46975</td>\n",
       "      <td>-25.56</td>\n",
       "    </tr>\n",
       "    <tr>\n",
       "      <td>3</td>\n",
       "      <td>12.0</td>\n",
       "      <td>44592</td>\n",
       "      <td>-5.07</td>\n",
       "    </tr>\n",
       "  </tbody>\n",
       "</table>\n",
       "</div>"
      ],
      "text/plain": [
       "   creation_date  count  round\n",
       "0            9.0  70371    NaN\n",
       "1           10.0  63102 -10.33\n",
       "2           11.0  46975 -25.56\n",
       "3           12.0  44592  -5.07"
      ]
     },
     "execution_count": 15,
     "metadata": {},
     "output_type": "execute_result"
    }
   ],
   "source": [
    "# напишите запрос\n",
    "query = '''\n",
    "WITH temple AS\n",
    "\n",
    "(SELECT\n",
    "EXTRACT (month FROM creation_date ) as creation_date,\n",
    "COUNT (id)\n",
    "FROM StackOverflow.posts\n",
    " \n",
    " WHERE creation_date >= '2008-09-01'\n",
    "          AND creation_date <= '2008-12-31'\n",
    "GROUP BY EXTRACT (month FROM creation_date ))\n",
    "\n",
    "SELECT \n",
    "creation_date,\n",
    "count,\n",
    "ROUND ((CAST (count AS numeric) /LAG (count) OVER ( ) -1) *100,2)\n",
    "FROM temple\n",
    "\n",
    "'''\n",
    "\n",
    "# выполните запрос\n",
    "\n",
    "nine=pd.read_sql_query(query, con=engine)\n",
    "nine.head()"
   ]
  },
  {
   "cell_type": "markdown",
   "metadata": {
    "id": "9NQE2y_MDWLP"
   },
   "source": [
    "Постройте круговую диаграмму с количеством постов по месяцам."
   ]
  },
  {
   "cell_type": "code",
   "execution_count": 16,
   "metadata": {
    "id": "377ABjiVDWLP",
    "scrolled": true
   },
   "outputs": [
    {
     "data": {
      "image/png": "[encoded data removed]",
      "text/plain": [
       "<Figure size 432x288 with 1 Axes>"
      ]
     },
     "metadata": {},
     "output_type": "display_data"
    }
   ],
   "source": [
    "# постройте круговую диаграмму с количеством постов по месяцам\n",
    "\n",
    "fig1, ax1 = plt.subplots()\n",
    "ax1.pie(nine['count'], labels=nine['count'])\n",
    "plt.show()"
   ]
  },
  {
   "cell_type": "markdown",
   "metadata": {
    "id": "uw7qMtafDWLP"
   },
   "source": [
    "# Задание 10"
   ]
  },
  {
   "cell_type": "markdown",
   "metadata": {
    "id": "oRBpWKx3DWLQ"
   },
   "source": [
    "Выгрузите данные активности пользователя, который опубликовал больше всего постов за всё время. Выведите данные за октябрь 2008 года в таком виде:\n",
    "\n",
    "- номер недели;\n",
    "- дата и время последнего поста, опубликованного на этой неделе."
   ]
  },
  {
   "cell_type": "markdown",
   "metadata": {
    "id": "XjAWSn_3DWLQ"
   },
   "source": [
    "| week_creation | creation_date |\n",
    "| ------------- | ------------- |\n",
    "| 40 | 2008-10-05 09:00:58 |\n",
    "| 41 | 2008-10-12 21:22:23 |\n",
    "| ... | ... |"
   ]
  },
  {
   "cell_type": "code",
   "execution_count": 17,
   "metadata": {
    "id": "r5F5fSkwDWLQ"
   },
   "outputs": [
    {
     "data": {
      "text/html": [
       "<div>\n",
       "<style scoped>\n",
       "    .dataframe tbody tr th:only-of-type {\n",
       "        vertical-align: middle;\n",
       "    }\n",
       "\n",
       "    .dataframe tbody tr th {\n",
       "        vertical-align: top;\n",
       "    }\n",
       "\n",
       "    .dataframe thead th {\n",
       "        text-align: right;\n",
       "    }\n",
       "</style>\n",
       "<table border=\"1\" class=\"dataframe\">\n",
       "  <thead>\n",
       "    <tr style=\"text-align: right;\">\n",
       "      <th></th>\n",
       "      <th>week</th>\n",
       "      <th>max</th>\n",
       "    </tr>\n",
       "  </thead>\n",
       "  <tbody>\n",
       "    <tr>\n",
       "      <td>0</td>\n",
       "      <td>40.0</td>\n",
       "      <td>2008-10-05 09:00:58</td>\n",
       "    </tr>\n",
       "    <tr>\n",
       "      <td>1</td>\n",
       "      <td>41.0</td>\n",
       "      <td>2008-10-12 21:22:23</td>\n",
       "    </tr>\n",
       "    <tr>\n",
       "      <td>2</td>\n",
       "      <td>42.0</td>\n",
       "      <td>2008-10-19 06:49:30</td>\n",
       "    </tr>\n",
       "    <tr>\n",
       "      <td>3</td>\n",
       "      <td>43.0</td>\n",
       "      <td>2008-10-26 21:44:36</td>\n",
       "    </tr>\n",
       "    <tr>\n",
       "      <td>4</td>\n",
       "      <td>44.0</td>\n",
       "      <td>2008-10-31 22:16:01</td>\n",
       "    </tr>\n",
       "  </tbody>\n",
       "</table>\n",
       "</div>"
      ],
      "text/plain": [
       "   week                 max\n",
       "0  40.0 2008-10-05 09:00:58\n",
       "1  41.0 2008-10-12 21:22:23\n",
       "2  42.0 2008-10-19 06:49:30\n",
       "3  43.0 2008-10-26 21:44:36\n",
       "4  44.0 2008-10-31 22:16:01"
      ]
     },
     "execution_count": 17,
     "metadata": {},
     "output_type": "execute_result"
    }
   ],
   "source": [
    "# напишите запрос\n",
    "query = '''\n",
    "\n",
    "WITH \n",
    " \n",
    "temple AS\n",
    "(SELECT \n",
    "user_id,\n",
    "creation_date,\n",
    "EXTRACT (week FROM creation_date::date) as week\n",
    "\n",
    "FROM StackOverflow.posts\n",
    "\n",
    "WHERE user_id IN\n",
    "    (SELECT user_id FROM stackoverflow.posts GROUP BY user_id ORDER BY COUNT(user_id) DESC LIMIT 1)\n",
    "\n",
    "\n",
    "\n",
    "AND creation_date::date >= '2008-10-01'\n",
    "          AND creation_date::date <= '2008-10-31'\n",
    "ORDER BY EXTRACT (week FROM creation_date),\n",
    "creation_date)\n",
    " \n",
    " \n",
    "SELECT \n",
    "DISTINCT week,\n",
    "MAX (creation_date) OVER (PARTITION BY week)\n",
    "FROM temple\n",
    "ORDER BY MAX (creation_date) OVER (PARTITION BY week)\n",
    "\n",
    "'''\n",
    "\n",
    "# выполните запрос\n",
    "\n",
    "ten=pd.read_sql_query(query, con=engine)\n",
    "ten.head(20)"
   ]
  }
 ],
 "metadata": {
  "ExecuteTimeLog": [
   {
    "duration": 1216,
    "start_time": "2022-01-23T13:02:53.504Z"
   },
   {
    "duration": 7,
    "start_time": "2022-01-23T13:03:02.122Z"
   },
   {
    "duration": 45,
    "start_time": "2022-01-23T13:03:14.038Z"
   },
   {
    "duration": 244,
    "start_time": "2022-01-23T13:03:16.701Z"
   },
   {
    "duration": 20,
    "start_time": "2022-01-23T13:03:18.423Z"
   },
   {
    "duration": 4,
    "start_time": "2022-01-23T14:14:12.898Z"
   },
   {
    "duration": 1732,
    "start_time": "2022-01-23T14:14:39.283Z"
   },
   {
    "duration": 1650,
    "start_time": "2022-01-23T14:14:45.707Z"
   },
   {
    "duration": 1752,
    "start_time": "2022-01-23T14:15:15.215Z"
   },
   {
    "duration": 482,
    "start_time": "2022-01-23T14:17:22.119Z"
   },
   {
    "duration": 1793,
    "start_time": "2022-01-23T14:17:27.199Z"
   },
   {
    "duration": 102,
    "start_time": "2022-01-23T14:18:43.841Z"
   },
   {
    "duration": 96,
    "start_time": "2022-01-23T14:18:54.590Z"
   },
   {
    "duration": 395,
    "start_time": "2022-01-23T14:19:05.334Z"
   },
   {
    "duration": 173,
    "start_time": "2022-01-23T14:20:51.087Z"
   },
   {
    "duration": 182,
    "start_time": "2022-01-23T14:21:03.614Z"
   },
   {
    "duration": 168,
    "start_time": "2022-01-23T14:22:03.754Z"
   },
   {
    "duration": 167,
    "start_time": "2022-01-23T14:22:18.675Z"
   },
   {
    "duration": 320,
    "start_time": "2022-01-23T14:28:03.921Z"
   },
   {
    "duration": 475,
    "start_time": "2022-01-23T14:30:25.166Z"
   },
   {
    "duration": 304,
    "start_time": "2022-01-23T14:30:49.578Z"
   },
   {
    "duration": 147,
    "start_time": "2022-01-23T14:33:49.867Z"
   },
   {
    "duration": 128,
    "start_time": "2022-01-23T14:43:28.687Z"
   },
   {
    "duration": 173,
    "start_time": "2022-01-23T14:43:42.558Z"
   },
   {
    "duration": 167,
    "start_time": "2022-01-23T14:44:00.151Z"
   },
   {
    "duration": 91,
    "start_time": "2022-01-23T14:47:40.944Z"
   },
   {
    "duration": 571,
    "start_time": "2022-01-23T14:50:13.305Z"
   },
   {
    "duration": 433,
    "start_time": "2022-01-23T14:50:40.123Z"
   },
   {
    "duration": 346,
    "start_time": "2022-01-23T14:51:45.393Z"
   },
   {
    "duration": 534,
    "start_time": "2022-01-23T14:52:27.284Z"
   },
   {
    "duration": 180,
    "start_time": "2022-01-23T14:53:45.725Z"
   },
   {
    "duration": 159,
    "start_time": "2022-01-23T14:53:53.708Z"
   },
   {
    "duration": 479,
    "start_time": "2022-01-23T14:54:04.948Z"
   },
   {
    "duration": 158,
    "start_time": "2022-01-23T14:54:26.110Z"
   },
   {
    "duration": 332,
    "start_time": "2022-01-24T12:44:38.638Z"
   },
   {
    "duration": 1066,
    "start_time": "2022-01-24T12:44:57.147Z"
   },
   {
    "duration": 5,
    "start_time": "2022-01-24T12:44:58.217Z"
   },
   {
    "duration": 63,
    "start_time": "2022-01-24T12:44:58.226Z"
   },
   {
    "duration": 197,
    "start_time": "2022-01-24T12:44:58.292Z"
   },
   {
    "duration": 23,
    "start_time": "2022-01-24T12:44:58.492Z"
   },
   {
    "duration": 182,
    "start_time": "2022-01-24T12:44:58.518Z"
   },
   {
    "duration": 103,
    "start_time": "2022-01-24T12:44:58.703Z"
   },
   {
    "duration": -23,
    "start_time": "2022-01-24T12:44:58.833Z"
   },
   {
    "duration": -61,
    "start_time": "2022-01-24T12:44:58.872Z"
   },
   {
    "duration": -67,
    "start_time": "2022-01-24T12:44:58.880Z"
   },
   {
    "duration": -76,
    "start_time": "2022-01-24T12:44:58.890Z"
   },
   {
    "duration": -78,
    "start_time": "2022-01-24T12:44:58.893Z"
   },
   {
    "duration": -80,
    "start_time": "2022-01-24T12:44:58.897Z"
   },
   {
    "duration": -90,
    "start_time": "2022-01-24T12:44:58.908Z"
   },
   {
    "duration": -91,
    "start_time": "2022-01-24T12:44:58.910Z"
   },
   {
    "duration": -94,
    "start_time": "2022-01-24T12:44:58.915Z"
   },
   {
    "duration": -116,
    "start_time": "2022-01-24T12:44:58.938Z"
   },
   {
    "duration": -129,
    "start_time": "2022-01-24T12:44:58.952Z"
   },
   {
    "duration": -130,
    "start_time": "2022-01-24T12:44:58.955Z"
   },
   {
    "duration": -134,
    "start_time": "2022-01-24T12:44:58.960Z"
   },
   {
    "duration": -137,
    "start_time": "2022-01-24T12:44:58.964Z"
   },
   {
    "duration": -150,
    "start_time": "2022-01-24T12:44:58.979Z"
   },
   {
    "duration": 433,
    "start_time": "2022-01-24T12:45:24.597Z"
   },
   {
    "duration": 1472,
    "start_time": "2022-01-24T12:45:40.831Z"
   },
   {
    "duration": 2134,
    "start_time": "2022-01-24T12:46:40.540Z"
   },
   {
    "duration": 121,
    "start_time": "2022-01-24T12:47:03.902Z"
   },
   {
    "duration": 915,
    "start_time": "2022-01-24T14:14:32.035Z"
   },
   {
    "duration": 2982,
    "start_time": "2022-01-24T14:38:22.373Z"
   },
   {
    "duration": 106,
    "start_time": "2022-01-24T14:40:56.389Z"
   },
   {
    "duration": 339,
    "start_time": "2022-01-24T14:41:08.813Z"
   },
   {
    "duration": 1258,
    "start_time": "2022-01-24T14:42:43.701Z"
   },
   {
    "duration": 5244,
    "start_time": "2022-01-24T14:44:24.795Z"
   },
   {
    "duration": 1836,
    "start_time": "2022-01-24T14:48:15.569Z"
   },
   {
    "duration": 2033,
    "start_time": "2022-01-24T14:48:33.643Z"
   },
   {
    "duration": 305,
    "start_time": "2022-01-24T14:49:49.067Z"
   },
   {
    "duration": 309,
    "start_time": "2022-01-24T14:49:53.287Z"
   },
   {
    "duration": 2670,
    "start_time": "2022-01-24T14:50:13.793Z"
   },
   {
    "duration": 321,
    "start_time": "2022-01-24T14:52:57.954Z"
   },
   {
    "duration": 1595,
    "start_time": "2022-01-24T14:53:13.415Z"
   },
   {
    "duration": 330,
    "start_time": "2022-01-24T14:55:55.988Z"
   },
   {
    "duration": 799,
    "start_time": "2022-01-24T14:56:00.152Z"
   },
   {
    "duration": 345,
    "start_time": "2022-01-24T14:56:30.924Z"
   },
   {
    "duration": 6712,
    "start_time": "2022-01-24T14:58:06.858Z"
   },
   {
    "duration": 6773,
    "start_time": "2022-01-24T14:58:29.259Z"
   },
   {
    "duration": 320,
    "start_time": "2022-01-24T16:52:55.422Z"
   },
   {
    "duration": 317,
    "start_time": "2022-01-24T16:52:59.739Z"
   },
   {
    "duration": 341,
    "start_time": "2022-01-24T16:53:40.631Z"
   },
   {
    "duration": 975,
    "start_time": "2022-01-24T16:53:56.119Z"
   },
   {
    "duration": 1218,
    "start_time": "2022-01-24T16:56:02.439Z"
   },
   {
    "duration": 1029,
    "start_time": "2022-01-24T17:00:23.362Z"
   },
   {
    "duration": 1193,
    "start_time": "2022-01-24T17:01:10.883Z"
   },
   {
    "duration": 291,
    "start_time": "2022-01-24T17:02:27.873Z"
   },
   {
    "duration": 279,
    "start_time": "2022-01-24T17:03:02.794Z"
   },
   {
    "duration": 2922,
    "start_time": "2022-01-24T17:05:28.548Z"
   },
   {
    "duration": 410,
    "start_time": "2022-01-24T19:26:06.368Z"
   },
   {
    "duration": 347,
    "start_time": "2022-01-24T19:26:37.999Z"
   },
   {
    "duration": 1053,
    "start_time": "2022-01-24T19:26:49.372Z"
   },
   {
    "duration": 4,
    "start_time": "2022-01-24T19:26:52.669Z"
   },
   {
    "duration": 175,
    "start_time": "2022-01-24T19:26:54.252Z"
   },
   {
    "duration": 355,
    "start_time": "2022-01-24T19:26:56.140Z"
   },
   {
    "duration": 19,
    "start_time": "2022-01-24T19:26:56.933Z"
   },
   {
    "duration": 2303,
    "start_time": "2022-01-24T19:26:59.733Z"
   },
   {
    "duration": 122,
    "start_time": "2022-01-24T19:27:03.028Z"
   },
   {
    "duration": 378,
    "start_time": "2022-01-24T19:27:05.384Z"
   },
   {
    "duration": 125,
    "start_time": "2022-01-24T19:27:06.571Z"
   },
   {
    "duration": 134,
    "start_time": "2022-01-24T19:27:07.596Z"
   },
   {
    "duration": 115,
    "start_time": "2022-01-24T19:27:08.320Z"
   },
   {
    "duration": 1200,
    "start_time": "2022-01-24T19:27:09.340Z"
   },
   {
    "duration": 95,
    "start_time": "2022-01-24T19:27:10.592Z"
   },
   {
    "duration": 4,
    "start_time": "2022-01-24T19:27:11.801Z"
   },
   {
    "duration": 4,
    "start_time": "2022-01-24T19:27:12.609Z"
   },
   {
    "duration": 1146,
    "start_time": "2022-01-24T19:27:13.970Z"
   },
   {
    "duration": 4381,
    "start_time": "2022-01-24T19:27:17.295Z"
   },
   {
    "duration": 1063,
    "start_time": "2022-01-24T19:27:21.680Z"
   },
   {
    "duration": 3,
    "start_time": "2022-01-24T19:27:22.952Z"
   },
   {
    "duration": 1656,
    "start_time": "2022-01-24T19:27:32.778Z"
   },
   {
    "duration": 385,
    "start_time": "2022-01-24T19:30:26.906Z"
   },
   {
    "duration": 380,
    "start_time": "2022-01-24T19:30:36.746Z"
   },
   {
    "duration": 542,
    "start_time": "2022-01-24T19:30:57.386Z"
   },
   {
    "duration": 363,
    "start_time": "2022-01-24T19:31:27.274Z"
   },
   {
    "duration": 115,
    "start_time": "2022-01-24T19:32:48.375Z"
   },
   {
    "duration": 386,
    "start_time": "2022-01-24T19:33:09.661Z"
   },
   {
    "duration": 123,
    "start_time": "2022-01-24T19:34:00.466Z"
   },
   {
    "duration": 489,
    "start_time": "2022-01-24T19:36:24.624Z"
   },
   {
    "duration": 241,
    "start_time": "2022-01-24T19:36:29.014Z"
   },
   {
    "duration": 123,
    "start_time": "2022-01-24T19:36:52.333Z"
   },
   {
    "duration": 122,
    "start_time": "2022-01-24T19:37:26.440Z"
   },
   {
    "duration": 126,
    "start_time": "2022-01-24T19:37:43.135Z"
   },
   {
    "duration": 375,
    "start_time": "2022-01-24T19:38:31.641Z"
   },
   {
    "duration": 117,
    "start_time": "2022-01-24T19:38:36.604Z"
   },
   {
    "duration": 363,
    "start_time": "2022-01-24T19:38:47.488Z"
   },
   {
    "duration": 125,
    "start_time": "2022-01-24T19:38:59.052Z"
   },
   {
    "duration": 117,
    "start_time": "2022-01-24T19:39:11.132Z"
   },
   {
    "duration": 123,
    "start_time": "2022-01-24T19:39:19.345Z"
   },
   {
    "duration": 120,
    "start_time": "2022-01-24T19:39:25.212Z"
   },
   {
    "duration": 138,
    "start_time": "2022-01-24T19:39:44.999Z"
   },
   {
    "duration": 123,
    "start_time": "2022-01-24T19:39:53.898Z"
   },
   {
    "duration": 123,
    "start_time": "2022-01-24T19:40:02.184Z"
   },
   {
    "duration": 125,
    "start_time": "2022-01-24T19:40:21.045Z"
   },
   {
    "duration": 631,
    "start_time": "2022-01-24T19:41:43.328Z"
   },
   {
    "duration": 85,
    "start_time": "2022-01-24T19:41:52.216Z"
   },
   {
    "duration": 100,
    "start_time": "2022-01-24T19:42:43.971Z"
   },
   {
    "duration": 2029,
    "start_time": "2022-01-24T19:43:59.873Z"
   },
   {
    "duration": 743,
    "start_time": "2022-01-24T19:45:54.773Z"
   },
   {
    "duration": 91,
    "start_time": "2022-01-24T19:46:13.105Z"
   },
   {
    "duration": 92,
    "start_time": "2022-01-24T19:46:30.952Z"
   },
   {
    "duration": 85,
    "start_time": "2022-01-24T19:46:45.731Z"
   },
   {
    "duration": 383,
    "start_time": "2022-01-24T19:48:32.118Z"
   },
   {
    "duration": 52,
    "start_time": "2022-01-24T19:48:45.287Z"
   },
   {
    "duration": 377,
    "start_time": "2022-01-24T19:49:16.939Z"
   },
   {
    "duration": 86,
    "start_time": "2022-01-24T19:49:29.250Z"
   },
   {
    "duration": 55,
    "start_time": "2022-01-24T19:50:31.571Z"
   },
   {
    "duration": 52,
    "start_time": "2022-01-24T19:50:59.714Z"
   },
   {
    "duration": 384,
    "start_time": "2022-01-24T19:53:27.842Z"
   },
   {
    "duration": 44,
    "start_time": "2022-01-24T19:54:21.338Z"
   },
   {
    "duration": 42,
    "start_time": "2022-01-24T19:55:36.733Z"
   },
   {
    "duration": 45,
    "start_time": "2022-01-24T19:56:09.399Z"
   },
   {
    "duration": 42,
    "start_time": "2022-01-24T20:00:24.335Z"
   },
   {
    "duration": 47,
    "start_time": "2022-01-24T20:01:45.746Z"
   },
   {
    "duration": 367,
    "start_time": "2022-01-24T20:02:36.503Z"
   },
   {
    "duration": 435,
    "start_time": "2022-01-24T20:02:54.282Z"
   },
   {
    "duration": 41,
    "start_time": "2022-01-24T20:02:58.577Z"
   },
   {
    "duration": 52,
    "start_time": "2022-01-24T20:03:15.954Z"
   },
   {
    "duration": 423,
    "start_time": "2022-01-24T20:03:30.117Z"
   },
   {
    "duration": 43,
    "start_time": "2022-01-24T20:03:34.442Z"
   },
   {
    "duration": 3,
    "start_time": "2022-01-24T20:06:31.806Z"
   },
   {
    "duration": 1713,
    "start_time": "2022-01-24T20:06:51.077Z"
   },
   {
    "duration": 389,
    "start_time": "2022-01-24T20:07:22.578Z"
   },
   {
    "duration": 122,
    "start_time": "2022-01-24T20:07:29.221Z"
   },
   {
    "duration": 51,
    "start_time": "2022-01-24T20:08:45.108Z"
   },
   {
    "duration": 62,
    "start_time": "2022-01-24T20:10:30.444Z"
   },
   {
    "duration": 52,
    "start_time": "2022-01-24T20:10:43.871Z"
   },
   {
    "duration": 59,
    "start_time": "2022-01-24T20:11:32.630Z"
   },
   {
    "duration": 49,
    "start_time": "2022-01-24T20:11:49.357Z"
   },
   {
    "duration": 793,
    "start_time": "2022-01-25T09:20:41.073Z"
   },
   {
    "duration": 4,
    "start_time": "2022-01-25T09:20:41.868Z"
   },
   {
    "duration": 42,
    "start_time": "2022-01-25T09:20:41.874Z"
   },
   {
    "duration": 224,
    "start_time": "2022-01-25T09:20:41.919Z"
   },
   {
    "duration": 14,
    "start_time": "2022-01-25T09:20:42.145Z"
   },
   {
    "duration": 184,
    "start_time": "2022-01-25T09:20:42.161Z"
   },
   {
    "duration": 110,
    "start_time": "2022-01-25T09:20:42.347Z"
   },
   {
    "duration": -33,
    "start_time": "2022-01-25T09:20:42.493Z"
   },
   {
    "duration": -35,
    "start_time": "2022-01-25T09:20:42.496Z"
   },
   {
    "duration": -36,
    "start_time": "2022-01-25T09:20:42.499Z"
   },
   {
    "duration": -37,
    "start_time": "2022-01-25T09:20:42.501Z"
   },
   {
    "duration": -40,
    "start_time": "2022-01-25T09:20:42.505Z"
   },
   {
    "duration": -41,
    "start_time": "2022-01-25T09:20:42.508Z"
   },
   {
    "duration": -42,
    "start_time": "2022-01-25T09:20:42.510Z"
   },
   {
    "duration": -45,
    "start_time": "2022-01-25T09:20:42.514Z"
   },
   {
    "duration": -47,
    "start_time": "2022-01-25T09:20:42.517Z"
   },
   {
    "duration": -49,
    "start_time": "2022-01-25T09:20:42.520Z"
   },
   {
    "duration": -52,
    "start_time": "2022-01-25T09:20:42.524Z"
   },
   {
    "duration": -53,
    "start_time": "2022-01-25T09:20:42.526Z"
   },
   {
    "duration": -56,
    "start_time": "2022-01-25T09:20:42.530Z"
   },
   {
    "duration": -57,
    "start_time": "2022-01-25T09:20:42.532Z"
   },
   {
    "duration": -59,
    "start_time": "2022-01-25T09:20:42.536Z"
   },
   {
    "duration": 722,
    "start_time": "2022-01-25T09:21:42.761Z"
   },
   {
    "duration": 3,
    "start_time": "2022-01-25T09:21:43.485Z"
   },
   {
    "duration": 42,
    "start_time": "2022-01-25T09:21:43.494Z"
   },
   {
    "duration": 226,
    "start_time": "2022-01-25T09:21:43.538Z"
   },
   {
    "duration": 15,
    "start_time": "2022-01-25T09:21:43.766Z"
   },
   {
    "duration": 177,
    "start_time": "2022-01-25T09:21:43.783Z"
   },
   {
    "duration": 362,
    "start_time": "2022-01-25T09:21:43.963Z"
   },
   {
    "duration": 100,
    "start_time": "2022-01-25T09:21:44.328Z"
   },
   {
    "duration": -28,
    "start_time": "2022-01-25T09:21:44.459Z"
   },
   {
    "duration": -29,
    "start_time": "2022-01-25T09:21:44.462Z"
   },
   {
    "duration": -31,
    "start_time": "2022-01-25T09:21:44.465Z"
   },
   {
    "duration": -33,
    "start_time": "2022-01-25T09:21:44.468Z"
   },
   {
    "duration": -33,
    "start_time": "2022-01-25T09:21:44.470Z"
   },
   {
    "duration": -35,
    "start_time": "2022-01-25T09:21:44.473Z"
   },
   {
    "duration": -38,
    "start_time": "2022-01-25T09:21:44.477Z"
   },
   {
    "duration": -40,
    "start_time": "2022-01-25T09:21:44.480Z"
   },
   {
    "duration": -42,
    "start_time": "2022-01-25T09:21:44.483Z"
   },
   {
    "duration": -44,
    "start_time": "2022-01-25T09:21:44.486Z"
   },
   {
    "duration": -46,
    "start_time": "2022-01-25T09:21:44.489Z"
   },
   {
    "duration": 759,
    "start_time": "2022-01-25T09:22:04.069Z"
   },
   {
    "duration": 4,
    "start_time": "2022-01-25T09:22:04.830Z"
   },
   {
    "duration": 40,
    "start_time": "2022-01-25T09:22:04.836Z"
   },
   {
    "duration": 249,
    "start_time": "2022-01-25T09:22:04.879Z"
   },
   {
    "duration": 17,
    "start_time": "2022-01-25T09:22:05.130Z"
   },
   {
    "duration": 161,
    "start_time": "2022-01-25T09:22:05.149Z"
   },
   {
    "duration": 310,
    "start_time": "2022-01-25T09:22:05.313Z"
   },
   {
    "duration": 168,
    "start_time": "2022-01-25T09:22:05.625Z"
   },
   {
    "duration": 1060,
    "start_time": "2022-01-25T09:22:05.795Z"
   },
   {
    "duration": 123,
    "start_time": "2022-01-25T09:22:06.857Z"
   },
   {
    "duration": 79,
    "start_time": "2022-01-25T09:22:06.982Z"
   },
   {
    "duration": 963,
    "start_time": "2022-01-25T09:22:07.063Z"
   },
   {
    "duration": 1168,
    "start_time": "2022-01-25T09:22:08.028Z"
   },
   {
    "duration": 912,
    "start_time": "2022-01-25T09:22:09.198Z"
   },
   {
    "duration": -39,
    "start_time": "2022-01-25T09:22:10.151Z"
   },
   {
    "duration": -42,
    "start_time": "2022-01-25T09:22:10.155Z"
   },
   {
    "duration": -44,
    "start_time": "2022-01-25T09:22:10.158Z"
   },
   {
    "duration": -45,
    "start_time": "2022-01-25T09:22:10.160Z"
   },
   {
    "duration": 12,
    "start_time": "2022-01-25T09:23:19.576Z"
   },
   {
    "duration": 115,
    "start_time": "2022-01-25T09:50:57.596Z"
   },
   {
    "duration": 82,
    "start_time": "2022-01-25T10:19:32.290Z"
   },
   {
    "duration": 104,
    "start_time": "2022-01-25T10:19:39.975Z"
   },
   {
    "duration": 162,
    "start_time": "2022-01-25T10:20:14.760Z"
   },
   {
    "duration": 80,
    "start_time": "2022-01-25T10:21:58.444Z"
   },
   {
    "duration": 105,
    "start_time": "2022-01-25T10:23:59.219Z"
   },
   {
    "duration": 104,
    "start_time": "2022-01-25T10:24:05.914Z"
   },
   {
    "duration": 111,
    "start_time": "2022-01-25T10:24:11.884Z"
   },
   {
    "duration": 77,
    "start_time": "2022-01-25T10:24:19.272Z"
   },
   {
    "duration": 108,
    "start_time": "2022-01-25T10:24:24.005Z"
   },
   {
    "duration": 347,
    "start_time": "2022-01-25T10:28:00.071Z"
   },
   {
    "duration": 75,
    "start_time": "2022-01-25T10:28:10.930Z"
   },
   {
    "duration": 152,
    "start_time": "2022-01-25T10:33:37.418Z"
   },
   {
    "duration": 109,
    "start_time": "2022-01-25T10:33:39.276Z"
   },
   {
    "duration": 74,
    "start_time": "2022-01-25T10:33:40.748Z"
   },
   {
    "duration": 79,
    "start_time": "2022-01-25T10:42:19.897Z"
   },
   {
    "duration": 675,
    "start_time": "2022-01-26T10:09:11.726Z"
   },
   {
    "duration": 4,
    "start_time": "2022-01-26T10:09:13.602Z"
   },
   {
    "duration": 72,
    "start_time": "2022-01-26T10:09:15.056Z"
   },
   {
    "duration": 377,
    "start_time": "2022-01-26T10:09:16.144Z"
   },
   {
    "duration": 13,
    "start_time": "2022-01-26T10:09:16.977Z"
   },
   {
    "duration": 2329,
    "start_time": "2022-01-26T10:09:20.977Z"
   },
   {
    "duration": 395,
    "start_time": "2022-01-26T10:09:30.424Z"
   },
   {
    "duration": 336,
    "start_time": "2022-01-26T10:13:02.899Z"
   },
   {
    "duration": 456,
    "start_time": "2022-01-26T10:13:30.091Z"
   },
   {
    "duration": 314,
    "start_time": "2022-01-26T10:16:00.441Z"
   },
   {
    "duration": 233,
    "start_time": "2022-01-26T10:17:17.686Z"
   },
   {
    "duration": 233,
    "start_time": "2022-01-26T10:17:54.282Z"
   },
   {
    "duration": 489,
    "start_time": "2022-01-26T10:18:15.279Z"
   },
   {
    "duration": 224,
    "start_time": "2022-01-26T10:19:08.674Z"
   },
   {
    "duration": 615,
    "start_time": "2022-01-26T10:21:58.354Z"
   },
   {
    "duration": 3,
    "start_time": "2022-01-26T10:21:58.971Z"
   },
   {
    "duration": 27,
    "start_time": "2022-01-26T10:21:58.976Z"
   },
   {
    "duration": 192,
    "start_time": "2022-01-26T10:21:59.005Z"
   },
   {
    "duration": 13,
    "start_time": "2022-01-26T10:21:59.198Z"
   },
   {
    "duration": 9701,
    "start_time": "2022-01-26T10:21:59.213Z"
   },
   {
    "duration": 321,
    "start_time": "2022-01-26T10:22:08.916Z"
   },
   {
    "duration": 160,
    "start_time": "2022-01-26T10:22:09.239Z"
   },
   {
    "duration": 2712,
    "start_time": "2022-01-26T10:22:09.401Z"
   },
   {
    "duration": 188,
    "start_time": "2022-01-26T10:22:12.115Z"
   },
   {
    "duration": 88,
    "start_time": "2022-01-26T10:22:12.305Z"
   },
   {
    "duration": 1250,
    "start_time": "2022-01-26T10:22:12.395Z"
   },
   {
    "duration": 1265,
    "start_time": "2022-01-26T10:22:13.647Z"
   },
   {
    "duration": 726,
    "start_time": "2022-01-26T10:22:14.914Z"
   },
   {
    "duration": -21,
    "start_time": "2022-01-26T10:22:15.663Z"
   },
   {
    "duration": -27,
    "start_time": "2022-01-26T10:22:15.670Z"
   },
   {
    "duration": -30,
    "start_time": "2022-01-26T10:22:15.674Z"
   },
   {
    "duration": -35,
    "start_time": "2022-01-26T10:22:15.680Z"
   },
   {
    "duration": 447,
    "start_time": "2022-01-26T10:22:28.645Z"
   },
   {
    "duration": 22928,
    "start_time": "2022-01-26T10:24:40.511Z"
   },
   {
    "duration": 689,
    "start_time": "2022-01-26T10:27:42.418Z"
   },
   {
    "duration": 3,
    "start_time": "2022-01-26T10:27:43.109Z"
   },
   {
    "duration": 28,
    "start_time": "2022-01-26T10:27:43.115Z"
   },
   {
    "duration": 193,
    "start_time": "2022-01-26T10:27:43.145Z"
   },
   {
    "duration": 14,
    "start_time": "2022-01-26T10:27:43.340Z"
   },
   {
    "duration": 3045,
    "start_time": "2022-01-26T10:27:43.357Z"
   },
   {
    "duration": 182,
    "start_time": "2022-01-26T10:27:46.403Z"
   },
   {
    "duration": 158,
    "start_time": "2022-01-26T10:27:46.587Z"
   },
   {
    "duration": 950,
    "start_time": "2022-01-26T10:27:46.748Z"
   },
   {
    "duration": 111,
    "start_time": "2022-01-26T10:27:47.700Z"
   },
   {
    "duration": 71,
    "start_time": "2022-01-26T10:27:47.812Z"
   },
   {
    "duration": 934,
    "start_time": "2022-01-26T10:27:47.885Z"
   },
   {
    "duration": 1273,
    "start_time": "2022-01-26T10:27:48.820Z"
   },
   {
    "duration": 1633,
    "start_time": "2022-01-26T10:27:50.095Z"
   },
   {
    "duration": 57,
    "start_time": "2022-01-26T10:27:51.673Z"
   },
   {
    "duration": 55,
    "start_time": "2022-01-26T10:27:51.676Z"
   },
   {
    "duration": 53,
    "start_time": "2022-01-26T10:27:51.679Z"
   },
   {
    "duration": 46,
    "start_time": "2022-01-26T10:27:51.686Z"
   },
   {
    "duration": 324,
    "start_time": "2022-01-26T10:31:52.733Z"
   },
   {
    "duration": 244,
    "start_time": "2022-01-26T10:34:40.933Z"
   },
   {
    "duration": 251,
    "start_time": "2022-01-26T10:34:50.562Z"
   },
   {
    "duration": 776,
    "start_time": "2022-01-26T10:35:30.021Z"
   },
   {
    "duration": 316,
    "start_time": "2022-01-26T10:35:40.753Z"
   },
   {
    "duration": 244,
    "start_time": "2022-01-26T10:36:39.605Z"
   },
   {
    "duration": 23379,
    "start_time": "2022-01-26T10:36:54.564Z"
   },
   {
    "duration": 338,
    "start_time": "2022-01-26T10:37:59.846Z"
   },
   {
    "duration": 456,
    "start_time": "2022-01-26T10:38:12.739Z"
   },
   {
    "duration": 318,
    "start_time": "2022-01-26T10:38:19.255Z"
   },
   {
    "duration": 164,
    "start_time": "2022-01-26T10:40:39.290Z"
   },
   {
    "duration": 154,
    "start_time": "2022-01-26T10:40:52.567Z"
   },
   {
    "duration": 85,
    "start_time": "2022-01-26T10:42:28.100Z"
   },
   {
    "duration": 279,
    "start_time": "2022-01-26T10:42:52.679Z"
   },
   {
    "duration": 162,
    "start_time": "2022-01-26T10:42:58.415Z"
   },
   {
    "duration": 254,
    "start_time": "2022-01-26T10:43:13.910Z"
   },
   {
    "duration": 165,
    "start_time": "2022-01-26T10:43:44.905Z"
   },
   {
    "duration": 109,
    "start_time": "2022-01-26T10:45:52.450Z"
   },
   {
    "duration": 225,
    "start_time": "2022-01-26T10:47:25.278Z"
   },
   {
    "duration": 248,
    "start_time": "2022-01-26T10:47:37.657Z"
   },
   {
    "duration": 77,
    "start_time": "2022-01-26T10:47:43.636Z"
   },
   {
    "duration": 243,
    "start_time": "2022-01-26T10:48:22.669Z"
   },
   {
    "duration": 358,
    "start_time": "2022-01-26T10:49:19.705Z"
   },
   {
    "duration": 233,
    "start_time": "2022-01-26T10:49:49.055Z"
   },
   {
    "duration": 277,
    "start_time": "2022-01-26T10:50:19.118Z"
   },
   {
    "duration": 235,
    "start_time": "2022-01-26T10:50:40.540Z"
   },
   {
    "duration": 72,
    "start_time": "2022-01-26T10:50:51.723Z"
   },
   {
    "duration": 2698,
    "start_time": "2022-01-26T10:52:56.274Z"
   },
   {
    "duration": 2639,
    "start_time": "2022-01-26T10:55:58.320Z"
   },
   {
    "duration": 922,
    "start_time": "2022-01-26T10:56:32.828Z"
   },
   {
    "duration": 2517,
    "start_time": "2022-01-26T10:57:03.513Z"
   },
   {
    "duration": 255,
    "start_time": "2022-01-26T11:02:48.452Z"
   },
   {
    "duration": 248,
    "start_time": "2022-01-26T11:03:17.635Z"
   },
   {
    "duration": 228,
    "start_time": "2022-01-26T11:04:43.476Z"
   },
   {
    "duration": 129,
    "start_time": "2022-01-26T11:05:57.086Z"
   },
   {
    "duration": 80,
    "start_time": "2022-01-26T11:06:20.906Z"
   },
   {
    "duration": 246,
    "start_time": "2022-01-26T11:07:16.958Z"
   },
   {
    "duration": 116,
    "start_time": "2022-01-26T11:11:02.978Z"
   },
   {
    "duration": 233,
    "start_time": "2022-01-26T11:11:30.321Z"
   },
   {
    "duration": 114,
    "start_time": "2022-01-26T11:11:53.284Z"
   },
   {
    "duration": 250,
    "start_time": "2022-01-26T11:13:33.535Z"
   },
   {
    "duration": 61,
    "start_time": "2022-01-26T11:13:55.154Z"
   },
   {
    "duration": 61,
    "start_time": "2022-01-26T11:14:30.153Z"
   },
   {
    "duration": 67,
    "start_time": "2022-01-26T11:15:18.115Z"
   },
   {
    "duration": 64,
    "start_time": "2022-01-26T11:16:26.450Z"
   },
   {
    "duration": 265,
    "start_time": "2022-01-26T11:19:56.330Z"
   },
   {
    "duration": 189,
    "start_time": "2022-01-26T11:25:16.211Z"
   },
   {
    "duration": 155,
    "start_time": "2022-01-26T11:31:43.202Z"
   },
   {
    "duration": 1395,
    "start_time": "2022-01-26T11:33:06.021Z"
   },
   {
    "duration": 954,
    "start_time": "2022-01-26T11:34:52.169Z"
   },
   {
    "duration": 242,
    "start_time": "2022-01-26T11:37:09.119Z"
   },
   {
    "duration": 491,
    "start_time": "2022-01-26T11:37:17.581Z"
   },
   {
    "duration": 274,
    "start_time": "2022-01-26T11:38:12.540Z"
   },
   {
    "duration": 257,
    "start_time": "2022-01-26T11:38:31.481Z"
   },
   {
    "duration": 236,
    "start_time": "2022-01-26T11:38:48.333Z"
   },
   {
    "duration": 249,
    "start_time": "2022-01-26T11:39:04.371Z"
   },
   {
    "duration": 377,
    "start_time": "2022-01-26T11:39:22.457Z"
   },
   {
    "duration": 1902,
    "start_time": "2022-01-26T11:39:41.392Z"
   },
   {
    "duration": 230,
    "start_time": "2022-01-26T11:39:51.707Z"
   },
   {
    "duration": 252,
    "start_time": "2022-01-26T11:40:02.421Z"
   },
   {
    "duration": 234,
    "start_time": "2022-01-26T11:40:28.552Z"
   },
   {
    "duration": 1292,
    "start_time": "2022-01-26T11:40:37.373Z"
   },
   {
    "duration": 578,
    "start_time": "2022-01-26T11:41:44.998Z"
   },
   {
    "duration": 595,
    "start_time": "2022-01-26T11:41:56.479Z"
   },
   {
    "duration": 287,
    "start_time": "2022-01-26T11:42:19.875Z"
   },
   {
    "duration": 487,
    "start_time": "2022-01-26T11:42:24.248Z"
   },
   {
    "duration": 357,
    "start_time": "2022-01-26T11:43:19.785Z"
   },
   {
    "duration": 500,
    "start_time": "2022-01-26T11:43:28.739Z"
   },
   {
    "duration": 432,
    "start_time": "2022-01-26T13:38:02.867Z"
   },
   {
    "duration": 1058,
    "start_time": "2022-01-26T13:38:12.966Z"
   },
   {
    "duration": 6,
    "start_time": "2022-01-26T13:38:14.027Z"
   },
   {
    "duration": 73,
    "start_time": "2022-01-26T13:38:14.038Z"
   },
   {
    "duration": 251,
    "start_time": "2022-01-26T13:38:14.114Z"
   },
   {
    "duration": 21,
    "start_time": "2022-01-26T13:38:14.368Z"
   },
   {
    "duration": 215,
    "start_time": "2022-01-26T13:38:14.392Z"
   },
   {
    "duration": 1197,
    "start_time": "2022-01-26T13:38:14.611Z"
   },
   {
    "duration": 329,
    "start_time": "2022-01-26T13:38:15.810Z"
   },
   {
    "duration": 1553,
    "start_time": "2022-01-26T13:38:16.143Z"
   },
   {
    "duration": 113,
    "start_time": "2022-01-26T13:38:17.699Z"
   },
   {
    "duration": 80,
    "start_time": "2022-01-26T13:38:17.815Z"
   },
   {
    "duration": 1659,
    "start_time": "2022-01-26T13:38:17.898Z"
   },
   {
    "duration": 1215,
    "start_time": "2022-01-26T13:38:19.560Z"
   },
   {
    "duration": 1419,
    "start_time": "2022-01-26T13:38:20.778Z"
   },
   {
    "duration": -77,
    "start_time": "2022-01-26T13:38:22.278Z"
   },
   {
    "duration": -86,
    "start_time": "2022-01-26T13:38:22.289Z"
   },
   {
    "duration": -87,
    "start_time": "2022-01-26T13:38:22.292Z"
   },
   {
    "duration": -89,
    "start_time": "2022-01-26T13:38:22.296Z"
   },
   {
    "duration": 90,
    "start_time": "2022-01-26T13:38:24.515Z"
   },
   {
    "duration": 152,
    "start_time": "2022-01-26T13:39:27.268Z"
   },
   {
    "duration": 390,
    "start_time": "2022-01-26T13:40:04.573Z"
   },
   {
    "duration": 150,
    "start_time": "2022-01-26T13:40:46.319Z"
   },
   {
    "duration": 497,
    "start_time": "2022-01-26T13:41:19.920Z"
   },
   {
    "duration": 167,
    "start_time": "2022-01-26T13:41:40.465Z"
   },
   {
    "duration": 645,
    "start_time": "2022-01-26T13:47:24.256Z"
   },
   {
    "duration": 382,
    "start_time": "2022-01-26T13:47:40.194Z"
   },
   {
    "duration": 163,
    "start_time": "2022-01-26T13:47:54.500Z"
   },
   {
    "duration": 133,
    "start_time": "2022-01-26T13:48:06.969Z"
   },
   {
    "duration": 475,
    "start_time": "2022-01-26T13:48:42.830Z"
   },
   {
    "duration": 122,
    "start_time": "2022-01-26T13:48:46.419Z"
   },
   {
    "duration": 570,
    "start_time": "2022-01-26T13:49:11.392Z"
   },
   {
    "duration": 349,
    "start_time": "2022-01-26T13:49:39.354Z"
   },
   {
    "duration": 134,
    "start_time": "2022-01-26T13:49:43.134Z"
   },
   {
    "duration": 932,
    "start_time": "2022-01-26T13:50:21.960Z"
   },
   {
    "duration": 240,
    "start_time": "2022-01-26T13:50:47.136Z"
   },
   {
    "duration": 198,
    "start_time": "2022-01-26T13:51:06.432Z"
   },
   {
    "duration": 354,
    "start_time": "2022-01-26T13:52:15.652Z"
   },
   {
    "duration": 463,
    "start_time": "2022-01-26T13:52:35.171Z"
   },
   {
    "duration": 340,
    "start_time": "2022-01-26T13:53:03.128Z"
   },
   {
    "duration": 549,
    "start_time": "2022-01-26T13:53:15.582Z"
   },
   {
    "duration": 430,
    "start_time": "2022-01-26T13:53:36.076Z"
   },
   {
    "duration": 332,
    "start_time": "2022-01-26T13:53:43.193Z"
   },
   {
    "duration": 189,
    "start_time": "2022-01-26T13:53:50.353Z"
   },
   {
    "duration": 396,
    "start_time": "2022-01-26T13:54:43.924Z"
   },
   {
    "duration": 452,
    "start_time": "2022-01-26T13:56:08.901Z"
   },
   {
    "duration": 265,
    "start_time": "2022-01-26T13:56:22.260Z"
   },
   {
    "duration": 336,
    "start_time": "2022-01-26T13:58:07.564Z"
   },
   {
    "duration": 400,
    "start_time": "2022-01-26T13:58:12.907Z"
   },
   {
    "duration": 252,
    "start_time": "2022-01-26T13:58:40.879Z"
   },
   {
    "duration": 289,
    "start_time": "2022-01-26T14:30:09.889Z"
   },
   {
    "duration": 303,
    "start_time": "2022-01-26T14:30:14.454Z"
   },
   {
    "duration": 710,
    "start_time": "2022-01-26T14:33:50.153Z"
   },
   {
    "duration": 632,
    "start_time": "2022-01-26T14:34:29.837Z"
   },
   {
    "duration": 360,
    "start_time": "2022-01-26T14:34:48.503Z"
   },
   {
    "duration": 718,
    "start_time": "2022-01-27T11:12:00.958Z"
   },
   {
    "duration": 3,
    "start_time": "2022-01-27T11:12:01.678Z"
   },
   {
    "duration": 38,
    "start_time": "2022-01-27T11:12:01.683Z"
   },
   {
    "duration": 46,
    "start_time": "2022-01-27T11:12:01.723Z"
   },
   {
    "duration": 17,
    "start_time": "2022-01-27T11:12:01.771Z"
   },
   {
    "duration": 178,
    "start_time": "2022-01-27T11:12:01.790Z"
   },
   {
    "duration": 293,
    "start_time": "2022-01-27T11:12:01.970Z"
   },
   {
    "duration": 129,
    "start_time": "2022-01-27T11:12:02.265Z"
   },
   {
    "duration": 1001,
    "start_time": "2022-01-27T11:12:02.397Z"
   },
   {
    "duration": 86,
    "start_time": "2022-01-27T11:12:03.400Z"
   },
   {
    "duration": 48,
    "start_time": "2022-01-27T11:12:03.488Z"
   },
   {
    "duration": 985,
    "start_time": "2022-01-27T11:12:03.538Z"
   },
   {
    "duration": 343,
    "start_time": "2022-01-27T11:12:04.525Z"
   },
   {
    "duration": -22,
    "start_time": "2022-01-27T11:12:04.892Z"
   },
   {
    "duration": -26,
    "start_time": "2022-01-27T11:12:04.897Z"
   },
   {
    "duration": -38,
    "start_time": "2022-01-27T11:12:04.910Z"
   },
   {
    "duration": -41,
    "start_time": "2022-01-27T11:12:04.914Z"
   },
   {
    "duration": -42,
    "start_time": "2022-01-27T11:12:04.917Z"
   },
   {
    "duration": 281,
    "start_time": "2022-01-27T11:14:45.719Z"
   },
   {
    "duration": 298,
    "start_time": "2022-01-27T11:15:08.840Z"
   },
   {
    "duration": 1197,
    "start_time": "2022-01-27T11:15:18.189Z"
   },
   {
    "duration": 422,
    "start_time": "2022-01-27T11:16:00.487Z"
   },
   {
    "duration": 374,
    "start_time": "2022-01-27T11:21:36.514Z"
   },
   {
    "duration": 152,
    "start_time": "2022-01-27T11:21:50.906Z"
   },
   {
    "duration": 315,
    "start_time": "2022-01-27T11:22:49.598Z"
   },
   {
    "duration": 255,
    "start_time": "2022-01-27T11:22:54.172Z"
   },
   {
    "duration": 314,
    "start_time": "2022-01-27T11:23:11.919Z"
   },
   {
    "duration": 154,
    "start_time": "2022-01-27T11:23:16.478Z"
   },
   {
    "duration": 310,
    "start_time": "2022-01-27T11:24:11.512Z"
   },
   {
    "duration": 170,
    "start_time": "2022-01-27T11:24:21.612Z"
   },
   {
    "duration": 1226,
    "start_time": "2022-01-27T11:25:28.131Z"
   },
   {
    "duration": 968,
    "start_time": "2022-01-28T09:22:18.396Z"
   },
   {
    "duration": 7,
    "start_time": "2022-01-28T09:22:19.366Z"
   },
   {
    "duration": 47,
    "start_time": "2022-01-28T09:22:19.376Z"
   },
   {
    "duration": 205,
    "start_time": "2022-01-28T09:22:19.426Z"
   },
   {
    "duration": 20,
    "start_time": "2022-01-28T09:22:19.633Z"
   },
   {
    "duration": 179,
    "start_time": "2022-01-28T09:22:19.655Z"
   },
   {
    "duration": 343,
    "start_time": "2022-01-28T09:22:19.836Z"
   },
   {
    "duration": 153,
    "start_time": "2022-01-28T09:22:20.185Z"
   },
   {
    "duration": 2190,
    "start_time": "2022-01-28T09:22:20.340Z"
   },
   {
    "duration": 123,
    "start_time": "2022-01-28T09:22:22.532Z"
   },
   {
    "duration": 82,
    "start_time": "2022-01-28T09:22:22.657Z"
   },
   {
    "duration": 1243,
    "start_time": "2022-01-28T09:22:22.741Z"
   },
   {
    "duration": 1269,
    "start_time": "2022-01-28T09:22:23.986Z"
   },
   {
    "duration": 1183,
    "start_time": "2022-01-28T09:22:25.258Z"
   },
   {
    "duration": 40,
    "start_time": "2022-01-28T09:22:26.404Z"
   },
   {
    "duration": 38,
    "start_time": "2022-01-28T09:22:26.408Z"
   },
   {
    "duration": 30,
    "start_time": "2022-01-28T09:22:26.418Z"
   },
   {
    "duration": 29,
    "start_time": "2022-01-28T09:22:26.421Z"
   },
   {
    "duration": 325,
    "start_time": "2022-01-28T09:23:33.833Z"
   },
   {
    "duration": 304,
    "start_time": "2022-01-28T09:23:50.828Z"
   },
   {
    "duration": 4925,
    "start_time": "2022-01-28T09:24:02.637Z"
   },
   {
    "duration": 1352,
    "start_time": "2022-01-28T09:24:13.969Z"
   },
   {
    "duration": 334,
    "start_time": "2022-01-28T09:25:05.468Z"
   },
   {
    "duration": 2320,
    "start_time": "2022-01-28T09:25:09.186Z"
   },
   {
    "duration": 319,
    "start_time": "2022-01-28T09:26:46.504Z"
   },
   {
    "duration": 303,
    "start_time": "2022-01-28T09:27:07.356Z"
   },
   {
    "duration": 2248,
    "start_time": "2022-01-28T09:28:08.956Z"
   },
   {
    "duration": 1382,
    "start_time": "2022-01-28T09:28:23.891Z"
   },
   {
    "duration": 327,
    "start_time": "2022-01-28T09:30:15.744Z"
   },
   {
    "duration": 348,
    "start_time": "2022-01-28T09:30:19.462Z"
   },
   {
    "duration": 2352,
    "start_time": "2022-01-28T09:30:26.023Z"
   },
   {
    "duration": 299,
    "start_time": "2022-01-28T09:30:46.765Z"
   },
   {
    "duration": 2265,
    "start_time": "2022-01-28T09:30:50.394Z"
   },
   {
    "duration": 3623,
    "start_time": "2022-01-28T09:31:11.217Z"
   },
   {
    "duration": 2632,
    "start_time": "2022-01-28T09:32:12.263Z"
   },
   {
    "duration": 301,
    "start_time": "2022-01-28T09:32:26.201Z"
   },
   {
    "duration": 343,
    "start_time": "2022-01-28T09:32:31.434Z"
   },
   {
    "duration": 353,
    "start_time": "2022-01-28T09:33:03.028Z"
   },
   {
    "duration": 374,
    "start_time": "2022-01-28T12:23:05.542Z"
   },
   {
    "duration": 548,
    "start_time": "2022-01-28T12:23:19.949Z"
   },
   {
    "duration": 605,
    "start_time": "2022-01-28T12:23:38.997Z"
   },
   {
    "duration": 354,
    "start_time": "2022-01-28T12:25:25.672Z"
   },
   {
    "duration": 419,
    "start_time": "2022-01-28T12:25:53.730Z"
   },
   {
    "duration": 382,
    "start_time": "2022-01-28T12:26:24.779Z"
   },
   {
    "duration": 366,
    "start_time": "2022-01-28T12:26:28.329Z"
   },
   {
    "duration": 382,
    "start_time": "2022-01-28T12:28:04.020Z"
   },
   {
    "duration": 292,
    "start_time": "2022-01-28T12:29:22.981Z"
   },
   {
    "duration": 318,
    "start_time": "2022-01-28T12:29:31.601Z"
   },
   {
    "duration": 512,
    "start_time": "2022-01-28T12:29:42.424Z"
   },
   {
    "duration": 968,
    "start_time": "2022-01-28T15:29:57.255Z"
   },
   {
    "duration": 5,
    "start_time": "2022-01-28T15:29:58.225Z"
   },
   {
    "duration": 46,
    "start_time": "2022-01-28T15:29:58.232Z"
   },
   {
    "duration": 198,
    "start_time": "2022-01-28T15:29:58.280Z"
   },
   {
    "duration": 21,
    "start_time": "2022-01-28T15:29:58.480Z"
   },
   {
    "duration": 201,
    "start_time": "2022-01-28T15:29:58.503Z"
   },
   {
    "duration": 901,
    "start_time": "2022-01-28T15:29:58.706Z"
   },
   {
    "duration": 148,
    "start_time": "2022-01-28T15:29:59.611Z"
   },
   {
    "duration": 1490,
    "start_time": "2022-01-28T15:29:59.763Z"
   },
   {
    "duration": 964,
    "start_time": "2022-01-28T15:30:01.255Z"
   },
   {
    "duration": 73,
    "start_time": "2022-01-28T15:30:02.221Z"
   },
   {
    "duration": 2006,
    "start_time": "2022-01-28T15:30:02.296Z"
   },
   {
    "duration": 2503,
    "start_time": "2022-01-28T15:30:04.305Z"
   },
   {
    "duration": 1012,
    "start_time": "2022-01-28T15:30:06.811Z"
   },
   {
    "duration": -474,
    "start_time": "2022-01-28T15:30:08.300Z"
   },
   {
    "duration": -475,
    "start_time": "2022-01-28T15:30:08.302Z"
   },
   {
    "duration": -475,
    "start_time": "2022-01-28T15:30:08.304Z"
   },
   {
    "duration": -478,
    "start_time": "2022-01-28T15:30:08.309Z"
   },
   {
    "duration": 5,
    "start_time": "2022-01-28T15:30:32.105Z"
   },
   {
    "duration": 5,
    "start_time": "2022-01-28T15:30:34.244Z"
   },
   {
    "duration": 4,
    "start_time": "2022-01-28T15:30:34.572Z"
   },
   {
    "duration": 180,
    "start_time": "2022-01-28T15:30:35.014Z"
   },
   {
    "duration": 15,
    "start_time": "2022-01-28T15:30:35.196Z"
   },
   {
    "duration": 168,
    "start_time": "2022-01-28T15:30:35.814Z"
   },
   {
    "duration": 288,
    "start_time": "2022-01-28T15:30:37.079Z"
   },
   {
    "duration": 214,
    "start_time": "2022-01-28T15:30:38.539Z"
   },
   {
    "duration": 1240,
    "start_time": "2022-01-28T15:30:40.117Z"
   },
   {
    "duration": 960,
    "start_time": "2022-01-28T15:30:41.359Z"
   },
   {
    "duration": 100,
    "start_time": "2022-01-28T15:30:42.705Z"
   },
   {
    "duration": 2006,
    "start_time": "2022-01-28T15:30:49.389Z"
   },
   {
    "duration": 542,
    "start_time": "2022-01-28T15:30:59.783Z"
   },
   {
    "duration": 275,
    "start_time": "2022-01-28T15:34:52.382Z"
   },
   {
    "duration": 267,
    "start_time": "2022-01-28T15:35:37.162Z"
   },
   {
    "duration": 298,
    "start_time": "2022-01-28T15:35:45.044Z"
   },
   {
    "duration": 267,
    "start_time": "2022-01-28T15:36:04.493Z"
   },
   {
    "duration": 353,
    "start_time": "2022-01-28T15:36:25.218Z"
   },
   {
    "duration": 52,
    "start_time": "2022-01-28T15:37:10.290Z"
   },
   {
    "duration": 1292,
    "start_time": "2022-01-28T15:37:49.239Z"
   },
   {
    "duration": 1534,
    "start_time": "2022-01-29T05:14:40.992Z"
   },
   {
    "duration": 4,
    "start_time": "2022-01-29T05:14:42.528Z"
   },
   {
    "duration": 45,
    "start_time": "2022-01-29T05:14:42.535Z"
   },
   {
    "duration": 238,
    "start_time": "2022-01-29T05:14:42.583Z"
   },
   {
    "duration": 12,
    "start_time": "2022-01-29T05:14:42.823Z"
   },
   {
    "duration": 180,
    "start_time": "2022-01-29T05:14:42.837Z"
   },
   {
    "duration": 309,
    "start_time": "2022-01-29T05:14:43.019Z"
   },
   {
    "duration": 159,
    "start_time": "2022-01-29T05:14:43.330Z"
   },
   {
    "duration": 951,
    "start_time": "2022-01-29T05:14:43.491Z"
   },
   {
    "duration": 120,
    "start_time": "2022-01-29T05:14:44.444Z"
   },
   {
    "duration": 78,
    "start_time": "2022-01-29T05:14:44.566Z"
   },
   {
    "duration": 955,
    "start_time": "2022-01-29T05:14:44.646Z"
   },
   {
    "duration": 553,
    "start_time": "2022-01-29T05:14:45.603Z"
   },
   {
    "duration": 709,
    "start_time": "2022-01-29T05:14:46.157Z"
   },
   {
    "duration": 86,
    "start_time": "2022-01-29T05:14:46.868Z"
   },
   {
    "duration": 1,
    "start_time": "2022-01-29T05:14:46.955Z"
   },
   {
    "duration": -4,
    "start_time": "2022-01-29T05:14:46.961Z"
   },
   {
    "duration": -7,
    "start_time": "2022-01-29T05:14:46.966Z"
   },
   {
    "duration": 160,
    "start_time": "2022-01-29T05:30:00.480Z"
   },
   {
    "duration": 62,
    "start_time": "2022-01-29T05:30:02.833Z"
   },
   {
    "duration": 167,
    "start_time": "2022-01-29T05:30:07.110Z"
   },
   {
    "duration": 1607,
    "start_time": "2022-01-31T11:47:28.163Z"
   },
   {
    "duration": 5,
    "start_time": "2022-01-31T11:47:29.774Z"
   },
   {
    "duration": 224,
    "start_time": "2022-01-31T11:47:29.782Z"
   },
   {
    "duration": 243,
    "start_time": "2022-01-31T11:47:30.009Z"
   },
   {
    "duration": 21,
    "start_time": "2022-01-31T11:47:30.255Z"
   },
   {
    "duration": 173,
    "start_time": "2022-01-31T11:47:30.278Z"
   },
   {
    "duration": 357,
    "start_time": "2022-01-31T11:47:30.453Z"
   },
   {
    "duration": 155,
    "start_time": "2022-01-31T11:47:30.813Z"
   },
   {
    "duration": 1274,
    "start_time": "2022-01-31T11:47:30.971Z"
   },
   {
    "duration": 988,
    "start_time": "2022-01-31T11:47:32.248Z"
   },
   {
    "duration": 75,
    "start_time": "2022-01-31T11:47:33.239Z"
   },
   {
    "duration": 2025,
    "start_time": "2022-01-31T11:47:33.316Z"
   },
   {
    "duration": 559,
    "start_time": "2022-01-31T11:47:35.344Z"
   },
   {
    "duration": 1278,
    "start_time": "2022-01-31T11:47:35.906Z"
   },
   {
    "duration": 156,
    "start_time": "2022-01-31T11:47:37.187Z"
   },
   {
    "duration": 104,
    "start_time": "2022-01-31T11:47:37.345Z"
   },
   {
    "duration": 166,
    "start_time": "2022-01-31T11:47:37.451Z"
   },
   {
    "duration": 2823,
    "start_time": "2022-01-31T11:50:08.747Z"
   },
   {
    "duration": 2359,
    "start_time": "2022-01-31T11:51:15.312Z"
   },
   {
    "duration": 493,
    "start_time": "2022-01-31T11:52:16.231Z"
   },
   {
    "duration": 1067,
    "start_time": "2022-01-31T11:52:20.801Z"
   },
   {
    "duration": 221,
    "start_time": "2022-01-31T11:53:23.723Z"
   },
   {
    "duration": 319,
    "start_time": "2022-01-31T11:55:50.518Z"
   },
   {
    "duration": 92,
    "start_time": "2022-01-31T11:56:06.632Z"
   },
   {
    "duration": 126,
    "start_time": "2022-01-31T11:57:48.945Z"
   },
   {
    "duration": 317,
    "start_time": "2022-01-31T11:59:58.999Z"
   },
   {
    "duration": 116,
    "start_time": "2022-01-31T12:00:05.486Z"
   },
   {
    "duration": 321,
    "start_time": "2022-01-31T12:01:26.227Z"
   },
   {
    "duration": 406,
    "start_time": "2022-01-31T12:01:44.854Z"
   },
   {
    "duration": 237,
    "start_time": "2022-01-31T12:02:13.328Z"
   },
   {
    "duration": 182,
    "start_time": "2022-01-31T12:02:29.607Z"
   },
   {
    "duration": 82,
    "start_time": "2022-01-31T12:03:29.163Z"
   },
   {
    "duration": 1558,
    "start_time": "2022-02-01T05:16:18.557Z"
   },
   {
    "duration": 6,
    "start_time": "2022-02-01T05:16:20.118Z"
   },
   {
    "duration": 52,
    "start_time": "2022-02-01T05:16:20.127Z"
   },
   {
    "duration": 47,
    "start_time": "2022-02-01T05:16:20.182Z"
   },
   {
    "duration": 20,
    "start_time": "2022-02-01T05:16:20.231Z"
   },
   {
    "duration": 181,
    "start_time": "2022-02-01T05:16:20.253Z"
   },
   {
    "duration": 287,
    "start_time": "2022-02-01T05:16:20.436Z"
   },
   {
    "duration": 127,
    "start_time": "2022-02-01T05:16:20.725Z"
   },
   {
    "duration": 1223,
    "start_time": "2022-02-01T05:16:20.856Z"
   },
   {
    "duration": 82,
    "start_time": "2022-02-01T05:16:22.082Z"
   },
   {
    "duration": 50,
    "start_time": "2022-02-01T05:16:22.166Z"
   },
   {
    "duration": 1241,
    "start_time": "2022-02-01T05:16:22.219Z"
   },
   {
    "duration": 508,
    "start_time": "2022-02-01T05:16:23.463Z"
   },
   {
    "duration": 1001,
    "start_time": "2022-02-01T05:16:23.973Z"
   },
   {
    "duration": 127,
    "start_time": "2022-02-01T05:16:24.977Z"
   },
   {
    "duration": 100,
    "start_time": "2022-02-01T05:16:25.106Z"
   },
   {
    "duration": 144,
    "start_time": "2022-02-01T05:16:25.209Z"
   }
  ],
  "colab": {
   "name": "AdvansedSQLProjectTemplate.ipynb",
   "provenance": []
  },
  "kernelspec": {
   "display_name": "Python 3 (ipykernel)",
   "language": "python",
   "name": "python3"
  },
  "language_info": {
   "codemirror_mode": {
    "name": "ipython",
    "version": 3
   },
   "file_extension": ".py",
   "mimetype": "text/x-python",
   "name": "python",
   "nbconvert_exporter": "python",
   "pygments_lexer": "ipython3",
   "version": "3.9.5"
  },
  "toc": {
   "base_numbering": 1,
   "nav_menu": {},
   "number_sections": true,
   "sideBar": true,
   "skip_h1_title": true,
   "title_cell": "Table of Contents",
   "title_sidebar": "Contents",
   "toc_cell": false,
   "toc_position": {},
   "toc_section_display": true,
   "toc_window_display": false
  }
 },
 "nbformat": 4,
 "nbformat_minor": 1
}
