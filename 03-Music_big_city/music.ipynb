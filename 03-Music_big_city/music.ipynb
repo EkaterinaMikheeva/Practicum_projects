{
 "cells": [
  {
   "cell_type": "markdown",
   "metadata": {
    "id": "E0vqbgi9ay0H"
   },
   "source": [
    "# Яндекс.Музыка"
   ]
  },
  {
   "cell_type": "markdown",
   "metadata": {
    "id": "VUC88oWjTJw2"
   },
   "source": [
    "Сравнение Москвы и Петербурга окружено мифами. Например:\n",
    " * Москва — мегаполис, подчинённый жёсткому ритму рабочей недели;\n",
    " * Петербург — культурная столица, со своими вкусами.\n",
    "\n",
    "На данных Яндекс.Музыки вы сравните поведение пользователей двух столиц.\n",
    "\n",
    "**Цель исследования** — проверьте три гипотезы:\n",
    "1. Активность пользователей зависит от дня недели. Причём в Москве и Петербурге это проявляется по-разному.\n",
    "2. В понедельник утром в Москве преобладают одни жанры, а в Петербурге — другие. Так же и вечером пятницы преобладают разные жанры — в зависимости от города. \n",
    "3. Москва и Петербург предпочитают разные жанры музыки. В Москве чаще слушают поп-музыку, в Петербурге — русский рэп.\n",
    "\n",
    "**Ход исследования**\n",
    "\n",
    "Данные о поведении пользователей вы получите из файла `yandex_music_project.csv`. О качестве данных ничего не известно. Поэтому перед проверкой гипотез понадобится обзор данных. \n",
    "\n",
    "Вы проверите данные на ошибки и оцените их влияние на исследование. Затем, на этапе предобработки вы поищете возможность исправить самые критичные ошибки данных.\n",
    " \n",
    "Таким образом, исследование пройдёт в три этапа:\n",
    " 1. Обзор данных.\n",
    " 2. Предобработка данных.\n",
    " 3. Проверка гипотез.\n",
    "\n"
   ]
  },
  {
   "cell_type": "markdown",
   "metadata": {
    "id": "Ml1hmfXC_Zcs"
   },
   "source": [
    "## Обзор данных\n",
    "\n",
    "Составьте первое представление о данных Яндекс.Музыки.\n",
    "\n",
    "\n"
   ]
  },
  {
   "cell_type": "markdown",
   "metadata": {
    "id": "57eAOGIz_Zcs"
   },
   "source": [
    "Основной инструмент аналитика — `pandas`. Импортируйте эту библиотеку."
   ]
  },
  {
   "cell_type": "code",
   "execution_count": 1,
   "metadata": {
    "id": "AXN7PHPN_Zcs"
   },
   "outputs": [],
   "source": [
    "# импорт библиотеки pandas\n",
    "import pandas as pd"
   ]
  },
  {
   "cell_type": "markdown",
   "metadata": {
    "id": "SG23P8tt_Zcs"
   },
   "source": [
    "Прочитайте файл `yandex_music_project.csv` из папки `/datasets` и сохраните его в переменной `df`:"
   ]
  },
  {
   "cell_type": "code",
   "execution_count": 2,
   "metadata": {
    "id": "fFVu7vqh_Zct"
   },
   "outputs": [],
   "source": [
    "# чтение файла с данными и сохранение в df\n",
    "df = pd.read_csv('/datasets/yandex_music_project.csv')"
   ]
  },
  {
   "cell_type": "markdown",
   "metadata": {
    "id": "rDoOMd3uTqnZ"
   },
   "source": [
    "Выведите на экран первые десять строк таблицы:"
   ]
  },
  {
   "cell_type": "code",
   "execution_count": 3,
   "metadata": {
    "id": "oWTVX3gW_Zct"
   },
   "outputs": [
    {
     "data": {
      "text/html": [
       "<div>\n",
       "<style scoped>\n",
       "    .dataframe tbody tr th:only-of-type {\n",
       "        vertical-align: middle;\n",
       "    }\n",
       "\n",
       "    .dataframe tbody tr th {\n",
       "        vertical-align: top;\n",
       "    }\n",
       "\n",
       "    .dataframe thead th {\n",
       "        text-align: right;\n",
       "    }\n",
       "</style>\n",
       "<table border=\"1\" class=\"dataframe\">\n",
       "  <thead>\n",
       "    <tr style=\"text-align: right;\">\n",
       "      <th></th>\n",
       "      <th>userID</th>\n",
       "      <th>Track</th>\n",
       "      <th>artist</th>\n",
       "      <th>genre</th>\n",
       "      <th>City</th>\n",
       "      <th>time</th>\n",
       "      <th>Day</th>\n",
       "    </tr>\n",
       "  </thead>\n",
       "  <tbody>\n",
       "    <tr>\n",
       "      <th>0</th>\n",
       "      <td>FFB692EC</td>\n",
       "      <td>Kamigata To Boots</td>\n",
       "      <td>The Mass Missile</td>\n",
       "      <td>rock</td>\n",
       "      <td>Saint-Petersburg</td>\n",
       "      <td>20:28:33</td>\n",
       "      <td>Wednesday</td>\n",
       "    </tr>\n",
       "    <tr>\n",
       "      <th>1</th>\n",
       "      <td>55204538</td>\n",
       "      <td>Delayed Because of Accident</td>\n",
       "      <td>Andreas Rönnberg</td>\n",
       "      <td>rock</td>\n",
       "      <td>Moscow</td>\n",
       "      <td>14:07:09</td>\n",
       "      <td>Friday</td>\n",
       "    </tr>\n",
       "    <tr>\n",
       "      <th>2</th>\n",
       "      <td>20EC38</td>\n",
       "      <td>Funiculì funiculà</td>\n",
       "      <td>Mario Lanza</td>\n",
       "      <td>pop</td>\n",
       "      <td>Saint-Petersburg</td>\n",
       "      <td>20:58:07</td>\n",
       "      <td>Wednesday</td>\n",
       "    </tr>\n",
       "    <tr>\n",
       "      <th>3</th>\n",
       "      <td>A3DD03C9</td>\n",
       "      <td>Dragons in the Sunset</td>\n",
       "      <td>Fire + Ice</td>\n",
       "      <td>folk</td>\n",
       "      <td>Saint-Petersburg</td>\n",
       "      <td>08:37:09</td>\n",
       "      <td>Monday</td>\n",
       "    </tr>\n",
       "    <tr>\n",
       "      <th>4</th>\n",
       "      <td>E2DC1FAE</td>\n",
       "      <td>Soul People</td>\n",
       "      <td>Space Echo</td>\n",
       "      <td>dance</td>\n",
       "      <td>Moscow</td>\n",
       "      <td>08:34:34</td>\n",
       "      <td>Monday</td>\n",
       "    </tr>\n",
       "  </tbody>\n",
       "</table>\n",
       "</div>"
      ],
      "text/plain": [
       "     userID                        Track            artist  genre  \\\n",
       "0  FFB692EC            Kamigata To Boots  The Mass Missile   rock   \n",
       "1  55204538  Delayed Because of Accident  Andreas Rönnberg   rock   \n",
       "2    20EC38            Funiculì funiculà       Mario Lanza    pop   \n",
       "3  A3DD03C9        Dragons in the Sunset        Fire + Ice   folk   \n",
       "4  E2DC1FAE                  Soul People        Space Echo  dance   \n",
       "\n",
       "             City        time        Day  \n",
       "0  Saint-Petersburg  20:28:33  Wednesday  \n",
       "1            Moscow  14:07:09     Friday  \n",
       "2  Saint-Petersburg  20:58:07  Wednesday  \n",
       "3  Saint-Petersburg  08:37:09     Monday  \n",
       "4            Moscow  08:34:34     Monday  "
      ]
     },
     "execution_count": 3,
     "metadata": {},
     "output_type": "execute_result"
    }
   ],
   "source": [
    "# получение первых 10 строк таблицы df\n",
    "df.head()"
   ]
  },
  {
   "cell_type": "markdown",
   "metadata": {
    "id": "EO73Kwic_Zct"
   },
   "source": [
    "Одной командой получить общую информацию о таблице:"
   ]
  },
  {
   "cell_type": "code",
   "execution_count": 4,
   "metadata": {
    "id": "DSf2kIb-_Zct"
   },
   "outputs": [
    {
     "name": "stdout",
     "output_type": "stream",
     "text": [
      "<class 'pandas.core.frame.DataFrame'>\n",
      "RangeIndex: 65079 entries, 0 to 65078\n",
      "Data columns (total 7 columns):\n",
      " #   Column    Non-Null Count  Dtype \n",
      "---  ------    --------------  ----- \n",
      " 0     userID  65079 non-null  object\n",
      " 1   Track     63848 non-null  object\n",
      " 2   artist    57876 non-null  object\n",
      " 3   genre     63881 non-null  object\n",
      " 4     City    65079 non-null  object\n",
      " 5   time      65079 non-null  object\n",
      " 6   Day       65079 non-null  object\n",
      "dtypes: object(7)\n",
      "memory usage: 3.5+ MB\n"
     ]
    }
   ],
   "source": [
    "# получение общей информации о данных в таблице df\n",
    "df.info()"
   ]
  },
  {
   "cell_type": "markdown",
   "metadata": {
    "id": "TaQ2Iwbr_Zct"
   },
   "source": [
    "Итак, в таблице семь столбцов. Тип данных во всех столбцах — `object`.\n",
    "\n",
    "Согласно документации к данным:\n",
    "* `userID` — идентификатор пользователя;\n",
    "* `Track` — название трека;  \n",
    "* `artist` — имя исполнителя;\n",
    "* `genre` — название жанра;\n",
    "* `City` — город пользователя;\n",
    "* `time` — время начала прослушивания;\n",
    "* `Day` — день недели.\n",
    "\n",
    "В названиях колонок видны три нарушения стиля:\n",
    "1. Строчные буквы сочетаются с прописными.\n",
    "2. Встречаются пробелы.\n",
    "3. Найдите ещё одну проблему в названии колонок и опишите её в этом пункте.\n",
    "пропущен пробел (userID - user_ID)\n",
    "\n",
    "\n",
    "\n",
    "Количество значений в столбцах различается. Значит, в данных есть пропущенные значения.\n"
   ]
  },
  {
   "cell_type": "markdown",
   "metadata": {
    "id": "MCB6-dXG_Zct"
   },
   "source": [
    "**Выводы**\n",
    "\n",
    "В каждой строке таблицы — данные о прослушанном треке. Часть колонок описывает саму композицию: название, исполнителя и жанр. Остальные данные рассказывают о пользователе: из какого он города, когда он слушал музыку. \n",
    "\n",
    "Предварительно можно утверждать, что, данных достаточно для проверки гипотез. Но встречаются пропуски в данных, а в названиях колонок — расхождения с хорошим стилем.\n",
    "\n",
    "Чтобы двигаться дальше, нужно устранить проблемы в данных."
   ]
  },
  {
   "cell_type": "markdown",
   "metadata": {
    "id": "SjYF6Ub9_Zct"
   },
   "source": [
    "## Предобработка данных\n",
    "Исправьте стиль в заголовках столбцов, исключите пропуски. Затем проверьте данные на дубликаты."
   ]
  },
  {
   "cell_type": "markdown",
   "metadata": {
    "id": "dIaKXr29_Zct"
   },
   "source": [
    "### Стиль заголовков\n",
    "Выведите на экран названия столбцов:"
   ]
  },
  {
   "cell_type": "code",
   "execution_count": 5,
   "metadata": {
    "id": "oKOTdF_Q_Zct"
   },
   "outputs": [
    {
     "data": {
      "text/plain": [
       "Index(['  userID', 'Track', 'artist', 'genre', '  City  ', 'time', 'Day'], dtype='object')"
      ]
     },
     "execution_count": 5,
     "metadata": {},
     "output_type": "execute_result"
    }
   ],
   "source": [
    "# перечень названий столбцов таблицы df\n",
    "df.columns\n"
   ]
  },
  {
   "cell_type": "markdown",
   "metadata": {
    "id": "zj5534cv_Zct"
   },
   "source": [
    "Приведите названия в соответствие с хорошим стилем:\n",
    "* несколько слов в названии запишите в «змеином_регистре»,\n",
    "* все символы сделайте строчными,\n",
    "* устраните пробелы.\n",
    "\n",
    "Для этого переименуйте колонки так:\n",
    "* `'  userID'` → `'user_id'`;\n",
    "* `'Track'` → `'track'`;\n",
    "* `'  City  '` → `'city'`;\n",
    "* `'Day'` → `'day'`."
   ]
  },
  {
   "cell_type": "code",
   "execution_count": 6,
   "metadata": {
    "id": "ISlFqs5y_Zct"
   },
   "outputs": [],
   "source": [
    "# переименование столбцов\n",
    "df = df.rename(columns={'  userID':'user_id', 'Track':'track', '  City  ':'city', 'Day': 'day'})"
   ]
  },
  {
   "cell_type": "markdown",
   "metadata": {
    "id": "1dqbh00J_Zct"
   },
   "source": [
    "Проверьте результат. Для этого ещё раз выведите на экран названия столбцов:"
   ]
  },
  {
   "cell_type": "code",
   "execution_count": 7,
   "metadata": {
    "id": "d4NOAmTW_Zct"
   },
   "outputs": [
    {
     "data": {
      "text/plain": [
       "Index(['user_id', 'track', 'artist', 'genre', 'city', 'time', 'day'], dtype='object')"
      ]
     },
     "execution_count": 7,
     "metadata": {},
     "output_type": "execute_result"
    }
   ],
   "source": [
    "# проверка результатов - перечень названий столбцов\n",
    "df.columns"
   ]
  },
  {
   "cell_type": "markdown",
   "metadata": {
    "id": "5ISfbcfY_Zct"
   },
   "source": [
    "### Пропуски значений\n",
    "Сначала посчитайте, сколько в таблице пропущенных значений. Для этого достаточно двух методов `pandas`:"
   ]
  },
  {
   "cell_type": "code",
   "execution_count": 8,
   "metadata": {
    "id": "RskX29qr_Zct"
   },
   "outputs": [
    {
     "data": {
      "text/plain": [
       "user_id       0\n",
       "track      1231\n",
       "artist     7203\n",
       "genre      1198\n",
       "city          0\n",
       "time          0\n",
       "day           0\n",
       "dtype: int64"
      ]
     },
     "execution_count": 8,
     "metadata": {},
     "output_type": "execute_result"
    }
   ],
   "source": [
    "# подсчёт пропусков\n",
    "df.isna().sum()"
   ]
  },
  {
   "cell_type": "markdown",
   "metadata": {
    "id": "qubhgnlO_Zct"
   },
   "source": [
    "Не все пропущенные значения влияют на исследование. Так в `track` и `artist` пропуски не важны для вашей работы. Достаточно заменить их явными обозначениями.\n",
    "\n",
    "Но пропуски в `genre` могут помешать сравнению музыкальных вкусов в Москве и Санкт-Петербурге. На практике было бы правильно установить причину пропусков и восстановить данные. Такой возможности нет в учебном проекте. Придётся:\n",
    "* заполнить и эти пропуски явными обозначениями,\n",
    "* оценить, насколько они повредят расчётам. "
   ]
  },
  {
   "cell_type": "markdown",
   "metadata": {
    "id": "fSv2laPA_Zct"
   },
   "source": [
    "Замените пропущенные значения в столбцах `track`, `artist` и `genre` на строку `'unknown'`. Для этого создайте список `columns_to_replace`, переберите его элементы циклом `for` и для каждого столбца выполните замену пропущенных значений:"
   ]
  },
  {
   "cell_type": "code",
   "execution_count": 9,
   "metadata": {
    "id": "KplB5qWs_Zct"
   },
   "outputs": [],
   "source": [
    "# перебор названий столбцов в цикле и замена пропущенных значений на 'unknown'\n",
    "#затупила с циклом( не смогла без ошибок его составить)\n",
    "columns_to_replace=['track','artist']\n",
    "for column in columns_to_replace:\n",
    "    df[column]=df[column].fillna('unknown')\n",
    "\n",
    "\n"
   ]
  },
  {
   "cell_type": "markdown",
   "metadata": {
    "id": "Ilsm-MZo_Zct"
   },
   "source": [
    "Убедитесь, что в таблице не осталось пропусков. Для этого ещё раз посчитайте пропущенные значения."
   ]
  },
  {
   "cell_type": "code",
   "execution_count": 10,
   "metadata": {
    "id": "Tq4nYRX4_Zct"
   },
   "outputs": [
    {
     "data": {
      "text/plain": [
       "user_id       0\n",
       "track         0\n",
       "artist        0\n",
       "genre      1198\n",
       "city          0\n",
       "time          0\n",
       "day           0\n",
       "dtype: int64"
      ]
     },
     "execution_count": 10,
     "metadata": {},
     "output_type": "execute_result"
    }
   ],
   "source": [
    "# подсчёт пропусков\n",
    "df.isna().sum()"
   ]
  },
  {
   "cell_type": "markdown",
   "metadata": {
    "id": "BWKRtBJ3_Zct"
   },
   "source": [
    "### Дубликаты\n",
    "Посчитайте явные дубликаты в таблице одной командой:"
   ]
  },
  {
   "cell_type": "code",
   "execution_count": 11,
   "metadata": {
    "id": "36eES_S0_Zct"
   },
   "outputs": [
    {
     "data": {
      "text/plain": [
       "3826"
      ]
     },
     "execution_count": 11,
     "metadata": {},
     "output_type": "execute_result"
    }
   ],
   "source": [
    "# подсчёт явных дубликатов\n",
    "df.duplicated().sum()"
   ]
  },
  {
   "cell_type": "markdown",
   "metadata": {
    "id": "Ot25h6XR_Zct"
   },
   "source": [
    "Вызовите специальный метод `pandas`, чтобы удалить явные дубликаты:"
   ]
  },
  {
   "cell_type": "code",
   "execution_count": 12,
   "metadata": {
    "id": "exFHq6tt_Zct"
   },
   "outputs": [],
   "source": [
    "# удаление явных дубликатов (с удалением старых индексов и формированием новых)\n",
    "df=df.drop_duplicates().reset_index() "
   ]
  },
  {
   "cell_type": "markdown",
   "metadata": {
    "id": "Im2YwBEG_Zct"
   },
   "source": [
    "Ещё раз посчитайте явные дубликаты в таблице — убедитесь, что полностью от них избавились:"
   ]
  },
  {
   "cell_type": "code",
   "execution_count": 13,
   "metadata": {
    "id": "-8PuNWQ0_Zct"
   },
   "outputs": [
    {
     "data": {
      "text/plain": [
       "0"
      ]
     },
     "execution_count": 13,
     "metadata": {},
     "output_type": "execute_result"
    }
   ],
   "source": [
    "# проверка на отсутствие дубликатов\n",
    "df.duplicated().sum()"
   ]
  },
  {
   "cell_type": "markdown",
   "metadata": {
    "id": "QlFBsxAr_Zct"
   },
   "source": [
    "Теперь избавьтесь от неявных дубликатов в колонке `genre`. Например, название одного и того же жанра может быть записано немного по-разному. Такие ошибки тоже повлияют на результат исследования."
   ]
  },
  {
   "cell_type": "markdown",
   "metadata": {
    "id": "eSjWwsOh_Zct"
   },
   "source": [
    "Выведите на экран список уникальных названий жанров, отсортированный в алфавитном порядке. Для этого:\n",
    "* извлеките нужный столбец датафрейма, \n",
    "* примените к нему метод сортировки,\n",
    "* для отсортированного столбца вызовите метод, который вернёт уникальные значения из столбца."
   ]
  },
  {
   "cell_type": "code",
   "execution_count": 14,
   "metadata": {
    "id": "JIUcqzZN_Zct"
   },
   "outputs": [
    {
     "data": {
      "text/plain": [
       "array(['acid', 'acoustic', 'action', 'adult', 'africa', 'afrikaans',\n",
       "       'alternative', 'alternativepunk', 'ambient', 'americana',\n",
       "       'animated', 'anime', 'arabesk', 'arabic', 'arena',\n",
       "       'argentinetango', 'art', 'audiobook', 'author', 'avantgarde',\n",
       "       'axé', 'baile', 'balkan', 'beats', 'bigroom', 'black', 'bluegrass',\n",
       "       'blues', 'bollywood', 'bossa', 'brazilian', 'breakbeat', 'breaks',\n",
       "       'broadway', 'cantautori', 'cantopop', 'canzone', 'caribbean',\n",
       "       'caucasian', 'celtic', 'chamber', 'chanson', 'children', 'chill',\n",
       "       'chinese', 'choral', 'christian', 'christmas', 'classical',\n",
       "       'classicmetal', 'club', 'colombian', 'comedy', 'conjazz',\n",
       "       'contemporary', 'country', 'cuban', 'dance', 'dancehall',\n",
       "       'dancepop', 'dark', 'death', 'deep', 'deutschrock', 'deutschspr',\n",
       "       'dirty', 'disco', 'dnb', 'documentary', 'downbeat', 'downtempo',\n",
       "       'drum', 'dub', 'dubstep', 'eastern', 'easy', 'electronic',\n",
       "       'electropop', 'emo', 'entehno', 'epicmetal', 'estrada', 'ethnic',\n",
       "       'eurofolk', 'european', 'experimental', 'extrememetal', 'fado',\n",
       "       'fairytail', 'film', 'fitness', 'flamenco', 'folk', 'folklore',\n",
       "       'folkmetal', 'folkrock', 'folktronica', 'forró', 'frankreich',\n",
       "       'französisch', 'french', 'funk', 'future', 'gangsta', 'garage',\n",
       "       'german', 'ghazal', 'gitarre', 'glitch', 'gospel', 'gothic',\n",
       "       'grime', 'grunge', 'gypsy', 'handsup', \"hard'n'heavy\", 'hardcore',\n",
       "       'hardstyle', 'hardtechno', 'hip', 'hip-hop', 'hiphop',\n",
       "       'historisch', 'holiday', 'hop', 'horror', 'house', 'hymn', 'idm',\n",
       "       'independent', 'indian', 'indie', 'indipop', 'industrial',\n",
       "       'inspirational', 'instrumental', 'international', 'irish', 'jam',\n",
       "       'japanese', 'jazz', 'jewish', 'jpop', 'jungle', 'k-pop',\n",
       "       'karadeniz', 'karaoke', 'kayokyoku', 'korean', 'laiko', 'latin',\n",
       "       'latino', 'leftfield', 'local', 'lounge', 'loungeelectronic',\n",
       "       'lovers', 'malaysian', 'mandopop', 'marschmusik', 'meditative',\n",
       "       'mediterranean', 'melodic', 'metal', 'metalcore', 'mexican',\n",
       "       'middle', 'minimal', 'miscellaneous', 'modern', 'mood', 'mpb',\n",
       "       'muslim', 'native', 'neoklassik', 'neue', 'new', 'newage',\n",
       "       'newwave', 'nu', 'nujazz', 'numetal', 'oceania', 'old', 'opera',\n",
       "       'orchestral', 'other', 'piano', 'podcasts', 'pop', 'popdance',\n",
       "       'popelectronic', 'popeurodance', 'poprussian', 'post',\n",
       "       'posthardcore', 'postrock', 'power', 'progmetal', 'progressive',\n",
       "       'psychedelic', 'punjabi', 'punk', 'quebecois', 'ragga', 'ram',\n",
       "       'rancheras', 'rap', 'rave', 'reggae', 'reggaeton', 'regional',\n",
       "       'relax', 'religious', 'retro', 'rhythm', 'rnb', 'rnr', 'rock',\n",
       "       'rockabilly', 'rockalternative', 'rockindie', 'rockother',\n",
       "       'romance', 'roots', 'ruspop', 'rusrap', 'rusrock', 'russian',\n",
       "       'salsa', 'samba', 'scenic', 'schlager', 'self', 'sertanejo',\n",
       "       'shanson', 'shoegazing', 'showtunes', 'singer', 'ska', 'skarock',\n",
       "       'slow', 'smooth', 'soft', 'soul', 'soulful', 'sound', 'soundtrack',\n",
       "       'southern', 'specialty', 'speech', 'spiritual', 'sport',\n",
       "       'stonerrock', 'surf', 'swing', 'synthpop', 'synthrock',\n",
       "       'sängerportrait', 'tango', 'tanzorchester', 'taraftar', 'tatar',\n",
       "       'tech', 'techno', 'teen', 'thrash', 'top', 'traditional',\n",
       "       'tradjazz', 'trance', 'tribal', 'trip', 'triphop', 'tropical',\n",
       "       'türk', 'türkçe', 'ukrrock', 'urban', 'uzbek', 'variété', 'vi',\n",
       "       'videogame', 'vocal', 'western', 'world', 'worldbeat', 'ïîï',\n",
       "       'электроника', nan], dtype=object)"
      ]
     },
     "execution_count": 14,
     "metadata": {},
     "output_type": "execute_result"
    }
   ],
   "source": [
    "# Просмотр уникальных названий жанров\n",
    "df['genre'].sort_values().unique()"
   ]
  },
  {
   "cell_type": "markdown",
   "metadata": {
    "id": "qej-Qmuo_Zct"
   },
   "source": [
    "Просмотрите список и найдите неявные дубликаты названия `hiphop`. Это могут быть названия с ошибками или альтернативные названия того же жанра.\n",
    "\n",
    "Вы увидите следующие неявные дубликаты:\n",
    "* *hip*,\n",
    "* *hop*,\n",
    "* *hip-hop*.\n",
    "\n",
    "Чтобы очистить от них таблицу, напишите функцию `replace_wrong_genres()` с двумя параметрами: \n",
    "* `wrong_genres` — список дубликатов,\n",
    "* `correct_genre` — строка с правильным значением.\n",
    "\n",
    "Функция должна исправить колонку `genre` в таблице `df`: заменить каждое значение из списка `wrong_genres` на значение из `correct_genre`."
   ]
  },
  {
   "cell_type": "code",
   "execution_count": 15,
   "metadata": {
    "id": "ErNDkmns_Zct"
   },
   "outputs": [],
   "source": [
    "# Функция для замены неявных дубликатов\n",
    "def replace_wrong_genres(df,wrong_genres,correct_genre):\n",
    "    for wrong_genre in wrong_genres:\n",
    "        df['genre']=df['genre'].replace(wrong_genre,correct_genre)"
   ]
  },
  {
   "cell_type": "markdown",
   "metadata": {
    "id": "aDoBJxbA_Zct"
   },
   "source": [
    "Вызовите `replace_wrong_genres()` и передайте ей такие аргументы, чтобы она устранила неявные дубликаты: вместо `hip`, `hop` и `hip-hop` в таблице должно быть значение `hiphop`:"
   ]
  },
  {
   "cell_type": "code",
   "execution_count": 16,
   "metadata": {
    "id": "YN5i2hpmSo09",
    "scrolled": true
   },
   "outputs": [],
   "source": [
    "# Устранение неявных дубликатов\n",
    "duplicates=['hip','hop','hip-hop']\n",
    "genre='hiphop'\n",
    "\n",
    "replace_wrong_genres(df,duplicates,genre)"
   ]
  },
  {
   "cell_type": "markdown",
   "metadata": {
    "id": "zQKF16_RG15m"
   },
   "source": [
    "Проверьте, что заменили неправильные названия:\n",
    "\n",
    "*   hip\n",
    "*   hop\n",
    "*   hip-hop\n",
    "\n",
    "Выведите отсортированный список уникальных значений столбца `genre`:"
   ]
  },
  {
   "cell_type": "code",
   "execution_count": 17,
   "metadata": {
    "id": "wvixALnFG15m"
   },
   "outputs": [
    {
     "data": {
      "text/plain": [
       "array(['acid', 'acoustic', 'action', 'adult', 'africa', 'afrikaans',\n",
       "       'alternative', 'alternativepunk', 'ambient', 'americana',\n",
       "       'animated', 'anime', 'arabesk', 'arabic', 'arena',\n",
       "       'argentinetango', 'art', 'audiobook', 'author', 'avantgarde',\n",
       "       'axé', 'baile', 'balkan', 'beats', 'bigroom', 'black', 'bluegrass',\n",
       "       'blues', 'bollywood', 'bossa', 'brazilian', 'breakbeat', 'breaks',\n",
       "       'broadway', 'cantautori', 'cantopop', 'canzone', 'caribbean',\n",
       "       'caucasian', 'celtic', 'chamber', 'chanson', 'children', 'chill',\n",
       "       'chinese', 'choral', 'christian', 'christmas', 'classical',\n",
       "       'classicmetal', 'club', 'colombian', 'comedy', 'conjazz',\n",
       "       'contemporary', 'country', 'cuban', 'dance', 'dancehall',\n",
       "       'dancepop', 'dark', 'death', 'deep', 'deutschrock', 'deutschspr',\n",
       "       'dirty', 'disco', 'dnb', 'documentary', 'downbeat', 'downtempo',\n",
       "       'drum', 'dub', 'dubstep', 'eastern', 'easy', 'electronic',\n",
       "       'electropop', 'emo', 'entehno', 'epicmetal', 'estrada', 'ethnic',\n",
       "       'eurofolk', 'european', 'experimental', 'extrememetal', 'fado',\n",
       "       'fairytail', 'film', 'fitness', 'flamenco', 'folk', 'folklore',\n",
       "       'folkmetal', 'folkrock', 'folktronica', 'forró', 'frankreich',\n",
       "       'französisch', 'french', 'funk', 'future', 'gangsta', 'garage',\n",
       "       'german', 'ghazal', 'gitarre', 'glitch', 'gospel', 'gothic',\n",
       "       'grime', 'grunge', 'gypsy', 'handsup', \"hard'n'heavy\", 'hardcore',\n",
       "       'hardstyle', 'hardtechno', 'hiphop', 'historisch', 'holiday',\n",
       "       'horror', 'house', 'hymn', 'idm', 'independent', 'indian', 'indie',\n",
       "       'indipop', 'industrial', 'inspirational', 'instrumental',\n",
       "       'international', 'irish', 'jam', 'japanese', 'jazz', 'jewish',\n",
       "       'jpop', 'jungle', 'k-pop', 'karadeniz', 'karaoke', 'kayokyoku',\n",
       "       'korean', 'laiko', 'latin', 'latino', 'leftfield', 'local',\n",
       "       'lounge', 'loungeelectronic', 'lovers', 'malaysian', 'mandopop',\n",
       "       'marschmusik', 'meditative', 'mediterranean', 'melodic', 'metal',\n",
       "       'metalcore', 'mexican', 'middle', 'minimal', 'miscellaneous',\n",
       "       'modern', 'mood', 'mpb', 'muslim', 'native', 'neoklassik', 'neue',\n",
       "       'new', 'newage', 'newwave', 'nu', 'nujazz', 'numetal', 'oceania',\n",
       "       'old', 'opera', 'orchestral', 'other', 'piano', 'podcasts', 'pop',\n",
       "       'popdance', 'popelectronic', 'popeurodance', 'poprussian', 'post',\n",
       "       'posthardcore', 'postrock', 'power', 'progmetal', 'progressive',\n",
       "       'psychedelic', 'punjabi', 'punk', 'quebecois', 'ragga', 'ram',\n",
       "       'rancheras', 'rap', 'rave', 'reggae', 'reggaeton', 'regional',\n",
       "       'relax', 'religious', 'retro', 'rhythm', 'rnb', 'rnr', 'rock',\n",
       "       'rockabilly', 'rockalternative', 'rockindie', 'rockother',\n",
       "       'romance', 'roots', 'ruspop', 'rusrap', 'rusrock', 'russian',\n",
       "       'salsa', 'samba', 'scenic', 'schlager', 'self', 'sertanejo',\n",
       "       'shanson', 'shoegazing', 'showtunes', 'singer', 'ska', 'skarock',\n",
       "       'slow', 'smooth', 'soft', 'soul', 'soulful', 'sound', 'soundtrack',\n",
       "       'southern', 'specialty', 'speech', 'spiritual', 'sport',\n",
       "       'stonerrock', 'surf', 'swing', 'synthpop', 'synthrock',\n",
       "       'sängerportrait', 'tango', 'tanzorchester', 'taraftar', 'tatar',\n",
       "       'tech', 'techno', 'teen', 'thrash', 'top', 'traditional',\n",
       "       'tradjazz', 'trance', 'tribal', 'trip', 'triphop', 'tropical',\n",
       "       'türk', 'türkçe', 'ukrrock', 'urban', 'uzbek', 'variété', 'vi',\n",
       "       'videogame', 'vocal', 'western', 'world', 'worldbeat', 'ïîï',\n",
       "       'электроника', nan], dtype=object)"
      ]
     },
     "execution_count": 17,
     "metadata": {},
     "output_type": "execute_result"
    }
   ],
   "source": [
    "# Проверка на неявные дубликаты\n",
    "df['genre'].sort_values().unique()"
   ]
  },
  {
   "cell_type": "markdown",
   "metadata": {
    "id": "jz6a9-7HQUDd"
   },
   "source": [
    "**Выводы**\n",
    "\n",
    "Предобработка обнаружила три проблемы в данных:\n",
    "\n",
    "- нарушения в стиле заголовков,\n",
    "- пропущенные значения,\n",
    "- дубликаты — явные и неявные.\n",
    "\n",
    "Вы исправили заголовки, чтобы упростить работу с таблицей. Без дубликатов исследование станет более точным.\n",
    "\n",
    "Пропущенные значения вы заменили на `'unknown'`. Ещё предстоит увидеть, не повредят ли исследованию пропуски в колонке `genre`.\n",
    "\n",
    "Теперь можно перейти к проверке гипотез. "
   ]
  },
  {
   "cell_type": "markdown",
   "metadata": {
    "id": "WttZHXH0SqKk"
   },
   "source": [
    "## Проверка гипотез"
   ]
  },
  {
   "cell_type": "markdown",
   "metadata": {
    "id": "Im936VVi_Zcu"
   },
   "source": [
    "### Сравнение поведения пользователей двух столиц"
   ]
  },
  {
   "cell_type": "markdown",
   "metadata": {
    "id": "nwt_MuaL_Zcu"
   },
   "source": [
    "Первая гипотеза утверждает, что пользователи по-разному слушают музыку в Москве и Санкт-Петербурге. Проверьте это предположение по данным о трёх днях недели — понедельнике, среде и пятнице. Для этого:\n",
    "\n",
    "* Разделите пользователей Москвы и Санкт-Петербурга\n",
    "* Сравните, сколько треков послушала каждая группа пользователей в понедельник, среду и пятницу.\n"
   ]
  },
  {
   "cell_type": "markdown",
   "metadata": {
    "id": "8Dw_YMmT_Zcu"
   },
   "source": [
    "Для тренировки сначала выполните каждый из расчётов по отдельности. \n",
    "\n",
    "Оцените активность пользователей в каждом городе. Сгруппируйте данные по городу и посчитайте прослушивания в каждой группе.\n",
    "\n"
   ]
  },
  {
   "cell_type": "code",
   "execution_count": 18,
   "metadata": {
    "id": "0_Qs96oh_Zcu"
   },
   "outputs": [
    {
     "data": {
      "text/plain": [
       "city\n",
       "Moscow              42741\n",
       "Saint-Petersburg    18512\n",
       "Name: city, dtype: int64"
      ]
     },
     "execution_count": 18,
     "metadata": {},
     "output_type": "execute_result"
    }
   ],
   "source": [
    "# Подсчёт прослушиваний в каждом городе\n",
    "df.groupby('city')['city'].count()\n"
   ]
  },
  {
   "cell_type": "markdown",
   "metadata": {
    "id": "dzli3w8o_Zcu"
   },
   "source": [
    "В Москве прослушиваний больше, чем в Петербурге. Из этого не следует, что московские пользователи чаще слушают музыку. Просто самих пользователей в Москве больше.\n",
    "\n",
    "Теперь сгруппируйте данные по дню недели и подсчитайте прослушивания в понедельник, среду и пятницу. Учтите, что в данных есть информация только о прослушиваниях только за эти дни.\n"
   ]
  },
  {
   "cell_type": "code",
   "execution_count": 19,
   "metadata": {
    "id": "uZMKjiJz_Zcu"
   },
   "outputs": [
    {
     "data": {
      "text/plain": [
       "day\n",
       "Friday       21840\n",
       "Monday       21354\n",
       "Wednesday    18059\n",
       "Name: day, dtype: int64"
      ]
     },
     "execution_count": 19,
     "metadata": {},
     "output_type": "execute_result"
    }
   ],
   "source": [
    "# Подсчёт прослушиваний в каждый из трёх дней\n",
    "df.groupby('day')['day'].count()"
   ]
  },
  {
   "cell_type": "markdown",
   "metadata": {
    "id": "cC2tNrlL_Zcu"
   },
   "source": [
    "В среднем пользователи из двух городов менее активны по средам. Но картина может измениться, если рассмотреть каждый город в отдельности."
   ]
  },
  {
   "cell_type": "markdown",
   "metadata": {
    "id": "POzs8bGa_Zcu"
   },
   "source": [
    "Вы видели, как работает группировка по городу и по дням недели. Теперь напишите функцию, которая объединит два эти расчёта.\n",
    "\n",
    "Создайте функцию `number_tracks()`, которая посчитает прослушивания для заданного дня и города. Ей понадобятся два параметра:\n",
    "* день недели,\n",
    "* название города.\n",
    "\n",
    "В функции сохраните в переменную строки исходной таблицы, у которых значение:\n",
    "  * в колонке `day` равно параметру `day`,\n",
    "  * в колонке `city` равно параметру `city`.\n",
    "\n",
    "Для этого примените последовательную фильтрацию с логической индексацией.\n",
    "\n",
    "Затем посчитайте значения в столбце `user_id` получившейся таблицы. Результат сохраните в новую переменную. Верните эту переменную из функции."
   ]
  },
  {
   "cell_type": "code",
   "execution_count": 20,
   "metadata": {
    "id": "Nz3GdQB1_Zcu"
   },
   "outputs": [],
   "source": [
    "# <создание функции number_tracks()>\n",
    "# Объявляется функция с двумя параметрами: day, city.\n",
    "def number_tracks (df,day,city):\n",
    "    \n",
    "    track_list = df[ df['day']==day]\n",
    "    track_list =  track_list[ track_list['city']==city]\n",
    "    track_list_count = track_list['user_id'].count()\n",
    "    return (track_list_count)\n",
    "# В переменной track_list сохраняются те строки таблицы df, для которых \n",
    "# значение в столбце 'day' равно параметру day и одновременно значение\n",
    "# в столбце 'city' равно параметру city (используйте последовательную фильтрацию\n",
    "# с помощью логической индексации).\n",
    "# В переменной track_list_count сохраняется число значений столбца 'user_id',\n",
    "# рассчитанное методом count() для таблицы track_list.\n",
    "# Функция возвращает число - значение track_list_count.\n",
    "\n",
    "# Функция для подсчёта прослушиваний для конкретного города и дня.\n",
    "# С помощью последовательной фильтрации с логической индексацией она \n",
    "# сначала получит из исходной таблицы строки с нужным днём,\n",
    "# затем из результата отфильтрует строки с нужным городом,\n",
    "# методом count() посчитает количество значений в колонке user_id. \n",
    "# Это количество функция вернёт в качестве результата"
   ]
  },
  {
   "cell_type": "markdown",
   "metadata": {
    "id": "ytf7xFrFJQ2r"
   },
   "source": [
    "Вызовите `number_tracks()` шесть раз, меняя значение параметров — так, чтобы получить данные для каждого города в каждый из трёх дней."
   ]
  },
  {
   "cell_type": "code",
   "execution_count": 21,
   "metadata": {
    "id": "rJcRATNQ_Zcu"
   },
   "outputs": [
    {
     "name": "stdout",
     "output_type": "stream",
     "text": [
      "Количество прослушиваний по понедельникам в Москве 15740 \n",
      "\n",
      "Количество прослушиваний по понедельникам в Санкт - Петербурге 5614 \n",
      "\n",
      "Количество прослушиваний по средам в Москве 11056 \n",
      "\n",
      "Количество прослушиваний по средам в Санкт - Петербурге 7003 \n",
      "\n",
      "Количество прослушиваний по пятницам в Москве 15945 \n",
      "\n",
      "Количество прослушиваний по пятницам в Санкт - Петербурге 5895 \n",
      "\n"
     ]
    }
   ],
   "source": [
    "# количество прослушиваний в Москве по понедельникам\n",
    "\n",
    "day=[ ['Monday', 'Wednesday', 'Friday'], ['понедельникам', 'средам', 'пятницам'] ]\n",
    "city=[['Moscow','Saint-Petersburg'], ['Москве', 'Санкт - Петербурге'] ]\n",
    "for d in range( len(day[0]) ):\n",
    "    for c in range( len(city[0]) ):\n",
    "        print('Количество прослушиваний по {0} в {1}'.format(day[1][d],city[1][c]), (number_tracks(df,day[0][d],city[0][c]) ), '\\n')\n",
    "        \n",
    "        \n"
   ]
  },
  {
   "cell_type": "code",
   "execution_count": 22,
   "metadata": {
    "id": "hq_ncZ5T_Zcu"
   },
   "outputs": [],
   "source": [
    "# количество прослушиваний в Санкт-Петербурге по понедельникам"
   ]
  },
  {
   "cell_type": "code",
   "execution_count": 23,
   "metadata": {
    "id": "_NTy2VPU_Zcu"
   },
   "outputs": [],
   "source": [
    "# количество прослушиваний в Москве по средам"
   ]
  },
  {
   "cell_type": "code",
   "execution_count": 24,
   "metadata": {
    "id": "j2y3TAwo_Zcu"
   },
   "outputs": [],
   "source": [
    "# количество прослушиваний в Санкт-Петербурге по средам"
   ]
  },
  {
   "cell_type": "code",
   "execution_count": 25,
   "metadata": {
    "id": "vYDw5u_K_Zcu"
   },
   "outputs": [],
   "source": [
    "# количество прослушиваний в Москве по пятницам"
   ]
  },
  {
   "cell_type": "code",
   "execution_count": 26,
   "metadata": {
    "id": "8_yzFtW3_Zcu"
   },
   "outputs": [],
   "source": [
    "# количество прослушиваний в Санкт-Петербурге по пятницам"
   ]
  },
  {
   "cell_type": "markdown",
   "metadata": {
    "id": "7QXffbO-_Zcu"
   },
   "source": [
    "Создайте c помощью конструктора `pd.DataFrame` таблицу, где\n",
    "* названия колонок — `['city', 'monday', 'wednesday', 'friday']`;\n",
    "* данные — результаты, которые вы получили с помощью `number_tracks`."
   ]
  },
  {
   "cell_type": "code",
   "execution_count": 27,
   "metadata": {
    "id": "APAcLpOr_Zcu"
   },
   "outputs": [
    {
     "data": {
      "text/html": [
       "<div>\n",
       "<style scoped>\n",
       "    .dataframe tbody tr th:only-of-type {\n",
       "        vertical-align: middle;\n",
       "    }\n",
       "\n",
       "    .dataframe tbody tr th {\n",
       "        vertical-align: top;\n",
       "    }\n",
       "\n",
       "    .dataframe thead th {\n",
       "        text-align: right;\n",
       "    }\n",
       "</style>\n",
       "<table border=\"1\" class=\"dataframe\">\n",
       "  <thead>\n",
       "    <tr style=\"text-align: right;\">\n",
       "      <th></th>\n",
       "      <th>city</th>\n",
       "      <th>monday</th>\n",
       "      <th>wednesday</th>\n",
       "      <th>friday</th>\n",
       "    </tr>\n",
       "  </thead>\n",
       "  <tbody>\n",
       "    <tr>\n",
       "      <th>0</th>\n",
       "      <td>Moscow</td>\n",
       "      <td>15740</td>\n",
       "      <td>11056</td>\n",
       "      <td>15945</td>\n",
       "    </tr>\n",
       "    <tr>\n",
       "      <th>1</th>\n",
       "      <td>Saint-Petersburg</td>\n",
       "      <td>5614</td>\n",
       "      <td>7003</td>\n",
       "      <td>5895</td>\n",
       "    </tr>\n",
       "  </tbody>\n",
       "</table>\n",
       "</div>"
      ],
      "text/plain": [
       "               city  monday  wednesday  friday\n",
       "0            Moscow   15740      11056   15945\n",
       "1  Saint-Petersburg    5614       7003    5895"
      ]
     },
     "execution_count": 27,
     "metadata": {},
     "output_type": "execute_result"
    }
   ],
   "source": [
    "# Таблица с результатами\n",
    "data=[]\n",
    "city=['Moscow','Saint-Petersburg']\n",
    "day=[ 'Monday', 'Wednesday', 'Friday']\n",
    "for c in city:\n",
    "    tmp = [c]\n",
    "    for d in day:\n",
    "        tmp.append(number_tracks(df,d,c))\n",
    "    data.append(tmp)     \n",
    "\n",
    "column=['city', 'monday', 'wednesday', 'friday']\n",
    "result=pd.DataFrame(data=data,columns=column)\n",
    "result"
   ]
  },
  {
   "cell_type": "markdown",
   "metadata": {
    "id": "-EgPIHYu_Zcu"
   },
   "source": [
    "**Выводы**\n",
    "\n",
    "Данные показывают разницу поведения пользователей:\n",
    "\n",
    "- В Москве пик прослушиваний приходится на понедельник и пятницу, а в среду заметен спад.\n",
    "- В Петербурге, наоборот, больше слушают музыку по средам. Активность в понедельник и пятницу здесь почти в равной мере уступает среде.\n",
    "\n",
    "Значит, данные говорят в пользу первой гипотезы."
   ]
  },
  {
   "cell_type": "markdown",
   "metadata": {
    "id": "atZAxtq4_Zcu"
   },
   "source": [
    "### Музыка в начале и в конце недели"
   ]
  },
  {
   "cell_type": "markdown",
   "metadata": {
    "id": "eXrQqXFH_Zcu"
   },
   "source": [
    "Согласно второй гипотезе, утром в понедельник в Москве преобладают одни жанры, а в Петербурге — другие. Так же и вечером пятницы преобладают разные жанры — в зависимости от города."
   ]
  },
  {
   "cell_type": "markdown",
   "metadata": {
    "id": "S8UcW6Hw_Zcu"
   },
   "source": [
    "Сохраните таблицы с данными в две переменные:\n",
    "* по Москве — в `moscow_general`;\n",
    "* по Санкт-Петербургу — в `spb_general`."
   ]
  },
  {
   "cell_type": "code",
   "execution_count": 28,
   "metadata": {
    "id": "qeaFfM_P_Zcu"
   },
   "outputs": [],
   "source": [
    "# получение таблицы moscow_general из тех строк таблицы df, \n",
    "# для которых значение в столбце 'city' равно 'Moscow'\n",
    "moscow_general=df[df['city']=='Moscow'].reset_index()"
   ]
  },
  {
   "cell_type": "code",
   "execution_count": 29,
   "metadata": {
    "id": "ORaVRKto_Zcu"
   },
   "outputs": [],
   "source": [
    "# получение таблицы spb_general из тех строк таблицы df,\n",
    "# для которых значение в столбце 'city' равно 'Saint-Petersburg'\n",
    "spb_general=df[df['city']=='Saint-Petersburg'].reset_index()"
   ]
  },
  {
   "cell_type": "markdown",
   "metadata": {
    "id": "MEJV-CX2_Zcu"
   },
   "source": [
    "Создайте функцию `genre_weekday()` с четырьмя параметрами:\n",
    "* таблица (датафрейм) с данными,\n",
    "* день недели,\n",
    "* начальная временная метка в формате 'hh:mm', \n",
    "* последняя временная метка в формате 'hh:mm'.\n",
    "\n",
    "Функция должна вернуть информацию о топ-10 жанров тех треков, которые прослушивали в указанный день, в промежутке между двумя отметками времени."
   ]
  },
  {
   "cell_type": "code",
   "execution_count": 30,
   "metadata": {
    "id": "laJT9BYl_Zcu"
   },
   "outputs": [],
   "source": [
    "# Объявление функции genre_weekday() с параметрами table, day, time1, time2,\n",
    "def genre_weekday(table,day,time1,time2):\n",
    "    genre_df=table[table['day']==day]\n",
    "    genre_df=genre_df[genre_df['time']>time1]\n",
    "    genre_df=genre_df[genre_df['time']<time2]\n",
    "    genre_df_count=genre_df.groupby('genre')['genre'].count()\n",
    "    genre_df_sorted=genre_df_count.sort_values(ascending=False)\n",
    "    genre_df_sorted=genre_df_sorted.head(10)\n",
    "    return genre_df_sorted\n",
    "# которая возвращает информацию о самых популярных жанрах в указанный день в\n",
    "# заданное время:\n",
    "# 1) в переменную genre_df сохраняются те строки переданного датафрейма table, для\n",
    "#    которых одновременно:\n",
    "#    - значение в столбце day равно значению аргумента day\n",
    "#    - значение в столбце time больше значения аргумента time1\n",
    "#    - значение в столбце time меньше значения аргумента time2\n",
    "#    Используйте последовательную фильтрацию с помощью логической индексации.\n",
    "# 2) сгруппировать датафрейм genre_df по столбцу genre, взять один из его\n",
    "#    столбцов и посчитать методом count() количество записей для каждого из\n",
    "#    присутствующих жанров, получившийся Series записать в переменную\n",
    "#    genre_df_count\n",
    "# 3) отсортировать genre_df_count по убыванию встречаемости и сохранить\n",
    "#    в переменную genre_df_sorted\n",
    "# 4) вернуть Series из 10 первых значений genre_df_sorted, это будут топ-10\n",
    "#    популярных жанров (в указанный день, в заданное время)"
   ]
  },
  {
   "cell_type": "markdown",
   "metadata": {
    "id": "la2s2_PF_Zcu"
   },
   "source": [
    "Cравните результаты функции `genre_weekday()` для Москвы и Санкт-Петербурга в понедельник утром (с 7:00 до 11:00) и в пятницу вечером (с 17:00 до 23:00):"
   ]
  },
  {
   "cell_type": "code",
   "execution_count": 31,
   "metadata": {
    "id": "yz7itPUQ_Zcu"
   },
   "outputs": [
    {
     "name": "stdout",
     "output_type": "stream",
     "text": [
      "Moscow Monday \n",
      " genre\n",
      "pop            781\n",
      "dance          549\n",
      "electronic     480\n",
      "rock           474\n",
      "hiphop         286\n",
      "ruspop         186\n",
      "world          181\n",
      "rusrap         175\n",
      "alternative    164\n",
      "classical      157\n",
      "Name: genre, dtype: int64 \n",
      "\n",
      "Moscow Friday \n",
      " genre\n",
      "pop            789\n",
      "dance          585\n",
      "rock           509\n",
      "electronic     506\n",
      "hiphop         277\n",
      "ruspop         207\n",
      "classical      201\n",
      "world          174\n",
      "alternative    172\n",
      "rusrap         148\n",
      "Name: genre, dtype: int64 \n",
      "\n",
      "Saint-Petersburg Monday \n",
      " genre\n",
      "pop            218\n",
      "dance          182\n",
      "rock           162\n",
      "electronic     147\n",
      "hiphop          80\n",
      "ruspop          64\n",
      "alternative     58\n",
      "rusrap          55\n",
      "jazz            44\n",
      "classical       40\n",
      "Name: genre, dtype: int64 \n",
      "\n",
      "Saint-Petersburg Friday \n",
      " genre\n",
      "pop            211\n",
      "dance          192\n",
      "electronic     167\n",
      "rock           156\n",
      "hiphop         109\n",
      "classical       56\n",
      "alternative     55\n",
      "rusrap          55\n",
      "world           46\n",
      "ruspop          45\n",
      "Name: genre, dtype: int64 \n",
      "\n"
     ]
    }
   ],
   "source": [
    "# вызов функции для утра понедельника в Москве (вместо df — таблица moscow_general)\n",
    "# объекты, хранящие время, являются строками и сравниваются как строки\n",
    "# пример вызова: genre_weekday(moscow_general, 'Monday', '07:00', '11:00')\n",
    "\n",
    "\n",
    "genre_weekday(moscow_general, 'Monday', '07:00', '11:00')\n",
    "\n",
    "table= [moscow_general, spb_general]\n",
    "day= ['Monday','Friday']\n",
    "time1='07:00'\n",
    "time2='11:00'\n",
    "for t in table:\n",
    "    for d in day:\n",
    "        print(t['city'][0] ,d, '\\n', genre_weekday(t, d, time1, time2), '\\n')"
   ]
  },
  {
   "cell_type": "code",
   "execution_count": 32,
   "metadata": {
    "id": "kwUcHPdy_Zcu"
   },
   "outputs": [],
   "source": [
    "# вызов функции для утра понедельника в Петербурге (вместо df — таблица spb_general)"
   ]
  },
  {
   "cell_type": "code",
   "execution_count": 33,
   "metadata": {
    "id": "EzXVRE1o_Zcu"
   },
   "outputs": [],
   "source": [
    "# вызов функции для вечера пятницы в Москве"
   ]
  },
  {
   "cell_type": "code",
   "execution_count": 34,
   "metadata": {
    "id": "JZaEKu5v_Zcu"
   },
   "outputs": [],
   "source": [
    "# вызов функции для вечера пятницы в Петербурге"
   ]
  },
  {
   "cell_type": "markdown",
   "metadata": {
    "id": "wrCe4MNX_Zcu"
   },
   "source": [
    "**Выводы**\n",
    "\n",
    "Если сравнить топ-10 жанров в понедельник утром, можно сделать такие выводы:\n",
    "\n",
    "1. В Москве и Петербурге слушают похожую музыку. Единственное отличие — в московский рейтинг вошёл жанр “world”, а в петербургский — джаз и классика.\n",
    "\n",
    "2. В Москве пропущенных значений оказалось так много, что значение `'unknown'` заняло десятое место среди самых популярных жанров. Значит, пропущенные значения занимают существенную долю в данных и угрожают достоверности исследования.\n",
    "\n",
    "Вечер пятницы не меняет эту картину. Некоторые жанры поднимаются немного выше, другие спускаются, но в целом топ-10 остаётся тем же самым.\n",
    "\n",
    "Таким образом, вторая гипотеза подтвердилась лишь частично:\n",
    "* Пользователи слушают похожую музыку в начале недели и в конце.\n",
    "* Разница между Москвой и Петербургом не слишком выражена. В Москве чаще слушают русскую популярную музыку, в Петербурге — джаз.\n",
    "\n",
    "Однако пропуски в данных ставят под сомнение этот результат. В Москве их так много, что рейтинг топ-10 мог бы выглядеть иначе, если бы не утерянные  данные о жанрах."
   ]
  },
  {
   "cell_type": "markdown",
   "metadata": {
    "id": "JolODAqr_Zcu"
   },
   "source": [
    "### Жанровые предпочтения в Москве и Петербурге\n",
    "\n",
    "Гипотеза: Петербург — столица рэпа, музыку этого жанра там слушают чаще, чем в Москве.  А Москва — город контрастов, в котором, тем не менее, преобладает поп-музыка."
   ]
  },
  {
   "cell_type": "markdown",
   "metadata": {
    "id": "DlegSvaT_Zcu"
   },
   "source": [
    "Сгруппируйте таблицу `moscow_general` по жанру и посчитайте прослушивания треков каждого жанра методом `count()`. Затем отсортируйте результат в порядке убывания и сохраните его в таблице `moscow_genres`."
   ]
  },
  {
   "cell_type": "code",
   "execution_count": 35,
   "metadata": {
    "id": "r19lIPke_Zcu"
   },
   "outputs": [],
   "source": [
    "# одной строкой: группировка таблицы moscow_general по столбцу 'genre', \n",
    "moscow_genres=moscow_general.groupby('genre')['genre'].count().sort_values(ascending=False)\n",
    "\n",
    "# подсчёт числа значений 'genre' в этой группировке методом count(), \n",
    "# сортировка получившегося Series в порядке убывания и сохранение в moscow_genres"
   ]
  },
  {
   "cell_type": "markdown",
   "metadata": {
    "id": "6kMuomxTiIr8"
   },
   "source": [
    "Выведите на экран первые десять строк `moscow_genres`:"
   ]
  },
  {
   "cell_type": "code",
   "execution_count": 36,
   "metadata": {
    "id": "WhCSooF8_Zcv"
   },
   "outputs": [
    {
     "data": {
      "text/plain": [
       "genre\n",
       "pop            5892\n",
       "dance          4435\n",
       "rock           3965\n",
       "electronic     3786\n",
       "hiphop         2096\n",
       "classical      1616\n",
       "world          1432\n",
       "alternative    1379\n",
       "ruspop         1372\n",
       "rusrap         1161\n",
       "Name: genre, dtype: int64"
      ]
     },
     "execution_count": 36,
     "metadata": {},
     "output_type": "execute_result"
    }
   ],
   "source": [
    "# просмотр первых 10 строк moscow_genres\n",
    "moscow_genres.head(10)"
   ]
  },
  {
   "cell_type": "markdown",
   "metadata": {
    "id": "cnPG2vnN_Zcv"
   },
   "source": [
    "Теперь повторите то же и для Петербурга.\n",
    "\n",
    "Сгруппируйте таблицу `spb_general` по жанру. Посчитайте прослушивания треков каждого жанра. Результат отсортируйте в порядке убывания и сохраните в таблице `spb_genres`:\n"
   ]
  },
  {
   "cell_type": "code",
   "execution_count": 37,
   "metadata": {
    "id": "gluLIpE7_Zcv"
   },
   "outputs": [],
   "source": [
    "# одной строкой: группировка таблицы spb_general по столбцу 'genre', \n",
    "# подсчёт числа значений 'genre' в этой группировке методом count(), \n",
    "# сортировка получившегося Series в порядке убывания и сохранение в spb_genres\n",
    "spb_genres=spb_general.groupby('genre')['genre'].count().sort_values(ascending=False)\n"
   ]
  },
  {
   "cell_type": "markdown",
   "metadata": {
    "id": "5Doha_ODgyQ8"
   },
   "source": [
    "Выведите на экран первые десять строк `spb_genres`:"
   ]
  },
  {
   "cell_type": "code",
   "execution_count": 38,
   "metadata": {
    "id": "uaGJHjVU_Zcv"
   },
   "outputs": [
    {
     "data": {
      "text/plain": [
       "genre\n",
       "pop            2431\n",
       "dance          1932\n",
       "rock           1879\n",
       "electronic     1736\n",
       "hiphop          960\n",
       "alternative     649\n",
       "classical       646\n",
       "rusrap          564\n",
       "ruspop          538\n",
       "world           515\n",
       "Name: genre, dtype: int64"
      ]
     },
     "execution_count": 38,
     "metadata": {},
     "output_type": "execute_result"
    }
   ],
   "source": [
    "# просмотр первых 10 строк spb_genres\n",
    "spb_genres.head(10)"
   ]
  },
  {
   "cell_type": "markdown",
   "metadata": {
    "id": "RY51YJYu_Zcv"
   },
   "source": [
    "**Выводы**"
   ]
  },
  {
   "cell_type": "markdown",
   "metadata": {
    "id": "nVhnJEm__Zcv"
   },
   "source": [
    "Гипотеза частично подтвердилась:\n",
    "* Поп-музыка — самый популярный жанр в Москве, как и предполагала гипотеза. Более того, в топ-10 жанров встречается близкий жанр — русская популярная музыка.\n",
    "* Вопреки ожиданиям, рэп одинаково популярен в Москве и Петербурге. \n"
   ]
  },
  {
   "cell_type": "markdown",
   "metadata": {
    "id": "ykKQ0N65_Zcv"
   },
   "source": [
    "## Итоги исследования"
   ]
  },
  {
   "cell_type": "markdown",
   "metadata": {
    "id": "tjUwbHb3_Zcv"
   },
   "source": [
    "Вы проверили три гипотезы и установили:\n",
    "\n",
    "1. День недели по-разному влияет на активность пользователей в Москве и Петербурге. \n",
    "\n",
    "Первая гипотеза полностью подтвердилась.\n",
    "\n",
    "2. Музыкальные предпочтения не сильно меняются в течение недели — будь то Москва или Петербург. Небольшие различия заметны в начале недели, по понедельникам:\n",
    "* в Москве слушают музыку жанра “world”,\n",
    "* в Петербурге — джаз и классику.\n",
    "\n",
    "Таким образом, вторая гипотеза подтвердилась лишь отчасти. Этот результат мог оказаться иным, если бы не пропуски в данных.\n",
    "\n",
    "3. Во вкусах пользователей Москвы и Петербурга больше общего чем различий. Вопреки ожиданиям, предпочтения жанров в Петербурге напоминают московские.\n",
    "\n",
    "Третья гипотеза не подтвердилась. Если различия в предпочтениях и существуют, на основной массе пользователей они незаметны.\n",
    "\n",
    "**На практике исследования содержат проверки статистических гипотез.**\n",
    "Из данных одного сервиса не всегда можно сделать вывод о всех жителях города.\n",
    "Проверки статистических гипотез покажут, насколько они достоверны, исходя из имеющихся данных. \n",
    "С методами проверок гипотез вы ещё познакомитесь в следующих темах."
   ]
  }
 ],
 "metadata": {
  "ExecuteTimeLog": [
   {
    "duration": 796,
    "start_time": "2021-06-16T11:01:40.589Z"
   },
   {
    "duration": 197,
    "start_time": "2021-06-16T11:01:43.889Z"
   },
   {
    "duration": 443,
    "start_time": "2021-06-16T11:01:56.109Z"
   },
   {
    "duration": 21,
    "start_time": "2021-06-16T11:02:06.499Z"
   },
   {
    "duration": 31,
    "start_time": "2021-06-16T11:02:58.255Z"
   },
   {
    "duration": 7,
    "start_time": "2021-06-16T11:06:27.532Z"
   },
   {
    "duration": 25,
    "start_time": "2021-06-16T11:12:08.095Z"
   },
   {
    "duration": 5,
    "start_time": "2021-06-16T11:12:12.735Z"
   },
   {
    "duration": 33,
    "start_time": "2021-06-16T11:14:15.900Z"
   },
   {
    "duration": -140,
    "start_time": "2021-06-16T11:18:29.724Z"
   },
   {
    "duration": 32,
    "start_time": "2021-06-16T11:18:36.954Z"
   },
   {
    "duration": 346,
    "start_time": "2021-06-16T11:19:45.661Z"
   },
   {
    "duration": -827,
    "start_time": "2021-06-16T11:21:34.149Z"
   },
   {
    "duration": -833,
    "start_time": "2021-06-16T11:21:34.157Z"
   },
   {
    "duration": 32,
    "start_time": "2021-06-16T11:21:35.481Z"
   },
   {
    "duration": -729,
    "start_time": "2021-06-16T11:24:14.638Z"
   },
   {
    "duration": 33,
    "start_time": "2021-06-16T11:24:14.438Z"
   },
   {
    "duration": 6913,
    "start_time": "2021-06-16T11:24:17.504Z"
   },
   {
    "duration": -466,
    "start_time": "2021-06-16T11:24:24.886Z"
   },
   {
    "duration": 30,
    "start_time": "2021-06-16T11:24:25.904Z"
   },
   {
    "duration": -172,
    "start_time": "2021-06-16T11:25:02.851Z"
   },
   {
    "duration": -173,
    "start_time": "2021-06-16T11:25:02.854Z"
   },
   {
    "duration": 6646,
    "start_time": "2021-06-16T11:25:04.235Z"
   },
   {
    "duration": -605,
    "start_time": "2021-06-16T11:25:11.489Z"
   },
   {
    "duration": -149,
    "start_time": "2021-06-16T11:26:20.755Z"
   },
   {
    "duration": -158,
    "start_time": "2021-06-16T11:26:20.766Z"
   },
   {
    "duration": 7893,
    "start_time": "2021-06-16T11:26:21.415Z"
   },
   {
    "duration": -177,
    "start_time": "2021-06-16T11:27:25.593Z"
   },
   {
    "duration": -179,
    "start_time": "2021-06-16T11:27:25.596Z"
   },
   {
    "duration": 30,
    "start_time": "2021-06-16T11:27:26.727Z"
   },
   {
    "duration": 6934,
    "start_time": "2021-06-16T11:27:29.536Z"
   },
   {
    "duration": 31,
    "start_time": "2021-06-16T11:27:36.735Z"
   },
   {
    "duration": -143,
    "start_time": "2021-06-16T11:28:08.905Z"
   },
   {
    "duration": -144,
    "start_time": "2021-06-16T11:28:08.908Z"
   },
   {
    "duration": 7971,
    "start_time": "2021-06-16T11:28:09.504Z"
   },
   {
    "duration": -230,
    "start_time": "2021-06-16T11:28:17.709Z"
   },
   {
    "duration": 343,
    "start_time": "2021-06-16T11:29:21.674Z"
   },
   {
    "duration": 23,
    "start_time": "2021-06-16T11:32:03.331Z"
   },
   {
    "duration": 32,
    "start_time": "2021-06-16T11:32:05.921Z"
   },
   {
    "duration": -123,
    "start_time": "2021-06-16T11:33:32.893Z"
   },
   {
    "duration": -129,
    "start_time": "2021-06-16T11:33:32.900Z"
   },
   {
    "duration": 30,
    "start_time": "2021-06-16T11:33:33.938Z"
   },
   {
    "duration": 7162,
    "start_time": "2021-06-16T11:33:50.283Z"
   },
   {
    "duration": -128,
    "start_time": "2021-06-16T11:33:57.577Z"
   },
   {
    "duration": 24,
    "start_time": "2021-06-16T11:34:26.272Z"
   },
   {
    "duration": 30,
    "start_time": "2021-06-16T11:34:27.622Z"
   },
   {
    "duration": 85,
    "start_time": "2021-06-16T11:34:43.650Z"
   },
   {
    "duration": 91,
    "start_time": "2021-06-16T11:35:12.742Z"
   },
   {
    "duration": 99,
    "start_time": "2021-06-16T11:35:33.433Z"
   },
   {
    "duration": 109,
    "start_time": "2021-06-16T11:35:56.571Z"
   },
   {
    "duration": 81,
    "start_time": "2021-06-16T11:36:12.740Z"
   },
   {
    "duration": 76,
    "start_time": "2021-06-16T11:36:18.628Z"
   },
   {
    "duration": 77,
    "start_time": "2021-06-16T11:36:28.567Z"
   },
   {
    "duration": 76,
    "start_time": "2021-06-16T11:36:41.348Z"
   },
   {
    "duration": 92,
    "start_time": "2021-06-16T11:37:00.029Z"
   },
   {
    "duration": 86,
    "start_time": "2021-06-16T11:37:01.927Z"
   },
   {
    "duration": 274,
    "start_time": "2021-06-16T11:38:20.464Z"
   },
   {
    "duration": 263,
    "start_time": "2021-06-16T11:39:40.218Z"
   },
   {
    "duration": 278,
    "start_time": "2021-06-16T11:39:42.928Z"
   },
   {
    "duration": 9,
    "start_time": "2021-06-16T11:40:58.123Z"
   },
   {
    "duration": 623,
    "start_time": "2021-06-16T11:43:16.361Z"
   },
   {
    "duration": 57,
    "start_time": "2021-06-16T11:44:32.896Z"
   },
   {
    "duration": 96,
    "start_time": "2021-06-16T11:49:20.571Z"
   },
   {
    "duration": 120,
    "start_time": "2021-06-16T11:49:40.575Z"
   },
   {
    "duration": 5,
    "start_time": "2021-06-16T11:49:53.910Z"
   },
   {
    "duration": 42,
    "start_time": "2021-06-16T11:50:24.747Z"
   },
   {
    "duration": 61,
    "start_time": "2021-06-16T11:50:36.037Z"
   },
   {
    "duration": 14,
    "start_time": "2021-06-16T11:53:54.941Z"
   },
   {
    "duration": 14,
    "start_time": "2021-06-16T11:54:06.214Z"
   },
   {
    "duration": 14,
    "start_time": "2021-06-16T11:54:11.003Z"
   },
   {
    "duration": 4,
    "start_time": "2021-06-16T11:57:21.589Z"
   },
   {
    "duration": 4,
    "start_time": "2021-06-16T11:57:26.379Z"
   },
   {
    "duration": 7683,
    "start_time": "2021-06-16T11:57:29.549Z"
   },
   {
    "duration": -121,
    "start_time": "2021-06-16T11:57:37.356Z"
   },
   {
    "duration": 58,
    "start_time": "2021-06-16T11:57:43.179Z"
   },
   {
    "duration": 3,
    "start_time": "2021-06-16T12:00:44.736Z"
   },
   {
    "duration": 3,
    "start_time": "2021-06-16T12:00:47.532Z"
   },
   {
    "duration": 100,
    "start_time": "2021-06-16T12:01:00.771Z"
   },
   {
    "duration": 5,
    "start_time": "2021-06-16T14:44:01.700Z"
   },
   {
    "duration": 833,
    "start_time": "2021-06-16T14:44:04.578Z"
   },
   {
    "duration": 623,
    "start_time": "2021-06-16T14:52:56.721Z"
   },
   {
    "duration": 4,
    "start_time": "2021-06-16T14:54:29.563Z"
   },
   {
    "duration": 704,
    "start_time": "2021-06-16T14:55:57.419Z"
   },
   {
    "duration": 771,
    "start_time": "2021-06-16T15:00:52.589Z"
   },
   {
    "duration": 342,
    "start_time": "2021-06-16T15:05:01.223Z"
   },
   {
    "duration": 393,
    "start_time": "2021-06-16T15:05:12.603Z"
   },
   {
    "duration": 4,
    "start_time": "2021-06-16T15:05:27.182Z"
   },
   {
    "duration": 352,
    "start_time": "2021-06-16T15:06:47.852Z"
   },
   {
    "duration": 836,
    "start_time": "2021-06-16T15:07:33.273Z"
   },
   {
    "duration": 190,
    "start_time": "2021-06-16T15:07:34.111Z"
   },
   {
    "duration": 16,
    "start_time": "2021-06-16T15:07:49.743Z"
   },
   {
    "duration": 4,
    "start_time": "2021-06-16T15:08:02.904Z"
   },
   {
    "duration": 15,
    "start_time": "2021-06-16T15:08:02.914Z"
   },
   {
    "duration": 64,
    "start_time": "2021-06-16T15:08:17.403Z"
   },
   {
    "duration": 381,
    "start_time": "2021-06-16T15:11:55.432Z"
   },
   {
    "duration": 414,
    "start_time": "2021-06-16T15:12:12.571Z"
   },
   {
    "duration": 471,
    "start_time": "2021-06-16T15:12:31.554Z"
   },
   {
    "duration": 380,
    "start_time": "2021-06-16T15:17:29.126Z"
   },
   {
    "duration": 376,
    "start_time": "2021-06-16T15:18:53.864Z"
   },
   {
    "duration": 118,
    "start_time": "2021-06-16T15:20:57.305Z"
   },
   {
    "duration": 102,
    "start_time": "2021-06-16T15:22:33.914Z"
   },
   {
    "duration": 133,
    "start_time": "2021-06-16T15:23:07.267Z"
   },
   {
    "duration": 113,
    "start_time": "2021-06-16T15:23:31.939Z"
   },
   {
    "duration": -58,
    "start_time": "2021-06-16T15:24:05.677Z"
   },
   {
    "duration": -72,
    "start_time": "2021-06-16T15:24:17.616Z"
   },
   {
    "duration": 413,
    "start_time": "2021-06-16T15:24:44.457Z"
   },
   {
    "duration": 819,
    "start_time": "2021-06-16T15:25:10.474Z"
   },
   {
    "duration": 186,
    "start_time": "2021-06-16T15:25:11.296Z"
   },
   {
    "duration": 20,
    "start_time": "2021-06-16T15:25:11.490Z"
   },
   {
    "duration": 32,
    "start_time": "2021-06-16T15:25:12.202Z"
   },
   {
    "duration": 5,
    "start_time": "2021-06-16T15:25:14.750Z"
   },
   {
    "duration": 25,
    "start_time": "2021-06-16T15:25:16.537Z"
   },
   {
    "duration": 5,
    "start_time": "2021-06-16T15:25:17.627Z"
   },
   {
    "duration": 29,
    "start_time": "2021-06-16T15:25:19.096Z"
   },
   {
    "duration": 23,
    "start_time": "2021-06-16T15:25:21.328Z"
   },
   {
    "duration": 30,
    "start_time": "2021-06-16T15:25:22.459Z"
   },
   {
    "duration": 86,
    "start_time": "2021-06-16T15:25:23.517Z"
   },
   {
    "duration": 102,
    "start_time": "2021-06-16T15:25:24.706Z"
   },
   {
    "duration": 87,
    "start_time": "2021-06-16T15:25:25.416Z"
   },
   {
    "duration": 70,
    "start_time": "2021-06-16T15:25:27.407Z"
   },
   {
    "duration": 5,
    "start_time": "2021-06-16T15:25:29.858Z"
   },
   {
    "duration": 13,
    "start_time": "2021-06-16T15:25:30.889Z"
   },
   {
    "duration": 58,
    "start_time": "2021-06-16T15:25:32.418Z"
   },
   {
    "duration": 447,
    "start_time": "2021-06-16T15:26:18.229Z"
   },
   {
    "duration": 21,
    "start_time": "2021-06-16T15:26:24.358Z"
   },
   {
    "duration": 20,
    "start_time": "2021-06-16T15:26:26.560Z"
   },
   {
    "duration": 20,
    "start_time": "2021-06-16T15:26:55.358Z"
   },
   {
    "duration": 18,
    "start_time": "2021-06-16T15:26:59.516Z"
   },
   {
    "duration": 19,
    "start_time": "2021-06-16T15:27:01.451Z"
   },
   {
    "duration": 21,
    "start_time": "2021-06-16T15:27:11.515Z"
   },
   {
    "duration": 35,
    "start_time": "2021-06-16T15:27:48.346Z"
   },
   {
    "duration": 52,
    "start_time": "2021-06-16T15:27:50.422Z"
   },
   {
    "duration": 52,
    "start_time": "2021-06-16T15:27:59.502Z"
   },
   {
    "duration": 4,
    "start_time": "2021-06-16T15:28:00.809Z"
   },
   {
    "duration": 55,
    "start_time": "2021-06-16T15:28:05.169Z"
   },
   {
    "duration": 35,
    "start_time": "2021-06-16T15:28:11.502Z"
   },
   {
    "duration": 35,
    "start_time": "2021-06-16T15:28:14.552Z"
   },
   {
    "duration": 34,
    "start_time": "2021-06-16T15:28:20.875Z"
   },
   {
    "duration": 39,
    "start_time": "2021-06-16T15:28:31.113Z"
   },
   {
    "duration": 29,
    "start_time": "2021-06-16T15:28:43.516Z"
   },
   {
    "duration": 30,
    "start_time": "2021-06-16T15:28:46.956Z"
   },
   {
    "duration": 33,
    "start_time": "2021-06-16T15:28:50.518Z"
   },
   {
    "duration": 31,
    "start_time": "2021-06-16T15:28:57.346Z"
   },
   {
    "duration": 31,
    "start_time": "2021-06-16T15:31:15.754Z"
   },
   {
    "duration": 416,
    "start_time": "2021-06-16T15:31:31.366Z"
   },
   {
    "duration": 751,
    "start_time": "2021-06-16T15:31:40.624Z"
   },
   {
    "duration": 197,
    "start_time": "2021-06-16T15:31:41.378Z"
   },
   {
    "duration": 21,
    "start_time": "2021-06-16T15:31:41.578Z"
   },
   {
    "duration": 34,
    "start_time": "2021-06-16T15:31:41.722Z"
   },
   {
    "duration": 6,
    "start_time": "2021-06-16T15:31:42.594Z"
   },
   {
    "duration": 27,
    "start_time": "2021-06-16T15:31:43.176Z"
   },
   {
    "duration": 6,
    "start_time": "2021-06-16T15:31:43.529Z"
   },
   {
    "duration": 29,
    "start_time": "2021-06-16T15:31:43.898Z"
   },
   {
    "duration": 26,
    "start_time": "2021-06-16T15:31:44.456Z"
   },
   {
    "duration": 30,
    "start_time": "2021-06-16T15:31:44.874Z"
   },
   {
    "duration": 86,
    "start_time": "2021-06-16T15:31:45.242Z"
   },
   {
    "duration": 104,
    "start_time": "2021-06-16T15:31:45.604Z"
   },
   {
    "duration": 88,
    "start_time": "2021-06-16T15:31:45.970Z"
   },
   {
    "duration": 62,
    "start_time": "2021-06-16T15:31:47.509Z"
   },
   {
    "duration": 4,
    "start_time": "2021-06-16T15:31:47.573Z"
   },
   {
    "duration": 14,
    "start_time": "2021-06-16T15:31:49.019Z"
   },
   {
    "duration": 59,
    "start_time": "2021-06-16T15:31:49.669Z"
   },
   {
    "duration": 31,
    "start_time": "2021-06-16T15:31:58.973Z"
   },
   {
    "duration": 31,
    "start_time": "2021-06-16T15:32:01.852Z"
   },
   {
    "duration": 30,
    "start_time": "2021-06-16T15:32:18.538Z"
   },
   {
    "duration": 3,
    "start_time": "2021-06-16T15:33:53.007Z"
   },
   {
    "duration": 31,
    "start_time": "2021-06-16T15:33:57.687Z"
   },
   {
    "duration": 59,
    "start_time": "2021-06-16T15:34:04.142Z"
   },
   {
    "duration": 32,
    "start_time": "2021-06-16T15:34:09.582Z"
   },
   {
    "duration": 31,
    "start_time": "2021-06-16T15:34:36.225Z"
   },
   {
    "duration": 46,
    "start_time": "2021-06-16T15:40:30.471Z"
   },
   {
    "duration": 44,
    "start_time": "2021-06-16T15:40:58.978Z"
   },
   {
    "duration": 45,
    "start_time": "2021-06-16T15:41:00.613Z"
   },
   {
    "duration": 5,
    "start_time": "2021-06-16T15:53:45.715Z"
   },
   {
    "duration": 5,
    "start_time": "2021-06-16T15:53:48.037Z"
   },
   {
    "duration": 398,
    "start_time": "2021-06-16T15:54:50.638Z"
   },
   {
    "duration": 4,
    "start_time": "2021-06-16T15:55:02.782Z"
   },
   {
    "duration": 48,
    "start_time": "2021-06-16T15:55:08.641Z"
   },
   {
    "duration": 6,
    "start_time": "2021-06-16T15:55:13.438Z"
   },
   {
    "duration": 391,
    "start_time": "2021-06-16T15:55:15.769Z"
   },
   {
    "duration": 338,
    "start_time": "2021-06-16T15:56:02.039Z"
   },
   {
    "duration": 7,
    "start_time": "2021-06-16T15:57:17.149Z"
   },
   {
    "duration": 411,
    "start_time": "2021-06-16T16:03:00.047Z"
   },
   {
    "duration": 5,
    "start_time": "2021-06-16T16:03:47.567Z"
   },
   {
    "duration": 901,
    "start_time": "2021-06-16T16:04:16.413Z"
   },
   {
    "duration": 196,
    "start_time": "2021-06-16T16:04:17.318Z"
   },
   {
    "duration": 21,
    "start_time": "2021-06-16T16:04:17.547Z"
   },
   {
    "duration": 32,
    "start_time": "2021-06-16T16:04:18.205Z"
   },
   {
    "duration": 6,
    "start_time": "2021-06-16T16:04:19.378Z"
   },
   {
    "duration": 25,
    "start_time": "2021-06-16T16:04:20.325Z"
   },
   {
    "duration": 5,
    "start_time": "2021-06-16T16:04:20.795Z"
   },
   {
    "duration": 30,
    "start_time": "2021-06-16T16:04:21.335Z"
   },
   {
    "duration": 23,
    "start_time": "2021-06-16T16:04:22.465Z"
   },
   {
    "duration": 31,
    "start_time": "2021-06-16T16:04:24.603Z"
   },
   {
    "duration": 106,
    "start_time": "2021-06-16T16:04:24.637Z"
   },
   {
    "duration": 106,
    "start_time": "2021-06-16T16:04:25.320Z"
   },
   {
    "duration": 92,
    "start_time": "2021-06-16T16:04:25.429Z"
   },
   {
    "duration": 59,
    "start_time": "2021-06-16T16:04:26.305Z"
   },
   {
    "duration": 4,
    "start_time": "2021-06-16T16:04:27.495Z"
   },
   {
    "duration": 15,
    "start_time": "2021-06-16T16:04:28.192Z"
   },
   {
    "duration": 59,
    "start_time": "2021-06-16T16:04:29.635Z"
   },
   {
    "duration": 47,
    "start_time": "2021-06-16T16:04:33.715Z"
   },
   {
    "duration": 45,
    "start_time": "2021-06-16T16:04:36.055Z"
   },
   {
    "duration": 4,
    "start_time": "2021-06-16T16:04:38.703Z"
   },
   {
    "duration": 430,
    "start_time": "2021-06-16T16:04:41.209Z"
   },
   {
    "duration": 361,
    "start_time": "2021-06-16T16:04:58.285Z"
   },
   {
    "duration": 832,
    "start_time": "2021-06-16T20:05:02.794Z"
   },
   {
    "duration": 203,
    "start_time": "2021-06-16T20:05:03.629Z"
   },
   {
    "duration": 22,
    "start_time": "2021-06-16T20:05:03.835Z"
   },
   {
    "duration": 57,
    "start_time": "2021-06-16T20:05:03.859Z"
   },
   {
    "duration": 11,
    "start_time": "2021-06-16T20:05:03.919Z"
   },
   {
    "duration": 36,
    "start_time": "2021-06-16T20:05:03.933Z"
   },
   {
    "duration": 19,
    "start_time": "2021-06-16T20:05:03.972Z"
   },
   {
    "duration": 52,
    "start_time": "2021-06-16T20:05:03.995Z"
   },
   {
    "duration": 54,
    "start_time": "2021-06-16T20:05:04.050Z"
   },
   {
    "duration": 39,
    "start_time": "2021-06-16T20:05:04.107Z"
   },
   {
    "duration": 110,
    "start_time": "2021-06-16T20:05:04.149Z"
   },
   {
    "duration": 160,
    "start_time": "2021-06-16T20:05:04.262Z"
   },
   {
    "duration": 96,
    "start_time": "2021-06-16T20:05:04.425Z"
   },
   {
    "duration": 61,
    "start_time": "2021-06-16T20:05:04.523Z"
   },
   {
    "duration": 32,
    "start_time": "2021-06-16T20:05:04.587Z"
   },
   {
    "duration": 14,
    "start_time": "2021-06-16T20:05:04.626Z"
   },
   {
    "duration": 80,
    "start_time": "2021-06-16T20:05:04.643Z"
   },
   {
    "duration": 49,
    "start_time": "2021-06-16T20:05:04.725Z"
   },
   {
    "duration": 77,
    "start_time": "2021-06-16T20:05:04.777Z"
   },
   {
    "duration": 4,
    "start_time": "2021-06-16T20:05:04.856Z"
   },
   {
    "duration": 467,
    "start_time": "2021-06-16T20:05:04.863Z"
   },
   {
    "duration": -1018,
    "start_time": "2021-06-16T20:05:06.351Z"
   },
   {
    "duration": -1017,
    "start_time": "2021-06-16T20:05:06.353Z"
   },
   {
    "duration": -1018,
    "start_time": "2021-06-16T20:05:06.355Z"
   },
   {
    "duration": -1020,
    "start_time": "2021-06-16T20:05:06.358Z"
   },
   {
    "duration": -1020,
    "start_time": "2021-06-16T20:05:06.360Z"
   },
   {
    "duration": -1020,
    "start_time": "2021-06-16T20:05:06.362Z"
   },
   {
    "duration": -1021,
    "start_time": "2021-06-16T20:05:06.365Z"
   },
   {
    "duration": -1022,
    "start_time": "2021-06-16T20:05:06.367Z"
   },
   {
    "duration": -1024,
    "start_time": "2021-06-16T20:05:06.370Z"
   },
   {
    "duration": -1024,
    "start_time": "2021-06-16T20:05:06.372Z"
   },
   {
    "duration": -1025,
    "start_time": "2021-06-16T20:05:06.374Z"
   },
   {
    "duration": -1026,
    "start_time": "2021-06-16T20:05:06.376Z"
   },
   {
    "duration": -1029,
    "start_time": "2021-06-16T20:05:06.380Z"
   },
   {
    "duration": -1032,
    "start_time": "2021-06-16T20:05:06.384Z"
   },
   {
    "duration": -1032,
    "start_time": "2021-06-16T20:05:06.386Z"
   },
   {
    "duration": -1038,
    "start_time": "2021-06-16T20:05:06.393Z"
   },
   {
    "duration": -1039,
    "start_time": "2021-06-16T20:05:06.395Z"
   },
   {
    "duration": 6,
    "start_time": "2021-06-16T20:07:02.238Z"
   },
   {
    "duration": 5,
    "start_time": "2021-06-16T20:07:11.485Z"
   },
   {
    "duration": 366,
    "start_time": "2021-06-16T20:07:13.907Z"
   },
   {
    "duration": 688,
    "start_time": "2021-06-16T20:07:50.698Z"
   },
   {
    "duration": 5,
    "start_time": "2021-06-16T20:10:19.394Z"
   },
   {
    "duration": 36,
    "start_time": "2021-06-16T20:10:24.594Z"
   },
   {
    "duration": 29,
    "start_time": "2021-06-16T20:11:00.227Z"
   },
   {
    "duration": 148,
    "start_time": "2021-06-16T20:14:45.768Z"
   },
   {
    "duration": 165,
    "start_time": "2021-06-16T20:14:56.066Z"
   },
   {
    "duration": 223,
    "start_time": "2021-06-16T20:15:31.378Z"
   },
   {
    "duration": 177,
    "start_time": "2021-06-16T20:15:41.895Z"
   },
   {
    "duration": 149,
    "start_time": "2021-06-16T20:15:56.237Z"
   },
   {
    "duration": 186,
    "start_time": "2021-06-16T20:16:17.105Z"
   },
   {
    "duration": 153,
    "start_time": "2021-06-16T20:16:43.228Z"
   },
   {
    "duration": 180,
    "start_time": "2021-06-16T20:16:54.909Z"
   },
   {
    "duration": 20,
    "start_time": "2021-06-16T20:20:17.339Z"
   },
   {
    "duration": 19,
    "start_time": "2021-06-16T20:20:21.197Z"
   },
   {
    "duration": 38,
    "start_time": "2021-06-16T20:20:22.878Z"
   },
   {
    "duration": 46,
    "start_time": "2021-06-16T20:21:41.985Z"
   },
   {
    "duration": 41,
    "start_time": "2021-06-16T20:22:32.607Z"
   },
   {
    "duration": 5,
    "start_time": "2021-06-16T20:23:19.378Z"
   },
   {
    "duration": 156,
    "start_time": "2021-06-16T20:23:23.028Z"
   },
   {
    "duration": 164,
    "start_time": "2021-06-16T20:26:01.303Z"
   },
   {
    "duration": 127,
    "start_time": "2021-06-16T20:26:06.616Z"
   },
   {
    "duration": 29,
    "start_time": "2021-06-16T20:26:19.074Z"
   },
   {
    "duration": 6,
    "start_time": "2021-06-16T20:26:49.956Z"
   },
   {
    "duration": 120,
    "start_time": "2021-06-16T20:26:51.713Z"
   },
   {
    "duration": 8,
    "start_time": "2021-06-16T20:28:55.625Z"
   },
   {
    "duration": 98,
    "start_time": "2021-06-16T20:28:58.677Z"
   },
   {
    "duration": 11,
    "start_time": "2021-06-16T20:29:06.227Z"
   },
   {
    "duration": 193,
    "start_time": "2021-06-16T20:29:07.327Z"
   },
   {
    "duration": 4,
    "start_time": "2021-06-16T20:29:48.190Z"
   },
   {
    "duration": 162,
    "start_time": "2021-06-16T20:29:49.255Z"
   },
   {
    "duration": 7,
    "start_time": "2021-06-16T20:30:11.748Z"
   },
   {
    "duration": 923,
    "start_time": "2021-06-16T20:30:13.015Z"
   },
   {
    "duration": 128,
    "start_time": "2021-06-16T20:30:42.828Z"
   },
   {
    "duration": 876,
    "start_time": "2021-06-16T20:30:44.459Z"
   },
   {
    "duration": 4,
    "start_time": "2021-06-16T20:32:33.926Z"
   },
   {
    "duration": 149,
    "start_time": "2021-06-16T20:32:35.386Z"
   },
   {
    "duration": 5,
    "start_time": "2021-06-16T20:33:39.178Z"
   },
   {
    "duration": 144,
    "start_time": "2021-06-16T20:33:40.558Z"
   },
   {
    "duration": 45,
    "start_time": "2021-06-16T20:33:50.689Z"
   },
   {
    "duration": 5,
    "start_time": "2021-06-16T20:34:27.779Z"
   },
   {
    "duration": 179,
    "start_time": "2021-06-16T20:34:28.660Z"
   },
   {
    "duration": 8,
    "start_time": "2021-06-16T20:41:56.252Z"
   },
   {
    "duration": 1765,
    "start_time": "2021-06-16T20:41:58.932Z"
   },
   {
    "duration": 6,
    "start_time": "2021-06-16T20:43:16.445Z"
   },
   {
    "duration": 114,
    "start_time": "2021-06-16T20:43:18.944Z"
   },
   {
    "duration": 41,
    "start_time": "2021-06-16T20:43:27.733Z"
   },
   {
    "duration": 123,
    "start_time": "2021-06-16T20:43:54.472Z"
   },
   {
    "duration": 4,
    "start_time": "2021-06-16T20:43:55.262Z"
   },
   {
    "duration": 4,
    "start_time": "2021-06-16T20:43:55.911Z"
   },
   {
    "duration": 7,
    "start_time": "2021-06-16T20:43:56.516Z"
   },
   {
    "duration": 3,
    "start_time": "2021-06-16T20:43:56.862Z"
   },
   {
    "duration": 5,
    "start_time": "2021-06-16T20:43:57.130Z"
   },
   {
    "duration": 473,
    "start_time": "2021-06-16T20:48:28.613Z"
   },
   {
    "duration": 409,
    "start_time": "2021-06-16T20:48:30.956Z"
   },
   {
    "duration": 476,
    "start_time": "2021-06-16T20:48:47.837Z"
   },
   {
    "duration": 453,
    "start_time": "2021-06-16T20:51:08.146Z"
   },
   {
    "duration": 99,
    "start_time": "2021-06-16T20:51:45.504Z"
   },
   {
    "duration": 113,
    "start_time": "2021-06-16T20:55:27.225Z"
   },
   {
    "duration": 506,
    "start_time": "2021-06-16T20:55:39.759Z"
   },
   {
    "duration": 471,
    "start_time": "2021-06-16T20:56:31.190Z"
   },
   {
    "duration": 104,
    "start_time": "2021-06-16T20:58:00.129Z"
   },
   {
    "duration": 114,
    "start_time": "2021-06-16T20:58:10.193Z"
   },
   {
    "duration": 169,
    "start_time": "2021-06-16T20:58:31.428Z"
   },
   {
    "duration": 99,
    "start_time": "2021-06-16T20:58:46.116Z"
   },
   {
    "duration": 97,
    "start_time": "2021-06-16T20:59:06.489Z"
   },
   {
    "duration": 6,
    "start_time": "2021-06-17T11:39:04.571Z"
   },
   {
    "duration": 135,
    "start_time": "2021-06-17T11:41:11.405Z"
   },
   {
    "duration": 431,
    "start_time": "2021-06-17T11:41:24.007Z"
   },
   {
    "duration": 318,
    "start_time": "2021-06-17T11:41:33.568Z"
   },
   {
    "duration": 316,
    "start_time": "2021-06-17T11:41:34.813Z"
   },
   {
    "duration": 464,
    "start_time": "2021-06-17T11:42:34.186Z"
   },
   {
    "duration": 339,
    "start_time": "2021-06-17T11:44:16.583Z"
   },
   {
    "duration": 315,
    "start_time": "2021-06-17T11:44:21.303Z"
   },
   {
    "duration": 796,
    "start_time": "2021-06-17T11:44:31.755Z"
   },
   {
    "duration": 185,
    "start_time": "2021-06-17T11:44:32.554Z"
   },
   {
    "duration": 22,
    "start_time": "2021-06-17T11:44:32.917Z"
   },
   {
    "duration": 52,
    "start_time": "2021-06-17T11:44:33.558Z"
   },
   {
    "duration": 7,
    "start_time": "2021-06-17T11:44:35.018Z"
   },
   {
    "duration": 26,
    "start_time": "2021-06-17T11:44:35.965Z"
   },
   {
    "duration": 6,
    "start_time": "2021-06-17T11:44:36.486Z"
   },
   {
    "duration": 30,
    "start_time": "2021-06-17T11:44:37.156Z"
   },
   {
    "duration": 21,
    "start_time": "2021-06-17T11:44:38.076Z"
   },
   {
    "duration": 32,
    "start_time": "2021-06-17T11:44:38.624Z"
   },
   {
    "duration": 83,
    "start_time": "2021-06-17T11:44:39.098Z"
   },
   {
    "duration": 99,
    "start_time": "2021-06-17T11:44:40.574Z"
   },
   {
    "duration": 94,
    "start_time": "2021-06-17T11:44:40.676Z"
   },
   {
    "duration": 60,
    "start_time": "2021-06-17T11:44:41.824Z"
   },
   {
    "duration": 5,
    "start_time": "2021-06-17T11:44:41.947Z"
   },
   {
    "duration": 14,
    "start_time": "2021-06-17T11:44:42.597Z"
   },
   {
    "duration": 59,
    "start_time": "2021-06-17T11:44:43.134Z"
   },
   {
    "duration": 47,
    "start_time": "2021-06-17T11:44:45.727Z"
   },
   {
    "duration": 44,
    "start_time": "2021-06-17T11:44:46.928Z"
   },
   {
    "duration": 5,
    "start_time": "2021-06-17T11:44:48.888Z"
   },
   {
    "duration": 93,
    "start_time": "2021-06-17T11:44:50.582Z"
   },
   {
    "duration": 3,
    "start_time": "2021-06-17T11:44:52.068Z"
   },
   {
    "duration": 3,
    "start_time": "2021-06-17T11:44:52.583Z"
   },
   {
    "duration": 3,
    "start_time": "2021-06-17T11:44:53.950Z"
   },
   {
    "duration": 8,
    "start_time": "2021-06-17T11:44:53.955Z"
   },
   {
    "duration": 6,
    "start_time": "2021-06-17T11:44:53.966Z"
   },
   {
    "duration": 94,
    "start_time": "2021-06-17T11:44:55.787Z"
   },
   {
    "duration": 15,
    "start_time": "2021-06-17T11:45:02.197Z"
   },
   {
    "duration": 12,
    "start_time": "2021-06-17T11:45:04.582Z"
   },
   {
    "duration": 17,
    "start_time": "2021-06-17T11:45:09.148Z"
   },
   {
    "duration": 13,
    "start_time": "2021-06-17T11:45:10.255Z"
   },
   {
    "duration": 6,
    "start_time": "2021-06-17T11:45:17.824Z"
   },
   {
    "duration": 735,
    "start_time": "2021-06-17T11:45:33.836Z"
   },
   {
    "duration": 3,
    "start_time": "2021-06-17T11:45:34.727Z"
   },
   {
    "duration": 7,
    "start_time": "2021-06-17T11:58:26.816Z"
   },
   {
    "duration": 8,
    "start_time": "2021-06-17T11:58:45.455Z"
   },
   {
    "duration": 388,
    "start_time": "2021-06-17T11:59:01.249Z"
   },
   {
    "duration": -43,
    "start_time": "2021-06-17T11:59:01.682Z"
   },
   {
    "duration": 3,
    "start_time": "2021-06-17T11:59:01.648Z"
   },
   {
    "duration": 8,
    "start_time": "2021-06-17T11:59:01.808Z"
   },
   {
    "duration": 731,
    "start_time": "2021-06-17T11:59:13.298Z"
   },
   {
    "duration": 179,
    "start_time": "2021-06-17T11:59:17.159Z"
   },
   {
    "duration": 20,
    "start_time": "2021-06-17T11:59:28.629Z"
   },
   {
    "duration": 33,
    "start_time": "2021-06-17T11:59:32.278Z"
   },
   {
    "duration": 6,
    "start_time": "2021-06-17T11:59:38.977Z"
   },
   {
    "duration": 26,
    "start_time": "2021-06-17T11:59:42.018Z"
   },
   {
    "duration": 5,
    "start_time": "2021-06-17T11:59:45.903Z"
   },
   {
    "duration": 35,
    "start_time": "2021-06-17T11:59:47.814Z"
   },
   {
    "duration": 20,
    "start_time": "2021-06-17T11:59:52.636Z"
   },
   {
    "duration": 31,
    "start_time": "2021-06-17T11:59:54.546Z"
   },
   {
    "duration": 83,
    "start_time": "2021-06-17T11:59:57.267Z"
   },
   {
    "duration": 101,
    "start_time": "2021-06-17T11:59:58.287Z"
   },
   {
    "duration": 84,
    "start_time": "2021-06-17T11:59:59.987Z"
   },
   {
    "duration": 66,
    "start_time": "2021-06-17T12:00:09.436Z"
   },
   {
    "duration": 4,
    "start_time": "2021-06-17T12:00:11.896Z"
   },
   {
    "duration": 17,
    "start_time": "2021-06-17T12:00:13.471Z"
   },
   {
    "duration": 46,
    "start_time": "2021-06-17T12:00:34.166Z"
   },
   {
    "duration": 46,
    "start_time": "2021-06-17T12:00:37.745Z"
   },
   {
    "duration": 5,
    "start_time": "2021-06-17T12:00:42.226Z"
   },
   {
    "duration": 146,
    "start_time": "2021-06-17T12:00:46.746Z"
   },
   {
    "duration": 4,
    "start_time": "2021-06-17T12:00:48.056Z"
   },
   {
    "duration": 3,
    "start_time": "2021-06-17T12:00:49.156Z"
   },
   {
    "duration": 3,
    "start_time": "2021-06-17T12:00:49.395Z"
   },
   {
    "duration": 3,
    "start_time": "2021-06-17T12:00:50.166Z"
   },
   {
    "duration": 4,
    "start_time": "2021-06-17T12:00:50.785Z"
   },
   {
    "duration": 92,
    "start_time": "2021-06-17T12:00:54.686Z"
   },
   {
    "duration": 15,
    "start_time": "2021-06-17T12:01:00.486Z"
   },
   {
    "duration": 14,
    "start_time": "2021-06-17T12:01:02.966Z"
   },
   {
    "duration": 6,
    "start_time": "2021-06-17T12:01:06.116Z"
   },
   {
    "duration": 29,
    "start_time": "2021-06-17T12:01:10.115Z"
   },
   {
    "duration": 6,
    "start_time": "2021-06-17T12:01:38.886Z"
   },
   {
    "duration": 28,
    "start_time": "2021-06-17T12:01:46.469Z"
   },
   {
    "duration": 6,
    "start_time": "2021-06-17T12:01:59.957Z"
   },
   {
    "duration": 6,
    "start_time": "2021-06-17T12:02:01.826Z"
   },
   {
    "duration": 7,
    "start_time": "2021-06-17T12:02:32.108Z"
   },
   {
    "duration": 677,
    "start_time": "2021-06-17T12:02:36.327Z"
   },
   {
    "duration": 5,
    "start_time": "2021-06-17T12:03:13.199Z"
   },
   {
    "duration": 6,
    "start_time": "2021-06-17T12:03:15.318Z"
   },
   {
    "duration": 27,
    "start_time": "2021-06-17T12:03:18.077Z"
   },
   {
    "duration": 6,
    "start_time": "2021-06-17T12:03:31.828Z"
   },
   {
    "duration": 26,
    "start_time": "2021-06-17T12:03:35.107Z"
   },
   {
    "duration": 706,
    "start_time": "2021-06-17T20:19:44.094Z"
   },
   {
    "duration": 179,
    "start_time": "2021-06-17T20:19:44.803Z"
   },
   {
    "duration": 20,
    "start_time": "2021-06-17T20:19:44.985Z"
   },
   {
    "duration": 33,
    "start_time": "2021-06-17T20:19:45.426Z"
   },
   {
    "duration": 5,
    "start_time": "2021-06-17T20:19:46.425Z"
   },
   {
    "duration": 25,
    "start_time": "2021-06-17T20:19:46.993Z"
   },
   {
    "duration": 5,
    "start_time": "2021-06-17T20:19:47.385Z"
   },
   {
    "duration": 30,
    "start_time": "2021-06-17T20:19:47.801Z"
   },
   {
    "duration": 18,
    "start_time": "2021-06-17T20:19:48.525Z"
   },
   {
    "duration": 30,
    "start_time": "2021-06-17T20:19:49.002Z"
   },
   {
    "duration": 83,
    "start_time": "2021-06-17T20:19:49.555Z"
   },
   {
    "duration": 97,
    "start_time": "2021-06-17T20:19:50.382Z"
   },
   {
    "duration": 83,
    "start_time": "2021-06-17T20:19:50.825Z"
   },
   {
    "duration": 60,
    "start_time": "2021-06-17T20:19:51.635Z"
   },
   {
    "duration": 4,
    "start_time": "2021-06-17T20:19:52.285Z"
   },
   {
    "duration": 14,
    "start_time": "2021-06-17T20:19:53.462Z"
   },
   {
    "duration": 59,
    "start_time": "2021-06-17T20:19:54.710Z"
   },
   {
    "duration": 45,
    "start_time": "2021-06-17T20:19:57.245Z"
   },
   {
    "duration": 47,
    "start_time": "2021-06-17T20:19:58.435Z"
   },
   {
    "duration": 5,
    "start_time": "2021-06-17T20:19:59.986Z"
   },
   {
    "duration": 101,
    "start_time": "2021-06-17T20:20:02.445Z"
   },
   {
    "duration": 4,
    "start_time": "2021-06-17T20:20:03.695Z"
   },
   {
    "duration": 3,
    "start_time": "2021-06-17T20:20:04.935Z"
   },
   {
    "duration": 15,
    "start_time": "2021-06-17T20:20:04.945Z"
   },
   {
    "duration": 4,
    "start_time": "2021-06-17T20:20:05.463Z"
   },
   {
    "duration": 4,
    "start_time": "2021-06-17T20:20:05.993Z"
   },
   {
    "duration": 97,
    "start_time": "2021-06-17T20:20:09.945Z"
   },
   {
    "duration": 18,
    "start_time": "2021-06-17T20:20:14.433Z"
   },
   {
    "duration": 12,
    "start_time": "2021-06-17T20:20:15.226Z"
   },
   {
    "duration": 88,
    "start_time": "2021-06-17T20:21:56.773Z"
   },
   {
    "duration": 98,
    "start_time": "2021-06-17T20:22:01.726Z"
   },
   {
    "duration": 91,
    "start_time": "2021-06-17T20:23:57.094Z"
   },
   {
    "duration": 569,
    "start_time": "2021-06-17T20:24:36.343Z"
   },
   {
    "duration": 260,
    "start_time": "2021-06-17T20:25:14.613Z"
   },
   {
    "duration": 288,
    "start_time": "2021-06-17T20:25:30.892Z"
   },
   {
    "duration": 6,
    "start_time": "2021-06-17T20:25:41.986Z"
   },
   {
    "duration": 561,
    "start_time": "2021-06-17T20:26:09.567Z"
   },
   {
    "duration": 740,
    "start_time": "2021-06-17T20:26:37.314Z"
   },
   {
    "duration": 227,
    "start_time": "2021-06-17T20:26:39.728Z"
   },
   {
    "duration": 21,
    "start_time": "2021-06-17T20:26:41.996Z"
   },
   {
    "duration": 32,
    "start_time": "2021-06-17T20:26:43.648Z"
   },
   {
    "duration": 6,
    "start_time": "2021-06-17T20:26:45.137Z"
   },
   {
    "duration": 26,
    "start_time": "2021-06-17T20:26:45.896Z"
   },
   {
    "duration": 5,
    "start_time": "2021-06-17T20:26:46.436Z"
   },
   {
    "duration": 30,
    "start_time": "2021-06-17T20:26:46.909Z"
   },
   {
    "duration": 18,
    "start_time": "2021-06-17T20:26:47.698Z"
   },
   {
    "duration": 31,
    "start_time": "2021-06-17T20:26:48.213Z"
   },
   {
    "duration": 82,
    "start_time": "2021-06-17T20:26:48.718Z"
   },
   {
    "duration": 98,
    "start_time": "2021-06-17T20:26:49.628Z"
   },
   {
    "duration": 90,
    "start_time": "2021-06-17T20:26:50.378Z"
   },
   {
    "duration": 57,
    "start_time": "2021-06-17T20:26:51.599Z"
   },
   {
    "duration": 4,
    "start_time": "2021-06-17T20:26:52.981Z"
   },
   {
    "duration": 15,
    "start_time": "2021-06-17T20:26:53.460Z"
   },
   {
    "duration": 58,
    "start_time": "2021-06-17T20:26:54.847Z"
   },
   {
    "duration": 46,
    "start_time": "2021-06-17T20:26:57.429Z"
   },
   {
    "duration": 45,
    "start_time": "2021-06-17T20:27:01.628Z"
   },
   {
    "duration": 5,
    "start_time": "2021-06-17T20:27:04.210Z"
   },
   {
    "duration": 85,
    "start_time": "2021-06-17T20:27:07.556Z"
   },
   {
    "duration": 3,
    "start_time": "2021-06-17T20:27:13.786Z"
   },
   {
    "duration": 3,
    "start_time": "2021-06-17T20:27:14.188Z"
   },
   {
    "duration": 3,
    "start_time": "2021-06-17T20:27:14.359Z"
   },
   {
    "duration": 3,
    "start_time": "2021-06-17T20:27:14.547Z"
   },
   {
    "duration": 3,
    "start_time": "2021-06-17T20:27:14.757Z"
   },
   {
    "duration": 92,
    "start_time": "2021-06-17T20:27:15.257Z"
   },
   {
    "duration": 15,
    "start_time": "2021-06-17T20:27:16.957Z"
   },
   {
    "duration": 11,
    "start_time": "2021-06-17T20:27:17.458Z"
   },
   {
    "duration": 5,
    "start_time": "2021-06-17T20:27:18.719Z"
   },
   {
    "duration": 623,
    "start_time": "2021-06-17T20:28:06.051Z"
   },
   {
    "duration": 536,
    "start_time": "2021-06-17T20:28:12.552Z"
   },
   {
    "duration": 26,
    "start_time": "2021-06-17T20:29:23.147Z"
   },
   {
    "duration": 28,
    "start_time": "2021-06-17T20:30:42.702Z"
   },
   {
    "duration": 111,
    "start_time": "2021-06-17T20:33:06.757Z"
   },
   {
    "duration": 3,
    "start_time": "2021-06-17T20:33:06.994Z"
   },
   {
    "duration": 95,
    "start_time": "2021-06-17T20:33:48.993Z"
   },
   {
    "duration": 96,
    "start_time": "2021-06-17T20:34:21.180Z"
   },
   {
    "duration": 554,
    "start_time": "2021-06-17T20:34:55.219Z"
   },
   {
    "duration": 79,
    "start_time": "2021-06-17T20:36:58.763Z"
   },
   {
    "duration": 87,
    "start_time": "2021-06-17T20:37:54.846Z"
   },
   {
    "duration": 18,
    "start_time": "2021-06-17T20:37:54.935Z"
   },
   {
    "duration": 91,
    "start_time": "2021-06-17T20:39:00.773Z"
   },
   {
    "duration": 89,
    "start_time": "2021-06-17T20:39:14.990Z"
   },
   {
    "duration": 32,
    "start_time": "2021-06-17T20:41:31.871Z"
   },
   {
    "duration": 29,
    "start_time": "2021-06-17T20:41:39.635Z"
   },
   {
    "duration": 4275,
    "start_time": "2021-06-17T20:41:47.026Z"
   },
   {
    "duration": -110,
    "start_time": "2021-06-17T20:41:51.414Z"
   },
   {
    "duration": 4643,
    "start_time": "2021-06-17T20:42:18.864Z"
   },
   {
    "duration": 27,
    "start_time": "2021-06-17T20:42:31.659Z"
   },
   {
    "duration": 29,
    "start_time": "2021-06-17T20:42:55.970Z"
   },
   {
    "duration": 26,
    "start_time": "2021-06-17T20:44:26.626Z"
   },
   {
    "duration": 29,
    "start_time": "2021-06-17T20:44:36.770Z"
   },
   {
    "duration": 22,
    "start_time": "2021-06-17T20:44:47.537Z"
   },
   {
    "duration": 28,
    "start_time": "2021-06-17T20:44:51.417Z"
   },
   {
    "duration": 17,
    "start_time": "2021-06-17T20:45:05.473Z"
   },
   {
    "duration": 102,
    "start_time": "2021-06-17T20:45:44.513Z"
   },
   {
    "duration": 92,
    "start_time": "2021-06-17T20:46:01.051Z"
   },
   {
    "duration": 293,
    "start_time": "2021-06-17T20:46:21.464Z"
   },
   {
    "duration": 89,
    "start_time": "2021-06-17T20:46:27.031Z"
   },
   {
    "duration": 89,
    "start_time": "2021-06-17T20:46:34.118Z"
   },
   {
    "duration": 782,
    "start_time": "2021-06-18T20:54:07.654Z"
   },
   {
    "duration": 189,
    "start_time": "2021-06-18T20:54:08.714Z"
   },
   {
    "duration": 21,
    "start_time": "2021-06-18T20:54:09.983Z"
   },
   {
    "duration": 32,
    "start_time": "2021-06-18T20:54:10.532Z"
   },
   {
    "duration": 6,
    "start_time": "2021-06-18T20:54:17.476Z"
   },
   {
    "duration": 25,
    "start_time": "2021-06-18T20:54:18.604Z"
   },
   {
    "duration": 9,
    "start_time": "2021-06-18T20:54:18.632Z"
   },
   {
    "duration": 33,
    "start_time": "2021-06-18T20:54:18.853Z"
   },
   {
    "duration": 21,
    "start_time": "2021-06-18T20:54:19.393Z"
   },
   {
    "duration": 30,
    "start_time": "2021-06-18T20:54:20.215Z"
   },
   {
    "duration": 92,
    "start_time": "2021-06-18T20:54:20.248Z"
   },
   {
    "duration": 117,
    "start_time": "2021-06-18T20:54:21.254Z"
   },
   {
    "duration": 100,
    "start_time": "2021-06-18T20:54:21.374Z"
   },
   {
    "duration": 62,
    "start_time": "2021-06-18T20:54:21.965Z"
   },
   {
    "duration": 5,
    "start_time": "2021-06-18T20:54:22.225Z"
   },
   {
    "duration": 15,
    "start_time": "2021-06-18T20:54:22.874Z"
   },
   {
    "duration": 65,
    "start_time": "2021-06-18T20:54:23.356Z"
   },
   {
    "duration": 45,
    "start_time": "2021-06-18T20:54:24.803Z"
   },
   {
    "duration": 49,
    "start_time": "2021-06-18T20:54:25.224Z"
   },
   {
    "duration": 6,
    "start_time": "2021-06-18T20:54:25.874Z"
   },
   {
    "duration": 160,
    "start_time": "2021-06-18T20:54:26.514Z"
   },
   {
    "duration": 5,
    "start_time": "2021-06-18T20:54:26.966Z"
   },
   {
    "duration": 3,
    "start_time": "2021-06-18T20:54:27.244Z"
   },
   {
    "duration": 3,
    "start_time": "2021-06-18T20:54:27.544Z"
   },
   {
    "duration": 3,
    "start_time": "2021-06-18T20:54:27.726Z"
   },
   {
    "duration": 4,
    "start_time": "2021-06-18T20:54:27.905Z"
   },
   {
    "duration": 100,
    "start_time": "2021-06-18T20:54:29.045Z"
   },
   {
    "duration": 20,
    "start_time": "2021-06-18T20:54:30.306Z"
   },
   {
    "duration": 18,
    "start_time": "2021-06-18T20:54:30.546Z"
   },
   {
    "duration": 7,
    "start_time": "2021-06-18T20:54:31.025Z"
   },
   {
    "duration": 96,
    "start_time": "2021-06-18T20:54:31.465Z"
   },
   {
    "duration": 3,
    "start_time": "2021-06-18T20:54:31.705Z"
   },
   {
    "duration": 4,
    "start_time": "2021-06-18T20:54:32.231Z"
   },
   {
    "duration": 5,
    "start_time": "2021-06-18T20:54:33.262Z"
   },
   {
    "duration": 4,
    "start_time": "2021-06-18T20:55:18.502Z"
   },
   {
    "duration": 4,
    "start_time": "2021-06-18T20:55:20.724Z"
   },
   {
    "duration": 3,
    "start_time": "2021-06-18T20:55:21.974Z"
   },
   {
    "duration": 4,
    "start_time": "2021-06-18T20:55:22.358Z"
   },
   {
    "duration": 364,
    "start_time": "2021-06-18T20:59:08.228Z"
   },
   {
    "duration": 316,
    "start_time": "2021-06-18T21:01:13.122Z"
   },
   {
    "duration": 1300,
    "start_time": "2021-06-18T21:02:28.794Z"
   },
   {
    "duration": 37,
    "start_time": "2021-06-18T21:07:31.042Z"
   },
   {
    "duration": 41,
    "start_time": "2021-06-18T21:07:33.951Z"
   },
   {
    "duration": 13,
    "start_time": "2021-06-18T21:07:51.336Z"
   },
   {
    "duration": 51,
    "start_time": "2021-06-18T21:08:19.197Z"
   },
   {
    "duration": 19,
    "start_time": "2021-06-18T21:08:21.534Z"
   },
   {
    "duration": 51,
    "start_time": "2021-06-18T21:10:24.682Z"
   },
   {
    "duration": 20,
    "start_time": "2021-06-18T21:10:27.118Z"
   },
   {
    "duration": 47,
    "start_time": "2021-06-18T21:10:40.239Z"
   },
   {
    "duration": 13,
    "start_time": "2021-06-18T21:10:41.995Z"
   },
   {
    "duration": 24,
    "start_time": "2021-06-18T21:11:35.723Z"
   },
   {
    "duration": 3,
    "start_time": "2021-06-18T21:11:37.598Z"
   },
   {
    "duration": 31,
    "start_time": "2021-06-18T21:11:40.715Z"
   },
   {
    "duration": 13,
    "start_time": "2021-06-18T21:11:52.238Z"
   },
   {
    "duration": 729,
    "start_time": "2021-06-19T09:49:25.409Z"
   },
   {
    "duration": 183,
    "start_time": "2021-06-19T09:49:26.141Z"
   },
   {
    "duration": 19,
    "start_time": "2021-06-19T09:49:26.327Z"
   },
   {
    "duration": 53,
    "start_time": "2021-06-19T09:49:26.350Z"
   },
   {
    "duration": 6,
    "start_time": "2021-06-19T09:49:26.406Z"
   },
   {
    "duration": 25,
    "start_time": "2021-06-19T09:49:26.414Z"
   },
   {
    "duration": 7,
    "start_time": "2021-06-19T09:49:26.442Z"
   },
   {
    "duration": 62,
    "start_time": "2021-06-19T09:49:26.453Z"
   },
   {
    "duration": 18,
    "start_time": "2021-06-19T09:49:26.518Z"
   },
   {
    "duration": 30,
    "start_time": "2021-06-19T09:49:26.539Z"
   },
   {
    "duration": 109,
    "start_time": "2021-06-19T09:49:26.572Z"
   },
   {
    "duration": 117,
    "start_time": "2021-06-19T09:49:26.684Z"
   },
   {
    "duration": 85,
    "start_time": "2021-06-19T09:49:26.803Z"
   },
   {
    "duration": 60,
    "start_time": "2021-06-19T09:49:26.901Z"
   },
   {
    "duration": 5,
    "start_time": "2021-06-19T09:49:26.964Z"
   },
   {
    "duration": 38,
    "start_time": "2021-06-19T09:49:26.971Z"
   },
   {
    "duration": 59,
    "start_time": "2021-06-19T09:49:27.012Z"
   },
   {
    "duration": 73,
    "start_time": "2021-06-19T09:49:27.074Z"
   },
   {
    "duration": 76,
    "start_time": "2021-06-19T09:49:27.151Z"
   },
   {
    "duration": 6,
    "start_time": "2021-06-19T09:49:27.230Z"
   },
   {
    "duration": 121,
    "start_time": "2021-06-19T09:49:27.238Z"
   },
   {
    "duration": 3,
    "start_time": "2021-06-19T09:49:27.362Z"
   },
   {
    "duration": 4,
    "start_time": "2021-06-19T09:49:27.371Z"
   },
   {
    "duration": 32,
    "start_time": "2021-06-19T09:49:27.378Z"
   },
   {
    "duration": 5,
    "start_time": "2021-06-19T09:49:27.412Z"
   },
   {
    "duration": 8,
    "start_time": "2021-06-19T09:49:27.420Z"
   },
   {
    "duration": 112,
    "start_time": "2021-06-19T09:49:27.430Z"
   },
   {
    "duration": 20,
    "start_time": "2021-06-19T09:49:27.544Z"
   },
   {
    "duration": 38,
    "start_time": "2021-06-19T09:49:27.566Z"
   },
   {
    "duration": 5,
    "start_time": "2021-06-19T09:49:27.607Z"
   },
   {
    "duration": 106,
    "start_time": "2021-06-19T09:49:27.615Z"
   },
   {
    "duration": 3,
    "start_time": "2021-06-19T09:49:27.723Z"
   },
   {
    "duration": 11,
    "start_time": "2021-06-19T09:49:27.728Z"
   },
   {
    "duration": 6,
    "start_time": "2021-06-19T09:49:27.742Z"
   },
   {
    "duration": 67,
    "start_time": "2021-06-19T09:49:27.751Z"
   },
   {
    "duration": 15,
    "start_time": "2021-06-19T09:49:27.821Z"
   },
   {
    "duration": 18,
    "start_time": "2021-06-19T09:49:27.839Z"
   },
   {
    "duration": 42,
    "start_time": "2021-06-19T09:49:27.859Z"
   },
   {
    "duration": 500,
    "start_time": "2021-06-20T09:52:07.495Z"
   },
   {
    "duration": 726,
    "start_time": "2021-06-20T09:52:22.102Z"
   },
   {
    "duration": 192,
    "start_time": "2021-06-20T09:52:23.565Z"
   },
   {
    "duration": 25,
    "start_time": "2021-06-20T09:52:26.613Z"
   },
   {
    "duration": 34,
    "start_time": "2021-06-20T09:52:37.980Z"
   },
   {
    "duration": 5,
    "start_time": "2021-06-20T09:52:48.171Z"
   },
   {
    "duration": 27,
    "start_time": "2021-06-20T09:53:42.172Z"
   },
   {
    "duration": 5,
    "start_time": "2021-06-20T09:53:46.245Z"
   },
   {
    "duration": 35,
    "start_time": "2021-06-20T09:53:49.968Z"
   },
   {
    "duration": 20,
    "start_time": "2021-06-20T09:53:58.756Z"
   },
   {
    "duration": 19,
    "start_time": "2021-06-20T09:54:49.259Z"
   },
   {
    "duration": 19,
    "start_time": "2021-06-20T09:54:51.441Z"
   },
   {
    "duration": 20,
    "start_time": "2021-06-20T09:55:40.241Z"
   },
   {
    "duration": 30,
    "start_time": "2021-06-20T09:55:49.445Z"
   },
   {
    "duration": 88,
    "start_time": "2021-06-20T09:55:55.075Z"
   },
   {
    "duration": 99,
    "start_time": "2021-06-20T09:55:56.835Z"
   },
   {
    "duration": 89,
    "start_time": "2021-06-20T09:56:00.873Z"
   },
   {
    "duration": 61,
    "start_time": "2021-06-20T09:56:28.901Z"
   },
   {
    "duration": 3,
    "start_time": "2021-06-20T09:56:34.087Z"
   },
   {
    "duration": 13,
    "start_time": "2021-06-20T09:56:36.930Z"
   },
   {
    "duration": 14,
    "start_time": "2021-06-20T09:56:59.731Z"
   },
   {
    "duration": 60,
    "start_time": "2021-06-20T09:57:10.485Z"
   },
   {
    "duration": 131,
    "start_time": "2021-06-20T09:58:10.226Z"
   },
   {
    "duration": 116,
    "start_time": "2021-06-20T09:58:22.117Z"
   },
   {
    "duration": 342,
    "start_time": "2021-06-20T10:00:53.963Z"
   },
   {
    "duration": 14,
    "start_time": "2021-06-20T10:01:13.653Z"
   },
   {
    "duration": 47,
    "start_time": "2021-06-20T10:01:36.056Z"
   },
   {
    "duration": 108,
    "start_time": "2021-06-20T10:01:47.235Z"
   },
   {
    "duration": 16,
    "start_time": "2021-06-20T10:01:54.827Z"
   },
   {
    "duration": 16,
    "start_time": "2021-06-20T10:03:14.831Z"
   },
   {
    "duration": 16,
    "start_time": "2021-06-20T10:03:23.289Z"
   },
   {
    "duration": 5,
    "start_time": "2021-06-20T10:03:26.824Z"
   },
   {
    "duration": 104,
    "start_time": "2021-06-20T10:03:54.864Z"
   },
   {
    "duration": 97,
    "start_time": "2021-06-20T10:04:29.952Z"
   },
   {
    "duration": 98,
    "start_time": "2021-06-20T10:05:22.110Z"
   },
   {
    "duration": 28,
    "start_time": "2021-06-20T10:05:32.346Z"
   },
   {
    "duration": 23,
    "start_time": "2021-06-20T10:05:32.855Z"
   },
   {
    "duration": 8,
    "start_time": "2021-06-20T10:06:07.586Z"
   },
   {
    "duration": 6,
    "start_time": "2021-06-20T10:06:10.111Z"
   },
   {
    "duration": 89,
    "start_time": "2021-06-20T10:06:14.499Z"
   },
   {
    "duration": 3,
    "start_time": "2021-06-20T10:06:20.371Z"
   },
   {
    "duration": 17,
    "start_time": "2021-06-20T10:06:20.377Z"
   },
   {
    "duration": 3,
    "start_time": "2021-06-20T10:06:20.855Z"
   },
   {
    "duration": 34,
    "start_time": "2021-06-20T10:06:22.880Z"
   },
   {
    "duration": 14,
    "start_time": "2021-06-20T10:06:24.316Z"
   },
   {
    "duration": 319,
    "start_time": "2021-06-20T10:06:54.233Z"
   },
   {
    "duration": 328,
    "start_time": "2021-06-20T10:07:03.882Z"
   },
   {
    "duration": 31,
    "start_time": "2021-06-20T10:07:14.685Z"
   },
   {
    "duration": 314,
    "start_time": "2021-06-20T10:07:53.275Z"
   },
   {
    "duration": 313,
    "start_time": "2021-06-20T10:08:03.622Z"
   },
   {
    "duration": 32,
    "start_time": "2021-06-20T10:08:10.226Z"
   },
   {
    "duration": 11,
    "start_time": "2021-06-20T10:10:08.868Z"
   },
   {
    "duration": 6,
    "start_time": "2021-06-20T10:10:10.300Z"
   },
   {
    "duration": 324,
    "start_time": "2021-06-20T10:10:21.393Z"
   },
   {
    "duration": 114,
    "start_time": "2021-06-20T10:10:40.185Z"
   },
   {
    "duration": 330,
    "start_time": "2021-06-20T10:10:56.877Z"
   },
   {
    "duration": 6,
    "start_time": "2021-06-20T10:10:58.317Z"
   },
   {
    "duration": 130,
    "start_time": "2021-06-20T10:11:47.985Z"
   },
   {
    "duration": 320,
    "start_time": "2021-06-20T10:11:59.268Z"
   },
   {
    "duration": 11,
    "start_time": "2021-06-20T10:12:09.371Z"
   },
   {
    "duration": 7,
    "start_time": "2021-06-20T10:12:11.109Z"
   },
   {
    "duration": 993,
    "start_time": "2021-06-21T20:33:05.475Z"
   },
   {
    "duration": 201,
    "start_time": "2021-06-21T20:33:06.471Z"
   },
   {
    "duration": 26,
    "start_time": "2021-06-21T20:33:06.911Z"
   },
   {
    "duration": 36,
    "start_time": "2021-06-21T20:33:07.412Z"
   },
   {
    "duration": 6,
    "start_time": "2021-06-21T20:33:08.775Z"
   },
   {
    "duration": 27,
    "start_time": "2021-06-21T20:33:09.485Z"
   },
   {
    "duration": 5,
    "start_time": "2021-06-21T20:33:09.742Z"
   },
   {
    "duration": 32,
    "start_time": "2021-06-21T20:33:10.336Z"
   },
   {
    "duration": 18,
    "start_time": "2021-06-21T20:33:11.232Z"
   },
   {
    "duration": 29,
    "start_time": "2021-06-21T20:33:12.068Z"
   },
   {
    "duration": 87,
    "start_time": "2021-06-21T20:33:12.922Z"
   },
   {
    "duration": 97,
    "start_time": "2021-06-21T20:33:13.343Z"
   },
   {
    "duration": 84,
    "start_time": "2021-06-21T20:33:13.870Z"
   },
   {
    "duration": 58,
    "start_time": "2021-06-21T20:33:15.063Z"
   },
   {
    "duration": 5,
    "start_time": "2021-06-21T20:33:16.319Z"
   },
   {
    "duration": 14,
    "start_time": "2021-06-21T20:33:17.811Z"
   },
   {
    "duration": 57,
    "start_time": "2021-06-21T20:33:22.054Z"
   },
   {
    "duration": 14,
    "start_time": "2021-06-21T20:33:27.043Z"
   },
   {
    "duration": 14,
    "start_time": "2021-06-21T20:33:30.003Z"
   },
   {
    "duration": 4,
    "start_time": "2021-06-21T20:33:37.945Z"
   },
   {
    "duration": 88,
    "start_time": "2021-06-21T20:33:40.067Z"
   },
   {
    "duration": 114,
    "start_time": "2021-06-21T20:47:01.047Z"
   },
   {
    "duration": 94,
    "start_time": "2021-06-21T20:47:28.660Z"
   },
   {
    "duration": 93,
    "start_time": "2021-06-21T20:50:33.450Z"
   },
   {
    "duration": 86,
    "start_time": "2021-06-21T20:51:10.838Z"
   },
   {
    "duration": 584,
    "start_time": "2021-06-21T20:51:33.781Z"
   },
   {
    "duration": 524,
    "start_time": "2021-06-21T20:51:55.240Z"
   },
   {
    "duration": 5,
    "start_time": "2021-06-21T20:52:19.285Z"
   },
   {
    "duration": 5,
    "start_time": "2021-06-21T20:52:37.834Z"
   },
   {
    "duration": 505,
    "start_time": "2021-06-21T20:55:33.049Z"
   },
   {
    "duration": 512,
    "start_time": "2021-06-21T20:55:34.002Z"
   },
   {
    "duration": 87,
    "start_time": "2021-06-21T20:58:06.879Z"
   },
   {
    "duration": 261,
    "start_time": "2021-06-21T21:04:10.818Z"
   },
   {
    "duration": 6,
    "start_time": "2021-06-21T21:04:27.659Z"
   },
   {
    "duration": 7,
    "start_time": "2021-06-21T21:05:28.889Z"
   },
   {
    "duration": 46,
    "start_time": "2021-06-21T21:05:52.575Z"
   },
   {
    "duration": 50,
    "start_time": "2021-06-21T21:07:24.749Z"
   },
   {
    "duration": 96,
    "start_time": "2021-06-21T21:07:39.477Z"
   },
   {
    "duration": 88,
    "start_time": "2021-06-21T21:07:51.751Z"
   },
   {
    "duration": 96,
    "start_time": "2021-06-21T21:10:25.348Z"
   },
   {
    "duration": 98,
    "start_time": "2021-06-21T21:11:56.460Z"
   },
   {
    "duration": 94,
    "start_time": "2021-06-21T21:12:03.075Z"
   },
   {
    "duration": 99,
    "start_time": "2021-06-21T21:13:25.853Z"
   },
   {
    "duration": 87,
    "start_time": "2021-06-21T21:13:35.487Z"
   },
   {
    "duration": 130,
    "start_time": "2021-06-21T21:16:01.721Z"
   },
   {
    "duration": 115,
    "start_time": "2021-06-21T21:16:39.805Z"
   },
   {
    "duration": 4,
    "start_time": "2021-06-21T21:17:41.256Z"
   },
   {
    "duration": 266,
    "start_time": "2021-06-21T21:18:51.494Z"
   },
   {
    "duration": 528,
    "start_time": "2021-06-21T21:19:03.708Z"
   },
   {
    "duration": 28,
    "start_time": "2021-06-21T21:19:06.455Z"
   },
   {
    "duration": 21,
    "start_time": "2021-06-21T21:19:06.949Z"
   },
   {
    "duration": 8,
    "start_time": "2021-06-21T21:19:08.169Z"
   },
   {
    "duration": 124,
    "start_time": "2021-06-21T21:19:10.950Z"
   },
   {
    "duration": 575,
    "start_time": "2021-06-21T21:19:26.455Z"
   },
   {
    "duration": 709,
    "start_time": "2021-06-21T21:19:51.689Z"
   },
   {
    "duration": 193,
    "start_time": "2021-06-21T21:19:52.686Z"
   },
   {
    "duration": 23,
    "start_time": "2021-06-21T21:19:53.445Z"
   },
   {
    "duration": 31,
    "start_time": "2021-06-21T21:19:54.451Z"
   },
   {
    "duration": 5,
    "start_time": "2021-06-21T21:19:55.804Z"
   },
   {
    "duration": 29,
    "start_time": "2021-06-21T21:19:55.812Z"
   },
   {
    "duration": 6,
    "start_time": "2021-06-21T21:19:56.514Z"
   },
   {
    "duration": 30,
    "start_time": "2021-06-21T21:19:57.220Z"
   },
   {
    "duration": 17,
    "start_time": "2021-06-21T21:19:58.256Z"
   },
   {
    "duration": 30,
    "start_time": "2021-06-21T21:19:58.925Z"
   },
   {
    "duration": 88,
    "start_time": "2021-06-21T21:19:59.904Z"
   },
   {
    "duration": 110,
    "start_time": "2021-06-21T21:20:00.622Z"
   },
   {
    "duration": 88,
    "start_time": "2021-06-21T21:20:01.052Z"
   },
   {
    "duration": 58,
    "start_time": "2021-06-21T21:20:01.918Z"
   },
   {
    "duration": 4,
    "start_time": "2021-06-21T21:20:03.057Z"
   },
   {
    "duration": 14,
    "start_time": "2021-06-21T21:20:04.393Z"
   },
   {
    "duration": 59,
    "start_time": "2021-06-21T21:20:06.261Z"
   },
   {
    "duration": 15,
    "start_time": "2021-06-21T21:20:13.548Z"
   },
   {
    "duration": 19,
    "start_time": "2021-06-21T21:20:17.584Z"
   },
   {
    "duration": 6,
    "start_time": "2021-06-21T21:20:22.454Z"
   },
   {
    "duration": 141,
    "start_time": "2021-06-21T21:20:24.519Z"
   },
   {
    "duration": 4,
    "start_time": "2021-06-21T21:20:26.672Z"
   },
   {
    "duration": 4,
    "start_time": "2021-06-21T21:20:27.190Z"
   },
   {
    "duration": 4,
    "start_time": "2021-06-21T21:20:27.478Z"
   },
   {
    "duration": 4,
    "start_time": "2021-06-21T21:20:27.765Z"
   },
   {
    "duration": 3,
    "start_time": "2021-06-21T21:20:28.122Z"
   },
   {
    "duration": 600,
    "start_time": "2021-06-21T21:20:29.704Z"
   },
   {
    "duration": 501,
    "start_time": "2021-06-21T21:21:49.924Z"
   },
   {
    "duration": 98,
    "start_time": "2021-06-21T21:22:10.846Z"
   },
   {
    "duration": 21,
    "start_time": "2021-06-21T21:22:19.447Z"
   },
   {
    "duration": 15,
    "start_time": "2021-06-21T21:22:20.178Z"
   },
   {
    "duration": 5,
    "start_time": "2021-06-21T21:22:21.732Z"
   },
   {
    "duration": 97,
    "start_time": "2021-06-21T21:22:23.557Z"
   },
   {
    "duration": 3,
    "start_time": "2021-06-21T21:22:26.009Z"
   },
   {
    "duration": 3,
    "start_time": "2021-06-21T21:22:26.438Z"
   },
   {
    "duration": 4,
    "start_time": "2021-06-21T21:22:26.847Z"
   },
   {
    "duration": 11,
    "start_time": "2021-06-21T21:22:28.449Z"
   },
   {
    "duration": 7,
    "start_time": "2021-06-21T21:22:29.802Z"
   },
   {
    "duration": 264,
    "start_time": "2021-06-21T21:22:38.552Z"
   },
   {
    "duration": 259,
    "start_time": "2021-06-21T21:22:51.751Z"
   },
   {
    "duration": 10,
    "start_time": "2021-06-21T21:23:10.454Z"
   },
   {
    "duration": 7,
    "start_time": "2021-06-21T21:23:14.867Z"
   },
   {
    "duration": 765,
    "start_time": "2021-06-22T17:54:04.840Z"
   },
   {
    "duration": 25,
    "start_time": "2021-06-22T17:54:05.801Z"
   },
   {
    "duration": 34,
    "start_time": "2021-06-22T17:54:05.829Z"
   },
   {
    "duration": 5,
    "start_time": "2021-06-22T17:54:05.866Z"
   },
   {
    "duration": 50,
    "start_time": "2021-06-22T17:54:05.874Z"
   },
   {
    "duration": 12,
    "start_time": "2021-06-22T17:54:05.926Z"
   },
   {
    "duration": 40,
    "start_time": "2021-06-22T17:54:05.940Z"
   },
   {
    "duration": 25,
    "start_time": "2021-06-22T17:54:05.984Z"
   },
   {
    "duration": 38,
    "start_time": "2021-06-22T17:54:06.012Z"
   },
   {
    "duration": 161,
    "start_time": "2021-06-22T17:54:06.053Z"
   },
   {
    "duration": 120,
    "start_time": "2021-06-22T17:54:06.217Z"
   },
   {
    "duration": 101,
    "start_time": "2021-06-22T17:54:06.339Z"
   },
   {
    "duration": 73,
    "start_time": "2021-06-22T17:54:06.442Z"
   },
   {
    "duration": 4,
    "start_time": "2021-06-22T17:54:06.517Z"
   },
   {
    "duration": 21,
    "start_time": "2021-06-22T17:54:06.523Z"
   },
   {
    "duration": 76,
    "start_time": "2021-06-22T17:54:06.547Z"
   },
   {
    "duration": 16,
    "start_time": "2021-06-22T17:54:06.626Z"
   },
   {
    "duration": 17,
    "start_time": "2021-06-22T17:54:06.645Z"
   },
   {
    "duration": 45,
    "start_time": "2021-06-22T17:54:06.665Z"
   },
   {
    "duration": 121,
    "start_time": "2021-06-22T17:54:06.713Z"
   },
   {
    "duration": 5,
    "start_time": "2021-06-22T17:54:06.837Z"
   },
   {
    "duration": 7,
    "start_time": "2021-06-22T17:54:06.845Z"
   },
   {
    "duration": 7,
    "start_time": "2021-06-22T17:54:06.854Z"
   },
   {
    "duration": 13,
    "start_time": "2021-06-22T17:54:06.863Z"
   },
   {
    "duration": 6,
    "start_time": "2021-06-22T17:54:06.879Z"
   },
   {
    "duration": 124,
    "start_time": "2021-06-22T17:54:06.915Z"
   },
   {
    "duration": 22,
    "start_time": "2021-06-22T17:54:07.043Z"
   },
   {
    "duration": 42,
    "start_time": "2021-06-22T17:54:07.067Z"
   },
   {
    "duration": 6,
    "start_time": "2021-06-22T17:54:07.111Z"
   },
   {
    "duration": 114,
    "start_time": "2021-06-22T17:54:07.120Z"
   },
   {
    "duration": 3,
    "start_time": "2021-06-22T17:54:07.237Z"
   },
   {
    "duration": 10,
    "start_time": "2021-06-22T17:54:07.242Z"
   },
   {
    "duration": 24,
    "start_time": "2021-06-22T17:54:07.254Z"
   },
   {
    "duration": 17,
    "start_time": "2021-06-22T17:54:07.281Z"
   },
   {
    "duration": 11,
    "start_time": "2021-06-22T17:54:07.300Z"
   },
   {
    "duration": 14,
    "start_time": "2021-06-22T17:54:07.314Z"
   },
   {
    "duration": 17,
    "start_time": "2021-06-22T17:54:07.330Z"
   },
   {
    "duration": 3,
    "start_time": "2021-06-22T17:54:07.573Z"
   },
   {
    "duration": 242,
    "start_time": "2021-06-22T17:54:07.579Z"
   },
   {
    "duration": 14,
    "start_time": "2021-06-22T17:54:07.824Z"
   },
   {
    "duration": 38,
    "start_time": "2021-06-22T17:54:07.840Z"
   },
   {
    "duration": 29,
    "start_time": "2021-06-22T17:54:07.880Z"
   },
   {
    "duration": 28,
    "start_time": "2021-06-22T17:54:07.911Z"
   },
   {
    "duration": 4,
    "start_time": "2021-06-22T17:54:07.943Z"
   },
   {
    "duration": 62,
    "start_time": "2021-06-22T17:54:07.950Z"
   },
   {
    "duration": 19,
    "start_time": "2021-06-22T17:54:08.014Z"
   },
   {
    "duration": 39,
    "start_time": "2021-06-22T17:54:08.035Z"
   },
   {
    "duration": 105,
    "start_time": "2021-06-22T17:54:08.076Z"
   },
   {
    "duration": 116,
    "start_time": "2021-06-22T17:54:08.183Z"
   },
   {
    "duration": 90,
    "start_time": "2021-06-22T17:54:08.302Z"
   },
   {
    "duration": 71,
    "start_time": "2021-06-22T17:54:08.395Z"
   },
   {
    "duration": 4,
    "start_time": "2021-06-22T17:54:08.468Z"
   },
   {
    "duration": 37,
    "start_time": "2021-06-22T17:54:08.474Z"
   },
   {
    "duration": 60,
    "start_time": "2021-06-22T17:54:08.514Z"
   },
   {
    "duration": 33,
    "start_time": "2021-06-22T17:54:08.576Z"
   },
   {
    "duration": 15,
    "start_time": "2021-06-22T17:54:08.614Z"
   },
   {
    "duration": 7,
    "start_time": "2021-06-22T17:54:08.632Z"
   },
   {
    "duration": 126,
    "start_time": "2021-06-22T17:54:08.642Z"
   },
   {
    "duration": 4,
    "start_time": "2021-06-22T17:54:08.771Z"
   },
   {
    "duration": 10,
    "start_time": "2021-06-22T17:54:08.778Z"
   },
   {
    "duration": 20,
    "start_time": "2021-06-22T17:54:08.791Z"
   },
   {
    "duration": 11,
    "start_time": "2021-06-22T17:54:08.813Z"
   },
   {
    "duration": 20,
    "start_time": "2021-06-22T17:54:08.826Z"
   },
   {
    "duration": 105,
    "start_time": "2021-06-22T17:54:08.849Z"
   },
   {
    "duration": 21,
    "start_time": "2021-06-22T17:54:08.956Z"
   },
   {
    "duration": 30,
    "start_time": "2021-06-22T17:54:08.979Z"
   },
   {
    "duration": 6,
    "start_time": "2021-06-22T17:54:09.011Z"
   },
   {
    "duration": 116,
    "start_time": "2021-06-22T17:54:09.019Z"
   },
   {
    "duration": 3,
    "start_time": "2021-06-22T17:54:09.137Z"
   },
   {
    "duration": 7,
    "start_time": "2021-06-22T17:54:09.142Z"
   },
   {
    "duration": 5,
    "start_time": "2021-06-22T17:54:09.151Z"
   },
   {
    "duration": 15,
    "start_time": "2021-06-22T17:54:09.159Z"
   },
   {
    "duration": 7,
    "start_time": "2021-06-22T17:54:09.176Z"
   },
   {
    "duration": 11,
    "start_time": "2021-06-22T17:54:09.210Z"
   },
   {
    "duration": 14,
    "start_time": "2021-06-22T17:54:09.223Z"
   },
   {
    "duration": 665,
    "start_time": "2022-06-22T11:19:09.387Z"
   },
   {
    "duration": 229,
    "start_time": "2022-06-22T11:19:10.054Z"
   },
   {
    "duration": 15,
    "start_time": "2022-06-22T11:19:10.285Z"
   },
   {
    "duration": 32,
    "start_time": "2022-06-22T11:19:10.301Z"
   },
   {
    "duration": 3,
    "start_time": "2022-06-22T11:19:10.335Z"
   },
   {
    "duration": 23,
    "start_time": "2022-06-22T11:19:10.340Z"
   },
   {
    "duration": 7,
    "start_time": "2022-06-22T11:19:10.365Z"
   },
   {
    "duration": 41,
    "start_time": "2022-06-22T11:19:10.374Z"
   },
   {
    "duration": 16,
    "start_time": "2022-06-22T11:19:10.417Z"
   },
   {
    "duration": 25,
    "start_time": "2022-06-22T11:19:10.435Z"
   },
   {
    "duration": 112,
    "start_time": "2022-06-22T11:19:10.462Z"
   },
   {
    "duration": 127,
    "start_time": "2022-06-22T11:19:10.577Z"
   },
   {
    "duration": 71,
    "start_time": "2022-06-22T11:19:10.705Z"
   },
   {
    "duration": 44,
    "start_time": "2022-06-22T11:19:10.781Z"
   },
   {
    "duration": 3,
    "start_time": "2022-06-22T11:19:10.826Z"
   },
   {
    "duration": 28,
    "start_time": "2022-06-22T11:19:10.831Z"
   },
   {
    "duration": 39,
    "start_time": "2022-06-22T11:19:10.861Z"
   },
   {
    "duration": 10,
    "start_time": "2022-06-22T11:19:10.902Z"
   },
   {
    "duration": 12,
    "start_time": "2022-06-22T11:19:10.914Z"
   },
   {
    "duration": 3,
    "start_time": "2022-06-22T11:19:10.928Z"
   },
   {
    "duration": 69,
    "start_time": "2022-06-22T11:19:10.963Z"
   },
   {
    "duration": 3,
    "start_time": "2022-06-22T11:19:11.034Z"
   },
   {
    "duration": 21,
    "start_time": "2022-06-22T11:19:11.038Z"
   },
   {
    "duration": 10,
    "start_time": "2022-06-22T11:19:11.061Z"
   },
   {
    "duration": 9,
    "start_time": "2022-06-22T11:19:11.073Z"
   },
   {
    "duration": 6,
    "start_time": "2022-06-22T11:19:11.084Z"
   },
   {
    "duration": 77,
    "start_time": "2022-06-22T11:19:11.092Z"
   },
   {
    "duration": 29,
    "start_time": "2022-06-22T11:19:11.171Z"
   },
   {
    "duration": 10,
    "start_time": "2022-06-22T11:19:11.201Z"
   },
   {
    "duration": 4,
    "start_time": "2022-06-22T11:19:11.213Z"
   },
   {
    "duration": 92,
    "start_time": "2022-06-22T11:19:11.218Z"
   },
   {
    "duration": 2,
    "start_time": "2022-06-22T11:19:11.312Z"
   },
   {
    "duration": 7,
    "start_time": "2022-06-22T11:19:11.316Z"
   },
   {
    "duration": 7,
    "start_time": "2022-06-22T11:19:11.324Z"
   },
   {
    "duration": 16,
    "start_time": "2022-06-22T11:19:11.332Z"
   },
   {
    "duration": 18,
    "start_time": "2022-06-22T11:19:11.349Z"
   },
   {
    "duration": 19,
    "start_time": "2022-06-22T11:19:11.370Z"
   },
   {
    "duration": 14,
    "start_time": "2022-06-22T11:19:11.390Z"
   }
  ],
  "colab": {
   "collapsed_sections": [
    "E0vqbgi9ay0H",
    "VUC88oWjTJw2"
   ],
   "name": "yandex_music_project_2021.2.ipynb",
   "provenance": []
  },
  "kernelspec": {
   "display_name": "Python 3 (ipykernel)",
   "language": "python",
   "name": "python3"
  },
  "language_info": {
   "codemirror_mode": {
    "name": "ipython",
    "version": 3
   },
   "file_extension": ".py",
   "mimetype": "text/x-python",
   "name": "python",
   "nbconvert_exporter": "python",
   "pygments_lexer": "ipython3",
   "version": "3.9.5"
  },
  "toc": {
   "base_numbering": 1,
   "nav_menu": {},
   "number_sections": true,
   "sideBar": true,
   "skip_h1_title": true,
   "title_cell": "Table of Contents",
   "title_sidebar": "Contents",
   "toc_cell": false,
   "toc_position": {
    "height": "calc(100% - 180px)",
    "left": "10px",
    "top": "150px",
    "width": "322.391px"
   },
   "toc_section_display": true,
   "toc_window_display": false
  }
 },
 "nbformat": 4,
 "nbformat_minor": 1
}
