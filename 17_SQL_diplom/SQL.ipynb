{
 "cells": [
  {
   "cell_type": "markdown",
   "metadata": {
    "id": "ykDiHRi8tnL9"
   },
   "source": [
    "## Цели исследования"
   ]
  },
  {
   "cell_type": "markdown",
   "metadata": {
    "id": "4lD4_qB8trQb"
   },
   "source": [
    "проанализировать базу данных и  ответить на поставленные вопросы\n",
    "В Базе данных информация о книгах, издательствах, авторах, а также пользовательские обзоры книг. Эти данные помогут сформулировать ценностное предложение для нового продукта."
   ]
  },
  {
   "cell_type": "markdown",
   "metadata": {
    "id": "IvkosJmst4eh"
   },
   "source": [
    "##  Установка подключения к базе"
   ]
  },
  {
   "cell_type": "code",
   "execution_count": 1,
   "metadata": {
    "colab": {
     "base_uri": "https://localhost:8080/"
    },
    "id": "qnkUyTgmsEGe",
    "outputId": "4ba584cc-c126-4d63-9a6f-6bae323e8c7c"
   },
   "outputs": [],
   "source": [
    "# импортируем библиотеки\n",
    "import pandas as pd\n",
    "from sqlalchemy import create_engine\n",
    "# устанавливаем параметры\n",
    "db_config = {'user': 'praktikum_student', # имя пользователя\n",
    "'pwd': 'Sdf4$2;d-d30pp', # пароль\n",
    "'host': 'rc1b-wcoijxj3yxfsf3fs.mdb.yandexcloud.net',\n",
    "'port': 6432, # порт подключения\n",
    "'db': 'data-analyst-final-project-db'} # название базы данных\n",
    "\n",
    "\n",
    "connection_string = 'postgresql://{}:{}@{}:{}/{}'.format(db_config['user'],\n",
    " db_config['pwd'],\n",
    " db_config['host'],\n",
    " db_config['port'],\n",
    " db_config['db'])\n",
    "# сохраняем коннектор\n",
    "engine = create_engine(connection_string, connect_args={'sslmode':'require'}) "
   ]
  },
  {
   "cell_type": "code",
   "execution_count": 2,
   "metadata": {
    "id": "ea_ojtq1tP_7"
   },
   "outputs": [],
   "source": [
    "engine = create_engine(connection_string) "
   ]
  },
  {
   "cell_type": "markdown",
   "metadata": {
    "id": "_qu3xCFCuCQm"
   },
   "source": [
    "## Задача: Исследуйте таблицы — выведите первые строки"
   ]
  },
  {
   "cell_type": "code",
   "execution_count": 3,
   "metadata": {
    "id": "Ux3xbOd1tUC7"
   },
   "outputs": [],
   "source": [
    "query = '''\n",
    "SELECT *\n",
    "FROM books\n",
    "limit (5  )\n",
    "\n",
    "'''"
   ]
  },
  {
   "cell_type": "code",
   "execution_count": 4,
   "metadata": {
    "colab": {
     "base_uri": "https://localhost:8080/",
     "height": 206
    },
    "id": "E93F4nWRsaiH",
    "outputId": "1d5f7f04-10a1-4ec0-ddba-43ca94ee11d4"
   },
   "outputs": [
    {
     "data": {
      "text/html": [
       "<div>\n",
       "<style scoped>\n",
       "    .dataframe tbody tr th:only-of-type {\n",
       "        vertical-align: middle;\n",
       "    }\n",
       "\n",
       "    .dataframe tbody tr th {\n",
       "        vertical-align: top;\n",
       "    }\n",
       "\n",
       "    .dataframe thead th {\n",
       "        text-align: right;\n",
       "    }\n",
       "</style>\n",
       "<table border=\"1\" class=\"dataframe\">\n",
       "  <thead>\n",
       "    <tr style=\"text-align: right;\">\n",
       "      <th></th>\n",
       "      <th>book_id</th>\n",
       "      <th>author_id</th>\n",
       "      <th>title</th>\n",
       "      <th>num_pages</th>\n",
       "      <th>publication_date</th>\n",
       "      <th>publisher_id</th>\n",
       "    </tr>\n",
       "  </thead>\n",
       "  <tbody>\n",
       "    <tr>\n",
       "      <th>0</th>\n",
       "      <td>1</td>\n",
       "      <td>546</td>\n",
       "      <td>'Salem's Lot</td>\n",
       "      <td>594</td>\n",
       "      <td>2005-11-01</td>\n",
       "      <td>93</td>\n",
       "    </tr>\n",
       "    <tr>\n",
       "      <th>1</th>\n",
       "      <td>2</td>\n",
       "      <td>465</td>\n",
       "      <td>1 000 Places to See Before You Die</td>\n",
       "      <td>992</td>\n",
       "      <td>2003-05-22</td>\n",
       "      <td>336</td>\n",
       "    </tr>\n",
       "    <tr>\n",
       "      <th>2</th>\n",
       "      <td>3</td>\n",
       "      <td>407</td>\n",
       "      <td>13 Little Blue Envelopes (Little Blue Envelope...</td>\n",
       "      <td>322</td>\n",
       "      <td>2010-12-21</td>\n",
       "      <td>135</td>\n",
       "    </tr>\n",
       "    <tr>\n",
       "      <th>3</th>\n",
       "      <td>4</td>\n",
       "      <td>82</td>\n",
       "      <td>1491: New Revelations of the Americas Before C...</td>\n",
       "      <td>541</td>\n",
       "      <td>2006-10-10</td>\n",
       "      <td>309</td>\n",
       "    </tr>\n",
       "    <tr>\n",
       "      <th>4</th>\n",
       "      <td>5</td>\n",
       "      <td>125</td>\n",
       "      <td>1776</td>\n",
       "      <td>386</td>\n",
       "      <td>2006-07-04</td>\n",
       "      <td>268</td>\n",
       "    </tr>\n",
       "  </tbody>\n",
       "</table>\n",
       "</div>"
      ],
      "text/plain": [
       "   book_id  author_id                                              title  \\\n",
       "0        1        546                                       'Salem's Lot   \n",
       "1        2        465                 1 000 Places to See Before You Die   \n",
       "2        3        407  13 Little Blue Envelopes (Little Blue Envelope...   \n",
       "3        4         82  1491: New Revelations of the Americas Before C...   \n",
       "4        5        125                                               1776   \n",
       "\n",
       "   num_pages publication_date  publisher_id  \n",
       "0        594       2005-11-01            93  \n",
       "1        992       2003-05-22           336  \n",
       "2        322       2010-12-21           135  \n",
       "3        541       2006-10-10           309  \n",
       "4        386       2006-07-04           268  "
      ]
     },
     "execution_count": 4,
     "metadata": {},
     "output_type": "execute_result"
    }
   ],
   "source": [
    "books_head  = pd.read_sql_query(query, con=engine) \n",
    "books_head"
   ]
  },
  {
   "cell_type": "code",
   "execution_count": 5,
   "metadata": {
    "id": "FL0a5PPIuZXB"
   },
   "outputs": [],
   "source": [
    "query = '''\n",
    "SELECT *\n",
    "FROM authors\n",
    "limit (5  )\n",
    "\n",
    "'''"
   ]
  },
  {
   "cell_type": "code",
   "execution_count": 6,
   "metadata": {
    "colab": {
     "base_uri": "https://localhost:8080/",
     "height": 206
    },
    "id": "RXhdnQKPulmB",
    "outputId": "e4adb31e-55b4-4e3b-c461-ca8d8c63d6c0"
   },
   "outputs": [
    {
     "data": {
      "text/html": [
       "<div>\n",
       "<style scoped>\n",
       "    .dataframe tbody tr th:only-of-type {\n",
       "        vertical-align: middle;\n",
       "    }\n",
       "\n",
       "    .dataframe tbody tr th {\n",
       "        vertical-align: top;\n",
       "    }\n",
       "\n",
       "    .dataframe thead th {\n",
       "        text-align: right;\n",
       "    }\n",
       "</style>\n",
       "<table border=\"1\" class=\"dataframe\">\n",
       "  <thead>\n",
       "    <tr style=\"text-align: right;\">\n",
       "      <th></th>\n",
       "      <th>author_id</th>\n",
       "      <th>author</th>\n",
       "    </tr>\n",
       "  </thead>\n",
       "  <tbody>\n",
       "    <tr>\n",
       "      <th>0</th>\n",
       "      <td>1</td>\n",
       "      <td>A.S. Byatt</td>\n",
       "    </tr>\n",
       "    <tr>\n",
       "      <th>1</th>\n",
       "      <td>2</td>\n",
       "      <td>Aesop/Laura Harris/Laura Gibbs</td>\n",
       "    </tr>\n",
       "    <tr>\n",
       "      <th>2</th>\n",
       "      <td>3</td>\n",
       "      <td>Agatha Christie</td>\n",
       "    </tr>\n",
       "    <tr>\n",
       "      <th>3</th>\n",
       "      <td>4</td>\n",
       "      <td>Alan Brennert</td>\n",
       "    </tr>\n",
       "    <tr>\n",
       "      <th>4</th>\n",
       "      <td>5</td>\n",
       "      <td>Alan Moore/David   Lloyd</td>\n",
       "    </tr>\n",
       "  </tbody>\n",
       "</table>\n",
       "</div>"
      ],
      "text/plain": [
       "   author_id                          author\n",
       "0          1                      A.S. Byatt\n",
       "1          2  Aesop/Laura Harris/Laura Gibbs\n",
       "2          3                 Agatha Christie\n",
       "3          4                   Alan Brennert\n",
       "4          5        Alan Moore/David   Lloyd"
      ]
     },
     "execution_count": 6,
     "metadata": {},
     "output_type": "execute_result"
    }
   ],
   "source": [
    "authors_head  = pd.read_sql_query(query, con=engine) \n",
    "authors_head"
   ]
  },
  {
   "cell_type": "code",
   "execution_count": 7,
   "metadata": {
    "id": "XJyN63v5u6M1"
   },
   "outputs": [],
   "source": [
    "query = '''\n",
    "SELECT *\n",
    "FROM publishers\n",
    "limit (5  )\n",
    "\n",
    "'''"
   ]
  },
  {
   "cell_type": "code",
   "execution_count": 8,
   "metadata": {
    "colab": {
     "base_uri": "https://localhost:8080/",
     "height": 206
    },
    "id": "yeRBB6RXu9Pd",
    "outputId": "ef73e49f-a873-40d0-f6a2-661152141cd4"
   },
   "outputs": [
    {
     "data": {
      "text/html": [
       "<div>\n",
       "<style scoped>\n",
       "    .dataframe tbody tr th:only-of-type {\n",
       "        vertical-align: middle;\n",
       "    }\n",
       "\n",
       "    .dataframe tbody tr th {\n",
       "        vertical-align: top;\n",
       "    }\n",
       "\n",
       "    .dataframe thead th {\n",
       "        text-align: right;\n",
       "    }\n",
       "</style>\n",
       "<table border=\"1\" class=\"dataframe\">\n",
       "  <thead>\n",
       "    <tr style=\"text-align: right;\">\n",
       "      <th></th>\n",
       "      <th>publisher_id</th>\n",
       "      <th>publisher</th>\n",
       "    </tr>\n",
       "  </thead>\n",
       "  <tbody>\n",
       "    <tr>\n",
       "      <th>0</th>\n",
       "      <td>1</td>\n",
       "      <td>Ace</td>\n",
       "    </tr>\n",
       "    <tr>\n",
       "      <th>1</th>\n",
       "      <td>2</td>\n",
       "      <td>Ace Book</td>\n",
       "    </tr>\n",
       "    <tr>\n",
       "      <th>2</th>\n",
       "      <td>3</td>\n",
       "      <td>Ace Books</td>\n",
       "    </tr>\n",
       "    <tr>\n",
       "      <th>3</th>\n",
       "      <td>4</td>\n",
       "      <td>Ace Hardcover</td>\n",
       "    </tr>\n",
       "    <tr>\n",
       "      <th>4</th>\n",
       "      <td>5</td>\n",
       "      <td>Addison Wesley Publishing Company</td>\n",
       "    </tr>\n",
       "  </tbody>\n",
       "</table>\n",
       "</div>"
      ],
      "text/plain": [
       "   publisher_id                          publisher\n",
       "0             1                                Ace\n",
       "1             2                           Ace Book\n",
       "2             3                          Ace Books\n",
       "3             4                      Ace Hardcover\n",
       "4             5  Addison Wesley Publishing Company"
      ]
     },
     "execution_count": 8,
     "metadata": {},
     "output_type": "execute_result"
    }
   ],
   "source": [
    "publishers_head  = pd.read_sql_query(query, con=engine) \n",
    "publishers_head"
   ]
  },
  {
   "cell_type": "code",
   "execution_count": 9,
   "metadata": {
    "id": "AkxqbDqpvDK6"
   },
   "outputs": [],
   "source": [
    "query = '''\n",
    "SELECT *\n",
    "FROM ratings\n",
    "limit (5  )\n",
    "\n",
    "'''"
   ]
  },
  {
   "cell_type": "code",
   "execution_count": 10,
   "metadata": {
    "colab": {
     "base_uri": "https://localhost:8080/",
     "height": 206
    },
    "id": "TzIJBpklvHXK",
    "outputId": "47cffa69-8fda-4bad-ef53-9ff1b8bdbcad"
   },
   "outputs": [
    {
     "data": {
      "text/html": [
       "<div>\n",
       "<style scoped>\n",
       "    .dataframe tbody tr th:only-of-type {\n",
       "        vertical-align: middle;\n",
       "    }\n",
       "\n",
       "    .dataframe tbody tr th {\n",
       "        vertical-align: top;\n",
       "    }\n",
       "\n",
       "    .dataframe thead th {\n",
       "        text-align: right;\n",
       "    }\n",
       "</style>\n",
       "<table border=\"1\" class=\"dataframe\">\n",
       "  <thead>\n",
       "    <tr style=\"text-align: right;\">\n",
       "      <th></th>\n",
       "      <th>rating_id</th>\n",
       "      <th>book_id</th>\n",
       "      <th>username</th>\n",
       "      <th>rating</th>\n",
       "    </tr>\n",
       "  </thead>\n",
       "  <tbody>\n",
       "    <tr>\n",
       "      <th>0</th>\n",
       "      <td>1</td>\n",
       "      <td>1</td>\n",
       "      <td>ryanfranco</td>\n",
       "      <td>4</td>\n",
       "    </tr>\n",
       "    <tr>\n",
       "      <th>1</th>\n",
       "      <td>2</td>\n",
       "      <td>1</td>\n",
       "      <td>grantpatricia</td>\n",
       "      <td>2</td>\n",
       "    </tr>\n",
       "    <tr>\n",
       "      <th>2</th>\n",
       "      <td>3</td>\n",
       "      <td>1</td>\n",
       "      <td>brandtandrea</td>\n",
       "      <td>5</td>\n",
       "    </tr>\n",
       "    <tr>\n",
       "      <th>3</th>\n",
       "      <td>4</td>\n",
       "      <td>2</td>\n",
       "      <td>lorichen</td>\n",
       "      <td>3</td>\n",
       "    </tr>\n",
       "    <tr>\n",
       "      <th>4</th>\n",
       "      <td>5</td>\n",
       "      <td>2</td>\n",
       "      <td>mariokeller</td>\n",
       "      <td>2</td>\n",
       "    </tr>\n",
       "  </tbody>\n",
       "</table>\n",
       "</div>"
      ],
      "text/plain": [
       "   rating_id  book_id       username  rating\n",
       "0          1        1     ryanfranco       4\n",
       "1          2        1  grantpatricia       2\n",
       "2          3        1   brandtandrea       5\n",
       "3          4        2       lorichen       3\n",
       "4          5        2    mariokeller       2"
      ]
     },
     "execution_count": 10,
     "metadata": {},
     "output_type": "execute_result"
    }
   ],
   "source": [
    "ratings_head  = pd.read_sql_query(query, con=engine) \n",
    "ratings_head"
   ]
  },
  {
   "cell_type": "code",
   "execution_count": 11,
   "metadata": {
    "id": "atFQKb-LvQLa"
   },
   "outputs": [],
   "source": [
    "query = '''\n",
    "SELECT *\n",
    "FROM reviews\n",
    "limit (5  )\n",
    "\n",
    "'''"
   ]
  },
  {
   "cell_type": "code",
   "execution_count": 12,
   "metadata": {
    "colab": {
     "base_uri": "https://localhost:8080/",
     "height": 206
    },
    "id": "awJBa9TgvUrj",
    "outputId": "e1752280-5609-4436-fbb9-90ecb05c07d1"
   },
   "outputs": [
    {
     "data": {
      "text/html": [
       "<div>\n",
       "<style scoped>\n",
       "    .dataframe tbody tr th:only-of-type {\n",
       "        vertical-align: middle;\n",
       "    }\n",
       "\n",
       "    .dataframe tbody tr th {\n",
       "        vertical-align: top;\n",
       "    }\n",
       "\n",
       "    .dataframe thead th {\n",
       "        text-align: right;\n",
       "    }\n",
       "</style>\n",
       "<table border=\"1\" class=\"dataframe\">\n",
       "  <thead>\n",
       "    <tr style=\"text-align: right;\">\n",
       "      <th></th>\n",
       "      <th>rating_id</th>\n",
       "      <th>book_id</th>\n",
       "      <th>username</th>\n",
       "      <th>rating</th>\n",
       "    </tr>\n",
       "  </thead>\n",
       "  <tbody>\n",
       "    <tr>\n",
       "      <th>0</th>\n",
       "      <td>1</td>\n",
       "      <td>1</td>\n",
       "      <td>ryanfranco</td>\n",
       "      <td>4</td>\n",
       "    </tr>\n",
       "    <tr>\n",
       "      <th>1</th>\n",
       "      <td>2</td>\n",
       "      <td>1</td>\n",
       "      <td>grantpatricia</td>\n",
       "      <td>2</td>\n",
       "    </tr>\n",
       "    <tr>\n",
       "      <th>2</th>\n",
       "      <td>3</td>\n",
       "      <td>1</td>\n",
       "      <td>brandtandrea</td>\n",
       "      <td>5</td>\n",
       "    </tr>\n",
       "    <tr>\n",
       "      <th>3</th>\n",
       "      <td>4</td>\n",
       "      <td>2</td>\n",
       "      <td>lorichen</td>\n",
       "      <td>3</td>\n",
       "    </tr>\n",
       "    <tr>\n",
       "      <th>4</th>\n",
       "      <td>5</td>\n",
       "      <td>2</td>\n",
       "      <td>mariokeller</td>\n",
       "      <td>2</td>\n",
       "    </tr>\n",
       "  </tbody>\n",
       "</table>\n",
       "</div>"
      ],
      "text/plain": [
       "   rating_id  book_id       username  rating\n",
       "0          1        1     ryanfranco       4\n",
       "1          2        1  grantpatricia       2\n",
       "2          3        1   brandtandrea       5\n",
       "3          4        2       lorichen       3\n",
       "4          5        2    mariokeller       2"
      ]
     },
     "execution_count": 12,
     "metadata": {},
     "output_type": "execute_result"
    }
   ],
   "source": [
    "reviews_head  = pd.read_sql_query(query, con=engine) \n",
    "ratings_head"
   ]
  },
  {
   "cell_type": "markdown",
   "metadata": {
    "id": "Yvsy2UvrvYNz"
   },
   "source": [
    "Вывод: Посмотиели на структуру данных, но лучше всего она представлена на ER - диаграмме"
   ]
  },
  {
   "cell_type": "markdown",
   "metadata": {
    "id": "9vcoMkACvln3"
   },
   "source": [
    "## Задача 1 \n",
    "\n",
    "Посчитайте, сколько книг вышло после 1 января 2000 года;"
   ]
  },
  {
   "cell_type": "code",
   "execution_count": 13,
   "metadata": {
    "id": "PaiEJWKYvped"
   },
   "outputs": [],
   "source": [
    "query = '''\n",
    "SELECT COUNT (book_id)\n",
    "FROM books\n",
    "WHERE publication_date > '2000-01-01'\n",
    "\n",
    "'''"
   ]
  },
  {
   "cell_type": "code",
   "execution_count": 14,
   "metadata": {
    "colab": {
     "base_uri": "https://localhost:8080/",
     "height": 80
    },
    "id": "xN1YOQ0BwDG2",
    "outputId": "36c51ae6-0a5f-4ea2-eb65-b89ffe4600d2"
   },
   "outputs": [
    {
     "data": {
      "text/html": [
       "<div>\n",
       "<style scoped>\n",
       "    .dataframe tbody tr th:only-of-type {\n",
       "        vertical-align: middle;\n",
       "    }\n",
       "\n",
       "    .dataframe tbody tr th {\n",
       "        vertical-align: top;\n",
       "    }\n",
       "\n",
       "    .dataframe thead th {\n",
       "        text-align: right;\n",
       "    }\n",
       "</style>\n",
       "<table border=\"1\" class=\"dataframe\">\n",
       "  <thead>\n",
       "    <tr style=\"text-align: right;\">\n",
       "      <th></th>\n",
       "      <th>count</th>\n",
       "    </tr>\n",
       "  </thead>\n",
       "  <tbody>\n",
       "    <tr>\n",
       "      <th>0</th>\n",
       "      <td>819</td>\n",
       "    </tr>\n",
       "  </tbody>\n",
       "</table>\n",
       "</div>"
      ],
      "text/plain": [
       "   count\n",
       "0    819"
      ]
     },
     "execution_count": 14,
     "metadata": {},
     "output_type": "execute_result"
    }
   ],
   "source": [
    "task_1  = pd.read_sql_query(query, con=engine) \n",
    "task_1\n"
   ]
  },
  {
   "cell_type": "markdown",
   "metadata": {
    "id": "aw4DvwNMwN8A"
   },
   "source": [
    "Вывод: после 1 января 2000 года вышло 819 книг.\n",
    "всего в базе 1000 книги. То есть большая часть книг вышла после 2000 года"
   ]
  },
  {
   "cell_type": "markdown",
   "metadata": {
    "id": "O_nYxinhwWdS"
   },
   "source": [
    "## Задача 2\n",
    "\n",
    "Для каждой книги посчитайте количество обзоров и среднюю оценку;"
   ]
  },
  {
   "cell_type": "code",
   "execution_count": 15,
   "metadata": {
    "id": "G_7I-CZQwzdf"
   },
   "outputs": [],
   "source": [
    "query = '''\n",
    "WITH temple1 AS\n",
    "(SELECT book_id,\n",
    "COUNT(review_id) as reviews_count\n",
    "FROM reviews\n",
    "GROUP BY book_id),\n",
    "\n",
    "\n",
    "temple2 AS\n",
    "(SELECT book_id,\n",
    "ROUND (AVG(rating),2) as avg_rating\n",
    "FROM ratings\n",
    "GROUP BY book_id)\n",
    "\n",
    "SELECT b.title,\n",
    "t1.reviews_count,\n",
    "t2.avg_rating\n",
    "FROM books AS b\n",
    "LEFT JOIN temple1 AS t1 ON b.book_id = t1.book_id\n",
    "LEFT JOIN temple2 AS t2 ON b.book_id = t2.book_id\n",
    "\n",
    "'''"
   ]
  },
  {
   "cell_type": "code",
   "execution_count": 16,
   "metadata": {
    "colab": {
     "base_uri": "https://localhost:8080/",
     "height": 423
    },
    "id": "idQ3wFI5w6xZ",
    "outputId": "398cdd47-1295-49f2-fb56-702f7f3e39da"
   },
   "outputs": [
    {
     "data": {
      "text/html": [
       "<div>\n",
       "<style scoped>\n",
       "    .dataframe tbody tr th:only-of-type {\n",
       "        vertical-align: middle;\n",
       "    }\n",
       "\n",
       "    .dataframe tbody tr th {\n",
       "        vertical-align: top;\n",
       "    }\n",
       "\n",
       "    .dataframe thead th {\n",
       "        text-align: right;\n",
       "    }\n",
       "</style>\n",
       "<table border=\"1\" class=\"dataframe\">\n",
       "  <thead>\n",
       "    <tr style=\"text-align: right;\">\n",
       "      <th></th>\n",
       "      <th>title</th>\n",
       "      <th>reviews_count</th>\n",
       "      <th>avg_rating</th>\n",
       "    </tr>\n",
       "  </thead>\n",
       "  <tbody>\n",
       "    <tr>\n",
       "      <th>0</th>\n",
       "      <td>The Body in the Library (Miss Marple  #3)</td>\n",
       "      <td>2.0</td>\n",
       "      <td>4.50</td>\n",
       "    </tr>\n",
       "    <tr>\n",
       "      <th>1</th>\n",
       "      <td>Galápagos</td>\n",
       "      <td>2.0</td>\n",
       "      <td>4.50</td>\n",
       "    </tr>\n",
       "    <tr>\n",
       "      <th>2</th>\n",
       "      <td>A Tree Grows in Brooklyn</td>\n",
       "      <td>5.0</td>\n",
       "      <td>4.25</td>\n",
       "    </tr>\n",
       "    <tr>\n",
       "      <th>3</th>\n",
       "      <td>Undaunted Courage: The Pioneering First Missio...</td>\n",
       "      <td>2.0</td>\n",
       "      <td>4.00</td>\n",
       "    </tr>\n",
       "    <tr>\n",
       "      <th>4</th>\n",
       "      <td>The Prophet</td>\n",
       "      <td>4.0</td>\n",
       "      <td>4.29</td>\n",
       "    </tr>\n",
       "    <tr>\n",
       "      <th>...</th>\n",
       "      <td>...</td>\n",
       "      <td>...</td>\n",
       "      <td>...</td>\n",
       "    </tr>\n",
       "    <tr>\n",
       "      <th>995</th>\n",
       "      <td>The Cat in the Hat and Other Dr. Seuss Favorites</td>\n",
       "      <td>NaN</td>\n",
       "      <td>5.00</td>\n",
       "    </tr>\n",
       "    <tr>\n",
       "      <th>996</th>\n",
       "      <td>Anne Rice's The Vampire Lestat: A Graphic Novel</td>\n",
       "      <td>NaN</td>\n",
       "      <td>3.67</td>\n",
       "    </tr>\n",
       "    <tr>\n",
       "      <th>997</th>\n",
       "      <td>Essential Tales and Poems</td>\n",
       "      <td>NaN</td>\n",
       "      <td>4.00</td>\n",
       "    </tr>\n",
       "    <tr>\n",
       "      <th>998</th>\n",
       "      <td>Leonardo's Notebooks</td>\n",
       "      <td>NaN</td>\n",
       "      <td>4.00</td>\n",
       "    </tr>\n",
       "    <tr>\n",
       "      <th>999</th>\n",
       "      <td>The Natural Way to Draw</td>\n",
       "      <td>NaN</td>\n",
       "      <td>3.00</td>\n",
       "    </tr>\n",
       "  </tbody>\n",
       "</table>\n",
       "<p>1000 rows × 3 columns</p>\n",
       "</div>"
      ],
      "text/plain": [
       "                                                 title  reviews_count  \\\n",
       "0            The Body in the Library (Miss Marple  #3)            2.0   \n",
       "1                                            Galápagos            2.0   \n",
       "2                             A Tree Grows in Brooklyn            5.0   \n",
       "3    Undaunted Courage: The Pioneering First Missio...            2.0   \n",
       "4                                          The Prophet            4.0   \n",
       "..                                                 ...            ...   \n",
       "995   The Cat in the Hat and Other Dr. Seuss Favorites            NaN   \n",
       "996    Anne Rice's The Vampire Lestat: A Graphic Novel            NaN   \n",
       "997                          Essential Tales and Poems            NaN   \n",
       "998                               Leonardo's Notebooks            NaN   \n",
       "999                            The Natural Way to Draw            NaN   \n",
       "\n",
       "     avg_rating  \n",
       "0          4.50  \n",
       "1          4.50  \n",
       "2          4.25  \n",
       "3          4.00  \n",
       "4          4.29  \n",
       "..          ...  \n",
       "995        5.00  \n",
       "996        3.67  \n",
       "997        4.00  \n",
       "998        4.00  \n",
       "999        3.00  \n",
       "\n",
       "[1000 rows x 3 columns]"
      ]
     },
     "execution_count": 16,
     "metadata": {},
     "output_type": "execute_result"
    }
   ],
   "source": [
    "task_2  = pd.read_sql_query(query, con=engine) \n",
    "task_2\n"
   ]
  },
  {
   "cell_type": "markdown",
   "metadata": {
    "id": "auaHCgBr0R5I"
   },
   "source": [
    "Вывод: Не у всех книг есть обзоры) "
   ]
  },
  {
   "cell_type": "markdown",
   "metadata": {
    "id": "kbnRAqXB0_JB"
   },
   "source": [
    "## Задача 3\n",
    "\n",
    "Определите издательство, которое выпустило наибольшее число книг толще 50 страниц — так вы исключите из анализа брошюры;"
   ]
  },
  {
   "cell_type": "code",
   "execution_count": 17,
   "metadata": {
    "id": "fRzVDQLU1SfY"
   },
   "outputs": [],
   "source": [
    "query = '''\n",
    "SELECT \n",
    "p.publisher,\n",
    "COUNT(b.book_id)\n",
    "\n",
    "\n",
    "FROM books as b\n",
    "LEFT JOIN publishers as p ON b.publisher_id=p.publisher_id\n",
    "WHERE b.num_pages>50\n",
    "GROUP BY p.publisher\n",
    "ORDER BY COUNT(b.book_id) DESC\n",
    "LIMIT (1)\n",
    "'''"
   ]
  },
  {
   "cell_type": "code",
   "execution_count": 18,
   "metadata": {
    "colab": {
     "base_uri": "https://localhost:8080/",
     "height": 80
    },
    "id": "zNuX3I_-1XS5",
    "outputId": "fef9b05c-20b9-4fad-ac3d-0b976a903981"
   },
   "outputs": [
    {
     "data": {
      "text/html": [
       "<div>\n",
       "<style scoped>\n",
       "    .dataframe tbody tr th:only-of-type {\n",
       "        vertical-align: middle;\n",
       "    }\n",
       "\n",
       "    .dataframe tbody tr th {\n",
       "        vertical-align: top;\n",
       "    }\n",
       "\n",
       "    .dataframe thead th {\n",
       "        text-align: right;\n",
       "    }\n",
       "</style>\n",
       "<table border=\"1\" class=\"dataframe\">\n",
       "  <thead>\n",
       "    <tr style=\"text-align: right;\">\n",
       "      <th></th>\n",
       "      <th>publisher</th>\n",
       "      <th>count</th>\n",
       "    </tr>\n",
       "  </thead>\n",
       "  <tbody>\n",
       "    <tr>\n",
       "      <th>0</th>\n",
       "      <td>Penguin Books</td>\n",
       "      <td>42</td>\n",
       "    </tr>\n",
       "  </tbody>\n",
       "</table>\n",
       "</div>"
      ],
      "text/plain": [
       "       publisher  count\n",
       "0  Penguin Books     42"
      ]
     },
     "execution_count": 18,
     "metadata": {},
     "output_type": "execute_result"
    }
   ],
   "source": [
    "task_3  = pd.read_sql_query(query, con=engine) \n",
    "task_3"
   ]
  },
  {
   "cell_type": "markdown",
   "metadata": {
    "id": "2cp9ev3m2_BG"
   },
   "source": [
    "Вывод : Издательство Penguin Books выпустило больше всех книг (более 50 страниц). "
   ]
  },
  {
   "cell_type": "markdown",
   "metadata": {
    "id": "NhV1nWJQ3R-6"
   },
   "source": [
    "## Задача 4\n",
    "\n",
    "Определите автора с самой высокой средней оценкой книг — учитывайте только книги с 50 и более оценками;"
   ]
  },
  {
   "cell_type": "code",
   "execution_count": 19,
   "metadata": {
    "id": "40m9Xlvv3Ygs"
   },
   "outputs": [],
   "source": [
    "query = '''\n",
    "WITH tem1 as \n",
    "(SELECT\n",
    "book_id,\n",
    "COUNT(rating) as count_rating,\n",
    "ROUND (AVG (rating),2)  as avg_rating\n",
    "FROM ratings\n",
    "GROUP BY book_id\n",
    "ORDER BY 2 DESC),\n",
    "\n",
    "tem2 AS\n",
    "\n",
    "(SELECT\n",
    "t1.book_id,\n",
    "r.rating,\n",
    "a.author\n",
    "\n",
    "FROM tem1 as t1\n",
    "LEFT JOIN ratings as r ON t1.book_id = r.book_id\n",
    "LEFT JOIN  books as b ON t1.book_id = b.book_id\n",
    "LEFT JOIN authors as a ON b.author_id = a.author_id\n",
    "\n",
    "WHERE t1.count_rating>=50)\n",
    "\n",
    "\n",
    "SELECT author,\n",
    "AVG(rating)\n",
    "FROM tem2\n",
    "GROUP BY 1 \n",
    "ORDER BY 2 DESC\n",
    "LIMIT (1)\n",
    "\n",
    "'''"
   ]
  },
  {
   "cell_type": "code",
   "execution_count": 20,
   "metadata": {
    "colab": {
     "base_uri": "https://localhost:8080/",
     "height": 80
    },
    "id": "SP2_tVg23sLD",
    "outputId": "e1c66020-24c0-4137-d71f-87cb8c2c9018"
   },
   "outputs": [
    {
     "data": {
      "text/html": [
       "<div>\n",
       "<style scoped>\n",
       "    .dataframe tbody tr th:only-of-type {\n",
       "        vertical-align: middle;\n",
       "    }\n",
       "\n",
       "    .dataframe tbody tr th {\n",
       "        vertical-align: top;\n",
       "    }\n",
       "\n",
       "    .dataframe thead th {\n",
       "        text-align: right;\n",
       "    }\n",
       "</style>\n",
       "<table border=\"1\" class=\"dataframe\">\n",
       "  <thead>\n",
       "    <tr style=\"text-align: right;\">\n",
       "      <th></th>\n",
       "      <th>author</th>\n",
       "      <th>avg</th>\n",
       "    </tr>\n",
       "  </thead>\n",
       "  <tbody>\n",
       "    <tr>\n",
       "      <th>0</th>\n",
       "      <td>J.K. Rowling/Mary GrandPré</td>\n",
       "      <td>4.287097</td>\n",
       "    </tr>\n",
       "  </tbody>\n",
       "</table>\n",
       "</div>"
      ],
      "text/plain": [
       "                       author       avg\n",
       "0  J.K. Rowling/Mary GrandPré  4.287097"
      ]
     },
     "execution_count": 20,
     "metadata": {},
     "output_type": "execute_result"
    }
   ],
   "source": [
    "task_4  = pd.read_sql_query(query, con=engine) \n",
    "task_4"
   ]
  },
  {
   "cell_type": "markdown",
   "metadata": {
    "id": "R7K-lGdp8ksA"
   },
   "source": [
    "Вывод: Автор бестселлеров про Гарри Поттера (ныне отмененная) Джоан Роллинг имеет самые лучшие рейтинги"
   ]
  },
  {
   "cell_type": "code",
   "execution_count": 61,
   "metadata": {},
   "outputs": [],
   "source": [
    "query = '''\n",
    "WITH tem1 as \n",
    "\n",
    "(SELECT\n",
    "book_id,\n",
    "COUNT(rating) as count_rating,\n",
    "AVG (rating)  as avg_rating\n",
    "FROM ratings\n",
    "GROUP BY book_id\n",
    "ORDER BY 2 DESC\n",
    "LIMIT 19), \n",
    "\n",
    "tem2 as \n",
    "\n",
    "\n",
    "(SELECT\n",
    "t1.book_id,\n",
    "t1.avg_rating,\n",
    "a.author\n",
    "\n",
    "FROM tem1 as t1\n",
    "\n",
    "LEFT JOIN  books as b ON t1.book_id = b.book_id\n",
    "LEFT JOIN authors as a ON b.author_id = a.author_id) \n",
    "\n",
    "SELECT author,\n",
    "AVG(avg_rating)\n",
    "FROM tem2\n",
    "GROUP BY 1 \n",
    "ORDER BY 2 DESC\n",
    "LIMIT (1)\n",
    "\n",
    "\n",
    "\n",
    "\n",
    "'''"
   ]
  },
  {
   "cell_type": "code",
   "execution_count": 62,
   "metadata": {},
   "outputs": [
    {
     "data": {
      "text/html": [
       "<div>\n",
       "<style scoped>\n",
       "    .dataframe tbody tr th:only-of-type {\n",
       "        vertical-align: middle;\n",
       "    }\n",
       "\n",
       "    .dataframe tbody tr th {\n",
       "        vertical-align: top;\n",
       "    }\n",
       "\n",
       "    .dataframe thead th {\n",
       "        text-align: right;\n",
       "    }\n",
       "</style>\n",
       "<table border=\"1\" class=\"dataframe\">\n",
       "  <thead>\n",
       "    <tr style=\"text-align: right;\">\n",
       "      <th></th>\n",
       "      <th>author</th>\n",
       "      <th>avg</th>\n",
       "    </tr>\n",
       "  </thead>\n",
       "  <tbody>\n",
       "    <tr>\n",
       "      <th>0</th>\n",
       "      <td>J.K. Rowling/Mary GrandPré</td>\n",
       "      <td>4.283844</td>\n",
       "    </tr>\n",
       "  </tbody>\n",
       "</table>\n",
       "</div>"
      ],
      "text/plain": [
       "                       author       avg\n",
       "0  J.K. Rowling/Mary GrandPré  4.283844"
      ]
     },
     "execution_count": 62,
     "metadata": {},
     "output_type": "execute_result"
    }
   ],
   "source": [
    "task_6  = pd.read_sql_query(query, con=engine) \n",
    "task_6"
   ]
  },
  {
   "cell_type": "markdown",
   "metadata": {
    "id": "pWyP2Lm-84Lk"
   },
   "source": [
    "## Задача 5\n",
    "\n",
    "Посчитайте среднее количество обзоров от пользователей, которые поставили больше 50 оценок."
   ]
  },
  {
   "cell_type": "code",
   "execution_count": 21,
   "metadata": {
    "id": "k1sesXF98xZZ"
   },
   "outputs": [],
   "source": [
    "query = '''\n",
    "SELECT AVG (temple.total_review)\n",
    "\n",
    "FROM \n",
    "(SELECT \n",
    "COUNT(review_id) as total_review\n",
    "\n",
    "FROM reviews\n",
    "WHERE username IN (\n",
    "SELECT \n",
    "username\n",
    "FROM ratings\n",
    "GROUP BY username\n",
    "HAVING COUNT (rating)>50)\n",
    "\n",
    "GROUP BY username) as temple\n",
    "\n",
    "\n",
    "\n",
    "'''"
   ]
  },
  {
   "cell_type": "code",
   "execution_count": 22,
   "metadata": {
    "colab": {
     "base_uri": "https://localhost:8080/",
     "height": 80
    },
    "id": "do6Wla7d9Dar",
    "outputId": "30cec093-fe89-4b8e-8144-b3d6e362d25b"
   },
   "outputs": [
    {
     "data": {
      "text/html": [
       "<div>\n",
       "<style scoped>\n",
       "    .dataframe tbody tr th:only-of-type {\n",
       "        vertical-align: middle;\n",
       "    }\n",
       "\n",
       "    .dataframe tbody tr th {\n",
       "        vertical-align: top;\n",
       "    }\n",
       "\n",
       "    .dataframe thead th {\n",
       "        text-align: right;\n",
       "    }\n",
       "</style>\n",
       "<table border=\"1\" class=\"dataframe\">\n",
       "  <thead>\n",
       "    <tr style=\"text-align: right;\">\n",
       "      <th></th>\n",
       "      <th>avg</th>\n",
       "    </tr>\n",
       "  </thead>\n",
       "  <tbody>\n",
       "    <tr>\n",
       "      <th>0</th>\n",
       "      <td>24.333333</td>\n",
       "    </tr>\n",
       "  </tbody>\n",
       "</table>\n",
       "</div>"
      ],
      "text/plain": [
       "         avg\n",
       "0  24.333333"
      ]
     },
     "execution_count": 22,
     "metadata": {},
     "output_type": "execute_result"
    }
   ],
   "source": [
    "task_5  = pd.read_sql_query(query, con=engine) \n",
    "task_5"
   ]
  },
  {
   "cell_type": "markdown",
   "metadata": {
    "id": "33ZhbZiMCl5B"
   },
   "source": [
    "Вывод: топовые пользователи в среднем пишут по 24 обзора. \n"
   ]
  },
  {
   "cell_type": "markdown",
   "metadata": {},
   "source": [
    "<div class=\"alert alert-info\"> <b>Комментарий студента:</b>  \n",
    "    \n",
    "    Выводы:\n",
    "  В результате нашего мини исследования получили такие результаты: \n",
    "    \n",
    "    1. после 1 января 2000 года вышло 819 книг. всего в базе 1000 книги. То есть большая часть книг вышла после 2000 года\n",
    "    2. Посчитала среднее количество обзоров  и среднюю оценку для каждой книги. Вывод -  не у всех книг есть обзоры \n",
    "    3. Определили издательство, выпустившее наибольшее число книг толще 50 страниц  - это издательство Penguin Books \n",
    "    4. Нашли автора  с самой высокой средней оценкой книг. - бестселлеров 9то есть тех книг, где больше 50 оценок) Это J.K. Rowling\n",
    "    5.Посчитала среднее количество обзоров от пользователей, которые поставили больше 50 оценок. Среднее количество обзоров от топовых пользователей - 24 обзора) "
   ]
  }
 ],
 "metadata": {
  "ExecuteTimeLog": [
   {
    "duration": 529,
    "start_time": "2022-06-11T08:27:43.156Z"
   },
   {
    "duration": 3,
    "start_time": "2022-06-11T08:27:43.687Z"
   },
   {
    "duration": 8,
    "start_time": "2022-06-11T08:27:43.692Z"
   },
   {
    "duration": 215,
    "start_time": "2022-06-11T08:27:43.701Z"
   },
   {
    "duration": 2,
    "start_time": "2022-06-11T08:27:43.918Z"
   },
   {
    "duration": 61,
    "start_time": "2022-06-11T08:27:43.922Z"
   },
   {
    "duration": 3,
    "start_time": "2022-06-11T08:27:43.984Z"
   },
   {
    "duration": 52,
    "start_time": "2022-06-11T08:27:43.988Z"
   },
   {
    "duration": 3,
    "start_time": "2022-06-11T08:27:44.041Z"
   },
   {
    "duration": 42,
    "start_time": "2022-06-11T08:27:44.045Z"
   },
   {
    "duration": 3,
    "start_time": "2022-06-11T08:27:44.088Z"
   },
   {
    "duration": 58,
    "start_time": "2022-06-11T08:27:44.092Z"
   },
   {
    "duration": 3,
    "start_time": "2022-06-11T08:27:44.152Z"
   },
   {
    "duration": 56,
    "start_time": "2022-06-11T08:27:44.157Z"
   },
   {
    "duration": 2,
    "start_time": "2022-06-11T08:27:44.215Z"
   },
   {
    "duration": 104,
    "start_time": "2022-06-11T08:27:44.219Z"
   },
   {
    "duration": 6,
    "start_time": "2022-06-11T08:27:44.325Z"
   },
   {
    "duration": 78,
    "start_time": "2022-06-11T08:27:44.332Z"
   },
   {
    "duration": 3,
    "start_time": "2022-06-11T08:27:44.411Z"
   },
   {
    "duration": 63,
    "start_time": "2022-06-11T08:27:44.415Z"
   },
   {
    "duration": 3,
    "start_time": "2022-06-11T08:27:44.479Z"
   },
   {
    "duration": 65,
    "start_time": "2022-06-11T08:27:44.483Z"
   },
   {
    "duration": 509,
    "start_time": "2022-06-11T11:46:15.455Z"
   },
   {
    "duration": 3,
    "start_time": "2022-06-11T11:46:15.966Z"
   },
   {
    "duration": 5,
    "start_time": "2022-06-11T11:46:15.971Z"
   },
   {
    "duration": 227,
    "start_time": "2022-06-11T11:46:15.978Z"
   },
   {
    "duration": 3,
    "start_time": "2022-06-11T11:46:16.207Z"
   },
   {
    "duration": 49,
    "start_time": "2022-06-11T11:46:16.212Z"
   },
   {
    "duration": 3,
    "start_time": "2022-06-11T11:46:16.263Z"
   },
   {
    "duration": 46,
    "start_time": "2022-06-11T11:46:16.268Z"
   },
   {
    "duration": 3,
    "start_time": "2022-06-11T11:46:16.317Z"
   },
   {
    "duration": 48,
    "start_time": "2022-06-11T11:46:16.323Z"
   },
   {
    "duration": 6,
    "start_time": "2022-06-11T11:46:16.373Z"
   },
   {
    "duration": 49,
    "start_time": "2022-06-11T11:46:16.383Z"
   },
   {
    "duration": 3,
    "start_time": "2022-06-11T11:46:16.434Z"
   },
   {
    "duration": 56,
    "start_time": "2022-06-11T11:46:16.439Z"
   },
   {
    "duration": 3,
    "start_time": "2022-06-11T11:46:16.497Z"
   },
   {
    "duration": 69,
    "start_time": "2022-06-11T11:46:16.502Z"
   },
   {
    "duration": 2,
    "start_time": "2022-06-11T11:46:16.573Z"
   },
   {
    "duration": 44,
    "start_time": "2022-06-11T11:46:16.577Z"
   },
   {
    "duration": 3,
    "start_time": "2022-06-11T11:46:16.622Z"
   },
   {
    "duration": 45,
    "start_time": "2022-06-11T11:46:16.626Z"
   },
   {
    "duration": 3,
    "start_time": "2022-06-11T11:46:16.673Z"
   },
   {
    "duration": 44,
    "start_time": "2022-06-11T11:46:16.677Z"
   },
   {
    "duration": 3,
    "start_time": "2022-06-11T11:47:30.190Z"
   },
   {
    "duration": 56,
    "start_time": "2022-06-11T11:47:47.318Z"
   },
   {
    "duration": 3,
    "start_time": "2022-06-11T11:49:16.562Z"
   },
   {
    "duration": 159,
    "start_time": "2022-06-11T11:49:20.663Z"
   },
   {
    "duration": 3,
    "start_time": "2022-06-11T11:49:31.511Z"
   },
   {
    "duration": 50,
    "start_time": "2022-06-11T11:49:33.455Z"
   },
   {
    "duration": 3,
    "start_time": "2022-06-11T11:51:22.462Z"
   },
   {
    "duration": 58,
    "start_time": "2022-06-11T11:51:23.247Z"
   },
   {
    "duration": 3,
    "start_time": "2022-06-11T11:52:14.450Z"
   },
   {
    "duration": 53,
    "start_time": "2022-06-11T11:52:15.322Z"
   },
   {
    "duration": 4,
    "start_time": "2022-06-11T11:52:37.847Z"
   },
   {
    "duration": 43,
    "start_time": "2022-06-11T11:52:38.472Z"
   },
   {
    "duration": 3,
    "start_time": "2022-06-11T11:52:46.082Z"
   },
   {
    "duration": 54,
    "start_time": "2022-06-11T11:52:47.515Z"
   },
   {
    "duration": 4,
    "start_time": "2022-06-11T11:59:17.378Z"
   },
   {
    "duration": 71,
    "start_time": "2022-06-11T11:59:18.203Z"
   },
   {
    "duration": 3,
    "start_time": "2022-06-11T11:59:24.533Z"
   },
   {
    "duration": 70,
    "start_time": "2022-06-11T11:59:25.067Z"
   },
   {
    "duration": 3,
    "start_time": "2022-06-11T12:00:07.358Z"
   },
   {
    "duration": 65,
    "start_time": "2022-06-11T12:00:07.963Z"
   },
   {
    "duration": 3,
    "start_time": "2022-06-11T12:00:33.707Z"
   },
   {
    "duration": 78,
    "start_time": "2022-06-11T12:00:34.538Z"
   },
   {
    "duration": 3,
    "start_time": "2022-06-11T12:01:07.648Z"
   },
   {
    "duration": 51,
    "start_time": "2022-06-11T12:01:08.240Z"
   },
   {
    "duration": 4,
    "start_time": "2022-06-11T12:01:50.521Z"
   },
   {
    "duration": 98,
    "start_time": "2022-06-11T12:01:51.169Z"
   },
   {
    "duration": 3,
    "start_time": "2022-06-11T12:02:00.682Z"
   },
   {
    "duration": 48,
    "start_time": "2022-06-11T12:02:01.259Z"
   },
   {
    "duration": 3,
    "start_time": "2022-06-11T12:02:39.919Z"
   },
   {
    "duration": 61,
    "start_time": "2022-06-11T12:02:41.504Z"
   },
   {
    "duration": 3,
    "start_time": "2022-06-11T12:03:08.120Z"
   },
   {
    "duration": 65,
    "start_time": "2022-06-11T12:03:08.700Z"
   },
   {
    "duration": 2,
    "start_time": "2022-06-11T12:03:34.180Z"
   },
   {
    "duration": 45,
    "start_time": "2022-06-11T12:03:34.907Z"
   },
   {
    "duration": 3,
    "start_time": "2022-06-11T12:03:38.839Z"
   },
   {
    "duration": 40,
    "start_time": "2022-06-11T12:03:39.781Z"
   },
   {
    "duration": 5,
    "start_time": "2022-06-11T12:04:07.234Z"
   },
   {
    "duration": 39,
    "start_time": "2022-06-11T12:04:07.795Z"
   },
   {
    "duration": 3,
    "start_time": "2022-06-11T12:08:32.851Z"
   },
   {
    "duration": 39,
    "start_time": "2022-06-11T12:08:33.551Z"
   }
  ],
  "colab": {
   "name": "SQL_diplom.ipynb",
   "provenance": [],
   "toc_visible": true
  },
  "kernelspec": {
   "display_name": "Python 3 (ipykernel)",
   "language": "python",
   "name": "python3"
  },
  "language_info": {
   "codemirror_mode": {
    "name": "ipython",
    "version": 3
   },
   "file_extension": ".py",
   "mimetype": "text/x-python",
   "name": "python",
   "nbconvert_exporter": "python",
   "pygments_lexer": "ipython3",
   "version": "3.9.5"
  },
  "toc": {
   "base_numbering": 1,
   "nav_menu": {},
   "number_sections": true,
   "sideBar": true,
   "skip_h1_title": true,
   "title_cell": "Table of Contents",
   "title_sidebar": "Contents",
   "toc_cell": false,
   "toc_position": {},
   "toc_section_display": true,
   "toc_window_display": false
  }
 },
 "nbformat": 4,
 "nbformat_minor": 1
}
