{
 "cells": [
  {
   "cell_type": "markdown",
   "metadata": {},
   "source": [
    "# Исследование Робокафе"
   ]
  },
  {
   "cell_type": "markdown",
   "metadata": {},
   "source": [
    "Шаг №1. Загрузите данные и подготовьте их к анализу"
   ]
  },
  {
   "cell_type": "code",
   "execution_count": 2,
   "metadata": {},
   "outputs": [
    {
     "name": "stdout",
     "output_type": "stream",
     "text": [
      "<class 'pandas.core.frame.DataFrame'>\n",
      "RangeIndex: 15366 entries, 0 to 15365\n",
      "Data columns (total 6 columns):\n",
      "id             15366 non-null int64\n",
      "object_name    15366 non-null object\n",
      "chain          15366 non-null object\n",
      "object_type    15366 non-null object\n",
      "address        15366 non-null object\n",
      "number         15366 non-null int64\n",
      "dtypes: int64(2), object(4)\n",
      "memory usage: 720.4+ KB\n"
     ]
    }
   ],
   "source": [
    "import pandas as pd\n",
    "import seaborn as sns\n",
    "import matplotlib.pyplot as plt\n",
    "\n",
    "data=pd.read_csv('/datasets/rest_data.csv')\n",
    "\n",
    "data.info()"
   ]
  },
  {
   "cell_type": "markdown",
   "metadata": {},
   "source": [
    " Итак, в нашем датасете 15 366 строк - достаточный объем для анализа\n",
    " пропущенных значений нет\n",
    " посмотрим на типы данных и решим что нужно поменять или нет\n",
    " и посмотрим что с дубликатами\n",
    " предполагаю.что дубликаты могут быть с графе 'object_name'"
   ]
  },
  {
   "cell_type": "code",
   "execution_count": 3,
   "metadata": {},
   "outputs": [
    {
     "data": {
      "text/html": [
       "<div>\n",
       "<style scoped>\n",
       "    .dataframe tbody tr th:only-of-type {\n",
       "        vertical-align: middle;\n",
       "    }\n",
       "\n",
       "    .dataframe tbody tr th {\n",
       "        vertical-align: top;\n",
       "    }\n",
       "\n",
       "    .dataframe thead th {\n",
       "        text-align: right;\n",
       "    }\n",
       "</style>\n",
       "<table border=\"1\" class=\"dataframe\">\n",
       "  <thead>\n",
       "    <tr style=\"text-align: right;\">\n",
       "      <th></th>\n",
       "      <th>id</th>\n",
       "      <th>object_name</th>\n",
       "      <th>chain</th>\n",
       "      <th>object_type</th>\n",
       "      <th>address</th>\n",
       "      <th>number</th>\n",
       "    </tr>\n",
       "  </thead>\n",
       "  <tbody>\n",
       "    <tr>\n",
       "      <td>0</td>\n",
       "      <td>151635</td>\n",
       "      <td>СМЕТАНА</td>\n",
       "      <td>нет</td>\n",
       "      <td>кафе</td>\n",
       "      <td>город Москва, улица Егора Абакумова, дом 9</td>\n",
       "      <td>48</td>\n",
       "    </tr>\n",
       "    <tr>\n",
       "      <td>1</td>\n",
       "      <td>77874</td>\n",
       "      <td>Родник</td>\n",
       "      <td>нет</td>\n",
       "      <td>кафе</td>\n",
       "      <td>город Москва, улица Талалихина, дом 2/1, корпус 1</td>\n",
       "      <td>35</td>\n",
       "    </tr>\n",
       "    <tr>\n",
       "      <td>2</td>\n",
       "      <td>24309</td>\n",
       "      <td>Кафе «Академия»</td>\n",
       "      <td>нет</td>\n",
       "      <td>кафе</td>\n",
       "      <td>город Москва, Абельмановская улица, дом 6</td>\n",
       "      <td>95</td>\n",
       "    </tr>\n",
       "    <tr>\n",
       "      <td>3</td>\n",
       "      <td>21894</td>\n",
       "      <td>ПИЦЦЕТОРИЯ</td>\n",
       "      <td>да</td>\n",
       "      <td>кафе</td>\n",
       "      <td>город Москва, Абрамцевская улица, дом 1</td>\n",
       "      <td>40</td>\n",
       "    </tr>\n",
       "    <tr>\n",
       "      <td>4</td>\n",
       "      <td>119365</td>\n",
       "      <td>Кафе «Вишневая метель»</td>\n",
       "      <td>нет</td>\n",
       "      <td>кафе</td>\n",
       "      <td>город Москва, Абрамцевская улица, дом 9, корпус 1</td>\n",
       "      <td>50</td>\n",
       "    </tr>\n",
       "  </tbody>\n",
       "</table>\n",
       "</div>"
      ],
      "text/plain": [
       "       id             object_name chain object_type  \\\n",
       "0  151635                 СМЕТАНА   нет        кафе   \n",
       "1   77874                  Родник   нет        кафе   \n",
       "2   24309         Кафе «Академия»   нет        кафе   \n",
       "3   21894              ПИЦЦЕТОРИЯ    да        кафе   \n",
       "4  119365  Кафе «Вишневая метель»   нет        кафе   \n",
       "\n",
       "                                             address  number  \n",
       "0         город Москва, улица Егора Абакумова, дом 9      48  \n",
       "1  город Москва, улица Талалихина, дом 2/1, корпус 1      35  \n",
       "2          город Москва, Абельмановская улица, дом 6      95  \n",
       "3            город Москва, Абрамцевская улица, дом 1      40  \n",
       "4  город Москва, Абрамцевская улица, дом 9, корпус 1      50  "
      ]
     },
     "execution_count": 3,
     "metadata": {},
     "output_type": "execute_result"
    }
   ],
   "source": [
    "data.head()\n"
   ]
  },
  {
   "cell_type": "markdown",
   "metadata": {},
   "source": [
    "Вывод-  полных дубликатов нет. Данные готовы к анализу"
   ]
  },
  {
   "cell_type": "code",
   "execution_count": 5,
   "metadata": {},
   "outputs": [
    {
     "data": {
      "text/plain": [
       "0                   сметана\n",
       "1                    родник\n",
       "2           кафе «академия»\n",
       "3                пиццетория\n",
       "4    кафе «вишневая метель»\n",
       "Name: object_name, dtype: object"
      ]
     },
     "execution_count": 5,
     "metadata": {},
     "output_type": "execute_result"
    }
   ],
   "source": [
    "data['object_name']=data['object_name'].str.lower()\n",
    "data['object_name'].head()"
   ]
  },
  {
   "cell_type": "code",
   "execution_count": 7,
   "metadata": {},
   "outputs": [
    {
     "data": {
      "text/plain": [
       "85"
      ]
     },
     "execution_count": 7,
     "metadata": {},
     "output_type": "execute_result"
    }
   ],
   "source": [
    "#Попробуем поискать дубликаты без id (сделаем запасную табдлицу без жтого столбца)\n",
    "\n",
    "data1=data[['object_name','chain','object_type','address','number']]\n",
    "data1.duplicated().sum()\n"
   ]
  },
  {
   "cell_type": "code",
   "execution_count": 8,
   "metadata": {},
   "outputs": [
    {
     "name": "stdout",
     "output_type": "stream",
     "text": [
      "<class 'pandas.core.frame.DataFrame'>\n",
      "Int64Index: 15281 entries, 0 to 15365\n",
      "Data columns (total 5 columns):\n",
      "object_name    15281 non-null object\n",
      "chain          15281 non-null object\n",
      "object_type    15281 non-null object\n",
      "address        15281 non-null object\n",
      "number         15281 non-null int64\n",
      "dtypes: int64(1), object(4)\n",
      "memory usage: 716.3+ KB\n"
     ]
    }
   ],
   "source": [
    "data1=data1.drop_duplicates()\n",
    "data1.info()\n",
    "data=data1"
   ]
  },
  {
   "cell_type": "code",
   "execution_count": 9,
   "metadata": {},
   "outputs": [
    {
     "data": {
      "text/html": [
       "<div>\n",
       "<style scoped>\n",
       "    .dataframe tbody tr th:only-of-type {\n",
       "        vertical-align: middle;\n",
       "    }\n",
       "\n",
       "    .dataframe tbody tr th {\n",
       "        vertical-align: top;\n",
       "    }\n",
       "\n",
       "    .dataframe thead th {\n",
       "        text-align: right;\n",
       "    }\n",
       "</style>\n",
       "<table border=\"1\" class=\"dataframe\">\n",
       "  <thead>\n",
       "    <tr style=\"text-align: right;\">\n",
       "      <th></th>\n",
       "      <th>object_name</th>\n",
       "      <th>chain</th>\n",
       "      <th>object_type</th>\n",
       "      <th>address</th>\n",
       "      <th>number</th>\n",
       "    </tr>\n",
       "  </thead>\n",
       "  <tbody>\n",
       "    <tr>\n",
       "      <td>12723</td>\n",
       "      <td>arena by soho family</td>\n",
       "      <td>нет</td>\n",
       "      <td>бар</td>\n",
       "      <td>город Москва, Кутузовский проспект, дом 36, ст...</td>\n",
       "      <td>1700</td>\n",
       "    </tr>\n",
       "    <tr>\n",
       "      <td>8148</td>\n",
       "      <td>банкетный зал шелк</td>\n",
       "      <td>нет</td>\n",
       "      <td>ресторан</td>\n",
       "      <td>город Москва, Большой Саввинский переулок, дом...</td>\n",
       "      <td>1500</td>\n",
       "    </tr>\n",
       "    <tr>\n",
       "      <td>8345</td>\n",
       "      <td>столовая-буфет</td>\n",
       "      <td>нет</td>\n",
       "      <td>столовая</td>\n",
       "      <td>город Москва, улица Волхонка, дом 15</td>\n",
       "      <td>1400</td>\n",
       "    </tr>\n",
       "    <tr>\n",
       "      <td>9064</td>\n",
       "      <td>комбинат питания «управление академсервис»</td>\n",
       "      <td>нет</td>\n",
       "      <td>столовая</td>\n",
       "      <td>город Москва, проспект Вернадского, дом 84, ст...</td>\n",
       "      <td>1288</td>\n",
       "    </tr>\n",
       "    <tr>\n",
       "      <td>4480</td>\n",
       "      <td>рум сервис</td>\n",
       "      <td>нет</td>\n",
       "      <td>ресторан</td>\n",
       "      <td>город Москва, Кутузовский проспект, дом 2/1, с...</td>\n",
       "      <td>1200</td>\n",
       "    </tr>\n",
       "    <tr>\n",
       "      <td>3686</td>\n",
       "      <td>рум сервис</td>\n",
       "      <td>нет</td>\n",
       "      <td>ресторан</td>\n",
       "      <td>город Москва, площадь Европы, дом 2</td>\n",
       "      <td>1200</td>\n",
       "    </tr>\n",
       "    <tr>\n",
       "      <td>2313</td>\n",
       "      <td>ресторан «альфа»</td>\n",
       "      <td>нет</td>\n",
       "      <td>ресторан</td>\n",
       "      <td>город Москва, Измайловское шоссе, дом 71, корп...</td>\n",
       "      <td>1040</td>\n",
       "    </tr>\n",
       "    <tr>\n",
       "      <td>9955</td>\n",
       "      <td>eataly</td>\n",
       "      <td>нет</td>\n",
       "      <td>ресторан</td>\n",
       "      <td>город Москва, Киевская улица, дом 2</td>\n",
       "      <td>920</td>\n",
       "    </tr>\n",
       "    <tr>\n",
       "      <td>5649</td>\n",
       "      <td>столовая московский гуманитарный университет</td>\n",
       "      <td>нет</td>\n",
       "      <td>столовая</td>\n",
       "      <td>город Москва, улица Юности, дом 5, строение 1</td>\n",
       "      <td>760</td>\n",
       "    </tr>\n",
       "    <tr>\n",
       "      <td>13299</td>\n",
       "      <td>white hall</td>\n",
       "      <td>нет</td>\n",
       "      <td>ресторан</td>\n",
       "      <td>город Москва, Ферганская улица, дом 8</td>\n",
       "      <td>700</td>\n",
       "    </tr>\n",
       "    <tr>\n",
       "      <td>4110</td>\n",
       "      <td>столовая</td>\n",
       "      <td>нет</td>\n",
       "      <td>столовая</td>\n",
       "      <td>город Москва, Каширское шоссе, дом 31</td>\n",
       "      <td>680</td>\n",
       "    </tr>\n",
       "    <tr>\n",
       "      <td>7280</td>\n",
       "      <td>ресторан «шахин шах»</td>\n",
       "      <td>нет</td>\n",
       "      <td>ресторан</td>\n",
       "      <td>город Москва, улица Маршала Захарова, дом 6, к...</td>\n",
       "      <td>675</td>\n",
       "    </tr>\n",
       "    <tr>\n",
       "      <td>2317</td>\n",
       "      <td>ресторан «бета»</td>\n",
       "      <td>нет</td>\n",
       "      <td>ресторан</td>\n",
       "      <td>город Москва, Измайловское шоссе, дом 71, корп...</td>\n",
       "      <td>660</td>\n",
       "    </tr>\n",
       "    <tr>\n",
       "      <td>7807</td>\n",
       "      <td>стамбул</td>\n",
       "      <td>нет</td>\n",
       "      <td>ресторан</td>\n",
       "      <td>город Москва, улица Скульптора Мухиной, дом 11</td>\n",
       "      <td>650</td>\n",
       "    </tr>\n",
       "    <tr>\n",
       "      <td>3401</td>\n",
       "      <td>дурдинъ</td>\n",
       "      <td>нет</td>\n",
       "      <td>ресторан</td>\n",
       "      <td>город Москва, Мичуринский проспект, дом 8, стр...</td>\n",
       "      <td>650</td>\n",
       "    </tr>\n",
       "    <tr>\n",
       "      <td>6077</td>\n",
       "      <td>столовая 16 при рудн</td>\n",
       "      <td>нет</td>\n",
       "      <td>столовая</td>\n",
       "      <td>город Москва, улица Миклухо-Маклая, дом 6</td>\n",
       "      <td>644</td>\n",
       "    </tr>\n",
       "    <tr>\n",
       "      <td>7104</td>\n",
       "      <td>банкетный</td>\n",
       "      <td>нет</td>\n",
       "      <td>ресторан</td>\n",
       "      <td>город Москва, Ленинградский проспект, дом 31А,...</td>\n",
       "      <td>625</td>\n",
       "    </tr>\n",
       "    <tr>\n",
       "      <td>14155</td>\n",
       "      <td>столовая мит</td>\n",
       "      <td>нет</td>\n",
       "      <td>столовая</td>\n",
       "      <td>город Москва, Берёзовая аллея, дом 10, корпус 1</td>\n",
       "      <td>600</td>\n",
       "    </tr>\n",
       "    <tr>\n",
       "      <td>6083</td>\n",
       "      <td>зал наполеон</td>\n",
       "      <td>нет</td>\n",
       "      <td>ресторан</td>\n",
       "      <td>город Москва, улица Гарибальди, дом 1А</td>\n",
       "      <td>600</td>\n",
       "    </tr>\n",
       "    <tr>\n",
       "      <td>5666</td>\n",
       "      <td>ресторан мой двор</td>\n",
       "      <td>нет</td>\n",
       "      <td>ресторан</td>\n",
       "      <td>город Москва, улица Сталеваров, дом 3Л</td>\n",
       "      <td>585</td>\n",
       "    </tr>\n",
       "  </tbody>\n",
       "</table>\n",
       "</div>"
      ],
      "text/plain": [
       "                                        object_name chain object_type  \\\n",
       "12723                          arena by soho family   нет         бар   \n",
       "8148                             банкетный зал шелк   нет    ресторан   \n",
       "8345                                 столовая-буфет   нет    столовая   \n",
       "9064     комбинат питания «управление академсервис»   нет    столовая   \n",
       "4480                                     рум сервис   нет    ресторан   \n",
       "3686                                     рум сервис   нет    ресторан   \n",
       "2313                               ресторан «альфа»   нет    ресторан   \n",
       "9955                                         eataly   нет    ресторан   \n",
       "5649   столовая московский гуманитарный университет   нет    столовая   \n",
       "13299                                    white hall   нет    ресторан   \n",
       "4110                                       столовая   нет    столовая   \n",
       "7280                           ресторан «шахин шах»   нет    ресторан   \n",
       "2317                                ресторан «бета»   нет    ресторан   \n",
       "7807                                        стамбул   нет    ресторан   \n",
       "3401                                        дурдинъ   нет    ресторан   \n",
       "6077                           столовая 16 при рудн   нет    столовая   \n",
       "7104                                      банкетный   нет    ресторан   \n",
       "14155                                  столовая мит   нет    столовая   \n",
       "6083                                   зал наполеон   нет    ресторан   \n",
       "5666                              ресторан мой двор   нет    ресторан   \n",
       "\n",
       "                                                 address  number  \n",
       "12723  город Москва, Кутузовский проспект, дом 36, ст...    1700  \n",
       "8148   город Москва, Большой Саввинский переулок, дом...    1500  \n",
       "8345                город Москва, улица Волхонка, дом 15    1400  \n",
       "9064   город Москва, проспект Вернадского, дом 84, ст...    1288  \n",
       "4480   город Москва, Кутузовский проспект, дом 2/1, с...    1200  \n",
       "3686                 город Москва, площадь Европы, дом 2    1200  \n",
       "2313   город Москва, Измайловское шоссе, дом 71, корп...    1040  \n",
       "9955                 город Москва, Киевская улица, дом 2     920  \n",
       "5649       город Москва, улица Юности, дом 5, строение 1     760  \n",
       "13299              город Москва, Ферганская улица, дом 8     700  \n",
       "4110               город Москва, Каширское шоссе, дом 31     680  \n",
       "7280   город Москва, улица Маршала Захарова, дом 6, к...     675  \n",
       "2317   город Москва, Измайловское шоссе, дом 71, корп...     660  \n",
       "7807      город Москва, улица Скульптора Мухиной, дом 11     650  \n",
       "3401   город Москва, Мичуринский проспект, дом 8, стр...     650  \n",
       "6077           город Москва, улица Миклухо-Маклая, дом 6     644  \n",
       "7104   город Москва, Ленинградский проспект, дом 31А,...     625  \n",
       "14155    город Москва, Берёзовая аллея, дом 10, корпус 1     600  \n",
       "6083              город Москва, улица Гарибальди, дом 1А     600  \n",
       "5666              город Москва, улица Сталеваров, дом 3Л     585  "
      ]
     },
     "execution_count": 9,
     "metadata": {},
     "output_type": "execute_result"
    }
   ],
   "source": [
    "data.sort_values('number', ascending=False).head(20)"
   ]
  },
  {
   "cell_type": "markdown",
   "metadata": {},
   "source": [
    "# Анализ данных"
   ]
  },
  {
   "cell_type": "markdown",
   "metadata": {},
   "source": [
    "Исследуйте соотношение видов объектов общественного питания по количеству. Постройте график.\n"
   ]
  },
  {
   "cell_type": "code",
   "execution_count": 10,
   "metadata": {},
   "outputs": [
    {
     "data": {
      "text/html": [
       "<div>\n",
       "<style scoped>\n",
       "    .dataframe tbody tr th:only-of-type {\n",
       "        vertical-align: middle;\n",
       "    }\n",
       "\n",
       "    .dataframe tbody tr th {\n",
       "        vertical-align: top;\n",
       "    }\n",
       "\n",
       "    .dataframe thead th {\n",
       "        text-align: right;\n",
       "    }\n",
       "</style>\n",
       "<table border=\"1\" class=\"dataframe\">\n",
       "  <thead>\n",
       "    <tr style=\"text-align: right;\">\n",
       "      <th></th>\n",
       "      <th>number</th>\n",
       "      <th>share</th>\n",
       "    </tr>\n",
       "    <tr>\n",
       "      <th>object_type</th>\n",
       "      <th></th>\n",
       "      <th></th>\n",
       "    </tr>\n",
       "  </thead>\n",
       "  <tbody>\n",
       "    <tr>\n",
       "      <td>кафе</td>\n",
       "      <td>6071</td>\n",
       "      <td>39.729075</td>\n",
       "    </tr>\n",
       "    <tr>\n",
       "      <td>столовая</td>\n",
       "      <td>2584</td>\n",
       "      <td>16.909888</td>\n",
       "    </tr>\n",
       "    <tr>\n",
       "      <td>ресторан</td>\n",
       "      <td>2282</td>\n",
       "      <td>14.933578</td>\n",
       "    </tr>\n",
       "    <tr>\n",
       "      <td>предприятие быстрого обслуживания</td>\n",
       "      <td>1897</td>\n",
       "      <td>12.414109</td>\n",
       "    </tr>\n",
       "    <tr>\n",
       "      <td>бар</td>\n",
       "      <td>855</td>\n",
       "      <td>5.595184</td>\n",
       "    </tr>\n",
       "    <tr>\n",
       "      <td>буфет</td>\n",
       "      <td>576</td>\n",
       "      <td>3.769387</td>\n",
       "    </tr>\n",
       "    <tr>\n",
       "      <td>кафетерий</td>\n",
       "      <td>395</td>\n",
       "      <td>2.584909</td>\n",
       "    </tr>\n",
       "    <tr>\n",
       "      <td>закусочная</td>\n",
       "      <td>348</td>\n",
       "      <td>2.277338</td>\n",
       "    </tr>\n",
       "    <tr>\n",
       "      <td>магазин (отдел кулинарии)</td>\n",
       "      <td>273</td>\n",
       "      <td>1.786532</td>\n",
       "    </tr>\n",
       "  </tbody>\n",
       "</table>\n",
       "</div>"
      ],
      "text/plain": [
       "                                   number      share\n",
       "object_type                                         \n",
       "кафе                                 6071  39.729075\n",
       "столовая                             2584  16.909888\n",
       "ресторан                             2282  14.933578\n",
       "предприятие быстрого обслуживания    1897  12.414109\n",
       "бар                                   855   5.595184\n",
       "буфет                                 576   3.769387\n",
       "кафетерий                             395   2.584909\n",
       "закусочная                            348   2.277338\n",
       "магазин (отдел кулинарии)             273   1.786532"
      ]
     },
     "execution_count": 10,
     "metadata": {},
     "output_type": "execute_result"
    }
   ],
   "source": [
    "rest_type=data.pivot_table(\n",
    "index='object_type' ,  \n",
    "values='number' ,  \n",
    "aggfunc= 'count')\n",
    "\n",
    "rest_type.reset_index()\n",
    "total_rest=rest_type['number'].sum()\n",
    "rest_type['share']=rest_type['number']/total_rest*100\n",
    "rest_type.sort_values('number', ascending = False)\n"
   ]
  },
  {
   "cell_type": "code",
   "execution_count": 11,
   "metadata": {},
   "outputs": [
    {
     "data": {
      "image/png": "[encoded data removed]",
      "text/plain": [
       "<Figure size 720x360 with 1 Axes>"
      ]
     },
     "metadata": {},
     "output_type": "display_data"
    }
   ],
   "source": [
    "sns.set(rc={'figure.figsize':(10, 5)})\n",
    "sns.barplot(data=rest_type.reset_index().sort_values('number', ascending = False), x='object_type', y='number') \n",
    "plt.title ('Распределение объектов питания по типу')\n",
    "positions, old_labels = plt.xticks(rotation=15)\n",
    "plt.xticks(positions, [\"\\n\".join(label.get_text().split(\" \")) for label in old_labels])\n",
    "plt.show()"
   ]
  },
  {
   "cell_type": "markdown",
   "metadata": {},
   "source": [
    "Вывод:\n",
    "1. 40% рынка занимают \"кафе\"\n",
    "2. Далее примерно вравных долях \"столовая\", \"ресторан\" и \"предпр быстрого обслудивания\". Наих долю приходитсясовокупно примерно 42% рынка\n",
    "3.Третий сегент  - все прочие - примерно 18% рынка: бар, буфет, кафетерий, закусочная и кулинария\n"
   ]
  },
  {
   "cell_type": "markdown",
   "metadata": {},
   "source": [
    "Исследуйте соотношение сетевых и несетевых заведений по количеству. Постройте график.\n"
   ]
  },
  {
   "cell_type": "code",
   "execution_count": 12,
   "metadata": {},
   "outputs": [
    {
     "data": {
      "text/html": [
       "<div>\n",
       "<style scoped>\n",
       "    .dataframe tbody tr th:only-of-type {\n",
       "        vertical-align: middle;\n",
       "    }\n",
       "\n",
       "    .dataframe tbody tr th {\n",
       "        vertical-align: top;\n",
       "    }\n",
       "\n",
       "    .dataframe thead th {\n",
       "        text-align: right;\n",
       "    }\n",
       "</style>\n",
       "<table border=\"1\" class=\"dataframe\">\n",
       "  <thead>\n",
       "    <tr style=\"text-align: right;\">\n",
       "      <th>chain</th>\n",
       "      <th>object_type</th>\n",
       "      <th>chain</th>\n",
       "      <th>not_chain</th>\n",
       "      <th>total</th>\n",
       "      <th>share_chain</th>\n",
       "    </tr>\n",
       "  </thead>\n",
       "  <tbody>\n",
       "    <tr>\n",
       "      <td>8</td>\n",
       "      <td>столовая</td>\n",
       "      <td>3</td>\n",
       "      <td>2581</td>\n",
       "      <td>2584</td>\n",
       "      <td>0.116099</td>\n",
       "    </tr>\n",
       "    <tr>\n",
       "      <td>1</td>\n",
       "      <td>буфет</td>\n",
       "      <td>11</td>\n",
       "      <td>565</td>\n",
       "      <td>576</td>\n",
       "      <td>1.909722</td>\n",
       "    </tr>\n",
       "    <tr>\n",
       "      <td>0</td>\n",
       "      <td>бар</td>\n",
       "      <td>37</td>\n",
       "      <td>818</td>\n",
       "      <td>855</td>\n",
       "      <td>4.327485</td>\n",
       "    </tr>\n",
       "    <tr>\n",
       "      <td>4</td>\n",
       "      <td>кафетерий</td>\n",
       "      <td>52</td>\n",
       "      <td>343</td>\n",
       "      <td>395</td>\n",
       "      <td>13.164557</td>\n",
       "    </tr>\n",
       "    <tr>\n",
       "      <td>2</td>\n",
       "      <td>закусочная</td>\n",
       "      <td>56</td>\n",
       "      <td>292</td>\n",
       "      <td>348</td>\n",
       "      <td>16.091954</td>\n",
       "    </tr>\n",
       "    <tr>\n",
       "      <td>3</td>\n",
       "      <td>кафе</td>\n",
       "      <td>1396</td>\n",
       "      <td>4675</td>\n",
       "      <td>6071</td>\n",
       "      <td>22.994564</td>\n",
       "    </tr>\n",
       "    <tr>\n",
       "      <td>7</td>\n",
       "      <td>ресторан</td>\n",
       "      <td>543</td>\n",
       "      <td>1739</td>\n",
       "      <td>2282</td>\n",
       "      <td>23.794917</td>\n",
       "    </tr>\n",
       "    <tr>\n",
       "      <td>5</td>\n",
       "      <td>магазин (отдел кулинарии)</td>\n",
       "      <td>78</td>\n",
       "      <td>195</td>\n",
       "      <td>273</td>\n",
       "      <td>28.571429</td>\n",
       "    </tr>\n",
       "    <tr>\n",
       "      <td>6</td>\n",
       "      <td>предприятие быстрого обслуживания</td>\n",
       "      <td>788</td>\n",
       "      <td>1109</td>\n",
       "      <td>1897</td>\n",
       "      <td>41.539273</td>\n",
       "    </tr>\n",
       "  </tbody>\n",
       "</table>\n",
       "</div>"
      ],
      "text/plain": [
       "chain                        object_type  chain  not_chain  total  share_chain\n",
       "8                               столовая      3       2581   2584     0.116099\n",
       "1                                  буфет     11        565    576     1.909722\n",
       "0                                    бар     37        818    855     4.327485\n",
       "4                              кафетерий     52        343    395    13.164557\n",
       "2                             закусочная     56        292    348    16.091954\n",
       "3                                   кафе   1396       4675   6071    22.994564\n",
       "7                               ресторан    543       1739   2282    23.794917\n",
       "5              магазин (отдел кулинарии)     78        195    273    28.571429\n",
       "6      предприятие быстрого обслуживания    788       1109   1897    41.539273"
      ]
     },
     "execution_count": 12,
     "metadata": {},
     "output_type": "execute_result"
    }
   ],
   "source": [
    "data['chain']=data['chain'].replace({'да':'chain', 'нет':'not_chain'})\n",
    "\n",
    "table_chain= data.pivot_table(\n",
    "index='object_type' ,\n",
    "columns='chain',    \n",
    "values='object_name' ,  \n",
    "aggfunc= 'count')\n",
    "table_chain=table_chain.reset_index()\n",
    "\n",
    "table_chain['total']=table_chain['not_chain']+table_chain['chain']\n",
    "table_chain['share_chain']= table_chain['chain']/table_chain['total']*100\n",
    "table_chain=table_chain.sort_values('share_chain')\n",
    "table_chain"
   ]
  },
  {
   "cell_type": "code",
   "execution_count": 13,
   "metadata": {},
   "outputs": [],
   "source": [
    "#sns.barplot(data=table_chain.reset_index(), x='chain', y='number') \n",
    "#plt.title ('Распределение объектов питания по типу')"
   ]
  },
  {
   "cell_type": "markdown",
   "metadata": {},
   "source": [
    "Вывод: Подавляющее большинство - несетевые заведения\n",
    "Следующий вопрос: каким типам заведения хараектерно быть сетевым? "
   ]
  },
  {
   "cell_type": "code",
   "execution_count": 14,
   "metadata": {},
   "outputs": [
    {
     "data": {
      "text/plain": [
       "([<matplotlib.axis.XTick at 0x7f86a94d6f10>,\n",
       "  <matplotlib.axis.XTick at 0x7f86a94d6210>,\n",
       "  <matplotlib.axis.XTick at 0x7f86414e9fd0>,\n",
       "  <matplotlib.axis.XTick at 0x7f86a9448ad0>,\n",
       "  <matplotlib.axis.XTick at 0x7f86a9448c90>,\n",
       "  <matplotlib.axis.XTick at 0x7f86a9450690>,\n",
       "  <matplotlib.axis.XTick at 0x7f86a9450d10>,\n",
       "  <matplotlib.axis.XTick at 0x7f86a9456390>,\n",
       "  <matplotlib.axis.XTick at 0x7f86a9450dd0>],\n",
       " <a list of 9 Text xticklabel objects>)"
      ]
     },
     "execution_count": 14,
     "metadata": {},
     "output_type": "execute_result"
    },
    {
     "data": {
      "image/png": "[encoded data removed]",
      "text/plain": [
       "<Figure size 720x360 with 1 Axes>"
      ]
     },
     "metadata": {},
     "output_type": "display_data"
    }
   ],
   "source": [
    "sns.set(rc={'figure.figsize':(10, 5)})\n",
    "\n",
    "sns.barplot(data=table_chain, x='object_type', y='share_chain') \n",
    "plt.title ('Распределение сетевых объектов питания по типу')\n",
    "positions, old_labels = plt.xticks(rotation=15)\n",
    "plt.xticks(positions, [\"\\n\".join(label.get_text().split(\" \")) for label in old_labels])\n"
   ]
  },
  {
   "cell_type": "markdown",
   "metadata": {},
   "source": [
    "Следующий вопрос: Что характерно для сетевых заведений: много заведений с небольшим числом посадочных мест в каждом или мало заведений с большим количеством посадочных мест?\n",
    "Какой вид предоставляет в среднем самое большое количество посадочных мест? Постройте графики."
   ]
  },
  {
   "cell_type": "code",
   "execution_count": 15,
   "metadata": {},
   "outputs": [],
   "source": [
    "#sns.violinplot(x=\"object_type\", y=\"number\", data=data_chain, palette='rainbow')\n",
    "#plt.xticks(rotation=60)\n"
   ]
  },
  {
   "cell_type": "code",
   "execution_count": 16,
   "metadata": {},
   "outputs": [],
   "source": [
    "#sns.stripplot(x=\"object_type\", y=\"number\", data=data_chain, palette='rainbow')\n",
    "#plt.xticks(rotation=60)\n",
    "#plt.title ('Распределение сетевых объектов питания числу мест')"
   ]
  },
  {
   "cell_type": "code",
   "execution_count": 17,
   "metadata": {},
   "outputs": [
    {
     "data": {
      "text/html": [
       "<div>\n",
       "<style scoped>\n",
       "    .dataframe tbody tr th:only-of-type {\n",
       "        vertical-align: middle;\n",
       "    }\n",
       "\n",
       "    .dataframe tbody tr th {\n",
       "        vertical-align: top;\n",
       "    }\n",
       "\n",
       "    .dataframe thead th {\n",
       "        text-align: right;\n",
       "    }\n",
       "</style>\n",
       "<table border=\"1\" class=\"dataframe\">\n",
       "  <thead>\n",
       "    <tr style=\"text-align: right;\">\n",
       "      <th></th>\n",
       "      <th>object_name</th>\n",
       "      <th>mean_number</th>\n",
       "      <th>count_object</th>\n",
       "    </tr>\n",
       "  </thead>\n",
       "  <tbody>\n",
       "    <tr>\n",
       "      <td>0</td>\n",
       "      <td>beverly hills diner</td>\n",
       "      <td>88.000000</td>\n",
       "      <td>1</td>\n",
       "    </tr>\n",
       "    <tr>\n",
       "      <td>1</td>\n",
       "      <td>bierloga</td>\n",
       "      <td>75.000000</td>\n",
       "      <td>1</td>\n",
       "    </tr>\n",
       "    <tr>\n",
       "      <td>2</td>\n",
       "      <td>black &amp; white</td>\n",
       "      <td>40.000000</td>\n",
       "      <td>1</td>\n",
       "    </tr>\n",
       "    <tr>\n",
       "      <td>3</td>\n",
       "      <td>bocconcino</td>\n",
       "      <td>66.666667</td>\n",
       "      <td>3</td>\n",
       "    </tr>\n",
       "    <tr>\n",
       "      <td>4</td>\n",
       "      <td>boobo</td>\n",
       "      <td>46.000000</td>\n",
       "      <td>1</td>\n",
       "    </tr>\n",
       "    <tr>\n",
       "      <td>...</td>\n",
       "      <td>...</td>\n",
       "      <td>...</td>\n",
       "      <td>...</td>\n",
       "    </tr>\n",
       "    <tr>\n",
       "      <td>572</td>\n",
       "      <td>ямми микс</td>\n",
       "      <td>2.000000</td>\n",
       "      <td>1</td>\n",
       "    </tr>\n",
       "    <tr>\n",
       "      <td>573</td>\n",
       "      <td>ян примус</td>\n",
       "      <td>300.000000</td>\n",
       "      <td>1</td>\n",
       "    </tr>\n",
       "    <tr>\n",
       "      <td>574</td>\n",
       "      <td>японский ресторан «ваби-саби»</td>\n",
       "      <td>155.000000</td>\n",
       "      <td>1</td>\n",
       "    </tr>\n",
       "    <tr>\n",
       "      <td>575</td>\n",
       "      <td>япоша</td>\n",
       "      <td>105.000000</td>\n",
       "      <td>2</td>\n",
       "    </tr>\n",
       "    <tr>\n",
       "      <td>576</td>\n",
       "      <td>ёрш</td>\n",
       "      <td>112.250000</td>\n",
       "      <td>4</td>\n",
       "    </tr>\n",
       "  </tbody>\n",
       "</table>\n",
       "<p>577 rows × 3 columns</p>\n",
       "</div>"
      ],
      "text/plain": [
       "                       object_name  mean_number  count_object\n",
       "0              beverly hills diner    88.000000             1\n",
       "1                         bierloga    75.000000             1\n",
       "2                    black & white    40.000000             1\n",
       "3                       bocconcino    66.666667             3\n",
       "4                            boobo    46.000000             1\n",
       "..                             ...          ...           ...\n",
       "572                      ямми микс     2.000000             1\n",
       "573                      ян примус   300.000000             1\n",
       "574  японский ресторан «ваби-саби»   155.000000             1\n",
       "575                          япоша   105.000000             2\n",
       "576                            ёрш   112.250000             4\n",
       "\n",
       "[577 rows x 3 columns]"
      ]
     },
     "execution_count": 17,
     "metadata": {},
     "output_type": "execute_result"
    }
   ],
   "source": [
    "data_chain=data.query('chain== \"chain\" ')\n",
    "\n",
    "table_vid=data_chain.pivot_table(\n",
    "index='object_name' ,  \n",
    "values='number' ,  \n",
    "aggfunc= ['mean','count']).reset_index()\n",
    "\n",
    "table_vid.columns=['object_name','mean_number', 'count_object']\n",
    "table_vid\n",
    "\n"
   ]
  },
  {
   "cell_type": "code",
   "execution_count": 18,
   "metadata": {},
   "outputs": [
    {
     "data": {
      "text/plain": [
       "<seaborn.axisgrid.JointGrid at 0x7f86a9472a10>"
      ]
     },
     "execution_count": 18,
     "metadata": {},
     "output_type": "execute_result"
    },
    {
     "data": {
      "image/png": "[encoded data removed]",
      "text/plain": [
       "<Figure size 432x432 with 3 Axes>"
      ]
     },
     "metadata": {},
     "output_type": "display_data"
    }
   ],
   "source": [
    "sns.jointplot(x=\"count_object\", y=\"mean_number\", kind='reg', data=table_vid)"
   ]
  },
  {
   "cell_type": "code",
   "execution_count": 19,
   "metadata": {},
   "outputs": [
    {
     "data": {
      "text/plain": [
       "<matplotlib.axes._subplots.AxesSubplot at 0x7f86a8a2cd50>"
      ]
     },
     "execution_count": 19,
     "metadata": {},
     "output_type": "execute_result"
    },
    {
     "data": {
      "image/png": "[encoded data removed]",
      "text/plain": [
       "<Figure size 720x360 with 1 Axes>"
      ]
     },
     "metadata": {},
     "output_type": "display_data"
    }
   ],
   "source": [
    "sns.set(rc={'figure.figsize':(10, 5)})\n",
    "\n",
    "sns.stripplot(x=\"count_object\", data=table_vid, palette='rainbow')\n"
   ]
  },
  {
   "cell_type": "markdown",
   "metadata": {},
   "source": [
    "<div class = \"alert alert-info\" >\n",
    "\n",
    "Для чего мне этот график? Тут мы видим, что основная масса сетевых заведений описывается типа \"до 20 объектов\"\n",
    "И среднее количесво посадочных мест до 100\n",
    "    \n",
    "много мест - много заведений (>100; >10)\n",
    "много мест - мало заведений (>100;<10]\n",
    "мало мест - много заведений (<100; >10)\n",
    "мало мест - мало заведения (<100; <10]\n",
    "\n",
    "Мало заведений  - туда поместим все, что меньше или равно 10 завелений. Вообще странно само наличие 1 сетевого заведения. Что это за сеть, состоящая только из 1 завдеения?\n",
    "Возмножно, есть филиалы в др городах? но странно\n",
    "Много или мало мест? вот в чем вопрос. примем меньше 100 и больше 100 мест\n",
    "                            \n",
    "Дальше нам нужно бобавить столбец с категорией                        \n",
    "                            \n",
    "                            \n",
    "</div>"
   ]
  },
  {
   "cell_type": "code",
   "execution_count": 20,
   "metadata": {},
   "outputs": [
    {
     "data": {
      "text/html": [
       "<div>\n",
       "<style scoped>\n",
       "    .dataframe tbody tr th:only-of-type {\n",
       "        vertical-align: middle;\n",
       "    }\n",
       "\n",
       "    .dataframe tbody tr th {\n",
       "        vertical-align: top;\n",
       "    }\n",
       "\n",
       "    .dataframe thead th {\n",
       "        text-align: right;\n",
       "    }\n",
       "</style>\n",
       "<table border=\"1\" class=\"dataframe\">\n",
       "  <thead>\n",
       "    <tr style=\"text-align: right;\">\n",
       "      <th></th>\n",
       "      <th>object_name</th>\n",
       "      <th>mean_number</th>\n",
       "      <th>count_object</th>\n",
       "      <th>category_new</th>\n",
       "    </tr>\n",
       "  </thead>\n",
       "  <tbody>\n",
       "    <tr>\n",
       "      <td>0</td>\n",
       "      <td>beverly hills diner</td>\n",
       "      <td>88.000000</td>\n",
       "      <td>1</td>\n",
       "      <td>мало мест, мало заведений</td>\n",
       "    </tr>\n",
       "    <tr>\n",
       "      <td>1</td>\n",
       "      <td>bierloga</td>\n",
       "      <td>75.000000</td>\n",
       "      <td>1</td>\n",
       "      <td>мало мест, мало заведений</td>\n",
       "    </tr>\n",
       "    <tr>\n",
       "      <td>2</td>\n",
       "      <td>black &amp; white</td>\n",
       "      <td>40.000000</td>\n",
       "      <td>1</td>\n",
       "      <td>мало мест, мало заведений</td>\n",
       "    </tr>\n",
       "    <tr>\n",
       "      <td>3</td>\n",
       "      <td>bocconcino</td>\n",
       "      <td>66.666667</td>\n",
       "      <td>3</td>\n",
       "      <td>мало мест, мало заведений</td>\n",
       "    </tr>\n",
       "    <tr>\n",
       "      <td>4</td>\n",
       "      <td>boobo</td>\n",
       "      <td>46.000000</td>\n",
       "      <td>1</td>\n",
       "      <td>мало мест, мало заведений</td>\n",
       "    </tr>\n",
       "  </tbody>\n",
       "</table>\n",
       "</div>"
      ],
      "text/plain": [
       "           object_name  mean_number  count_object               category_new\n",
       "0  beverly hills diner    88.000000             1  мало мест, мало заведений\n",
       "1             bierloga    75.000000             1  мало мест, мало заведений\n",
       "2        black & white    40.000000             1  мало мест, мало заведений\n",
       "3           bocconcino    66.666667             3  мало мест, мало заведений\n",
       "4                boobo    46.000000             1  мало мест, мало заведений"
      ]
     },
     "execution_count": 20,
     "metadata": {},
     "output_type": "execute_result"
    }
   ],
   "source": [
    "def category_new(mest,kolvo ):\n",
    "    \n",
    "    if mest<= 100 and kolvo <=10 :\n",
    "        return 'мало мест, мало заведений'\n",
    "    if mest<= 100 and kolvo >10 :\n",
    "        return 'мало мест, много заведений'\n",
    "    if mest > 100 and kolvo <=10 :\n",
    "        return 'много мест, мало заведений'\n",
    "    if mest> 100 and kolvo >10 :\n",
    "        return 'много мест, много  заведений'\n",
    "table_vid['category_new']=table_vid.apply (lambda x: category_new(x.mean_number, x.count_object), axis=1)\n",
    "table_vid.head()        \n",
    "        "
   ]
  },
  {
   "cell_type": "code",
   "execution_count": 21,
   "metadata": {},
   "outputs": [
    {
     "data": {
      "text/html": [
       "<div>\n",
       "<style scoped>\n",
       "    .dataframe tbody tr th:only-of-type {\n",
       "        vertical-align: middle;\n",
       "    }\n",
       "\n",
       "    .dataframe tbody tr th {\n",
       "        vertical-align: top;\n",
       "    }\n",
       "\n",
       "    .dataframe thead th {\n",
       "        text-align: right;\n",
       "    }\n",
       "</style>\n",
       "<table border=\"1\" class=\"dataframe\">\n",
       "  <thead>\n",
       "    <tr style=\"text-align: right;\">\n",
       "      <th></th>\n",
       "      <th>object_name</th>\n",
       "    </tr>\n",
       "    <tr>\n",
       "      <th>category_new</th>\n",
       "      <th></th>\n",
       "    </tr>\n",
       "  </thead>\n",
       "  <tbody>\n",
       "    <tr>\n",
       "      <td>мало мест, мало заведений</td>\n",
       "      <td>448</td>\n",
       "    </tr>\n",
       "    <tr>\n",
       "      <td>мало мест, много заведений</td>\n",
       "      <td>38</td>\n",
       "    </tr>\n",
       "    <tr>\n",
       "      <td>много мест, мало заведений</td>\n",
       "      <td>84</td>\n",
       "    </tr>\n",
       "    <tr>\n",
       "      <td>много мест, много  заведений</td>\n",
       "      <td>7</td>\n",
       "    </tr>\n",
       "  </tbody>\n",
       "</table>\n",
       "</div>"
      ],
      "text/plain": [
       "                              object_name\n",
       "category_new                             \n",
       "мало мест, мало заведений             448\n",
       "мало мест, много заведений             38\n",
       "много мест, мало заведений             84\n",
       "много мест, много  заведений            7"
      ]
     },
     "execution_count": 21,
     "metadata": {},
     "output_type": "execute_result"
    }
   ],
   "source": [
    "table_vid.pivot_table(\n",
    "index='category_new',\n",
    "values='object_name',\n",
    "aggfunc='count')"
   ]
  },
  {
   "cell_type": "code",
   "execution_count": 22,
   "metadata": {},
   "outputs": [
    {
     "data": {
      "text/plain": [
       "<matplotlib.axes._subplots.AxesSubplot at 0x7f86a9bba3d0>"
      ]
     },
     "execution_count": 22,
     "metadata": {},
     "output_type": "execute_result"
    },
    {
     "data": {
      "image/png": "[encoded data removed]",
      "text/plain": [
       "<Figure size 720x360 with 1 Axes>"
      ]
     },
     "metadata": {},
     "output_type": "display_data"
    }
   ],
   "source": [
    "sns.set(rc={'figure.figsize':(10, 5)})\n",
    "\n",
    "sns.scatterplot(data=table_vid, x=\"mean_number\", y=\"count_object\", hue = 'category_new')\n"
   ]
  },
  {
   "cell_type": "markdown",
   "metadata": {},
   "source": [
    "<div class = \"alert alert-info\" >\n",
    "\n",
    "Получается, что большинство сетевых завдений относится к категориям \"маленькие сети с небольшим числом мест\"\n",
    "\n",
    "</div>"
   ]
  },
  {
   "cell_type": "markdown",
   "metadata": {},
   "source": [
    "plt.figure(figsize=(12, 3))\n",
    "sns.set_style(\"dark\")\n",
    "sns.lineplot(x=\"mean_seats\", y=\"count\", data=table_vid)\n",
    "plt.title ('График типок сетевых заведений и среднего количества мест')\n"
   ]
  },
  {
   "cell_type": "code",
   "execution_count": 23,
   "metadata": {},
   "outputs": [
    {
     "data": {
      "image/png": "[encoded data removed]",
      "text/plain": [
       "<Figure size 720x360 with 1 Axes>"
      ]
     },
     "metadata": {},
     "output_type": "display_data"
    }
   ],
   "source": [
    "\n",
    "sns.set(rc={'figure.figsize':(10, 5)})\n",
    "\n",
    "sns.boxplot(data=data_chain, x='object_type', y='number') \n",
    "plt.title ('Распределение сетевых объектов питания среднему числу мест')\n",
    "positions, old_labels = plt.xticks(rotation=15)\n",
    "plt.xticks(positions, [\"\\n\".join(label.get_text().split(\" \")) for label in old_labels])\n",
    "\n",
    "plt.show()\n"
   ]
  },
  {
   "cell_type": "markdown",
   "metadata": {},
   "source": [
    "Вывод:\n",
    "1. Сетевые завдеения в большинстве своем работают в сегменте до 100 посадочных мест\n",
    "2. Среднее коичество посдаочных мест в порядке убывания популряности типа завдедения:\n",
    "кафе - 47 мест\n",
    "предпр быстр обслуживания - 40\n",
    "ресторан - 100\n",
    "бары - 50\n",
    "остальные виды - до 20 посадочных мест (за исключением столовых) "
   ]
  },
  {
   "cell_type": "markdown",
   "metadata": {},
   "source": [
    "Выделим улицу из базового датасета"
   ]
  },
  {
   "cell_type": "code",
   "execution_count": 24,
   "metadata": {},
   "outputs": [
    {
     "data": {
      "text/html": [
       "<div>\n",
       "<style scoped>\n",
       "    .dataframe tbody tr th:only-of-type {\n",
       "        vertical-align: middle;\n",
       "    }\n",
       "\n",
       "    .dataframe tbody tr th {\n",
       "        vertical-align: top;\n",
       "    }\n",
       "\n",
       "    .dataframe thead th {\n",
       "        text-align: right;\n",
       "    }\n",
       "</style>\n",
       "<table border=\"1\" class=\"dataframe\">\n",
       "  <thead>\n",
       "    <tr style=\"text-align: right;\">\n",
       "      <th></th>\n",
       "      <th>object_name</th>\n",
       "      <th>chain</th>\n",
       "      <th>object_type</th>\n",
       "      <th>address</th>\n",
       "      <th>number</th>\n",
       "      <th>street</th>\n",
       "    </tr>\n",
       "  </thead>\n",
       "  <tbody>\n",
       "    <tr>\n",
       "      <td>0</td>\n",
       "      <td>сметана</td>\n",
       "      <td>not_chain</td>\n",
       "      <td>кафе</td>\n",
       "      <td>город Москва, улица Егора Абакумова, дом 9</td>\n",
       "      <td>48</td>\n",
       "      <td>улица Егора Абакумова</td>\n",
       "    </tr>\n",
       "    <tr>\n",
       "      <td>1</td>\n",
       "      <td>родник</td>\n",
       "      <td>not_chain</td>\n",
       "      <td>кафе</td>\n",
       "      <td>город Москва, улица Талалихина, дом 2/1, корпус 1</td>\n",
       "      <td>35</td>\n",
       "      <td>улица Талалихина</td>\n",
       "    </tr>\n",
       "    <tr>\n",
       "      <td>2</td>\n",
       "      <td>кафе «академия»</td>\n",
       "      <td>not_chain</td>\n",
       "      <td>кафе</td>\n",
       "      <td>город Москва, Абельмановская улица, дом 6</td>\n",
       "      <td>95</td>\n",
       "      <td>Абельмановская улица</td>\n",
       "    </tr>\n",
       "    <tr>\n",
       "      <td>3</td>\n",
       "      <td>пиццетория</td>\n",
       "      <td>chain</td>\n",
       "      <td>кафе</td>\n",
       "      <td>город Москва, Абрамцевская улица, дом 1</td>\n",
       "      <td>40</td>\n",
       "      <td>Абрамцевская улица</td>\n",
       "    </tr>\n",
       "    <tr>\n",
       "      <td>4</td>\n",
       "      <td>кафе «вишневая метель»</td>\n",
       "      <td>not_chain</td>\n",
       "      <td>кафе</td>\n",
       "      <td>город Москва, Абрамцевская улица, дом 9, корпус 1</td>\n",
       "      <td>50</td>\n",
       "      <td>Абрамцевская улица</td>\n",
       "    </tr>\n",
       "  </tbody>\n",
       "</table>\n",
       "</div>"
      ],
      "text/plain": [
       "              object_name      chain object_type  \\\n",
       "0                 сметана  not_chain        кафе   \n",
       "1                  родник  not_chain        кафе   \n",
       "2         кафе «академия»  not_chain        кафе   \n",
       "3              пиццетория      chain        кафе   \n",
       "4  кафе «вишневая метель»  not_chain        кафе   \n",
       "\n",
       "                                             address  number  \\\n",
       "0         город Москва, улица Егора Абакумова, дом 9      48   \n",
       "1  город Москва, улица Талалихина, дом 2/1, корпус 1      35   \n",
       "2          город Москва, Абельмановская улица, дом 6      95   \n",
       "3            город Москва, Абрамцевская улица, дом 1      40   \n",
       "4  город Москва, Абрамцевская улица, дом 9, корпус 1      50   \n",
       "\n",
       "                  street  \n",
       "0  улица Егора Абакумова  \n",
       "1       улица Талалихина  \n",
       "2   Абельмановская улица  \n",
       "3     Абрамцевская улица  \n",
       "4     Абрамцевская улица  "
      ]
     },
     "execution_count": 24,
     "metadata": {},
     "output_type": "execute_result"
    }
   ],
   "source": [
    "data['street'] = data['address'].str.split(',').str[1]\n",
    "\n",
    "data['street'] = data['street'].str.lstrip()\n",
    "data.head()"
   ]
  },
  {
   "cell_type": "code",
   "execution_count": 25,
   "metadata": {},
   "outputs": [
    {
     "data": {
      "text/html": [
       "<div>\n",
       "<style scoped>\n",
       "    .dataframe tbody tr th:only-of-type {\n",
       "        vertical-align: middle;\n",
       "    }\n",
       "\n",
       "    .dataframe tbody tr th {\n",
       "        vertical-align: top;\n",
       "    }\n",
       "\n",
       "    .dataframe thead th {\n",
       "        text-align: right;\n",
       "    }\n",
       "</style>\n",
       "<table border=\"1\" class=\"dataframe\">\n",
       "  <thead>\n",
       "    <tr style=\"text-align: right;\">\n",
       "      <th></th>\n",
       "      <th>street</th>\n",
       "      <th>object_name</th>\n",
       "    </tr>\n",
       "  </thead>\n",
       "  <tbody>\n",
       "    <tr>\n",
       "      <td>0</td>\n",
       "      <td>город Зеленоград</td>\n",
       "      <td>232</td>\n",
       "    </tr>\n",
       "    <tr>\n",
       "      <td>1</td>\n",
       "      <td>проспект Мира</td>\n",
       "      <td>203</td>\n",
       "    </tr>\n",
       "    <tr>\n",
       "      <td>2</td>\n",
       "      <td>Профсоюзная улица</td>\n",
       "      <td>181</td>\n",
       "    </tr>\n",
       "    <tr>\n",
       "      <td>3</td>\n",
       "      <td>Ленинградский проспект</td>\n",
       "      <td>170</td>\n",
       "    </tr>\n",
       "    <tr>\n",
       "      <td>4</td>\n",
       "      <td>Пресненская набережная</td>\n",
       "      <td>167</td>\n",
       "    </tr>\n",
       "    <tr>\n",
       "      <td>5</td>\n",
       "      <td>Варшавское шоссе</td>\n",
       "      <td>161</td>\n",
       "    </tr>\n",
       "    <tr>\n",
       "      <td>6</td>\n",
       "      <td>Ленинский проспект</td>\n",
       "      <td>147</td>\n",
       "    </tr>\n",
       "    <tr>\n",
       "      <td>7</td>\n",
       "      <td>поселение Сосенское</td>\n",
       "      <td>137</td>\n",
       "    </tr>\n",
       "    <tr>\n",
       "      <td>8</td>\n",
       "      <td>проспект Вернадского</td>\n",
       "      <td>128</td>\n",
       "    </tr>\n",
       "    <tr>\n",
       "      <td>9</td>\n",
       "      <td>Кутузовский проспект</td>\n",
       "      <td>114</td>\n",
       "    </tr>\n",
       "    <tr>\n",
       "      <td>10</td>\n",
       "      <td>Каширское шоссе</td>\n",
       "      <td>111</td>\n",
       "    </tr>\n",
       "    <tr>\n",
       "      <td>11</td>\n",
       "      <td>Кировоградская улица</td>\n",
       "      <td>108</td>\n",
       "    </tr>\n",
       "  </tbody>\n",
       "</table>\n",
       "</div>"
      ],
      "text/plain": [
       "                    street  object_name\n",
       "0         город Зеленоград          232\n",
       "1            проспект Мира          203\n",
       "2        Профсоюзная улица          181\n",
       "3   Ленинградский проспект          170\n",
       "4   Пресненская набережная          167\n",
       "5         Варшавское шоссе          161\n",
       "6       Ленинский проспект          147\n",
       "7      поселение Сосенское          137\n",
       "8     проспект Вернадского          128\n",
       "9     Кутузовский проспект          114\n",
       "10         Каширское шоссе          111\n",
       "11    Кировоградская улица          108"
      ]
     },
     "execution_count": 25,
     "metadata": {},
     "output_type": "execute_result"
    }
   ],
   "source": [
    "top_street=data.pivot_table(\n",
    "index='street',\n",
    "values='object_name',\n",
    "aggfunc='count').sort_values('object_name',ascending=False).head(12).reset_index()\n",
    "top_street"
   ]
  },
  {
   "cell_type": "markdown",
   "metadata": {},
   "source": [
    "Постройте график топ-10 улиц по количеству объектов общественного питания. \n",
    "Воспользуйтесь внешней информацией и ответьте на вопрос — в каких районах Москвы находятся эти улицы?\n"
   ]
  },
  {
   "cell_type": "code",
   "execution_count": 26,
   "metadata": {},
   "outputs": [
    {
     "data": {
      "text/plain": [
       "(array([ 0,  1,  2,  3,  4,  5,  6,  7,  8,  9, 10, 11]),\n",
       " <a list of 12 Text xticklabel objects>)"
      ]
     },
     "execution_count": 26,
     "metadata": {},
     "output_type": "execute_result"
    },
    {
     "data": {
      "image/png": "[encoded data removed]",
      "text/plain": [
       "<Figure size 720x360 with 1 Axes>"
      ]
     },
     "metadata": {},
     "output_type": "display_data"
    }
   ],
   "source": [
    "sns.set(rc={'figure.figsize':(10, 5)})\n",
    "\n",
    "sns.barplot(data=top_street, x='street', y='object_name') \n",
    "plt.title ('ТОП улиц по количеству ресторанов')\n",
    "plt.xticks(rotation=60)"
   ]
  },
  {
   "cell_type": "markdown",
   "metadata": {},
   "source": [
    "вывод: Зеленоград и Сосенское нужно исключить из дальнейшего анализа (это отдельные субъекты) "
   ]
  },
  {
   "cell_type": "markdown",
   "metadata": {},
   "source": [
    "<div class=\"alert alert-success\">\n",
    "\n",
    "\n",
    "У тебя на самом деле тут просто невнимательность :) У тебя ниже строка:\n",
    "        \n",
    "```python\n",
    "moscow_street_district=moscow_street_district.rename(columns={'streetname': 'street', 'okrug': 'okrug', 'area': 'area'}).head()\n",
    "\n",
    "```\n",
    "\n",
    "Т.е. ты оставила `head` от всего датафрейма, поэтому просто нет адресов и получаются пропуски :)\n",
    "</div>"
   ]
  },
  {
   "cell_type": "code",
   "execution_count": 27,
   "metadata": {},
   "outputs": [
    {
     "data": {
      "text/html": [
       "<div>\n",
       "<style scoped>\n",
       "    .dataframe tbody tr th:only-of-type {\n",
       "        vertical-align: middle;\n",
       "    }\n",
       "\n",
       "    .dataframe tbody tr th {\n",
       "        vertical-align: top;\n",
       "    }\n",
       "\n",
       "    .dataframe thead th {\n",
       "        text-align: right;\n",
       "    }\n",
       "</style>\n",
       "<table border=\"1\" class=\"dataframe\">\n",
       "  <thead>\n",
       "    <tr style=\"text-align: right;\">\n",
       "      <th></th>\n",
       "      <th>street</th>\n",
       "      <th>okrug</th>\n",
       "      <th>area</th>\n",
       "    </tr>\n",
       "  </thead>\n",
       "  <tbody>\n",
       "    <tr>\n",
       "      <td>0</td>\n",
       "      <td>Выставочный переулок</td>\n",
       "      <td>ЦАО</td>\n",
       "      <td>Пресненский район</td>\n",
       "    </tr>\n",
       "    <tr>\n",
       "      <td>1</td>\n",
       "      <td>улица Гашека</td>\n",
       "      <td>ЦАО</td>\n",
       "      <td>Пресненский район</td>\n",
       "    </tr>\n",
       "    <tr>\n",
       "      <td>2</td>\n",
       "      <td>Большая Никитская улица</td>\n",
       "      <td>ЦАО</td>\n",
       "      <td>Пресненский район</td>\n",
       "    </tr>\n",
       "    <tr>\n",
       "      <td>3</td>\n",
       "      <td>Глубокий переулок</td>\n",
       "      <td>ЦАО</td>\n",
       "      <td>Пресненский район</td>\n",
       "    </tr>\n",
       "    <tr>\n",
       "      <td>4</td>\n",
       "      <td>Большой Гнездниковский переулок</td>\n",
       "      <td>ЦАО</td>\n",
       "      <td>Пресненский район</td>\n",
       "    </tr>\n",
       "  </tbody>\n",
       "</table>\n",
       "</div>"
      ],
      "text/plain": [
       "                            street okrug               area\n",
       "0             Выставочный переулок   ЦАО  Пресненский район\n",
       "1                     улица Гашека   ЦАО  Пресненский район\n",
       "2          Большая Никитская улица   ЦАО  Пресненский район\n",
       "3                Глубокий переулок   ЦАО  Пресненский район\n",
       "4  Большой Гнездниковский переулок   ЦАО  Пресненский район"
      ]
     },
     "execution_count": 27,
     "metadata": {},
     "output_type": "execute_result"
    }
   ],
   "source": [
    "\n",
    "\n",
    "# Сохранение с hubofdata в YandexCloud \n",
    "# df = pd.read_csv('http://hubofdata.ru/storage/f/2013-10-22T09%3A25%3A27.793Z/mosgaz-streets.csv')\n",
    "# df.to_csv('mosgaz-street.csv')\n",
    "\n",
    "# Загрузка из YandexCloud \n",
    "df = pd.read_csv('mosgaz-street.csv') [['streetname', 'okrug', 'area']]\n",
    "moscow_street_district=df\n",
    "# moscow_street_district=moscow_street_district.rename(columns={'streetname': 'street', 'okrug': 'okrug', 'area': 'area'}).head()\n",
    "moscow_street_district=moscow_street_district.rename(columns={'streetname': 'street', 'okrug': 'okrug', 'area': 'area'})\n",
    "moscow_street_district.head()"
   ]
  },
  {
   "cell_type": "code",
   "execution_count": 28,
   "metadata": {},
   "outputs": [
    {
     "data": {
      "text/html": [
       "<div>\n",
       "<style scoped>\n",
       "    .dataframe tbody tr th:only-of-type {\n",
       "        vertical-align: middle;\n",
       "    }\n",
       "\n",
       "    .dataframe tbody tr th {\n",
       "        vertical-align: top;\n",
       "    }\n",
       "\n",
       "    .dataframe thead th {\n",
       "        text-align: right;\n",
       "    }\n",
       "</style>\n",
       "<table border=\"1\" class=\"dataframe\">\n",
       "  <thead>\n",
       "    <tr style=\"text-align: right;\">\n",
       "      <th></th>\n",
       "      <th>area</th>\n",
       "      <th>street_count</th>\n",
       "      <th>rest_count</th>\n",
       "    </tr>\n",
       "  </thead>\n",
       "  <tbody>\n",
       "    <tr>\n",
       "      <td>0</td>\n",
       "      <td>Район Теплый Стан</td>\n",
       "      <td>2</td>\n",
       "      <td>328</td>\n",
       "    </tr>\n",
       "    <tr>\n",
       "      <td>1</td>\n",
       "      <td>Обручевский район</td>\n",
       "      <td>2</td>\n",
       "      <td>328</td>\n",
       "    </tr>\n",
       "    <tr>\n",
       "      <td>2</td>\n",
       "      <td>Донской район</td>\n",
       "      <td>2</td>\n",
       "      <td>308</td>\n",
       "    </tr>\n",
       "    <tr>\n",
       "      <td>3</td>\n",
       "      <td>Район Проспект Вернадского</td>\n",
       "      <td>2</td>\n",
       "      <td>275</td>\n",
       "    </tr>\n",
       "    <tr>\n",
       "      <td>4</td>\n",
       "      <td>Ломоносовский район</td>\n",
       "      <td>2</td>\n",
       "      <td>275</td>\n",
       "    </tr>\n",
       "  </tbody>\n",
       "</table>\n",
       "</div>"
      ],
      "text/plain": [
       "                         area  street_count  rest_count\n",
       "0           Район Теплый Стан             2         328\n",
       "1           Обручевский район             2         328\n",
       "2               Донской район             2         308\n",
       "3  Район Проспект Вернадского             2         275\n",
       "4         Ломоносовский район             2         275"
      ]
     },
     "execution_count": 28,
     "metadata": {},
     "output_type": "execute_result"
    }
   ],
   "source": [
    "moscow_street_district['street'] = moscow_street_district['street'].str.strip()\n",
    "\n",
    "top_street['street'] = top_street['street'].str.strip()\n",
    "\n",
    "\n",
    "moscow_street_district['street'] = moscow_street_district['street'].str.strip()\n",
    "\n",
    "top_street['street'] = top_street['street'].str.strip()\n",
    "rest_district_top = (\n",
    "top_street.merge(moscow_street_district, on='street', how='left') \n",
    ".groupby('area').agg({'street': 'count', 'object_name': 'sum'}).rename(columns={'street': 'street_count', 'object_name': 'rest_count' })\n",
    ".sort_values('rest_count', ascending=False)\n",
    ".reset_index()\n",
    ")\n",
    "\n",
    "\n",
    "rest_district_top.head()\n"
   ]
  },
  {
   "cell_type": "code",
   "execution_count": 29,
   "metadata": {},
   "outputs": [
    {
     "data": {
      "text/html": [
       "<div>\n",
       "<style scoped>\n",
       "    .dataframe tbody tr th:only-of-type {\n",
       "        vertical-align: middle;\n",
       "    }\n",
       "\n",
       "    .dataframe tbody tr th {\n",
       "        vertical-align: top;\n",
       "    }\n",
       "\n",
       "    .dataframe thead th {\n",
       "        text-align: right;\n",
       "    }\n",
       "</style>\n",
       "<table border=\"1\" class=\"dataframe\">\n",
       "  <thead>\n",
       "    <tr style=\"text-align: right;\">\n",
       "      <th></th>\n",
       "      <th>area</th>\n",
       "      <th>rest_count</th>\n",
       "    </tr>\n",
       "  </thead>\n",
       "  <tbody>\n",
       "    <tr>\n",
       "      <td>0</td>\n",
       "      <td>Район Теплый Стан</td>\n",
       "      <td>328</td>\n",
       "    </tr>\n",
       "    <tr>\n",
       "      <td>1</td>\n",
       "      <td>Обручевский район</td>\n",
       "      <td>328</td>\n",
       "    </tr>\n",
       "    <tr>\n",
       "      <td>2</td>\n",
       "      <td>Донской район</td>\n",
       "      <td>308</td>\n",
       "    </tr>\n",
       "    <tr>\n",
       "      <td>3</td>\n",
       "      <td>Район Проспект Вернадского</td>\n",
       "      <td>275</td>\n",
       "    </tr>\n",
       "    <tr>\n",
       "      <td>4</td>\n",
       "      <td>Ломоносовский район</td>\n",
       "      <td>275</td>\n",
       "    </tr>\n",
       "    <tr>\n",
       "      <td>5</td>\n",
       "      <td>Район Тропарево-Никулино</td>\n",
       "      <td>275</td>\n",
       "    </tr>\n",
       "    <tr>\n",
       "      <td>6</td>\n",
       "      <td>Район Гагаринский</td>\n",
       "      <td>275</td>\n",
       "    </tr>\n",
       "    <tr>\n",
       "      <td>7</td>\n",
       "      <td>Район Нагатино-Садовники</td>\n",
       "      <td>272</td>\n",
       "    </tr>\n",
       "    <tr>\n",
       "      <td>8</td>\n",
       "      <td>Район Чертаново Центральное</td>\n",
       "      <td>269</td>\n",
       "    </tr>\n",
       "    <tr>\n",
       "      <td>9</td>\n",
       "      <td>Район Чертаново Северное</td>\n",
       "      <td>269</td>\n",
       "    </tr>\n",
       "    <tr>\n",
       "      <td>10</td>\n",
       "      <td>Район Чертаново Южное</td>\n",
       "      <td>269</td>\n",
       "    </tr>\n",
       "    <tr>\n",
       "      <td>11</td>\n",
       "      <td>Панфиловский район</td>\n",
       "      <td>232</td>\n",
       "    </tr>\n",
       "    <tr>\n",
       "      <td>12</td>\n",
       "      <td>Район Крюково</td>\n",
       "      <td>232</td>\n",
       "    </tr>\n",
       "    <tr>\n",
       "      <td>13</td>\n",
       "      <td>Район Матушкино-Савелки</td>\n",
       "      <td>232</td>\n",
       "    </tr>\n",
       "    <tr>\n",
       "      <td>14</td>\n",
       "      <td>Район Ростокино</td>\n",
       "      <td>203</td>\n",
       "    </tr>\n",
       "    <tr>\n",
       "      <td>15</td>\n",
       "      <td>Останкинский район</td>\n",
       "      <td>203</td>\n",
       "    </tr>\n",
       "    <tr>\n",
       "      <td>16</td>\n",
       "      <td>Район Марьина роща</td>\n",
       "      <td>203</td>\n",
       "    </tr>\n",
       "    <tr>\n",
       "      <td>17</td>\n",
       "      <td>Мещанский район</td>\n",
       "      <td>203</td>\n",
       "    </tr>\n",
       "    <tr>\n",
       "      <td>18</td>\n",
       "      <td>Алексеевский район</td>\n",
       "      <td>203</td>\n",
       "    </tr>\n",
       "    <tr>\n",
       "      <td>19</td>\n",
       "      <td>Район Свиблово</td>\n",
       "      <td>203</td>\n",
       "    </tr>\n",
       "    <tr>\n",
       "      <td>20</td>\n",
       "      <td>Ярославский Район</td>\n",
       "      <td>203</td>\n",
       "    </tr>\n",
       "    <tr>\n",
       "      <td>21</td>\n",
       "      <td>Район Черемушки</td>\n",
       "      <td>181</td>\n",
       "    </tr>\n",
       "    <tr>\n",
       "      <td>22</td>\n",
       "      <td>Район Ясенево</td>\n",
       "      <td>181</td>\n",
       "    </tr>\n",
       "    <tr>\n",
       "      <td>23</td>\n",
       "      <td>Академический район</td>\n",
       "      <td>181</td>\n",
       "    </tr>\n",
       "    <tr>\n",
       "      <td>24</td>\n",
       "      <td>Район Коньково</td>\n",
       "      <td>181</td>\n",
       "    </tr>\n",
       "    <tr>\n",
       "      <td>25</td>\n",
       "      <td>Район Сокол</td>\n",
       "      <td>170</td>\n",
       "    </tr>\n",
       "    <tr>\n",
       "      <td>26</td>\n",
       "      <td>Район Беговой</td>\n",
       "      <td>170</td>\n",
       "    </tr>\n",
       "    <tr>\n",
       "      <td>27</td>\n",
       "      <td>Район Аэропорт</td>\n",
       "      <td>170</td>\n",
       "    </tr>\n",
       "    <tr>\n",
       "      <td>28</td>\n",
       "      <td>Хорошевский район</td>\n",
       "      <td>170</td>\n",
       "    </tr>\n",
       "    <tr>\n",
       "      <td>29</td>\n",
       "      <td>Пресненский район</td>\n",
       "      <td>167</td>\n",
       "    </tr>\n",
       "    <tr>\n",
       "      <td>30</td>\n",
       "      <td>Район Северное Бутово</td>\n",
       "      <td>161</td>\n",
       "    </tr>\n",
       "    <tr>\n",
       "      <td>31</td>\n",
       "      <td>Район Южное Бутово</td>\n",
       "      <td>161</td>\n",
       "    </tr>\n",
       "    <tr>\n",
       "      <td>32</td>\n",
       "      <td>Нагорный район</td>\n",
       "      <td>161</td>\n",
       "    </tr>\n",
       "    <tr>\n",
       "      <td>33</td>\n",
       "      <td>Район Якиманка</td>\n",
       "      <td>147</td>\n",
       "    </tr>\n",
       "    <tr>\n",
       "      <td>34</td>\n",
       "      <td>Район Раменки</td>\n",
       "      <td>128</td>\n",
       "    </tr>\n",
       "    <tr>\n",
       "      <td>35</td>\n",
       "      <td>Район Фили-Давыдково</td>\n",
       "      <td>114</td>\n",
       "    </tr>\n",
       "    <tr>\n",
       "      <td>36</td>\n",
       "      <td>Район Дорогомилово</td>\n",
       "      <td>114</td>\n",
       "    </tr>\n",
       "    <tr>\n",
       "      <td>37</td>\n",
       "      <td>Район Орехово-Борисово Южное</td>\n",
       "      <td>111</td>\n",
       "    </tr>\n",
       "    <tr>\n",
       "      <td>38</td>\n",
       "      <td>Район Москворечье-Сабурово</td>\n",
       "      <td>111</td>\n",
       "    </tr>\n",
       "    <tr>\n",
       "      <td>39</td>\n",
       "      <td>Район Орехово-Борисово Северное</td>\n",
       "      <td>111</td>\n",
       "    </tr>\n",
       "  </tbody>\n",
       "</table>\n",
       "</div>"
      ],
      "text/plain": [
       "                               area  rest_count\n",
       "0                 Район Теплый Стан         328\n",
       "1                 Обручевский район         328\n",
       "2                     Донской район         308\n",
       "3        Район Проспект Вернадского         275\n",
       "4               Ломоносовский район         275\n",
       "5          Район Тропарево-Никулино         275\n",
       "6                 Район Гагаринский         275\n",
       "7          Район Нагатино-Садовники         272\n",
       "8       Район Чертаново Центральное         269\n",
       "9          Район Чертаново Северное         269\n",
       "10            Район Чертаново Южное         269\n",
       "11               Панфиловский район         232\n",
       "12                    Район Крюково         232\n",
       "13          Район Матушкино-Савелки         232\n",
       "14                  Район Ростокино         203\n",
       "15               Останкинский район         203\n",
       "16               Район Марьина роща         203\n",
       "17                  Мещанский район         203\n",
       "18               Алексеевский район         203\n",
       "19                   Район Свиблово         203\n",
       "20                Ярославский Район         203\n",
       "21                  Район Черемушки         181\n",
       "22                    Район Ясенево         181\n",
       "23              Академический район         181\n",
       "24                   Район Коньково         181\n",
       "25                      Район Сокол         170\n",
       "26                    Район Беговой         170\n",
       "27                   Район Аэропорт         170\n",
       "28                Хорошевский район         170\n",
       "29                Пресненский район         167\n",
       "30            Район Северное Бутово         161\n",
       "31               Район Южное Бутово         161\n",
       "32                   Нагорный район         161\n",
       "33                   Район Якиманка         147\n",
       "34                    Район Раменки         128\n",
       "35             Район Фили-Давыдково         114\n",
       "36               Район Дорогомилово         114\n",
       "37     Район Орехово-Борисово Южное         111\n",
       "38       Район Москворечье-Сабурово         111\n",
       "39  Район Орехово-Борисово Северное         111"
      ]
     },
     "execution_count": 29,
     "metadata": {},
     "output_type": "execute_result"
    }
   ],
   "source": [
    "top_10_area=rest_district_top.pivot_table(\n",
    "index='area',\n",
    "values='rest_count',\n",
    "aggfunc='sum').sort_values('rest_count',ascending=False)\n",
    "top_10_area=top_10_area.reset_index()\n",
    "top_10_area"
   ]
  },
  {
   "cell_type": "code",
   "execution_count": 30,
   "metadata": {},
   "outputs": [
    {
     "data": {
      "text/html": [
       "<div>\n",
       "<style scoped>\n",
       "    .dataframe tbody tr th:only-of-type {\n",
       "        vertical-align: middle;\n",
       "    }\n",
       "\n",
       "    .dataframe tbody tr th {\n",
       "        vertical-align: top;\n",
       "    }\n",
       "\n",
       "    .dataframe thead th {\n",
       "        text-align: right;\n",
       "    }\n",
       "</style>\n",
       "<table border=\"1\" class=\"dataframe\">\n",
       "  <thead>\n",
       "    <tr style=\"text-align: right;\">\n",
       "      <th></th>\n",
       "      <th>oject_number</th>\n",
       "      <th>area</th>\n",
       "    </tr>\n",
       "    <tr>\n",
       "      <th>street</th>\n",
       "      <th></th>\n",
       "      <th></th>\n",
       "    </tr>\n",
       "  </thead>\n",
       "  <tbody>\n",
       "    <tr>\n",
       "      <td>Варшавское шоссе</td>\n",
       "      <td>161</td>\n",
       "      <td>[Район Чертаново Центральное, Район Чертаново Северное, Район Чертаново Южное, Донской район, Район Нагатино-Садовники, Нагорный район, Район Северное Бутово, Район Южное Бутово]</td>\n",
       "    </tr>\n",
       "    <tr>\n",
       "      <td>Каширское шоссе</td>\n",
       "      <td>111</td>\n",
       "      <td>[Район Москворечье-Сабурово, Район Нагатино-Садовники, Район Орехово-Борисово Южное, Район Орехово-Борисово Северное]</td>\n",
       "    </tr>\n",
       "    <tr>\n",
       "      <td>Кировоградская улица</td>\n",
       "      <td>108</td>\n",
       "      <td>[Район Чертаново Центральное, Район Чертаново Северное, Район Чертаново Южное]</td>\n",
       "    </tr>\n",
       "    <tr>\n",
       "      <td>Кутузовский проспект</td>\n",
       "      <td>114</td>\n",
       "      <td>[Район Дорогомилово, Район Фили-Давыдково]</td>\n",
       "    </tr>\n",
       "    <tr>\n",
       "      <td>Ленинградский проспект</td>\n",
       "      <td>170</td>\n",
       "      <td>[Район Аэропорт, Район Беговой, Хорошевский район, Район Сокол]</td>\n",
       "    </tr>\n",
       "    <tr>\n",
       "      <td>Ленинский проспект</td>\n",
       "      <td>147</td>\n",
       "      <td>[Район Проспект Вернадского, Район Тропарево-Никулино, Донской район, Район Гагаринский, Ломоносовский район, Обручевский район, Район Теплый Стан, Район Якиманка]</td>\n",
       "    </tr>\n",
       "    <tr>\n",
       "      <td>Пресненская набережная</td>\n",
       "      <td>167</td>\n",
       "      <td>[Пресненский район]</td>\n",
       "    </tr>\n",
       "    <tr>\n",
       "      <td>Профсоюзная улица</td>\n",
       "      <td>181</td>\n",
       "      <td>[Академический район, Район Черемушки, Район Ясенево, Район Коньково, Обручевский район, Район Теплый Стан]</td>\n",
       "    </tr>\n",
       "    <tr>\n",
       "      <td>город Зеленоград</td>\n",
       "      <td>232</td>\n",
       "      <td>[Район Крюково, Район Матушкино-Савелки, Панфиловский район]</td>\n",
       "    </tr>\n",
       "    <tr>\n",
       "      <td>проспект Вернадского</td>\n",
       "      <td>128</td>\n",
       "      <td>[Район Проспект Вернадского, Район Раменки, Район Тропарево-Никулино, Район Гагаринский, Ломоносовский район]</td>\n",
       "    </tr>\n",
       "    <tr>\n",
       "      <td>проспект Мира</td>\n",
       "      <td>203</td>\n",
       "      <td>[Алексеевский район, Ярославский Район, Район Марьина роща, Останкинский район, Район Ростокино, Район Свиблово, Мещанский район]</td>\n",
       "    </tr>\n",
       "  </tbody>\n",
       "</table>\n",
       "</div>"
      ],
      "text/plain": [
       "                        oject_number  \\\n",
       "street                                 \n",
       "Варшавское шоссе        161            \n",
       "Каширское шоссе         111            \n",
       "Кировоградская улица    108            \n",
       "Кутузовский проспект    114            \n",
       "Ленинградский проспект  170            \n",
       "Ленинский проспект      147            \n",
       "Пресненская набережная  167            \n",
       "Профсоюзная улица       181            \n",
       "город Зеленоград        232            \n",
       "проспект Вернадского    128            \n",
       "проспект Мира           203            \n",
       "\n",
       "                                                                                                                                                                                                      area  \n",
       "street                                                                                                                                                                                                      \n",
       "Варшавское шоссе        [Район Чертаново Центральное, Район Чертаново Северное, Район Чертаново Южное, Донской район, Район Нагатино-Садовники, Нагорный район, Район Северное Бутово, Район Южное Бутово]  \n",
       "Каширское шоссе         [Район Москворечье-Сабурово, Район Нагатино-Садовники, Район Орехово-Борисово Южное, Район Орехово-Борисово Северное]                                                               \n",
       "Кировоградская улица    [Район Чертаново Центральное, Район Чертаново Северное, Район Чертаново Южное]                                                                                                      \n",
       "Кутузовский проспект    [Район Дорогомилово, Район Фили-Давыдково]                                                                                                                                          \n",
       "Ленинградский проспект  [Район Аэропорт, Район Беговой, Хорошевский район, Район Сокол]                                                                                                                     \n",
       "Ленинский проспект      [Район Проспект Вернадского, Район Тропарево-Никулино, Донской район, Район Гагаринский, Ломоносовский район, Обручевский район, Район Теплый Стан, Район Якиманка]                 \n",
       "Пресненская набережная  [Пресненский район]                                                                                                                                                                 \n",
       "Профсоюзная улица       [Академический район, Район Черемушки, Район Ясенево, Район Коньково, Обручевский район, Район Теплый Стан]                                                                         \n",
       "город Зеленоград        [Район Крюково, Район Матушкино-Савелки, Панфиловский район]                                                                                                                        \n",
       "проспект Вернадского    [Район Проспект Вернадского, Район Раменки, Район Тропарево-Никулино, Район Гагаринский, Ломоносовский район]                                                                       \n",
       "проспект Мира           [Алексеевский район, Ярославский Район, Район Марьина роща, Останкинский район, Район Ростокино, Район Свиблово, Мещанский район]                                                   "
      ]
     },
     "metadata": {},
     "output_type": "display_data"
    }
   ],
   "source": [
    "# moscow_street_district\n",
    "with pd.option_context('display.max_colwidth', -1):\n",
    "    display(top_street.merge(moscow_street_district, on='street').groupby('street').agg(oject_number=('object_name','first'),area=('area','unique')))"
   ]
  },
  {
   "cell_type": "code",
   "execution_count": 31,
   "metadata": {},
   "outputs": [
    {
     "data": {
      "text/plain": [
       "(array([ 0,  1,  2,  3,  4,  5,  6,  7,  8,  9, 10, 11, 12, 13, 14, 15, 16,\n",
       "        17, 18, 19, 20, 21, 22, 23, 24, 25, 26, 27, 28, 29, 30, 31, 32, 33,\n",
       "        34, 35, 36, 37, 38, 39]),\n",
       " <a list of 40 Text xticklabel objects>)"
      ]
     },
     "execution_count": 31,
     "metadata": {},
     "output_type": "execute_result"
    },
    {
     "data": {
      "image/png": "[encoded data removed]",
      "text/plain": [
       "<Figure size 720x360 with 1 Axes>"
      ]
     },
     "metadata": {},
     "output_type": "display_data"
    }
   ],
   "source": [
    "sns.set(rc={'figure.figsize':(10, 5)})\n",
    "\n",
    "sns.barplot(data=top_10_area, x='area', y='rest_count') \n",
    "plt.title ('ТОП округов по количеству предприятий питания')\n",
    "plt.xticks(rotation=90)"
   ]
  },
  {
   "cell_type": "markdown",
   "metadata": {},
   "source": [
    "Вывод: Наибольшее количество предприятий питания сосредоточено в следующих районах Москвы (топ -3) \n",
    "Обручевский\n",
    "Теплый Стан\n",
    "Донской\n",
    "\n",
    "\n",
    "\n",
    "Достаточно удивительное распределение.Вызывает удивелние ТЕплый стан.  "
   ]
  },
  {
   "cell_type": "code",
   "execution_count": 32,
   "metadata": {},
   "outputs": [
    {
     "data": {
      "text/html": [
       "<div>\n",
       "<style scoped>\n",
       "    .dataframe tbody tr th:only-of-type {\n",
       "        vertical-align: middle;\n",
       "    }\n",
       "\n",
       "    .dataframe tbody tr th {\n",
       "        vertical-align: top;\n",
       "    }\n",
       "\n",
       "    .dataframe thead th {\n",
       "        text-align: right;\n",
       "    }\n",
       "</style>\n",
       "<table border=\"1\" class=\"dataframe\">\n",
       "  <thead>\n",
       "    <tr style=\"text-align: right;\">\n",
       "      <th></th>\n",
       "      <th>street</th>\n",
       "      <th>object_name</th>\n",
       "    </tr>\n",
       "  </thead>\n",
       "  <tbody>\n",
       "    <tr>\n",
       "      <td>0</td>\n",
       "      <td>город Зеленоград</td>\n",
       "      <td>232</td>\n",
       "    </tr>\n",
       "    <tr>\n",
       "      <td>1</td>\n",
       "      <td>проспект Мира</td>\n",
       "      <td>203</td>\n",
       "    </tr>\n",
       "    <tr>\n",
       "      <td>2</td>\n",
       "      <td>Профсоюзная улица</td>\n",
       "      <td>181</td>\n",
       "    </tr>\n",
       "    <tr>\n",
       "      <td>3</td>\n",
       "      <td>Ленинградский проспект</td>\n",
       "      <td>170</td>\n",
       "    </tr>\n",
       "    <tr>\n",
       "      <td>4</td>\n",
       "      <td>Пресненская набережная</td>\n",
       "      <td>167</td>\n",
       "    </tr>\n",
       "  </tbody>\n",
       "</table>\n",
       "</div>"
      ],
      "text/plain": [
       "                   street  object_name\n",
       "0        город Зеленоград          232\n",
       "1           проспект Мира          203\n",
       "2       Профсоюзная улица          181\n",
       "3  Ленинградский проспект          170\n",
       "4  Пресненская набережная          167"
      ]
     },
     "execution_count": 32,
     "metadata": {},
     "output_type": "execute_result"
    }
   ],
   "source": [
    "top_street.merge(moscow_street_district, on='street', how='left')\n",
    "top_street.head()"
   ]
  },
  {
   "cell_type": "markdown",
   "metadata": {},
   "source": [
    "Найдите число улиц с одним объектом общественного питания. Воспользуйтесь внешней информацией и ответьте на вопрос — в каких районах Москвы находятся эти улицы?\n"
   ]
  },
  {
   "cell_type": "code",
   "execution_count": 33,
   "metadata": {},
   "outputs": [
    {
     "data": {
      "text/plain": [
       "579"
      ]
     },
     "execution_count": 33,
     "metadata": {},
     "output_type": "execute_result"
    }
   ],
   "source": [
    "one_street=data.pivot_table(\n",
    "index='street',\n",
    "values='object_name',\n",
    "aggfunc='count').reset_index().sort_values('object_name')\n",
    "one_street=one_street.query('object_name==1')\n",
    "one_street['object_name'].count()"
   ]
  },
  {
   "cell_type": "markdown",
   "metadata": {},
   "source": [
    "Сформировали таблицу с улицами, где находится всего по 1 предприятию обзественног опитания. Получили 579 строк и 579 улиц. Примерно 3% обьектов питания стоят по 1 на 1 улице \n",
    "\n",
    "Дальше посомотрим на районы Москвы, где находятся эти улицы"
   ]
  },
  {
   "cell_type": "code",
   "execution_count": 34,
   "metadata": {},
   "outputs": [
    {
     "data": {
      "text/html": [
       "<div>\n",
       "<style scoped>\n",
       "    .dataframe tbody tr th:only-of-type {\n",
       "        vertical-align: middle;\n",
       "    }\n",
       "\n",
       "    .dataframe tbody tr th {\n",
       "        vertical-align: top;\n",
       "    }\n",
       "\n",
       "    .dataframe thead th {\n",
       "        text-align: right;\n",
       "    }\n",
       "</style>\n",
       "<table border=\"1\" class=\"dataframe\">\n",
       "  <thead>\n",
       "    <tr style=\"text-align: right;\">\n",
       "      <th></th>\n",
       "      <th>street</th>\n",
       "      <th>object_name</th>\n",
       "      <th>okrug</th>\n",
       "      <th>area</th>\n",
       "    </tr>\n",
       "  </thead>\n",
       "  <tbody>\n",
       "    <tr>\n",
       "      <td>0</td>\n",
       "      <td>улица Недорубова</td>\n",
       "      <td>1</td>\n",
       "      <td>NaN</td>\n",
       "      <td>NaN</td>\n",
       "    </tr>\n",
       "    <tr>\n",
       "      <td>1</td>\n",
       "      <td>Театральная аллея</td>\n",
       "      <td>1</td>\n",
       "      <td>САО</td>\n",
       "      <td>Район Аэропорт</td>\n",
       "    </tr>\n",
       "    <tr>\n",
       "      <td>2</td>\n",
       "      <td>Таёжная улица</td>\n",
       "      <td>1</td>\n",
       "      <td>СВАО</td>\n",
       "      <td>Лосиноостровский район</td>\n",
       "    </tr>\n",
       "    <tr>\n",
       "      <td>3</td>\n",
       "      <td>Газгольдерная улица</td>\n",
       "      <td>1</td>\n",
       "      <td>ЮВАО</td>\n",
       "      <td>Нижегородский район</td>\n",
       "    </tr>\n",
       "    <tr>\n",
       "      <td>4</td>\n",
       "      <td>Тарханская улица</td>\n",
       "      <td>1</td>\n",
       "      <td>ЮВАО</td>\n",
       "      <td>Район Выхино-Жулебино</td>\n",
       "    </tr>\n",
       "    <tr>\n",
       "      <td>...</td>\n",
       "      <td>...</td>\n",
       "      <td>...</td>\n",
       "      <td>...</td>\n",
       "      <td>...</td>\n",
       "    </tr>\n",
       "    <tr>\n",
       "      <td>617</td>\n",
       "      <td>улица Академика Семёнова</td>\n",
       "      <td>1</td>\n",
       "      <td>ЮЗАО</td>\n",
       "      <td>Район Южное Бутово</td>\n",
       "    </tr>\n",
       "    <tr>\n",
       "      <td>618</td>\n",
       "      <td>улица Алексея Дикого</td>\n",
       "      <td>1</td>\n",
       "      <td>ВАО</td>\n",
       "      <td>Район Новогиреево</td>\n",
       "    </tr>\n",
       "    <tr>\n",
       "      <td>619</td>\n",
       "      <td>5-й проезд Марьиной Рощи</td>\n",
       "      <td>1</td>\n",
       "      <td>СВАО</td>\n",
       "      <td>Район Марьина роща</td>\n",
       "    </tr>\n",
       "    <tr>\n",
       "      <td>620</td>\n",
       "      <td>65-й километр Московской Кольцевой Автодороги</td>\n",
       "      <td>1</td>\n",
       "      <td>NaN</td>\n",
       "      <td>NaN</td>\n",
       "    </tr>\n",
       "    <tr>\n",
       "      <td>621</td>\n",
       "      <td>6-я улица Новые Сады</td>\n",
       "      <td>1</td>\n",
       "      <td>ЗАО</td>\n",
       "      <td>Район Ново-Переделкино</td>\n",
       "    </tr>\n",
       "  </tbody>\n",
       "</table>\n",
       "<p>622 rows × 4 columns</p>\n",
       "</div>"
      ],
      "text/plain": [
       "                                            street  object_name okrug  \\\n",
       "0                                 улица Недорубова            1   NaN   \n",
       "1                                Театральная аллея            1   САО   \n",
       "2                                    Таёжная улица            1  СВАО   \n",
       "3                              Газгольдерная улица            1  ЮВАО   \n",
       "4                                 Тарханская улица            1  ЮВАО   \n",
       "..                                             ...          ...   ...   \n",
       "617                       улица Академика Семёнова            1  ЮЗАО   \n",
       "618                           улица Алексея Дикого            1   ВАО   \n",
       "619                       5-й проезд Марьиной Рощи            1  СВАО   \n",
       "620  65-й километр Московской Кольцевой Автодороги            1   NaN   \n",
       "621                           6-я улица Новые Сады            1   ЗАО   \n",
       "\n",
       "                       area  \n",
       "0                       NaN  \n",
       "1            Район Аэропорт  \n",
       "2    Лосиноостровский район  \n",
       "3       Нижегородский район  \n",
       "4     Район Выхино-Жулебино  \n",
       "..                      ...  \n",
       "617      Район Южное Бутово  \n",
       "618       Район Новогиреево  \n",
       "619      Район Марьина роща  \n",
       "620                     NaN  \n",
       "621  Район Ново-Переделкино  \n",
       "\n",
       "[622 rows x 4 columns]"
      ]
     },
     "execution_count": 34,
     "metadata": {},
     "output_type": "execute_result"
    }
   ],
   "source": [
    "one_street['street'] = one_street['street'].str.strip()\n",
    "one_street = one_street.merge(moscow_street_district, on='street', how='left')\n",
    "one_street.head()\n",
    "\n",
    "one_street2=one_street\n",
    "one_street2\n",
    "\n",
    "#не понимаю откуда берутся все эти okrug_x и okrug_y ((((()))))\n"
   ]
  },
  {
   "cell_type": "code",
   "execution_count": 35,
   "metadata": {},
   "outputs": [
    {
     "data": {
      "text/html": [
       "<div>\n",
       "<style scoped>\n",
       "    .dataframe tbody tr th:only-of-type {\n",
       "        vertical-align: middle;\n",
       "    }\n",
       "\n",
       "    .dataframe tbody tr th {\n",
       "        vertical-align: top;\n",
       "    }\n",
       "\n",
       "    .dataframe thead th {\n",
       "        text-align: right;\n",
       "    }\n",
       "</style>\n",
       "<table border=\"1\" class=\"dataframe\">\n",
       "  <thead>\n",
       "    <tr style=\"text-align: right;\">\n",
       "      <th></th>\n",
       "      <th>object_name</th>\n",
       "    </tr>\n",
       "    <tr>\n",
       "      <th>area</th>\n",
       "      <th></th>\n",
       "    </tr>\n",
       "  </thead>\n",
       "  <tbody>\n",
       "    <tr>\n",
       "      <td>Таганский район</td>\n",
       "      <td>27</td>\n",
       "    </tr>\n",
       "    <tr>\n",
       "      <td>Район Хамовники</td>\n",
       "      <td>26</td>\n",
       "    </tr>\n",
       "    <tr>\n",
       "      <td>Басманный район</td>\n",
       "      <td>25</td>\n",
       "    </tr>\n",
       "    <tr>\n",
       "      <td>Тверской район</td>\n",
       "      <td>20</td>\n",
       "    </tr>\n",
       "    <tr>\n",
       "      <td>Пресненский район</td>\n",
       "      <td>19</td>\n",
       "    </tr>\n",
       "    <tr>\n",
       "      <td>...</td>\n",
       "      <td>...</td>\n",
       "    </tr>\n",
       "    <tr>\n",
       "      <td>Район Марьино</td>\n",
       "      <td>1</td>\n",
       "    </tr>\n",
       "    <tr>\n",
       "      <td>Район Матушкино-Савелки</td>\n",
       "      <td>1</td>\n",
       "    </tr>\n",
       "    <tr>\n",
       "      <td>Район Метрогородок</td>\n",
       "      <td>1</td>\n",
       "    </tr>\n",
       "    <tr>\n",
       "      <td>Район Москворечье-Сабурово</td>\n",
       "      <td>1</td>\n",
       "    </tr>\n",
       "    <tr>\n",
       "      <td>Обручевский район</td>\n",
       "      <td>1</td>\n",
       "    </tr>\n",
       "  </tbody>\n",
       "</table>\n",
       "<p>99 rows × 1 columns</p>\n",
       "</div>"
      ],
      "text/plain": [
       "                            object_name\n",
       "area                                   \n",
       "Таганский район                      27\n",
       "Район Хамовники                      26\n",
       "Басманный район                      25\n",
       "Тверской район                       20\n",
       "Пресненский район                    19\n",
       "...                                 ...\n",
       "Район Марьино                         1\n",
       "Район Матушкино-Савелки               1\n",
       "Район Метрогородок                    1\n",
       "Район Москворечье-Сабурово            1\n",
       "Обручевский район                     1\n",
       "\n",
       "[99 rows x 1 columns]"
      ]
     },
     "execution_count": 35,
     "metadata": {},
     "output_type": "execute_result"
    }
   ],
   "source": [
    "one_street2.pivot_table(\n",
    "index='area',\n",
    "values='object_name',\n",
    "aggfunc='sum').sort_values('object_name',ascending=False)"
   ]
  },
  {
   "cell_type": "markdown",
   "metadata": {},
   "source": [
    "Вывод: Есть в цетнре видимо оченб короткие улицы) "
   ]
  },
  {
   "cell_type": "markdown",
   "metadata": {},
   "source": [
    "Посмотрите на распределение количества посадочных мест для улиц с большим количеством объектов общественного питания. Какие закономерности можно выявить?\n",
    "Для ответа на этот вопрос - возьмем топ-10 улиц и проанализируем с помощью хитмэпа\n"
   ]
  },
  {
   "cell_type": "code",
   "execution_count": 36,
   "metadata": {},
   "outputs": [],
   "source": [
    "\n",
    "#final_table = (\n",
    "#data.groupby('street', as_index=False)['id'].count()\n",
    "#.sort_values('id', ascending=False)\n",
    "#.head(10)\n",
    "#.rename(columns={'id': 'rest_count'})\n",
    "#.merge(data, on='street')\n",
    "#.sort_values('rest_count', ascending=False)\n",
    "#.pivot_table(index='street', columns='object_type', values='number', aggfunc='count')\n",
    "    #.fillna('0')\n",
    "    #.astype(int)\n",
    "#)\n",
    "\n",
    "#final_table\n",
    "\n"
   ]
  },
  {
   "cell_type": "code",
   "execution_count": 37,
   "metadata": {},
   "outputs": [],
   "source": [
    "#sns.heatmap(final_table, annot=True, cmap='Greens')\n",
    "#plt.title('Распределение количества посадочных мест по типам заведений по ТОП-улицам', fontsize=17)"
   ]
  },
  {
   "cell_type": "code",
   "execution_count": 38,
   "metadata": {},
   "outputs": [
    {
     "data": {
      "text/html": [
       "<div>\n",
       "<style scoped>\n",
       "    .dataframe tbody tr th:only-of-type {\n",
       "        vertical-align: middle;\n",
       "    }\n",
       "\n",
       "    .dataframe tbody tr th {\n",
       "        vertical-align: top;\n",
       "    }\n",
       "\n",
       "    .dataframe thead th {\n",
       "        text-align: right;\n",
       "    }\n",
       "</style>\n",
       "<table border=\"1\" class=\"dataframe\">\n",
       "  <thead>\n",
       "    <tr style=\"text-align: right;\">\n",
       "      <th></th>\n",
       "      <th>object_name</th>\n",
       "      <th>chain</th>\n",
       "      <th>object_type</th>\n",
       "      <th>address</th>\n",
       "      <th>number</th>\n",
       "      <th>street</th>\n",
       "    </tr>\n",
       "  </thead>\n",
       "  <tbody>\n",
       "    <tr>\n",
       "      <td>151</td>\n",
       "      <td>кафе «андерсон»</td>\n",
       "      <td>chain</td>\n",
       "      <td>кафе</td>\n",
       "      <td>город Москва, Варшавское шоссе, дом 2</td>\n",
       "      <td>150</td>\n",
       "      <td>Варшавское шоссе</td>\n",
       "    </tr>\n",
       "    <tr>\n",
       "      <td>152</td>\n",
       "      <td>кафе «subway»</td>\n",
       "      <td>chain</td>\n",
       "      <td>кафе</td>\n",
       "      <td>город Москва, Варшавское шоссе, дом 7, корпус 1</td>\n",
       "      <td>36</td>\n",
       "      <td>Варшавское шоссе</td>\n",
       "    </tr>\n",
       "    <tr>\n",
       "      <td>153</td>\n",
       "      <td>кафе «ламаджо»</td>\n",
       "      <td>not_chain</td>\n",
       "      <td>кафе</td>\n",
       "      <td>город Москва, Варшавское шоссе, дом 29</td>\n",
       "      <td>30</td>\n",
       "      <td>Варшавское шоссе</td>\n",
       "    </tr>\n",
       "    <tr>\n",
       "      <td>154</td>\n",
       "      <td>шаурма в пите</td>\n",
       "      <td>not_chain</td>\n",
       "      <td>предприятие быстрого обслуживания</td>\n",
       "      <td>город Москва, Варшавское шоссе, дом 72, корпус 2</td>\n",
       "      <td>0</td>\n",
       "      <td>Варшавское шоссе</td>\n",
       "    </tr>\n",
       "    <tr>\n",
       "      <td>155</td>\n",
       "      <td>выпечка</td>\n",
       "      <td>not_chain</td>\n",
       "      <td>кафетерий</td>\n",
       "      <td>город Москва, Варшавское шоссе, дом 100</td>\n",
       "      <td>2</td>\n",
       "      <td>Варшавское шоссе</td>\n",
       "    </tr>\n",
       "    <tr>\n",
       "      <td>...</td>\n",
       "      <td>...</td>\n",
       "      <td>...</td>\n",
       "      <td>...</td>\n",
       "      <td>...</td>\n",
       "      <td>...</td>\n",
       "      <td>...</td>\n",
       "    </tr>\n",
       "    <tr>\n",
       "      <td>15308</td>\n",
       "      <td>додо пицца</td>\n",
       "      <td>chain</td>\n",
       "      <td>кафе</td>\n",
       "      <td>город Москва, Пресненская набережная, дом 12</td>\n",
       "      <td>25</td>\n",
       "      <td>Пресненская набережная</td>\n",
       "    </tr>\n",
       "    <tr>\n",
       "      <td>15325</td>\n",
       "      <td>милти</td>\n",
       "      <td>chain</td>\n",
       "      <td>предприятие быстрого обслуживания</td>\n",
       "      <td>город Москва, Ленинградский проспект, дом 80, ...</td>\n",
       "      <td>0</td>\n",
       "      <td>Ленинградский проспект</td>\n",
       "    </tr>\n",
       "    <tr>\n",
       "      <td>15347</td>\n",
       "      <td>кальянная «мята lounge»</td>\n",
       "      <td>chain</td>\n",
       "      <td>кафе</td>\n",
       "      <td>город Москва, Профсоюзная улица, дом 142, корп...</td>\n",
       "      <td>40</td>\n",
       "      <td>Профсоюзная улица</td>\n",
       "    </tr>\n",
       "    <tr>\n",
       "      <td>15350</td>\n",
       "      <td>мята</td>\n",
       "      <td>chain</td>\n",
       "      <td>кафетерий</td>\n",
       "      <td>город Москва, Каширское шоссе, дом 96, корпус 1</td>\n",
       "      <td>35</td>\n",
       "      <td>Каширское шоссе</td>\n",
       "    </tr>\n",
       "    <tr>\n",
       "      <td>15358</td>\n",
       "      <td>шоколадница</td>\n",
       "      <td>chain</td>\n",
       "      <td>кафе</td>\n",
       "      <td>город Москва, Варшавское шоссе, дом 87Б</td>\n",
       "      <td>54</td>\n",
       "      <td>Варшавское шоссе</td>\n",
       "    </tr>\n",
       "  </tbody>\n",
       "</table>\n",
       "<p>1490 rows × 6 columns</p>\n",
       "</div>"
      ],
      "text/plain": [
       "                   object_name      chain                        object_type  \\\n",
       "151            кафе «андерсон»      chain                               кафе   \n",
       "152              кафе «subway»      chain                               кафе   \n",
       "153             кафе «ламаджо»  not_chain                               кафе   \n",
       "154              шаурма в пите  not_chain  предприятие быстрого обслуживания   \n",
       "155                    выпечка  not_chain                          кафетерий   \n",
       "...                        ...        ...                                ...   \n",
       "15308               додо пицца      chain                               кафе   \n",
       "15325                    милти      chain  предприятие быстрого обслуживания   \n",
       "15347  кальянная «мята lounge»      chain                               кафе   \n",
       "15350                     мята      chain                          кафетерий   \n",
       "15358              шоколадница      chain                               кафе   \n",
       "\n",
       "                                                 address  number  \\\n",
       "151                город Москва, Варшавское шоссе, дом 2     150   \n",
       "152      город Москва, Варшавское шоссе, дом 7, корпус 1      36   \n",
       "153               город Москва, Варшавское шоссе, дом 29      30   \n",
       "154     город Москва, Варшавское шоссе, дом 72, корпус 2       0   \n",
       "155              город Москва, Варшавское шоссе, дом 100       2   \n",
       "...                                                  ...     ...   \n",
       "15308       город Москва, Пресненская набережная, дом 12      25   \n",
       "15325  город Москва, Ленинградский проспект, дом 80, ...       0   \n",
       "15347  город Москва, Профсоюзная улица, дом 142, корп...      40   \n",
       "15350    город Москва, Каширское шоссе, дом 96, корпус 1      35   \n",
       "15358            город Москва, Варшавское шоссе, дом 87Б      54   \n",
       "\n",
       "                       street  \n",
       "151          Варшавское шоссе  \n",
       "152          Варшавское шоссе  \n",
       "153          Варшавское шоссе  \n",
       "154          Варшавское шоссе  \n",
       "155          Варшавское шоссе  \n",
       "...                       ...  \n",
       "15308  Пресненская набережная  \n",
       "15325  Ленинградский проспект  \n",
       "15347       Профсоюзная улица  \n",
       "15350         Каширское шоссе  \n",
       "15358        Варшавское шоссе  \n",
       "\n",
       "[1490 rows x 6 columns]"
      ]
     },
     "execution_count": 38,
     "metadata": {},
     "output_type": "execute_result"
    }
   ],
   "source": [
    "final=data.query('street in [\"проспект Мира\", \"Профсоюзная улица\",\"Ленинградский проспект\",\"Пресненская набережная\",\"Варшавское шоссе\",\"Ленинский проспект\",\"проспект Вернадского\",\"Кутузовский проспект\",\"Каширское шоссе\", \"Кировоградская улица\"]')\n",
    "\n",
    "final"
   ]
  },
  {
   "cell_type": "code",
   "execution_count": 39,
   "metadata": {},
   "outputs": [
    {
     "data": {
      "image/png": "[encoded data removed]",
      "text/plain": [
       "<Figure size 1440x720 with 1 Axes>"
      ]
     },
     "metadata": {},
     "output_type": "display_data"
    }
   ],
   "source": [
    "#из-за наличия огромных выборосов ограничила ось Y - иначе масштаб теряется\n",
    "sns.set(rc={'figure.figsize':(20, 10)})\n",
    "\n",
    "sns.boxplot(data=final, x='object_type', y='number') \n",
    "plt.ylim(0, 300)\n",
    "plt.title ('Распределение числа посадочных мест')\n",
    "positions, old_labels = plt.xticks(rotation=15)\n",
    "plt.xticks(positions, [\"\\n\".join(label.get_text().split(\" \")) for label in old_labels])\n",
    "plt.show()"
   ]
  },
  {
   "cell_type": "code",
   "execution_count": 40,
   "metadata": {},
   "outputs": [
    {
     "data": {
      "image/png": "[encoded data removed]",
      "text/plain": [
       "<Figure size 1440x720 with 1 Axes>"
      ]
     },
     "metadata": {},
     "output_type": "display_data"
    }
   ],
   "source": [
    "sns.set(rc={'figure.figsize':(20, 10)})\n",
    "\n",
    "sns.boxplot(data=final, x='street', y='number') \n",
    "plt.ylim(0, 300)\n",
    "plt.title ('Распределение числа посадочных мест')\n",
    "positions, old_labels = plt.xticks(rotation=15)\n",
    "plt.xticks(positions, [\"\\n\".join(label.get_text().split(\" \")) for label in old_labels])\n",
    "plt.show()"
   ]
  },
  {
   "cell_type": "markdown",
   "metadata": {},
   "source": [
    "Вывод такой: кафе имеют максимальное количество посадочных  мест , далее следуют ресторраны и фастфуд. Вроде ничего не обясного, в рамках логики. Аномалию имеет Зеленоград в качестве столовой. Но само по собе попадания Зеленограда в топ-10 можно счиать аномалией. И не рассмотривать в принципе в этом районе-городе-улице тест-драйв нового формата. Если мы по преднему расмтариваем формат кафе: то рекомендация по посадочным местам в рамках 40-100 человек. "
   ]
  },
  {
   "cell_type": "markdown",
   "metadata": {},
   "source": [
    "Общий вывод по работе:\n",
    "Проанализировали датасет, состоящий из 15 266 строк\n",
    "Данные были подготовлены хорошо, предобработкой  данных заниматься не было необходимости\n",
    "\n",
    "Исходя из имеющихся данных: \n",
    "40%  рынка по количеству занимают \"кафе\"\n",
    "Далее примерно вравных долях \"столовая\", \"ресторан\" и \"предпр быстрого обслудивания\". На их долю приходитсясовокупно примерно 42% рынка\n",
    "Третий сегент - все прочие - примерно 18% рынка: бар, буфет, кафетерий, закусочная и кулинария\n",
    "\n",
    "Подавляющее большинство - несетевые заведения\n",
    "\n",
    "Если рассматривать структуру сетевых заведений: лидер по типу - это кафе - 47% от общей доли сетевых заведений Далее следуют предпр быстрого обслуживания и рестораны - по 26 и 18 проц соответственно Все остальные типы представлены слабо на их долю приходится около 7%, и ими можно пренебречь.\n",
    "\n",
    "Можно сказать, что большинство сетевых  заведений работают в сегменте 40- 100 посадочных мест. \n",
    "\n",
    "Среднее коичество посдаочных мест в порядке убывания популярности типа завдедения:\n",
    "кафе - 47 мест\n",
    "предпр быстр обслуживания - 40\n",
    "ресторан - 100\n",
    "бары - 50\n",
    "остальные виды - до 20 посадочных мест (за исключением столовых) \n",
    "\n",
    "Наибольшее количество предприятий питания сосредоточено в следующих округах Москвы: Юзао ЮАО Зеленоград (как отдельный город в городе) СВАО САО ЦАО. само по собе попадания Зеленограда в топ-10 можно счиать аномалией. И не рассмотривать в принципе в этом районе-городе-улице тест-драйв нового формата. Если мы по преднему расмтариваем формат кафе: то рекомендация по посадочным местам в рамках 40-100 человек. \n",
    "\n",
    "\n",
    "\n",
    "Финальный вывод: \n",
    "\n",
    "Рекомендуемый формат заведения: кафе\n",
    "\n",
    "Количество посадочных мест: 40 -100 \n",
    "\n",
    "Район расположения. Одназнаяно не Зеленоград (хоть он и входит топ-10). Далее рекомендую дополнительные кастдевы с ЦА. Необходимо обрисовать портрет ЦА и понять в каких районах/местах Москвы проводит время ЦА. Рекомендуемые районы для анализа: ЮЗАО, ЮАО,СВАО, САО, ЦАО. \n",
    "\n",
    "Возможность развития сети: ДА (если это формат кафе или фастфуд) \n",
    "\n",
    "\n",
    "\n",
    "\n",
    "\n"
   ]
  },
  {
   "cell_type": "markdown",
   "metadata": {},
   "source": [
    "Презентация: https://docs.google.com/presentation/d/1Ex_QaFDiDfNyAeEmqD7lr7Jr9VycCtFASTubl2vcfq0/edit#slide=id.p"
   ]
  }
 ],
 "metadata": {
  "ExecuteTimeLog": [
   {
    "duration": 1733,
    "start_time": "2021-10-02T11:52:04.418Z"
   },
   {
    "duration": 11,
    "start_time": "2021-10-02T12:25:01.296Z"
   },
   {
    "duration": 18,
    "start_time": "2021-10-02T12:29:02.403Z"
   },
   {
    "duration": 8,
    "start_time": "2021-10-02T12:29:13.302Z"
   },
   {
    "duration": 13,
    "start_time": "2021-10-02T12:29:16.867Z"
   },
   {
    "duration": 17,
    "start_time": "2021-10-02T12:30:47.557Z"
   },
   {
    "duration": 66,
    "start_time": "2021-10-02T12:56:06.962Z"
   },
   {
    "duration": 66,
    "start_time": "2021-10-02T12:58:11.641Z"
   },
   {
    "duration": 270,
    "start_time": "2021-10-02T12:58:25.426Z"
   },
   {
    "duration": 179,
    "start_time": "2021-10-02T12:58:38.584Z"
   },
   {
    "duration": 180,
    "start_time": "2021-10-02T12:58:54.466Z"
   },
   {
    "duration": 185,
    "start_time": "2021-10-02T12:59:03.692Z"
   },
   {
    "duration": 54,
    "start_time": "2021-10-02T13:00:25.448Z"
   },
   {
    "duration": 178,
    "start_time": "2021-10-02T13:00:30.732Z"
   },
   {
    "duration": 9,
    "start_time": "2021-10-02T13:01:03.427Z"
   },
   {
    "duration": 9,
    "start_time": "2021-10-02T13:01:07.920Z"
   },
   {
    "duration": 1088,
    "start_time": "2021-10-02T13:01:20.582Z"
   },
   {
    "duration": 13,
    "start_time": "2021-10-02T13:01:21.672Z"
   },
   {
    "duration": 18,
    "start_time": "2021-10-02T13:01:21.686Z"
   },
   {
    "duration": 8,
    "start_time": "2021-10-02T13:01:21.705Z"
   },
   {
    "duration": 12,
    "start_time": "2021-10-02T13:01:28.463Z"
   },
   {
    "duration": 278,
    "start_time": "2021-10-02T13:02:58.623Z"
   },
   {
    "duration": 176,
    "start_time": "2021-10-02T13:03:03.953Z"
   },
   {
    "duration": 181,
    "start_time": "2021-10-02T13:04:11.644Z"
   },
   {
    "duration": 13,
    "start_time": "2021-10-02T13:04:51.956Z"
   },
   {
    "duration": 281,
    "start_time": "2021-10-02T13:04:54.646Z"
   },
   {
    "duration": 184,
    "start_time": "2021-10-02T13:05:18.625Z"
   },
   {
    "duration": 185,
    "start_time": "2021-10-02T13:05:54.745Z"
   },
   {
    "duration": 1112,
    "start_time": "2021-10-02T13:06:51.731Z"
   },
   {
    "duration": 10,
    "start_time": "2021-10-02T13:06:52.845Z"
   },
   {
    "duration": 15,
    "start_time": "2021-10-02T13:06:52.857Z"
   },
   {
    "duration": 12,
    "start_time": "2021-10-02T13:06:52.874Z"
   },
   {
    "duration": 289,
    "start_time": "2021-10-02T13:06:52.887Z"
   },
   {
    "duration": 213,
    "start_time": "2021-10-02T13:07:51.871Z"
   },
   {
    "duration": 16,
    "start_time": "2021-10-02T13:08:51.809Z"
   },
   {
    "duration": 221,
    "start_time": "2021-10-02T13:09:10.185Z"
   },
   {
    "duration": 15,
    "start_time": "2021-10-02T13:09:34.491Z"
   },
   {
    "duration": 205,
    "start_time": "2021-10-02T13:09:37.504Z"
   },
   {
    "duration": 200,
    "start_time": "2021-10-02T13:10:00.113Z"
   },
   {
    "duration": 381,
    "start_time": "2021-10-02T13:11:43.122Z"
   },
   {
    "duration": 203,
    "start_time": "2021-10-02T13:11:52.214Z"
   },
   {
    "duration": 213,
    "start_time": "2021-10-02T13:16:22.653Z"
   },
   {
    "duration": 193,
    "start_time": "2021-10-02T13:18:47.619Z"
   },
   {
    "duration": 14,
    "start_time": "2021-10-02T13:19:02.729Z"
   },
   {
    "duration": 17,
    "start_time": "2021-10-02T13:19:13.362Z"
   },
   {
    "duration": 75,
    "start_time": "2021-10-02T13:19:42.669Z"
   },
   {
    "duration": 16,
    "start_time": "2021-10-02T13:20:13.359Z"
   },
   {
    "duration": 16,
    "start_time": "2021-10-02T13:20:19.119Z"
   },
   {
    "duration": 15,
    "start_time": "2021-10-02T13:20:33.309Z"
   },
   {
    "duration": 16,
    "start_time": "2021-10-02T13:20:42.569Z"
   },
   {
    "duration": 9,
    "start_time": "2021-10-02T13:29:32.529Z"
   },
   {
    "duration": 9,
    "start_time": "2021-10-02T13:29:34.778Z"
   },
   {
    "duration": 11,
    "start_time": "2021-10-02T13:29:39.236Z"
   },
   {
    "duration": 13,
    "start_time": "2021-10-02T13:29:50.976Z"
   },
   {
    "duration": 150,
    "start_time": "2021-10-02T13:30:17.970Z"
   },
   {
    "duration": 4353,
    "start_time": "2021-10-02T13:32:06.297Z"
   },
   {
    "duration": 4552,
    "start_time": "2021-10-02T13:32:26.724Z"
   },
   {
    "duration": 4479,
    "start_time": "2021-10-02T13:32:43.754Z"
   },
   {
    "duration": 12,
    "start_time": "2021-10-02T13:33:03.734Z"
   },
   {
    "duration": 4365,
    "start_time": "2021-10-02T13:33:33.974Z"
   },
   {
    "duration": 15,
    "start_time": "2021-10-02T13:33:55.234Z"
   },
   {
    "duration": 10,
    "start_time": "2021-10-02T13:34:06.324Z"
   },
   {
    "duration": 20,
    "start_time": "2021-10-02T13:34:24.694Z"
   },
   {
    "duration": 210,
    "start_time": "2021-10-02T13:34:29.989Z"
   },
   {
    "duration": 15,
    "start_time": "2021-10-02T13:40:39.615Z"
   },
   {
    "duration": 13,
    "start_time": "2021-10-02T13:41:17.135Z"
   },
   {
    "duration": 186,
    "start_time": "2021-10-02T13:42:23.018Z"
   },
   {
    "duration": 13,
    "start_time": "2021-10-02T13:42:54.185Z"
   },
   {
    "duration": 16,
    "start_time": "2021-10-02T13:43:01.411Z"
   },
   {
    "duration": 209,
    "start_time": "2021-10-02T13:44:20.960Z"
   },
   {
    "duration": 720,
    "start_time": "2021-10-02T13:46:40.075Z"
   },
   {
    "duration": 388,
    "start_time": "2021-10-02T13:46:50.688Z"
   },
   {
    "duration": 393,
    "start_time": "2021-10-02T13:47:04.881Z"
   },
   {
    "duration": 379,
    "start_time": "2021-10-02T13:47:24.015Z"
   },
   {
    "duration": 324,
    "start_time": "2021-10-02T14:00:52.095Z"
   },
   {
    "duration": 421,
    "start_time": "2021-10-02T14:01:03.185Z"
   },
   {
    "duration": 388,
    "start_time": "2021-10-02T14:01:18.632Z"
   },
   {
    "duration": 390,
    "start_time": "2021-10-02T14:01:32.105Z"
   },
   {
    "duration": 25,
    "start_time": "2021-10-02T14:03:26.435Z"
   },
   {
    "duration": 704,
    "start_time": "2021-10-02T14:10:12.703Z"
   },
   {
    "duration": 602,
    "start_time": "2021-10-02T14:13:35.441Z"
   },
   {
    "duration": 184,
    "start_time": "2021-10-02T14:15:05.925Z"
   },
   {
    "duration": 567,
    "start_time": "2021-10-02T14:15:16.669Z"
   },
   {
    "duration": 56,
    "start_time": "2021-10-02T14:16:55.242Z"
   },
   {
    "duration": 12,
    "start_time": "2021-10-02T14:16:59.822Z"
   },
   {
    "duration": 867,
    "start_time": "2021-10-02T14:17:16.092Z"
   },
   {
    "duration": 474,
    "start_time": "2021-10-03T12:52:42.170Z"
   },
   {
    "duration": 1664,
    "start_time": "2021-10-03T12:53:00.189Z"
   },
   {
    "duration": 18,
    "start_time": "2021-10-03T12:53:01.856Z"
   },
   {
    "duration": 53,
    "start_time": "2021-10-03T12:53:01.877Z"
   },
   {
    "duration": 27,
    "start_time": "2021-10-03T12:53:01.934Z"
   },
   {
    "duration": 702,
    "start_time": "2021-10-03T12:53:01.964Z"
   },
   {
    "duration": 22,
    "start_time": "2021-10-03T12:53:02.669Z"
   },
   {
    "duration": 514,
    "start_time": "2021-10-03T12:53:02.693Z"
   },
   {
    "duration": 47,
    "start_time": "2021-10-03T12:53:03.210Z"
   },
   {
    "duration": 696,
    "start_time": "2021-10-03T12:53:03.260Z"
   },
   {
    "duration": 1058,
    "start_time": "2021-10-03T12:53:03.959Z"
   },
   {
    "duration": 873,
    "start_time": "2021-10-03T12:53:05.020Z"
   },
   {
    "duration": 42,
    "start_time": "2021-10-03T12:53:05.895Z"
   },
   {
    "duration": 33,
    "start_time": "2021-10-03T12:53:45.939Z"
   },
   {
    "duration": 1864,
    "start_time": "2021-10-03T13:00:34.518Z"
   },
   {
    "duration": 25,
    "start_time": "2021-10-03T13:00:49.169Z"
   },
   {
    "duration": 38,
    "start_time": "2021-10-03T13:00:54.907Z"
   },
   {
    "duration": 41,
    "start_time": "2021-10-03T13:01:12.210Z"
   },
   {
    "duration": 28,
    "start_time": "2021-10-03T13:01:46.248Z"
   },
   {
    "duration": 36,
    "start_time": "2021-10-03T13:01:58.357Z"
   },
   {
    "duration": 390,
    "start_time": "2021-10-03T13:07:42.584Z"
   },
   {
    "duration": 403,
    "start_time": "2021-10-03T13:08:21.029Z"
   },
   {
    "duration": 523,
    "start_time": "2021-10-03T13:08:30.014Z"
   },
   {
    "duration": 422,
    "start_time": "2021-10-03T13:08:53.365Z"
   },
   {
    "duration": 709,
    "start_time": "2021-10-03T13:17:04.123Z"
   },
   {
    "duration": 47,
    "start_time": "2021-10-03T13:17:39.509Z"
   },
   {
    "duration": 449,
    "start_time": "2021-10-03T13:17:44.829Z"
   },
   {
    "duration": 631,
    "start_time": "2021-10-03T13:17:51.633Z"
   },
   {
    "duration": 29,
    "start_time": "2021-10-03T13:18:00.263Z"
   },
   {
    "duration": 467,
    "start_time": "2021-10-03T13:18:02.605Z"
   },
   {
    "duration": 636,
    "start_time": "2021-10-03T13:18:04.033Z"
   },
   {
    "duration": 426,
    "start_time": "2021-10-03T13:19:39.964Z"
   },
   {
    "duration": 51,
    "start_time": "2021-10-03T13:19:51.307Z"
   },
   {
    "duration": 30,
    "start_time": "2021-10-03T13:21:16.038Z"
   },
   {
    "duration": 404,
    "start_time": "2021-10-03T13:22:06.527Z"
   },
   {
    "duration": 30,
    "start_time": "2021-10-03T13:22:15.323Z"
   },
   {
    "duration": 426,
    "start_time": "2021-10-03T13:22:30.068Z"
   },
   {
    "duration": 32,
    "start_time": "2021-10-03T13:22:38.412Z"
   },
   {
    "duration": 28,
    "start_time": "2021-10-03T13:29:11.324Z"
   },
   {
    "duration": 410,
    "start_time": "2021-10-03T13:35:42.981Z"
   },
   {
    "duration": 23,
    "start_time": "2021-10-03T13:35:59.337Z"
   },
   {
    "duration": 29,
    "start_time": "2021-10-03T13:36:08.367Z"
   },
   {
    "duration": 737,
    "start_time": "2021-10-03T13:36:12.635Z"
   },
   {
    "duration": 157,
    "start_time": "2021-10-03T13:40:19.550Z"
   },
   {
    "duration": 556,
    "start_time": "2021-10-03T13:40:31.143Z"
   },
   {
    "duration": 573,
    "start_time": "2021-10-03T13:41:27.207Z"
   },
   {
    "duration": 480,
    "start_time": "2021-10-03T13:44:10.510Z"
   },
   {
    "duration": 367,
    "start_time": "2021-10-03T13:44:33.608Z"
   },
   {
    "duration": 659,
    "start_time": "2021-10-03T13:45:34.776Z"
   },
   {
    "duration": 143,
    "start_time": "2021-10-03T13:49:20.725Z"
   },
   {
    "duration": 1088,
    "start_time": "2021-10-03T13:49:43.360Z"
   },
   {
    "duration": 12097,
    "start_time": "2021-10-03T13:50:16.550Z"
   },
   {
    "duration": 327,
    "start_time": "2021-10-03T13:50:43.898Z"
   },
   {
    "duration": 487,
    "start_time": "2021-10-03T13:51:14.789Z"
   },
   {
    "duration": 1556,
    "start_time": "2021-10-03T13:51:44.901Z"
   },
   {
    "duration": 18,
    "start_time": "2021-10-03T13:51:46.459Z"
   },
   {
    "duration": 41,
    "start_time": "2021-10-03T13:51:46.480Z"
   },
   {
    "duration": 26,
    "start_time": "2021-10-03T13:51:46.523Z"
   },
   {
    "duration": 649,
    "start_time": "2021-10-03T13:51:46.552Z"
   },
   {
    "duration": 31,
    "start_time": "2021-10-03T13:51:47.204Z"
   },
   {
    "duration": 581,
    "start_time": "2021-10-03T13:51:47.237Z"
   },
   {
    "duration": 28,
    "start_time": "2021-10-03T13:51:47.823Z"
   },
   {
    "duration": 652,
    "start_time": "2021-10-03T13:51:47.854Z"
   },
   {
    "duration": 952,
    "start_time": "2021-10-03T13:51:48.509Z"
   },
   {
    "duration": 830,
    "start_time": "2021-10-03T13:51:49.464Z"
   },
   {
    "duration": 38,
    "start_time": "2021-10-03T13:51:50.296Z"
   },
   {
    "duration": 443,
    "start_time": "2021-10-03T13:51:50.337Z"
   },
   {
    "duration": 977,
    "start_time": "2021-10-03T13:51:50.782Z"
   },
   {
    "duration": 88,
    "start_time": "2021-10-03T13:51:51.762Z"
   },
   {
    "duration": 44,
    "start_time": "2021-10-03T13:51:51.853Z"
   },
   {
    "duration": 666,
    "start_time": "2021-10-03T13:51:51.900Z"
   },
   {
    "duration": 451,
    "start_time": "2021-10-03T13:51:52.569Z"
   },
   {
    "duration": 354,
    "start_time": "2021-10-03T13:52:19.501Z"
   },
   {
    "duration": 328,
    "start_time": "2021-10-03T13:53:07.050Z"
   },
   {
    "duration": 353,
    "start_time": "2021-10-03T14:01:08.435Z"
   },
   {
    "duration": 562,
    "start_time": "2021-10-03T14:02:01.517Z"
   },
   {
    "duration": 232,
    "start_time": "2021-10-03T14:02:18.075Z"
   },
   {
    "duration": 211,
    "start_time": "2021-10-03T14:03:25.524Z"
   },
   {
    "duration": 32,
    "start_time": "2021-10-03T14:05:42.453Z"
   },
   {
    "duration": 703,
    "start_time": "2021-10-03T14:09:19.049Z"
   },
   {
    "duration": 271,
    "start_time": "2021-10-03T14:09:34.417Z"
   },
   {
    "duration": 295,
    "start_time": "2021-10-03T14:09:47.382Z"
   },
   {
    "duration": 159,
    "start_time": "2021-10-03T14:10:12.058Z"
   },
   {
    "duration": 491,
    "start_time": "2021-10-03T14:12:16.041Z"
   },
   {
    "duration": -1492,
    "start_time": "2021-10-03T14:14:24.359Z"
   },
   {
    "duration": 12801,
    "start_time": "2021-10-03T14:14:56.172Z"
   },
   {
    "duration": 465,
    "start_time": "2021-10-03T14:16:43.382Z"
   },
   {
    "duration": 158,
    "start_time": "2021-10-03T14:17:45.545Z"
   },
   {
    "duration": 322,
    "start_time": "2021-10-03T14:18:44.687Z"
   },
   {
    "duration": 340,
    "start_time": "2021-10-03T14:18:50.601Z"
   },
   {
    "duration": 525,
    "start_time": "2021-10-03T14:20:27.386Z"
   },
   {
    "duration": 376,
    "start_time": "2021-10-03T14:21:52.740Z"
   },
   {
    "duration": 361,
    "start_time": "2021-10-03T14:21:59.660Z"
   },
   {
    "duration": 395,
    "start_time": "2021-10-03T14:22:05.386Z"
   },
   {
    "duration": 20,
    "start_time": "2021-10-03T14:22:13.067Z"
   },
   {
    "duration": 451,
    "start_time": "2021-10-03T14:22:59.599Z"
   },
   {
    "duration": 20,
    "start_time": "2021-10-03T14:23:05.974Z"
   },
   {
    "duration": 389,
    "start_time": "2021-10-03T14:24:30.298Z"
   },
   {
    "duration": 22,
    "start_time": "2021-10-03T14:24:35.044Z"
   },
   {
    "duration": 21,
    "start_time": "2021-10-03T14:24:50.318Z"
   },
   {
    "duration": 212,
    "start_time": "2021-10-03T14:25:13.515Z"
   },
   {
    "duration": 20,
    "start_time": "2021-10-03T14:25:14.765Z"
   },
   {
    "duration": 714,
    "start_time": "2021-10-03T14:26:44.076Z"
   },
   {
    "duration": 385,
    "start_time": "2021-10-03T14:27:45.438Z"
   },
   {
    "duration": 234,
    "start_time": "2021-10-03T14:27:50.069Z"
   },
   {
    "duration": 16,
    "start_time": "2021-10-03T14:27:51.838Z"
   },
   {
    "duration": 15,
    "start_time": "2021-10-03T14:27:58.604Z"
   },
   {
    "duration": 409,
    "start_time": "2021-10-03T14:28:04.173Z"
   },
   {
    "duration": 20,
    "start_time": "2021-10-03T14:28:18.817Z"
   },
   {
    "duration": 432,
    "start_time": "2021-10-03T14:28:23.383Z"
   },
   {
    "duration": 22,
    "start_time": "2021-10-03T14:28:46.452Z"
   },
   {
    "duration": 460,
    "start_time": "2021-10-03T14:28:52.150Z"
   },
   {
    "duration": 18,
    "start_time": "2021-10-03T14:29:06.106Z"
   },
   {
    "duration": 565,
    "start_time": "2021-10-03T14:29:06.534Z"
   },
   {
    "duration": 285,
    "start_time": "2021-10-04T08:25:59.547Z"
   },
   {
    "duration": 1152,
    "start_time": "2021-10-04T08:26:08.162Z"
   },
   {
    "duration": 12,
    "start_time": "2021-10-04T08:26:09.316Z"
   },
   {
    "duration": 21,
    "start_time": "2021-10-04T08:26:09.329Z"
   },
   {
    "duration": 17,
    "start_time": "2021-10-04T08:26:09.352Z"
   },
   {
    "duration": 470,
    "start_time": "2021-10-04T08:26:09.370Z"
   },
   {
    "duration": 15,
    "start_time": "2021-10-04T08:26:09.845Z"
   },
   {
    "duration": 297,
    "start_time": "2021-10-04T08:26:09.862Z"
   },
   {
    "duration": 21,
    "start_time": "2021-10-04T08:26:10.163Z"
   },
   {
    "duration": 405,
    "start_time": "2021-10-04T08:26:10.186Z"
   },
   {
    "duration": 656,
    "start_time": "2021-10-04T08:26:10.593Z"
   },
   {
    "duration": 502,
    "start_time": "2021-10-04T08:26:11.251Z"
   },
   {
    "duration": 20,
    "start_time": "2021-10-04T08:26:11.755Z"
   },
   {
    "duration": 271,
    "start_time": "2021-10-04T08:26:11.776Z"
   },
   {
    "duration": 454,
    "start_time": "2021-10-04T08:26:12.049Z"
   },
   {
    "duration": 48,
    "start_time": "2021-10-04T08:26:12.505Z"
   },
   {
    "duration": 22,
    "start_time": "2021-10-04T08:26:12.555Z"
   },
   {
    "duration": 415,
    "start_time": "2021-10-04T08:26:12.579Z"
   },
   {
    "duration": 430,
    "start_time": "2021-10-04T08:26:12.996Z"
   },
   {
    "duration": 272,
    "start_time": "2021-10-04T08:26:13.428Z"
   },
   {
    "duration": 10,
    "start_time": "2021-10-04T08:26:13.702Z"
   },
   {
    "duration": 332,
    "start_time": "2021-10-04T08:26:13.714Z"
   },
   {
    "duration": 18,
    "start_time": "2021-10-04T08:26:14.047Z"
   },
   {
    "duration": 21,
    "start_time": "2021-10-04T08:27:40.450Z"
   },
   {
    "duration": 23,
    "start_time": "2021-10-04T08:28:00.834Z"
   },
   {
    "duration": 19,
    "start_time": "2021-10-04T08:28:24.776Z"
   },
   {
    "duration": 20,
    "start_time": "2021-10-04T08:28:34.641Z"
   },
   {
    "duration": 14,
    "start_time": "2021-10-04T08:30:47.718Z"
   },
   {
    "duration": 18,
    "start_time": "2021-10-04T08:38:01.012Z"
   },
   {
    "duration": 20,
    "start_time": "2021-10-04T08:38:05.807Z"
   },
   {
    "duration": 20,
    "start_time": "2021-10-04T08:38:33.689Z"
   },
   {
    "duration": 13,
    "start_time": "2021-10-04T08:39:09.826Z"
   },
   {
    "duration": 14,
    "start_time": "2021-10-04T08:40:06.188Z"
   },
   {
    "duration": 1204,
    "start_time": "2021-10-04T08:40:23.725Z"
   },
   {
    "duration": 11,
    "start_time": "2021-10-04T08:40:24.931Z"
   },
   {
    "duration": 24,
    "start_time": "2021-10-04T08:40:24.944Z"
   },
   {
    "duration": 15,
    "start_time": "2021-10-04T08:40:24.970Z"
   },
   {
    "duration": 365,
    "start_time": "2021-10-04T08:40:24.986Z"
   },
   {
    "duration": 14,
    "start_time": "2021-10-04T08:40:25.353Z"
   },
   {
    "duration": 286,
    "start_time": "2021-10-04T08:40:25.368Z"
   },
   {
    "duration": 19,
    "start_time": "2021-10-04T08:40:25.658Z"
   },
   {
    "duration": 387,
    "start_time": "2021-10-04T08:40:25.679Z"
   },
   {
    "duration": 572,
    "start_time": "2021-10-04T08:40:26.067Z"
   },
   {
    "duration": 523,
    "start_time": "2021-10-04T08:40:26.644Z"
   },
   {
    "duration": 20,
    "start_time": "2021-10-04T08:40:27.169Z"
   },
   {
    "duration": 286,
    "start_time": "2021-10-04T08:40:27.191Z"
   },
   {
    "duration": 436,
    "start_time": "2021-10-04T08:40:27.478Z"
   },
   {
    "duration": 43,
    "start_time": "2021-10-04T08:40:27.916Z"
   },
   {
    "duration": 29,
    "start_time": "2021-10-04T08:40:27.961Z"
   },
   {
    "duration": 385,
    "start_time": "2021-10-04T08:40:27.992Z"
   },
   {
    "duration": 112,
    "start_time": "2021-10-04T08:40:28.378Z"
   },
   {
    "duration": 162,
    "start_time": "2021-10-04T08:40:28.492Z"
   },
   {
    "duration": 9,
    "start_time": "2021-10-04T08:40:28.655Z"
   },
   {
    "duration": 340,
    "start_time": "2021-10-04T08:40:28.666Z"
   },
   {
    "duration": 20,
    "start_time": "2021-10-04T08:40:29.007Z"
   },
   {
    "duration": 25,
    "start_time": "2021-10-04T08:40:29.030Z"
   },
   {
    "duration": 365,
    "start_time": "2021-10-04T08:41:59.480Z"
   },
   {
    "duration": 14,
    "start_time": "2021-10-04T08:42:40.903Z"
   },
   {
    "duration": 1206,
    "start_time": "2021-10-04T08:43:01.117Z"
   },
   {
    "duration": 10,
    "start_time": "2021-10-04T08:43:02.325Z"
   },
   {
    "duration": 23,
    "start_time": "2021-10-04T08:43:02.339Z"
   },
   {
    "duration": 19,
    "start_time": "2021-10-04T08:43:02.363Z"
   },
   {
    "duration": 378,
    "start_time": "2021-10-04T08:43:02.384Z"
   },
   {
    "duration": 15,
    "start_time": "2021-10-04T08:43:02.763Z"
   },
   {
    "duration": 283,
    "start_time": "2021-10-04T08:43:02.782Z"
   },
   {
    "duration": 19,
    "start_time": "2021-10-04T08:43:03.067Z"
   },
   {
    "duration": 371,
    "start_time": "2021-10-04T08:43:03.087Z"
   },
   {
    "duration": 579,
    "start_time": "2021-10-04T08:43:03.459Z"
   },
   {
    "duration": 515,
    "start_time": "2021-10-04T08:43:04.044Z"
   },
   {
    "duration": 17,
    "start_time": "2021-10-04T08:43:04.561Z"
   },
   {
    "duration": 264,
    "start_time": "2021-10-04T08:43:04.580Z"
   },
   {
    "duration": 414,
    "start_time": "2021-10-04T08:43:04.846Z"
   },
   {
    "duration": 32,
    "start_time": "2021-10-04T08:43:05.261Z"
   },
   {
    "duration": 43,
    "start_time": "2021-10-04T08:43:05.295Z"
   },
   {
    "duration": 466,
    "start_time": "2021-10-04T08:43:05.339Z"
   },
   {
    "duration": 384,
    "start_time": "2021-10-04T08:43:05.807Z"
   },
   {
    "duration": 266,
    "start_time": "2021-10-04T08:43:06.193Z"
   },
   {
    "duration": 10,
    "start_time": "2021-10-04T08:43:06.461Z"
   },
   {
    "duration": 328,
    "start_time": "2021-10-04T08:43:06.473Z"
   },
   {
    "duration": 20,
    "start_time": "2021-10-04T08:43:06.805Z"
   },
   {
    "duration": 27,
    "start_time": "2021-10-04T08:43:06.827Z"
   },
   {
    "duration": 358,
    "start_time": "2021-10-04T08:43:31.171Z"
   },
   {
    "duration": 14,
    "start_time": "2021-10-04T08:43:47.194Z"
   },
   {
    "duration": 1182,
    "start_time": "2021-10-04T08:44:10.236Z"
   },
   {
    "duration": 11,
    "start_time": "2021-10-04T08:44:11.419Z"
   },
   {
    "duration": 22,
    "start_time": "2021-10-04T08:44:11.432Z"
   },
   {
    "duration": 17,
    "start_time": "2021-10-04T08:44:11.456Z"
   },
   {
    "duration": 379,
    "start_time": "2021-10-04T08:44:11.474Z"
   },
   {
    "duration": 13,
    "start_time": "2021-10-04T08:44:11.855Z"
   },
   {
    "duration": 283,
    "start_time": "2021-10-04T08:44:11.870Z"
   },
   {
    "duration": 18,
    "start_time": "2021-10-04T08:44:12.156Z"
   },
   {
    "duration": 389,
    "start_time": "2021-10-04T08:44:12.176Z"
   },
   {
    "duration": 693,
    "start_time": "2021-10-04T08:44:12.567Z"
   },
   {
    "duration": 604,
    "start_time": "2021-10-04T08:44:13.262Z"
   },
   {
    "duration": 18,
    "start_time": "2021-10-04T08:44:13.868Z"
   },
   {
    "duration": 274,
    "start_time": "2021-10-04T08:44:13.887Z"
   },
   {
    "duration": 533,
    "start_time": "2021-10-04T08:44:14.162Z"
   },
   {
    "duration": 33,
    "start_time": "2021-10-04T08:44:14.697Z"
   },
   {
    "duration": 31,
    "start_time": "2021-10-04T08:44:14.732Z"
   },
   {
    "duration": 394,
    "start_time": "2021-10-04T08:44:14.765Z"
   },
   {
    "duration": 180,
    "start_time": "2021-10-04T08:44:15.160Z"
   },
   {
    "duration": 297,
    "start_time": "2021-10-04T08:44:15.342Z"
   },
   {
    "duration": 9,
    "start_time": "2021-10-04T08:44:15.641Z"
   },
   {
    "duration": 428,
    "start_time": "2021-10-04T08:44:15.652Z"
   },
   {
    "duration": 17,
    "start_time": "2021-10-04T08:44:16.082Z"
   },
   {
    "duration": 15,
    "start_time": "2021-10-04T08:44:16.102Z"
   },
   {
    "duration": 377,
    "start_time": "2021-10-04T08:45:25.547Z"
   },
   {
    "duration": 17,
    "start_time": "2021-10-04T08:45:37.773Z"
   },
   {
    "duration": 14,
    "start_time": "2021-10-04T08:46:58.823Z"
   },
   {
    "duration": 13,
    "start_time": "2021-10-04T08:47:49.481Z"
   },
   {
    "duration": 14,
    "start_time": "2021-10-04T08:48:07.849Z"
   },
   {
    "duration": 340,
    "start_time": "2021-10-04T09:15:09.512Z"
   },
   {
    "duration": 270,
    "start_time": "2021-10-04T09:15:31.563Z"
   },
   {
    "duration": 1319,
    "start_time": "2021-10-04T09:16:01.600Z"
   },
   {
    "duration": 10,
    "start_time": "2021-10-04T09:16:02.921Z"
   },
   {
    "duration": 49,
    "start_time": "2021-10-04T09:16:02.933Z"
   },
   {
    "duration": 38,
    "start_time": "2021-10-04T09:16:02.983Z"
   },
   {
    "duration": 400,
    "start_time": "2021-10-04T09:16:03.023Z"
   },
   {
    "duration": 19,
    "start_time": "2021-10-04T09:16:03.426Z"
   },
   {
    "duration": 304,
    "start_time": "2021-10-04T09:16:03.446Z"
   },
   {
    "duration": 19,
    "start_time": "2021-10-04T09:16:03.752Z"
   },
   {
    "duration": 410,
    "start_time": "2021-10-04T09:16:03.773Z"
   },
   {
    "duration": 683,
    "start_time": "2021-10-04T09:16:04.185Z"
   },
   {
    "duration": 620,
    "start_time": "2021-10-04T09:16:04.870Z"
   },
   {
    "duration": 18,
    "start_time": "2021-10-04T09:16:05.492Z"
   },
   {
    "duration": 297,
    "start_time": "2021-10-04T09:16:05.511Z"
   },
   {
    "duration": 480,
    "start_time": "2021-10-04T09:16:05.810Z"
   },
   {
    "duration": 35,
    "start_time": "2021-10-04T09:16:06.292Z"
   },
   {
    "duration": 32,
    "start_time": "2021-10-04T09:16:06.328Z"
   },
   {
    "duration": 422,
    "start_time": "2021-10-04T09:16:06.362Z"
   },
   {
    "duration": 302,
    "start_time": "2021-10-04T09:16:06.786Z"
   },
   {
    "duration": 316,
    "start_time": "2021-10-04T09:16:07.090Z"
   },
   {
    "duration": 10,
    "start_time": "2021-10-04T09:16:07.408Z"
   },
   {
    "duration": 351,
    "start_time": "2021-10-04T09:16:07.420Z"
   },
   {
    "duration": 20,
    "start_time": "2021-10-04T09:16:07.773Z"
   },
   {
    "duration": 16,
    "start_time": "2021-10-04T09:16:07.796Z"
   },
   {
    "duration": 402,
    "start_time": "2021-10-04T09:16:07.814Z"
   },
   {
    "duration": -2619,
    "start_time": "2021-10-04T09:16:10.837Z"
   },
   {
    "duration": 12,
    "start_time": "2021-10-04T09:16:26.459Z"
   },
   {
    "duration": 279,
    "start_time": "2021-10-04T09:16:31.284Z"
   },
   {
    "duration": 6,
    "start_time": "2021-10-04T09:17:35.316Z"
   },
   {
    "duration": 6,
    "start_time": "2021-10-04T09:17:50.394Z"
   },
   {
    "duration": 288,
    "start_time": "2021-10-04T09:20:53.751Z"
   },
   {
    "duration": 18,
    "start_time": "2021-10-04T09:21:09.724Z"
   },
   {
    "duration": 29,
    "start_time": "2021-10-04T09:25:07.656Z"
   },
   {
    "duration": 30,
    "start_time": "2021-10-04T09:25:45.362Z"
   },
   {
    "duration": 318,
    "start_time": "2021-10-04T09:57:20.530Z"
   },
   {
    "duration": 36,
    "start_time": "2021-10-04T09:57:31.758Z"
   },
   {
    "duration": 36,
    "start_time": "2021-10-04T09:58:37.269Z"
   },
   {
    "duration": 310,
    "start_time": "2021-10-04T09:59:05.840Z"
   },
   {
    "duration": 38,
    "start_time": "2021-10-04T09:59:11.576Z"
   },
   {
    "duration": 34,
    "start_time": "2021-10-04T09:59:29.517Z"
   },
   {
    "duration": 261,
    "start_time": "2021-10-04T09:59:57.901Z"
   },
   {
    "duration": 36,
    "start_time": "2021-10-04T10:00:06.258Z"
   },
   {
    "duration": 1674,
    "start_time": "2021-10-04T10:00:14.914Z"
   },
   {
    "duration": 23,
    "start_time": "2021-10-04T10:01:41.140Z"
   },
   {
    "duration": 34,
    "start_time": "2021-10-04T10:02:02.718Z"
   },
   {
    "duration": 8360,
    "start_time": "2021-10-04T10:02:24.346Z"
   },
   {
    "duration": 24,
    "start_time": "2021-10-04T10:03:27.162Z"
   },
   {
    "duration": 24,
    "start_time": "2021-10-04T10:03:35.581Z"
   },
   {
    "duration": 23,
    "start_time": "2021-10-04T10:05:08.422Z"
   },
   {
    "duration": 38,
    "start_time": "2021-10-04T10:05:17.851Z"
   },
   {
    "duration": 56,
    "start_time": "2021-10-04T10:05:27.584Z"
   },
   {
    "duration": 34,
    "start_time": "2021-10-04T10:05:49.036Z"
   },
   {
    "duration": 35,
    "start_time": "2021-10-04T10:06:07.262Z"
   },
   {
    "duration": 361,
    "start_time": "2021-10-04T10:07:04.872Z"
   },
   {
    "duration": 36,
    "start_time": "2021-10-04T10:07:49.166Z"
   },
   {
    "duration": 37,
    "start_time": "2021-10-04T10:08:34.862Z"
   },
   {
    "duration": 27,
    "start_time": "2021-10-04T10:10:53.878Z"
   },
   {
    "duration": 39,
    "start_time": "2021-10-04T10:11:02.272Z"
   },
   {
    "duration": 37,
    "start_time": "2021-10-04T10:11:16.868Z"
   },
   {
    "duration": 21,
    "start_time": "2021-10-04T10:11:42.546Z"
   },
   {
    "duration": 20,
    "start_time": "2021-10-04T10:11:52.430Z"
   },
   {
    "duration": 24,
    "start_time": "2021-10-04T10:12:03.631Z"
   },
   {
    "duration": 35,
    "start_time": "2021-10-04T10:12:07.526Z"
   },
   {
    "duration": 37,
    "start_time": "2021-10-04T10:12:38.702Z"
   },
   {
    "duration": 297,
    "start_time": "2021-10-04T10:14:09.746Z"
   },
   {
    "duration": 7152,
    "start_time": "2021-10-04T10:14:16.872Z"
   },
   {
    "duration": 29,
    "start_time": "2021-10-04T10:14:28.263Z"
   },
   {
    "duration": 35,
    "start_time": "2021-10-04T10:15:07.239Z"
   },
   {
    "duration": 265,
    "start_time": "2021-10-04T10:15:23.703Z"
   },
   {
    "duration": 33,
    "start_time": "2021-10-04T10:16:55.533Z"
   },
   {
    "duration": 88,
    "start_time": "2021-10-04T10:18:32.374Z"
   },
   {
    "duration": 38,
    "start_time": "2021-10-04T10:19:26.319Z"
   },
   {
    "duration": 523,
    "start_time": "2021-10-04T10:19:52.892Z"
   },
   {
    "duration": 835,
    "start_time": "2021-10-04T10:20:23.217Z"
   },
   {
    "duration": 777,
    "start_time": "2021-10-04T10:20:52.191Z"
   },
   {
    "duration": 895,
    "start_time": "2021-10-04T10:21:16.893Z"
   },
   {
    "duration": 366,
    "start_time": "2021-10-05T07:48:57.535Z"
   },
   {
    "duration": 1689,
    "start_time": "2021-10-05T07:49:00.812Z"
   },
   {
    "duration": 17,
    "start_time": "2021-10-05T07:49:02.504Z"
   },
   {
    "duration": 42,
    "start_time": "2021-10-05T07:49:02.524Z"
   },
   {
    "duration": 31,
    "start_time": "2021-10-05T07:49:02.569Z"
   },
   {
    "duration": 710,
    "start_time": "2021-10-05T07:49:02.602Z"
   },
   {
    "duration": 21,
    "start_time": "2021-10-05T07:49:03.314Z"
   },
   {
    "duration": 518,
    "start_time": "2021-10-05T07:49:03.338Z"
   },
   {
    "duration": 34,
    "start_time": "2021-10-05T07:49:03.863Z"
   },
   {
    "duration": 690,
    "start_time": "2021-10-05T07:49:03.900Z"
   },
   {
    "duration": 1186,
    "start_time": "2021-10-05T07:49:04.593Z"
   },
   {
    "duration": 918,
    "start_time": "2021-10-05T07:49:05.782Z"
   },
   {
    "duration": 30,
    "start_time": "2021-10-05T07:49:06.702Z"
   },
   {
    "duration": 569,
    "start_time": "2021-10-05T07:49:06.735Z"
   },
   {
    "duration": 809,
    "start_time": "2021-10-05T07:49:07.307Z"
   },
   {
    "duration": 82,
    "start_time": "2021-10-05T07:49:08.119Z"
   },
   {
    "duration": 31,
    "start_time": "2021-10-05T07:49:08.203Z"
   },
   {
    "duration": 719,
    "start_time": "2021-10-05T07:49:08.237Z"
   },
   {
    "duration": 26430,
    "start_time": "2021-10-05T07:49:08.963Z"
   },
   {
    "duration": 81394,
    "start_time": "2021-10-05T07:48:14.002Z"
   },
   {
    "duration": 81392,
    "start_time": "2021-10-05T07:48:14.005Z"
   },
   {
    "duration": 81392,
    "start_time": "2021-10-05T07:48:14.007Z"
   },
   {
    "duration": 81391,
    "start_time": "2021-10-05T07:48:14.009Z"
   },
   {
    "duration": 81391,
    "start_time": "2021-10-05T07:48:14.011Z"
   },
   {
    "duration": 81390,
    "start_time": "2021-10-05T07:48:14.013Z"
   },
   {
    "duration": 81390,
    "start_time": "2021-10-05T07:48:14.014Z"
   },
   {
    "duration": 81391,
    "start_time": "2021-10-05T07:48:14.015Z"
   },
   {
    "duration": 81390,
    "start_time": "2021-10-05T07:48:14.017Z"
   },
   {
    "duration": 81391,
    "start_time": "2021-10-05T07:48:14.018Z"
   },
   {
    "duration": 14333,
    "start_time": "2021-10-05T07:57:02.070Z"
   },
   {
    "duration": 13376,
    "start_time": "2021-10-05T07:57:56.879Z"
   },
   {
    "duration": 32,
    "start_time": "2021-10-05T07:58:10.258Z"
   },
   {
    "duration": 572,
    "start_time": "2021-10-05T07:58:10.293Z"
   },
   {
    "duration": 9,
    "start_time": "2021-10-05T07:58:10.867Z"
   },
   {
    "duration": 28,
    "start_time": "2021-10-05T07:58:10.878Z"
   },
   {
    "duration": 54,
    "start_time": "2021-10-05T07:58:10.909Z"
   },
   {
    "duration": 20,
    "start_time": "2021-10-05T07:58:10.965Z"
   },
   {
    "duration": 82,
    "start_time": "2021-10-05T07:58:10.987Z"
   },
   {
    "duration": 1416,
    "start_time": "2021-10-05T07:58:11.074Z"
   },
   {
    "duration": 182,
    "start_time": "2021-10-05T07:58:12.492Z"
   },
   {
    "duration": 21,
    "start_time": "2021-10-05T08:00:43.845Z"
   },
   {
    "duration": 1503,
    "start_time": "2021-10-08T07:04:59.110Z"
   },
   {
    "duration": 18,
    "start_time": "2021-10-08T07:05:01.798Z"
   },
   {
    "duration": 27,
    "start_time": "2021-10-08T07:05:02.755Z"
   },
   {
    "duration": 99,
    "start_time": "2021-10-08T07:05:07.519Z"
   },
   {
    "duration": 490,
    "start_time": "2021-10-08T07:06:54.847Z"
   },
   {
    "duration": 17,
    "start_time": "2021-10-08T07:07:16.010Z"
   },
   {
    "duration": 20,
    "start_time": "2021-10-08T07:08:04.449Z"
   },
   {
    "duration": 17,
    "start_time": "2021-10-08T07:09:07.707Z"
   },
   {
    "duration": 29,
    "start_time": "2021-10-08T07:09:21.722Z"
   },
   {
    "duration": 17,
    "start_time": "2021-10-08T07:42:34.265Z"
   },
   {
    "duration": 3397,
    "start_time": "2021-10-08T07:45:48.989Z"
   },
   {
    "duration": 8396,
    "start_time": "2021-10-08T07:51:40.844Z"
   },
   {
    "duration": 25,
    "start_time": "2021-10-08T08:03:20.251Z"
   },
   {
    "duration": 39,
    "start_time": "2021-10-08T08:03:32.085Z"
   },
   {
    "duration": 22,
    "start_time": "2021-10-08T08:03:40.913Z"
   },
   {
    "duration": 32,
    "start_time": "2021-10-08T08:05:34.991Z"
   },
   {
    "duration": 33,
    "start_time": "2021-10-08T08:07:30.918Z"
   },
   {
    "duration": 39,
    "start_time": "2021-10-08T08:07:46.202Z"
   },
   {
    "duration": 26,
    "start_time": "2021-10-08T08:08:06.930Z"
   },
   {
    "duration": 92,
    "start_time": "2021-10-08T08:08:50.976Z"
   },
   {
    "duration": 3593,
    "start_time": "2021-10-08T08:08:56.790Z"
   },
   {
    "duration": 3630,
    "start_time": "2021-10-08T08:09:26.249Z"
   },
   {
    "duration": 3590,
    "start_time": "2021-10-08T08:10:36.851Z"
   },
   {
    "duration": 69,
    "start_time": "2021-10-08T08:11:03.051Z"
   },
   {
    "duration": 25,
    "start_time": "2021-10-08T08:11:04.700Z"
   },
   {
    "duration": 38,
    "start_time": "2021-10-08T08:11:05.513Z"
   },
   {
    "duration": 19,
    "start_time": "2021-10-08T08:11:16.089Z"
   },
   {
    "duration": 3704,
    "start_time": "2021-10-08T08:11:17.155Z"
   },
   {
    "duration": 3497,
    "start_time": "2021-10-08T08:11:45.867Z"
   },
   {
    "duration": 3300,
    "start_time": "2021-10-08T08:11:56.144Z"
   },
   {
    "duration": 63,
    "start_time": "2021-10-08T08:12:49.248Z"
   },
   {
    "duration": 1583,
    "start_time": "2021-10-08T08:12:57.345Z"
   },
   {
    "duration": 17,
    "start_time": "2021-10-08T08:12:58.931Z"
   },
   {
    "duration": 34,
    "start_time": "2021-10-08T08:12:58.951Z"
   },
   {
    "duration": 17,
    "start_time": "2021-10-08T08:12:58.987Z"
   },
   {
    "duration": 3541,
    "start_time": "2021-10-08T08:12:59.007Z"
   },
   {
    "duration": 555,
    "start_time": "2021-10-08T08:13:02.551Z"
   },
   {
    "duration": -251,
    "start_time": "2021-10-08T08:13:03.360Z"
   },
   {
    "duration": -257,
    "start_time": "2021-10-08T08:13:03.368Z"
   },
   {
    "duration": -262,
    "start_time": "2021-10-08T08:13:03.374Z"
   },
   {
    "duration": -264,
    "start_time": "2021-10-08T08:13:03.378Z"
   },
   {
    "duration": -267,
    "start_time": "2021-10-08T08:13:03.382Z"
   },
   {
    "duration": -270,
    "start_time": "2021-10-08T08:13:03.386Z"
   },
   {
    "duration": -273,
    "start_time": "2021-10-08T08:13:03.391Z"
   },
   {
    "duration": -283,
    "start_time": "2021-10-08T08:13:03.402Z"
   },
   {
    "duration": -362,
    "start_time": "2021-10-08T08:13:03.483Z"
   },
   {
    "duration": -365,
    "start_time": "2021-10-08T08:13:03.487Z"
   },
   {
    "duration": -396,
    "start_time": "2021-10-08T08:13:03.519Z"
   },
   {
    "duration": -396,
    "start_time": "2021-10-08T08:13:03.521Z"
   },
   {
    "duration": -398,
    "start_time": "2021-10-08T08:13:03.524Z"
   },
   {
    "duration": -404,
    "start_time": "2021-10-08T08:13:03.532Z"
   },
   {
    "duration": -406,
    "start_time": "2021-10-08T08:13:03.535Z"
   },
   {
    "duration": -408,
    "start_time": "2021-10-08T08:13:03.538Z"
   },
   {
    "duration": -409,
    "start_time": "2021-10-08T08:13:03.541Z"
   },
   {
    "duration": -410,
    "start_time": "2021-10-08T08:13:03.544Z"
   },
   {
    "duration": -412,
    "start_time": "2021-10-08T08:13:03.547Z"
   },
   {
    "duration": -414,
    "start_time": "2021-10-08T08:13:03.550Z"
   },
   {
    "duration": -414,
    "start_time": "2021-10-08T08:13:03.552Z"
   },
   {
    "duration": -416,
    "start_time": "2021-10-08T08:13:03.555Z"
   },
   {
    "duration": -426,
    "start_time": "2021-10-08T08:13:03.566Z"
   },
   {
    "duration": -427,
    "start_time": "2021-10-08T08:13:03.569Z"
   },
   {
    "duration": -429,
    "start_time": "2021-10-08T08:13:03.572Z"
   },
   {
    "duration": -429,
    "start_time": "2021-10-08T08:13:03.573Z"
   },
   {
    "duration": -431,
    "start_time": "2021-10-08T08:13:03.576Z"
   },
   {
    "duration": 3843,
    "start_time": "2021-10-08T08:14:27.332Z"
   },
   {
    "duration": 3679,
    "start_time": "2021-10-08T08:14:41.712Z"
   },
   {
    "duration": 3,
    "start_time": "2021-10-08T08:15:43.751Z"
   },
   {
    "duration": 27,
    "start_time": "2021-10-08T08:16:05.007Z"
   },
   {
    "duration": 157,
    "start_time": "2021-10-08T08:16:06.261Z"
   },
   {
    "duration": 29,
    "start_time": "2021-10-08T08:16:35.918Z"
   },
   {
    "duration": 31,
    "start_time": "2021-10-08T08:16:47.241Z"
   },
   {
    "duration": 643,
    "start_time": "2021-10-08T08:16:50.730Z"
   },
   {
    "duration": 23,
    "start_time": "2021-10-08T08:18:38.990Z"
   },
   {
    "duration": 26,
    "start_time": "2021-10-08T08:19:32.428Z"
   },
   {
    "duration": 343,
    "start_time": "2021-10-08T08:20:03.235Z"
   },
   {
    "duration": 33,
    "start_time": "2021-10-08T08:21:38.434Z"
   },
   {
    "duration": 8625,
    "start_time": "2021-10-08T08:21:56.343Z"
   },
   {
    "duration": 35,
    "start_time": "2021-10-08T08:22:21.570Z"
   },
   {
    "duration": 158,
    "start_time": "2021-10-08T08:24:51.505Z"
   },
   {
    "duration": -56,
    "start_time": "2021-10-08T08:25:28.477Z"
   },
   {
    "duration": 8509,
    "start_time": "2021-10-08T08:25:41.275Z"
   },
   {
    "duration": 1525,
    "start_time": "2021-10-08T08:26:09.481Z"
   },
   {
    "duration": 19,
    "start_time": "2021-10-08T08:26:11.010Z"
   },
   {
    "duration": 53,
    "start_time": "2021-10-08T08:26:11.032Z"
   },
   {
    "duration": 20,
    "start_time": "2021-10-08T08:26:11.088Z"
   },
   {
    "duration": 6,
    "start_time": "2021-10-08T08:26:11.110Z"
   },
   {
    "duration": 54,
    "start_time": "2021-10-08T08:26:11.118Z"
   },
   {
    "duration": 28,
    "start_time": "2021-10-08T08:26:11.174Z"
   },
   {
    "duration": 57,
    "start_time": "2021-10-08T08:26:11.207Z"
   },
   {
    "duration": 670,
    "start_time": "2021-10-08T08:26:11.267Z"
   },
   {
    "duration": 49,
    "start_time": "2021-10-08T08:26:11.939Z"
   },
   {
    "duration": 447,
    "start_time": "2021-10-08T08:26:11.991Z"
   },
   {
    "duration": -81,
    "start_time": "2021-10-08T08:26:12.523Z"
   },
   {
    "duration": -83,
    "start_time": "2021-10-08T08:26:12.527Z"
   },
   {
    "duration": -86,
    "start_time": "2021-10-08T08:26:12.532Z"
   },
   {
    "duration": -93,
    "start_time": "2021-10-08T08:26:12.542Z"
   },
   {
    "duration": -97,
    "start_time": "2021-10-08T08:26:12.548Z"
   },
   {
    "duration": -97,
    "start_time": "2021-10-08T08:26:12.550Z"
   },
   {
    "duration": -98,
    "start_time": "2021-10-08T08:26:12.553Z"
   },
   {
    "duration": -110,
    "start_time": "2021-10-08T08:26:12.567Z"
   },
   {
    "duration": -112,
    "start_time": "2021-10-08T08:26:12.571Z"
   },
   {
    "duration": -111,
    "start_time": "2021-10-08T08:26:12.573Z"
   },
   {
    "duration": -112,
    "start_time": "2021-10-08T08:26:12.576Z"
   },
   {
    "duration": -113,
    "start_time": "2021-10-08T08:26:12.579Z"
   },
   {
    "duration": -115,
    "start_time": "2021-10-08T08:26:12.583Z"
   },
   {
    "duration": -115,
    "start_time": "2021-10-08T08:26:12.585Z"
   },
   {
    "duration": -115,
    "start_time": "2021-10-08T08:26:12.588Z"
   },
   {
    "duration": -115,
    "start_time": "2021-10-08T08:26:12.590Z"
   },
   {
    "duration": -116,
    "start_time": "2021-10-08T08:26:12.593Z"
   },
   {
    "duration": -125,
    "start_time": "2021-10-08T08:26:12.606Z"
   },
   {
    "duration": -126,
    "start_time": "2021-10-08T08:26:12.609Z"
   },
   {
    "duration": -127,
    "start_time": "2021-10-08T08:26:12.612Z"
   },
   {
    "duration": 39,
    "start_time": "2021-10-08T08:26:33.549Z"
   },
   {
    "duration": 3,
    "start_time": "2021-10-08T08:28:30.584Z"
   },
   {
    "duration": 116,
    "start_time": "2021-10-08T08:29:24.390Z"
   },
   {
    "duration": 317,
    "start_time": "2021-10-08T08:30:13.002Z"
   },
   {
    "duration": 36,
    "start_time": "2021-10-08T08:30:30.433Z"
   },
   {
    "duration": 3,
    "start_time": "2021-10-08T08:30:31.583Z"
   },
   {
    "duration": 344,
    "start_time": "2021-10-08T08:30:36.572Z"
   },
   {
    "duration": 634,
    "start_time": "2021-10-08T08:30:55.100Z"
   },
   {
    "duration": 30,
    "start_time": "2021-10-08T08:32:04.610Z"
   },
   {
    "duration": 38,
    "start_time": "2021-10-08T08:32:13.611Z"
   },
   {
    "duration": 683,
    "start_time": "2021-10-08T08:32:17.440Z"
   },
   {
    "duration": 328,
    "start_time": "2021-10-08T08:36:16.314Z"
   },
   {
    "duration": 350,
    "start_time": "2021-10-08T20:09:35.496Z"
   },
   {
    "duration": 1213,
    "start_time": "2021-10-08T20:09:43.818Z"
   },
   {
    "duration": 12,
    "start_time": "2021-10-08T20:09:45.033Z"
   },
   {
    "duration": 20,
    "start_time": "2021-10-08T20:09:45.047Z"
   },
   {
    "duration": 26,
    "start_time": "2021-10-08T20:09:45.069Z"
   },
   {
    "duration": 2773,
    "start_time": "2021-10-08T20:09:45.097Z"
   },
   {
    "duration": 24,
    "start_time": "2021-10-08T20:09:47.876Z"
   },
   {
    "duration": 18,
    "start_time": "2021-10-08T20:09:47.902Z"
   },
   {
    "duration": 20,
    "start_time": "2021-10-08T20:09:47.922Z"
   },
   {
    "duration": 576,
    "start_time": "2021-10-08T20:09:47.944Z"
   },
   {
    "duration": 35,
    "start_time": "2021-10-08T20:09:48.523Z"
   },
   {
    "duration": 18,
    "start_time": "2021-10-08T20:09:48.560Z"
   },
   {
    "duration": 531,
    "start_time": "2021-10-08T20:09:48.581Z"
   },
   {
    "duration": 2,
    "start_time": "2021-10-08T20:09:49.114Z"
   },
   {
    "duration": 8,
    "start_time": "2021-10-08T20:09:49.118Z"
   },
   {
    "duration": 401,
    "start_time": "2021-10-08T20:09:49.128Z"
   },
   {
    "duration": -41,
    "start_time": "2021-10-08T20:09:49.572Z"
   },
   {
    "duration": -43,
    "start_time": "2021-10-08T20:09:49.575Z"
   },
   {
    "duration": -45,
    "start_time": "2021-10-08T20:09:49.578Z"
   },
   {
    "duration": -46,
    "start_time": "2021-10-08T20:09:49.581Z"
   },
   {
    "duration": -46,
    "start_time": "2021-10-08T20:09:49.583Z"
   },
   {
    "duration": -48,
    "start_time": "2021-10-08T20:09:49.586Z"
   },
   {
    "duration": -50,
    "start_time": "2021-10-08T20:09:49.589Z"
   },
   {
    "duration": -51,
    "start_time": "2021-10-08T20:09:49.592Z"
   },
   {
    "duration": -55,
    "start_time": "2021-10-08T20:09:49.597Z"
   },
   {
    "duration": -56,
    "start_time": "2021-10-08T20:09:49.600Z"
   },
   {
    "duration": -57,
    "start_time": "2021-10-08T20:09:49.602Z"
   },
   {
    "duration": -60,
    "start_time": "2021-10-08T20:09:49.606Z"
   },
   {
    "duration": -59,
    "start_time": "2021-10-08T20:09:49.607Z"
   },
   {
    "duration": -59,
    "start_time": "2021-10-08T20:09:49.609Z"
   },
   {
    "duration": -60,
    "start_time": "2021-10-08T20:09:49.611Z"
   },
   {
    "duration": 3482,
    "start_time": "2021-10-08T20:11:54.793Z"
   },
   {
    "duration": 2945,
    "start_time": "2021-10-08T20:12:20.635Z"
   },
   {
    "duration": 3378,
    "start_time": "2021-10-08T20:13:58.687Z"
   },
   {
    "duration": 1411,
    "start_time": "2021-10-08T20:14:23.315Z"
   },
   {
    "duration": 20,
    "start_time": "2021-10-08T20:14:26.804Z"
   },
   {
    "duration": 2984,
    "start_time": "2021-10-08T20:14:44.571Z"
   },
   {
    "duration": 2750,
    "start_time": "2021-10-08T20:15:14.868Z"
   },
   {
    "duration": 2812,
    "start_time": "2021-10-08T20:15:29.688Z"
   },
   {
    "duration": 2817,
    "start_time": "2021-10-08T20:15:44.392Z"
   },
   {
    "duration": 94,
    "start_time": "2021-10-10T07:33:00.020Z"
   },
   {
    "duration": 98,
    "start_time": "2021-10-10T07:34:43.595Z"
   },
   {
    "duration": 1592,
    "start_time": "2021-10-10T07:35:36.477Z"
   },
   {
    "duration": 17,
    "start_time": "2021-10-10T07:35:38.072Z"
   },
   {
    "duration": 27,
    "start_time": "2021-10-10T07:35:38.100Z"
   },
   {
    "duration": 19,
    "start_time": "2021-10-10T07:35:38.130Z"
   },
   {
    "duration": 3180,
    "start_time": "2021-10-10T07:35:38.152Z"
   },
   {
    "duration": 25,
    "start_time": "2021-10-10T07:35:41.335Z"
   },
   {
    "duration": 52,
    "start_time": "2021-10-10T07:35:41.363Z"
   },
   {
    "duration": 29,
    "start_time": "2021-10-10T07:35:41.417Z"
   },
   {
    "duration": 684,
    "start_time": "2021-10-10T07:35:41.450Z"
   },
   {
    "duration": 41,
    "start_time": "2021-10-10T07:35:42.137Z"
   },
   {
    "duration": 3,
    "start_time": "2021-10-10T07:35:42.180Z"
   },
   {
    "duration": 671,
    "start_time": "2021-10-10T07:35:42.201Z"
   },
   {
    "duration": 3,
    "start_time": "2021-10-10T07:35:42.874Z"
   },
   {
    "duration": 6,
    "start_time": "2021-10-10T07:35:42.879Z"
   },
   {
    "duration": 40,
    "start_time": "2021-10-10T07:35:42.901Z"
   },
   {
    "duration": 460,
    "start_time": "2021-10-10T07:35:42.943Z"
   },
   {
    "duration": 770,
    "start_time": "2021-10-10T07:35:43.405Z"
   },
   {
    "duration": 75,
    "start_time": "2021-10-10T07:35:44.178Z"
   },
   {
    "duration": 47,
    "start_time": "2021-10-10T07:35:44.255Z"
   },
   {
    "duration": 754,
    "start_time": "2021-10-10T07:35:44.304Z"
   },
   {
    "duration": 29050,
    "start_time": "2021-10-10T07:35:45.062Z"
   },
   {
    "duration": -1108,
    "start_time": "2021-10-10T07:36:15.223Z"
   },
   {
    "duration": -1114,
    "start_time": "2021-10-10T07:36:15.231Z"
   },
   {
    "duration": -1145,
    "start_time": "2021-10-10T07:36:15.263Z"
   },
   {
    "duration": -1152,
    "start_time": "2021-10-10T07:36:15.271Z"
   },
   {
    "duration": -1154,
    "start_time": "2021-10-10T07:36:15.275Z"
   },
   {
    "duration": -1156,
    "start_time": "2021-10-10T07:36:15.278Z"
   },
   {
    "duration": -1159,
    "start_time": "2021-10-10T07:36:15.282Z"
   },
   {
    "duration": -1162,
    "start_time": "2021-10-10T07:36:15.286Z"
   },
   {
    "duration": -1164,
    "start_time": "2021-10-10T07:36:15.290Z"
   },
   {
    "duration": 40,
    "start_time": "2021-10-10T07:37:33.023Z"
   },
   {
    "duration": 43,
    "start_time": "2021-10-10T07:38:11.567Z"
   },
   {
    "duration": 343,
    "start_time": "2021-10-10T07:40:07.981Z"
   },
   {
    "duration": 47,
    "start_time": "2021-10-10T07:40:38.556Z"
   },
   {
    "duration": 57,
    "start_time": "2021-10-10T07:41:12.368Z"
   },
   {
    "duration": 44,
    "start_time": "2021-10-10T07:41:38.846Z"
   },
   {
    "duration": 44,
    "start_time": "2021-10-10T07:44:47.608Z"
   },
   {
    "duration": 285,
    "start_time": "2021-10-10T07:45:06.488Z"
   },
   {
    "duration": 42,
    "start_time": "2021-10-10T07:45:24.987Z"
   },
   {
    "duration": 44,
    "start_time": "2021-10-10T07:45:29.954Z"
   },
   {
    "duration": 1574,
    "start_time": "2021-10-10T07:47:03.278Z"
   },
   {
    "duration": 17,
    "start_time": "2021-10-10T07:47:04.855Z"
   },
   {
    "duration": 46,
    "start_time": "2021-10-10T07:47:04.875Z"
   },
   {
    "duration": 19,
    "start_time": "2021-10-10T07:47:04.923Z"
   },
   {
    "duration": 3206,
    "start_time": "2021-10-10T07:47:04.945Z"
   },
   {
    "duration": 46,
    "start_time": "2021-10-10T07:47:08.154Z"
   },
   {
    "duration": 27,
    "start_time": "2021-10-10T07:47:08.203Z"
   },
   {
    "duration": 28,
    "start_time": "2021-10-10T07:47:08.234Z"
   },
   {
    "duration": 673,
    "start_time": "2021-10-10T07:47:08.265Z"
   },
   {
    "duration": 59,
    "start_time": "2021-10-10T07:47:08.941Z"
   },
   {
    "duration": 3,
    "start_time": "2021-10-10T07:47:09.002Z"
   },
   {
    "duration": 771,
    "start_time": "2021-10-10T07:47:09.007Z"
   },
   {
    "duration": 3,
    "start_time": "2021-10-10T07:47:09.780Z"
   },
   {
    "duration": 15,
    "start_time": "2021-10-10T07:47:09.785Z"
   },
   {
    "duration": 44,
    "start_time": "2021-10-10T07:47:09.802Z"
   },
   {
    "duration": 53906,
    "start_time": "2021-10-10T07:47:09.849Z"
   },
   {
    "duration": 420,
    "start_time": "2021-10-10T07:48:03.758Z"
   },
   {
    "duration": -52,
    "start_time": "2021-10-10T07:48:04.233Z"
   },
   {
    "duration": -52,
    "start_time": "2021-10-10T07:48:04.235Z"
   },
   {
    "duration": -54,
    "start_time": "2021-10-10T07:48:04.238Z"
   },
   {
    "duration": -56,
    "start_time": "2021-10-10T07:48:04.241Z"
   },
   {
    "duration": -58,
    "start_time": "2021-10-10T07:48:04.245Z"
   },
   {
    "duration": -60,
    "start_time": "2021-10-10T07:48:04.248Z"
   },
   {
    "duration": -62,
    "start_time": "2021-10-10T07:48:04.251Z"
   },
   {
    "duration": -63,
    "start_time": "2021-10-10T07:48:04.254Z"
   },
   {
    "duration": -65,
    "start_time": "2021-10-10T07:48:04.257Z"
   },
   {
    "duration": -66,
    "start_time": "2021-10-10T07:48:04.259Z"
   },
   {
    "duration": -67,
    "start_time": "2021-10-10T07:48:04.262Z"
   },
   {
    "duration": -68,
    "start_time": "2021-10-10T07:48:04.264Z"
   },
   {
    "duration": -69,
    "start_time": "2021-10-10T07:48:04.267Z"
   },
   {
    "duration": -71,
    "start_time": "2021-10-10T07:48:04.270Z"
   },
   {
    "duration": 19314,
    "start_time": "2021-10-10T07:49:44.831Z"
   },
   {
    "duration": 1649,
    "start_time": "2021-10-10T07:50:15.031Z"
   },
   {
    "duration": 93,
    "start_time": "2021-10-10T07:51:43.186Z"
   },
   {
    "duration": 1906,
    "start_time": "2021-10-10T07:51:50.488Z"
   },
   {
    "duration": 693,
    "start_time": "2021-10-10T07:56:42.010Z"
   },
   {
    "duration": 101,
    "start_time": "2021-10-10T08:02:56.188Z"
   },
   {
    "duration": 99,
    "start_time": "2021-10-10T08:03:06.455Z"
   },
   {
    "duration": 7736,
    "start_time": "2021-10-10T08:10:40.762Z"
   },
   {
    "duration": 1572,
    "start_time": "2021-10-10T08:26:58.282Z"
   },
   {
    "duration": 17,
    "start_time": "2021-10-10T08:26:59.857Z"
   },
   {
    "duration": 42,
    "start_time": "2021-10-10T08:26:59.878Z"
   },
   {
    "duration": 18,
    "start_time": "2021-10-10T08:26:59.923Z"
   },
   {
    "duration": 3383,
    "start_time": "2021-10-10T08:26:59.944Z"
   },
   {
    "duration": 26,
    "start_time": "2021-10-10T08:27:03.330Z"
   },
   {
    "duration": 52,
    "start_time": "2021-10-10T08:27:03.358Z"
   },
   {
    "duration": 29,
    "start_time": "2021-10-10T08:27:03.413Z"
   },
   {
    "duration": 683,
    "start_time": "2021-10-10T08:27:03.445Z"
   },
   {
    "duration": 43,
    "start_time": "2021-10-10T08:27:04.132Z"
   },
   {
    "duration": 3,
    "start_time": "2021-10-10T08:27:04.201Z"
   },
   {
    "duration": 689,
    "start_time": "2021-10-10T08:27:04.207Z"
   },
   {
    "duration": 3,
    "start_time": "2021-10-10T08:27:04.898Z"
   },
   {
    "duration": 7,
    "start_time": "2021-10-10T08:27:04.903Z"
   },
   {
    "duration": 56,
    "start_time": "2021-10-10T08:27:04.912Z"
   },
   {
    "duration": 1941,
    "start_time": "2021-10-10T08:27:04.971Z"
   },
   {
    "duration": 802,
    "start_time": "2021-10-10T08:27:06.915Z"
   },
   {
    "duration": 46,
    "start_time": "2021-10-10T08:27:07.719Z"
   },
   {
    "duration": 504,
    "start_time": "2021-10-10T08:27:07.768Z"
   },
   {
    "duration": -69,
    "start_time": "2021-10-10T08:27:08.344Z"
   },
   {
    "duration": -70,
    "start_time": "2021-10-10T08:27:08.346Z"
   },
   {
    "duration": -72,
    "start_time": "2021-10-10T08:27:08.349Z"
   },
   {
    "duration": -101,
    "start_time": "2021-10-10T08:27:08.380Z"
   },
   {
    "duration": -103,
    "start_time": "2021-10-10T08:27:08.383Z"
   },
   {
    "duration": -112,
    "start_time": "2021-10-10T08:27:08.393Z"
   },
   {
    "duration": -114,
    "start_time": "2021-10-10T08:27:08.396Z"
   },
   {
    "duration": -98,
    "start_time": "2021-10-10T08:27:08.398Z"
   },
   {
    "duration": -99,
    "start_time": "2021-10-10T08:27:08.401Z"
   },
   {
    "duration": -104,
    "start_time": "2021-10-10T08:27:08.407Z"
   },
   {
    "duration": -105,
    "start_time": "2021-10-10T08:27:08.409Z"
   },
   {
    "duration": -105,
    "start_time": "2021-10-10T08:27:08.411Z"
   },
   {
    "duration": -107,
    "start_time": "2021-10-10T08:27:08.414Z"
   },
   {
    "duration": 862,
    "start_time": "2021-10-10T09:35:57.748Z"
   },
   {
    "duration": 574,
    "start_time": "2021-10-10T09:36:37.272Z"
   },
   {
    "duration": 536,
    "start_time": "2021-10-10T09:36:51.790Z"
   },
   {
    "duration": 685,
    "start_time": "2021-10-10T09:36:57.821Z"
   },
   {
    "duration": 1576,
    "start_time": "2021-10-10T09:39:23.388Z"
   },
   {
    "duration": 18,
    "start_time": "2021-10-10T09:39:24.967Z"
   },
   {
    "duration": 31,
    "start_time": "2021-10-10T09:39:24.988Z"
   },
   {
    "duration": 19,
    "start_time": "2021-10-10T09:39:25.022Z"
   },
   {
    "duration": 3330,
    "start_time": "2021-10-10T09:39:25.044Z"
   },
   {
    "duration": 40,
    "start_time": "2021-10-10T09:39:28.377Z"
   },
   {
    "duration": 27,
    "start_time": "2021-10-10T09:39:28.420Z"
   },
   {
    "duration": 54,
    "start_time": "2021-10-10T09:39:28.450Z"
   },
   {
    "duration": 670,
    "start_time": "2021-10-10T09:39:28.507Z"
   },
   {
    "duration": 52,
    "start_time": "2021-10-10T09:39:29.179Z"
   },
   {
    "duration": 3,
    "start_time": "2021-10-10T09:39:29.234Z"
   },
   {
    "duration": 479,
    "start_time": "2021-10-10T09:39:29.239Z"
   },
   {
    "duration": 2,
    "start_time": "2021-10-10T09:39:29.721Z"
   },
   {
    "duration": 8,
    "start_time": "2021-10-10T09:39:29.726Z"
   },
   {
    "duration": 45,
    "start_time": "2021-10-10T09:39:29.736Z"
   },
   {
    "duration": 1981,
    "start_time": "2021-10-10T09:39:29.801Z"
   },
   {
    "duration": 568,
    "start_time": "2021-10-10T09:39:31.786Z"
   },
   {
    "duration": 50,
    "start_time": "2021-10-10T09:39:32.358Z"
   },
   {
    "duration": 124,
    "start_time": "2021-10-10T09:39:32.411Z"
   },
   {
    "duration": 717,
    "start_time": "2021-10-10T09:39:32.538Z"
   },
   {
    "duration": 355,
    "start_time": "2021-10-10T09:39:33.257Z"
   },
   {
    "duration": -20018,
    "start_time": "2021-10-10T09:39:53.633Z"
   },
   {
    "duration": -20019,
    "start_time": "2021-10-10T09:39:53.635Z"
   },
   {
    "duration": -20020,
    "start_time": "2021-10-10T09:39:53.637Z"
   },
   {
    "duration": -20024,
    "start_time": "2021-10-10T09:39:53.643Z"
   },
   {
    "duration": -20026,
    "start_time": "2021-10-10T09:39:53.646Z"
   },
   {
    "duration": -20027,
    "start_time": "2021-10-10T09:39:53.648Z"
   },
   {
    "duration": -20029,
    "start_time": "2021-10-10T09:39:53.651Z"
   },
   {
    "duration": -20030,
    "start_time": "2021-10-10T09:39:53.653Z"
   },
   {
    "duration": -20034,
    "start_time": "2021-10-10T09:39:53.658Z"
   },
   {
    "duration": -20035,
    "start_time": "2021-10-10T09:39:53.661Z"
   },
   {
    "duration": -20037,
    "start_time": "2021-10-10T09:39:53.664Z"
   },
   {
    "duration": -20038,
    "start_time": "2021-10-10T09:39:53.666Z"
   },
   {
    "duration": -20039,
    "start_time": "2021-10-10T09:39:53.668Z"
   },
   {
    "duration": 1558,
    "start_time": "2021-10-10T09:39:40.392Z"
   },
   {
    "duration": 17,
    "start_time": "2021-10-10T09:39:41.953Z"
   },
   {
    "duration": 39,
    "start_time": "2021-10-10T09:39:41.973Z"
   },
   {
    "duration": 19,
    "start_time": "2021-10-10T09:39:42.015Z"
   },
   {
    "duration": 3247,
    "start_time": "2021-10-10T09:39:42.037Z"
   },
   {
    "duration": 34,
    "start_time": "2021-10-10T09:39:45.287Z"
   },
   {
    "duration": 27,
    "start_time": "2021-10-10T09:39:45.323Z"
   },
   {
    "duration": 58,
    "start_time": "2021-10-10T09:39:45.353Z"
   },
   {
    "duration": 869,
    "start_time": "2021-10-10T09:39:45.414Z"
   },
   {
    "duration": 46,
    "start_time": "2021-10-10T09:39:46.286Z"
   },
   {
    "duration": 4,
    "start_time": "2021-10-10T09:39:46.334Z"
   },
   {
    "duration": 491,
    "start_time": "2021-10-10T09:39:46.340Z"
   },
   {
    "duration": 3,
    "start_time": "2021-10-10T09:39:46.834Z"
   },
   {
    "duration": 8,
    "start_time": "2021-10-10T09:39:46.840Z"
   },
   {
    "duration": 60,
    "start_time": "2021-10-10T09:39:46.850Z"
   },
   {
    "duration": 1941,
    "start_time": "2021-10-10T09:39:46.913Z"
   },
   {
    "duration": 591,
    "start_time": "2021-10-10T09:39:48.857Z"
   },
   {
    "duration": 53,
    "start_time": "2021-10-10T09:39:49.450Z"
   },
   {
    "duration": 109,
    "start_time": "2021-10-10T09:39:49.506Z"
   },
   {
    "duration": 705,
    "start_time": "2021-10-10T09:39:49.618Z"
   },
   {
    "duration": 633,
    "start_time": "2021-10-10T09:39:50.326Z"
   },
   {
    "duration": -19255,
    "start_time": "2021-10-10T09:40:10.218Z"
   },
   {
    "duration": -19255,
    "start_time": "2021-10-10T09:40:10.220Z"
   },
   {
    "duration": -19958,
    "start_time": "2021-10-10T09:40:10.925Z"
   },
   {
    "duration": -19970,
    "start_time": "2021-10-10T09:40:10.940Z"
   },
   {
    "duration": -19973,
    "start_time": "2021-10-10T09:40:10.945Z"
   },
   {
    "duration": -19984,
    "start_time": "2021-10-10T09:40:10.958Z"
   },
   {
    "duration": -19986,
    "start_time": "2021-10-10T09:40:10.962Z"
   },
   {
    "duration": -19987,
    "start_time": "2021-10-10T09:40:10.964Z"
   },
   {
    "duration": -19988,
    "start_time": "2021-10-10T09:40:10.967Z"
   },
   {
    "duration": -19989,
    "start_time": "2021-10-10T09:40:10.969Z"
   },
   {
    "duration": -19990,
    "start_time": "2021-10-10T09:40:10.972Z"
   },
   {
    "duration": -19993,
    "start_time": "2021-10-10T09:40:10.977Z"
   },
   {
    "duration": -20004,
    "start_time": "2021-10-10T09:40:10.989Z"
   },
   {
    "duration": 265,
    "start_time": "2021-10-10T09:41:31.358Z"
   },
   {
    "duration": 1575,
    "start_time": "2021-10-10T09:44:52.277Z"
   },
   {
    "duration": 17,
    "start_time": "2021-10-10T09:44:53.855Z"
   },
   {
    "duration": 45,
    "start_time": "2021-10-10T09:44:53.875Z"
   },
   {
    "duration": 19,
    "start_time": "2021-10-10T09:44:53.922Z"
   },
   {
    "duration": 3215,
    "start_time": "2021-10-10T09:44:53.943Z"
   },
   {
    "duration": 46,
    "start_time": "2021-10-10T09:44:57.161Z"
   },
   {
    "duration": 28,
    "start_time": "2021-10-10T09:44:57.210Z"
   },
   {
    "duration": 29,
    "start_time": "2021-10-10T09:44:57.242Z"
   },
   {
    "duration": 698,
    "start_time": "2021-10-10T09:44:57.274Z"
   },
   {
    "duration": 54,
    "start_time": "2021-10-10T09:44:57.975Z"
   },
   {
    "duration": 3,
    "start_time": "2021-10-10T09:44:58.031Z"
   },
   {
    "duration": 493,
    "start_time": "2021-10-10T09:44:58.037Z"
   },
   {
    "duration": 3,
    "start_time": "2021-10-10T09:44:58.533Z"
   },
   {
    "duration": 7,
    "start_time": "2021-10-10T09:44:58.538Z"
   },
   {
    "duration": 69,
    "start_time": "2021-10-10T09:44:58.548Z"
   },
   {
    "duration": 1984,
    "start_time": "2021-10-10T09:44:58.619Z"
   },
   {
    "duration": 572,
    "start_time": "2021-10-10T09:45:00.606Z"
   },
   {
    "duration": 53,
    "start_time": "2021-10-10T09:45:01.182Z"
   },
   {
    "duration": 125,
    "start_time": "2021-10-10T09:45:01.238Z"
   },
   {
    "duration": 756,
    "start_time": "2021-10-10T09:45:01.366Z"
   },
   {
    "duration": 509,
    "start_time": "2021-10-11T06:49:55.978Z"
   },
   {
    "duration": 342,
    "start_time": "2021-10-11T06:50:14.299Z"
   },
   {
    "duration": 1501,
    "start_time": "2021-10-11T06:50:21.104Z"
   },
   {
    "duration": 16,
    "start_time": "2021-10-11T06:50:22.608Z"
   },
   {
    "duration": 41,
    "start_time": "2021-10-11T06:50:22.627Z"
   },
   {
    "duration": 18,
    "start_time": "2021-10-11T06:50:22.671Z"
   },
   {
    "duration": 3339,
    "start_time": "2021-10-11T06:50:22.691Z"
   },
   {
    "duration": 43,
    "start_time": "2021-10-11T06:50:26.033Z"
   },
   {
    "duration": 40,
    "start_time": "2021-10-11T06:50:26.079Z"
   },
   {
    "duration": 54,
    "start_time": "2021-10-11T06:50:26.124Z"
   },
   {
    "duration": 658,
    "start_time": "2021-10-11T06:50:26.181Z"
   },
   {
    "duration": 52,
    "start_time": "2021-10-11T06:50:26.842Z"
   },
   {
    "duration": 3,
    "start_time": "2021-10-11T06:50:26.896Z"
   },
   {
    "duration": 478,
    "start_time": "2021-10-11T06:50:26.902Z"
   },
   {
    "duration": 3,
    "start_time": "2021-10-11T06:50:27.383Z"
   },
   {
    "duration": 6,
    "start_time": "2021-10-11T06:50:27.388Z"
   },
   {
    "duration": 67,
    "start_time": "2021-10-11T06:50:27.396Z"
   },
   {
    "duration": 2078,
    "start_time": "2021-10-11T06:50:27.466Z"
   },
   {
    "duration": 597,
    "start_time": "2021-10-11T06:50:29.546Z"
   },
   {
    "duration": 48,
    "start_time": "2021-10-11T06:50:30.147Z"
   },
   {
    "duration": 115,
    "start_time": "2021-10-11T06:50:30.199Z"
   },
   {
    "duration": 792,
    "start_time": "2021-10-11T06:50:30.316Z"
   },
   {
    "duration": 22,
    "start_time": "2021-10-11T06:50:31.110Z"
   },
   {
    "duration": 60,
    "start_time": "2021-10-11T06:50:31.134Z"
   },
   {
    "duration": 34,
    "start_time": "2021-10-11T06:50:31.199Z"
   },
   {
    "duration": 739,
    "start_time": "2021-10-11T06:50:31.235Z"
   },
   {
    "duration": 16210,
    "start_time": "2021-10-11T06:50:31.977Z"
   },
   {
    "duration": -212,
    "start_time": "2021-10-11T06:50:48.402Z"
   },
   {
    "duration": -217,
    "start_time": "2021-10-11T06:50:48.408Z"
   },
   {
    "duration": -237,
    "start_time": "2021-10-11T06:50:48.430Z"
   },
   {
    "duration": -243,
    "start_time": "2021-10-11T06:50:48.437Z"
   },
   {
    "duration": -249,
    "start_time": "2021-10-11T06:50:48.445Z"
   },
   {
    "duration": -249,
    "start_time": "2021-10-11T06:50:48.447Z"
   },
   {
    "duration": -251,
    "start_time": "2021-10-11T06:50:48.450Z"
   },
   {
    "duration": -252,
    "start_time": "2021-10-11T06:50:48.452Z"
   },
   {
    "duration": -253,
    "start_time": "2021-10-11T06:50:48.455Z"
   },
   {
    "duration": 339,
    "start_time": "2021-10-11T06:51:47.908Z"
   },
   {
    "duration": 26,
    "start_time": "2021-10-11T06:51:54.162Z"
   },
   {
    "duration": 782,
    "start_time": "2021-10-11T06:52:21.059Z"
   },
   {
    "duration": 781,
    "start_time": "2021-10-11T06:53:34.762Z"
   },
   {
    "duration": 584,
    "start_time": "2021-10-11T06:54:25.886Z"
   },
   {
    "duration": 106,
    "start_time": "2021-10-11T06:55:48.080Z"
   },
   {
    "duration": 30,
    "start_time": "2021-10-11T06:56:04.733Z"
   },
   {
    "duration": 507,
    "start_time": "2021-10-11T06:56:29.371Z"
   },
   {
    "duration": 15944,
    "start_time": "2021-10-11T06:57:53.353Z"
   },
   {
    "duration": 13629,
    "start_time": "2021-10-11T06:59:51.120Z"
   },
   {
    "duration": 13086,
    "start_time": "2021-10-11T07:00:45.909Z"
   },
   {
    "duration": 16998,
    "start_time": "2021-10-11T07:02:27.790Z"
   },
   {
    "duration": 16004,
    "start_time": "2021-10-11T07:03:02.073Z"
   },
   {
    "duration": 1593,
    "start_time": "2021-10-11T07:04:01.108Z"
   },
   {
    "duration": 18,
    "start_time": "2021-10-11T07:04:02.704Z"
   },
   {
    "duration": 40,
    "start_time": "2021-10-11T07:04:02.725Z"
   },
   {
    "duration": 18,
    "start_time": "2021-10-11T07:04:02.768Z"
   },
   {
    "duration": 3278,
    "start_time": "2021-10-11T07:04:02.790Z"
   },
   {
    "duration": 29,
    "start_time": "2021-10-11T07:04:06.071Z"
   },
   {
    "duration": 28,
    "start_time": "2021-10-11T07:04:06.102Z"
   },
   {
    "duration": 33,
    "start_time": "2021-10-11T07:04:06.165Z"
   },
   {
    "duration": 679,
    "start_time": "2021-10-11T07:04:06.201Z"
   },
   {
    "duration": 41,
    "start_time": "2021-10-11T07:04:06.883Z"
   },
   {
    "duration": 3,
    "start_time": "2021-10-11T07:04:06.926Z"
   },
   {
    "duration": 534,
    "start_time": "2021-10-11T07:04:06.932Z"
   },
   {
    "duration": 3,
    "start_time": "2021-10-11T07:04:07.469Z"
   },
   {
    "duration": 26,
    "start_time": "2021-10-11T07:04:07.474Z"
   },
   {
    "duration": 46,
    "start_time": "2021-10-11T07:04:07.503Z"
   },
   {
    "duration": 1966,
    "start_time": "2021-10-11T07:04:07.552Z"
   },
   {
    "duration": 556,
    "start_time": "2021-10-11T07:04:09.520Z"
   },
   {
    "duration": 40,
    "start_time": "2021-10-11T07:04:10.079Z"
   },
   {
    "duration": 118,
    "start_time": "2021-10-11T07:04:10.122Z"
   },
   {
    "duration": 723,
    "start_time": "2021-10-11T07:04:10.242Z"
   },
   {
    "duration": 597,
    "start_time": "2021-10-11T07:04:10.967Z"
   },
   {
    "duration": 488,
    "start_time": "2021-10-11T07:04:11.566Z"
   },
   {
    "duration": -42,
    "start_time": "2021-10-11T07:04:12.101Z"
   },
   {
    "duration": -48,
    "start_time": "2021-10-11T07:04:12.109Z"
   },
   {
    "duration": -50,
    "start_time": "2021-10-11T07:04:12.113Z"
   },
   {
    "duration": -50,
    "start_time": "2021-10-11T07:04:12.116Z"
   },
   {
    "duration": -51,
    "start_time": "2021-10-11T07:04:12.119Z"
   },
   {
    "duration": -51,
    "start_time": "2021-10-11T07:04:12.121Z"
   },
   {
    "duration": -52,
    "start_time": "2021-10-11T07:04:12.124Z"
   },
   {
    "duration": -57,
    "start_time": "2021-10-11T07:04:12.132Z"
   },
   {
    "duration": -58,
    "start_time": "2021-10-11T07:04:12.135Z"
   },
   {
    "duration": -58,
    "start_time": "2021-10-11T07:04:12.137Z"
   },
   {
    "duration": 48,
    "start_time": "2021-10-11T07:05:16.998Z"
   },
   {
    "duration": 34,
    "start_time": "2021-10-11T07:05:24.285Z"
   },
   {
    "duration": 478,
    "start_time": "2021-10-11T07:05:27.822Z"
   },
   {
    "duration": 15087,
    "start_time": "2021-10-11T07:05:33.372Z"
   },
   {
    "duration": 90669,
    "start_time": "2021-10-11T07:07:28.654Z"
   },
   {
    "duration": 2480,
    "start_time": "2021-10-11T07:11:23.357Z"
   },
   {
    "duration": 2422,
    "start_time": "2021-10-11T07:14:07.509Z"
   },
   {
    "duration": 2465,
    "start_time": "2021-10-11T07:15:05.372Z"
   },
   {
    "duration": 97,
    "start_time": "2021-10-11T07:15:28.427Z"
   },
   {
    "duration": 124,
    "start_time": "2021-10-11T07:15:48.542Z"
   },
   {
    "duration": 13115,
    "start_time": "2021-10-11T07:15:55.883Z"
   },
   {
    "duration": 16,
    "start_time": "2021-10-11T07:16:48.093Z"
   },
   {
    "duration": 305,
    "start_time": "2021-10-11T07:18:44.257Z"
   },
   {
    "duration": 27,
    "start_time": "2021-10-11T07:19:07.962Z"
   },
   {
    "duration": 372,
    "start_time": "2021-10-11T07:19:36.658Z"
   },
   {
    "duration": 27,
    "start_time": "2021-10-11T07:19:50.307Z"
   },
   {
    "duration": 325,
    "start_time": "2021-10-11T07:20:02.520Z"
   },
   {
    "duration": 30,
    "start_time": "2021-10-11T07:20:08.144Z"
   },
   {
    "duration": 30,
    "start_time": "2021-10-11T07:20:18.675Z"
   },
   {
    "duration": 355,
    "start_time": "2021-10-11T07:20:26.023Z"
   },
   {
    "duration": 28,
    "start_time": "2021-10-11T07:20:47.297Z"
   },
   {
    "duration": 26004,
    "start_time": "2021-10-11T07:25:20.321Z"
   },
   {
    "duration": 13099,
    "start_time": "2021-10-11T07:26:45.201Z"
   },
   {
    "duration": 16,
    "start_time": "2021-10-11T07:27:21.879Z"
   },
   {
    "duration": 25,
    "start_time": "2021-10-11T07:27:38.020Z"
   },
   {
    "duration": 1223,
    "start_time": "2021-10-11T07:28:58.589Z"
   },
   {
    "duration": 1199,
    "start_time": "2021-10-11T07:29:09.198Z"
   },
   {
    "duration": 26,
    "start_time": "2021-10-11T07:31:03.753Z"
   },
   {
    "duration": 27,
    "start_time": "2021-10-11T07:31:12.829Z"
   },
   {
    "duration": 30,
    "start_time": "2021-10-11T07:31:15.032Z"
   },
   {
    "duration": 23,
    "start_time": "2021-10-11T07:31:19.994Z"
   },
   {
    "duration": 16,
    "start_time": "2021-10-11T07:31:47.278Z"
   },
   {
    "duration": 23,
    "start_time": "2021-10-11T07:32:42.636Z"
   },
   {
    "duration": 23,
    "start_time": "2021-10-11T07:33:13.525Z"
   },
   {
    "duration": 19,
    "start_time": "2021-10-11T07:44:20.280Z"
   },
   {
    "duration": 22,
    "start_time": "2021-10-11T07:46:27.035Z"
   },
   {
    "duration": 358,
    "start_time": "2021-10-11T07:47:06.378Z"
   },
   {
    "duration": 11,
    "start_time": "2021-10-11T07:47:50.093Z"
   },
   {
    "duration": 10,
    "start_time": "2021-10-11T07:48:21.410Z"
   },
   {
    "duration": 1519,
    "start_time": "2021-10-11T07:48:36.474Z"
   },
   {
    "duration": 17,
    "start_time": "2021-10-11T07:48:37.995Z"
   },
   {
    "duration": 26,
    "start_time": "2021-10-11T07:48:38.015Z"
   },
   {
    "duration": 34,
    "start_time": "2021-10-11T07:48:38.043Z"
   },
   {
    "duration": 3244,
    "start_time": "2021-10-11T07:48:38.080Z"
   },
   {
    "duration": 41,
    "start_time": "2021-10-11T07:48:41.327Z"
   },
   {
    "duration": 31,
    "start_time": "2021-10-11T07:48:41.371Z"
   },
   {
    "duration": 58,
    "start_time": "2021-10-11T07:48:41.407Z"
   },
   {
    "duration": 511,
    "start_time": "2021-10-11T07:48:41.468Z"
   },
   {
    "duration": 42,
    "start_time": "2021-10-11T07:48:41.981Z"
   },
   {
    "duration": 4,
    "start_time": "2021-10-11T07:48:42.025Z"
   },
   {
    "duration": 543,
    "start_time": "2021-10-11T07:48:42.031Z"
   },
   {
    "duration": 4,
    "start_time": "2021-10-11T07:48:42.578Z"
   },
   {
    "duration": 7,
    "start_time": "2021-10-11T07:48:42.585Z"
   },
   {
    "duration": 70,
    "start_time": "2021-10-11T07:48:42.594Z"
   },
   {
    "duration": 2010,
    "start_time": "2021-10-11T07:48:42.667Z"
   },
   {
    "duration": 552,
    "start_time": "2021-10-11T07:48:44.680Z"
   },
   {
    "duration": 52,
    "start_time": "2021-10-11T07:48:45.235Z"
   },
   {
    "duration": 109,
    "start_time": "2021-10-11T07:48:45.289Z"
   },
   {
    "duration": 780,
    "start_time": "2021-10-11T07:48:45.401Z"
   },
   {
    "duration": 616,
    "start_time": "2021-10-11T07:48:46.183Z"
   },
   {
    "duration": 68,
    "start_time": "2021-10-11T07:48:46.801Z"
   },
   {
    "duration": 32,
    "start_time": "2021-10-11T07:48:46.874Z"
   },
   {
    "duration": 567,
    "start_time": "2021-10-11T07:48:46.909Z"
   },
   {
    "duration": 90906,
    "start_time": "2021-10-11T07:48:47.479Z"
   },
   {
    "duration": -247,
    "start_time": "2021-10-11T07:50:18.635Z"
   },
   {
    "duration": -252,
    "start_time": "2021-10-11T07:50:18.642Z"
   },
   {
    "duration": -255,
    "start_time": "2021-10-11T07:50:18.646Z"
   },
   {
    "duration": -256,
    "start_time": "2021-10-11T07:50:18.649Z"
   },
   {
    "duration": -260,
    "start_time": "2021-10-11T07:50:18.655Z"
   },
   {
    "duration": -264,
    "start_time": "2021-10-11T07:50:18.660Z"
   },
   {
    "duration": -268,
    "start_time": "2021-10-11T07:50:18.666Z"
   },
   {
    "duration": -269,
    "start_time": "2021-10-11T07:50:18.669Z"
   },
   {
    "duration": -273,
    "start_time": "2021-10-11T07:50:18.674Z"
   },
   {
    "duration": -276,
    "start_time": "2021-10-11T07:50:18.678Z"
   },
   {
    "duration": 26087,
    "start_time": "2021-10-11T07:50:34.396Z"
   },
   {
    "duration": 25,
    "start_time": "2021-10-11T07:51:37.416Z"
   },
   {
    "duration": 1294,
    "start_time": "2021-10-11T07:51:38.376Z"
   },
   {
    "duration": 15,
    "start_time": "2021-10-11T07:51:40.906Z"
   },
   {
    "duration": 28,
    "start_time": "2021-10-11T07:51:42.433Z"
   },
   {
    "duration": 27,
    "start_time": "2021-10-11T07:51:43.839Z"
   },
   {
    "duration": 23,
    "start_time": "2021-10-11T07:51:45.109Z"
   },
   {
    "duration": 4,
    "start_time": "2021-10-11T07:51:48.392Z"
   },
   {
    "duration": 3,
    "start_time": "2021-10-11T07:51:49.058Z"
   },
   {
    "duration": 21,
    "start_time": "2021-10-11T07:51:52.378Z"
   },
   {
    "duration": 10,
    "start_time": "2021-10-11T07:52:03.549Z"
   },
   {
    "duration": 10,
    "start_time": "2021-10-11T07:52:19.397Z"
   },
   {
    "duration": 8,
    "start_time": "2021-10-11T07:52:38.127Z"
   },
   {
    "duration": 9,
    "start_time": "2021-10-11T07:53:02.646Z"
   },
   {
    "duration": 14,
    "start_time": "2021-10-11T07:53:10.628Z"
   },
   {
    "duration": 13,
    "start_time": "2021-10-11T07:53:16.353Z"
   },
   {
    "duration": 2991,
    "start_time": "2021-10-11T07:54:29.798Z"
   },
   {
    "duration": 2113,
    "start_time": "2021-10-11T07:55:18.703Z"
   },
   {
    "duration": 2529,
    "start_time": "2021-10-11T08:31:35.591Z"
   },
   {
    "duration": 332,
    "start_time": "2021-10-11T08:36:49.875Z"
   },
   {
    "duration": 295,
    "start_time": "2021-10-11T08:37:33.047Z"
   },
   {
    "duration": 364,
    "start_time": "2021-10-11T08:38:10.677Z"
   },
   {
    "duration": 348,
    "start_time": "2021-10-11T08:41:53.645Z"
   },
   {
    "duration": 13527,
    "start_time": "2021-10-11T08:44:20.354Z"
   },
   {
    "duration": 3226,
    "start_time": "2021-10-11T08:44:47.591Z"
   },
   {
    "duration": 6176,
    "start_time": "2021-10-11T08:47:27.321Z"
   },
   {
    "duration": 2224,
    "start_time": "2021-10-11T08:51:37.078Z"
   },
   {
    "duration": 2260,
    "start_time": "2021-10-11T08:52:38.986Z"
   },
   {
    "duration": 2758,
    "start_time": "2021-10-11T08:59:12.390Z"
   },
   {
    "duration": 2687,
    "start_time": "2021-10-11T08:59:39.712Z"
   },
   {
    "duration": 195,
    "start_time": "2021-10-11T09:00:06.287Z"
   },
   {
    "duration": 200,
    "start_time": "2021-10-11T09:00:30.374Z"
   },
   {
    "duration": 332,
    "start_time": "2021-10-11T09:03:07.249Z"
   },
   {
    "duration": 542,
    "start_time": "2021-10-11T09:03:44.326Z"
   },
   {
    "duration": 152,
    "start_time": "2021-10-11T09:05:11.182Z"
   },
   {
    "duration": 577,
    "start_time": "2021-10-11T09:08:39.922Z"
   },
   {
    "duration": 53043,
    "start_time": "2021-10-11T09:11:40.513Z"
   },
   {
    "duration": 25900,
    "start_time": "2021-10-11T09:12:37.524Z"
   },
   {
    "duration": 427,
    "start_time": "2021-10-11T09:13:31.577Z"
   },
   {
    "duration": 130,
    "start_time": "2021-10-11T09:14:12.235Z"
   },
   {
    "duration": 139,
    "start_time": "2021-10-11T09:15:29.901Z"
   },
   {
    "duration": 185,
    "start_time": "2021-10-11T09:40:50.796Z"
   },
   {
    "duration": 141,
    "start_time": "2021-10-11T09:41:11.114Z"
   },
   {
    "duration": 107,
    "start_time": "2021-10-11T09:41:30.151Z"
   },
   {
    "duration": 126,
    "start_time": "2021-10-11T09:41:43.806Z"
   },
   {
    "duration": 181,
    "start_time": "2021-10-11T09:42:06.273Z"
   },
   {
    "duration": 110,
    "start_time": "2021-10-11T09:42:34.895Z"
   },
   {
    "duration": 112,
    "start_time": "2021-10-11T09:42:46.844Z"
   },
   {
    "duration": 102,
    "start_time": "2021-10-11T09:43:07.462Z"
   },
   {
    "duration": 118,
    "start_time": "2021-10-11T09:43:27.340Z"
   },
   {
    "duration": 7805,
    "start_time": "2021-10-11T09:43:48.293Z"
   },
   {
    "duration": -701,
    "start_time": "2021-10-11T09:43:56.803Z"
   },
   {
    "duration": 8898,
    "start_time": "2021-10-11T09:44:30.198Z"
   },
   {
    "duration": 2291,
    "start_time": "2021-10-11T09:44:41.407Z"
   },
   {
    "duration": 19,
    "start_time": "2021-10-11T09:44:43.701Z"
   },
   {
    "duration": 51,
    "start_time": "2021-10-11T09:44:43.723Z"
   },
   {
    "duration": 18,
    "start_time": "2021-10-11T09:44:43.777Z"
   },
   {
    "duration": 3311,
    "start_time": "2021-10-11T09:44:43.798Z"
   },
   {
    "duration": 25,
    "start_time": "2021-10-11T09:44:47.112Z"
   },
   {
    "duration": 48,
    "start_time": "2021-10-11T09:44:47.139Z"
   },
   {
    "duration": 31,
    "start_time": "2021-10-11T09:44:47.190Z"
   },
   {
    "duration": 516,
    "start_time": "2021-10-11T09:44:47.225Z"
   },
   {
    "duration": 50,
    "start_time": "2021-10-11T09:44:47.745Z"
   },
   {
    "duration": 4,
    "start_time": "2021-10-11T09:44:47.797Z"
   },
   {
    "duration": 487,
    "start_time": "2021-10-11T09:44:47.803Z"
   },
   {
    "duration": 3,
    "start_time": "2021-10-11T09:44:48.292Z"
   },
   {
    "duration": 7,
    "start_time": "2021-10-11T09:44:48.298Z"
   },
   {
    "duration": 72,
    "start_time": "2021-10-11T09:44:48.307Z"
   },
   {
    "duration": 1947,
    "start_time": "2021-10-11T09:44:48.381Z"
   },
   {
    "duration": 552,
    "start_time": "2021-10-11T09:44:50.331Z"
   },
   {
    "duration": 43,
    "start_time": "2021-10-11T09:44:50.886Z"
   },
   {
    "duration": 136,
    "start_time": "2021-10-11T09:44:50.933Z"
   },
   {
    "duration": 708,
    "start_time": "2021-10-11T09:44:51.072Z"
   },
   {
    "duration": 593,
    "start_time": "2021-10-11T09:44:51.783Z"
   },
   {
    "duration": 53,
    "start_time": "2021-10-11T09:44:52.379Z"
   },
   {
    "duration": 56,
    "start_time": "2021-10-11T09:44:52.435Z"
   },
   {
    "duration": 548,
    "start_time": "2021-10-11T09:44:52.495Z"
   },
   {
    "duration": 121,
    "start_time": "2021-10-11T09:44:53.046Z"
   },
   {
    "duration": 8586,
    "start_time": "2021-10-11T09:44:53.170Z"
   },
   {
    "duration": -136,
    "start_time": "2021-10-11T09:45:01.896Z"
   },
   {
    "duration": -139,
    "start_time": "2021-10-11T09:45:01.900Z"
   },
   {
    "duration": -140,
    "start_time": "2021-10-11T09:45:01.903Z"
   },
   {
    "duration": -141,
    "start_time": "2021-10-11T09:45:01.906Z"
   },
   {
    "duration": -143,
    "start_time": "2021-10-11T09:45:01.909Z"
   },
   {
    "duration": -146,
    "start_time": "2021-10-11T09:45:01.913Z"
   },
   {
    "duration": -153,
    "start_time": "2021-10-11T09:45:01.922Z"
   },
   {
    "duration": -156,
    "start_time": "2021-10-11T09:45:01.926Z"
   },
   {
    "duration": -158,
    "start_time": "2021-10-11T09:45:01.929Z"
   },
   {
    "duration": -170,
    "start_time": "2021-10-11T09:45:01.943Z"
   },
   {
    "duration": 145,
    "start_time": "2021-10-11T09:46:25.634Z"
   },
   {
    "duration": 32,
    "start_time": "2021-10-11T09:46:26.373Z"
   },
   {
    "duration": 19,
    "start_time": "2021-10-11T09:47:33.255Z"
   },
   {
    "duration": 1501,
    "start_time": "2021-10-11T09:47:50.116Z"
   },
   {
    "duration": 16,
    "start_time": "2021-10-11T09:47:51.620Z"
   },
   {
    "duration": 43,
    "start_time": "2021-10-11T09:47:51.639Z"
   },
   {
    "duration": 19,
    "start_time": "2021-10-11T09:47:51.684Z"
   },
   {
    "duration": 3230,
    "start_time": "2021-10-11T09:47:51.705Z"
   },
   {
    "duration": 40,
    "start_time": "2021-10-11T09:47:54.937Z"
   },
   {
    "duration": 27,
    "start_time": "2021-10-11T09:47:54.980Z"
   },
   {
    "duration": 52,
    "start_time": "2021-10-11T09:47:55.011Z"
   },
   {
    "duration": 491,
    "start_time": "2021-10-11T09:47:55.066Z"
   },
   {
    "duration": 40,
    "start_time": "2021-10-11T09:47:55.561Z"
   },
   {
    "duration": 3,
    "start_time": "2021-10-11T09:47:55.603Z"
   },
   {
    "duration": 475,
    "start_time": "2021-10-11T09:47:55.609Z"
   },
   {
    "duration": 3,
    "start_time": "2021-10-11T09:47:56.087Z"
   },
   {
    "duration": 8,
    "start_time": "2021-10-11T09:47:56.092Z"
   },
   {
    "duration": 69,
    "start_time": "2021-10-11T09:47:56.102Z"
   },
   {
    "duration": 1891,
    "start_time": "2021-10-11T09:47:56.173Z"
   },
   {
    "duration": 521,
    "start_time": "2021-10-11T09:47:58.067Z"
   },
   {
    "duration": 40,
    "start_time": "2021-10-11T09:47:58.591Z"
   },
   {
    "duration": 121,
    "start_time": "2021-10-11T09:47:58.634Z"
   },
   {
    "duration": 722,
    "start_time": "2021-10-11T09:47:58.763Z"
   },
   {
    "duration": 623,
    "start_time": "2021-10-11T09:47:59.488Z"
   },
   {
    "duration": 68,
    "start_time": "2021-10-11T09:48:00.113Z"
   },
   {
    "duration": 31,
    "start_time": "2021-10-11T09:48:00.185Z"
   },
   {
    "duration": 534,
    "start_time": "2021-10-11T09:48:00.220Z"
   },
   {
    "duration": 122,
    "start_time": "2021-10-11T09:48:00.756Z"
   },
   {
    "duration": 20,
    "start_time": "2021-10-11T09:48:00.881Z"
   },
   {
    "duration": 452,
    "start_time": "2021-10-11T09:48:00.904Z"
   },
   {
    "duration": -34,
    "start_time": "2021-10-11T09:48:01.392Z"
   },
   {
    "duration": -35,
    "start_time": "2021-10-11T09:48:01.395Z"
   },
   {
    "duration": -38,
    "start_time": "2021-10-11T09:48:01.400Z"
   },
   {
    "duration": -40,
    "start_time": "2021-10-11T09:48:01.403Z"
   },
   {
    "duration": -41,
    "start_time": "2021-10-11T09:48:01.406Z"
   },
   {
    "duration": -42,
    "start_time": "2021-10-11T09:48:01.409Z"
   },
   {
    "duration": -43,
    "start_time": "2021-10-11T09:48:01.412Z"
   },
   {
    "duration": -45,
    "start_time": "2021-10-11T09:48:01.415Z"
   },
   {
    "duration": -52,
    "start_time": "2021-10-11T09:48:01.423Z"
   },
   {
    "duration": 138,
    "start_time": "2021-10-11T09:48:26.525Z"
   },
   {
    "duration": 13,
    "start_time": "2021-10-11T09:48:59.354Z"
   },
   {
    "duration": 12,
    "start_time": "2021-10-11T09:49:16.836Z"
   },
   {
    "duration": 16,
    "start_time": "2021-10-11T09:49:38.417Z"
   },
   {
    "duration": 24,
    "start_time": "2021-10-11T09:50:26.841Z"
   },
   {
    "duration": 129,
    "start_time": "2021-10-11T09:53:00.839Z"
   },
   {
    "duration": 306,
    "start_time": "2021-10-11T09:53:09.718Z"
   },
   {
    "duration": 343,
    "start_time": "2021-10-11T09:53:34.780Z"
   },
   {
    "duration": 785,
    "start_time": "2021-10-11T09:53:46.700Z"
   },
   {
    "duration": 8411,
    "start_time": "2021-10-11T09:54:37.552Z"
   },
   {
    "duration": 20,
    "start_time": "2021-10-11T09:55:17.698Z"
   },
   {
    "duration": 25,
    "start_time": "2021-10-11T09:55:30.102Z"
   },
   {
    "duration": 326,
    "start_time": "2021-10-11T18:11:05.733Z"
   },
   {
    "duration": 1280,
    "start_time": "2021-10-11T18:11:08.800Z"
   },
   {
    "duration": 12,
    "start_time": "2021-10-11T18:11:10.082Z"
   },
   {
    "duration": 22,
    "start_time": "2021-10-11T18:11:10.096Z"
   },
   {
    "duration": 14,
    "start_time": "2021-10-11T18:11:10.120Z"
   },
   {
    "duration": 2620,
    "start_time": "2021-10-11T18:11:10.136Z"
   },
   {
    "duration": 29,
    "start_time": "2021-10-11T18:11:12.758Z"
   },
   {
    "duration": 20,
    "start_time": "2021-10-11T18:11:12.788Z"
   },
   {
    "duration": 23,
    "start_time": "2021-10-11T18:11:12.812Z"
   },
   {
    "duration": 322,
    "start_time": "2021-10-11T18:11:12.838Z"
   },
   {
    "duration": 37,
    "start_time": "2021-10-11T18:11:13.162Z"
   },
   {
    "duration": 3,
    "start_time": "2021-10-11T18:11:13.201Z"
   },
   {
    "duration": 305,
    "start_time": "2021-10-11T18:11:13.206Z"
   },
   {
    "duration": 2,
    "start_time": "2021-10-11T18:11:13.514Z"
   },
   {
    "duration": 4,
    "start_time": "2021-10-11T18:11:13.518Z"
   },
   {
    "duration": 31,
    "start_time": "2021-10-11T18:11:13.524Z"
   },
   {
    "duration": 1299,
    "start_time": "2021-10-11T18:11:13.557Z"
   },
   {
    "duration": 398,
    "start_time": "2021-10-11T18:11:14.857Z"
   },
   {
    "duration": 31,
    "start_time": "2021-10-11T18:11:15.257Z"
   },
   {
    "duration": 91,
    "start_time": "2021-10-11T18:11:15.290Z"
   },
   {
    "duration": 488,
    "start_time": "2021-10-11T18:11:15.382Z"
   },
   {
    "duration": 372,
    "start_time": "2021-10-11T18:11:15.872Z"
   },
   {
    "duration": 51,
    "start_time": "2021-10-11T18:11:16.246Z"
   },
   {
    "duration": 24,
    "start_time": "2021-10-11T18:11:16.301Z"
   },
   {
    "duration": 331,
    "start_time": "2021-10-11T18:11:16.327Z"
   },
   {
    "duration": 190,
    "start_time": "2021-10-11T18:11:16.660Z"
   },
   {
    "duration": 17,
    "start_time": "2021-10-11T18:11:16.852Z"
   },
   {
    "duration": 353,
    "start_time": "2021-10-11T18:11:16.871Z"
   },
   {
    "duration": 86669,
    "start_time": "2021-10-11T18:09:50.557Z"
   },
   {
    "duration": 86667,
    "start_time": "2021-10-11T18:09:50.560Z"
   },
   {
    "duration": 86664,
    "start_time": "2021-10-11T18:09:50.564Z"
   },
   {
    "duration": 86662,
    "start_time": "2021-10-11T18:09:50.567Z"
   },
   {
    "duration": 86660,
    "start_time": "2021-10-11T18:09:50.570Z"
   },
   {
    "duration": 86659,
    "start_time": "2021-10-11T18:09:50.572Z"
   },
   {
    "duration": 86656,
    "start_time": "2021-10-11T18:09:50.575Z"
   },
   {
    "duration": 86655,
    "start_time": "2021-10-11T18:09:50.577Z"
   },
   {
    "duration": 86653,
    "start_time": "2021-10-11T18:09:50.580Z"
   },
   {
    "duration": 107,
    "start_time": "2021-10-11T18:13:38.131Z"
   },
   {
    "duration": 756,
    "start_time": "2021-10-11T18:14:14.780Z"
   },
   {
    "duration": 818,
    "start_time": "2021-10-11T18:14:34.741Z"
   },
   {
    "duration": 276,
    "start_time": "2021-10-11T18:14:39.033Z"
   },
   {
    "duration": 256,
    "start_time": "2021-10-11T18:14:54.695Z"
   },
   {
    "duration": 252,
    "start_time": "2021-10-11T18:15:00.871Z"
   },
   {
    "duration": 377,
    "start_time": "2021-10-11T18:15:06.972Z"
   },
   {
    "duration": 112,
    "start_time": "2021-10-11T18:16:43.629Z"
   },
   {
    "duration": 20,
    "start_time": "2021-10-11T18:20:42.378Z"
   },
   {
    "duration": 10,
    "start_time": "2021-10-11T18:21:01.625Z"
   },
   {
    "duration": 16,
    "start_time": "2021-10-11T18:21:10.120Z"
   },
   {
    "duration": 16,
    "start_time": "2021-10-11T18:21:50.609Z"
   },
   {
    "duration": 13,
    "start_time": "2021-10-11T18:22:18.615Z"
   },
   {
    "duration": 13,
    "start_time": "2021-10-11T18:22:24.188Z"
   },
   {
    "duration": 14,
    "start_time": "2021-10-11T18:22:30.589Z"
   },
   {
    "duration": 104,
    "start_time": "2021-10-11T18:24:13.308Z"
   },
   {
    "duration": 144,
    "start_time": "2021-10-11T18:25:50.097Z"
   },
   {
    "duration": 17,
    "start_time": "2021-10-11T18:25:51.731Z"
   },
   {
    "duration": 147,
    "start_time": "2021-10-11T18:25:59.973Z"
   },
   {
    "duration": 23,
    "start_time": "2021-10-11T18:26:02.026Z"
   },
   {
    "duration": 17,
    "start_time": "2021-10-11T18:26:23.071Z"
   },
   {
    "duration": 17,
    "start_time": "2021-10-11T18:26:41.966Z"
   },
   {
    "duration": 636,
    "start_time": "2021-10-11T18:26:41.985Z"
   },
   {
    "duration": 10,
    "start_time": "2021-10-11T18:26:42.623Z"
   },
   {
    "duration": 43,
    "start_time": "2021-10-11T18:26:42.635Z"
   },
   {
    "duration": 19,
    "start_time": "2021-10-11T18:26:42.680Z"
   },
   {
    "duration": 17,
    "start_time": "2021-10-11T18:26:42.700Z"
   },
   {
    "duration": 8,
    "start_time": "2021-10-11T18:26:42.719Z"
   },
   {
    "duration": 9,
    "start_time": "2021-10-11T18:26:42.729Z"
   },
   {
    "duration": 36,
    "start_time": "2021-10-11T18:26:42.740Z"
   },
   {
    "duration": 111,
    "start_time": "2021-10-11T18:26:42.779Z"
   },
   {
    "duration": 317,
    "start_time": "2021-10-11T18:26:50.024Z"
   },
   {
    "duration": 9,
    "start_time": "2021-10-11T18:26:59.959Z"
   },
   {
    "duration": 9,
    "start_time": "2021-10-11T18:27:14.756Z"
   },
   {
    "duration": 295,
    "start_time": "2021-10-11T18:31:02.539Z"
   },
   {
    "duration": 307,
    "start_time": "2021-10-11T18:31:16.798Z"
   },
   {
    "duration": 10,
    "start_time": "2021-10-11T18:31:20.879Z"
   },
   {
    "duration": 291,
    "start_time": "2021-10-11T18:31:30.672Z"
   },
   {
    "duration": 7,
    "start_time": "2021-10-11T18:31:41.977Z"
   },
   {
    "duration": 18,
    "start_time": "2021-10-11T18:31:58.956Z"
   },
   {
    "duration": 27,
    "start_time": "2021-10-11T18:32:45.505Z"
   },
   {
    "duration": 25,
    "start_time": "2021-10-11T18:33:48.896Z"
   },
   {
    "duration": 362,
    "start_time": "2021-10-11T18:34:10.199Z"
   },
   {
    "duration": 334,
    "start_time": "2021-10-11T18:34:19.232Z"
   },
   {
    "duration": 722,
    "start_time": "2021-10-11T18:34:31.791Z"
   },
   {
    "duration": 325,
    "start_time": "2021-10-11T18:34:36.008Z"
   },
   {
    "duration": 24,
    "start_time": "2021-10-11T18:34:58.745Z"
   },
   {
    "duration": 155,
    "start_time": "2021-10-11T18:36:22.775Z"
   },
   {
    "duration": 103,
    "start_time": "2021-10-11T18:38:27.710Z"
   },
   {
    "duration": 107,
    "start_time": "2021-10-13T05:46:03.386Z"
   },
   {
    "duration": 375,
    "start_time": "2021-10-13T05:46:23.362Z"
   },
   {
    "duration": 334,
    "start_time": "2021-10-13T05:47:03.814Z"
   },
   {
    "duration": 1489,
    "start_time": "2021-10-13T05:47:16.392Z"
   },
   {
    "duration": 18,
    "start_time": "2021-10-13T05:47:17.883Z"
   },
   {
    "duration": 30,
    "start_time": "2021-10-13T05:47:17.904Z"
   },
   {
    "duration": 18,
    "start_time": "2021-10-13T05:47:17.957Z"
   },
   {
    "duration": 3206,
    "start_time": "2021-10-13T05:47:17.977Z"
   },
   {
    "duration": 25,
    "start_time": "2021-10-13T05:47:21.185Z"
   },
   {
    "duration": 50,
    "start_time": "2021-10-13T05:47:21.212Z"
   },
   {
    "duration": 30,
    "start_time": "2021-10-13T05:47:21.267Z"
   },
   {
    "duration": 443,
    "start_time": "2021-10-13T05:47:21.300Z"
   },
   {
    "duration": 47,
    "start_time": "2021-10-13T05:47:21.746Z"
   },
   {
    "duration": 3,
    "start_time": "2021-10-13T05:47:21.795Z"
   },
   {
    "duration": 450,
    "start_time": "2021-10-13T05:47:21.800Z"
   },
   {
    "duration": 7,
    "start_time": "2021-10-13T05:47:22.252Z"
   },
   {
    "duration": 9,
    "start_time": "2021-10-13T05:47:22.261Z"
   },
   {
    "duration": 51,
    "start_time": "2021-10-13T05:47:22.273Z"
   },
   {
    "duration": 1850,
    "start_time": "2021-10-13T05:47:22.327Z"
   },
   {
    "duration": 519,
    "start_time": "2021-10-13T05:47:24.179Z"
   },
   {
    "duration": 39,
    "start_time": "2021-10-13T05:47:24.701Z"
   },
   {
    "duration": 100,
    "start_time": "2021-10-13T05:47:24.758Z"
   },
   {
    "duration": 714,
    "start_time": "2021-10-13T05:47:24.860Z"
   },
   {
    "duration": 589,
    "start_time": "2021-10-13T05:47:25.577Z"
   },
   {
    "duration": 47,
    "start_time": "2021-10-13T05:47:26.169Z"
   },
   {
    "duration": 54,
    "start_time": "2021-10-13T05:47:26.220Z"
   },
   {
    "duration": 508,
    "start_time": "2021-10-13T05:47:26.276Z"
   },
   {
    "duration": 155,
    "start_time": "2021-10-13T05:47:26.786Z"
   },
   {
    "duration": 29,
    "start_time": "2021-10-13T05:47:26.943Z"
   },
   {
    "duration": 23,
    "start_time": "2021-10-13T05:47:26.974Z"
   },
   {
    "duration": 61,
    "start_time": "2021-10-13T05:47:26.999Z"
   },
   {
    "duration": 1035,
    "start_time": "2021-10-13T05:47:27.063Z"
   },
   {
    "duration": 17,
    "start_time": "2021-10-13T05:47:28.101Z"
   },
   {
    "duration": 59,
    "start_time": "2021-10-13T05:47:28.121Z"
   },
   {
    "duration": 27,
    "start_time": "2021-10-13T05:47:28.183Z"
   },
   {
    "duration": 47,
    "start_time": "2021-10-13T05:47:28.213Z"
   },
   {
    "duration": 4,
    "start_time": "2021-10-13T05:47:28.263Z"
   },
   {
    "duration": 5,
    "start_time": "2021-10-13T05:47:28.270Z"
   },
   {
    "duration": 21,
    "start_time": "2021-10-13T05:47:28.278Z"
   },
   {
    "duration": 466,
    "start_time": "2021-10-13T05:47:28.301Z"
   },
   {
    "duration": 551,
    "start_time": "2021-10-13T05:48:24.143Z"
   },
   {
    "duration": 31,
    "start_time": "2021-10-13T05:50:23.731Z"
   },
   {
    "duration": 35,
    "start_time": "2021-10-13T05:50:44.856Z"
   },
   {
    "duration": 33,
    "start_time": "2021-10-13T05:50:58.733Z"
   },
   {
    "duration": 9,
    "start_time": "2021-10-13T05:54:23.497Z"
   },
   {
    "duration": 123,
    "start_time": "2021-10-13T06:00:12.992Z"
   },
   {
    "duration": 115,
    "start_time": "2021-10-13T06:01:37.000Z"
   },
   {
    "duration": 109,
    "start_time": "2021-10-13T06:01:53.529Z"
   },
   {
    "duration": 335,
    "start_time": "2021-10-13T06:02:11.383Z"
   },
   {
    "duration": 8,
    "start_time": "2021-10-13T06:02:25.113Z"
   },
   {
    "duration": 9,
    "start_time": "2021-10-13T06:02:53.241Z"
   },
   {
    "duration": 1823,
    "start_time": "2021-10-13T06:03:13.883Z"
   },
   {
    "duration": 16,
    "start_time": "2021-10-13T06:03:15.709Z"
   },
   {
    "duration": 39,
    "start_time": "2021-10-13T06:03:15.728Z"
   },
   {
    "duration": 18,
    "start_time": "2021-10-13T06:03:15.770Z"
   },
   {
    "duration": 3154,
    "start_time": "2021-10-13T06:03:15.791Z"
   },
   {
    "duration": 26,
    "start_time": "2021-10-13T06:03:18.958Z"
   },
   {
    "duration": 27,
    "start_time": "2021-10-13T06:03:18.987Z"
   },
   {
    "duration": 60,
    "start_time": "2021-10-13T06:03:19.018Z"
   },
   {
    "duration": 447,
    "start_time": "2021-10-13T06:03:19.081Z"
   },
   {
    "duration": 50,
    "start_time": "2021-10-13T06:03:19.531Z"
   },
   {
    "duration": 3,
    "start_time": "2021-10-13T06:03:19.584Z"
   },
   {
    "duration": 464,
    "start_time": "2021-10-13T06:03:19.589Z"
   },
   {
    "duration": 3,
    "start_time": "2021-10-13T06:03:20.057Z"
   },
   {
    "duration": 15,
    "start_time": "2021-10-13T06:03:20.062Z"
   },
   {
    "duration": 59,
    "start_time": "2021-10-13T06:03:20.080Z"
   },
   {
    "duration": 1829,
    "start_time": "2021-10-13T06:03:20.141Z"
   },
   {
    "duration": 521,
    "start_time": "2021-10-13T06:03:21.973Z"
   },
   {
    "duration": 126,
    "start_time": "2021-10-13T06:03:22.496Z"
   },
   {
    "duration": 32,
    "start_time": "2021-10-13T06:03:22.625Z"
   },
   {
    "duration": 698,
    "start_time": "2021-10-13T06:03:22.659Z"
   },
   {
    "duration": 555,
    "start_time": "2021-10-13T06:03:23.360Z"
   },
   {
    "duration": 65,
    "start_time": "2021-10-13T06:03:23.917Z"
   },
   {
    "duration": 34,
    "start_time": "2021-10-13T06:03:23.989Z"
   },
   {
    "duration": 529,
    "start_time": "2021-10-13T06:03:24.026Z"
   },
   {
    "duration": 108,
    "start_time": "2021-10-13T06:03:24.558Z"
   },
   {
    "duration": -53,
    "start_time": "2021-10-13T06:03:24.721Z"
   },
   {
    "duration": -56,
    "start_time": "2021-10-13T06:03:24.726Z"
   },
   {
    "duration": -59,
    "start_time": "2021-10-13T06:03:24.730Z"
   },
   {
    "duration": -61,
    "start_time": "2021-10-13T06:03:24.733Z"
   },
   {
    "duration": -62,
    "start_time": "2021-10-13T06:03:24.736Z"
   },
   {
    "duration": -64,
    "start_time": "2021-10-13T06:03:24.739Z"
   },
   {
    "duration": -66,
    "start_time": "2021-10-13T06:03:24.742Z"
   },
   {
    "duration": -68,
    "start_time": "2021-10-13T06:03:24.745Z"
   },
   {
    "duration": -69,
    "start_time": "2021-10-13T06:03:24.748Z"
   },
   {
    "duration": -71,
    "start_time": "2021-10-13T06:03:24.751Z"
   },
   {
    "duration": -73,
    "start_time": "2021-10-13T06:03:24.754Z"
   },
   {
    "duration": -75,
    "start_time": "2021-10-13T06:03:24.757Z"
   },
   {
    "duration": -75,
    "start_time": "2021-10-13T06:03:24.759Z"
   },
   {
    "duration": 186,
    "start_time": "2021-10-13T06:03:47.455Z"
   },
   {
    "duration": 52,
    "start_time": "2021-10-13T06:03:49.430Z"
   },
   {
    "duration": 49,
    "start_time": "2021-10-13T06:03:49.485Z"
   },
   {
    "duration": 86,
    "start_time": "2021-10-13T06:03:49.538Z"
   },
   {
    "duration": 1133,
    "start_time": "2021-10-13T06:03:49.628Z"
   },
   {
    "duration": 14,
    "start_time": "2021-10-13T06:03:50.764Z"
   },
   {
    "duration": 31,
    "start_time": "2021-10-13T06:03:50.781Z"
   },
   {
    "duration": 60,
    "start_time": "2021-10-13T06:03:50.816Z"
   },
   {
    "duration": 23,
    "start_time": "2021-10-13T06:03:51.185Z"
   },
   {
    "duration": 4,
    "start_time": "2021-10-13T06:03:52.930Z"
   },
   {
    "duration": 3,
    "start_time": "2021-10-13T06:03:53.667Z"
   },
   {
    "duration": 15,
    "start_time": "2021-10-13T06:03:57.515Z"
   },
   {
    "duration": 10,
    "start_time": "2021-10-13T07:48:00.158Z"
   },
   {
    "duration": 1489,
    "start_time": "2021-10-13T07:48:23.802Z"
   },
   {
    "duration": 24,
    "start_time": "2021-10-13T07:48:25.294Z"
   },
   {
    "duration": 47,
    "start_time": "2021-10-13T07:48:25.322Z"
   },
   {
    "duration": 27,
    "start_time": "2021-10-13T07:48:25.372Z"
   },
   {
    "duration": 3721,
    "start_time": "2021-10-13T07:48:25.402Z"
   },
   {
    "duration": 46,
    "start_time": "2021-10-13T07:48:29.126Z"
   },
   {
    "duration": 27,
    "start_time": "2021-10-13T07:48:29.175Z"
   },
   {
    "duration": 61,
    "start_time": "2021-10-13T07:48:29.207Z"
   },
   {
    "duration": 474,
    "start_time": "2021-10-13T07:48:29.271Z"
   },
   {
    "duration": 42,
    "start_time": "2021-10-13T07:48:29.748Z"
   },
   {
    "duration": 3,
    "start_time": "2021-10-13T07:48:29.794Z"
   },
   {
    "duration": 695,
    "start_time": "2021-10-13T07:48:29.800Z"
   },
   {
    "duration": 4,
    "start_time": "2021-10-13T07:48:30.498Z"
   },
   {
    "duration": 26,
    "start_time": "2021-10-13T07:48:30.504Z"
   },
   {
    "duration": 65,
    "start_time": "2021-10-13T07:48:30.532Z"
   },
   {
    "duration": 1915,
    "start_time": "2021-10-13T07:48:30.599Z"
   },
   {
    "duration": 594,
    "start_time": "2021-10-13T07:48:32.517Z"
   },
   {
    "duration": 52,
    "start_time": "2021-10-13T07:48:33.114Z"
   },
   {
    "duration": 105,
    "start_time": "2021-10-13T07:48:33.169Z"
   },
   {
    "duration": 705,
    "start_time": "2021-10-13T07:48:33.276Z"
   },
   {
    "duration": 580,
    "start_time": "2021-10-13T07:48:33.985Z"
   },
   {
    "duration": 47,
    "start_time": "2021-10-13T07:48:34.567Z"
   },
   {
    "duration": 57,
    "start_time": "2021-10-13T07:48:34.619Z"
   },
   {
    "duration": 513,
    "start_time": "2021-10-13T07:48:34.679Z"
   },
   {
    "duration": 178,
    "start_time": "2021-10-13T07:48:35.194Z"
   },
   {
    "duration": 32,
    "start_time": "2021-10-13T07:48:35.375Z"
   },
   {
    "duration": 25,
    "start_time": "2021-10-13T07:48:35.410Z"
   },
   {
    "duration": 39,
    "start_time": "2021-10-13T07:48:35.459Z"
   },
   {
    "duration": 1787,
    "start_time": "2021-10-13T07:48:35.502Z"
   },
   {
    "duration": 22,
    "start_time": "2021-10-13T07:48:37.294Z"
   },
   {
    "duration": 64,
    "start_time": "2021-10-13T07:48:37.319Z"
   },
   {
    "duration": 39,
    "start_time": "2021-10-13T07:48:37.387Z"
   },
   {
    "duration": 56,
    "start_time": "2021-10-13T07:48:37.429Z"
   },
   {
    "duration": 4,
    "start_time": "2021-10-13T07:48:37.488Z"
   },
   {
    "duration": 14,
    "start_time": "2021-10-13T07:48:37.495Z"
   },
   {
    "duration": 15,
    "start_time": "2021-10-13T07:48:37.512Z"
   },
   {
    "duration": 513,
    "start_time": "2021-10-13T07:48:37.530Z"
   },
   {
    "duration": 8,
    "start_time": "2021-10-13T07:49:07.274Z"
   },
   {
    "duration": 8,
    "start_time": "2021-10-13T07:49:18.745Z"
   },
   {
    "duration": 10,
    "start_time": "2021-10-13T07:49:35.779Z"
   },
   {
    "duration": 1572,
    "start_time": "2021-10-13T07:50:08.023Z"
   },
   {
    "duration": 16,
    "start_time": "2021-10-13T07:50:09.598Z"
   },
   {
    "duration": 53,
    "start_time": "2021-10-13T07:50:09.618Z"
   },
   {
    "duration": 21,
    "start_time": "2021-10-13T07:50:09.674Z"
   },
   {
    "duration": 3320,
    "start_time": "2021-10-13T07:50:09.698Z"
   },
   {
    "duration": 45,
    "start_time": "2021-10-13T07:50:13.021Z"
   },
   {
    "duration": 27,
    "start_time": "2021-10-13T07:50:13.068Z"
   },
   {
    "duration": 30,
    "start_time": "2021-10-13T07:50:13.098Z"
   },
   {
    "duration": 463,
    "start_time": "2021-10-13T07:50:13.131Z"
   },
   {
    "duration": 63,
    "start_time": "2021-10-13T07:50:13.596Z"
   },
   {
    "duration": 3,
    "start_time": "2021-10-13T07:50:13.661Z"
   },
   {
    "duration": 482,
    "start_time": "2021-10-13T07:50:13.666Z"
   },
   {
    "duration": 4,
    "start_time": "2021-10-13T07:50:14.158Z"
   },
   {
    "duration": 16,
    "start_time": "2021-10-13T07:50:14.166Z"
   },
   {
    "duration": 55,
    "start_time": "2021-10-13T07:50:14.184Z"
   },
   {
    "duration": 2270,
    "start_time": "2021-10-13T07:50:14.241Z"
   },
   {
    "duration": 575,
    "start_time": "2021-10-13T07:50:16.514Z"
   },
   {
    "duration": 43,
    "start_time": "2021-10-13T07:50:17.092Z"
   },
   {
    "duration": 128,
    "start_time": "2021-10-13T07:50:17.137Z"
   },
   {
    "duration": 698,
    "start_time": "2021-10-13T07:50:17.269Z"
   },
   {
    "duration": 571,
    "start_time": "2021-10-13T07:50:17.970Z"
   },
   {
    "duration": 56,
    "start_time": "2021-10-13T07:50:18.544Z"
   },
   {
    "duration": 59,
    "start_time": "2021-10-13T07:50:18.605Z"
   },
   {
    "duration": 555,
    "start_time": "2021-10-13T07:50:18.667Z"
   },
   {
    "duration": 1213,
    "start_time": "2021-10-13T07:50:19.225Z"
   },
   {
    "duration": 35,
    "start_time": "2021-10-13T07:50:20.441Z"
   },
   {
    "duration": 26,
    "start_time": "2021-10-13T07:50:20.479Z"
   },
   {
    "duration": 69,
    "start_time": "2021-10-13T07:50:20.507Z"
   },
   {
    "duration": 1114,
    "start_time": "2021-10-13T07:50:20.578Z"
   },
   {
    "duration": 17,
    "start_time": "2021-10-13T07:50:21.694Z"
   },
   {
    "duration": 51,
    "start_time": "2021-10-13T07:50:21.713Z"
   },
   {
    "duration": 27,
    "start_time": "2021-10-13T07:50:21.766Z"
   },
   {
    "duration": 23,
    "start_time": "2021-10-13T07:50:21.795Z"
   },
   {
    "duration": 37,
    "start_time": "2021-10-13T07:50:21.820Z"
   },
   {
    "duration": 9,
    "start_time": "2021-10-13T07:50:21.860Z"
   },
   {
    "duration": 22,
    "start_time": "2021-10-13T07:50:21.871Z"
   },
   {
    "duration": 771,
    "start_time": "2021-10-13T07:50:21.895Z"
   },
   {
    "duration": 330,
    "start_time": "2021-10-13T07:51:02.673Z"
   },
   {
    "duration": 9,
    "start_time": "2021-10-13T07:51:15.105Z"
   },
   {
    "duration": 8,
    "start_time": "2021-10-13T07:51:26.773Z"
   },
   {
    "duration": 347,
    "start_time": "2021-10-13T07:52:12.412Z"
   },
   {
    "duration": 343,
    "start_time": "2021-10-13T07:53:05.107Z"
   },
   {
    "duration": 13,
    "start_time": "2021-10-13T07:53:47.825Z"
   },
   {
    "duration": 12,
    "start_time": "2021-10-13T07:54:11.794Z"
   },
   {
    "duration": 343,
    "start_time": "2021-10-13T07:54:30.073Z"
   },
   {
    "duration": 7,
    "start_time": "2021-10-13T07:55:41.074Z"
   },
   {
    "duration": 7,
    "start_time": "2021-10-13T07:55:50.234Z"
   },
   {
    "duration": 8,
    "start_time": "2021-10-13T07:56:04.776Z"
   },
   {
    "duration": 9,
    "start_time": "2021-10-13T07:56:35.114Z"
   },
   {
    "duration": 6,
    "start_time": "2021-10-13T07:57:10.123Z"
   },
   {
    "duration": 13,
    "start_time": "2021-10-13T07:57:13.397Z"
   },
   {
    "duration": 12,
    "start_time": "2021-10-13T07:57:32.723Z"
   },
   {
    "duration": 1618,
    "start_time": "2021-10-13T07:57:47.820Z"
   },
   {
    "duration": 17,
    "start_time": "2021-10-13T07:57:49.440Z"
   },
   {
    "duration": 35,
    "start_time": "2021-10-13T07:57:49.460Z"
   },
   {
    "duration": 18,
    "start_time": "2021-10-13T07:57:49.498Z"
   },
   {
    "duration": 3372,
    "start_time": "2021-10-13T07:57:49.518Z"
   },
   {
    "duration": 24,
    "start_time": "2021-10-13T07:57:52.893Z"
   },
   {
    "duration": 51,
    "start_time": "2021-10-13T07:57:52.920Z"
   },
   {
    "duration": 31,
    "start_time": "2021-10-13T07:57:52.974Z"
   },
   {
    "duration": 472,
    "start_time": "2021-10-13T07:57:53.011Z"
   },
   {
    "duration": 40,
    "start_time": "2021-10-13T07:57:53.488Z"
   },
   {
    "duration": 27,
    "start_time": "2021-10-13T07:57:53.531Z"
   },
   {
    "duration": 458,
    "start_time": "2021-10-13T07:57:53.561Z"
   },
   {
    "duration": 3,
    "start_time": "2021-10-13T07:57:54.022Z"
   },
   {
    "duration": 8,
    "start_time": "2021-10-13T07:57:54.028Z"
   },
   {
    "duration": 61,
    "start_time": "2021-10-13T07:57:54.038Z"
   },
   {
    "duration": 1899,
    "start_time": "2021-10-13T07:57:54.101Z"
   },
   {
    "duration": 516,
    "start_time": "2021-10-13T07:57:56.003Z"
   },
   {
    "duration": 51,
    "start_time": "2021-10-13T07:57:56.522Z"
   },
   {
    "duration": 119,
    "start_time": "2021-10-13T07:57:56.576Z"
   },
   {
    "duration": 739,
    "start_time": "2021-10-13T07:57:56.697Z"
   },
   {
    "duration": 605,
    "start_time": "2021-10-13T07:57:57.439Z"
   },
   {
    "duration": 50,
    "start_time": "2021-10-13T07:57:58.046Z"
   },
   {
    "duration": 14,
    "start_time": "2021-10-13T07:57:58.099Z"
   },
   {
    "duration": 50,
    "start_time": "2021-10-13T07:57:58.116Z"
   },
   {
    "duration": 554,
    "start_time": "2021-10-13T07:57:58.169Z"
   },
   {
    "duration": 169,
    "start_time": "2021-10-13T07:57:58.726Z"
   },
   {
    "duration": 32,
    "start_time": "2021-10-13T07:57:58.900Z"
   },
   {
    "duration": 24,
    "start_time": "2021-10-13T07:57:58.934Z"
   },
   {
    "duration": 40,
    "start_time": "2021-10-13T07:57:58.960Z"
   },
   {
    "duration": 1089,
    "start_time": "2021-10-13T07:57:59.003Z"
   },
   {
    "duration": 15,
    "start_time": "2021-10-13T07:58:00.094Z"
   },
   {
    "duration": 51,
    "start_time": "2021-10-13T07:58:00.111Z"
   },
   {
    "duration": 28,
    "start_time": "2021-10-13T07:58:00.165Z"
   },
   {
    "duration": 36,
    "start_time": "2021-10-13T07:58:00.197Z"
   },
   {
    "duration": 22,
    "start_time": "2021-10-13T07:58:00.236Z"
   },
   {
    "duration": 13,
    "start_time": "2021-10-13T07:58:00.261Z"
   },
   {
    "duration": 32,
    "start_time": "2021-10-13T07:58:00.277Z"
   },
   {
    "duration": 506,
    "start_time": "2021-10-13T07:58:00.311Z"
   },
   {
    "duration": 9,
    "start_time": "2021-10-13T07:59:17.687Z"
   },
   {
    "duration": 353,
    "start_time": "2021-10-13T07:59:36.396Z"
   },
   {
    "duration": 15,
    "start_time": "2021-10-13T08:00:08.719Z"
   },
   {
    "duration": 55,
    "start_time": "2021-10-13T08:02:06.007Z"
   },
   {
    "duration": 13,
    "start_time": "2021-10-13T08:02:35.793Z"
   },
   {
    "duration": 129,
    "start_time": "2021-10-13T08:03:30.780Z"
   },
   {
    "duration": 8,
    "start_time": "2021-10-13T08:03:36.269Z"
   },
   {
    "duration": 1617,
    "start_time": "2021-10-13T08:03:55.131Z"
   },
   {
    "duration": 18,
    "start_time": "2021-10-13T08:03:56.750Z"
   },
   {
    "duration": 33,
    "start_time": "2021-10-13T08:03:56.773Z"
   },
   {
    "duration": 19,
    "start_time": "2021-10-13T08:03:56.810Z"
   },
   {
    "duration": 3333,
    "start_time": "2021-10-13T08:03:56.832Z"
   },
   {
    "duration": 26,
    "start_time": "2021-10-13T08:04:00.168Z"
   },
   {
    "duration": 29,
    "start_time": "2021-10-13T08:04:00.196Z"
   },
   {
    "duration": 37,
    "start_time": "2021-10-13T08:04:00.256Z"
   },
   {
    "duration": 523,
    "start_time": "2021-10-13T08:04:00.297Z"
   },
   {
    "duration": 52,
    "start_time": "2021-10-13T08:04:00.822Z"
   },
   {
    "duration": 3,
    "start_time": "2021-10-13T08:04:00.877Z"
   },
   {
    "duration": 449,
    "start_time": "2021-10-13T08:04:00.883Z"
   },
   {
    "duration": 3,
    "start_time": "2021-10-13T08:04:01.335Z"
   },
   {
    "duration": 20,
    "start_time": "2021-10-13T08:04:01.340Z"
   },
   {
    "duration": 59,
    "start_time": "2021-10-13T08:04:01.363Z"
   },
   {
    "duration": 1836,
    "start_time": "2021-10-13T08:04:01.424Z"
   },
   {
    "duration": 525,
    "start_time": "2021-10-13T08:04:03.262Z"
   },
   {
    "duration": 40,
    "start_time": "2021-10-13T08:04:03.790Z"
   },
   {
    "duration": 113,
    "start_time": "2021-10-13T08:04:03.832Z"
   },
   {
    "duration": 695,
    "start_time": "2021-10-13T08:04:03.958Z"
   },
   {
    "duration": 572,
    "start_time": "2021-10-13T08:04:04.658Z"
   },
   {
    "duration": 69,
    "start_time": "2021-10-13T08:04:05.233Z"
   },
   {
    "duration": 51,
    "start_time": "2021-10-13T08:04:05.306Z"
   },
   {
    "duration": 525,
    "start_time": "2021-10-13T08:04:05.361Z"
   },
   {
    "duration": 165,
    "start_time": "2021-10-13T08:04:05.888Z"
   },
   {
    "duration": 35,
    "start_time": "2021-10-13T08:04:06.056Z"
   },
   {
    "duration": 26,
    "start_time": "2021-10-13T08:04:06.094Z"
   },
   {
    "duration": 72,
    "start_time": "2021-10-13T08:04:06.123Z"
   },
   {
    "duration": 1037,
    "start_time": "2021-10-13T08:04:06.198Z"
   },
   {
    "duration": 21,
    "start_time": "2021-10-13T08:04:07.238Z"
   },
   {
    "duration": 27,
    "start_time": "2021-10-13T08:04:07.261Z"
   },
   {
    "duration": 26,
    "start_time": "2021-10-13T08:04:07.290Z"
   },
   {
    "duration": 55,
    "start_time": "2021-10-13T08:04:07.318Z"
   },
   {
    "duration": 5,
    "start_time": "2021-10-13T08:04:07.376Z"
   },
   {
    "duration": 9,
    "start_time": "2021-10-13T08:04:07.383Z"
   },
   {
    "duration": 15,
    "start_time": "2021-10-13T08:04:07.395Z"
   },
   {
    "duration": 455,
    "start_time": "2021-10-13T08:04:07.413Z"
   },
   {
    "duration": 21,
    "start_time": "2021-10-13T08:04:11.197Z"
   },
   {
    "duration": 9,
    "start_time": "2021-10-13T08:05:05.721Z"
   },
   {
    "duration": 8,
    "start_time": "2021-10-13T08:05:18.749Z"
   },
   {
    "duration": 10,
    "start_time": "2021-10-13T08:06:48.410Z"
   },
   {
    "duration": 8,
    "start_time": "2021-10-13T08:07:35.371Z"
   },
   {
    "duration": 101,
    "start_time": "2021-10-13T08:09:19.554Z"
   },
   {
    "duration": 8,
    "start_time": "2021-10-13T08:23:25.929Z"
   },
   {
    "duration": 23,
    "start_time": "2021-10-13T08:23:47.856Z"
   },
   {
    "duration": 104,
    "start_time": "2021-10-13T08:27:07.774Z"
   },
   {
    "duration": 24,
    "start_time": "2021-10-13T08:28:49.217Z"
   },
   {
    "duration": 675,
    "start_time": "2021-10-13T08:29:25.060Z"
   },
   {
    "duration": 559,
    "start_time": "2021-10-13T08:30:17.815Z"
   },
   {
    "duration": 1579,
    "start_time": "2021-10-13T08:31:43.736Z"
   },
   {
    "duration": 17,
    "start_time": "2021-10-13T08:31:45.318Z"
   },
   {
    "duration": 42,
    "start_time": "2021-10-13T08:31:45.338Z"
   },
   {
    "duration": 19,
    "start_time": "2021-10-13T08:31:45.382Z"
   },
   {
    "duration": 3365,
    "start_time": "2021-10-13T08:31:45.403Z"
   },
   {
    "duration": 28,
    "start_time": "2021-10-13T08:31:48.771Z"
   },
   {
    "duration": 29,
    "start_time": "2021-10-13T08:31:48.804Z"
   },
   {
    "duration": 50,
    "start_time": "2021-10-13T08:31:48.836Z"
   },
   {
    "duration": 486,
    "start_time": "2021-10-13T08:31:48.889Z"
   },
   {
    "duration": 93,
    "start_time": "2021-10-13T08:31:49.377Z"
   },
   {
    "duration": 3,
    "start_time": "2021-10-13T08:31:49.473Z"
   },
   {
    "duration": 530,
    "start_time": "2021-10-13T08:31:49.478Z"
   },
   {
    "duration": 3,
    "start_time": "2021-10-13T08:31:50.011Z"
   },
   {
    "duration": 11,
    "start_time": "2021-10-13T08:31:50.016Z"
   },
   {
    "duration": 60,
    "start_time": "2021-10-13T08:31:50.030Z"
   },
   {
    "duration": 1914,
    "start_time": "2021-10-13T08:31:50.092Z"
   },
   {
    "duration": 528,
    "start_time": "2021-10-13T08:31:52.008Z"
   },
   {
    "duration": 49,
    "start_time": "2021-10-13T08:31:52.539Z"
   },
   {
    "duration": 113,
    "start_time": "2021-10-13T08:31:52.590Z"
   },
   {
    "duration": 723,
    "start_time": "2021-10-13T08:31:52.706Z"
   },
   {
    "duration": 555,
    "start_time": "2021-10-13T08:31:53.431Z"
   },
   {
    "duration": 72,
    "start_time": "2021-10-13T08:31:53.990Z"
   },
   {
    "duration": 30,
    "start_time": "2021-10-13T08:31:54.065Z"
   },
   {
    "duration": 619,
    "start_time": "2021-10-13T08:31:54.098Z"
   },
   {
    "duration": 169,
    "start_time": "2021-10-13T08:31:54.719Z"
   },
   {
    "duration": 32,
    "start_time": "2021-10-13T08:31:54.891Z"
   },
   {
    "duration": 34,
    "start_time": "2021-10-13T08:31:54.925Z"
   },
   {
    "duration": 38,
    "start_time": "2021-10-13T08:31:54.961Z"
   },
   {
    "duration": 1036,
    "start_time": "2021-10-13T08:31:55.002Z"
   },
   {
    "duration": 23,
    "start_time": "2021-10-13T08:31:56.041Z"
   },
   {
    "duration": 25,
    "start_time": "2021-10-13T08:31:56.066Z"
   },
   {
    "duration": 26,
    "start_time": "2021-10-13T08:31:56.093Z"
   },
   {
    "duration": 55,
    "start_time": "2021-10-13T08:31:56.121Z"
   },
   {
    "duration": 16,
    "start_time": "2021-10-13T08:31:56.179Z"
   },
   {
    "duration": 18,
    "start_time": "2021-10-13T08:31:56.198Z"
   },
   {
    "duration": 30,
    "start_time": "2021-10-13T08:31:56.219Z"
   },
   {
    "duration": 562,
    "start_time": "2021-10-13T08:31:56.252Z"
   },
   {
    "duration": 820,
    "start_time": "2021-10-13T08:42:55.185Z"
   },
   {
    "duration": 25,
    "start_time": "2021-10-13T08:44:35.459Z"
   },
   {
    "duration": 21,
    "start_time": "2021-10-13T08:45:12.699Z"
   },
   {
    "duration": 1108,
    "start_time": "2021-10-13T08:47:00.830Z"
   },
   {
    "duration": 1232,
    "start_time": "2021-10-13T08:47:20.747Z"
   },
   {
    "duration": 1979,
    "start_time": "2021-10-13T08:47:29.878Z"
   },
   {
    "duration": 2487,
    "start_time": "2021-10-13T08:48:03.946Z"
   },
   {
    "duration": 2357,
    "start_time": "2021-10-13T08:48:10.334Z"
   },
   {
    "duration": 1924,
    "start_time": "2021-10-13T08:50:00.947Z"
   },
   {
    "duration": 2089,
    "start_time": "2021-10-13T08:50:14.846Z"
   },
   {
    "duration": 787,
    "start_time": "2021-10-13T08:50:34.133Z"
   },
   {
    "duration": 242,
    "start_time": "2021-10-13T11:17:48.905Z"
   },
   {
    "duration": 1163,
    "start_time": "2021-10-13T11:17:52.982Z"
   },
   {
    "duration": 11,
    "start_time": "2021-10-13T11:17:54.147Z"
   },
   {
    "duration": 21,
    "start_time": "2021-10-13T11:17:54.160Z"
   },
   {
    "duration": 12,
    "start_time": "2021-10-13T11:17:54.183Z"
   },
   {
    "duration": 2612,
    "start_time": "2021-10-13T11:17:54.197Z"
   },
   {
    "duration": 20,
    "start_time": "2021-10-13T11:17:56.811Z"
   },
   {
    "duration": 18,
    "start_time": "2021-10-13T11:17:56.849Z"
   },
   {
    "duration": 13,
    "start_time": "2021-10-13T11:17:56.870Z"
   },
   {
    "duration": 20,
    "start_time": "2021-10-13T11:17:56.885Z"
   },
   {
    "duration": 285,
    "start_time": "2021-10-13T11:17:56.907Z"
   },
   {
    "duration": 28,
    "start_time": "2021-10-13T11:17:57.194Z"
   },
   {
    "duration": 2,
    "start_time": "2021-10-13T11:17:57.224Z"
   },
   {
    "duration": 293,
    "start_time": "2021-10-13T11:17:57.227Z"
   },
   {
    "duration": 3,
    "start_time": "2021-10-13T11:17:57.522Z"
   },
   {
    "duration": 5,
    "start_time": "2021-10-13T11:17:57.527Z"
   },
   {
    "duration": 43,
    "start_time": "2021-10-13T11:17:57.534Z"
   },
   {
    "duration": 1252,
    "start_time": "2021-10-13T11:17:57.579Z"
   },
   {
    "duration": 408,
    "start_time": "2021-10-13T11:17:58.833Z"
   },
   {
    "duration": 29,
    "start_time": "2021-10-13T11:17:59.242Z"
   },
   {
    "duration": 98,
    "start_time": "2021-10-13T11:17:59.273Z"
   },
   {
    "duration": 478,
    "start_time": "2021-10-13T11:17:59.373Z"
   },
   {
    "duration": 362,
    "start_time": "2021-10-13T11:17:59.853Z"
   },
   {
    "duration": 53,
    "start_time": "2021-10-13T11:18:00.219Z"
   },
   {
    "duration": 24,
    "start_time": "2021-10-13T11:18:00.275Z"
   },
   {
    "duration": 341,
    "start_time": "2021-10-13T11:18:00.301Z"
   },
   {
    "duration": 120,
    "start_time": "2021-10-13T11:18:00.644Z"
   },
   {
    "duration": 22,
    "start_time": "2021-10-13T11:18:00.766Z"
   },
   {
    "duration": 26,
    "start_time": "2021-10-13T11:18:00.789Z"
   },
   {
    "duration": 34,
    "start_time": "2021-10-13T11:18:00.816Z"
   },
   {
    "duration": 627,
    "start_time": "2021-10-13T11:18:00.852Z"
   },
   {
    "duration": 13,
    "start_time": "2021-10-13T11:18:01.481Z"
   },
   {
    "duration": 21,
    "start_time": "2021-10-13T11:18:01.496Z"
   },
   {
    "duration": 45,
    "start_time": "2021-10-13T11:18:01.519Z"
   },
   {
    "duration": 14,
    "start_time": "2021-10-13T11:18:01.566Z"
   },
   {
    "duration": 4,
    "start_time": "2021-10-13T11:18:01.582Z"
   },
   {
    "duration": 9,
    "start_time": "2021-10-13T11:18:01.587Z"
   },
   {
    "duration": 24,
    "start_time": "2021-10-13T11:18:01.598Z"
   },
   {
    "duration": 514,
    "start_time": "2021-10-13T11:18:01.624Z"
   },
   {
    "duration": 618,
    "start_time": "2021-10-13T11:18:02.140Z"
   }
  ],
  "kernelspec": {
   "display_name": "Python 3 (ipykernel)",
   "language": "python",
   "name": "python3"
  },
  "language_info": {
   "codemirror_mode": {
    "name": "ipython",
    "version": 3
   },
   "file_extension": ".py",
   "mimetype": "text/x-python",
   "name": "python",
   "nbconvert_exporter": "python",
   "pygments_lexer": "ipython3",
   "version": "3.9.5"
  },
  "toc": {
   "base_numbering": 1,
   "nav_menu": {},
   "number_sections": true,
   "sideBar": true,
   "skip_h1_title": true,
   "title_cell": "Table of Contents",
   "title_sidebar": "Contents",
   "toc_cell": false,
   "toc_position": {},
   "toc_section_display": true,
   "toc_window_display": false
  }
 },
 "nbformat": 4,
 "nbformat_minor": 2
}
