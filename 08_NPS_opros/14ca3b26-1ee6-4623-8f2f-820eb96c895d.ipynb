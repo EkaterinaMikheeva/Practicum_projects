{
 "cells": [
  {
   "cell_type": "code",
   "execution_count": 1,
   "id": "3b5dac29",
   "metadata": {
    "tags": [
     "aa81075c-062f-4de0-b5fe-14c73dc7468e"
    ]
   },
   "outputs": [],
   "source": [
    "import pandas as pd\n",
    "import numpy as np\n",
    "\n",
    "from sqlalchemy import create_engine"
   ]
  },
  {
   "cell_type": "code",
   "execution_count": 2,
   "id": "5ba6ceb8",
   "metadata": {},
   "outputs": [],
   "source": [
    "path_to_db = '/datasets/telecomm_csi.db'\n",
    "engine = create_engine(f'sqlite:///{path_to_db}', echo = False)"
   ]
  },
  {
   "cell_type": "code",
   "execution_count": 3,
   "id": "0b9f798a",
   "metadata": {},
   "outputs": [],
   "source": [
    "query = \"\"\"\n",
    "SELECT * FROM location;\n",
    "\"\"\""
   ]
  },
  {
   "cell_type": "code",
   "execution_count": 4,
   "id": "47f23e3b",
   "metadata": {},
   "outputs": [
    {
     "data": {
      "text/html": [
       "<div>\n",
       "<style scoped>\n",
       "    .dataframe tbody tr th:only-of-type {\n",
       "        vertical-align: middle;\n",
       "    }\n",
       "\n",
       "    .dataframe tbody tr th {\n",
       "        vertical-align: top;\n",
       "    }\n",
       "\n",
       "    .dataframe thead th {\n",
       "        text-align: right;\n",
       "    }\n",
       "</style>\n",
       "<table border=\"1\" class=\"dataframe\">\n",
       "  <thead>\n",
       "    <tr style=\"text-align: right;\">\n",
       "      <th></th>\n",
       "      <th>location_id</th>\n",
       "      <th>city</th>\n",
       "      <th>country</th>\n",
       "    </tr>\n",
       "  </thead>\n",
       "  <tbody>\n",
       "    <tr>\n",
       "      <td>0</td>\n",
       "      <td>1</td>\n",
       "      <td>Архангельск</td>\n",
       "      <td>Россия</td>\n",
       "    </tr>\n",
       "    <tr>\n",
       "      <td>1</td>\n",
       "      <td>2</td>\n",
       "      <td>Астрахань</td>\n",
       "      <td>Россия</td>\n",
       "    </tr>\n",
       "    <tr>\n",
       "      <td>2</td>\n",
       "      <td>3</td>\n",
       "      <td>Балашиха</td>\n",
       "      <td>Россия</td>\n",
       "    </tr>\n",
       "  </tbody>\n",
       "</table>\n",
       "</div>"
      ],
      "text/plain": [
       "   location_id         city country\n",
       "0            1  Архангельск  Россия\n",
       "1            2    Астрахань  Россия\n",
       "2            3     Балашиха  Россия"
      ]
     },
     "execution_count": 4,
     "metadata": {},
     "output_type": "execute_result"
    }
   ],
   "source": [
    "df = pd.read_sql(query, engine)\n",
    "df.head(3)"
   ]
  },
  {
   "cell_type": "code",
   "execution_count": null,
   "id": "3776d175",
   "metadata": {},
   "outputs": [],
   "source": []
  },
  {
   "cell_type": "code",
   "execution_count": 5,
   "id": "ba0b1134",
   "metadata": {},
   "outputs": [],
   "source": [
    "query = \"\"\"\n",
    "SELECT * FROM user;\n",
    "\"\"\""
   ]
  },
  {
   "cell_type": "code",
   "execution_count": 6,
   "id": "d39f3da7",
   "metadata": {},
   "outputs": [
    {
     "data": {
      "text/html": [
       "<div>\n",
       "<style scoped>\n",
       "    .dataframe tbody tr th:only-of-type {\n",
       "        vertical-align: middle;\n",
       "    }\n",
       "\n",
       "    .dataframe tbody tr th {\n",
       "        vertical-align: top;\n",
       "    }\n",
       "\n",
       "    .dataframe thead th {\n",
       "        text-align: right;\n",
       "    }\n",
       "</style>\n",
       "<table border=\"1\" class=\"dataframe\">\n",
       "  <thead>\n",
       "    <tr style=\"text-align: right;\">\n",
       "      <th></th>\n",
       "      <th>user_id</th>\n",
       "      <th>lt_day</th>\n",
       "      <th>age</th>\n",
       "      <th>gender_segment</th>\n",
       "      <th>os_name</th>\n",
       "      <th>cpe_type_name</th>\n",
       "      <th>location_id</th>\n",
       "      <th>age_gr_id</th>\n",
       "      <th>tr_gr_id</th>\n",
       "      <th>lt_gr_id</th>\n",
       "      <th>nps_score</th>\n",
       "    </tr>\n",
       "  </thead>\n",
       "  <tbody>\n",
       "    <tr>\n",
       "      <td>0</td>\n",
       "      <td>A001A2</td>\n",
       "      <td>2320</td>\n",
       "      <td>45.0</td>\n",
       "      <td>1.0</td>\n",
       "      <td>ANDROID</td>\n",
       "      <td>SMARTPHONE</td>\n",
       "      <td>55</td>\n",
       "      <td>5</td>\n",
       "      <td>5</td>\n",
       "      <td>8</td>\n",
       "      <td>10</td>\n",
       "    </tr>\n",
       "    <tr>\n",
       "      <td>1</td>\n",
       "      <td>A001WF</td>\n",
       "      <td>2344</td>\n",
       "      <td>53.0</td>\n",
       "      <td>0.0</td>\n",
       "      <td>ANDROID</td>\n",
       "      <td>SMARTPHONE</td>\n",
       "      <td>21</td>\n",
       "      <td>5</td>\n",
       "      <td>5</td>\n",
       "      <td>8</td>\n",
       "      <td>10</td>\n",
       "    </tr>\n",
       "    <tr>\n",
       "      <td>2</td>\n",
       "      <td>A003Q7</td>\n",
       "      <td>467</td>\n",
       "      <td>57.0</td>\n",
       "      <td>0.0</td>\n",
       "      <td>ANDROID</td>\n",
       "      <td>SMARTPHONE</td>\n",
       "      <td>28</td>\n",
       "      <td>6</td>\n",
       "      <td>9</td>\n",
       "      <td>6</td>\n",
       "      <td>10</td>\n",
       "    </tr>\n",
       "  </tbody>\n",
       "</table>\n",
       "</div>"
      ],
      "text/plain": [
       "  user_id  lt_day   age  gender_segment  os_name cpe_type_name  location_id  \\\n",
       "0  A001A2    2320  45.0             1.0  ANDROID    SMARTPHONE           55   \n",
       "1  A001WF    2344  53.0             0.0  ANDROID    SMARTPHONE           21   \n",
       "2  A003Q7     467  57.0             0.0  ANDROID    SMARTPHONE           28   \n",
       "\n",
       "   age_gr_id  tr_gr_id  lt_gr_id  nps_score  \n",
       "0          5         5         8         10  \n",
       "1          5         5         8         10  \n",
       "2          6         9         6         10  "
      ]
     },
     "execution_count": 6,
     "metadata": {},
     "output_type": "execute_result"
    }
   ],
   "source": [
    "df_user = pd.read_sql(query, engine)\n",
    "df_user.head(3)"
   ]
  },
  {
   "cell_type": "code",
   "execution_count": 7,
   "id": "41bb19cf",
   "metadata": {},
   "outputs": [],
   "source": [
    "#df.to_csv('telecomm_csi_tableau.csv', index=False)"
   ]
  },
  {
   "cell_type": "code",
   "execution_count": 8,
   "id": "1f7a9073",
   "metadata": {},
   "outputs": [],
   "source": [
    "query =\"\"\"\n",
    "SELECT u.user_id,\n",
    "    u.lt_day, CASE\n",
    "    WHEN lt_day < 365 THEN \"new\"\n",
    "    ELSE \"old\"\n",
    "    END AS is_new,\n",
    "    u.gender_segment, CASE\n",
    "    WHEN gender_segment = 1 THEN'female'\n",
    "    ELSE 'male' \n",
    "    END AS gender_segment,\n",
    "    u.age,\n",
    "    u.os_name,\n",
    "    u.cpe_type_name,\n",
    "    l.country,\n",
    "    l.city,\n",
    "    as2.title as age_segment,\n",
    "    ts.title as traffic_segment,\n",
    "    ls.title as lifetime_segment,\n",
    "    u.nps_score,CASE\n",
    "    WHEN u.nps_score BETWEEN 9 AND 10 THEN 'promoters'\n",
    "    WHEN u.nps_score BETWEEN 7 AND 8 THEN 'passives'\n",
    "    ELSE 'detractors'\n",
    "    END as nps_group\n",
    "FROM user u\n",
    "LEFT JOIN traffic_segment ts \n",
    "ON u.tr_gr_id= ts.tr_gr_id\n",
    "LEFT JOIN location l \n",
    "ON u.location_id=l.location_id\n",
    "LEFT JOIN age_segment as2 \n",
    "ON u.age_gr_id = as2.age_gr_id\n",
    "LEFT JOIN lifetime_segment ls \n",
    "ON u.lt_gr_id =ls.lt_gr_id      \n",
    "\"\"\""
   ]
  },
  {
   "cell_type": "code",
   "execution_count": 9,
   "id": "d763dca6",
   "metadata": {},
   "outputs": [
    {
     "data": {
      "text/html": [
       "<div>\n",
       "<style scoped>\n",
       "    .dataframe tbody tr th:only-of-type {\n",
       "        vertical-align: middle;\n",
       "    }\n",
       "\n",
       "    .dataframe tbody tr th {\n",
       "        vertical-align: top;\n",
       "    }\n",
       "\n",
       "    .dataframe thead th {\n",
       "        text-align: right;\n",
       "    }\n",
       "</style>\n",
       "<table border=\"1\" class=\"dataframe\">\n",
       "  <thead>\n",
       "    <tr style=\"text-align: right;\">\n",
       "      <th></th>\n",
       "      <th>user_id</th>\n",
       "      <th>lt_day</th>\n",
       "      <th>is_new</th>\n",
       "      <th>gender_segment</th>\n",
       "      <th>gender_segment</th>\n",
       "      <th>age</th>\n",
       "      <th>os_name</th>\n",
       "      <th>cpe_type_name</th>\n",
       "      <th>country</th>\n",
       "      <th>city</th>\n",
       "      <th>age_segment</th>\n",
       "      <th>traffic_segment</th>\n",
       "      <th>lifetime_segment</th>\n",
       "      <th>nps_score</th>\n",
       "      <th>nps_group</th>\n",
       "    </tr>\n",
       "  </thead>\n",
       "  <tbody>\n",
       "    <tr>\n",
       "      <td>0</td>\n",
       "      <td>A001A2</td>\n",
       "      <td>2320</td>\n",
       "      <td>old</td>\n",
       "      <td>1.0</td>\n",
       "      <td>female</td>\n",
       "      <td>45.0</td>\n",
       "      <td>ANDROID</td>\n",
       "      <td>SMARTPHONE</td>\n",
       "      <td>Россия</td>\n",
       "      <td>Уфа</td>\n",
       "      <td>05 45-54</td>\n",
       "      <td>04 1-5</td>\n",
       "      <td>08 36+</td>\n",
       "      <td>10</td>\n",
       "      <td>promoters</td>\n",
       "    </tr>\n",
       "    <tr>\n",
       "      <td>1</td>\n",
       "      <td>A001WF</td>\n",
       "      <td>2344</td>\n",
       "      <td>old</td>\n",
       "      <td>0.0</td>\n",
       "      <td>male</td>\n",
       "      <td>53.0</td>\n",
       "      <td>ANDROID</td>\n",
       "      <td>SMARTPHONE</td>\n",
       "      <td>Россия</td>\n",
       "      <td>Киров</td>\n",
       "      <td>05 45-54</td>\n",
       "      <td>04 1-5</td>\n",
       "      <td>08 36+</td>\n",
       "      <td>10</td>\n",
       "      <td>promoters</td>\n",
       "    </tr>\n",
       "    <tr>\n",
       "      <td>2</td>\n",
       "      <td>A003Q7</td>\n",
       "      <td>467</td>\n",
       "      <td>old</td>\n",
       "      <td>0.0</td>\n",
       "      <td>male</td>\n",
       "      <td>57.0</td>\n",
       "      <td>ANDROID</td>\n",
       "      <td>SMARTPHONE</td>\n",
       "      <td>Россия</td>\n",
       "      <td>Москва</td>\n",
       "      <td>06 55-64</td>\n",
       "      <td>08 20-25</td>\n",
       "      <td>06 13-24</td>\n",
       "      <td>10</td>\n",
       "      <td>promoters</td>\n",
       "    </tr>\n",
       "    <tr>\n",
       "      <td>3</td>\n",
       "      <td>A004TB</td>\n",
       "      <td>4190</td>\n",
       "      <td>old</td>\n",
       "      <td>1.0</td>\n",
       "      <td>female</td>\n",
       "      <td>44.0</td>\n",
       "      <td>IOS</td>\n",
       "      <td>SMARTPHONE</td>\n",
       "      <td>Россия</td>\n",
       "      <td>РостовнаДону</td>\n",
       "      <td>04 35-44</td>\n",
       "      <td>03 0.1-1</td>\n",
       "      <td>08 36+</td>\n",
       "      <td>10</td>\n",
       "      <td>promoters</td>\n",
       "    </tr>\n",
       "    <tr>\n",
       "      <td>4</td>\n",
       "      <td>A004XT</td>\n",
       "      <td>1163</td>\n",
       "      <td>old</td>\n",
       "      <td>0.0</td>\n",
       "      <td>male</td>\n",
       "      <td>24.0</td>\n",
       "      <td>ANDROID</td>\n",
       "      <td>SMARTPHONE</td>\n",
       "      <td>Россия</td>\n",
       "      <td>Рязань</td>\n",
       "      <td>02 16-24</td>\n",
       "      <td>05 5-10</td>\n",
       "      <td>08 36+</td>\n",
       "      <td>10</td>\n",
       "      <td>promoters</td>\n",
       "    </tr>\n",
       "  </tbody>\n",
       "</table>\n",
       "</div>"
      ],
      "text/plain": [
       "  user_id  lt_day is_new gender_segment gender_segment   age  os_name  \\\n",
       "0  A001A2    2320    old            1.0         female  45.0  ANDROID   \n",
       "1  A001WF    2344    old            0.0           male  53.0  ANDROID   \n",
       "2  A003Q7     467    old            0.0           male  57.0  ANDROID   \n",
       "3  A004TB    4190    old            1.0         female  44.0      IOS   \n",
       "4  A004XT    1163    old            0.0           male  24.0  ANDROID   \n",
       "\n",
       "  cpe_type_name country          city age_segment traffic_segment  \\\n",
       "0    SMARTPHONE  Россия           Уфа    05 45-54          04 1-5   \n",
       "1    SMARTPHONE  Россия         Киров    05 45-54          04 1-5   \n",
       "2    SMARTPHONE  Россия        Москва    06 55-64        08 20-25   \n",
       "3    SMARTPHONE  Россия  РостовнаДону    04 35-44        03 0.1-1   \n",
       "4    SMARTPHONE  Россия        Рязань    02 16-24         05 5-10   \n",
       "\n",
       "  lifetime_segment  nps_score  nps_group  \n",
       "0           08 36+         10  promoters  \n",
       "1           08 36+         10  promoters  \n",
       "2         06 13-24         10  promoters  \n",
       "3           08 36+         10  promoters  \n",
       "4           08 36+         10  promoters  "
      ]
     },
     "execution_count": 9,
     "metadata": {},
     "output_type": "execute_result"
    }
   ],
   "source": [
    "data = pd.read_sql(query, engine)\n",
    "data.head(5)"
   ]
  },
  {
   "cell_type": "code",
   "execution_count": 10,
   "id": "0ff3eb03",
   "metadata": {},
   "outputs": [],
   "source": [
    "data.to_csv('telecomm_csi_tableau.csv', index=False)"
   ]
  },
  {
   "cell_type": "code",
   "execution_count": null,
   "id": "2877808b",
   "metadata": {},
   "outputs": [],
   "source": []
  }
 ],
 "metadata": {
  "ExecuteTimeLog": [
   {
    "duration": 752,
    "start_time": "2021-10-03T17:40:52.731Z"
   },
   {
    "duration": 20,
    "start_time": "2021-10-03T17:40:53.486Z"
   },
   {
    "duration": 4,
    "start_time": "2021-10-03T17:41:04.638Z"
   },
   {
    "duration": 461,
    "start_time": "2021-10-03T17:41:04.912Z"
   },
   {
    "duration": 284,
    "start_time": "2021-10-03T17:41:05.376Z"
   },
   {
    "duration": 574,
    "start_time": "2021-10-06T07:55:05.029Z"
   },
   {
    "duration": 6,
    "start_time": "2021-10-06T07:55:05.605Z"
   },
   {
    "duration": 3,
    "start_time": "2021-10-06T07:55:14.685Z"
   },
   {
    "duration": 406,
    "start_time": "2021-10-06T07:55:15.522Z"
   },
   {
    "duration": 67,
    "start_time": "2021-10-06T07:55:15.929Z"
   },
   {
    "duration": 913,
    "start_time": "2021-11-08T19:19:36.477Z"
   },
   {
    "duration": 10,
    "start_time": "2021-11-08T19:19:37.393Z"
   },
   {
    "duration": 4,
    "start_time": "2021-11-08T19:19:39.873Z"
   },
   {
    "duration": 519,
    "start_time": "2021-11-08T19:19:40.562Z"
   },
   {
    "duration": 385,
    "start_time": "2021-11-08T19:19:41.650Z"
   },
   {
    "duration": 131,
    "start_time": "2021-11-08T19:34:57.177Z"
   },
   {
    "duration": 3,
    "start_time": "2021-11-08T19:37:53.698Z"
   },
   {
    "duration": 740,
    "start_time": "2021-11-08T19:37:55.911Z"
   },
   {
    "duration": 3,
    "start_time": "2021-11-08T19:38:50.248Z"
   },
   {
    "duration": 3,
    "start_time": "2021-11-08T19:38:54.396Z"
   },
   {
    "duration": 512,
    "start_time": "2021-11-08T19:38:55.375Z"
   },
   {
    "duration": 4,
    "start_time": "2021-11-08T19:41:04.846Z"
   },
   {
    "duration": 5884,
    "start_time": "2021-11-08T19:41:28.413Z"
   },
   {
    "duration": 7977,
    "start_time": "2021-11-08T19:46:19.774Z"
   },
   {
    "duration": 4,
    "start_time": "2021-11-10T09:56:51.144Z"
   },
   {
    "duration": 222,
    "start_time": "2021-11-10T09:56:53.848Z"
   },
   {
    "duration": 678,
    "start_time": "2021-11-10T09:57:17.915Z"
   },
   {
    "duration": 7,
    "start_time": "2021-11-10T09:57:18.595Z"
   },
   {
    "duration": 2,
    "start_time": "2021-11-10T09:57:21.060Z"
   },
   {
    "duration": 496,
    "start_time": "2021-11-10T09:57:21.853Z"
   },
   {
    "duration": 3,
    "start_time": "2021-11-10T09:57:22.761Z"
   },
   {
    "duration": 3,
    "start_time": "2021-11-10T09:57:24.107Z"
   },
   {
    "duration": 661,
    "start_time": "2021-11-10T09:57:25.547Z"
   },
   {
    "duration": 601,
    "start_time": "2021-11-10T09:57:39.861Z"
   },
   {
    "duration": 6,
    "start_time": "2021-11-10T09:57:40.464Z"
   },
   {
    "duration": 3,
    "start_time": "2021-11-10T09:57:40.472Z"
   },
   {
    "duration": 442,
    "start_time": "2021-11-10T09:57:40.476Z"
   },
   {
    "duration": 2,
    "start_time": "2021-11-10T09:57:40.920Z"
   },
   {
    "duration": 14,
    "start_time": "2021-11-10T09:57:40.923Z"
   },
   {
    "duration": 672,
    "start_time": "2021-11-10T09:57:40.938Z"
   },
   {
    "duration": -127,
    "start_time": "2021-11-10T09:57:41.739Z"
   },
   {
    "duration": 2,
    "start_time": "2021-11-10T10:01:44.852Z"
   },
   {
    "duration": 655,
    "start_time": "2021-11-10T10:01:48.505Z"
   },
   {
    "duration": 3,
    "start_time": "2021-11-10T10:03:59.113Z"
   },
   {
    "duration": 622,
    "start_time": "2021-11-10T10:04:00.163Z"
   },
   {
    "duration": 3,
    "start_time": "2021-11-10T10:05:24.040Z"
   },
   {
    "duration": 691,
    "start_time": "2021-11-10T10:05:25.534Z"
   },
   {
    "duration": 3,
    "start_time": "2021-11-10T10:06:59.560Z"
   },
   {
    "duration": 629,
    "start_time": "2021-11-10T10:07:01.051Z"
   },
   {
    "duration": 3,
    "start_time": "2021-11-10T10:07:25.322Z"
   },
   {
    "duration": 896,
    "start_time": "2021-11-10T10:07:26.204Z"
   },
   {
    "duration": 3,
    "start_time": "2021-11-10T10:09:16.294Z"
   },
   {
    "duration": 662,
    "start_time": "2021-11-10T10:09:17.595Z"
   },
   {
    "duration": 2,
    "start_time": "2021-11-10T10:10:20.016Z"
   },
   {
    "duration": 761,
    "start_time": "2021-11-10T10:10:20.864Z"
   },
   {
    "duration": 3,
    "start_time": "2021-11-10T10:11:47.157Z"
   },
   {
    "duration": 610,
    "start_time": "2021-11-10T10:11:48.187Z"
   },
   {
    "duration": 2,
    "start_time": "2021-11-10T10:13:25.676Z"
   },
   {
    "duration": 952,
    "start_time": "2021-11-10T10:13:26.904Z"
   },
   {
    "duration": 3,
    "start_time": "2021-11-10T10:15:30.288Z"
   },
   {
    "duration": 3834,
    "start_time": "2021-11-10T10:15:32.516Z"
   },
   {
    "duration": 3,
    "start_time": "2021-11-10T10:17:16.027Z"
   },
   {
    "duration": 684,
    "start_time": "2021-11-10T10:17:17.146Z"
   },
   {
    "duration": 3,
    "start_time": "2021-11-10T10:17:39.944Z"
   },
   {
    "duration": 3933,
    "start_time": "2021-11-10T10:17:40.910Z"
   },
   {
    "duration": 2,
    "start_time": "2021-11-10T10:20:27.020Z"
   },
   {
    "duration": 627,
    "start_time": "2021-11-10T10:20:28.307Z"
   },
   {
    "duration": 2,
    "start_time": "2021-11-10T10:21:03.926Z"
   },
   {
    "duration": 623,
    "start_time": "2021-11-10T10:21:04.727Z"
   },
   {
    "duration": 3,
    "start_time": "2021-11-10T10:21:30.598Z"
   },
   {
    "duration": 746,
    "start_time": "2021-11-10T10:21:33.485Z"
   },
   {
    "duration": 3,
    "start_time": "2021-11-10T10:21:50.463Z"
   },
   {
    "duration": 4221,
    "start_time": "2021-11-10T10:21:51.199Z"
   },
   {
    "duration": 3,
    "start_time": "2021-11-10T10:23:10.912Z"
   },
   {
    "duration": 4317,
    "start_time": "2021-11-10T10:23:13.512Z"
   },
   {
    "duration": 6247,
    "start_time": "2021-11-10T10:23:17.831Z"
   },
   {
    "duration": 812,
    "start_time": "2021-11-12T07:13:23.316Z"
   },
   {
    "duration": 23,
    "start_time": "2021-11-12T07:13:24.131Z"
   },
   {
    "duration": 4,
    "start_time": "2021-11-12T07:13:24.157Z"
   },
   {
    "duration": 398,
    "start_time": "2021-11-12T07:13:24.163Z"
   },
   {
    "duration": 3,
    "start_time": "2021-11-12T07:13:24.564Z"
   },
   {
    "duration": 3810,
    "start_time": "2021-11-12T07:13:24.569Z"
   },
   {
    "duration": 3,
    "start_time": "2021-11-12T07:13:28.382Z"
   },
   {
    "duration": 8,
    "start_time": "2021-11-12T07:13:28.388Z"
   },
   {
    "duration": 6200,
    "start_time": "2021-11-12T07:13:28.398Z"
   },
   {
    "duration": 7596,
    "start_time": "2021-11-12T07:13:34.600Z"
   }
  ],
  "kernelspec": {
   "display_name": "Python 3 (ipykernel)",
   "language": "python",
   "name": "python3"
  },
  "language_info": {
   "codemirror_mode": {
    "name": "ipython",
    "version": 3
   },
   "file_extension": ".py",
   "mimetype": "text/x-python",
   "name": "python",
   "nbconvert_exporter": "python",
   "pygments_lexer": "ipython3",
   "version": "3.9.5"
  },
  "toc": {
   "base_numbering": 1,
   "nav_menu": {},
   "number_sections": true,
   "sideBar": true,
   "skip_h1_title": true,
   "title_cell": "Table of Contents",
   "title_sidebar": "Contents",
   "toc_cell": false,
   "toc_position": {},
   "toc_section_display": true,
   "toc_window_display": false
  }
 },
 "nbformat": 4,
 "nbformat_minor": 5
}
